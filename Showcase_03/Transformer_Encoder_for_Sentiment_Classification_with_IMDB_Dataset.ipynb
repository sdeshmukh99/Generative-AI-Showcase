{
  "nbformat": 4,
  "nbformat_minor": 0,
  "metadata": {
    "colab": {
      "provenance": [],
      "gpuType": "T4",
      "toc_visible": true,
      "include_colab_link": true
    },
    "kernelspec": {
      "name": "python3",
      "display_name": "Python 3"
    },
    "language_info": {
      "name": "python"
    },
    "accelerator": "GPU",
    "widgets": {
      "application/vnd.jupyter.widget-state+json": {
        "496a0727a25641ecbab5385d9787b99a": {
          "model_module": "@jupyter-widgets/controls",
          "model_name": "HBoxModel",
          "model_module_version": "1.5.0",
          "state": {
            "_dom_classes": [],
            "_model_module": "@jupyter-widgets/controls",
            "_model_module_version": "1.5.0",
            "_model_name": "HBoxModel",
            "_view_count": null,
            "_view_module": "@jupyter-widgets/controls",
            "_view_module_version": "1.5.0",
            "_view_name": "HBoxView",
            "box_style": "",
            "children": [
              "IPY_MODEL_a637bc0ba5044e5f989b2df89a05a16d",
              "IPY_MODEL_5072bf9f112e4d37b46c0819701d9a0f",
              "IPY_MODEL_b150066c84f94fbe958056ee338fc4bf"
            ],
            "layout": "IPY_MODEL_574585949eeb40feae107878285d22cf"
          }
        },
        "a637bc0ba5044e5f989b2df89a05a16d": {
          "model_module": "@jupyter-widgets/controls",
          "model_name": "HTMLModel",
          "model_module_version": "1.5.0",
          "state": {
            "_dom_classes": [],
            "_model_module": "@jupyter-widgets/controls",
            "_model_module_version": "1.5.0",
            "_model_name": "HTMLModel",
            "_view_count": null,
            "_view_module": "@jupyter-widgets/controls",
            "_view_module_version": "1.5.0",
            "_view_name": "HTMLView",
            "description": "",
            "description_tooltip": null,
            "layout": "IPY_MODEL_94bf7d1e020e4f4697c617f3ee088c08",
            "placeholder": "​",
            "style": "IPY_MODEL_901e63baac494936a06c996873d0485a",
            "value": "Map: 100%"
          }
        },
        "5072bf9f112e4d37b46c0819701d9a0f": {
          "model_module": "@jupyter-widgets/controls",
          "model_name": "FloatProgressModel",
          "model_module_version": "1.5.0",
          "state": {
            "_dom_classes": [],
            "_model_module": "@jupyter-widgets/controls",
            "_model_module_version": "1.5.0",
            "_model_name": "FloatProgressModel",
            "_view_count": null,
            "_view_module": "@jupyter-widgets/controls",
            "_view_module_version": "1.5.0",
            "_view_name": "ProgressView",
            "bar_style": "success",
            "description": "",
            "description_tooltip": null,
            "layout": "IPY_MODEL_0eb56c5a22414eeeab28c82535884ed9",
            "max": 872,
            "min": 0,
            "orientation": "horizontal",
            "style": "IPY_MODEL_04485d467e9d4f2c8242a07974b82718",
            "value": 872
          }
        },
        "b150066c84f94fbe958056ee338fc4bf": {
          "model_module": "@jupyter-widgets/controls",
          "model_name": "HTMLModel",
          "model_module_version": "1.5.0",
          "state": {
            "_dom_classes": [],
            "_model_module": "@jupyter-widgets/controls",
            "_model_module_version": "1.5.0",
            "_model_name": "HTMLModel",
            "_view_count": null,
            "_view_module": "@jupyter-widgets/controls",
            "_view_module_version": "1.5.0",
            "_view_name": "HTMLView",
            "description": "",
            "description_tooltip": null,
            "layout": "IPY_MODEL_0de54cef2acf42aaacf7f11394617dcd",
            "placeholder": "​",
            "style": "IPY_MODEL_e5775001f8994c0598224256bfc68f19",
            "value": " 872/872 [00:00&lt;00:00, 7644.77 examples/s]"
          }
        },
        "574585949eeb40feae107878285d22cf": {
          "model_module": "@jupyter-widgets/base",
          "model_name": "LayoutModel",
          "model_module_version": "1.2.0",
          "state": {
            "_model_module": "@jupyter-widgets/base",
            "_model_module_version": "1.2.0",
            "_model_name": "LayoutModel",
            "_view_count": null,
            "_view_module": "@jupyter-widgets/base",
            "_view_module_version": "1.2.0",
            "_view_name": "LayoutView",
            "align_content": null,
            "align_items": null,
            "align_self": null,
            "border": null,
            "bottom": null,
            "display": null,
            "flex": null,
            "flex_flow": null,
            "grid_area": null,
            "grid_auto_columns": null,
            "grid_auto_flow": null,
            "grid_auto_rows": null,
            "grid_column": null,
            "grid_gap": null,
            "grid_row": null,
            "grid_template_areas": null,
            "grid_template_columns": null,
            "grid_template_rows": null,
            "height": null,
            "justify_content": null,
            "justify_items": null,
            "left": null,
            "margin": null,
            "max_height": null,
            "max_width": null,
            "min_height": null,
            "min_width": null,
            "object_fit": null,
            "object_position": null,
            "order": null,
            "overflow": null,
            "overflow_x": null,
            "overflow_y": null,
            "padding": null,
            "right": null,
            "top": null,
            "visibility": null,
            "width": null
          }
        },
        "94bf7d1e020e4f4697c617f3ee088c08": {
          "model_module": "@jupyter-widgets/base",
          "model_name": "LayoutModel",
          "model_module_version": "1.2.0",
          "state": {
            "_model_module": "@jupyter-widgets/base",
            "_model_module_version": "1.2.0",
            "_model_name": "LayoutModel",
            "_view_count": null,
            "_view_module": "@jupyter-widgets/base",
            "_view_module_version": "1.2.0",
            "_view_name": "LayoutView",
            "align_content": null,
            "align_items": null,
            "align_self": null,
            "border": null,
            "bottom": null,
            "display": null,
            "flex": null,
            "flex_flow": null,
            "grid_area": null,
            "grid_auto_columns": null,
            "grid_auto_flow": null,
            "grid_auto_rows": null,
            "grid_column": null,
            "grid_gap": null,
            "grid_row": null,
            "grid_template_areas": null,
            "grid_template_columns": null,
            "grid_template_rows": null,
            "height": null,
            "justify_content": null,
            "justify_items": null,
            "left": null,
            "margin": null,
            "max_height": null,
            "max_width": null,
            "min_height": null,
            "min_width": null,
            "object_fit": null,
            "object_position": null,
            "order": null,
            "overflow": null,
            "overflow_x": null,
            "overflow_y": null,
            "padding": null,
            "right": null,
            "top": null,
            "visibility": null,
            "width": null
          }
        },
        "901e63baac494936a06c996873d0485a": {
          "model_module": "@jupyter-widgets/controls",
          "model_name": "DescriptionStyleModel",
          "model_module_version": "1.5.0",
          "state": {
            "_model_module": "@jupyter-widgets/controls",
            "_model_module_version": "1.5.0",
            "_model_name": "DescriptionStyleModel",
            "_view_count": null,
            "_view_module": "@jupyter-widgets/base",
            "_view_module_version": "1.2.0",
            "_view_name": "StyleView",
            "description_width": ""
          }
        },
        "0eb56c5a22414eeeab28c82535884ed9": {
          "model_module": "@jupyter-widgets/base",
          "model_name": "LayoutModel",
          "model_module_version": "1.2.0",
          "state": {
            "_model_module": "@jupyter-widgets/base",
            "_model_module_version": "1.2.0",
            "_model_name": "LayoutModel",
            "_view_count": null,
            "_view_module": "@jupyter-widgets/base",
            "_view_module_version": "1.2.0",
            "_view_name": "LayoutView",
            "align_content": null,
            "align_items": null,
            "align_self": null,
            "border": null,
            "bottom": null,
            "display": null,
            "flex": null,
            "flex_flow": null,
            "grid_area": null,
            "grid_auto_columns": null,
            "grid_auto_flow": null,
            "grid_auto_rows": null,
            "grid_column": null,
            "grid_gap": null,
            "grid_row": null,
            "grid_template_areas": null,
            "grid_template_columns": null,
            "grid_template_rows": null,
            "height": null,
            "justify_content": null,
            "justify_items": null,
            "left": null,
            "margin": null,
            "max_height": null,
            "max_width": null,
            "min_height": null,
            "min_width": null,
            "object_fit": null,
            "object_position": null,
            "order": null,
            "overflow": null,
            "overflow_x": null,
            "overflow_y": null,
            "padding": null,
            "right": null,
            "top": null,
            "visibility": null,
            "width": null
          }
        },
        "04485d467e9d4f2c8242a07974b82718": {
          "model_module": "@jupyter-widgets/controls",
          "model_name": "ProgressStyleModel",
          "model_module_version": "1.5.0",
          "state": {
            "_model_module": "@jupyter-widgets/controls",
            "_model_module_version": "1.5.0",
            "_model_name": "ProgressStyleModel",
            "_view_count": null,
            "_view_module": "@jupyter-widgets/base",
            "_view_module_version": "1.2.0",
            "_view_name": "StyleView",
            "bar_color": null,
            "description_width": ""
          }
        },
        "0de54cef2acf42aaacf7f11394617dcd": {
          "model_module": "@jupyter-widgets/base",
          "model_name": "LayoutModel",
          "model_module_version": "1.2.0",
          "state": {
            "_model_module": "@jupyter-widgets/base",
            "_model_module_version": "1.2.0",
            "_model_name": "LayoutModel",
            "_view_count": null,
            "_view_module": "@jupyter-widgets/base",
            "_view_module_version": "1.2.0",
            "_view_name": "LayoutView",
            "align_content": null,
            "align_items": null,
            "align_self": null,
            "border": null,
            "bottom": null,
            "display": null,
            "flex": null,
            "flex_flow": null,
            "grid_area": null,
            "grid_auto_columns": null,
            "grid_auto_flow": null,
            "grid_auto_rows": null,
            "grid_column": null,
            "grid_gap": null,
            "grid_row": null,
            "grid_template_areas": null,
            "grid_template_columns": null,
            "grid_template_rows": null,
            "height": null,
            "justify_content": null,
            "justify_items": null,
            "left": null,
            "margin": null,
            "max_height": null,
            "max_width": null,
            "min_height": null,
            "min_width": null,
            "object_fit": null,
            "object_position": null,
            "order": null,
            "overflow": null,
            "overflow_x": null,
            "overflow_y": null,
            "padding": null,
            "right": null,
            "top": null,
            "visibility": null,
            "width": null
          }
        },
        "e5775001f8994c0598224256bfc68f19": {
          "model_module": "@jupyter-widgets/controls",
          "model_name": "DescriptionStyleModel",
          "model_module_version": "1.5.0",
          "state": {
            "_model_module": "@jupyter-widgets/controls",
            "_model_module_version": "1.5.0",
            "_model_name": "DescriptionStyleModel",
            "_view_count": null,
            "_view_module": "@jupyter-widgets/base",
            "_view_module_version": "1.2.0",
            "_view_name": "StyleView",
            "description_width": ""
          }
        }
      }
    }
  },
  "cells": [
    {
      "cell_type": "markdown",
      "metadata": {
        "id": "view-in-github",
        "colab_type": "text"
      },
      "source": [
        "<a href=\"https://colab.research.google.com/github/sdeshmukh99/Generative-AI-Showcase/blob/main/Showcase_03/Transformer_Encoder_for_Sentiment_Classification_with_IMDB_Dataset.ipynb\" target=\"_parent\"><img src=\"https://colab.research.google.com/assets/colab-badge.svg\" alt=\"Open In Colab\"/></a>"
      ]
    },
    {
      "cell_type": "markdown",
      "source": [
        "# 1: Importing packages"
      ],
      "metadata": {
        "id": "0bcpjWqaYpJO"
      }
    },
    {
      "cell_type": "code",
      "source": [
        "# Install the required packages: Hugging Face Transformers and Datasets.\n",
        "!pip install transformers datasets\n"
      ],
      "metadata": {
        "id": "5wm9VC8Q3I0k",
        "colab": {
          "base_uri": "https://localhost:8080/"
        },
        "outputId": "37a3be30-6ef9-4cbf-c92c-2a227e9bce2b"
      },
      "execution_count": 60,
      "outputs": [
        {
          "output_type": "stream",
          "name": "stdout",
          "text": [
            "Requirement already satisfied: transformers in /usr/local/lib/python3.10/dist-packages (4.44.2)\n",
            "Requirement already satisfied: datasets in /usr/local/lib/python3.10/dist-packages (3.0.1)\n",
            "Requirement already satisfied: filelock in /usr/local/lib/python3.10/dist-packages (from transformers) (3.16.1)\n",
            "Requirement already satisfied: huggingface-hub<1.0,>=0.23.2 in /usr/local/lib/python3.10/dist-packages (from transformers) (0.24.7)\n",
            "Requirement already satisfied: numpy>=1.17 in /usr/local/lib/python3.10/dist-packages (from transformers) (1.26.4)\n",
            "Requirement already satisfied: packaging>=20.0 in /usr/local/lib/python3.10/dist-packages (from transformers) (24.1)\n",
            "Requirement already satisfied: pyyaml>=5.1 in /usr/local/lib/python3.10/dist-packages (from transformers) (6.0.2)\n",
            "Requirement already satisfied: regex!=2019.12.17 in /usr/local/lib/python3.10/dist-packages (from transformers) (2024.9.11)\n",
            "Requirement already satisfied: requests in /usr/local/lib/python3.10/dist-packages (from transformers) (2.32.3)\n",
            "Requirement already satisfied: safetensors>=0.4.1 in /usr/local/lib/python3.10/dist-packages (from transformers) (0.4.5)\n",
            "Requirement already satisfied: tokenizers<0.20,>=0.19 in /usr/local/lib/python3.10/dist-packages (from transformers) (0.19.1)\n",
            "Requirement already satisfied: tqdm>=4.27 in /usr/local/lib/python3.10/dist-packages (from transformers) (4.66.5)\n",
            "Requirement already satisfied: pyarrow>=15.0.0 in /usr/local/lib/python3.10/dist-packages (from datasets) (16.1.0)\n",
            "Requirement already satisfied: dill<0.3.9,>=0.3.0 in /usr/local/lib/python3.10/dist-packages (from datasets) (0.3.8)\n",
            "Requirement already satisfied: pandas in /usr/local/lib/python3.10/dist-packages (from datasets) (2.2.2)\n",
            "Requirement already satisfied: xxhash in /usr/local/lib/python3.10/dist-packages (from datasets) (3.5.0)\n",
            "Requirement already satisfied: multiprocess in /usr/local/lib/python3.10/dist-packages (from datasets) (0.70.16)\n",
            "Requirement already satisfied: fsspec<=2024.6.1,>=2023.1.0 in /usr/local/lib/python3.10/dist-packages (from fsspec[http]<=2024.6.1,>=2023.1.0->datasets) (2024.6.1)\n",
            "Requirement already satisfied: aiohttp in /usr/local/lib/python3.10/dist-packages (from datasets) (3.10.8)\n",
            "Requirement already satisfied: aiohappyeyeballs>=2.3.0 in /usr/local/lib/python3.10/dist-packages (from aiohttp->datasets) (2.4.3)\n",
            "Requirement already satisfied: aiosignal>=1.1.2 in /usr/local/lib/python3.10/dist-packages (from aiohttp->datasets) (1.3.1)\n",
            "Requirement already satisfied: attrs>=17.3.0 in /usr/local/lib/python3.10/dist-packages (from aiohttp->datasets) (24.2.0)\n",
            "Requirement already satisfied: frozenlist>=1.1.1 in /usr/local/lib/python3.10/dist-packages (from aiohttp->datasets) (1.4.1)\n",
            "Requirement already satisfied: multidict<7.0,>=4.5 in /usr/local/lib/python3.10/dist-packages (from aiohttp->datasets) (6.1.0)\n",
            "Requirement already satisfied: yarl<2.0,>=1.12.0 in /usr/local/lib/python3.10/dist-packages (from aiohttp->datasets) (1.13.1)\n",
            "Requirement already satisfied: async-timeout<5.0,>=4.0 in /usr/local/lib/python3.10/dist-packages (from aiohttp->datasets) (4.0.3)\n",
            "Requirement already satisfied: typing-extensions>=3.7.4.3 in /usr/local/lib/python3.10/dist-packages (from huggingface-hub<1.0,>=0.23.2->transformers) (4.12.2)\n",
            "Requirement already satisfied: charset-normalizer<4,>=2 in /usr/local/lib/python3.10/dist-packages (from requests->transformers) (3.3.2)\n",
            "Requirement already satisfied: idna<4,>=2.5 in /usr/local/lib/python3.10/dist-packages (from requests->transformers) (3.10)\n",
            "Requirement already satisfied: urllib3<3,>=1.21.1 in /usr/local/lib/python3.10/dist-packages (from requests->transformers) (2.2.3)\n",
            "Requirement already satisfied: certifi>=2017.4.17 in /usr/local/lib/python3.10/dist-packages (from requests->transformers) (2024.8.30)\n",
            "Requirement already satisfied: python-dateutil>=2.8.2 in /usr/local/lib/python3.10/dist-packages (from pandas->datasets) (2.8.2)\n",
            "Requirement already satisfied: pytz>=2020.1 in /usr/local/lib/python3.10/dist-packages (from pandas->datasets) (2024.2)\n",
            "Requirement already satisfied: tzdata>=2022.7 in /usr/local/lib/python3.10/dist-packages (from pandas->datasets) (2024.2)\n",
            "Requirement already satisfied: six>=1.5 in /usr/local/lib/python3.10/dist-packages (from python-dateutil>=2.8.2->pandas->datasets) (1.16.0)\n"
          ]
        }
      ]
    },
    {
      "cell_type": "code",
      "source": [
        "# Core mathematical functions, including logarithms and square roots\n",
        "import math\n",
        "\n",
        "# PyTorch libraries to build neural networks and layers\n",
        "import torch\n",
        "import torch.nn as nn\n",
        "import torch.nn.functional as F\n",
        "\n",
        "# Utilities for handling datasets in PyTorch\n",
        "from torch.utils.data import Dataset\n",
        "\n",
        "# Numpy for handling array-like data\n",
        "import numpy as np\n",
        "\n",
        "# Matplotlib for plotting graphs and visualizing data\n",
        "import matplotlib.pyplot as plt\n",
        "\n",
        "# Hugging Face libraries for handling pretrained tokenizers and datasets\n",
        "from transformers import AutoTokenizer, DataCollatorWithPadding\n",
        "from datasets import load_dataset\n",
        "\n",
        "# PyTorch's DataLoader, which helps to load data in batches\n",
        "from torch.utils.data import DataLoader\n",
        "\n",
        "# For getting current time, useful in measuring performance and duration\n",
        "from datetime import datetime\n",
        "\n",
        "# Pretty-printing to make the outputs more readable\n",
        "from pprint import pprint\n",
        "\n",
        "# PCA (Principal Component Analysis) for dimensionality reduction\n",
        "from sklearn.decomposition import PCA\n",
        "\n",
        "# StandardScaler for scaling input data before applying PCA\n",
        "from sklearn.preprocessing import StandardScaler\n",
        "\n",
        "# Pandas for data manipulation, particularly with DataFrames\n",
        "import pandas as pd\n",
        "\n",
        "# WordCloud for creating word cloud visualizations of text data\n",
        "from wordcloud import WordCloud\n",
        "\n"
      ],
      "metadata": {
        "id": "FLUqplcIlVdk"
      },
      "execution_count": 61,
      "outputs": []
    },
    {
      "cell_type": "markdown",
      "metadata": {
        "id": "gHPvqzUsYTTe"
      },
      "source": [
        "# 2: Loading IMdB Dataset"
      ]
    },
    {
      "cell_type": "code",
      "source": [
        "# Load the IMDB dataset\n",
        "imdb_dataset = load_dataset(\"imdb\")\n",
        "\n",
        "# Check the dataset structure\n",
        "print(imdb_dataset)\n"
      ],
      "metadata": {
        "colab": {
          "base_uri": "https://localhost:8080/"
        },
        "id": "tdNcxhpEpWzS",
        "outputId": "7961daac-43a3-442e-c963-a8dc1812839e"
      },
      "execution_count": 62,
      "outputs": [
        {
          "output_type": "stream",
          "name": "stdout",
          "text": [
            "DatasetDict({\n",
            "    train: Dataset({\n",
            "        features: ['text', 'label'],\n",
            "        num_rows: 25000\n",
            "    })\n",
            "    test: Dataset({\n",
            "        features: ['text', 'label'],\n",
            "        num_rows: 25000\n",
            "    })\n",
            "    unsupervised: Dataset({\n",
            "        features: ['text', 'label'],\n",
            "        num_rows: 50000\n",
            "    })\n",
            "})\n"
          ]
        }
      ]
    },
    {
      "cell_type": "code",
      "execution_count": 63,
      "metadata": {
        "id": "nNlcrwNl3xAG"
      },
      "outputs": [],
      "source": [
        "from IPython import get_ipython\n",
        "\n",
        "# Get the IPython environment to run setup commands\n",
        "ipython = get_ipython()\n",
        "\n",
        "# Setup function to download IMDB sentiment analysis data for later use\n",
        "def setup():\n",
        "    ipython.magic(\"sx curl -O https://ai.stanford.edu/~amaas/data/sentiment/aclImdb_v1.tar.gz\")\n",
        "    ipython.magic(\"sx tar -xvzf aclImdb_v1.tar.gz\")\n",
        "    from IPython.display import HTML, display\n",
        "    display(HTML('<script src=\"https://dashboard.talentsprint.com/aiml/record_ip.html?traineeId={0}&recordId={1}\"></script>'.format(getId(),submission_id)))\n",
        "    print(\"Setup completed successfully\")\n",
        "    return\n"
      ]
    },
    {
      "cell_type": "markdown",
      "source": [
        "# 3: Encoder Transformer\n",
        "This section describes how to build an encoder for a transformer. The encoder is a part of the transformer model that processes input data and creates meaningful internal representations of the data."
      ],
      "metadata": {
        "id": "TcPgAXqQ1IEI"
      }
    },
    {
      "cell_type": "markdown",
      "source": [
        "# 3A: Designing the Encoder"
      ],
      "metadata": {
        "id": "VT1uPdfA2xGC"
      }
    },
    {
      "cell_type": "markdown",
      "source": [
        "### 3A1: Defining Multi Head Attention\n",
        "Multi-head attention allows the model to look at different parts of the input sequence simultaneously. This helps the model understand the relationships between different words or tokens in the input.\n",
        "\n",
        "Explanation:\n",
        "- Multi-head attention: It allows the model to focus on different parts of the input simultaneously, by splitting the input into n_heads and processing them in parallel.\n",
        "- Query, Key, and Value: The input is transformed into query, key, and value matrices, which are then used to calculate the attention.\n",
        "- Attention score calculation: It is done by taking a dot product between query and key matrices, scaling it by the square root of d_k (to stabilize training), and applying softmax.\n",
        "- Masking: If a mask is provided, it prevents attention on certain tokens (like padding tokens) by setting their attention scores to -inf so they don't affect the output."
      ],
      "metadata": {
        "id": "LqAYuBnU44de"
      }
    },
    {
      "cell_type": "code",
      "source": [
        "class MultiHeadAttention(nn.Module):\n",
        "    def __init__(self, d_k, d_model, n_heads):\n",
        "        super().__init__()\n",
        "        # Number of heads and key dimension\n",
        "        self.d_k = d_k\n",
        "        self.n_heads = n_heads\n",
        "\n",
        "        # Linear layers to project input into key, query, and value spaces\n",
        "        self.key = nn.Linear(d_model, d_k * n_heads)\n",
        "        self.query = nn.Linear(d_model, d_k * n_heads)\n",
        "        self.value = nn.Linear(d_model, d_k * n_heads)\n",
        "\n",
        "        # Final linear layer to combine heads\n",
        "        self.fc = nn.Linear(d_k * n_heads, d_model)\n",
        "\n",
        "    def forward(self, q, k, v, mask=None):\n",
        "        # Compute query, key, and value projections\n",
        "        q = self.query(q)  # Shape: (batch_size, seq_len, h * d_k)\n",
        "        k = self.key(k)\n",
        "        v = self.value(v)\n",
        "\n",
        "        N = q.shape[0]  # Batch size\n",
        "        T = q.shape[1]  # Sequence length\n",
        "\n",
        "        # Reshape into (batch_size, n_heads, seq_len, d_k) for multi-head attention\n",
        "        q = q.view(N, T, self.n_heads, self.d_k).transpose(1, 2)\n",
        "        k = k.view(N, T, self.n_heads, self.d_k).transpose(1, 2)\n",
        "        v = v.view(N, T, self.n_heads, self.d_k).transpose(1, 2)\n",
        "\n",
        "        # Calculate attention scores using scaled dot-product\n",
        "        attn_scores = q @ k.transpose(-2, -1) / math.sqrt(self.d_k)  # Shape: (batch_size, n_heads, seq_len, seq_len)\n",
        "\n",
        "        # Apply mask if provided, masking certain positions with -infinity\n",
        "        if mask is not None:\n",
        "            mask = mask.unsqueeze(1).unsqueeze(2)  # Adjust mask shape for broadcasting\n",
        "            attn_scores = attn_scores.masked_fill(mask == 0, float('-inf'))\n",
        "\n",
        "        # Compute attention weights (softmax of attention scores)\n",
        "        attn_weights = F.softmax(attn_scores, dim=-1)\n",
        "\n",
        "        # Multiply attention weights by values to get attention output\n",
        "        A = attn_weights @ v  # Shape: (batch_size, n_heads, seq_len, d_k)\n",
        "\n",
        "        # Reshape back to (batch_size, seq_len, h * d_k) before final linear layer\n",
        "        A = A.transpose(1, 2).contiguous().view(N, T, self.d_k * self.n_heads)\n",
        "\n",
        "        # Apply final linear layer to combine multi-heads\n",
        "        return self.fc(A)\n",
        "\n"
      ],
      "metadata": {
        "id": "mpwJtf-I4Uky"
      },
      "execution_count": 64,
      "outputs": []
    },
    {
      "cell_type": "markdown",
      "source": [
        "### 3A2: Designing Transformer Block\n",
        "Each transformer block consists of multi-head attention, followed by a feed-forward neural network (FFN), and layer normalization.\n",
        "\n",
        "Explanation:\n",
        "- Layer Normalization (ln1, ln2): Stabilizes training by normalizing the output of each layer.\n",
        "- Multi-head Attention (mha): The core component that lets the model attend to different parts of the input sequence.\n",
        "- Feed-forward Neural Network (ann): A fully connected network applied after attention, with two linear layers and GELU activation. It increases the dimensionality by 4 times and then reduces it back to the original size.\n",
        "- Dropout: Regularization technique to prevent overfitting by randomly dropping certain connections during training.\n",
        "- Residual Connections: Adds the original input back after multi-head attention and feed-forward layers to maintain gradient flow and avoid vanishing gradients.\n",
        "\n",
        "This block is a fundamental unit in transformers that combines attention with a feed-forward network and normalization."
      ],
      "metadata": {
        "id": "dmLespmb39pi"
      }
    },
    {
      "cell_type": "code",
      "source": [
        "class TransformerBlock(nn.Module):\n",
        "    def __init__(self, d_k, d_model, n_heads, dropout_prob=0.1):\n",
        "        super().__init__()\n",
        "\n",
        "        # Layer normalization helps to stabilize and accelerate training\n",
        "        self.ln1 = nn.LayerNorm(d_model)\n",
        "        self.ln2 = nn.LayerNorm(d_model)\n",
        "\n",
        "        # Multi-head attention mechanism\n",
        "        self.mha = MultiHeadAttention(d_k, d_model, n_heads)\n",
        "\n",
        "        # Feed-forward network with GELU activation (applied after attention)\n",
        "        self.ann = nn.Sequential(\n",
        "            nn.Linear(d_model, d_model * 4),  # Expands dimensionality\n",
        "            nn.GELU(),  # Activation function\n",
        "            nn.Linear(d_model * 4, d_model),  # Projects back to original dimension\n",
        "            nn.Dropout(dropout_prob),  # Applies dropout for regularization\n",
        "        )\n",
        "\n",
        "        # Dropout to prevent overfitting\n",
        "        self.dropout = nn.Dropout(p=dropout_prob)\n",
        "\n",
        "    def forward(self, x, mask=None):\n",
        "        # Step 1: Apply multi-head attention followed by layer normalization\n",
        "        x = self.ln1(x + self.mha(x, x, x, mask))\n",
        "\n",
        "        # Step 2: Apply feed-forward network (FFN) followed by layer normalization\n",
        "        x = self.ln2(x + self.ann(x))\n",
        "\n",
        "        # Step 3: Apply dropout to the output\n",
        "        x = self.dropout(x)\n",
        "\n",
        "        return x\n"
      ],
      "metadata": {
        "id": "4xQPfsMF4UqZ"
      },
      "execution_count": 65,
      "outputs": []
    },
    {
      "cell_type": "markdown",
      "source": [
        "### 3A3: Designing Positional Embedding\n",
        "Positional encoding helps the model understand the order of tokens in the sequence since transformers do not inherently understand position.\n",
        "\n",
        "\n",
        "\n"
      ],
      "metadata": {
        "id": "vAj2KspZ4V-L"
      }
    },
    {
      "cell_type": "code",
      "source": [
        "class PositionalEncoding(nn.Module):\n",
        "  def __init__(self, d_model, max_len =2048, dropout_prob=0.1):\n",
        "    super().__init__()\n",
        "    self.dropout = nn.Dropout(p = dropout_prob)\n",
        "\n",
        "    position = torch.arange(max_len).unsqueeze(1)\n",
        "    exp_term = torch.arange(0, d_model, 2)\n",
        "    div_term = torch.exp(exp_term*(-math.log(10000.0)/d_model))\n",
        "    pe = torch.zeros(1, max_len, d_model)\n",
        "    pe[0, :, 0::2] = torch.sin(position *div_term)\n",
        "    pe[0, :, 1::2] = torch.cos(position *div_term)\n",
        "    self.register_buffer('pe', pe)\n",
        "\n",
        "\n",
        "  def forward(self, x):\n",
        "    # x.shape : N x T x D\n",
        "    x=x + self.pe[:, :x.size(1), :]\n",
        "    return self.dropout(x)\n"
      ],
      "metadata": {
        "id": "ILH0hVaJ4UtI"
      },
      "execution_count": 66,
      "outputs": []
    },
    {
      "cell_type": "markdown",
      "source": [
        "### 3A4: Creating Encoder Class\n",
        "This class combines embeddings, positional encoding, and multiple transformer blocks.\n",
        "\n",
        "Explanation:\n",
        "- Dropout Layer: Helps to prevent overfitting by randomly zeroing some of the elements in the input tensor during training.\n",
        "- Positional Encoding Calculation:\n",
        "  - It generates a fixed positional encoding matrix using sine and cosine functions.\n",
        "  - The encoding uses different frequencies for different dimensions.\n",
        "  - Odd dimensions are assigned cosine values, while even dimensions get sine values.\n",
        "- Register Buffer: self.register_buffer('pe', pe) stores the positional encoding (pe) as a buffer in the model. This means it won’t be updated during training (it's not a learnable parameter) but is still part of the model.\n",
        "- Adding Positional Encoding: In the forward() method, the positional encodings are added to the input tensor x before applying dropout.\n",
        "\n",
        "This helps the transformer model understand the order of tokens in a sequence, as transformers don't have any inherent notion of sequence order.\n",
        "\n"
      ],
      "metadata": {
        "id": "gTt6oHcs4foM"
      }
    },
    {
      "cell_type": "code",
      "source": [
        "class PositionalEncoding(nn.Module):\n",
        "    def __init__(self, d_model, max_len=2048, dropout_prob=0.1):\n",
        "        super().__init__()\n",
        "\n",
        "        # Dropout for regularization\n",
        "        self.dropout = nn.Dropout(p=dropout_prob)\n",
        "\n",
        "        # Create position indices for max_len\n",
        "        position = torch.arange(max_len).unsqueeze(1)\n",
        "\n",
        "        # Compute sinusoidal frequencies using exponential decay for even and odd dimensions\n",
        "        exp_term = torch.arange(0, d_model, 2)\n",
        "        div_term = torch.exp(exp_term * (-math.log(10000.0) / d_model))\n",
        "\n",
        "        # Initialize positional encoding matrix\n",
        "        pe = torch.zeros(1, max_len, d_model)\n",
        "\n",
        "        # Apply sine to even indices and cosine to odd indices\n",
        "        pe[0, :, 0::2] = torch.sin(position * div_term)\n",
        "        pe[0, :, 1::2] = torch.cos(position * div_term)\n",
        "\n",
        "        # Register the positional encoding as a non-learnable buffer\n",
        "        self.register_buffer('pe', pe)\n",
        "\n",
        "    def forward(self, x):\n",
        "        # Add positional encoding to input tensor\n",
        "        # x.shape: (batch_size, sequence_length, embedding_dim)\n",
        "        x = x + self.pe[:, :x.size(1), :]\n",
        "\n",
        "        # Apply dropout for regularization\n",
        "        return self.dropout(x)\n",
        "\n"
      ],
      "metadata": {
        "id": "e9Y9HGjm4Uvj"
      },
      "execution_count": 67,
      "outputs": []
    },
    {
      "cell_type": "markdown",
      "source": [
        "### 3A5: Testing the Forward Pass with Dummy Values\n",
        "\n",
        "- Model Initialization: We set up the model's hyperparameters like vocabulary size, model dimension, number of attention heads, and dropout probability, and create an instance of the Encoder class.\n",
        "\n",
        "- Device Setup: We check if CUDA (GPU) is available and set the device accordingly. The model is moved to this device for faster computation if possible.\n",
        "\n",
        "- Data Preparation: Random input sequences of token IDs are generated to simulate tokenized text input. A dynamic mask is created to mask certain parts of the sequence (useful in transformer models).\n",
        "\n",
        "- Forward Pass: The model processes the input and mask, producing the output cls_token_output (a compressed representation) and y (the logits for each class). Finally, we check the shape of the logits to ensure everything is correct."
      ],
      "metadata": {
        "id": "vvNgO6s_Z2sk"
      }
    },
    {
      "cell_type": "code",
      "source": [
        "class Encoder(nn.Module):\n",
        "    def __init__(self, vocab_size, max_len, d_k, d_model, n_heads, n_layers, n_classes, dropout_prob=0.1):\n",
        "        super().__init__()\n",
        "        self.embedding = nn.Embedding(vocab_size, d_model)\n",
        "        self.pos_encoding = PositionalEncoding(d_model, max_len, dropout_prob)\n",
        "        self.transformer_blocks = nn.ModuleList(\n",
        "            [TransformerBlock(d_k, d_model, n_heads, dropout_prob) for _ in range(n_layers)]\n",
        "        )\n",
        "        self.fc_out = nn.Linear(d_model, n_classes)\n",
        "        self.max_len = max_len\n",
        "\n",
        "    def forward(self, x, mask=None):\n",
        "        # x: (batch_size, seq_length)\n",
        "        x = self.embedding(x)  # (batch_size, seq_length, d_model)\n",
        "        x = self.pos_encoding(x)\n",
        "        for transformer in self.transformer_blocks:\n",
        "            x = transformer(x, mask)\n",
        "        # Use the output corresponding to the [CLS] token (assumed to be the first token)\n",
        "        cls_token_output = x[:, 0, :]  # (batch_size, d_model)\n",
        "        logits = self.fc_out(cls_token_output)  # (batch_size, n_classes)\n",
        "        return cls_token_output, logits\n",
        "\n",
        "\n",
        "# Set model hyperparameters\n",
        "vocab_size = 20000  # Size of the vocabulary (number of unique tokens)\n",
        "max_length = 1024  # Maximum sequence length\n",
        "d_k = 16  # Dimension for each attention head\n",
        "d_model = 64  # Dimension of the model (embedding size)\n",
        "n_heads = 4  # Number of attention heads\n",
        "nlayers = 2  # Number of transformer layers (blocks)\n",
        "n_classes = 5  # Number of output classes\n",
        "dropout_prob = 0.1  # Dropout probability\n",
        "\n",
        "# Initialize the custom Encoder model with the above hyperparameters\n",
        "model = Encoder(vocab_size, max_length, d_k, d_model, n_heads, nlayers, n_classes, dropout_prob)\n",
        "\n",
        "# Check if a GPU (CUDA) is available, otherwise use CPU\n",
        "device = torch.device(\"cuda:0\" if torch.cuda.is_available() else \"cpu\")\n",
        "print(device)  # Display the device being used (GPU/CPU)\n",
        "\n",
        "# Move the model to the chosen device\n",
        "model.to(device)\n",
        "\n",
        "# Dynamic batch size and sequence length for input data\n",
        "batch_size = 8  # Number of sequences (adjustable)\n",
        "seq_length = 512  # Length of each sequence (can be adjusted)\n",
        "\n",
        "# Generate random input data (token IDs), simulating tokenized text sequences\n",
        "x = np.random.randint(0, vocab_size, size=(batch_size, seq_length))\n",
        "x_t = torch.tensor(x).to(device)  # Convert to a PyTorch tensor and move to the device\n",
        "\n",
        "# Create a binary mask (1s and 0s) for attention, dynamically based on batch size and sequence length\n",
        "mask = np.ones((batch_size, seq_length))  # All ones initially\n",
        "mask[:, seq_length//2:] = 0  # Mask the second half of each sequence (optional example)\n",
        "mask_t = torch.tensor(mask, dtype=torch.bool).to(device)  # Convert to boolean tensor and move to device\n",
        "\n",
        "# Perform a forward pass through the model with the input data and mask\n",
        "cls_token_output, y = model(x_t, mask_t)\n",
        "\n",
        "# Check the shape of the output (logits)\n",
        "y.shape  # Expected output: (batch_size, n_classes), e.g., (8, 5)\n"
      ],
      "metadata": {
        "id": "uSxOLuPD4UyA",
        "colab": {
          "base_uri": "https://localhost:8080/"
        },
        "outputId": "52524fdb-6d35-4c63-b4f0-e7aa76310e75"
      },
      "execution_count": 68,
      "outputs": [
        {
          "output_type": "stream",
          "name": "stdout",
          "text": [
            "cuda:0\n"
          ]
        },
        {
          "output_type": "execute_result",
          "data": {
            "text/plain": [
              "torch.Size([8, 5])"
            ]
          },
          "metadata": {},
          "execution_count": 68
        }
      ]
    },
    {
      "cell_type": "markdown",
      "source": [
        "# 3B. Train the Encoder\n",
        "\n",
        "- We are going to use model built above (custom  encoder architecture) for sentiment classificaiton.\n",
        "\n",
        "- This section demonstrates how to train a custom transformer encoder for sentiment classification using the Huggingface library. The GLUE SST-2 dataset is used to train the model, and this involves loading the dataset, tokenizing it, creating the model, and running a training loop."
      ],
      "metadata": {
        "id": "XR53ahXLDvQ6"
      }
    },
    {
      "cell_type": "markdown",
      "source": [
        "## 3B1: Load the Data\n",
        "It loads the SST-2 dataset, which is a part of the GLUE benchmark for sentiment analysis (positive/negative).\n",
        "... a binary sentiment classification dataset (positive/negative)."
      ],
      "metadata": {
        "id": "6WJZfSMP6S6y"
      }
    },
    {
      "cell_type": "code",
      "source": [
        "# sst2 is DataSet for sentiment analysis as a part of glue bench-mark\n",
        "raw_datasets = load_dataset(\"glue\", \"sst2\")"
      ],
      "metadata": {
        "id": "dN55LilBDUPg"
      },
      "execution_count": 69,
      "outputs": []
    },
    {
      "cell_type": "markdown",
      "source": [
        "## 3B2: Understand the Data:\n",
        "Exploring the structure and content of the dataset. This step prints information about the dataset, including its features and a few example sentences to understand what the model will be trained on.\n",
        "\n",
        "- dir(raw_datasets['train']): Lists all the attributes and methods available for the training dataset, which can help understand how to manipulate or interact with it.\n",
        "- type(raw_datasets['train']): Identifies the dataset type (usually a Huggingface dataset class), helping to know what kind of object you're working with.\n",
        "- raw_datasets['train'].data: This shows the raw underlying data, which can be useful if you need to inspect how the dataset is stored or structured internally.\n",
        "- Example Samples: By inspecting the content of specific indices (e.g., raw_datasets['train'][1]), you can understand the nature of the data you're working with (e.g., text sentences and their corresponding labels)."
      ],
      "metadata": {
        "id": "hGTO6tPZ6WlI"
      }
    },
    {
      "cell_type": "code",
      "source": [
        "# Print the entire dataset to inspect its structure\n",
        "raw_datasets\n",
        "\n",
        "# Features of the training data\n",
        "raw_datasets['train'].features\n",
        "\n",
        "# Training dataset overview\n",
        "raw_datasets['train']\n",
        "\n",
        "# Inspect methods and attributes available for the training dataset\n",
        "dir(raw_datasets['train'])\n",
        "\n",
        "# Check the type of the training dataset object\n",
        "type(raw_datasets['train'])\n",
        "\n",
        "# View the raw data of the training dataset\n",
        "raw_datasets['train'].data\n",
        "\n",
        "# Inspect specific samples\n",
        "raw_datasets['train'][1]  # View a specific entry\n",
        "raw_datasets['train'][10:14]  # View multiple entries\n",
        "raw_datasets['train'][0:3]['sentence']  # View first 3 sentences\n"
      ],
      "metadata": {
        "colab": {
          "base_uri": "https://localhost:8080/"
        },
        "id": "nQO5HVq6SJi0",
        "outputId": "503136e5-181d-407e-92e0-f54ecf5ff56a"
      },
      "execution_count": 70,
      "outputs": [
        {
          "output_type": "execute_result",
          "data": {
            "text/plain": [
              "['hide new secretions from the parental units ',\n",
              " 'contains no wit , only labored gags ',\n",
              " 'that loves its characters and communicates something rather beautiful about human nature ']"
            ]
          },
          "metadata": {},
          "execution_count": 70
        }
      ]
    },
    {
      "cell_type": "markdown",
      "source": [
        "## 3B3: Tokenize the Data\n",
        "- The tokenizer converts the input text into a format that the model can process (i.e., tokens). It generates token indices and attention masks.\n",
        "- Data Collator adds padding to the batches to ensure that all sequences in a batch have the same length.\n"
      ],
      "metadata": {
        "id": "9UMdFSmW6fXM"
      }
    },
    {
      "cell_type": "code",
      "source": [
        "# Load a pre-trained tokenizer for distilBERT\n",
        "checkpoint = 'distilbert-base-cased'\n",
        "tokenizer = AutoTokenizer.from_pretrained(checkpoint)\n",
        "\n",
        "# Tokenize a sample sentence for demonstration\n",
        "tokenized_sentences = tokenizer('hide new secretions from the parental units')\n",
        "pprint(tokenized_sentences)\n",
        "\n",
        "# Function to tokenize the entire dataset\n",
        "def tokenize_fn(batch):\n",
        "  return tokenizer(batch['sentence'], truncation=True)\n",
        "\n",
        "# Tokenize the full dataset\n",
        "tokenized_datasets = raw_datasets.map(tokenize_fn, batched=True)\n",
        "\n",
        "# Data collator handles padding of sentences to ensure equal lengths in batches\n",
        "data_collator = DataCollatorWithPadding(tokenizer=tokenizer)\n",
        "\n",
        "data_collator"
      ],
      "metadata": {
        "colab": {
          "base_uri": "https://localhost:8080/",
          "height": 319,
          "referenced_widgets": [
            "496a0727a25641ecbab5385d9787b99a",
            "a637bc0ba5044e5f989b2df89a05a16d",
            "5072bf9f112e4d37b46c0819701d9a0f",
            "b150066c84f94fbe958056ee338fc4bf",
            "574585949eeb40feae107878285d22cf",
            "94bf7d1e020e4f4697c617f3ee088c08",
            "901e63baac494936a06c996873d0485a",
            "0eb56c5a22414eeeab28c82535884ed9",
            "04485d467e9d4f2c8242a07974b82718",
            "0de54cef2acf42aaacf7f11394617dcd",
            "e5775001f8994c0598224256bfc68f19"
          ]
        },
        "id": "00VMPF26TInM",
        "outputId": "8fae3eb2-a82f-4552-d2c1-9b22e1308fe2"
      },
      "execution_count": 71,
      "outputs": [
        {
          "output_type": "stream",
          "name": "stdout",
          "text": [
            "{'attention_mask': [1, 1, 1, 1, 1, 1, 1, 1, 1, 1],\n",
            " 'input_ids': [101, 4750, 1207, 3318, 5266, 1121, 1103, 22467, 2338, 102]}\n"
          ]
        },
        {
          "output_type": "stream",
          "name": "stderr",
          "text": [
            "/usr/local/lib/python3.10/dist-packages/transformers/tokenization_utils_base.py:1601: FutureWarning: `clean_up_tokenization_spaces` was not set. It will be set to `True` by default. This behavior will be depracted in transformers v4.45, and will be then set to `False` by default. For more details check this issue: https://github.com/huggingface/transformers/issues/31884\n",
            "  warnings.warn(\n"
          ]
        },
        {
          "output_type": "display_data",
          "data": {
            "text/plain": [
              "Map:   0%|          | 0/872 [00:00<?, ? examples/s]"
            ],
            "application/vnd.jupyter.widget-view+json": {
              "version_major": 2,
              "version_minor": 0,
              "model_id": "496a0727a25641ecbab5385d9787b99a"
            }
          },
          "metadata": {}
        },
        {
          "output_type": "execute_result",
          "data": {
            "text/plain": [
              "DataCollatorWithPadding(tokenizer=DistilBertTokenizerFast(name_or_path='distilbert-base-cased', vocab_size=28996, model_max_length=512, is_fast=True, padding_side='right', truncation_side='right', special_tokens={'unk_token': '[UNK]', 'sep_token': '[SEP]', 'pad_token': '[PAD]', 'cls_token': '[CLS]', 'mask_token': '[MASK]'}, clean_up_tokenization_spaces=True),  added_tokens_decoder={\n",
              "\t0: AddedToken(\"[PAD]\", rstrip=False, lstrip=False, single_word=False, normalized=False, special=True),\n",
              "\t100: AddedToken(\"[UNK]\", rstrip=False, lstrip=False, single_word=False, normalized=False, special=True),\n",
              "\t101: AddedToken(\"[CLS]\", rstrip=False, lstrip=False, single_word=False, normalized=False, special=True),\n",
              "\t102: AddedToken(\"[SEP]\", rstrip=False, lstrip=False, single_word=False, normalized=False, special=True),\n",
              "\t103: AddedToken(\"[MASK]\", rstrip=False, lstrip=False, single_word=False, normalized=False, special=True),\n",
              "}, padding=True, max_length=None, pad_to_multiple_of=None, return_tensors='pt')"
            ]
          },
          "metadata": {},
          "execution_count": 71
        }
      ]
    },
    {
      "cell_type": "markdown",
      "source": [
        "## 3B4: Prepare the Dataloaders:\n",
        "Prepare the data for training using PyTorch’s DataLoader to efficiently load the dataset in batches. DataLoader loads the dataset in batches, shuffling the training data for randomness."
      ],
      "metadata": {
        "id": "b4MbXffmA9SD"
      }
    },
    {
      "cell_type": "code",
      "source": [
        "tokenized_datasets\n",
        "\n",
        "# Remove unnecessary columns and rename label for training\n",
        "tokenized_datasets = tokenized_datasets.remove_columns([\"sentence\", \"idx\"])\n",
        "tokenized_datasets = tokenized_datasets.rename_column(\"label\", \"labels\")\n",
        "\n",
        "# Create data loaders for training and validation\n",
        "train_loader = DataLoader(tokenized_datasets[\"train\"], shuffle=True, batch_size=32, collate_fn=data_collator)\n",
        "valid_loader = DataLoader(tokenized_datasets[\"validation\"], batch_size=32, collate_fn=data_collator)\n"
      ],
      "metadata": {
        "id": "BILRZA6OThyQ"
      },
      "execution_count": 72,
      "outputs": []
    },
    {
      "cell_type": "markdown",
      "source": [
        "## 3B5: Checking Tokenized Data and Model Configurations:\n",
        "\n",
        "Verify that tokenization and data loading are working correctly, and it also checks the number of classes and the model's configuration."
      ],
      "metadata": {
        "id": "yTv4ipgbUz_c"
      }
    },
    {
      "cell_type": "code",
      "source": [
        "# Check how the data looks in batches from the DataLoader\n",
        "for batch in train_loader:\n",
        "  for k, v in batch.items():\n",
        "    print(\"k:\", k, \"v.shape:\", v.shape)  # Print the shape of each batch element (input_ids, attention_mask, labels)\n",
        "  break  # Stop after the first batch\n",
        "\n",
        "# Get the unique classes (labels) in the dataset\n",
        "set(tokenized_datasets['train']['labels'])\n",
        "\n",
        "# Check the tokenizer vocabulary size\n",
        "tokenizer.vocab_size\n",
        "\n",
        "# Maximum sequence length for the model\n",
        "tokenizer.model_max_length\n"
      ],
      "metadata": {
        "colab": {
          "base_uri": "https://localhost:8080/"
        },
        "id": "Jkh3GP9bU51t",
        "outputId": "7ae7ab05-67be-4986-ea6d-74ec1e6e6b52"
      },
      "execution_count": 73,
      "outputs": [
        {
          "output_type": "stream",
          "name": "stdout",
          "text": [
            "k: labels v.shape: torch.Size([32])\n",
            "k: input_ids v.shape: torch.Size([32, 35])\n",
            "k: attention_mask v.shape: torch.Size([32, 35])\n"
          ]
        },
        {
          "output_type": "execute_result",
          "data": {
            "text/plain": [
              "512"
            ]
          },
          "metadata": {},
          "execution_count": 73
        }
      ]
    },
    {
      "cell_type": "markdown",
      "source": [
        "## 3B6: Create the Model\n",
        "This defines the transformer encoder model with a specific configuration for sentiment classification.\n",
        "\n",
        "Explanation:\n",
        "\n",
        "- Model Configuration: Defines the transformer encoder model architecture with the required number of layers, heads, and classes.\n",
        "- Loss Function: CrossEntropyLoss for binary classification.\n",
        "- Optimizer: Adam to optimize model parameters."
      ],
      "metadata": {
        "id": "rhWkHxrsUcYl"
      }
    },
    {
      "cell_type": "code",
      "source": [
        "# Instantiate the custom encoder model with configuration for classification\n",
        "model = Encoder(\n",
        "    vocab_size=tokenizer.vocab_size,\n",
        "    max_len=tokenizer.model_max_length,\n",
        "    d_k=16,\n",
        "    d_model=64,\n",
        "    n_heads=4,\n",
        "    n_layers=2,\n",
        "    n_classes=2,\n",
        "    dropout_prob=0.1\n",
        ")\n",
        "model.to(device)\n",
        "\n",
        "# Loss and optimizer for training\n",
        "criterion = nn.CrossEntropyLoss()\n",
        "optimizer = torch.optim.Adam(model.parameters())\n"
      ],
      "metadata": {
        "id": "VL-n-MEIV4jH"
      },
      "execution_count": 74,
      "outputs": []
    },
    {
      "cell_type": "markdown",
      "source": [
        "## 3B7: Training Function\n",
        "The train function runs through multiple epochs (full passes over the data) and optimizes the model using backpropagation. The function encapsulates the training process, iterating through the data, calculating the loss, and updating the model weights.\n",
        "\n",
        "- Training Loop: Iterates over each batch of the dataset, performs forward and backward passes, calculates loss, and updates the weights.\n",
        "- Epoch: A complete pass over the dataset.\n",
        "- Validation: After each epoch, the model is evaluated on the validation set."
      ],
      "metadata": {
        "id": "AWq2yU8g6yLe"
      }
    },
    {
      "cell_type": "code",
      "source": [
        "# Define a function to train the model over multiple epochs\n",
        "def train(model, criterion, optimizer, train_loader, valid_loader, epochs):\n",
        "  train_losses = np.zeros(epochs)\n",
        "  test_losses = np.zeros(epochs)\n",
        "\n",
        "  for it in range(epochs):\n",
        "    model.train()\n",
        "    t0 = datetime.now()\n",
        "    train_loss = 0\n",
        "    n_train = 0\n",
        "\n",
        "    for batch in train_loader:\n",
        "      # Move data to GPU if available\n",
        "      batch = {k: v.to(device) for k, v in batch.items()}\n",
        "\n",
        "      # Zero the parameter gradients\n",
        "      optimizer.zero_grad()\n",
        "\n",
        "      # Forward pass: calculate predictions\n",
        "      cls_token_output, outputs = model(batch['input_ids'], batch['attention_mask'])\n",
        "\n",
        "      # Calculate loss\n",
        "      loss = criterion(outputs, batch['labels'])\n",
        "\n",
        "      # Backward pass and optimize\n",
        "      loss.backward()\n",
        "\n",
        "      # Add gradient clipping\n",
        "      torch.nn.utils.clip_grad_norm_(model.parameters(), max_norm=1.0)\n",
        "\n",
        "      optimizer.step()\n",
        "\n",
        "      train_loss += loss.item() * batch['input_ids'].size(0)\n",
        "      n_train += batch['input_ids'].size(0)\n",
        "\n",
        "    # Compute average training loss\n",
        "    train_loss = train_loss / n_train\n",
        "\n",
        "    # Evaluate on validation set\n",
        "    model.eval()\n",
        "    test_loss = 0\n",
        "    n_test = 0\n",
        "    for batch in valid_loader:\n",
        "      batch = {k: v.to(device) for k, v in batch.items()}\n",
        "      cls_token_output, outputs = model(batch['input_ids'], batch['attention_mask'])\n",
        "      loss = criterion(outputs, batch['labels'])\n",
        "      test_loss += loss.item() * batch['input_ids'].size(0)\n",
        "      n_test += batch['input_ids'].size(0)\n",
        "    test_loss = test_loss / n_test\n",
        "\n",
        "    # Save training and validation losses\n",
        "    train_losses[it] = train_loss\n",
        "    test_losses[it] = test_loss\n",
        "\n",
        "    # Print epoch summary\n",
        "    dt = datetime.now() - t0\n",
        "    print(f'Epoch {it + 1}/{epochs}, Train Loss: {train_loss:.4f}, Test Loss: {test_loss:.4f}, Duration: {dt}')\n",
        "\n",
        "  return train_losses, test_losses\n",
        "\n",
        "# Train the model for 4 epochs\n",
        "train_losses, test_losses = train(model, criterion, optimizer, train_loader, valid_loader, epochs=4)\n"
      ],
      "metadata": {
        "colab": {
          "base_uri": "https://localhost:8080/"
        },
        "id": "b7e_Y260WmWG",
        "outputId": "be1712e7-6502-4b1d-93f2-d44598fed0d7"
      },
      "execution_count": 75,
      "outputs": [
        {
          "output_type": "stream",
          "name": "stdout",
          "text": [
            "Epoch 1/4, Train Loss: 0.5375, Test Loss: 0.5304, Duration: 0:00:37.262208\n",
            "Epoch 2/4, Train Loss: 0.3709, Test Loss: 0.5000, Duration: 0:00:20.604261\n",
            "Epoch 3/4, Train Loss: 0.3004, Test Loss: 0.5535, Duration: 0:00:20.307338\n",
            "Epoch 4/4, Train Loss: 0.2600, Test Loss: 0.5443, Duration: 0:00:19.461872\n"
          ]
        }
      ]
    },
    {
      "cell_type": "markdown",
      "source": [
        "## 3B6: Test the Performance\n",
        "After training, this part tests the model on the training and validation sets, calculating accuracy by comparing predicted labels with actual labels."
      ],
      "metadata": {
        "id": "SfQrQYHl651g"
      }
    },
    {
      "cell_type": "code",
      "source": [
        "# Evaluate model performance on the training and validation sets\n",
        "\n",
        "# Initialize accuracy counters\n",
        "model.eval()\n",
        "n_correct = 0.\n",
        "n_total = 0.\n",
        "\n",
        "# Accuracy on the training set\n",
        "for batch in train_loader:\n",
        "   batch = {k: v.to(device) for k, v in batch.items()}\n",
        "   cls_token_output, outputs = model(batch['input_ids'], batch['attention_mask'])\n",
        "   _, predictions = torch.max(outputs, 1)\n",
        "   n_correct += (predictions == batch['labels']).sum().item()\n",
        "   n_total += batch['labels'].shape[0]\n",
        "train_acc = n_correct / n_total\n",
        "\n",
        "# Accuracy on the validation set\n",
        "n_correct = 0.\n",
        "n_total = 0.\n",
        "with torch.no_grad():  # Disable gradient computation for validation\n",
        "    for batch in valid_loader:\n",
        "       batch = {k: v.to(device) for k, v in batch.items()}\n",
        "       cls_token_output, outputs = model(batch['input_ids'], batch['attention_mask'])\n",
        "       _, predictions = torch.max(outputs, 1)\n",
        "       n_correct += (predictions == batch['labels']).sum().item()\n",
        "       n_total += batch['labels'].shape[0]\n",
        "test_acc = n_correct / n_total\n",
        "\n",
        "print(f'Training Accuracy: {train_acc:.4f}, Validation Accuracy: {test_acc:.4f}')\n"
      ],
      "metadata": {
        "id": "NM7RkIQDXtxB",
        "colab": {
          "base_uri": "https://localhost:8080/"
        },
        "outputId": "db06a695-4a70-490e-cc12-ecd0a899c18b"
      },
      "execution_count": 76,
      "outputs": [
        {
          "output_type": "stream",
          "name": "stdout",
          "text": [
            "Training Accuracy: 0.9330, Validation Accuracy: 0.7856\n"
          ]
        }
      ]
    },
    {
      "cell_type": "markdown",
      "source": [
        "# 3C: Understanding the trained model | Getting Sentiment for Custom Sentences\n",
        "This section investigates the model after training, including predictions and visualization of outputs.\n",
        "\n",
        "\n"
      ],
      "metadata": {
        "id": "vli6V291QhMz"
      }
    },
    {
      "cell_type": "markdown",
      "source": [
        "**Input Custom Sentences for Sentiment Analysis**\n",
        "\n",
        "Here, four custom sentences are provided. These are test inputs to see how well the trained model can predict their sentiment."
      ],
      "metadata": {
        "id": "tnShVR6B32ui"
      }
    },
    {
      "cell_type": "code",
      "source": [
        "# Custom sentences\n",
        "sentences = [\n",
        "    \"I love this movie!\",\n",
        "    \"This is the worst experience I've ever had.\",\n",
        "    \"The food was decent, but the service was excellent.\",\n",
        "    \"I would not recommend this place to anyone.\"\n",
        "]\n"
      ],
      "metadata": {
        "id": "3zeCLvrNRkHE"
      },
      "execution_count": 77,
      "outputs": []
    },
    {
      "cell_type": "markdown",
      "source": [
        "**Tokenizing the Sentences**\n",
        "- tokenizer: This object converts the raw text (the sentences) into token IDs that the model can understand.\n",
        "- padding=True: Ensures that all sentences are padded to the same length.\n",
        "- truncation=True: If a sentence is longer than the model’s maximum allowed length, it is truncated.\n",
        "- return_tensors='pt': Returns the result as PyTorch tensors (required for passing data to a PyTorch model)."
      ],
      "metadata": {
        "id": "-9ky0EHt3S5N"
      }
    },
    {
      "cell_type": "code",
      "source": [
        "max_length = model.max_len  # Use the same max length as defined in the Encoder\n",
        "encoding = tokenizer(sentences, padding=True, truncation=True, max_length=max_length, return_tensors='pt')\n"
      ],
      "metadata": {
        "id": "iTPUevra4HQZ"
      },
      "execution_count": 78,
      "outputs": []
    },
    {
      "cell_type": "markdown",
      "source": [
        "**Extracting Tensors and Moving Them to GPU**\n",
        "\n",
        "- input_ids and attention_mask: The tokenized input and corresponding attention masks are extracted. The attention mask indicates which tokens are real (not padding).\n",
        "- to('cuda'): Moves these tensors to the GPU for faster computation if the GPU is available."
      ],
      "metadata": {
        "id": "WCBmDgqi4M8c"
      }
    },
    {
      "cell_type": "code",
      "source": [
        "device = torch.device(\"cuda\" if torch.cuda.is_available() else \"cpu\")\n"
      ],
      "metadata": {
        "id": "pkj779VVmsrx"
      },
      "execution_count": 79,
      "outputs": []
    },
    {
      "cell_type": "code",
      "source": [
        "input_ids = encoding['input_ids'].to(device) # Move input_ids to GPU\n",
        "attention_mask = encoding['attention_mask'].to('cuda') # Move attention_mask to GPU\n"
      ],
      "metadata": {
        "id": "GJQsQ-6GRjqo"
      },
      "execution_count": 80,
      "outputs": []
    },
    {
      "cell_type": "markdown",
      "source": [
        "**Forward Pass through the Model**\n",
        "- Forward pass: The tokenized input and the attention mask are passed through the model.\n",
        "- cls_token_output: This is the output from the [CLS] token (the first token in the sequence) used for classification.\n",
        "- outputs: These are the logits (raw model outputs) for the sentiment prediction.\n"
      ],
      "metadata": {
        "id": "Wf2wNuTG4gHv"
      }
    },
    {
      "cell_type": "code",
      "source": [
        "cls_token_output,outputs = model (input_ids, attention_mask)\n"
      ],
      "metadata": {
        "id": "ub10CTDP4mQ4"
      },
      "execution_count": 81,
      "outputs": []
    },
    {
      "cell_type": "markdown",
      "source": [
        "**Get Prediction**\n",
        "- torch.max: This function returns both the max value and the index of the max value. Since we are interested in the class (positive/negative), we take the index (i.e., 1 for positive and 0 for negative).\n",
        "- Prediction: Now, you have the predicted sentiment for each sentence."
      ],
      "metadata": {
        "id": "DGTsFhgG42fP"
      }
    },
    {
      "cell_type": "code",
      "source": [
        "_, predictions =torch.max(outputs,1)\n",
        "\n",
        "print(predictions)\n"
      ],
      "metadata": {
        "colab": {
          "base_uri": "https://localhost:8080/"
        },
        "id": "jAGVN2mK4_23",
        "outputId": "e26d20a4-12e6-4e33-f91e-34874c9233a8"
      },
      "execution_count": 82,
      "outputs": [
        {
          "output_type": "stream",
          "name": "stdout",
          "text": [
            "tensor([1, 0, 1, 0], device='cuda:0')\n"
          ]
        }
      ]
    },
    {
      "cell_type": "markdown",
      "source": [
        "# 4: Inspect, Understand, and Validate What the Model is Learning: Visualizing Outputs and Weights:\n",
        "\n",
        "In this section, we focus on gaining deeper insights into what the model has learned during training. After the model is trained, it's crucial to inspect its internal representations and validate its performance beyond just accuracy or loss metrics.\n",
        "\n",
        "We use techniques like Principal Component Analysis (PCA) to reduce high-dimensional outputs (such as the CLS token embeddings) into 2D, enabling us to visualize how the model interprets different inputs. Additionally, we examine the model’s weights, particularly the attention layers and embeddings, to ensure that the model is capturing meaningful relationships in the data.\n",
        "\n",
        "By visualizing word embeddings, creating word clouds, and analyzing model weights, we can validate whether the model has learned useful patterns, such as grouping similar words together or distinguishing between different sentence sentiments.\n",
        "\n",
        "These methods provide a window into the model's internal workings, helping us confirm that the model is learning effectively and as expected. This process is key for improving model interpretability, debugging, and ensuring its robustness."
      ],
      "metadata": {
        "id": "tWwtH6R9Dbly"
      }
    },
    {
      "cell_type": "markdown",
      "source": [
        "## 4B0: Understand the class_token_output for the Input Sentences\n",
        "\n",
        "After performing the forward pass through the model, the output from the [CLS] token represents the entire sentence in a condensed form. This section ensures that we can inspect and process the output for further analysis."
      ],
      "metadata": {
        "id": "iZXJ2QFnXGN0"
      }
    },
    {
      "cell_type": "markdown",
      "source": [
        "**Shape of cls_token_output:** This checks the shape of the CLS token output. | The below line of code is used to check the dimensionality of the CLS token output. The CLS token represents the sentence's condensed meaning after passing through the transformer. It is important to understand the output's shape for further processing."
      ],
      "metadata": {
        "id": "GDuDYbFW2aiy"
      }
    },
    {
      "cell_type": "code",
      "source": [
        "cls_token_output.shape"
      ],
      "metadata": {
        "id": "MMsptThKAwBn",
        "colab": {
          "base_uri": "https://localhost:8080/"
        },
        "outputId": "f8be227e-14f3-4cb7-9e13-56d4ba91b8ba"
      },
      "execution_count": 83,
      "outputs": [
        {
          "output_type": "execute_result",
          "data": {
            "text/plain": [
              "torch.Size([4, 64])"
            ]
          },
          "metadata": {},
          "execution_count": 83
        }
      ]
    },
    {
      "cell_type": "markdown",
      "source": [
        "**Detaching and moving to CPU:** Since the model ran on the GPU we need to detach the output from the computation graph (to avoid unnecessary memory usage) and move it to the CPU for further processing"
      ],
      "metadata": {
        "id": "Vr42RCgX2dqE"
      }
    },
    {
      "cell_type": "code",
      "source": [
        "cls_token_output_cpu = cls_token_output.detach().cpu().numpy()\n",
        "torch.cuda.empty_cache()  # Free up GPU memory after moving tensors to CPU\n"
      ],
      "metadata": {
        "id": "9QZJs8VMAyWu"
      },
      "execution_count": 84,
      "outputs": []
    },
    {
      "cell_type": "markdown",
      "source": [
        "**The detached CLS token output can now be used for further processing.** Understanding the CLS token: This token acts as the condensed representation of an entire input sentence, which is used by the model for classification tasks (like sentiment analysis). By inspecting and preparing this output, you can better understand how the model encodes different sentences before applying further analysis like PCA.\n"
      ],
      "metadata": {
        "id": "fIlrUdkMGKum"
      }
    },
    {
      "cell_type": "code",
      "source": [
        "cls_token_output"
      ],
      "metadata": {
        "colab": {
          "base_uri": "https://localhost:8080/"
        },
        "id": "YBRQ3fLJGLyA",
        "outputId": "21d8ca3f-5776-436c-ddf3-a57e520b392a"
      },
      "execution_count": 85,
      "outputs": [
        {
          "output_type": "execute_result",
          "data": {
            "text/plain": [
              "tensor([[-1.4686e+00, -3.5389e-01,  2.2813e-01,  1.0339e-01,  1.7989e+00,\n",
              "          7.8991e-02,  2.4803e-01,  9.0350e-01, -3.7843e-02, -7.4924e-01,\n",
              "         -1.2149e-01, -2.0745e-02, -5.0901e-01, -3.5573e-01,  6.0119e-01,\n",
              "         -1.8125e-01, -1.1587e+00,  3.1784e-01,  2.8895e-01,  5.9216e-01,\n",
              "         -3.1265e-02,  4.5047e-01,  6.6520e-01, -1.2548e-01, -1.6849e+00,\n",
              "          2.0846e-01,  1.3325e+00, -1.0910e-01, -1.2733e+00, -1.1632e+00,\n",
              "          9.3560e-01, -6.6465e-01, -1.1579e+00,  7.6100e-02,  1.1599e+00,\n",
              "         -9.1364e-01, -5.8220e-02,  1.2983e-01,  9.4918e-03,  6.4658e-01,\n",
              "          1.4179e+00,  4.0267e-01,  1.0912e+00,  1.1105e+00, -1.9022e+00,\n",
              "         -1.8227e+00, -3.8260e-01,  4.1499e-01, -1.7889e+00, -1.2488e+00,\n",
              "          1.1674e+00,  1.7750e+00,  1.3107e+00,  1.0537e+00, -1.3857e-02,\n",
              "          1.0317e+00, -1.1098e+00,  5.5999e-01,  1.0237e-01,  1.0866e-01,\n",
              "         -5.4922e-01, -6.9855e-01, -8.3682e-03, -4.7542e-01],\n",
              "        [ 8.5171e-01, -5.5056e-02,  1.1963e-04, -4.1952e-01, -1.5751e+00,\n",
              "          4.6749e-02, -9.2448e-02, -1.3036e+00, -4.0151e-01,  3.9238e-01,\n",
              "         -5.8104e-03, -2.0674e-01, -4.3170e-01, -3.8451e-02,  5.0812e-03,\n",
              "          3.4070e-01,  1.0779e+00, -4.8581e-01, -8.2394e-01,  2.4749e-01,\n",
              "         -3.0682e-02, -2.4077e-01, -1.4542e+00, -2.0272e-01,  1.4163e+00,\n",
              "         -2.0515e-01, -8.4583e-01,  1.0024e-02,  1.2883e+00,  6.9091e-01,\n",
              "         -1.0720e+00,  1.4282e+00,  1.3556e+00, -2.4681e-01, -1.1167e+00,\n",
              "          9.3395e-02, -8.0494e-02, -2.0740e-01,  3.9181e-01, -9.9370e-01,\n",
              "         -8.3093e-01,  2.0402e-01, -4.6931e-01, -7.8925e-01,  1.4641e+00,\n",
              "          1.9937e+00,  9.0586e-01, -5.6401e-01,  1.3923e+00,  1.1431e+00,\n",
              "         -5.4068e-01, -9.7607e-01, -5.9262e-01, -9.5746e-01,  3.2621e-02,\n",
              "         -8.6020e-01,  1.1117e+00, -1.3697e-01, -9.4466e-02,  1.2656e-01,\n",
              "          9.8066e-01,  4.7188e-01,  3.5167e-02,  1.0310e+00],\n",
              "        [-1.2457e+00, -1.4820e-01,  1.7705e-01,  3.8003e-01,  1.4752e+00,\n",
              "          9.2262e-02,  2.9468e-01,  8.2385e-01, -2.0996e-01, -6.3215e-01,\n",
              "         -1.8259e-01, -4.5812e-02, -5.9313e-01, -3.6492e-01,  5.2491e-01,\n",
              "         -5.4464e-01, -9.9672e-01,  5.2715e-01, -2.9930e-01,  1.0142e+00,\n",
              "         -1.2212e-01,  2.2042e-01,  6.9129e-01, -5.4492e-02, -1.3852e+00,\n",
              "          2.6479e-01,  1.0787e+00, -8.0304e-02, -1.2358e+00, -1.1232e+00,\n",
              "          7.5860e-01, -6.1968e-01, -1.1217e+00,  8.8068e-02,  8.9744e-01,\n",
              "         -7.2227e-01,  8.0286e-02,  1.5186e-01, -1.5387e-01,  7.6241e-01,\n",
              "          1.3390e+00,  6.2839e-01,  6.0415e-01,  1.0008e+00, -1.4129e+00,\n",
              "         -1.5020e+00, -3.7264e-01,  5.4425e-01, -1.6893e+00, -8.5937e-01,\n",
              "          1.1714e+00,  1.3387e+00,  1.1197e+00,  9.9694e-01, -1.4535e-02,\n",
              "          9.2583e-01, -1.1850e+00,  3.8579e-01,  2.0914e-01,  5.0051e-01,\n",
              "         -5.6844e-01, -7.1402e-01,  2.6533e-02, -5.5901e-01],\n",
              "        [ 5.8358e-02,  1.1417e-01, -7.0539e-03, -2.0537e-01, -1.1702e+00,\n",
              "         -1.9992e-02,  2.7241e-02, -2.9488e-01, -7.8447e-01,  3.5673e-01,\n",
              "          7.0768e-02,  9.1613e-02, -1.2227e+00, -1.9796e-03, -8.1149e-02,\n",
              "         -4.6739e-01,  6.6190e-01, -4.2484e-01, -1.1282e+00,  1.4517e+00,\n",
              "          1.3072e-01, -1.8040e-01, -5.2008e-01,  2.3146e-01,  5.2732e-01,\n",
              "         -5.8021e-02, -5.0069e-01,  8.3884e-02,  6.5526e-01,  1.5045e-01,\n",
              "         -6.7900e-01,  5.3445e-01,  6.6069e-01,  8.1409e-02, -1.5214e-01,\n",
              "          2.6980e-01,  1.8726e-02,  3.0179e-02,  2.7694e-01, -4.0750e-01,\n",
              "         -6.5569e-01,  8.4740e-01, -1.2987e-01, -2.9131e-01,  7.8153e-01,\n",
              "          6.0851e-01,  2.6050e-01, -2.9482e-01,  5.9982e-01,  4.1048e-01,\n",
              "         -4.4437e-01, -6.3504e-01, -3.8032e-01, -5.1629e-01,  3.6854e-02,\n",
              "         -8.8354e-02,  3.4731e-01, -6.6395e-02, -2.1122e-02,  9.4688e-01,\n",
              "          2.2049e-01,  6.7997e-01,  2.5419e-02,  5.1843e-01]], device='cuda:0',\n",
              "       grad_fn=<SliceBackward0>)"
            ]
          },
          "metadata": {},
          "execution_count": 85
        }
      ]
    },
    {
      "cell_type": "markdown",
      "source": [
        "## 4B1: Applying PCA for Visualization of CLS Token Output\n",
        "- In this section, we aim to visualize the relationships between different sentences by reducing the high-dimensional CLS token output to a 2D space using Principal Component Analysis (PCA). This makes it easier to plot and analyze how similar or different the sentences are according to the model's understanding.\n",
        "- PCA: This reduces the high-dimensional CLS token output (typically a vector of size d_model) to two dimensions, which allows us to visualize the relationships between different sentences."
      ],
      "metadata": {
        "id": "MBU7vtFb2jOF"
      }
    },
    {
      "cell_type": "markdown",
      "source": [
        "**Scaling the Data (Optional Step):** Scaling the data ensures all features (or dimensions) have similar ranges, which is important for PCA in some cases. However, since transformers often produce well-behaved embeddings, scaling is optional. If you notice that PCA doesn’t work well without scaling, uncomment this part."
      ],
      "metadata": {
        "id": "1Rmjhv74KHFG"
      }
    },
    {
      "cell_type": "code",
      "source": [
        "# Import StandardScaler\n",
        "from sklearn.preprocessing import StandardScaler\n",
        "\n",
        "# Optional: Scale the data before applying PCA\n",
        "# Scaling helps to standardize the features to a similar range, making PCA more effective.\n",
        "# Uncomment this part if you wish to scale the data (though often not necessary for PCA on transformer outputs)\n",
        "# scaler = StandardScaler()\n",
        "# X_scaled = scaler.fit_transform(cls_token_output)\n"
      ],
      "metadata": {
        "id": "a409j8L4KM9D"
      },
      "execution_count": 86,
      "outputs": []
    },
    {
      "cell_type": "markdown",
      "source": [
        "**Applying PCA (Principal Component Analysis)**\n",
        "- PCA: This reduces the high-dimensional CLS token output (which is of size d_model, say 768 or 512) to just 2 dimensions. Reducing to 2D allows us to visualize the outputs in a simple 2D plot.\n",
        "- Convert to NumPy: Since the model runs on a GPU, the output is in a PyTorch tensor format. We convert this to a NumPy array to make it compatible with PCA.\n",
        "- DataFrame: Converting the result into a Pandas DataFrame makes plotting and further analysis easier."
      ],
      "metadata": {
        "id": "xkZK0wgtIcld"
      }
    },
    {
      "cell_type": "code",
      "source": [
        "# Import PCA\n",
        "from sklearn.decomposition import PCA\n",
        "\n",
        "# Apply PCA to reduce the dimensionality of the CLS token output to 2 dimensions for visualization.\n",
        "pca = PCA(n_components=2)  # We're reducing the dimensions to 2 to visualize it on a 2D plane.\n",
        "\n",
        "# Detach the tensor from GPU, convert to NumPy array, and then apply PCA\n",
        "X_pca = pca.fit_transform(cls_token_output.cpu().detach().numpy())  # Only needed if you're using a GPU\n",
        "# For CPU-based use, you could directly use the tensor without converting to NumPy:\n",
        "# X_pca = pca.fit_transform(cls_token_output)\n",
        "\n",
        "# Convert the PCA-transformed data into a DataFrame for easier handling and plotting.\n",
        "X_pca = pd.DataFrame(X_pca)\n",
        "X_pca # This displays the PCA-transformed output\n"
      ],
      "metadata": {
        "colab": {
          "base_uri": "https://localhost:8080/",
          "height": 175
        },
        "id": "l6V9fLY2IkSE",
        "outputId": "0ef137aa-cb7c-458a-99a7-8f96cfd78cda"
      },
      "execution_count": 87,
      "outputs": [
        {
          "output_type": "execute_result",
          "data": {
            "text/plain": [
              "          0         1\n",
              "0 -5.975982 -0.615253\n",
              "1  7.170281 -1.211529\n",
              "2 -5.079401  0.232805\n",
              "3  3.885104  1.593978"
            ],
            "text/html": [
              "\n",
              "  <div id=\"df-3bb3fcbe-d731-4c0d-bed4-0ac1ec7e9d75\" class=\"colab-df-container\">\n",
              "    <div>\n",
              "<style scoped>\n",
              "    .dataframe tbody tr th:only-of-type {\n",
              "        vertical-align: middle;\n",
              "    }\n",
              "\n",
              "    .dataframe tbody tr th {\n",
              "        vertical-align: top;\n",
              "    }\n",
              "\n",
              "    .dataframe thead th {\n",
              "        text-align: right;\n",
              "    }\n",
              "</style>\n",
              "<table border=\"1\" class=\"dataframe\">\n",
              "  <thead>\n",
              "    <tr style=\"text-align: right;\">\n",
              "      <th></th>\n",
              "      <th>0</th>\n",
              "      <th>1</th>\n",
              "    </tr>\n",
              "  </thead>\n",
              "  <tbody>\n",
              "    <tr>\n",
              "      <th>0</th>\n",
              "      <td>-5.975982</td>\n",
              "      <td>-0.615253</td>\n",
              "    </tr>\n",
              "    <tr>\n",
              "      <th>1</th>\n",
              "      <td>7.170281</td>\n",
              "      <td>-1.211529</td>\n",
              "    </tr>\n",
              "    <tr>\n",
              "      <th>2</th>\n",
              "      <td>-5.079401</td>\n",
              "      <td>0.232805</td>\n",
              "    </tr>\n",
              "    <tr>\n",
              "      <th>3</th>\n",
              "      <td>3.885104</td>\n",
              "      <td>1.593978</td>\n",
              "    </tr>\n",
              "  </tbody>\n",
              "</table>\n",
              "</div>\n",
              "    <div class=\"colab-df-buttons\">\n",
              "\n",
              "  <div class=\"colab-df-container\">\n",
              "    <button class=\"colab-df-convert\" onclick=\"convertToInteractive('df-3bb3fcbe-d731-4c0d-bed4-0ac1ec7e9d75')\"\n",
              "            title=\"Convert this dataframe to an interactive table.\"\n",
              "            style=\"display:none;\">\n",
              "\n",
              "  <svg xmlns=\"http://www.w3.org/2000/svg\" height=\"24px\" viewBox=\"0 -960 960 960\">\n",
              "    <path d=\"M120-120v-720h720v720H120Zm60-500h600v-160H180v160Zm220 220h160v-160H400v160Zm0 220h160v-160H400v160ZM180-400h160v-160H180v160Zm440 0h160v-160H620v160ZM180-180h160v-160H180v160Zm440 0h160v-160H620v160Z\"/>\n",
              "  </svg>\n",
              "    </button>\n",
              "\n",
              "  <style>\n",
              "    .colab-df-container {\n",
              "      display:flex;\n",
              "      gap: 12px;\n",
              "    }\n",
              "\n",
              "    .colab-df-convert {\n",
              "      background-color: #E8F0FE;\n",
              "      border: none;\n",
              "      border-radius: 50%;\n",
              "      cursor: pointer;\n",
              "      display: none;\n",
              "      fill: #1967D2;\n",
              "      height: 32px;\n",
              "      padding: 0 0 0 0;\n",
              "      width: 32px;\n",
              "    }\n",
              "\n",
              "    .colab-df-convert:hover {\n",
              "      background-color: #E2EBFA;\n",
              "      box-shadow: 0px 1px 2px rgba(60, 64, 67, 0.3), 0px 1px 3px 1px rgba(60, 64, 67, 0.15);\n",
              "      fill: #174EA6;\n",
              "    }\n",
              "\n",
              "    .colab-df-buttons div {\n",
              "      margin-bottom: 4px;\n",
              "    }\n",
              "\n",
              "    [theme=dark] .colab-df-convert {\n",
              "      background-color: #3B4455;\n",
              "      fill: #D2E3FC;\n",
              "    }\n",
              "\n",
              "    [theme=dark] .colab-df-convert:hover {\n",
              "      background-color: #434B5C;\n",
              "      box-shadow: 0px 1px 3px 1px rgba(0, 0, 0, 0.15);\n",
              "      filter: drop-shadow(0px 1px 2px rgba(0, 0, 0, 0.3));\n",
              "      fill: #FFFFFF;\n",
              "    }\n",
              "  </style>\n",
              "\n",
              "    <script>\n",
              "      const buttonEl =\n",
              "        document.querySelector('#df-3bb3fcbe-d731-4c0d-bed4-0ac1ec7e9d75 button.colab-df-convert');\n",
              "      buttonEl.style.display =\n",
              "        google.colab.kernel.accessAllowed ? 'block' : 'none';\n",
              "\n",
              "      async function convertToInteractive(key) {\n",
              "        const element = document.querySelector('#df-3bb3fcbe-d731-4c0d-bed4-0ac1ec7e9d75');\n",
              "        const dataTable =\n",
              "          await google.colab.kernel.invokeFunction('convertToInteractive',\n",
              "                                                    [key], {});\n",
              "        if (!dataTable) return;\n",
              "\n",
              "        const docLinkHtml = 'Like what you see? Visit the ' +\n",
              "          '<a target=\"_blank\" href=https://colab.research.google.com/notebooks/data_table.ipynb>data table notebook</a>'\n",
              "          + ' to learn more about interactive tables.';\n",
              "        element.innerHTML = '';\n",
              "        dataTable['output_type'] = 'display_data';\n",
              "        await google.colab.output.renderOutput(dataTable, element);\n",
              "        const docLink = document.createElement('div');\n",
              "        docLink.innerHTML = docLinkHtml;\n",
              "        element.appendChild(docLink);\n",
              "      }\n",
              "    </script>\n",
              "  </div>\n",
              "\n",
              "\n",
              "<div id=\"df-2a311eae-f806-40cf-a7bb-004a674e507e\">\n",
              "  <button class=\"colab-df-quickchart\" onclick=\"quickchart('df-2a311eae-f806-40cf-a7bb-004a674e507e')\"\n",
              "            title=\"Suggest charts\"\n",
              "            style=\"display:none;\">\n",
              "\n",
              "<svg xmlns=\"http://www.w3.org/2000/svg\" height=\"24px\"viewBox=\"0 0 24 24\"\n",
              "     width=\"24px\">\n",
              "    <g>\n",
              "        <path d=\"M19 3H5c-1.1 0-2 .9-2 2v14c0 1.1.9 2 2 2h14c1.1 0 2-.9 2-2V5c0-1.1-.9-2-2-2zM9 17H7v-7h2v7zm4 0h-2V7h2v10zm4 0h-2v-4h2v4z\"/>\n",
              "    </g>\n",
              "</svg>\n",
              "  </button>\n",
              "\n",
              "<style>\n",
              "  .colab-df-quickchart {\n",
              "      --bg-color: #E8F0FE;\n",
              "      --fill-color: #1967D2;\n",
              "      --hover-bg-color: #E2EBFA;\n",
              "      --hover-fill-color: #174EA6;\n",
              "      --disabled-fill-color: #AAA;\n",
              "      --disabled-bg-color: #DDD;\n",
              "  }\n",
              "\n",
              "  [theme=dark] .colab-df-quickchart {\n",
              "      --bg-color: #3B4455;\n",
              "      --fill-color: #D2E3FC;\n",
              "      --hover-bg-color: #434B5C;\n",
              "      --hover-fill-color: #FFFFFF;\n",
              "      --disabled-bg-color: #3B4455;\n",
              "      --disabled-fill-color: #666;\n",
              "  }\n",
              "\n",
              "  .colab-df-quickchart {\n",
              "    background-color: var(--bg-color);\n",
              "    border: none;\n",
              "    border-radius: 50%;\n",
              "    cursor: pointer;\n",
              "    display: none;\n",
              "    fill: var(--fill-color);\n",
              "    height: 32px;\n",
              "    padding: 0;\n",
              "    width: 32px;\n",
              "  }\n",
              "\n",
              "  .colab-df-quickchart:hover {\n",
              "    background-color: var(--hover-bg-color);\n",
              "    box-shadow: 0 1px 2px rgba(60, 64, 67, 0.3), 0 1px 3px 1px rgba(60, 64, 67, 0.15);\n",
              "    fill: var(--button-hover-fill-color);\n",
              "  }\n",
              "\n",
              "  .colab-df-quickchart-complete:disabled,\n",
              "  .colab-df-quickchart-complete:disabled:hover {\n",
              "    background-color: var(--disabled-bg-color);\n",
              "    fill: var(--disabled-fill-color);\n",
              "    box-shadow: none;\n",
              "  }\n",
              "\n",
              "  .colab-df-spinner {\n",
              "    border: 2px solid var(--fill-color);\n",
              "    border-color: transparent;\n",
              "    border-bottom-color: var(--fill-color);\n",
              "    animation:\n",
              "      spin 1s steps(1) infinite;\n",
              "  }\n",
              "\n",
              "  @keyframes spin {\n",
              "    0% {\n",
              "      border-color: transparent;\n",
              "      border-bottom-color: var(--fill-color);\n",
              "      border-left-color: var(--fill-color);\n",
              "    }\n",
              "    20% {\n",
              "      border-color: transparent;\n",
              "      border-left-color: var(--fill-color);\n",
              "      border-top-color: var(--fill-color);\n",
              "    }\n",
              "    30% {\n",
              "      border-color: transparent;\n",
              "      border-left-color: var(--fill-color);\n",
              "      border-top-color: var(--fill-color);\n",
              "      border-right-color: var(--fill-color);\n",
              "    }\n",
              "    40% {\n",
              "      border-color: transparent;\n",
              "      border-right-color: var(--fill-color);\n",
              "      border-top-color: var(--fill-color);\n",
              "    }\n",
              "    60% {\n",
              "      border-color: transparent;\n",
              "      border-right-color: var(--fill-color);\n",
              "    }\n",
              "    80% {\n",
              "      border-color: transparent;\n",
              "      border-right-color: var(--fill-color);\n",
              "      border-bottom-color: var(--fill-color);\n",
              "    }\n",
              "    90% {\n",
              "      border-color: transparent;\n",
              "      border-bottom-color: var(--fill-color);\n",
              "    }\n",
              "  }\n",
              "</style>\n",
              "\n",
              "  <script>\n",
              "    async function quickchart(key) {\n",
              "      const quickchartButtonEl =\n",
              "        document.querySelector('#' + key + ' button');\n",
              "      quickchartButtonEl.disabled = true;  // To prevent multiple clicks.\n",
              "      quickchartButtonEl.classList.add('colab-df-spinner');\n",
              "      try {\n",
              "        const charts = await google.colab.kernel.invokeFunction(\n",
              "            'suggestCharts', [key], {});\n",
              "      } catch (error) {\n",
              "        console.error('Error during call to suggestCharts:', error);\n",
              "      }\n",
              "      quickchartButtonEl.classList.remove('colab-df-spinner');\n",
              "      quickchartButtonEl.classList.add('colab-df-quickchart-complete');\n",
              "    }\n",
              "    (() => {\n",
              "      let quickchartButtonEl =\n",
              "        document.querySelector('#df-2a311eae-f806-40cf-a7bb-004a674e507e button');\n",
              "      quickchartButtonEl.style.display =\n",
              "        google.colab.kernel.accessAllowed ? 'block' : 'none';\n",
              "    })();\n",
              "  </script>\n",
              "</div>\n",
              "\n",
              "  <div id=\"id_bb969d9f-c335-4976-946d-c620ef37d6a8\">\n",
              "    <style>\n",
              "      .colab-df-generate {\n",
              "        background-color: #E8F0FE;\n",
              "        border: none;\n",
              "        border-radius: 50%;\n",
              "        cursor: pointer;\n",
              "        display: none;\n",
              "        fill: #1967D2;\n",
              "        height: 32px;\n",
              "        padding: 0 0 0 0;\n",
              "        width: 32px;\n",
              "      }\n",
              "\n",
              "      .colab-df-generate:hover {\n",
              "        background-color: #E2EBFA;\n",
              "        box-shadow: 0px 1px 2px rgba(60, 64, 67, 0.3), 0px 1px 3px 1px rgba(60, 64, 67, 0.15);\n",
              "        fill: #174EA6;\n",
              "      }\n",
              "\n",
              "      [theme=dark] .colab-df-generate {\n",
              "        background-color: #3B4455;\n",
              "        fill: #D2E3FC;\n",
              "      }\n",
              "\n",
              "      [theme=dark] .colab-df-generate:hover {\n",
              "        background-color: #434B5C;\n",
              "        box-shadow: 0px 1px 3px 1px rgba(0, 0, 0, 0.15);\n",
              "        filter: drop-shadow(0px 1px 2px rgba(0, 0, 0, 0.3));\n",
              "        fill: #FFFFFF;\n",
              "      }\n",
              "    </style>\n",
              "    <button class=\"colab-df-generate\" onclick=\"generateWithVariable('X_pca')\"\n",
              "            title=\"Generate code using this dataframe.\"\n",
              "            style=\"display:none;\">\n",
              "\n",
              "  <svg xmlns=\"http://www.w3.org/2000/svg\" height=\"24px\"viewBox=\"0 0 24 24\"\n",
              "       width=\"24px\">\n",
              "    <path d=\"M7,19H8.4L18.45,9,17,7.55,7,17.6ZM5,21V16.75L18.45,3.32a2,2,0,0,1,2.83,0l1.4,1.43a1.91,1.91,0,0,1,.58,1.4,1.91,1.91,0,0,1-.58,1.4L9.25,21ZM18.45,9,17,7.55Zm-12,3A5.31,5.31,0,0,0,4.9,8.1,5.31,5.31,0,0,0,1,6.5,5.31,5.31,0,0,0,4.9,4.9,5.31,5.31,0,0,0,6.5,1,5.31,5.31,0,0,0,8.1,4.9,5.31,5.31,0,0,0,12,6.5,5.46,5.46,0,0,0,6.5,12Z\"/>\n",
              "  </svg>\n",
              "    </button>\n",
              "    <script>\n",
              "      (() => {\n",
              "      const buttonEl =\n",
              "        document.querySelector('#id_bb969d9f-c335-4976-946d-c620ef37d6a8 button.colab-df-generate');\n",
              "      buttonEl.style.display =\n",
              "        google.colab.kernel.accessAllowed ? 'block' : 'none';\n",
              "\n",
              "      buttonEl.onclick = () => {\n",
              "        google.colab.notebook.generateWithVariable('X_pca');\n",
              "      }\n",
              "      })();\n",
              "    </script>\n",
              "  </div>\n",
              "\n",
              "    </div>\n",
              "  </div>\n"
            ],
            "application/vnd.google.colaboratory.intrinsic+json": {
              "type": "dataframe",
              "variable_name": "X_pca",
              "summary": "{\n  \"name\": \"X_pca\",\n  \"rows\": 4,\n  \"fields\": [\n    {\n      \"column\": 0,\n      \"properties\": {\n        \"dtype\": \"float32\",\n        \"num_unique_values\": 4,\n        \"samples\": [\n          7.170280933380127,\n          3.885104179382324,\n          -5.975981712341309\n        ],\n        \"semantic_type\": \"\",\n        \"description\": \"\"\n      }\n    },\n    {\n      \"column\": 1,\n      \"properties\": {\n        \"dtype\": \"float32\",\n        \"num_unique_values\": 4,\n        \"samples\": [\n          -1.21152925491333,\n          1.593977928161621,\n          -0.6152533292770386\n        ],\n        \"semantic_type\": \"\",\n        \"description\": \"\"\n      }\n    }\n  ]\n}"
            }
          },
          "metadata": {},
          "execution_count": 87
        }
      ]
    },
    {
      "cell_type": "markdown",
      "source": [
        "**Plotting the PCA Results:**\n",
        "- Scatter Plot: Each sentence is now represented as a point on a 2D plane based on its PCA-transformed CLS token output. This visualization helps to see how similar or different sentences are, according to the model.\n",
        "- Annotations: Each point can be annotated to show the index of the sentence it represents. You can replace this with more meaningful annotations (like parts of the sentence) if desired.\n",
        "- Grid and Labels: To make the plot more readable, we add axis labels, a title, and grid lines."
      ],
      "metadata": {
        "id": "7ayQ1wCuKTM7"
      }
    },
    {
      "cell_type": "code",
      "source": [
        "plt.figure(figsize=(8, 6))  # Set the figure size for the plot\n",
        "scatter = plt.scatter(X_pca.loc[:, 0], X_pca.loc[:, 1])  # Plot the two PCA components (first and second principal component)\n",
        "\n",
        "# Annotate each point in the scatter plot\n",
        "for i in range(X_pca.shape[0]):\n",
        "    cur_record = X_pca.iloc[i,:].copy()\n",
        "    plt.annotate(cur_record.name, (cur_record[0], cur_record[1]))  # Annotate each point with its index\n",
        "\n",
        "# Label the axes\n",
        "plt.xlabel('Principal Component 1')\n",
        "plt.ylabel('Principal Component 2')\n",
        "\n",
        "# Title for the plot\n",
        "plt.title('PCA of the CLS Token Output')\n",
        "\n",
        "# Display a grid for better readability\n",
        "plt.grid(True)\n",
        "\n",
        "# Show the plot\n",
        "plt.show()\n"
      ],
      "metadata": {
        "colab": {
          "base_uri": "https://localhost:8080/",
          "height": 564
        },
        "id": "j71LA891KeLj",
        "outputId": "a7d39c6a-0835-46fc-f42e-191950970813"
      },
      "execution_count": 88,
      "outputs": [
        {
          "output_type": "display_data",
          "data": {
            "text/plain": [
              "<Figure size 800x600 with 1 Axes>"
            ],
            "image/png": "[encoded data removed]"
          },
          "metadata": {}
        }
      ]
    },
    {
      "cell_type": "markdown",
      "source": [
        "**Checking Predictions:** After visualizing the CLS token output, it’s useful to check the corresponding predictions to understand whether the model’s representation (as seen in the PCA plot) aligns with the predictions. For example, sentences with similar sentiments should cluster together in the PCA plot."
      ],
      "metadata": {
        "id": "TAxVFZgsLBvl"
      }
    },
    {
      "cell_type": "code",
      "source": [
        "# Print the sentiment predictions for the custom sentences\n",
        "print(predictions)\n"
      ],
      "metadata": {
        "colab": {
          "base_uri": "https://localhost:8080/"
        },
        "id": "8_6dXaDELFUe",
        "outputId": "81de845b-0069-4a32-a86a-70c6ff93c530"
      },
      "execution_count": 89,
      "outputs": [
        {
          "output_type": "stream",
          "name": "stdout",
          "text": [
            "tensor([1, 0, 1, 0], device='cuda:0')\n"
          ]
        }
      ]
    },
    {
      "cell_type": "markdown",
      "source": [
        "## 4B2: Inspecting Layer Weights in the Trained Model\n",
        "\n",
        "In this section, we aim to inspect and understand the internal weights of a trained transformer model. Accessing the model's weights is crucial for debugging, understanding how the model is learning, and potentially making custom adjustments."
      ],
      "metadata": {
        "id": "sIXwgIa7f3AE"
      }
    },
    {
      "cell_type": "markdown",
      "source": [
        "**Accessing the Model’s state_dict**:\n",
        "\n",
        "- The state_dict is a dictionary-like object that stores all the parameters of the model, such as weights and biases, indexed by their corresponding layer names. Each key in this dictionary represents a specific layer, and the associated value holds the weights or biases for that layer.\n",
        "\n",
        "- Purpose: By printing the keys (layer names) and the corresponding parameter sizes, you get a complete overview of the model’s architecture. This allows you to see how the layers are structured and how much information each layer is responsible for processing. It's especially useful for understanding the internal structure of the model and verifying that the model layers are set up correctly.\n",
        "\n",
        "- Why This Is Important: Inspecting the internal weights and biases of your model is essential for understanding how the model is learning and processing data. Each layer's weight matrix plays a crucial role in transforming the input data as it moves through the model. By checking these weights, you ensure that the model is learning as expected, which is critical for debugging, analyzing, and fine-tuning the model’s performance.\n",
        "\n",
        "- This process helps ensure that the model is functioning as intended and provides insights into how the model adapts to the input data during training."
      ],
      "metadata": {
        "id": "hAxBCX29LoJd"
      }
    },
    {
      "cell_type": "code",
      "source": [
        "# Assuming model is your trained PyTorch model\n",
        "# The 'state_dict' contains all the weights and biases of the model layers\n",
        "\n",
        "state_dict = model.state_dict()\n",
        "\n",
        "# Print all keys in the state_dict to see available weights\n",
        "for name, param in state_dict.items():\n",
        "    print(f\"Layer: {name}, Size: {param.size()}\")\n"
      ],
      "metadata": {
        "id": "5dz0d6KQYAnE",
        "colab": {
          "base_uri": "https://localhost:8080/"
        },
        "outputId": "88f2391e-2710-48cb-8b72-537bca96c3f8"
      },
      "execution_count": 90,
      "outputs": [
        {
          "output_type": "stream",
          "name": "stdout",
          "text": [
            "Layer: embedding.weight, Size: torch.Size([28996, 64])\n",
            "Layer: pos_encoding.pe, Size: torch.Size([1, 512, 64])\n",
            "Layer: transformer_blocks.0.ln1.weight, Size: torch.Size([64])\n",
            "Layer: transformer_blocks.0.ln1.bias, Size: torch.Size([64])\n",
            "Layer: transformer_blocks.0.ln2.weight, Size: torch.Size([64])\n",
            "Layer: transformer_blocks.0.ln2.bias, Size: torch.Size([64])\n",
            "Layer: transformer_blocks.0.mha.key.weight, Size: torch.Size([64, 64])\n",
            "Layer: transformer_blocks.0.mha.key.bias, Size: torch.Size([64])\n",
            "Layer: transformer_blocks.0.mha.query.weight, Size: torch.Size([64, 64])\n",
            "Layer: transformer_blocks.0.mha.query.bias, Size: torch.Size([64])\n",
            "Layer: transformer_blocks.0.mha.value.weight, Size: torch.Size([64, 64])\n",
            "Layer: transformer_blocks.0.mha.value.bias, Size: torch.Size([64])\n",
            "Layer: transformer_blocks.0.mha.fc.weight, Size: torch.Size([64, 64])\n",
            "Layer: transformer_blocks.0.mha.fc.bias, Size: torch.Size([64])\n",
            "Layer: transformer_blocks.0.ann.0.weight, Size: torch.Size([256, 64])\n",
            "Layer: transformer_blocks.0.ann.0.bias, Size: torch.Size([256])\n",
            "Layer: transformer_blocks.0.ann.2.weight, Size: torch.Size([64, 256])\n",
            "Layer: transformer_blocks.0.ann.2.bias, Size: torch.Size([64])\n",
            "Layer: transformer_blocks.1.ln1.weight, Size: torch.Size([64])\n",
            "Layer: transformer_blocks.1.ln1.bias, Size: torch.Size([64])\n",
            "Layer: transformer_blocks.1.ln2.weight, Size: torch.Size([64])\n",
            "Layer: transformer_blocks.1.ln2.bias, Size: torch.Size([64])\n",
            "Layer: transformer_blocks.1.mha.key.weight, Size: torch.Size([64, 64])\n",
            "Layer: transformer_blocks.1.mha.key.bias, Size: torch.Size([64])\n",
            "Layer: transformer_blocks.1.mha.query.weight, Size: torch.Size([64, 64])\n",
            "Layer: transformer_blocks.1.mha.query.bias, Size: torch.Size([64])\n",
            "Layer: transformer_blocks.1.mha.value.weight, Size: torch.Size([64, 64])\n",
            "Layer: transformer_blocks.1.mha.value.bias, Size: torch.Size([64])\n",
            "Layer: transformer_blocks.1.mha.fc.weight, Size: torch.Size([64, 64])\n",
            "Layer: transformer_blocks.1.mha.fc.bias, Size: torch.Size([64])\n",
            "Layer: transformer_blocks.1.ann.0.weight, Size: torch.Size([256, 64])\n",
            "Layer: transformer_blocks.1.ann.0.bias, Size: torch.Size([256])\n",
            "Layer: transformer_blocks.1.ann.2.weight, Size: torch.Size([64, 256])\n",
            "Layer: transformer_blocks.1.ann.2.bias, Size: torch.Size([64])\n",
            "Layer: fc_out.weight, Size: torch.Size([2, 64])\n",
            "Layer: fc_out.bias, Size: torch.Size([2])\n"
          ]
        }
      ]
    },
    {
      "cell_type": "markdown",
      "source": [
        "**Accessing Weights of a Specific Layer:**\n",
        "- Explanation:\n",
        "  - Layer name: In this example, we are looking at the query weight matrix in the first transformer block's multi-head attention layer (mha.query.weight). The name of this layer is based on how it is structured in the model.\n",
        "      - transformer_blocks.0 refers to the first block of the transformer.\n",
        "      - mha.query.weight is the query weight matrix in the multi-head attention mechanism.\n",
        "  - Accessing the layer weights: Using the state_dict dictionary, we can extract the specific weights of this layer.\n",
        "  - Print the weights and dimensions: We print the values of the weights as well as their shape to inspect what the model has learned for that layer.\n",
        "\n",
        "- Why this is important:\n",
        "  - Debugging and analysis: By accessing a specific layer’s weights, you can inspect what the model has learned. For instance, in multi-head attention, the query weight matrix determines how the model focuses on different parts of the input sequence.\n",
        "  - Model interpretation: Understanding the shape and values of the weights helps you verify that the model is learning as expected and can provide insights into how the attention mechanism works internally."
      ],
      "metadata": {
        "id": "acDPtaUxMQml"
      }
    },
    {
      "cell_type": "code",
      "source": [
        "# Example: Accessing weights of a specific layer in the transformer model\n",
        "# In this case, we're interested in the query weights of the first multi-head attention layer\n",
        "layer_name = 'transformer_blocks.0.mha.query.weight'  # Specify the layer you want to access\n",
        "\n",
        "# Extract the weights of this specific layer\n",
        "layer_weights = state_dict[layer_name]\n",
        "\n",
        "# Print the weights of the selected layer and their dimensions\n",
        "print(f\"Weights of {layer_name}:\")\n",
        "print(layer_weights)\n",
        "print(f'Dim: {layer_weights.shape}')\n"
      ],
      "metadata": {
        "id": "Or4lFRLaYfTC",
        "colab": {
          "base_uri": "https://localhost:8080/"
        },
        "outputId": "4bb0cc90-3924-48fc-86d2-544ba9d25b12"
      },
      "execution_count": 91,
      "outputs": [
        {
          "output_type": "stream",
          "name": "stdout",
          "text": [
            "Weights of transformer_blocks.0.mha.query.weight:\n",
            "tensor([[ 0.0510, -0.1041, -0.0073,  ..., -0.0436,  0.0890,  0.0708],\n",
            "        [ 0.0112, -0.0871,  0.1724,  ..., -0.0378,  0.0939, -0.0058],\n",
            "        [-0.0405, -0.1127,  0.0513,  ...,  0.1051,  0.1368,  0.0834],\n",
            "        ...,\n",
            "        [ 0.1396, -0.1692,  0.0787,  ...,  0.0174,  0.2469, -0.1899],\n",
            "        [ 0.0023, -0.0962,  0.0565,  ..., -0.0893,  0.0796,  0.0590],\n",
            "        [-0.1533, -0.0740, -0.0544,  ..., -0.0726,  0.0167, -0.1418]],\n",
            "       device='cuda:0')\n",
            "Dim: torch.Size([64, 64])\n"
          ]
        }
      ]
    },
    {
      "cell_type": "markdown",
      "source": [
        "## 4B3: Inspecting the Embeddings Layer\n",
        "\n",
        "In this section, we are focusing on inspecting the embedding layer of the model. The embedding layer is responsible for converting input tokens (words or subwords) into continuous vector representations that can be processed by the transformer model. These embeddings are a crucial part of how the model interprets and learns relationships between words."
      ],
      "metadata": {
        "id": "MGfSZ9pvgBzo"
      }
    },
    {
      "cell_type": "markdown",
      "source": [
        "**Accessing the Embedding Layer Weights**:\n",
        "\n",
        "- Explanation:\n",
        "  - Embedding Layer: The embedding.weight is the set of embeddings that maps each word (or token) from the vocabulary into a continuous vector space.\n",
        "  - Accessing weights: By specifying embedding.weight as the layer name, we extract the learned word vectors for the entire vocabulary from the model’s state_dict.\n",
        "  - Print the weights and dimensions: After extracting the embeddings, we print them to inspect how the model has learned to represent words. The dimension of the weights will indicate how large the vocabulary is (number of tokens) and the size of the vector used to represent each word (embedding dimension).\n",
        "- Why this is important:\n",
        "The embedding layer is critical because it transforms discrete word tokens into continuous vector representations that the model can process. By inspecting these embeddings, we can verify whether the model has learned meaningful word representations. Each word or token is mapped to a unique embedding vector that encodes semantic relationships between words."
      ],
      "metadata": {
        "id": "Y_uRSzIaNVOI"
      }
    },
    {
      "cell_type": "code",
      "source": [
        "# Specify the layer name for the embedding weights\n",
        "layer_name = 'embedding.weight'  # This points to the embedding layer of the model\n",
        "\n",
        "# Extract the weights of the embedding layer from the model's state dictionary\n",
        "layer_weights = state_dict[layer_name]\n",
        "\n",
        "# Print the weights of the embedding layer and their dimensions\n",
        "print(f\"Weights of {layer_name}:\")\n",
        "print(layer_weights)\n",
        "print(f'Dim: {layer_weights.shape}')\n"
      ],
      "metadata": {
        "id": "q_7NEmcTY1LO",
        "colab": {
          "base_uri": "https://localhost:8080/"
        },
        "outputId": "f3d11c48-1d9a-4cc8-b0f9-da3e1a403156"
      },
      "execution_count": 92,
      "outputs": [
        {
          "output_type": "stream",
          "name": "stdout",
          "text": [
            "Weights of embedding.weight:\n",
            "tensor([[ 0.4125,  1.2084,  1.0752,  ...,  0.4836, -0.1298, -0.6972],\n",
            "        [ 0.3495, -1.2032,  0.7195,  ..., -0.1309, -0.3047, -0.6155],\n",
            "        [ 0.6616, -1.4361,  1.0968,  ..., -0.8420, -0.6925,  0.5882],\n",
            "        ...,\n",
            "        [-1.9613,  0.7972,  0.1082,  ..., -0.6414,  2.0235,  0.0399],\n",
            "        [ 0.1950, -1.2179, -2.1154,  ..., -0.7434,  1.6861,  0.0533],\n",
            "        [-1.6200,  2.3770,  1.1757,  ...,  0.9657, -0.7855, -0.5664]],\n",
            "       device='cuda:0')\n",
            "Dim: torch.Size([28996, 64])\n"
          ]
        }
      ]
    },
    {
      "cell_type": "markdown",
      "source": [
        "**Vocabulary Size and Tokenization**\n",
        "\n",
        "- Explanation:\n",
        "  - Vocabulary Size: len(tokenizer.vocab.keys()) gives the total number of unique tokens (words or subwords) that the tokenizer uses. This should match the size of the embedding layer’s first dimension (number of rows in the weight matrix).\n",
        "  - Inspecting the Vocabulary: tokenizer.vocab returns the full mapping of token strings to their corresponding token IDs. This allows us to understand which words or subwords are being represented in the embedding layer.\n",
        "- Why this is important:\n",
        "  - Consistency Check: Checking the vocabulary size helps ensure that the embedding layer correctly matches the tokenizer's vocabulary. The number of embeddings should be equal to the number of unique tokens in the vocabulary.\n",
        "  - Vocabulary Analysis: By inspecting the vocabulary, you gain insight into how the text is tokenized and how the words or subwords are represented in the model. This helps you understand how the model interprets the input text before converting it into embeddings.\n"
      ],
      "metadata": {
        "id": "aT4PQ7CSNnsu"
      }
    },
    {
      "cell_type": "code",
      "source": [
        "# Check the size of the vocabulary used by the tokenizer\n",
        "len(tokenizer.vocab.keys())\n",
        "\n",
        "# Inspect the tokenizer's vocabulary\n",
        "tokenizer.vocab\n"
      ],
      "metadata": {
        "id": "2TlieEt7Y7Pl",
        "colab": {
          "base_uri": "https://localhost:8080/"
        },
        "outputId": "db9c80da-a511-489e-8014-6c5b259525b3"
      },
      "execution_count": 93,
      "outputs": [
        {
          "output_type": "execute_result",
          "data": {
            "text/plain": [
              "{'rebuilt': 6669,\n",
              " '2011': 1349,\n",
              " '##MO': 20647,\n",
              " '⟨': 882,\n",
              " 'moaning': 26944,\n",
              " 'N': 151,\n",
              " '##eman': 12437,\n",
              " '##●': 28766,\n",
              " '##LP': 20009,\n",
              " '##emption': 19007,\n",
              " 'prison': 3315,\n",
              " 'display': 3934,\n",
              " '##ryn': 15023,\n",
              " '##ych': 21155,\n",
              " '##ilizer': 25833,\n",
              " '##ismic': 24864,\n",
              " '##ivist': 23936,\n",
              " 'density': 3476,\n",
              " 'vacation': 12020,\n",
              " 'Miller': 3902,\n",
              " 'assessing': 23529,\n",
              " 'Guitar': 7656,\n",
              " '##word': 12565,\n",
              " 'probation': 23793,\n",
              " 'れ': 929,\n",
              " '##glass': 16802,\n",
              " 'Hits': 12852,\n",
              " '##berry': 6614,\n",
              " '##hs': 9524,\n",
              " '[unused55]': 55,\n",
              " '##uveau': 27377,\n",
              " 'noteworthy': 22076,\n",
              " 'MW': 13277,\n",
              " 'racism': 16654,\n",
              " 'Brandon': 8464,\n",
              " 'jolt': 26078,\n",
              " '1795': 13731,\n",
              " 'Muir': 25952,\n",
              " 'Davies': 8746,\n",
              " 'pig': 13407,\n",
              " 'naturalist': 23439,\n",
              " 'spectacular': 14449,\n",
              " '##ogue': 18597,\n",
              " 'economically': 16682,\n",
              " 'Honour': 16451,\n",
              " 'papers': 4580,\n",
              " 'torment': 25944,\n",
              " 'rendering': 15171,\n",
              " 'Advisory': 9433,\n",
              " 'Girl': 4537,\n",
              " 'relates': 15286,\n",
              " '##egan': 18886,\n",
              " 'delayed': 8088,\n",
              " 'ribbon': 14253,\n",
              " 'missionary': 10263,\n",
              " 'startling': 22425,\n",
              " 'sticks': 13963,\n",
              " 'self': 2191,\n",
              " 'instant': 6879,\n",
              " '##bria': 24911,\n",
              " '##icious': 25430,\n",
              " '##nga': 12253,\n",
              " 'listening': 5578,\n",
              " '##dridge': 23760,\n",
              " 'waters': 5635,\n",
              " 'Carmel': 21208,\n",
              " 'Almost': 8774,\n",
              " 'USS': 6684,\n",
              " 'gymnastics': 20679,\n",
              " '##hasa': 22533,\n",
              " 'identifying': 12760,\n",
              " 'institution': 5375,\n",
              " 'testified': 15627,\n",
              " 'bounds': 22379,\n",
              " '##burne': 26980,\n",
              " 'clicking': 25600,\n",
              " 'continuation': 14961,\n",
              " 'homeland': 14764,\n",
              " 'Honors': 25796,\n",
              " 'Carla': 18301,\n",
              " '##Ψ': 28333,\n",
              " 'shocked': 6764,\n",
              " '##cular': 11702,\n",
              " 'Freddie': 16393,\n",
              " 'aloud': 13934,\n",
              " 'ball': 3240,\n",
              " 'furrowed': 22538,\n",
              " '##ź': 28257,\n",
              " 'Midland': 12467,\n",
              " '##ditions': 16718,\n",
              " 'suddenly': 2840,\n",
              " 'exclude': 26132,\n",
              " 'Lots': 24270,\n",
              " 'イ': 933,\n",
              " 'Gunner': 21913,\n",
              " 'Appalachian': 21464,\n",
              " 'cattle': 6937,\n",
              " 'examine': 11755,\n",
              " 'ն': 521,\n",
              " 'bits': 9182,\n",
              " '##BS': 9782,\n",
              " 'Asian': 3141,\n",
              " 'tested': 7289,\n",
              " 'Vinnie': 27213,\n",
              " 'Roosevelt': 8189,\n",
              " 'dans': 22463,\n",
              " 'Kat': 10785,\n",
              " 'movements': 5172,\n",
              " 'behalf': 6261,\n",
              " 'rounded': 7982,\n",
              " 'badge': 13088,\n",
              " '##corn': 13433,\n",
              " '##ht': 17439,\n",
              " 'Harcourt': 25272,\n",
              " 'Benedict': 12334,\n",
              " 'Johnny': 4414,\n",
              " 'Council': 1761,\n",
              " '##feit': 23221,\n",
              " 'GB': 17909,\n",
              " 'prosecutors': 24987,\n",
              " 'Clarke': 7949,\n",
              " 'patch': 10085,\n",
              " '##lop': 13200,\n",
              " 'moss': 24908,\n",
              " 'Senator': 5293,\n",
              " 'damn': 4477,\n",
              " 'Belt': 15834,\n",
              " 'trademark': 12557,\n",
              " 'Guerrero': 18079,\n",
              " 'Currie': 22642,\n",
              " 'Rosario': 19274,\n",
              " '##classical': 23974,\n",
              " '##lsive': 27199,\n",
              " 'ensuring': 13291,\n",
              " '##bilities': 15951,\n",
              " '##erton': 20024,\n",
              " 'casualties': 8487,\n",
              " '##hampton': 24207,\n",
              " '£': 202,\n",
              " '##Ա': 28423,\n",
              " 'clamped': 20129,\n",
              " '##mation': 16059,\n",
              " 'paid': 3004,\n",
              " '1914': 3710,\n",
              " '##nect': 21032,\n",
              " '##ハ': 28850,\n",
              " 'arms': 1739,\n",
              " 'cancer': 4182,\n",
              " 'Mets': 16299,\n",
              " 'strong': 2012,\n",
              " 'Reserve': 5081,\n",
              " '##lemma': 23397,\n",
              " 'caution': 15597,\n",
              " '##form': 13199,\n",
              " '##istic': 5562,\n",
              " 'tenure': 6999,\n",
              " '##rky': 15538,\n",
              " '##bury': 4109,\n",
              " 'agent': 3677,\n",
              " 'plaintiff': 23940,\n",
              " 'Hernandez': 23819,\n",
              " 'Hispanic': 6098,\n",
              " '##backs': 11713,\n",
              " 'Mrs': 2823,\n",
              " 'edge': 2652,\n",
              " '92': 5556,\n",
              " 'perennial': 15894,\n",
              " 'assignments': 15799,\n",
              " 'Ice': 6172,\n",
              " '##tian': 11969,\n",
              " 'Keith': 6162,\n",
              " 'Photography': 12954,\n",
              " 'lord': 7692,\n",
              " 'tub': 15511,\n",
              " 'var': 15661,\n",
              " '##¨': 28162,\n",
              " 'circles': 7839,\n",
              " '36th': 23646,\n",
              " 'Adler': 19358,\n",
              " 'explode': 16099,\n",
              " 'based': 1359,\n",
              " 'Boise': 25941,\n",
              " 'inflicted': 18567,\n",
              " 'prefix': 19586,\n",
              " 'setup': 18011,\n",
              " 'Pub': 21385,\n",
              " 'Terence': 25228,\n",
              " 'attend': 4739,\n",
              " 'bacteria': 10548,\n",
              " 'complicated': 8277,\n",
              " '##cology': 12241,\n",
              " 'template': 27821,\n",
              " 'objective': 7649,\n",
              " 'alliance': 7214,\n",
              " 'applying': 11892,\n",
              " 'Matrix': 25178,\n",
              " '##wives': 26791,\n",
              " '##pelling': 24542,\n",
              " 'entrances': 19914,\n",
              " 'Tonga': 22114,\n",
              " '[unused59]': 59,\n",
              " 'employed': 4071,\n",
              " 'Draft': 7060,\n",
              " 'Kosovo': 11494,\n",
              " 'Rand': 16731,\n",
              " 'discarded': 16041,\n",
              " 'finishing': 4416,\n",
              " 'suggesting': 8783,\n",
              " 'compulsory': 16472,\n",
              " '##tended': 21857,\n",
              " 'written': 1637,\n",
              " 'Saudi': 7721,\n",
              " 'Indy': 19881,\n",
              " 'Jay': 5525,\n",
              " 'enlisted': 9358,\n",
              " '##fo': 14467,\n",
              " '##skin': 22934,\n",
              " 'invisible': 10062,\n",
              " '1784': 17521,\n",
              " '290': 18374,\n",
              " 'spinal': 19245,\n",
              " '##ians': 5895,\n",
              " '##ie': 1663,\n",
              " 'Netflix': 22989,\n",
              " '##佐': 28881,\n",
              " 'marginal': 16404,\n",
              " 'archaeologists': 24104,\n",
              " 'Productions': 7896,\n",
              " 'Platform': 17742,\n",
              " 'winter': 3701,\n",
              " 'cavalry': 7915,\n",
              " 'hear': 2100,\n",
              " '##à': 9183,\n",
              " '##dbury': 26837,\n",
              " 'Fringe': 23863,\n",
              " 'Experience': 15843,\n",
              " 'Lyon': 10067,\n",
              " 'St': 1457,\n",
              " 'dull': 10884,\n",
              " 'brow': 8001,\n",
              " 'Paddy': 21211,\n",
              " 'utterly': 13006,\n",
              " 'Secrets': 19958,\n",
              " '211': 20915,\n",
              " '##otype': 27172,\n",
              " 'report': 2592,\n",
              " 'expressions': 11792,\n",
              " 'appear': 2845,\n",
              " 'strikeouts': 23318,\n",
              " 'afford': 8658,\n",
              " '##dged': 17363,\n",
              " 'daily': 3828,\n",
              " 'catching': 9256,\n",
              " '##nding': 17038,\n",
              " 'average': 1903,\n",
              " 'autonomous': 10661,\n",
              " 'Neil': 6003,\n",
              " 'assessments': 25451,\n",
              " 'chronicles': 22329,\n",
              " 'concepts': 8550,\n",
              " '##fting': 16364,\n",
              " 'limestone': 10718,\n",
              " 'booked': 18951,\n",
              " '##rama': 21571,\n",
              " 'shivering': 22397,\n",
              " 'primary': 2425,\n",
              " 'Older': 26694,\n",
              " '##仁': 28880,\n",
              " '##yler': 21944,\n",
              " 'consecutive': 4776,\n",
              " 'Janata': 22202,\n",
              " '##pse': 17783,\n",
              " '##ア': 28824,\n",
              " 'Infrastructure': 22791,\n",
              " 'Qing': 13838,\n",
              " 'Ogden': 25868,\n",
              " 'mine': 2317,\n",
              " '##dong': 17091,\n",
              " 'sweating': 21234,\n",
              " 'tribunal': 23893,\n",
              " '中': 980,\n",
              " 'Includes': 25051,\n",
              " '##lake': 13238,\n",
              " 'Con': 16752,\n",
              " 'ʑ': 373,\n",
              " '##ân': 27708,\n",
              " '##roi': 21418,\n",
              " '##ranton': 27601,\n",
              " 'filed': 5770,\n",
              " '¹': 219,\n",
              " '##ʔ': 28296,\n",
              " 'systems': 2344,\n",
              " 'Rodríguez': 15006,\n",
              " 'Erich': 18773,\n",
              " 'submit': 12295,\n",
              " 'studied': 2376,\n",
              " 'Rebel': 17961,\n",
              " '##EE': 27073,\n",
              " '##cue': 27138,\n",
              " 'sniffed': 19407,\n",
              " 'writings': 7961,\n",
              " '##UR': 19556,\n",
              " '##hawk': 19952,\n",
              " 'Beck': 10429,\n",
              " '##rets': 24067,\n",
              " 'childhood': 5153,\n",
              " 'drilled': 27504,\n",
              " 'freaked': 25818,\n",
              " 'Sad': 20572,\n",
              " '本': 1039,\n",
              " '##tor': 2772,\n",
              " 'Dhaka': 17558,\n",
              " 'apps': 23875,\n",
              " 'sky': 3901,\n",
              " 'Rene': 26978,\n",
              " '##rok': 24830,\n",
              " 'similarities': 12672,\n",
              " 'graceful': 21620,\n",
              " 'boards': 8190,\n",
              " 'well': 1218,\n",
              " 'Reformed': 15212,\n",
              " '##bone': 9527,\n",
              " 'NASA': 9085,\n",
              " '##wning': 18469,\n",
              " 'herb': 22245,\n",
              " 'Cyrus': 17093,\n",
              " 'hem': 23123,\n",
              " 'RAM': 20898,\n",
              " 'Will': 3100,\n",
              " 'dear': 7059,\n",
              " 'leans': 12957,\n",
              " 'Brenda': 16400,\n",
              " 'lands': 4508,\n",
              " 'teacher': 3218,\n",
              " 'ties': 7057,\n",
              " 'flags': 14870,\n",
              " 'charm': 11967,\n",
              " 'Indiana': 4456,\n",
              " 'Strip': 18534,\n",
              " 'gut': 9691,\n",
              " 'Madeleine': 21096,\n",
              " 'law': 1644,\n",
              " 'clung': 15409,\n",
              " 'won': 1281,\n",
              " 'Favorite': 22585,\n",
              " 'liberty': 15470,\n",
              " 'Edge': 10403,\n",
              " 'Samantha': 11421,\n",
              " 'flicker': 20454,\n",
              " 'landscapes': 14026,\n",
              " 'maintain': 4731,\n",
              " '##formatics': 27960,\n",
              " 'breakfast': 6462,\n",
              " '##HT': 18784,\n",
              " 'locally': 6889,\n",
              " '##stable': 23276,\n",
              " 'rectangular': 10848,\n",
              " 'ị': 750,\n",
              " 'rejection': 14732,\n",
              " 'Falling': 21151,\n",
              " 'hardness': 26902,\n",
              " 'exceeded': 15582,\n",
              " 'sciences': 8614,\n",
              " 'Words': 13212,\n",
              " '##ā': 9663,\n",
              " '##lose': 20316,\n",
              " 'CS': 24821,\n",
              " 'consumed': 10133,\n",
              " 'shades': 16327,\n",
              " 'admits': 15077,\n",
              " '##ish': 2944,\n",
              " 'beverage': 24802,\n",
              " 'Erwin': 24652,\n",
              " '##ets': 6248,\n",
              " 'wants': 3349,\n",
              " '##bation': 19632,\n",
              " 'establish': 4586,\n",
              " 'evacuation': 15346,\n",
              " 'Max': 3405,\n",
              " 'Job': 18235,\n",
              " '580': 26516,\n",
              " 'come': 1435,\n",
              " 'circular': 8287,\n",
              " 'sporting': 9648,\n",
              " '##cin': 16430,\n",
              " 'Luca': 16730,\n",
              " 'Normandy': 13652,\n",
              " 'coding': 19350,\n",
              " 'recorded': 1802,\n",
              " '¬': 209,\n",
              " 'Federal': 3467,\n",
              " 'polynomial': 19068,\n",
              " 'ᵤ': 722,\n",
              " 'sliding': 7989,\n",
              " 'adjoining': 14241,\n",
              " 'capability': 11137,\n",
              " 'slated': 20191,\n",
              " 'Did': 2966,\n",
              " 'harsh': 8213,\n",
              " 'Congress': 2757,\n",
              " 'jackets': 27310,\n",
              " '##gt': 19815,\n",
              " 'Motown': 25301,\n",
              " '##»': 28175,\n",
              " 'chain': 4129,\n",
              " 'Nigeria': 6860,\n",
              " 'Present': 13653,\n",
              " 'firing': 7142,\n",
              " '##ckle': 19053,\n",
              " 'combines': 14215,\n",
              " 'valued': 11165,\n",
              " 'Joan': 6914,\n",
              " 'Bar': 6523,\n",
              " '##ང': 28589,\n",
              " 'Route': 3320,\n",
              " 'Shepherd': 13444,\n",
              " '##suming': 19951,\n",
              " '1930s': 4970,\n",
              " 'Pol': 17129,\n",
              " 'Capt': 15914,\n",
              " 'approved': 4092,\n",
              " 'ù': 271,\n",
              " 'Challenger': 19322,\n",
              " 'share': 2934,\n",
              " 'Monsieur': 25599,\n",
              " 'nun': 22108,\n",
              " 'Folk': 12539,\n",
              " 'moniker': 24395,\n",
              " '##س': 28484,\n",
              " '##zzo': 12550,\n",
              " '##ʒ': 28295,\n",
              " '##oration': 18227,\n",
              " 'undercover': 20486,\n",
              " 'development': 1718,\n",
              " '##zon': 9515,\n",
              " 'Team': 2649,\n",
              " 'motions': 16628,\n",
              " 'Seoul': 10853,\n",
              " '##lishing': 27706,\n",
              " 'Benin': 23552,\n",
              " 'Exempt': 19861,\n",
              " 'pioneer': 8578,\n",
              " 'Gil': 13876,\n",
              " 'Danger': 21245,\n",
              " 'lobby': 9722,\n",
              " '##ne': 1673,\n",
              " '##ific': 19814,\n",
              " 'lenses': 16938,\n",
              " 'Walkover': 20204,\n",
              " '##nu': 14787,\n",
              " 'Tim': 4446,\n",
              " '1916': 4145,\n",
              " '##dley': 11814,\n",
              " '##drome': 12743,\n",
              " 'rotated': 23050,\n",
              " 'Pitchfork': 27186,\n",
              " 'destruction': 5915,\n",
              " 'continental': 10998,\n",
              " 'grabs': 13707,\n",
              " 'acceptable': 12095,\n",
              " 'slower': 12741,\n",
              " 'robin': 16763,\n",
              " '148': 17474,\n",
              " '##eton': 22273,\n",
              " 'Laboratories': 23874,\n",
              " '##listed': 26511,\n",
              " 'nape': 26808,\n",
              " 'extracted': 16939,\n",
              " 'dressed': 4462,\n",
              " '¶': 217,\n",
              " 'confront': 15034,\n",
              " 'Amazing': 16035,\n",
              " 'Rover': 16823,\n",
              " 'birds': 4939,\n",
              " 'Expressway': 15616,\n",
              " 'grunted': 15637,\n",
              " 'Each': 2994,\n",
              " 'Willow': 15133,\n",
              " '##asperated': 27423,\n",
              " '1777': 17128,\n",
              " 'Forever': 11694,\n",
              " 'Isa': 27334,\n",
              " 'Once': 2857,\n",
              " 'Caucus': 21127,\n",
              " 'wickets': 10267,\n",
              " 'long': 1263,\n",
              " 'Results': 16005,\n",
              " 'occasional': 7957,\n",
              " 'varies': 9544,\n",
              " 'Mae': 12255,\n",
              " 'Nikola': 28010,\n",
              " 'itself': 2111,\n",
              " '##llie': 14367,\n",
              " 'pushed': 2873,\n",
              " '179': 22166,\n",
              " 'Though': 3473,\n",
              " '##plex': 21790,\n",
              " 'persecution': 15873,\n",
              " 'Browne': 15711,\n",
              " '##ibel': 23764,\n",
              " 'Carlton': 13214,\n",
              " '##verse': 10840,\n",
              " 'Anand': 20556,\n",
              " '##les': 2897,\n",
              " 'φ': 439,\n",
              " 'bias': 15069,\n",
              " '##ogo': 26205,\n",
              " 'over': 1166,\n",
              " 'poorly': 9874,\n",
              " '##sworth': 14775,\n",
              " 'Ulrich': 21351,\n",
              " '宿': 1018,\n",
              " '##cut': 12734,\n",
              " 'verbs': 17992,\n",
              " '##uid': 16423,\n",
              " 'fixtures': 19219,\n",
              " 'fatalities': 23515,\n",
              " 'María': 9842,\n",
              " '##continent': 25442,\n",
              " 'Online': 10523,\n",
              " '##Works': 28039,\n",
              " 'Peace': 5370,\n",
              " 'Nana': 21639,\n",
              " 'mandate': 13515,\n",
              " 'Paper': 11594,\n",
              " 'nouns': 22270,\n",
              " 'Common': 6869,\n",
              " 'Radical': 20411,\n",
              " 'archaeological': 8962,\n",
              " 'they': 1152,\n",
              " 'albeit': 12456,\n",
              " 'Hawaii': 6826,\n",
              " 'ỹ': 767,\n",
              " '##ted': 1906,\n",
              " '1896': 5645,\n",
              " 'lean': 8290,\n",
              " 'rapidly': 5223,\n",
              " 'viewpoint': 25216,\n",
              " '##coming': 9331,\n",
              " 'maze': 20214,\n",
              " 'inputs': 22743,\n",
              " 'fingernails': 23654,\n",
              " 'systematically': 25923,\n",
              " '##ically': 9203,\n",
              " 'proven': 9893,\n",
              " '##yle': 12415,\n",
              " '##mage': 27525,\n",
              " 'Wonderful': 20361,\n",
              " 'ь': 503,\n",
              " 'defence': 6465,\n",
              " 'Chevrolet': 15348,\n",
              " 'Monday': 6356,\n",
              " 'dell': 23950,\n",
              " 'seminary': 17403,\n",
              " 'moonlight': 15743,\n",
              " 'centre': 2642,\n",
              " '##test': 13053,\n",
              " 'revealed': 3090,\n",
              " 'transaction': 13618,\n",
              " 'highlands': 27929,\n",
              " 'Satan': 18166,\n",
              " 'Telugu': 12321,\n",
              " 'agreement': 3311,\n",
              " '##ِ': 28499,\n",
              " 'ʐ': 372,\n",
              " 'pirates': 14978,\n",
              " 'depleted': 25403,\n",
              " 'downstairs': 10304,\n",
              " 'slaughtered': 26071,\n",
              " 'claiming': 6330,\n",
              " '##ly': 1193,\n",
              " 'Boat': 12936,\n",
              " 'Academic': 10076,\n",
              " 'forgetting': 20608,\n",
              " '##„': 28693,\n",
              " 'regularly': 4857,\n",
              " 'Nearby': 22006,\n",
              " '##RE': 16941,\n",
              " 'upgraded': 9554,\n",
              " 'potatoes': 15866,\n",
              " '1819': 12720,\n",
              " 'sunset': 16855,\n",
              " 'Start': 15599,\n",
              " 'Petra': 23424,\n",
              " 'campus': 3314,\n",
              " 'assumed': 4260,\n",
              " 'ancestors': 11005,\n",
              " '##usk': 24493,\n",
              " 'operates': 5049,\n",
              " 'confident': 9588,\n",
              " 'secret': 3318,\n",
              " 'commissioned': 4156,\n",
              " 'incorporate': 13639,\n",
              " '##gawa': 14612,\n",
              " '##physical': 18547,\n",
              " 'joked': 21455,\n",
              " 'PR': 11629,\n",
              " 'disabilities': 16292,\n",
              " '##vasive': 25007,\n",
              " 'top': 1499,\n",
              " '##zhou': 10753,\n",
              " '60th': 22963,\n",
              " 'bows': 24179,\n",
              " 'erected': 6517,\n",
              " 'Cuban': 9383,\n",
              " 'monarch': 14390,\n",
              " '##prints': 12668,\n",
              " 'layered': 23978,\n",
              " 'eldest': 6921,\n",
              " 'embedded': 11783,\n",
              " 'ripped': 8899,\n",
              " 'Essential': 26768,\n",
              " 'migration': 10348,\n",
              " '##イ': 28826,\n",
              " 'masterpiece': 22055,\n",
              " '##tha': 7702,\n",
              " 'Shanghai': 7962,\n",
              " 'servants': 8960,\n",
              " '‑': 780,\n",
              " 'Citizen': 15783,\n",
              " 'contests': 17457,\n",
              " 'confirming': 21295,\n",
              " 'filtering': 26299,\n",
              " 'deployed': 6925,\n",
              " 'rugby': 4896,\n",
              " 'Nights': 16303,\n",
              " '##tches': 16030,\n",
              " 'ecosystem': 19534,\n",
              " 'Eva': 9734,\n",
              " 'splitting': 15601,\n",
              " 'prominent': 3289,\n",
              " 'intended': 3005,\n",
              " 'Neo': 14521,\n",
              " 'Sunny': 17321,\n",
              " 'Wentworth': 22541,\n",
              " 'sincere': 19967,\n",
              " 'Flying': 7769,\n",
              " 'appetite': 21518,\n",
              " 'Romani': 27876,\n",
              " 'stationed': 8651,\n",
              " 'choked': 12663,\n",
              " 'habit': 10671,\n",
              " 'corrupt': 14644,\n",
              " 'Chambers': 12990,\n",
              " 'Conway': 15452,\n",
              " 'alien': 8143,\n",
              " 'letters': 3784,\n",
              " '،': 559,\n",
              " 'Clubs': 18812,\n",
              " 'Minnesota': 4332,\n",
              " '##も': 28815,\n",
              " 'longed': 26127,\n",
              " 'moon': 5907,\n",
              " 'watches': 12642,\n",
              " 'Secretary': 2909,\n",
              " '[MASK]': 103,\n",
              " 'Raiders': 12317,\n",
              " '##unting': 14597,\n",
              " 'Angels': 8728,\n",
              " 'tightened': 7974,\n",
              " 'ờ': 757,\n",
              " 'managing': 7204,\n",
              " 'downstream': 14102,\n",
              " '<': 133,\n",
              " 'replication': 25544,\n",
              " 'drinks': 8898,\n",
              " 'louder': 11579,\n",
              " 'tremble': 23148,\n",
              " 'combine': 12479,\n",
              " 'astronomical': 20771,\n",
              " 'temperature': 4143,\n",
              " 'Pontiac': 27681,\n",
              " 'awful': 9684,\n",
              " 'cadets': 22943,\n",
              " 'Kabul': 23321,\n",
              " '##bark': 24063,\n",
              " 'complementary': 24671,\n",
              " 'counterpart': 14132,\n",
              " '##media': 16418,\n",
              " '##du': 7641,\n",
              " 'Arabia': 8945,\n",
              " 'Pool': 13384,\n",
              " 'Lumpur': 19083,\n",
              " '##⁵': 28705,\n",
              " 'Help': 12056,\n",
              " 'trilogy': 14927,\n",
              " 'normally': 5156,\n",
              " 'Artistic': 19503,\n",
              " 'Laws': 12077,\n",
              " 'collaborated': 8303,\n",
              " 'Affair': 20840,\n",
              " 'ш': 499,\n",
              " '##reet': 17399,\n",
              " '##gnetic': 19975,\n",
              " 'fibre': 26226,\n",
              " 'ː': 385,\n",
              " '##月': 28930,\n",
              " '##oy': 7341,\n",
              " 'remembered': 3801,\n",
              " 'soothing': 18059,\n",
              " 'snarled': 15742,\n",
              " '##M': 2107,\n",
              " 'podcast': 19777,\n",
              " 'contamination': 20908,\n",
              " 'patriarch': 27797,\n",
              " 'mice': 14105,\n",
              " '181': 20083,\n",
              " 'Sex': 9850,\n",
              " 'Kerman': 27671,\n",
              " '##স': 28563,\n",
              " '##⋅': 28762,\n",
              " 'canals': 20094,\n",
              " 'Mirza': 20855,\n",
              " '##gling': 10134,\n",
              " 'root': 7261,\n",
              " 'warily': 27122,\n",
              " 'fellow': 3235,\n",
              " '##yer': 7904,\n",
              " '##dynamic': 24662,\n",
              " 'Bangor': 24236,\n",
              " 'prisoner': 7396,\n",
              " 'surrendered': 10738,\n",
              " 'freezing': 13543,\n",
              " '##throp': 21850,\n",
              " 'downhill': 23895,\n",
              " '##grad': 20561,\n",
              " '##+': 28135,\n",
              " 'མ': 690,\n",
              " 'ἐ': 769,\n",
              " '##DP': 13339,\n",
              " '##rane': 18194,\n",
              " 'easy': 3123,\n",
              " '##hout': 24284,\n",
              " 'Christensen': 27162,\n",
              " 'Elsie': 27737,\n",
              " '##writer': 13814,\n",
              " 'Right': 4114,\n",
              " 'moan': 14309,\n",
              " 'Lost': 6249,\n",
              " 'Hence': 13615,\n",
              " 'payments': 10772,\n",
              " 'mob': 13221,\n",
              " 'bridges': 8425,\n",
              " '##ested': 24732,\n",
              " 'reacted': 15510,\n",
              " 'dread': 18410,\n",
              " 'Joker': 24112,\n",
              " '##aine': 19836,\n",
              " '>': 135,\n",
              " 'ancient': 2890,\n",
              " 'Self': 9434,\n",
              " 'nationalists': 25170,\n",
              " 'dynamics': 14189,\n",
              " 'circled': 15591,\n",
              " 'duty': 4019,\n",
              " 'election': 1728,\n",
              " 'Philipp': 22765,\n",
              " 'afraid': 3737,\n",
              " 'obligations': 15337,\n",
              " 'Salvation': 22781,\n",
              " 'hymns': 24014,\n",
              " 'cautious': 18596,\n",
              " 'Davey': 22618,\n",
              " 'Berger': 17911,\n",
              " 'predictions': 23770,\n",
              " '##ष': 28528,\n",
              " 'planets': 12458,\n",
              " 'Tree': 8659,\n",
              " 'Cheryl': 21173,\n",
              " 'polymer': 21176,\n",
              " 'awakened': 23182,\n",
              " 'Extension': 20838,\n",
              " 'philanthropist': 16581,\n",
              " '##vis': 9356,\n",
              " '132': 14588,\n",
              " '##aging': 10588,\n",
              " 'squeeze': 11633,\n",
              " 'hoarse': 23523,\n",
              " 'Harold': 6587,\n",
              " 'observatory': 23014,\n",
              " '##LT': 26909,\n",
              " '##pers': 6206,\n",
              " 'mortgage': 16935,\n",
              " 'process': 1965,\n",
              " '##ה': 28449,\n",
              " 'Oceania': 22537,\n",
              " 'contains': 2515,\n",
              " 'forming': 5071,\n",
              " 'communicating': 23968,\n",
              " 'readers': 8460,\n",
              " 'racing': 3915,\n",
              " '##tion': 2116,\n",
              " '##eptide': 27105,\n",
              " 'cousin': 5009,\n",
              " 'Jo': 8125,\n",
              " 'Indie': 25789,\n",
              " 'Laos': 16765,\n",
              " '##llon': 27351,\n",
              " 'corresponding': 7671,\n",
              " ',': 117,\n",
              " 'documentaries': 17221,\n",
              " 'rushes': 20577,\n",
              " '##reer': 27867,\n",
              " 'underground': 5433,\n",
              " '##mund': 13889,\n",
              " 'Patent': 16653,\n",
              " 'cereal': 24759,\n",
              " 'Lesser': 19286,\n",
              " '##vary': 24022,\n",
              " 'killed': 1841,\n",
              " 'woods': 6269,\n",
              " 'add': 5194,\n",
              " 'Bad': 6304,\n",
              " 'Moscow': 4116,\n",
              " 'Local': 5328,\n",
              " 'garments': 24938,\n",
              " 'Banks': 10117,\n",
              " 'Godfrey': 19635,\n",
              " '##З': 28373,\n",
              " 'appearances': 3178,\n",
              " 'minimum': 5867,\n",
              " 'cables': 16886,\n",
              " 'salesman': 23259,\n",
              " '##ń': 19339,\n",
              " '##ibly': 15298,\n",
              " '##ₚ': 28727,\n",
              " 'Capitol': 9838,\n",
              " '1894': 5901,\n",
              " '##lev': 23403,\n",
              " 'riot': 14807,\n",
              " 'stepfather': 24133,\n",
              " 'precedence': 26923,\n",
              " 'radiated': 25822,\n",
              " 'friction': 16630,\n",
              " 'injuries': 5917,\n",
              " '##ows': 11997,\n",
              " 'pill': 21822,\n",
              " '##furbishment': 27538,\n",
              " 'university': 2755,\n",
              " '‘': 786,\n",
              " '☉': 875,\n",
              " 'Amor': 22304,\n",
              " '##puram': 19246,\n",
              " 'Number': 7421,\n",
              " 'summer': 2247,\n",
              " 'Blaine': 21849,\n",
              " 'mortal': 11647,\n",
              " '##rois': 26865,\n",
              " 'ambiguous': 22405,\n",
              " 'PC': 7054,\n",
              " 'eventual': 9288,\n",
              " 'splits': 22141,\n",
              " 'rhythmic': 17732,\n",
              " '##yang': 13490,\n",
              " 'SH': 17730,\n",
              " 'establishments': 18879,\n",
              " 'Texans': 25904,\n",
              " 'loaned': 13607,\n",
              " 'Bat': 21928,\n",
              " 'Anne': 3967,\n",
              " '##ules': 11806,\n",
              " 'admitting': 19931,\n",
              " 'talking': 2520,\n",
              " '##economic': 25726,\n",
              " 'achievements': 10227,\n",
              " 'propped': 18141,\n",
              " '39': 3614,\n",
              " 'visible': 5085,\n",
              " '184': 21421,\n",
              " 'swelled': 24201,\n",
              " 'Northampton': 16873,\n",
              " '256': 18440,\n",
              " 'wire': 7700,\n",
              " 'blinded': 24255,\n",
              " 'terminus': 7132,\n",
              " '[unused2]': 2,\n",
              " 'Internal': 13545,\n",
              " 'Persia': 17746,\n",
              " 'reported': 2103,\n",
              " '##isk': 13189,\n",
              " 'were': 1127,\n",
              " '##vir': 25740,\n",
              " 'Hung': 26157,\n",
              " '##loop': 22344,\n",
              " 'accepts': 13749,\n",
              " '##eva': 12853,\n",
              " '##mé': 25729,\n",
              " '##nge': 12377,\n",
              " 'Jeanne': 15157,\n",
              " '##yssa': 18467,\n",
              " 'fixing': 17509,\n",
              " 'First': 1752,\n",
              " '城': 1007,\n",
              " 'path': 3507,\n",
              " 'managed': 2374,\n",
              " 'smoked': 23235,\n",
              " 'dispatch': 27209,\n",
              " '##hus': 8827,\n",
              " 'differs': 13242,\n",
              " 'Helsinki': 12471,\n",
              " 'Called': 20469,\n",
              " 'transitioned': 26974,\n",
              " 'detachment': 15146,\n",
              " 'prepared': 4029,\n",
              " 'Till': 22430,\n",
              " '800': 4645,\n",
              " 'werewolf': 14665,\n",
              " '##riars': 27639,\n",
              " 'verify': 23073,\n",
              " 'Brest': 25025,\n",
              " '##mit': 9084,\n",
              " 'doing': 1833,\n",
              " 'depths': 11417,\n",
              " '##TE': 12880,\n",
              " '##hanna': 24638,\n",
              " 'ethanol': 27236,\n",
              " 'final': 1509,\n",
              " 'thoughts': 3578,\n",
              " 'Ș': 349,\n",
              " '##ho': 5114,\n",
              " 'passport': 14171,\n",
              " 'Barton': 13235,\n",
              " '##verty': 26462,\n",
              " 'compliance': 14037,\n",
              " '##icle': 26726,\n",
              " '##31': 22639,\n",
              " 'Dong': 16675,\n",
              " 'sufficiently': 13230,\n",
              " '##books': 16429,\n",
              " '##gill': 20254,\n",
              " 'Uprising': 22326,\n",
              " 'bleed': 24752,\n",
              " 'Campeonato': 18958,\n",
              " '##jects': 26394,\n",
              " 'juvenile': 15031,\n",
              " 'sandstone': 13145,\n",
              " '##rop': 12736,\n",
              " 'retire': 11067,\n",
              " 'Geoff': 15620,\n",
              " 'discrimination': 9480,\n",
              " 'Alaska': 6883,\n",
              " '##lby': 14974,\n",
              " '1A': 26637,\n",
              " '##zing': 6185,\n",
              " 'Form': 15075,\n",
              " 'witch': 8288,\n",
              " 'passed': 2085,\n",
              " 'cuisine': 13994,\n",
              " '##cius': 24869,\n",
              " '##uta': 15012,\n",
              " 'offended': 16921,\n",
              " 'Armenians': 22204,\n",
              " '##hia': 10652,\n",
              " '##air': 8341,\n",
              " 'ュ': 967,\n",
              " 'backstage': 25679,\n",
              " 'milk': 6831,\n",
              " 'demo': 11238,\n",
              " 'onward': 17765,\n",
              " 'traditions': 7181,\n",
              " 'Rory': 14845,\n",
              " '##lava': 24330,\n",
              " 'Orlando': 9906,\n",
              " 'guitar': 2092,\n",
              " 'handball': 17678,\n",
              " '##dling': 21869,\n",
              " 'chapters': 9611,\n",
              " 'hypothesis': 11066,\n",
              " 'corporations': 12584,\n",
              " 'preceding': 11139,\n",
              " '##acle': 25001,\n",
              " 'audiences': 9569,\n",
              " 'orchards': 27034,\n",
              " '##ニ': 28849,\n",
              " 'Salvador': 10479,\n",
              " 'Dukes': 22813,\n",
              " 'posing': 23614,\n",
              " 'completely': 2423,\n",
              " 'using': 1606,\n",
              " '1799': 14287,\n",
              " 'journals': 9442,\n",
              " '##wirl': 26137,\n",
              " 'Alabama': 5359,\n",
              " 'sure': 1612,\n",
              " 'thieves': 22092,\n",
              " 'Fleetwood': 26729,\n",
              " 'departed': 7361,\n",
              " '##its': 6439,\n",
              " 'Buckingham': 19180,\n",
              " 'Audi': 22139,\n",
              " '##person': 14359,\n",
              " 'Small': 6844,\n",
              " 'Arthur': 3456,\n",
              " 'Years': 5848,\n",
              " 'honorable': 20491,\n",
              " '##ol': 4063,\n",
              " '##4': 1527,\n",
              " 'Work': 6955,\n",
              " 'sideways': 13158,\n",
              " '##eve': 19907,\n",
              " ...}"
            ]
          },
          "metadata": {},
          "execution_count": 93
        }
      ]
    },
    {
      "cell_type": "markdown",
      "source": [
        "## 4B4: Creating a Word Cloud and Visualizing Word Embeddings\n",
        "\n",
        "This section focuses on visualizing the learned word embeddings using PCA (Principal Component Analysis) and creating a word cloud to find important words in the dataset.\n",
        "\n"
      ],
      "metadata": {
        "id": "aJXPa52xgFeS"
      }
    },
    {
      "cell_type": "markdown",
      "source": [
        "**Applying PCA to Word Embeddings**\n",
        "\n",
        "- We convert the embedding layer weights to a NumPy array and scale them using StandardScaler to standardize the data.\n",
        "- PCA is applied to reduce the word embeddings to 2D, making them easier to visualize."
      ],
      "metadata": {
        "id": "OrxWwhQUgWQ-"
      }
    },
    {
      "cell_type": "code",
      "source": [
        "# Convert the embedding weights (layer_weights) to a NumPy array and move to CPU\n",
        "embeddings_output = layer_weights.to('cpu').numpy()\n",
        "\n",
        "# Scale the embeddings for better PCA performance\n",
        "scaler = StandardScaler()\n",
        "X_scaled = scaler.fit_transform(embeddings_output)\n",
        "\n",
        "# Apply PCA to reduce embeddings to 2 dimensions for easier visualization\n",
        "pca = PCA(n_components=2)\n",
        "X_pca = pca.fit_transform(X_scaled)\n",
        "\n",
        "# Convert the PCA results to a DataFrame, indexed by the tokenizer's vocabulary\n",
        "X_pca = pd.DataFrame(X_pca, index=tokenizer.vocab.keys())\n"
      ],
      "metadata": {
        "id": "M0vFHpDIcurB"
      },
      "execution_count": 94,
      "outputs": []
    },
    {
      "cell_type": "markdown",
      "source": [
        "**Creating the Word Cloud:**\n",
        "- We generate a word cloud from the training dataset to visualize the most common words. This provides an overview of the important tokens in the dataset based on their frequency."
      ],
      "metadata": {
        "id": "RuwTPOB-OaXk"
      }
    },
    {
      "cell_type": "code",
      "source": [
        "train_ids = tokenized_datasets['train']['input_ids']\n"
      ],
      "metadata": {
        "id": "ipTOvcS3nPmY"
      },
      "execution_count": 95,
      "outputs": []
    },
    {
      "cell_type": "code",
      "source": [
        "# Combine all the tokens from the training data to create input for the word cloud\n",
        "\n",
        "# Filter out special tokens like [CLS], [SEP], [PAD], and [UNK]\n",
        "special_tokens = set([tokenizer.cls_token, tokenizer.sep_token, tokenizer.pad_token, tokenizer.unk_token])\n",
        "\n",
        "combined_text = ' '.join(\n",
        "    ' '.join([token for token in tokenizer.convert_ids_to_tokens(train_ids[i]) if token not in special_tokens])\n",
        "    for i in range(len(train_ids))\n",
        ")\n",
        "\n",
        "# Generate the word cloud from the combined text\n",
        "wordcloud = WordCloud(width=800, height=400, background_color='white', max_words=200).generate(combined_text)\n",
        "\n",
        "# Display the word cloud\n",
        "plt.figure(figsize=(10, 5))\n",
        "plt.imshow(wordcloud, interpolation='bilinear')\n",
        "plt.axis('off')  # Hide axes for a cleaner look\n",
        "plt.show()\n"
      ],
      "metadata": {
        "colab": {
          "base_uri": "https://localhost:8080/",
          "height": 422
        },
        "id": "t02n76nFOhn_",
        "outputId": "03f09cfd-6cfe-4d47-f252-46193e5841b9"
      },
      "execution_count": 96,
      "outputs": [
        {
          "output_type": "display_data",
          "data": {
            "text/plain": [
              "<Figure size 1000x500 with 1 Axes>"
            ],
            "image/png": "[encoded data removed]"
          },
          "metadata": {}
        }
      ]
    },
    {
      "cell_type": "markdown",
      "source": [
        "**Plotting the PCA for Selected Words:**\n",
        "- We shortlist specific words (like \"humor\", \"comedy\", and \"funny\") and plot their positions in the reduced PCA space. This helps visualize how these related words are represented in the embedding space.\n",
        "- The scatter plot shows how close or far apart these words are, which reflects the relationships the model has learned between them."
      ],
      "metadata": {
        "id": "JyHgsg3ZO2lc"
      }
    },
    {
      "cell_type": "code",
      "source": [
        "# Shortlist specific words to plot in PCA (e.g., 'humor', 'comedy', 'funny')\n",
        "# Filter out words not in the vocabulary\n",
        "req_words = [word for word in ['humor', 'comedy', 'funny'] if word in tokenizer.vocab]\n",
        "pca_req_words = X_pca.loc[req_words, :].copy()\n",
        "\n",
        "# Plot the PCA results for the selected words\n",
        "plt.figure(figsize=(8, 6))\n",
        "scatter = plt.scatter(pca_req_words.loc[:, 0], pca_req_words.loc[:, 1])\n",
        "\n",
        "# Annotate the words on the plot\n",
        "for i in range(pca_req_words.shape[0]):\n",
        "    cur_record = pca_req_words.iloc[i, :].copy()\n",
        "    plt.annotate(cur_record.name, (cur_record[0], cur_record[1]))\n",
        "\n",
        "# Label the axes and add a title\n",
        "plt.xlabel('Principal Component 1')\n",
        "plt.ylabel('Principal Component 2')\n",
        "plt.title('PCA of the Embeddings')\n",
        "plt.grid(True)\n",
        "plt.show()\n"
      ],
      "metadata": {
        "colab": {
          "base_uri": "https://localhost:8080/",
          "height": 564
        },
        "id": "inI1rBIkO8OF",
        "outputId": "3ef4f8f4-dcef-4fb6-b6cc-a7996d65014d"
      },
      "execution_count": 97,
      "outputs": [
        {
          "output_type": "display_data",
          "data": {
            "text/plain": [
              "<Figure size 800x600 with 1 Axes>"
            ],
            "image/png": "[encoded data removed]"
          },
          "metadata": {}
        }
      ]
    }
  ]
}