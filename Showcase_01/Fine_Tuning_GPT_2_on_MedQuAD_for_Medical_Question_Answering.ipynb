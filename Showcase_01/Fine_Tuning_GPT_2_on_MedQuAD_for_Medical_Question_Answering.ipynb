{
  "nbformat": 4,
  "nbformat_minor": 0,
  "metadata": {
    "colab": {
      "provenance": [],
      "gpuType": "T4",
      "include_colab_link": true
    },
    "kernelspec": {
      "name": "python3",
      "display_name": "Python 3"
    },
    "language_info": {
      "name": "python"
    },
    "accelerator": "GPU",
    "widgets": {
      "application/vnd.jupyter.widget-state+json": {
        "550addd5049943028d815b56bdaa49d5": {
          "model_module": "@jupyter-widgets/controls",
          "model_name": "HBoxModel",
          "model_module_version": "1.5.0",
          "state": {
            "_dom_classes": [],
            "_model_module": "@jupyter-widgets/controls",
            "_model_module_version": "1.5.0",
            "_model_name": "HBoxModel",
            "_view_count": null,
            "_view_module": "@jupyter-widgets/controls",
            "_view_module_version": "1.5.0",
            "_view_name": "HBoxView",
            "box_style": "",
            "children": [
              "IPY_MODEL_040d8d8860544fb5b4185d30c3e0eaf5",
              "IPY_MODEL_0622a88273be41c9b73a0c265653d899",
              "IPY_MODEL_7c679cb7fd454564aee5f238a5dab17a"
            ],
            "layout": "IPY_MODEL_67dd58d0d29a487ab216a78e127a7d5b"
          }
        },
        "040d8d8860544fb5b4185d30c3e0eaf5": {
          "model_module": "@jupyter-widgets/controls",
          "model_name": "HTMLModel",
          "model_module_version": "1.5.0",
          "state": {
            "_dom_classes": [],
            "_model_module": "@jupyter-widgets/controls",
            "_model_module_version": "1.5.0",
            "_model_name": "HTMLModel",
            "_view_count": null,
            "_view_module": "@jupyter-widgets/controls",
            "_view_module_version": "1.5.0",
            "_view_name": "HTMLView",
            "description": "",
            "description_tooltip": null,
            "layout": "IPY_MODEL_677ebbe45b26483ab922e579c4f26575",
            "placeholder": "​",
            "style": "IPY_MODEL_cad7e65ebdae43d0ac9856706cec2a69",
            "value": "Generating train split: "
          }
        },
        "0622a88273be41c9b73a0c265653d899": {
          "model_module": "@jupyter-widgets/controls",
          "model_name": "FloatProgressModel",
          "model_module_version": "1.5.0",
          "state": {
            "_dom_classes": [],
            "_model_module": "@jupyter-widgets/controls",
            "_model_module_version": "1.5.0",
            "_model_name": "FloatProgressModel",
            "_view_count": null,
            "_view_module": "@jupyter-widgets/controls",
            "_view_module_version": "1.5.0",
            "_view_name": "ProgressView",
            "bar_style": "success",
            "description": "",
            "description_tooltip": null,
            "layout": "IPY_MODEL_fde6a7ed144a40b989d7278398de3a3a",
            "max": 1,
            "min": 0,
            "orientation": "horizontal",
            "style": "IPY_MODEL_0affc2a910ab4ab8812b69fe7642ed0f",
            "value": 1
          }
        },
        "7c679cb7fd454564aee5f238a5dab17a": {
          "model_module": "@jupyter-widgets/controls",
          "model_name": "HTMLModel",
          "model_module_version": "1.5.0",
          "state": {
            "_dom_classes": [],
            "_model_module": "@jupyter-widgets/controls",
            "_model_module_version": "1.5.0",
            "_model_name": "HTMLModel",
            "_view_count": null,
            "_view_module": "@jupyter-widgets/controls",
            "_view_module_version": "1.5.0",
            "_view_name": "HTMLView",
            "description": "",
            "description_tooltip": null,
            "layout": "IPY_MODEL_ae0a6646fceb4964b2231c063fff43aa",
            "placeholder": "​",
            "style": "IPY_MODEL_db024c80df29448399372698b9ea0e55",
            "value": " 200/0 [00:00&lt;00:00, 3537.02 examples/s]"
          }
        },
        "67dd58d0d29a487ab216a78e127a7d5b": {
          "model_module": "@jupyter-widgets/base",
          "model_name": "LayoutModel",
          "model_module_version": "1.2.0",
          "state": {
            "_model_module": "@jupyter-widgets/base",
            "_model_module_version": "1.2.0",
            "_model_name": "LayoutModel",
            "_view_count": null,
            "_view_module": "@jupyter-widgets/base",
            "_view_module_version": "1.2.0",
            "_view_name": "LayoutView",
            "align_content": null,
            "align_items": null,
            "align_self": null,
            "border": null,
            "bottom": null,
            "display": null,
            "flex": null,
            "flex_flow": null,
            "grid_area": null,
            "grid_auto_columns": null,
            "grid_auto_flow": null,
            "grid_auto_rows": null,
            "grid_column": null,
            "grid_gap": null,
            "grid_row": null,
            "grid_template_areas": null,
            "grid_template_columns": null,
            "grid_template_rows": null,
            "height": null,
            "justify_content": null,
            "justify_items": null,
            "left": null,
            "margin": null,
            "max_height": null,
            "max_width": null,
            "min_height": null,
            "min_width": null,
            "object_fit": null,
            "object_position": null,
            "order": null,
            "overflow": null,
            "overflow_x": null,
            "overflow_y": null,
            "padding": null,
            "right": null,
            "top": null,
            "visibility": null,
            "width": null
          }
        },
        "677ebbe45b26483ab922e579c4f26575": {
          "model_module": "@jupyter-widgets/base",
          "model_name": "LayoutModel",
          "model_module_version": "1.2.0",
          "state": {
            "_model_module": "@jupyter-widgets/base",
            "_model_module_version": "1.2.0",
            "_model_name": "LayoutModel",
            "_view_count": null,
            "_view_module": "@jupyter-widgets/base",
            "_view_module_version": "1.2.0",
            "_view_name": "LayoutView",
            "align_content": null,
            "align_items": null,
            "align_self": null,
            "border": null,
            "bottom": null,
            "display": null,
            "flex": null,
            "flex_flow": null,
            "grid_area": null,
            "grid_auto_columns": null,
            "grid_auto_flow": null,
            "grid_auto_rows": null,
            "grid_column": null,
            "grid_gap": null,
            "grid_row": null,
            "grid_template_areas": null,
            "grid_template_columns": null,
            "grid_template_rows": null,
            "height": null,
            "justify_content": null,
            "justify_items": null,
            "left": null,
            "margin": null,
            "max_height": null,
            "max_width": null,
            "min_height": null,
            "min_width": null,
            "object_fit": null,
            "object_position": null,
            "order": null,
            "overflow": null,
            "overflow_x": null,
            "overflow_y": null,
            "padding": null,
            "right": null,
            "top": null,
            "visibility": null,
            "width": null
          }
        },
        "cad7e65ebdae43d0ac9856706cec2a69": {
          "model_module": "@jupyter-widgets/controls",
          "model_name": "DescriptionStyleModel",
          "model_module_version": "1.5.0",
          "state": {
            "_model_module": "@jupyter-widgets/controls",
            "_model_module_version": "1.5.0",
            "_model_name": "DescriptionStyleModel",
            "_view_count": null,
            "_view_module": "@jupyter-widgets/base",
            "_view_module_version": "1.2.0",
            "_view_name": "StyleView",
            "description_width": ""
          }
        },
        "fde6a7ed144a40b989d7278398de3a3a": {
          "model_module": "@jupyter-widgets/base",
          "model_name": "LayoutModel",
          "model_module_version": "1.2.0",
          "state": {
            "_model_module": "@jupyter-widgets/base",
            "_model_module_version": "1.2.0",
            "_model_name": "LayoutModel",
            "_view_count": null,
            "_view_module": "@jupyter-widgets/base",
            "_view_module_version": "1.2.0",
            "_view_name": "LayoutView",
            "align_content": null,
            "align_items": null,
            "align_self": null,
            "border": null,
            "bottom": null,
            "display": null,
            "flex": null,
            "flex_flow": null,
            "grid_area": null,
            "grid_auto_columns": null,
            "grid_auto_flow": null,
            "grid_auto_rows": null,
            "grid_column": null,
            "grid_gap": null,
            "grid_row": null,
            "grid_template_areas": null,
            "grid_template_columns": null,
            "grid_template_rows": null,
            "height": null,
            "justify_content": null,
            "justify_items": null,
            "left": null,
            "margin": null,
            "max_height": null,
            "max_width": null,
            "min_height": null,
            "min_width": null,
            "object_fit": null,
            "object_position": null,
            "order": null,
            "overflow": null,
            "overflow_x": null,
            "overflow_y": null,
            "padding": null,
            "right": null,
            "top": null,
            "visibility": null,
            "width": "20px"
          }
        },
        "0affc2a910ab4ab8812b69fe7642ed0f": {
          "model_module": "@jupyter-widgets/controls",
          "model_name": "ProgressStyleModel",
          "model_module_version": "1.5.0",
          "state": {
            "_model_module": "@jupyter-widgets/controls",
            "_model_module_version": "1.5.0",
            "_model_name": "ProgressStyleModel",
            "_view_count": null,
            "_view_module": "@jupyter-widgets/base",
            "_view_module_version": "1.2.0",
            "_view_name": "StyleView",
            "bar_color": null,
            "description_width": ""
          }
        },
        "ae0a6646fceb4964b2231c063fff43aa": {
          "model_module": "@jupyter-widgets/base",
          "model_name": "LayoutModel",
          "model_module_version": "1.2.0",
          "state": {
            "_model_module": "@jupyter-widgets/base",
            "_model_module_version": "1.2.0",
            "_model_name": "LayoutModel",
            "_view_count": null,
            "_view_module": "@jupyter-widgets/base",
            "_view_module_version": "1.2.0",
            "_view_name": "LayoutView",
            "align_content": null,
            "align_items": null,
            "align_self": null,
            "border": null,
            "bottom": null,
            "display": null,
            "flex": null,
            "flex_flow": null,
            "grid_area": null,
            "grid_auto_columns": null,
            "grid_auto_flow": null,
            "grid_auto_rows": null,
            "grid_column": null,
            "grid_gap": null,
            "grid_row": null,
            "grid_template_areas": null,
            "grid_template_columns": null,
            "grid_template_rows": null,
            "height": null,
            "justify_content": null,
            "justify_items": null,
            "left": null,
            "margin": null,
            "max_height": null,
            "max_width": null,
            "min_height": null,
            "min_width": null,
            "object_fit": null,
            "object_position": null,
            "order": null,
            "overflow": null,
            "overflow_x": null,
            "overflow_y": null,
            "padding": null,
            "right": null,
            "top": null,
            "visibility": null,
            "width": null
          }
        },
        "db024c80df29448399372698b9ea0e55": {
          "model_module": "@jupyter-widgets/controls",
          "model_name": "DescriptionStyleModel",
          "model_module_version": "1.5.0",
          "state": {
            "_model_module": "@jupyter-widgets/controls",
            "_model_module_version": "1.5.0",
            "_model_name": "DescriptionStyleModel",
            "_view_count": null,
            "_view_module": "@jupyter-widgets/base",
            "_view_module_version": "1.2.0",
            "_view_name": "StyleView",
            "description_width": ""
          }
        },
        "40415aa67323418a93a73ee18bcff490": {
          "model_module": "@jupyter-widgets/controls",
          "model_name": "HBoxModel",
          "model_module_version": "1.5.0",
          "state": {
            "_dom_classes": [],
            "_model_module": "@jupyter-widgets/controls",
            "_model_module_version": "1.5.0",
            "_model_name": "HBoxModel",
            "_view_count": null,
            "_view_module": "@jupyter-widgets/controls",
            "_view_module_version": "1.5.0",
            "_view_name": "HBoxView",
            "box_style": "",
            "children": [
              "IPY_MODEL_bb3e779b70b1488eb1612c63b62f537b",
              "IPY_MODEL_95512227c63f448fb1e7ef979a8ba3ed",
              "IPY_MODEL_c09d569b4112440298614adfb05d2c0e"
            ],
            "layout": "IPY_MODEL_aad703414384489a981de2af69a28d73"
          }
        },
        "bb3e779b70b1488eb1612c63b62f537b": {
          "model_module": "@jupyter-widgets/controls",
          "model_name": "HTMLModel",
          "model_module_version": "1.5.0",
          "state": {
            "_dom_classes": [],
            "_model_module": "@jupyter-widgets/controls",
            "_model_module_version": "1.5.0",
            "_model_name": "HTMLModel",
            "_view_count": null,
            "_view_module": "@jupyter-widgets/controls",
            "_view_module_version": "1.5.0",
            "_view_name": "HTMLView",
            "description": "",
            "description_tooltip": null,
            "layout": "IPY_MODEL_83b0b4e07355487783dee4a72c06b654",
            "placeholder": "​",
            "style": "IPY_MODEL_22864c51617946adacdd3d5a62aab5db",
            "value": "Generating validation split: "
          }
        },
        "95512227c63f448fb1e7ef979a8ba3ed": {
          "model_module": "@jupyter-widgets/controls",
          "model_name": "FloatProgressModel",
          "model_module_version": "1.5.0",
          "state": {
            "_dom_classes": [],
            "_model_module": "@jupyter-widgets/controls",
            "_model_module_version": "1.5.0",
            "_model_name": "FloatProgressModel",
            "_view_count": null,
            "_view_module": "@jupyter-widgets/controls",
            "_view_module_version": "1.5.0",
            "_view_name": "ProgressView",
            "bar_style": "success",
            "description": "",
            "description_tooltip": null,
            "layout": "IPY_MODEL_706eb9b51dd2461eb9ea513567d96c9f",
            "max": 1,
            "min": 0,
            "orientation": "horizontal",
            "style": "IPY_MODEL_3b58011c2b56460e8af657953720a6dc",
            "value": 1
          }
        },
        "c09d569b4112440298614adfb05d2c0e": {
          "model_module": "@jupyter-widgets/controls",
          "model_name": "HTMLModel",
          "model_module_version": "1.5.0",
          "state": {
            "_dom_classes": [],
            "_model_module": "@jupyter-widgets/controls",
            "_model_module_version": "1.5.0",
            "_model_name": "HTMLModel",
            "_view_count": null,
            "_view_module": "@jupyter-widgets/controls",
            "_view_module_version": "1.5.0",
            "_view_name": "HTMLView",
            "description": "",
            "description_tooltip": null,
            "layout": "IPY_MODEL_7a924a50a78c4e5da5acfd7651513457",
            "placeholder": "​",
            "style": "IPY_MODEL_8916eb45ba2349079c01cc13cf3e4dbd",
            "value": " 100/0 [00:00&lt;00:00, 1826.11 examples/s]"
          }
        },
        "aad703414384489a981de2af69a28d73": {
          "model_module": "@jupyter-widgets/base",
          "model_name": "LayoutModel",
          "model_module_version": "1.2.0",
          "state": {
            "_model_module": "@jupyter-widgets/base",
            "_model_module_version": "1.2.0",
            "_model_name": "LayoutModel",
            "_view_count": null,
            "_view_module": "@jupyter-widgets/base",
            "_view_module_version": "1.2.0",
            "_view_name": "LayoutView",
            "align_content": null,
            "align_items": null,
            "align_self": null,
            "border": null,
            "bottom": null,
            "display": null,
            "flex": null,
            "flex_flow": null,
            "grid_area": null,
            "grid_auto_columns": null,
            "grid_auto_flow": null,
            "grid_auto_rows": null,
            "grid_column": null,
            "grid_gap": null,
            "grid_row": null,
            "grid_template_areas": null,
            "grid_template_columns": null,
            "grid_template_rows": null,
            "height": null,
            "justify_content": null,
            "justify_items": null,
            "left": null,
            "margin": null,
            "max_height": null,
            "max_width": null,
            "min_height": null,
            "min_width": null,
            "object_fit": null,
            "object_position": null,
            "order": null,
            "overflow": null,
            "overflow_x": null,
            "overflow_y": null,
            "padding": null,
            "right": null,
            "top": null,
            "visibility": null,
            "width": null
          }
        },
        "83b0b4e07355487783dee4a72c06b654": {
          "model_module": "@jupyter-widgets/base",
          "model_name": "LayoutModel",
          "model_module_version": "1.2.0",
          "state": {
            "_model_module": "@jupyter-widgets/base",
            "_model_module_version": "1.2.0",
            "_model_name": "LayoutModel",
            "_view_count": null,
            "_view_module": "@jupyter-widgets/base",
            "_view_module_version": "1.2.0",
            "_view_name": "LayoutView",
            "align_content": null,
            "align_items": null,
            "align_self": null,
            "border": null,
            "bottom": null,
            "display": null,
            "flex": null,
            "flex_flow": null,
            "grid_area": null,
            "grid_auto_columns": null,
            "grid_auto_flow": null,
            "grid_auto_rows": null,
            "grid_column": null,
            "grid_gap": null,
            "grid_row": null,
            "grid_template_areas": null,
            "grid_template_columns": null,
            "grid_template_rows": null,
            "height": null,
            "justify_content": null,
            "justify_items": null,
            "left": null,
            "margin": null,
            "max_height": null,
            "max_width": null,
            "min_height": null,
            "min_width": null,
            "object_fit": null,
            "object_position": null,
            "order": null,
            "overflow": null,
            "overflow_x": null,
            "overflow_y": null,
            "padding": null,
            "right": null,
            "top": null,
            "visibility": null,
            "width": null
          }
        },
        "22864c51617946adacdd3d5a62aab5db": {
          "model_module": "@jupyter-widgets/controls",
          "model_name": "DescriptionStyleModel",
          "model_module_version": "1.5.0",
          "state": {
            "_model_module": "@jupyter-widgets/controls",
            "_model_module_version": "1.5.0",
            "_model_name": "DescriptionStyleModel",
            "_view_count": null,
            "_view_module": "@jupyter-widgets/base",
            "_view_module_version": "1.2.0",
            "_view_name": "StyleView",
            "description_width": ""
          }
        },
        "706eb9b51dd2461eb9ea513567d96c9f": {
          "model_module": "@jupyter-widgets/base",
          "model_name": "LayoutModel",
          "model_module_version": "1.2.0",
          "state": {
            "_model_module": "@jupyter-widgets/base",
            "_model_module_version": "1.2.0",
            "_model_name": "LayoutModel",
            "_view_count": null,
            "_view_module": "@jupyter-widgets/base",
            "_view_module_version": "1.2.0",
            "_view_name": "LayoutView",
            "align_content": null,
            "align_items": null,
            "align_self": null,
            "border": null,
            "bottom": null,
            "display": null,
            "flex": null,
            "flex_flow": null,
            "grid_area": null,
            "grid_auto_columns": null,
            "grid_auto_flow": null,
            "grid_auto_rows": null,
            "grid_column": null,
            "grid_gap": null,
            "grid_row": null,
            "grid_template_areas": null,
            "grid_template_columns": null,
            "grid_template_rows": null,
            "height": null,
            "justify_content": null,
            "justify_items": null,
            "left": null,
            "margin": null,
            "max_height": null,
            "max_width": null,
            "min_height": null,
            "min_width": null,
            "object_fit": null,
            "object_position": null,
            "order": null,
            "overflow": null,
            "overflow_x": null,
            "overflow_y": null,
            "padding": null,
            "right": null,
            "top": null,
            "visibility": null,
            "width": "20px"
          }
        },
        "3b58011c2b56460e8af657953720a6dc": {
          "model_module": "@jupyter-widgets/controls",
          "model_name": "ProgressStyleModel",
          "model_module_version": "1.5.0",
          "state": {
            "_model_module": "@jupyter-widgets/controls",
            "_model_module_version": "1.5.0",
            "_model_name": "ProgressStyleModel",
            "_view_count": null,
            "_view_module": "@jupyter-widgets/base",
            "_view_module_version": "1.2.0",
            "_view_name": "StyleView",
            "bar_color": null,
            "description_width": ""
          }
        },
        "7a924a50a78c4e5da5acfd7651513457": {
          "model_module": "@jupyter-widgets/base",
          "model_name": "LayoutModel",
          "model_module_version": "1.2.0",
          "state": {
            "_model_module": "@jupyter-widgets/base",
            "_model_module_version": "1.2.0",
            "_model_name": "LayoutModel",
            "_view_count": null,
            "_view_module": "@jupyter-widgets/base",
            "_view_module_version": "1.2.0",
            "_view_name": "LayoutView",
            "align_content": null,
            "align_items": null,
            "align_self": null,
            "border": null,
            "bottom": null,
            "display": null,
            "flex": null,
            "flex_flow": null,
            "grid_area": null,
            "grid_auto_columns": null,
            "grid_auto_flow": null,
            "grid_auto_rows": null,
            "grid_column": null,
            "grid_gap": null,
            "grid_row": null,
            "grid_template_areas": null,
            "grid_template_columns": null,
            "grid_template_rows": null,
            "height": null,
            "justify_content": null,
            "justify_items": null,
            "left": null,
            "margin": null,
            "max_height": null,
            "max_width": null,
            "min_height": null,
            "min_width": null,
            "object_fit": null,
            "object_position": null,
            "order": null,
            "overflow": null,
            "overflow_x": null,
            "overflow_y": null,
            "padding": null,
            "right": null,
            "top": null,
            "visibility": null,
            "width": null
          }
        },
        "8916eb45ba2349079c01cc13cf3e4dbd": {
          "model_module": "@jupyter-widgets/controls",
          "model_name": "DescriptionStyleModel",
          "model_module_version": "1.5.0",
          "state": {
            "_model_module": "@jupyter-widgets/controls",
            "_model_module_version": "1.5.0",
            "_model_name": "DescriptionStyleModel",
            "_view_count": null,
            "_view_module": "@jupyter-widgets/base",
            "_view_module_version": "1.2.0",
            "_view_name": "StyleView",
            "description_width": ""
          }
        },
        "29a2da88ed104bb0a0746e6f0eb9be90": {
          "model_module": "@jupyter-widgets/controls",
          "model_name": "HBoxModel",
          "model_module_version": "1.5.0",
          "state": {
            "_dom_classes": [],
            "_model_module": "@jupyter-widgets/controls",
            "_model_module_version": "1.5.0",
            "_model_name": "HBoxModel",
            "_view_count": null,
            "_view_module": "@jupyter-widgets/controls",
            "_view_module_version": "1.5.0",
            "_view_name": "HBoxView",
            "box_style": "",
            "children": [
              "IPY_MODEL_f89d555bdca145c1a3dc00934356f001",
              "IPY_MODEL_130b328ba2c14b76838afd73c67ee5d8",
              "IPY_MODEL_07315fdccd834663a2ac3023322bfbb3"
            ],
            "layout": "IPY_MODEL_151550fc9124489c871bd4b1f8c4e831"
          }
        },
        "f89d555bdca145c1a3dc00934356f001": {
          "model_module": "@jupyter-widgets/controls",
          "model_name": "HTMLModel",
          "model_module_version": "1.5.0",
          "state": {
            "_dom_classes": [],
            "_model_module": "@jupyter-widgets/controls",
            "_model_module_version": "1.5.0",
            "_model_name": "HTMLModel",
            "_view_count": null,
            "_view_module": "@jupyter-widgets/controls",
            "_view_module_version": "1.5.0",
            "_view_name": "HTMLView",
            "description": "",
            "description_tooltip": null,
            "layout": "IPY_MODEL_daa31b02ec75413ea2ceaead2a6db960",
            "placeholder": "​",
            "style": "IPY_MODEL_aeb833f36e81426e9480e51ec5946a27",
            "value": "Map: 100%"
          }
        },
        "130b328ba2c14b76838afd73c67ee5d8": {
          "model_module": "@jupyter-widgets/controls",
          "model_name": "FloatProgressModel",
          "model_module_version": "1.5.0",
          "state": {
            "_dom_classes": [],
            "_model_module": "@jupyter-widgets/controls",
            "_model_module_version": "1.5.0",
            "_model_name": "FloatProgressModel",
            "_view_count": null,
            "_view_module": "@jupyter-widgets/controls",
            "_view_module_version": "1.5.0",
            "_view_name": "ProgressView",
            "bar_style": "success",
            "description": "",
            "description_tooltip": null,
            "layout": "IPY_MODEL_c947ce42adc346dc8c01693632179496",
            "max": 200,
            "min": 0,
            "orientation": "horizontal",
            "style": "IPY_MODEL_734a15eff73d49f1b9d6b5d485825b59",
            "value": 200
          }
        },
        "07315fdccd834663a2ac3023322bfbb3": {
          "model_module": "@jupyter-widgets/controls",
          "model_name": "HTMLModel",
          "model_module_version": "1.5.0",
          "state": {
            "_dom_classes": [],
            "_model_module": "@jupyter-widgets/controls",
            "_model_module_version": "1.5.0",
            "_model_name": "HTMLModel",
            "_view_count": null,
            "_view_module": "@jupyter-widgets/controls",
            "_view_module_version": "1.5.0",
            "_view_name": "HTMLView",
            "description": "",
            "description_tooltip": null,
            "layout": "IPY_MODEL_d5ded90171394d95b07d3f808b748624",
            "placeholder": "​",
            "style": "IPY_MODEL_cea1842906734eaba883ca2bb6cb8e4a",
            "value": " 200/200 [00:01&lt;00:00, 150.38 examples/s]"
          }
        },
        "151550fc9124489c871bd4b1f8c4e831": {
          "model_module": "@jupyter-widgets/base",
          "model_name": "LayoutModel",
          "model_module_version": "1.2.0",
          "state": {
            "_model_module": "@jupyter-widgets/base",
            "_model_module_version": "1.2.0",
            "_model_name": "LayoutModel",
            "_view_count": null,
            "_view_module": "@jupyter-widgets/base",
            "_view_module_version": "1.2.0",
            "_view_name": "LayoutView",
            "align_content": null,
            "align_items": null,
            "align_self": null,
            "border": null,
            "bottom": null,
            "display": null,
            "flex": null,
            "flex_flow": null,
            "grid_area": null,
            "grid_auto_columns": null,
            "grid_auto_flow": null,
            "grid_auto_rows": null,
            "grid_column": null,
            "grid_gap": null,
            "grid_row": null,
            "grid_template_areas": null,
            "grid_template_columns": null,
            "grid_template_rows": null,
            "height": null,
            "justify_content": null,
            "justify_items": null,
            "left": null,
            "margin": null,
            "max_height": null,
            "max_width": null,
            "min_height": null,
            "min_width": null,
            "object_fit": null,
            "object_position": null,
            "order": null,
            "overflow": null,
            "overflow_x": null,
            "overflow_y": null,
            "padding": null,
            "right": null,
            "top": null,
            "visibility": null,
            "width": null
          }
        },
        "daa31b02ec75413ea2ceaead2a6db960": {
          "model_module": "@jupyter-widgets/base",
          "model_name": "LayoutModel",
          "model_module_version": "1.2.0",
          "state": {
            "_model_module": "@jupyter-widgets/base",
            "_model_module_version": "1.2.0",
            "_model_name": "LayoutModel",
            "_view_count": null,
            "_view_module": "@jupyter-widgets/base",
            "_view_module_version": "1.2.0",
            "_view_name": "LayoutView",
            "align_content": null,
            "align_items": null,
            "align_self": null,
            "border": null,
            "bottom": null,
            "display": null,
            "flex": null,
            "flex_flow": null,
            "grid_area": null,
            "grid_auto_columns": null,
            "grid_auto_flow": null,
            "grid_auto_rows": null,
            "grid_column": null,
            "grid_gap": null,
            "grid_row": null,
            "grid_template_areas": null,
            "grid_template_columns": null,
            "grid_template_rows": null,
            "height": null,
            "justify_content": null,
            "justify_items": null,
            "left": null,
            "margin": null,
            "max_height": null,
            "max_width": null,
            "min_height": null,
            "min_width": null,
            "object_fit": null,
            "object_position": null,
            "order": null,
            "overflow": null,
            "overflow_x": null,
            "overflow_y": null,
            "padding": null,
            "right": null,
            "top": null,
            "visibility": null,
            "width": null
          }
        },
        "aeb833f36e81426e9480e51ec5946a27": {
          "model_module": "@jupyter-widgets/controls",
          "model_name": "DescriptionStyleModel",
          "model_module_version": "1.5.0",
          "state": {
            "_model_module": "@jupyter-widgets/controls",
            "_model_module_version": "1.5.0",
            "_model_name": "DescriptionStyleModel",
            "_view_count": null,
            "_view_module": "@jupyter-widgets/base",
            "_view_module_version": "1.2.0",
            "_view_name": "StyleView",
            "description_width": ""
          }
        },
        "c947ce42adc346dc8c01693632179496": {
          "model_module": "@jupyter-widgets/base",
          "model_name": "LayoutModel",
          "model_module_version": "1.2.0",
          "state": {
            "_model_module": "@jupyter-widgets/base",
            "_model_module_version": "1.2.0",
            "_model_name": "LayoutModel",
            "_view_count": null,
            "_view_module": "@jupyter-widgets/base",
            "_view_module_version": "1.2.0",
            "_view_name": "LayoutView",
            "align_content": null,
            "align_items": null,
            "align_self": null,
            "border": null,
            "bottom": null,
            "display": null,
            "flex": null,
            "flex_flow": null,
            "grid_area": null,
            "grid_auto_columns": null,
            "grid_auto_flow": null,
            "grid_auto_rows": null,
            "grid_column": null,
            "grid_gap": null,
            "grid_row": null,
            "grid_template_areas": null,
            "grid_template_columns": null,
            "grid_template_rows": null,
            "height": null,
            "justify_content": null,
            "justify_items": null,
            "left": null,
            "margin": null,
            "max_height": null,
            "max_width": null,
            "min_height": null,
            "min_width": null,
            "object_fit": null,
            "object_position": null,
            "order": null,
            "overflow": null,
            "overflow_x": null,
            "overflow_y": null,
            "padding": null,
            "right": null,
            "top": null,
            "visibility": null,
            "width": null
          }
        },
        "734a15eff73d49f1b9d6b5d485825b59": {
          "model_module": "@jupyter-widgets/controls",
          "model_name": "ProgressStyleModel",
          "model_module_version": "1.5.0",
          "state": {
            "_model_module": "@jupyter-widgets/controls",
            "_model_module_version": "1.5.0",
            "_model_name": "ProgressStyleModel",
            "_view_count": null,
            "_view_module": "@jupyter-widgets/base",
            "_view_module_version": "1.2.0",
            "_view_name": "StyleView",
            "bar_color": null,
            "description_width": ""
          }
        },
        "d5ded90171394d95b07d3f808b748624": {
          "model_module": "@jupyter-widgets/base",
          "model_name": "LayoutModel",
          "model_module_version": "1.2.0",
          "state": {
            "_model_module": "@jupyter-widgets/base",
            "_model_module_version": "1.2.0",
            "_model_name": "LayoutModel",
            "_view_count": null,
            "_view_module": "@jupyter-widgets/base",
            "_view_module_version": "1.2.0",
            "_view_name": "LayoutView",
            "align_content": null,
            "align_items": null,
            "align_self": null,
            "border": null,
            "bottom": null,
            "display": null,
            "flex": null,
            "flex_flow": null,
            "grid_area": null,
            "grid_auto_columns": null,
            "grid_auto_flow": null,
            "grid_auto_rows": null,
            "grid_column": null,
            "grid_gap": null,
            "grid_row": null,
            "grid_template_areas": null,
            "grid_template_columns": null,
            "grid_template_rows": null,
            "height": null,
            "justify_content": null,
            "justify_items": null,
            "left": null,
            "margin": null,
            "max_height": null,
            "max_width": null,
            "min_height": null,
            "min_width": null,
            "object_fit": null,
            "object_position": null,
            "order": null,
            "overflow": null,
            "overflow_x": null,
            "overflow_y": null,
            "padding": null,
            "right": null,
            "top": null,
            "visibility": null,
            "width": null
          }
        },
        "cea1842906734eaba883ca2bb6cb8e4a": {
          "model_module": "@jupyter-widgets/controls",
          "model_name": "DescriptionStyleModel",
          "model_module_version": "1.5.0",
          "state": {
            "_model_module": "@jupyter-widgets/controls",
            "_model_module_version": "1.5.0",
            "_model_name": "DescriptionStyleModel",
            "_view_count": null,
            "_view_module": "@jupyter-widgets/base",
            "_view_module_version": "1.2.0",
            "_view_name": "StyleView",
            "description_width": ""
          }
        },
        "dd62787688784f579904e427b0137cc2": {
          "model_module": "@jupyter-widgets/controls",
          "model_name": "HBoxModel",
          "model_module_version": "1.5.0",
          "state": {
            "_dom_classes": [],
            "_model_module": "@jupyter-widgets/controls",
            "_model_module_version": "1.5.0",
            "_model_name": "HBoxModel",
            "_view_count": null,
            "_view_module": "@jupyter-widgets/controls",
            "_view_module_version": "1.5.0",
            "_view_name": "HBoxView",
            "box_style": "",
            "children": [
              "IPY_MODEL_5ecead92dab3437d87eedb3f805afbea",
              "IPY_MODEL_aa2dc043807848a29c07c57041660f3e",
              "IPY_MODEL_0ae13aff6e5a46e0971eeb5a8cfb9ac1"
            ],
            "layout": "IPY_MODEL_548f3623c442490d8268d29e1058b96c"
          }
        },
        "5ecead92dab3437d87eedb3f805afbea": {
          "model_module": "@jupyter-widgets/controls",
          "model_name": "HTMLModel",
          "model_module_version": "1.5.0",
          "state": {
            "_dom_classes": [],
            "_model_module": "@jupyter-widgets/controls",
            "_model_module_version": "1.5.0",
            "_model_name": "HTMLModel",
            "_view_count": null,
            "_view_module": "@jupyter-widgets/controls",
            "_view_module_version": "1.5.0",
            "_view_name": "HTMLView",
            "description": "",
            "description_tooltip": null,
            "layout": "IPY_MODEL_6308bfe667d74979bc36966c697e3a9b",
            "placeholder": "​",
            "style": "IPY_MODEL_fa569d9742524ec78abdc6fce682c786",
            "value": "Map: 100%"
          }
        },
        "aa2dc043807848a29c07c57041660f3e": {
          "model_module": "@jupyter-widgets/controls",
          "model_name": "FloatProgressModel",
          "model_module_version": "1.5.0",
          "state": {
            "_dom_classes": [],
            "_model_module": "@jupyter-widgets/controls",
            "_model_module_version": "1.5.0",
            "_model_name": "FloatProgressModel",
            "_view_count": null,
            "_view_module": "@jupyter-widgets/controls",
            "_view_module_version": "1.5.0",
            "_view_name": "ProgressView",
            "bar_style": "success",
            "description": "",
            "description_tooltip": null,
            "layout": "IPY_MODEL_74f246a4e0a744c3911976ba0de610a9",
            "max": 100,
            "min": 0,
            "orientation": "horizontal",
            "style": "IPY_MODEL_6c304ca81cc4405b9c12963cc5dfbacd",
            "value": 100
          }
        },
        "0ae13aff6e5a46e0971eeb5a8cfb9ac1": {
          "model_module": "@jupyter-widgets/controls",
          "model_name": "HTMLModel",
          "model_module_version": "1.5.0",
          "state": {
            "_dom_classes": [],
            "_model_module": "@jupyter-widgets/controls",
            "_model_module_version": "1.5.0",
            "_model_name": "HTMLModel",
            "_view_count": null,
            "_view_module": "@jupyter-widgets/controls",
            "_view_module_version": "1.5.0",
            "_view_name": "HTMLView",
            "description": "",
            "description_tooltip": null,
            "layout": "IPY_MODEL_bcc4ec813c6d40a48d3ac67b8e57f633",
            "placeholder": "​",
            "style": "IPY_MODEL_d8c65c926b524c2bb43e5502c836882f",
            "value": " 100/100 [00:00&lt;00:00, 101.91 examples/s]"
          }
        },
        "548f3623c442490d8268d29e1058b96c": {
          "model_module": "@jupyter-widgets/base",
          "model_name": "LayoutModel",
          "model_module_version": "1.2.0",
          "state": {
            "_model_module": "@jupyter-widgets/base",
            "_model_module_version": "1.2.0",
            "_model_name": "LayoutModel",
            "_view_count": null,
            "_view_module": "@jupyter-widgets/base",
            "_view_module_version": "1.2.0",
            "_view_name": "LayoutView",
            "align_content": null,
            "align_items": null,
            "align_self": null,
            "border": null,
            "bottom": null,
            "display": null,
            "flex": null,
            "flex_flow": null,
            "grid_area": null,
            "grid_auto_columns": null,
            "grid_auto_flow": null,
            "grid_auto_rows": null,
            "grid_column": null,
            "grid_gap": null,
            "grid_row": null,
            "grid_template_areas": null,
            "grid_template_columns": null,
            "grid_template_rows": null,
            "height": null,
            "justify_content": null,
            "justify_items": null,
            "left": null,
            "margin": null,
            "max_height": null,
            "max_width": null,
            "min_height": null,
            "min_width": null,
            "object_fit": null,
            "object_position": null,
            "order": null,
            "overflow": null,
            "overflow_x": null,
            "overflow_y": null,
            "padding": null,
            "right": null,
            "top": null,
            "visibility": null,
            "width": null
          }
        },
        "6308bfe667d74979bc36966c697e3a9b": {
          "model_module": "@jupyter-widgets/base",
          "model_name": "LayoutModel",
          "model_module_version": "1.2.0",
          "state": {
            "_model_module": "@jupyter-widgets/base",
            "_model_module_version": "1.2.0",
            "_model_name": "LayoutModel",
            "_view_count": null,
            "_view_module": "@jupyter-widgets/base",
            "_view_module_version": "1.2.0",
            "_view_name": "LayoutView",
            "align_content": null,
            "align_items": null,
            "align_self": null,
            "border": null,
            "bottom": null,
            "display": null,
            "flex": null,
            "flex_flow": null,
            "grid_area": null,
            "grid_auto_columns": null,
            "grid_auto_flow": null,
            "grid_auto_rows": null,
            "grid_column": null,
            "grid_gap": null,
            "grid_row": null,
            "grid_template_areas": null,
            "grid_template_columns": null,
            "grid_template_rows": null,
            "height": null,
            "justify_content": null,
            "justify_items": null,
            "left": null,
            "margin": null,
            "max_height": null,
            "max_width": null,
            "min_height": null,
            "min_width": null,
            "object_fit": null,
            "object_position": null,
            "order": null,
            "overflow": null,
            "overflow_x": null,
            "overflow_y": null,
            "padding": null,
            "right": null,
            "top": null,
            "visibility": null,
            "width": null
          }
        },
        "fa569d9742524ec78abdc6fce682c786": {
          "model_module": "@jupyter-widgets/controls",
          "model_name": "DescriptionStyleModel",
          "model_module_version": "1.5.0",
          "state": {
            "_model_module": "@jupyter-widgets/controls",
            "_model_module_version": "1.5.0",
            "_model_name": "DescriptionStyleModel",
            "_view_count": null,
            "_view_module": "@jupyter-widgets/base",
            "_view_module_version": "1.2.0",
            "_view_name": "StyleView",
            "description_width": ""
          }
        },
        "74f246a4e0a744c3911976ba0de610a9": {
          "model_module": "@jupyter-widgets/base",
          "model_name": "LayoutModel",
          "model_module_version": "1.2.0",
          "state": {
            "_model_module": "@jupyter-widgets/base",
            "_model_module_version": "1.2.0",
            "_model_name": "LayoutModel",
            "_view_count": null,
            "_view_module": "@jupyter-widgets/base",
            "_view_module_version": "1.2.0",
            "_view_name": "LayoutView",
            "align_content": null,
            "align_items": null,
            "align_self": null,
            "border": null,
            "bottom": null,
            "display": null,
            "flex": null,
            "flex_flow": null,
            "grid_area": null,
            "grid_auto_columns": null,
            "grid_auto_flow": null,
            "grid_auto_rows": null,
            "grid_column": null,
            "grid_gap": null,
            "grid_row": null,
            "grid_template_areas": null,
            "grid_template_columns": null,
            "grid_template_rows": null,
            "height": null,
            "justify_content": null,
            "justify_items": null,
            "left": null,
            "margin": null,
            "max_height": null,
            "max_width": null,
            "min_height": null,
            "min_width": null,
            "object_fit": null,
            "object_position": null,
            "order": null,
            "overflow": null,
            "overflow_x": null,
            "overflow_y": null,
            "padding": null,
            "right": null,
            "top": null,
            "visibility": null,
            "width": null
          }
        },
        "6c304ca81cc4405b9c12963cc5dfbacd": {
          "model_module": "@jupyter-widgets/controls",
          "model_name": "ProgressStyleModel",
          "model_module_version": "1.5.0",
          "state": {
            "_model_module": "@jupyter-widgets/controls",
            "_model_module_version": "1.5.0",
            "_model_name": "ProgressStyleModel",
            "_view_count": null,
            "_view_module": "@jupyter-widgets/base",
            "_view_module_version": "1.2.0",
            "_view_name": "StyleView",
            "bar_color": null,
            "description_width": ""
          }
        },
        "bcc4ec813c6d40a48d3ac67b8e57f633": {
          "model_module": "@jupyter-widgets/base",
          "model_name": "LayoutModel",
          "model_module_version": "1.2.0",
          "state": {
            "_model_module": "@jupyter-widgets/base",
            "_model_module_version": "1.2.0",
            "_model_name": "LayoutModel",
            "_view_count": null,
            "_view_module": "@jupyter-widgets/base",
            "_view_module_version": "1.2.0",
            "_view_name": "LayoutView",
            "align_content": null,
            "align_items": null,
            "align_self": null,
            "border": null,
            "bottom": null,
            "display": null,
            "flex": null,
            "flex_flow": null,
            "grid_area": null,
            "grid_auto_columns": null,
            "grid_auto_flow": null,
            "grid_auto_rows": null,
            "grid_column": null,
            "grid_gap": null,
            "grid_row": null,
            "grid_template_areas": null,
            "grid_template_columns": null,
            "grid_template_rows": null,
            "height": null,
            "justify_content": null,
            "justify_items": null,
            "left": null,
            "margin": null,
            "max_height": null,
            "max_width": null,
            "min_height": null,
            "min_width": null,
            "object_fit": null,
            "object_position": null,
            "order": null,
            "overflow": null,
            "overflow_x": null,
            "overflow_y": null,
            "padding": null,
            "right": null,
            "top": null,
            "visibility": null,
            "width": null
          }
        },
        "d8c65c926b524c2bb43e5502c836882f": {
          "model_module": "@jupyter-widgets/controls",
          "model_name": "DescriptionStyleModel",
          "model_module_version": "1.5.0",
          "state": {
            "_model_module": "@jupyter-widgets/controls",
            "_model_module_version": "1.5.0",
            "_model_name": "DescriptionStyleModel",
            "_view_count": null,
            "_view_module": "@jupyter-widgets/base",
            "_view_module_version": "1.2.0",
            "_view_name": "StyleView",
            "description_width": ""
          }
        }
      }
    }
  },
  "cells": [
    {
      "cell_type": "markdown",
      "metadata": {
        "id": "view-in-github",
        "colab_type": "text"
      },
      "source": [
        "<a href=\"https://colab.research.google.com/github/sdeshmukh99/Generative-AI-Showcase/blob/main/Showcase_01/Fine_Tuning_GPT_2_on_MedQuAD_for_Medical_Question_Answering.ipynb\" target=\"_parent\"><img src=\"https://colab.research.google.com/assets/colab-badge.svg\" alt=\"Open In Colab\"/></a>"
      ]
    },
    {
      "cell_type": "markdown",
      "source": [
        "### 1. Installing Dependencies"
      ],
      "metadata": {
        "id": "3ARnEsZr0OJt"
      }
    },
    {
      "cell_type": "code",
      "source": [
        "%%capture\n",
        "!pip -q uninstall pyarrow -y\n",
        "!pip -q install pyarrow==15.0.2\n",
        "!pip -q install datasets\n",
        "!pip -q install accelerate\n",
        "!pip -q install transformers"
      ],
      "metadata": {
        "id": "9_w3DRceg1_I"
      },
      "execution_count": null,
      "outputs": []
    },
    {
      "cell_type": "markdown",
      "source": [
        "### 2. Import Required Packages"
      ],
      "metadata": {
        "id": "MtZyJ81XQEtw"
      }
    },
    {
      "cell_type": "code",
      "source": [
        "# Import required packages (run this again after runtime restarts)\n",
        "import os\n",
        "import re\n",
        "import numpy as np\n",
        "import pandas as pd\n",
        "import matplotlib.pyplot as plt\n",
        "from sklearn.model_selection import train_test_split\n",
        "import torch\n",
        "from datasets import load_dataset\n",
        "from transformers import GPT2Tokenizer, GPT2LMHeadModel, DataCollatorForLanguageModeling\n",
        "from transformers import Trainer, TrainingArguments, EarlyStoppingCallback\n",
        "\n",
        "import warnings\n",
        "warnings.filterwarnings('ignore')\n",
        "\n",
        "# Define model output path\n",
        "model_output_path = \"/content/gpt_model\""
      ],
      "metadata": {
        "id": "aQR9CHtDQGyw"
      },
      "execution_count": null,
      "outputs": []
    },
    {
      "cell_type": "markdown",
      "source": [
        "### 3. Download the Dataset"
      ],
      "metadata": {
        "id": "xS8fGAnxPmXP"
      }
    },
    {
      "cell_type": "code",
      "source": [
        "# Download the dataset\n",
        "!wget -q https://cdn.iisc.talentsprint.com/AIandMLOps/MiniProjects/Datasets/MedQuAD.csv\n",
        "!ls | grep \".csv\"\n"
      ],
      "metadata": {
        "id": "GMiPOAKIPox-",
        "colab": {
          "base_uri": "https://localhost:8080/"
        },
        "outputId": "93fb8d5b-dc02-456c-ca0c-ef947783b4e3"
      },
      "execution_count": null,
      "outputs": [
        {
          "output_type": "stream",
          "name": "stdout",
          "text": [
            "MedQuAD.csv\n",
            "MedQuAD.csv.1\n"
          ]
        }
      ]
    },
    {
      "cell_type": "markdown",
      "source": [
        "### 4. Data Preprocessing:"
      ],
      "metadata": {
        "id": "F7FTDtxnn9zI"
      }
    },
    {
      "cell_type": "markdown",
      "source": [
        "##### 4.1: Read the MedQuAD.csv dataset\n"
      ],
      "metadata": {
        "id": "1eb6GJ5JQUdP"
      }
    },
    {
      "cell_type": "code",
      "source": [
        "# Read the dataset\n",
        "data = pd.read_csv('MedQuAD.csv')\n"
      ],
      "metadata": {
        "id": "yMZI5Ij8QVn_"
      },
      "execution_count": null,
      "outputs": []
    },
    {
      "cell_type": "markdown",
      "source": [
        "##### 4.2: Data Preprocessing\n"
      ],
      "metadata": {
        "id": "P2hgbt_cQXZ2"
      }
    },
    {
      "cell_type": "code",
      "source": [
        "# Check for missing values\n",
        "print(\"Missing values in each column:\")\n",
        "print(data.isnull().sum())\n",
        "\n",
        "# Drop rows with missing 'Question' or 'Answer'\n",
        "data = data.dropna(subset=['Question', 'Answer'])\n",
        "\n",
        "# Remove duplicates based on 'Question' and 'Answer' columns\n",
        "data = data.drop_duplicates(subset=['Question', 'Answer'])\n"
      ],
      "metadata": {
        "id": "X8e1S6CIQZYQ",
        "colab": {
          "base_uri": "https://localhost:8080/"
        },
        "outputId": "e1fd65fa-63d8-4219-aa61-f3c1077425d0"
      },
      "execution_count": null,
      "outputs": [
        {
          "output_type": "stream",
          "name": "stdout",
          "text": [
            "Missing values in each column:\n",
            "Focus             14\n",
            "CUI              565\n",
            "SemanticType     597\n",
            "SemanticGroup    565\n",
            "Question           0\n",
            "Answer             5\n",
            "dtype: int64\n"
          ]
        }
      ]
    },
    {
      "cell_type": "markdown",
      "source": [
        "##### 4.3: Display Focus Categories"
      ],
      "metadata": {
        "id": "O-PAqVyOQbTt"
      }
    },
    {
      "cell_type": "code",
      "source": [
        "# Total categories in Focus column\n",
        "total_categories = data['Focus'].nunique()\n",
        "print(f\"Total categories in 'Focus' column: {total_categories}\")\n",
        "\n",
        "# Displaying the distinct categories of Focus column and the number of records belonging to each category (Top 100 only)\n",
        "focus_counts = data['Focus'].value_counts()\n",
        "print(\"Top 100 categories in 'Focus' column and their counts:\")\n",
        "print(focus_counts.head(100))\n",
        "\n",
        "# Top 100 Focus categories names\n",
        "top_100_focus = focus_counts.head(100).index.tolist()\n",
        "print(\"Top 100 Focus categories names:\")\n",
        "print(top_100_focus)\n"
      ],
      "metadata": {
        "id": "HY6_1rjLQkrO",
        "colab": {
          "base_uri": "https://localhost:8080/"
        },
        "outputId": "dca66412-cb0f-4c4b-a3a4-94cd6bb26672"
      },
      "execution_count": null,
      "outputs": [
        {
          "output_type": "stream",
          "name": "stdout",
          "text": [
            "Total categories in 'Focus' column: 5125\n",
            "Top 100 categories in 'Focus' column and their counts:\n",
            "Focus\n",
            "Breast Cancer                 53\n",
            "Prostate Cancer               43\n",
            "Stroke                        35\n",
            "Skin Cancer                   34\n",
            "Alzheimer's Disease           30\n",
            "                              ..\n",
            "MECP2 duplication syndrome    11\n",
            "Holt-Oram syndrome            11\n",
            "Ehlers-Danlos syndrome        11\n",
            "Hearing Loss                  10\n",
            "Wilson disease                10\n",
            "Name: count, Length: 100, dtype: int64\n",
            "Top 100 Focus categories names:\n",
            "['Breast Cancer', 'Prostate Cancer', 'Stroke', 'Skin Cancer', \"Alzheimer's Disease\", 'Lung Cancer', 'Colorectal Cancer', 'High Blood Cholesterol', 'Heart Attack', 'Heart Failure', 'High Blood Pressure', \"Parkinson's Disease\", 'Leukemia', 'Osteoporosis', 'Shingles', 'Age-related Macular Degeneration', 'Diabetes', 'Hemochromatosis', 'Diabetic Retinopathy', 'Psoriasis', 'Gum (Periodontal) Disease', 'Kidney Disease', 'COPD', 'Cataract', 'Balance Problems', 'Dry Mouth', 'Prescription and Illicit Drug Abuse', 'Medicare and Continuing Care', 'Gout', 'Glaucoma', 'Wilson Disease', 'Problems with Taste', 'Neuroblastoma', 'Rheumatoid Arthritis', 'Short Bowel Syndrome', 'Osteoarthritis', 'Narcolepsy', 'Endometrial Cancer', 'Pituitary Tumors', 'Dry Eye', 'Kidney Dysplasia', 'Anxiety Disorders', 'Peripheral Arterial Disease (P.A.D.)', 'Urinary Tract Infections in Children', 'Surviving Cancer', 'Problems with Smell', 'Knee Replacement', 'Creating a Family Health History', 'Polycystic Kidney Disease', 'What I need to know about Kidney Failure and How Its Treated', 'Cyclic Vomiting Syndrome', 'Amyloidosis and Kidney Disease', 'Abdominal Adhesions', 'Diabetic Neuropathies: The Nerve Damage of Diabetes', 'Depression', \"Adrenal Insufficiency and Addison's Disease\", 'National Hormone and Pituitary Program (NHPP): Information for People Treated with Pituitary Human Growth Hormone (Comprehensive Report)', 'Prostate Enlargement: Benign Prostatic Hyperplasia', 'Polycythemia Vera', 'Diverticular Disease', 'Porphyria', 'Laron syndrome', 'Camurati-Engelmann disease', 'Langerhans cell histiocytosis', 'Wolfram syndrome', 'Celiac Disease', 'IgA Nephropathy', 'Peters plus syndrome', 'Vesicoureteral Reflux', 'Poland syndrome', \"Cushing's Syndrome\", 'Nutrition for Advanced Chronic Kidney Disease in Adults', 'Gallstones', 'Danon disease', 'Bartter syndrome', 'Opitz G/BBB syndrome', \"Paget's Disease of Bone\", 'Alagille Syndrome', 'Medullary Sponge Kidney', 'Prader-Willi syndrome', '21-hydroxylase deficiency', 'Cornelia de Lange syndrome', 'Urinary Incontinence', 'Diabetes, Heart Disease, and Stroke', 'Urinary Retention', 'Cowden syndrome', 'Sleep Apnea', \"Alzheimer's Caregiving\", 'Alcohol Use and Older Adults', 'Sarcoidosis', 'Liddle syndrome', 'Greig cephalopolysyndactyly syndrome', 'GM1 gangliosidosis', 'Klinefelter syndrome', 'Huntington disease', 'MECP2 duplication syndrome', 'Holt-Oram syndrome', 'Ehlers-Danlos syndrome', 'Hearing Loss', 'Wilson disease']\n"
          ]
        }
      ]
    },
    {
      "cell_type": "markdown",
      "source": [
        "### Exercise 5: Create Training and Validation set"
      ],
      "metadata": {
        "id": "lTLGm6ZcQlrz"
      }
    },
    {
      "cell_type": "code",
      "source": [
        "# Create training and validation sets\n",
        "train_data_list = []\n",
        "val_data_list = []\n",
        "\n",
        "for focus in top_100_focus:\n",
        "    focus_data = data[data['Focus'] == focus]\n",
        "    # Shuffle the data\n",
        "    focus_data = focus_data.sample(frac=1, random_state=42).reset_index(drop=True)\n",
        "    if len(focus_data) >= 3:\n",
        "        train_samples = focus_data.iloc[:2]  # Reduced from 4 to 2 samples to reduce training time\n",
        "        val_samples = focus_data.iloc[2:3]\n",
        "    elif len(focus_data) >= 2:\n",
        "        train_samples = focus_data.iloc[:-1]\n",
        "        val_samples = focus_data.iloc[-1:]\n",
        "    else:\n",
        "        # If only one sample, use it for training\n",
        "        train_samples = focus_data\n",
        "        val_samples = pd.DataFrame(columns=focus_data.columns)\n",
        "    train_data_list.append(train_samples)\n",
        "    val_data_list.append(val_samples)\n",
        "\n",
        "train_data = pd.concat(train_data_list, ignore_index=True)\n",
        "val_data = pd.concat(val_data_list, ignore_index=True)\n",
        "\n",
        "print(f\"Training data samples: {len(train_data)}\")\n",
        "print(f\"Validation data samples: {len(val_data)}\")\n"
      ],
      "metadata": {
        "id": "TxamgOHzQn6-",
        "colab": {
          "base_uri": "https://localhost:8080/"
        },
        "outputId": "b8fa6efb-30ac-443e-a7fb-196b1ee5286e"
      },
      "execution_count": null,
      "outputs": [
        {
          "output_type": "stream",
          "name": "stdout",
          "text": [
            "Training data samples: 200\n",
            "Validation data samples: 100\n"
          ]
        }
      ]
    },
    {
      "cell_type": "markdown",
      "source": [
        "### Exercise 6: Pre-process Question and Answer text\n"
      ],
      "metadata": {
        "id": "vtyKtcqxQpvY"
      }
    },
    {
      "cell_type": "code",
      "source": [
        "# Combine Questions and Answers for train and val data\n",
        "train_data['Combined'] = '<question> ' + train_data['Question'] + ' <answer> ' + train_data['Answer'] + ' <end>'\n",
        "val_data['Combined'] = '<question> ' + val_data['Question'] + ' <answer> ' + val_data['Answer'] + ' <end>'\n",
        "\n",
        "# Create training and validation text\n",
        "train_text = '\\n'.join(train_data['Combined'].tolist())\n",
        "val_text = '\\n'.join(val_data['Combined'].tolist())\n",
        "\n",
        "# Save the training and validation data as text files\n",
        "with open('train_data.txt', 'w', encoding='utf-8') as f:\n",
        "    f.write(train_text)\n",
        "\n",
        "with open('val_data.txt', 'w', encoding='utf-8') as f:\n",
        "    f.write(val_text)\n"
      ],
      "metadata": {
        "id": "fH52nKr3QsGd"
      },
      "execution_count": null,
      "outputs": []
    },
    {
      "cell_type": "markdown",
      "source": [
        "### Exercise 7: Load pre-trained GPT2Tokenizer and GPT2LMHeadModel\n"
      ],
      "metadata": {
        "id": "ffvYEnD8Q0l1"
      }
    },
    {
      "cell_type": "code",
      "source": [
        "# Set up the tokenizer\n",
        "tokenizer = GPT2Tokenizer.from_pretrained('gpt2')\n",
        "\n",
        "# Add special tokens to the tokenizer\n",
        "special_tokens_dict = {'additional_special_tokens': ['<question>', '<answer>', '<end>']}\n",
        "num_added_toks = tokenizer.add_special_tokens(special_tokens_dict)\n",
        "print(f\"We have added {num_added_toks} special tokens\")\n",
        "\n",
        "# Set the padding token\n",
        "tokenizer.pad_token = tokenizer.eos_token\n",
        "\n",
        "# Load the pre-trained model\n",
        "model = GPT2LMHeadModel.from_pretrained('gpt2')\n",
        "\n",
        "# Resize the model embeddings to match the new tokenizer\n",
        "model.resize_token_embeddings(len(tokenizer))\n",
        "\n",
        "# Enable gradient checkpointing to reduce memory usage\n",
        "model.gradient_checkpointing_enable()"
      ],
      "metadata": {
        "id": "OkApTQdDQ2yF",
        "colab": {
          "base_uri": "https://localhost:8080/"
        },
        "outputId": "827144f4-e436-4517-aca0-7aac83a32875"
      },
      "execution_count": null,
      "outputs": [
        {
          "output_type": "stream",
          "name": "stdout",
          "text": [
            "We have added 3 special tokens\n"
          ]
        }
      ]
    },
    {
      "cell_type": "markdown",
      "source": [
        "### Exercise 8: Tokenize Train and Validation Data\n"
      ],
      "metadata": {
        "id": "AyFzzt0cQ3rM"
      }
    },
    {
      "cell_type": "code",
      "source": [
        "# Load datasets\n",
        "data_files = {'train': 'train_data.txt', 'validation': 'val_data.txt'}\n",
        "datasets = load_dataset('text', data_files=data_files)\n",
        "\n",
        "# Tokenize datasets\n",
        "def tokenize_function(examples):\n",
        "    return tokenizer(examples['text'], truncation=True, max_length=256)  # Reduced max_length to reduce training time\n",
        "\n",
        "tokenized_datasets = datasets.map(tokenize_function, batched=True, num_proc=1, remove_columns=['text'])\n"
      ],
      "metadata": {
        "id": "iYv9Abu5Q5nt",
        "colab": {
          "base_uri": "https://localhost:8080/",
          "height": 145,
          "referenced_widgets": [
            "550addd5049943028d815b56bdaa49d5",
            "040d8d8860544fb5b4185d30c3e0eaf5",
            "0622a88273be41c9b73a0c265653d899",
            "7c679cb7fd454564aee5f238a5dab17a",
            "67dd58d0d29a487ab216a78e127a7d5b",
            "677ebbe45b26483ab922e579c4f26575",
            "cad7e65ebdae43d0ac9856706cec2a69",
            "fde6a7ed144a40b989d7278398de3a3a",
            "0affc2a910ab4ab8812b69fe7642ed0f",
            "ae0a6646fceb4964b2231c063fff43aa",
            "db024c80df29448399372698b9ea0e55",
            "40415aa67323418a93a73ee18bcff490",
            "bb3e779b70b1488eb1612c63b62f537b",
            "95512227c63f448fb1e7ef979a8ba3ed",
            "c09d569b4112440298614adfb05d2c0e",
            "aad703414384489a981de2af69a28d73",
            "83b0b4e07355487783dee4a72c06b654",
            "22864c51617946adacdd3d5a62aab5db",
            "706eb9b51dd2461eb9ea513567d96c9f",
            "3b58011c2b56460e8af657953720a6dc",
            "7a924a50a78c4e5da5acfd7651513457",
            "8916eb45ba2349079c01cc13cf3e4dbd",
            "29a2da88ed104bb0a0746e6f0eb9be90",
            "f89d555bdca145c1a3dc00934356f001",
            "130b328ba2c14b76838afd73c67ee5d8",
            "07315fdccd834663a2ac3023322bfbb3",
            "151550fc9124489c871bd4b1f8c4e831",
            "daa31b02ec75413ea2ceaead2a6db960",
            "aeb833f36e81426e9480e51ec5946a27",
            "c947ce42adc346dc8c01693632179496",
            "734a15eff73d49f1b9d6b5d485825b59",
            "d5ded90171394d95b07d3f808b748624",
            "cea1842906734eaba883ca2bb6cb8e4a",
            "dd62787688784f579904e427b0137cc2",
            "5ecead92dab3437d87eedb3f805afbea",
            "aa2dc043807848a29c07c57041660f3e",
            "0ae13aff6e5a46e0971eeb5a8cfb9ac1",
            "548f3623c442490d8268d29e1058b96c",
            "6308bfe667d74979bc36966c697e3a9b",
            "fa569d9742524ec78abdc6fce682c786",
            "74f246a4e0a744c3911976ba0de610a9",
            "6c304ca81cc4405b9c12963cc5dfbacd",
            "bcc4ec813c6d40a48d3ac67b8e57f633",
            "d8c65c926b524c2bb43e5502c836882f"
          ]
        },
        "outputId": "8f309b32-b67e-42e5-c8a3-dda9f2aaebf1"
      },
      "execution_count": null,
      "outputs": [
        {
          "output_type": "display_data",
          "data": {
            "text/plain": [
              "Generating train split: 0 examples [00:00, ? examples/s]"
            ],
            "application/vnd.jupyter.widget-view+json": {
              "version_major": 2,
              "version_minor": 0,
              "model_id": "550addd5049943028d815b56bdaa49d5"
            }
          },
          "metadata": {}
        },
        {
          "output_type": "display_data",
          "data": {
            "text/plain": [
              "Generating validation split: 0 examples [00:00, ? examples/s]"
            ],
            "application/vnd.jupyter.widget-view+json": {
              "version_major": 2,
              "version_minor": 0,
              "model_id": "40415aa67323418a93a73ee18bcff490"
            }
          },
          "metadata": {}
        },
        {
          "output_type": "display_data",
          "data": {
            "text/plain": [
              "Map:   0%|          | 0/200 [00:00<?, ? examples/s]"
            ],
            "application/vnd.jupyter.widget-view+json": {
              "version_major": 2,
              "version_minor": 0,
              "model_id": "29a2da88ed104bb0a0746e6f0eb9be90"
            }
          },
          "metadata": {}
        },
        {
          "output_type": "display_data",
          "data": {
            "text/plain": [
              "Map:   0%|          | 0/100 [00:00<?, ? examples/s]"
            ],
            "application/vnd.jupyter.widget-view+json": {
              "version_major": 2,
              "version_minor": 0,
              "model_id": "dd62787688784f579904e427b0137cc2"
            }
          },
          "metadata": {}
        }
      ]
    },
    {
      "cell_type": "markdown",
      "source": [
        "### Exercise 9: Create a DataCollator object\n"
      ],
      "metadata": {
        "id": "px2Eu2OaQ7j0"
      }
    },
    {
      "cell_type": "code",
      "source": [
        "# Create a Data collator object\n",
        "data_collator = DataCollatorForLanguageModeling(\n",
        "    tokenizer=tokenizer, mlm=False, return_tensors='pt'\n",
        ")\n"
      ],
      "metadata": {
        "id": "ocGhIdCOQ-bV"
      },
      "execution_count": null,
      "outputs": []
    },
    {
      "cell_type": "markdown",
      "source": [
        "### Exercise 10: Fine-tune GPT2 Model\n"
      ],
      "metadata": {
        "id": "62x0fHLHRC9N"
      }
    },
    {
      "cell_type": "code",
      "source": [
        "# Set up the training arguments (ensure these are correctly configured)\n",
        "training_args = TrainingArguments(\n",
        "    output_dir=model_output_path,\n",
        "    overwrite_output_dir=True,\n",
        "    num_train_epochs=20,\n",
        "    per_device_train_batch_size=4,\n",
        "    per_device_eval_batch_size=4,\n",
        "    evaluation_strategy='epoch',\n",
        "    save_strategy='epoch',\n",
        "    logging_strategy='steps',\n",
        "    logging_steps=50,\n",
        "    weight_decay=0.01,\n",
        "    learning_rate=5e-5,\n",
        "    warmup_steps=50,\n",
        "    fp16=True,\n",
        "    prediction_loss_only=True,\n",
        "    load_best_model_at_end=True,\n",
        "    metric_for_best_model='loss',\n",
        "    greater_is_better=False,\n",
        "    save_safetensors=False,  # Add this line to save in pytorch_model.bin format\n",
        ")\n",
        "\n",
        "# Train the model\n",
        "trainer = Trainer(\n",
        "    model=model,\n",
        "    args=training_args,\n",
        "    train_dataset=tokenized_datasets['train'],\n",
        "    eval_dataset=tokenized_datasets['validation'],\n",
        "    data_collator=data_collator,\n",
        "    callbacks=[EarlyStoppingCallback(early_stopping_patience=2)],\n",
        ")\n",
        "\n",
        "trainer.train()\n",
        "\n",
        "# Save the model\n",
        "trainer.save_model(model_output_path)\n",
        "\n",
        "# Save the tokenizer\n",
        "tokenizer.save_pretrained(model_output_path)\n",
        "\n",
        "# List the contents of the model directory to verify saved files\n",
        "print(\"Contents of /content/gpt_model:\")\n",
        "!ls /content/gpt_model\n",
        "\n",
        "# Expected Output\n",
        "# added_tokens.json       config.json            special_tokens_map.json\n",
        "# pytorch_model.bin       merges.txt             tokenizer_config.json\n",
        "# training_args.bin       vocab.json\n",
        "\n"
      ],
      "metadata": {
        "id": "HR9MKSbXRE5K",
        "colab": {
          "base_uri": "https://localhost:8080/",
          "height": 451
        },
        "outputId": "54b064e5-355b-4f65-c7b0-af7ce21b66a4"
      },
      "execution_count": null,
      "outputs": [
        {
          "output_type": "stream",
          "name": "stderr",
          "text": [
            "`use_cache=True` is incompatible with gradient checkpointing. Setting `use_cache=False`...\n"
          ]
        },
        {
          "output_type": "display_data",
          "data": {
            "text/plain": [
              "<IPython.core.display.HTML object>"
            ],
            "text/html": [
              "\n",
              "    <div>\n",
              "      \n",
              "      <progress value='400' max='1000' style='width:300px; height:20px; vertical-align: middle;'></progress>\n",
              "      [ 400/1000 02:29 < 03:45, 2.66 it/s, Epoch 8/20]\n",
              "    </div>\n",
              "    <table border=\"1\" class=\"dataframe\">\n",
              "  <thead>\n",
              " <tr style=\"text-align: left;\">\n",
              "      <th>Epoch</th>\n",
              "      <th>Training Loss</th>\n",
              "      <th>Validation Loss</th>\n",
              "    </tr>\n",
              "  </thead>\n",
              "  <tbody>\n",
              "    <tr>\n",
              "      <td>1</td>\n",
              "      <td>42.343900</td>\n",
              "      <td>3.979216</td>\n",
              "    </tr>\n",
              "    <tr>\n",
              "      <td>2</td>\n",
              "      <td>2.887800</td>\n",
              "      <td>2.556852</td>\n",
              "    </tr>\n",
              "    <tr>\n",
              "      <td>3</td>\n",
              "      <td>2.440300</td>\n",
              "      <td>2.466745</td>\n",
              "    </tr>\n",
              "    <tr>\n",
              "      <td>4</td>\n",
              "      <td>2.250000</td>\n",
              "      <td>2.372114</td>\n",
              "    </tr>\n",
              "    <tr>\n",
              "      <td>5</td>\n",
              "      <td>2.096000</td>\n",
              "      <td>2.358772</td>\n",
              "    </tr>\n",
              "    <tr>\n",
              "      <td>6</td>\n",
              "      <td>1.981300</td>\n",
              "      <td>2.357291</td>\n",
              "    </tr>\n",
              "    <tr>\n",
              "      <td>7</td>\n",
              "      <td>1.862300</td>\n",
              "      <td>2.367722</td>\n",
              "    </tr>\n",
              "    <tr>\n",
              "      <td>8</td>\n",
              "      <td>1.767200</td>\n",
              "      <td>2.385193</td>\n",
              "    </tr>\n",
              "  </tbody>\n",
              "</table><p>"
            ]
          },
          "metadata": {}
        },
        {
          "output_type": "stream",
          "name": "stdout",
          "text": [
            "Contents of /content/gpt_model:\n",
            "added_tokens.json  checkpoint-300  generation_config.json   tokenizer_config.json\n",
            "checkpoint-100\t   checkpoint-350  merges.txt\t\t    training_args.bin\n",
            "checkpoint-150\t   checkpoint-400  pytorch_model.bin\t    vocab.json\n",
            "checkpoint-200\t   checkpoint-50   runs\n",
            "checkpoint-250\t   config.json\t   special_tokens_map.json\n"
          ]
        }
      ]
    },
    {
      "cell_type": "markdown",
      "source": [
        "### Exercise 11: Test Model with user input prompts\n"
      ],
      "metadata": {
        "id": "JIRtYh6lRHGB"
      }
    },
    {
      "cell_type": "code",
      "source": [
        "# Load the fine-tuned model and tokenizer\n",
        "fine_tuned_model = GPT2LMHeadModel.from_pretrained(model_output_path)\n",
        "fine_tuned_tokenizer = GPT2Tokenizer.from_pretrained(model_output_path)\n",
        "\n",
        "# Move the model to the appropriate device\n",
        "fine_tuned_model.to('cuda' if torch.cuda.is_available() else 'cpu')\n",
        "fine_tuned_model.eval()\n",
        "\n",
        "# Update Tokenizer and Model\n",
        "\n",
        "# Set pad_token if not already set\n",
        "if fine_tuned_tokenizer.pad_token is None:\n",
        "    fine_tuned_tokenizer.pad_token = fine_tuned_tokenizer.eos_token\n",
        "    fine_tuned_tokenizer.pad_token_id = fine_tuned_tokenizer.eos_token_id\n",
        "\n",
        "# Ensure the model uses the correct pad_token_id\n",
        "fine_tuned_model.config.pad_token_id = fine_tuned_tokenizer.pad_token_id\n",
        "\n",
        "# Function to generate response\n",
        "def generate_response(model, tokenizer, prompt, max_length=200):\n",
        "    # Encode the prompt with attention mask and padding\n",
        "    inputs = tokenizer(\n",
        "        prompt,\n",
        "        return_tensors='pt',\n",
        "        padding=True,\n",
        "        truncation=True,\n",
        "        max_length=512  # Adjust as needed\n",
        "    )\n",
        "    input_ids = inputs['input_ids'].to(model.device)\n",
        "    attention_mask = inputs['attention_mask'].to(model.device)\n",
        "\n",
        "    # Generate output sequences\n",
        "    outputs = model.generate(\n",
        "        input_ids=input_ids,\n",
        "        attention_mask=attention_mask,\n",
        "        max_length=max_length,\n",
        "        num_beams=2,\n",
        "        no_repeat_ngram_size=2,\n",
        "        early_stopping=True,\n",
        "        pad_token_id=tokenizer.eos_token_id  # Ensure pad_token_id is set\n",
        "    )\n",
        "\n",
        "    # Decode the outputs\n",
        "    response = tokenizer.decode(outputs[0], skip_special_tokens=True)\n",
        "    return response\n",
        "\n",
        "# Testing with sample prompts\n",
        "\n",
        "# Prompt 1\n",
        "prompt = \"<question> What are the symptoms of diabetes? <answer>\"\n",
        "response = generate_response(fine_tuned_model, fine_tuned_tokenizer, prompt)\n",
        "print(\"Finetuned Model Response to Prompt 1:\")\n",
        "print(response)\n",
        "\n",
        "# Prompt 2\n",
        "prompt = \"<question> How can I lower my blood pressure? <answer>\"\n",
        "response = generate_response(fine_tuned_model, fine_tuned_tokenizer, prompt)\n",
        "print(\"\\nFinetuned Model Response to Prompt 2:\")\n",
        "print(response)\n",
        "\n",
        "# Prompt 3\n",
        "prompt = \"<question> What precautions to take for a healthy life? <answer>\"\n",
        "response = generate_response(fine_tuned_model, fine_tuned_tokenizer, prompt)\n",
        "print(\"\\nFinetuned Model Response to Prompt 2:\")\n",
        "print(response)\n",
        "\n",
        "# Prompt 4\n",
        "prompt = \"<question> What to do when feeling sick? <answer>\"\n",
        "response = generate_response(fine_tuned_model, fine_tuned_tokenizer, prompt)\n",
        "print(\"\\nFinetuned Model Response to Prompt 2:\")\n",
        "print(response)\n"
      ],
      "metadata": {
        "id": "9v08_KnVRJYZ",
        "colab": {
          "base_uri": "https://localhost:8080/"
        },
        "outputId": "1c07415f-4a54-4011-f781-47c39a3ee2da"
      },
      "execution_count": null,
      "outputs": [
        {
          "output_type": "stream",
          "name": "stdout",
          "text": [
            "Finetuned Model Response to Prompt 1:\n",
            " What are the symptoms of diabetes?  Diabetes is a leading cause of death in the United States. People with diabetes have a variety of signs and symptoms. They may have trouble eating, feeling tired, or feeling hungry. Diabetes can also affect how your body absorbs nutrients from the food you eat. In some cases, your blood sugar levels can rise too fast. This can lead to problems such as high blood pressure, diabetes, and heart disease.  How might diabetes affect your health? Diabetes affects your heart, blood vessels, kidneys, liver, pancreas and other organs. Your body makes insulin, a hormone that helps the body digest fats and sugars. Insulin is found in many foods, including fruits, vegetables, whole grains, legumes, dairy products, meats, poultry, fish, nuts, pulses, fruits and vegetables. It is produced by the pancrotate, the part of the brain responsible for digesting fats. The body also produces insulin-like growth factors\n",
            "\n",
            "Finetuned Model Response to Prompt 2:\n",
            " How can I lower my blood pressure?  You can lower your blood-pressure level by taking steps to reduce the amount of sodium in your diet. For example, you can reduce your sodium intake by eating less sodium-containing foods, such as fruits, vegetables, and whole grains. You may also eat less salt-free sodas and drinks, as well as foods that contain salt.  How much sodium should I take in a day? Your doctor will recommend that you take a daily sodium supplement, called sodium chloride (SCH). SCH is a sodium salt supplement that helps your body absorb sodium from the food you eat. It can also be taken orally, in small doses, or in liquid form. Saturated fat is the most common type of saturated fat in the diet, with about 80 percent of Americans having it. Low-fat dairy products, like butter and cheese, are also high in saturated fats. In a study, researchers found that people who eat low-\n",
            "\n",
            "Finetuned Model Response to Prompt 2:\n",
            " What precautions to take for a healthy life?  A healthy lifestyle is one of the most important steps you can take to keep your body healthy. You can't always keep up with the changes that are happening around you. Some people have a hard time keeping up. Others have trouble getting enough sleep. If you have any questions about your health, talk with your doctor or a registered dietitian.  How might I know if I am at risk for heart disease? Heart disease is a leading cause of death in the United States. It is caused by a variety of factors, including - diabetes - smoking - obesity - high blood pressure - and high cholesterol levels. People who have diabetes, high triglycerides, or low levels of cholesterol are at higher risk of heart attack or stroke. Diabetes mellitus (DM) is an inherited condition in which the body produces too much insulin. High blood glucose levels can lead to heart attacks and strokes. In people with this condition, the blood sugar\n",
            "\n",
            "Finetuned Model Response to Prompt 2:\n",
            " What to do when feeling sick?  People who have a feeling of sick may feel sick. They may also feel dizzy, tingling, or a burning sensation in their arms, legs, and/or feet. These symptoms may include nausea, vomiting, diarrhea, abdominal pain, muscle weakness, pain in the legs or feet, feeling tired or weak, nausea or vomiting or feeling weak or tired.  A person who has felt sick or has had a stroke may be at higher risk for stroke. Stroke is the most common cause of death among American adults. In 2008, the National Institute of Arthritis and Musculoskeletal and Skin Diseases (NIAWS) identified stroke as the leading cause for death in adults and children. The National Heart, Lung and Blood Institute (NHBLI) also has a list of stroke-related causes. A stroke can cause a person to feel tired, weak (especially if the stroke is not a direct result of a\n"
          ]
        }
      ]
    },
    {
      "cell_type": "markdown",
      "source": [
        "### Exercise 12: Compare the performance of a GPT2 model with the GPT2 model fine-tuned on MedQuAD data\n"
      ],
      "metadata": {
        "id": "iz0DoW_IRLLW"
      }
    },
    {
      "cell_type": "code",
      "source": [
        "# Loading the Untuned Model and Tokenizer:\n",
        "untuned_model = GPT2LMHeadModel.from_pretrained('gpt2')\n",
        "untuned_model.to('cuda' if torch.cuda.is_available() else 'cpu')\n",
        "untuned_model.eval()\n",
        "\n",
        "untuned_tokenizer = GPT2Tokenizer.from_pretrained('gpt2')\n",
        "\n",
        "# Setting the pad_token and Updating pad_token_id:\n",
        "if untuned_tokenizer.pad_token is None:\n",
        "    untuned_tokenizer.pad_token = untuned_tokenizer.eos_token\n",
        "    untuned_tokenizer.pad_token_id = untuned_tokenizer.eos_token_id\n",
        "\n",
        "# Ensure the model uses the correct pad_token_id\n",
        "untuned_model.config.pad_token_id = untuned_tokenizer.pad_token_id\n",
        "\n",
        "# Test prompts\n",
        "prompts = [\n",
        "    \"What are the symptoms of diabetes?\",\n",
        "    \"How can I lower my blood pressure?\",\n",
        "    \"What precautions to take for a healthy life?\",\n",
        "    \"What to do when feeling sick?\"\n",
        "]\n",
        "\n",
        "# Testing with untuned model\n",
        "print(\"Untuned Model Responses:\\n\")\n",
        "for i, prompt_text in enumerate(prompts, 1):\n",
        "    prompt = prompt_text\n",
        "    with torch.no_grad():  # Disable gradient calculation for inference\n",
        "        response = generate_response(untuned_model, untuned_tokenizer, prompt)\n",
        "    print(f\"Prompt {i}: {prompt_text}\")\n",
        "    print(f\"Response:\\n{response}\\n\")"
      ],
      "metadata": {
        "id": "DXKZHtivRSLH",
        "colab": {
          "base_uri": "https://localhost:8080/"
        },
        "outputId": "eb7e363b-e3f3-4ee7-e36a-276a8c3d8ed5"
      },
      "execution_count": null,
      "outputs": [
        {
          "output_type": "stream",
          "name": "stdout",
          "text": [
            "Untuned Model Responses:\n",
            "\n",
            "Prompt 1: What are the symptoms of diabetes?\n",
            "Response:\n",
            "What are the symptoms of diabetes?\n",
            "\n",
            "Diabetes is the most common cause of death in the United States. It is caused by a variety of causes, including: diabetes mellitus (DM), type 2 diabetes (T2D), high blood pressure (HBP), and high cholesterol (CHC).\n",
            " (Diagnosis) is an important part of the treatment of this disease.\n",
            ". Diabetes is also the cause for many other health problems, such as heart disease, cancer, diabetes, and cancer. The most commonly diagnosed diabetes is Type 1 diabetes. This is a condition that affects the blood sugar levels of people with diabetes and can lead to heart attacks, strokes, heart failure, or death. People with Type 2 Diabetes are more likely to have a heart attack or stroke. If you have Type 3 Diabetes, your risk of having a stroke is higher than if you had a normal blood glucose level. Your risk for having Type 4 Diabetes can be even higher if your blood sugars are\n",
            "\n",
            "Prompt 2: How can I lower my blood pressure?\n",
            "Response:\n",
            "How can I lower my blood pressure?\n",
            "\n",
            "If you're having trouble lowering your blood sugar, you may want to consider lowering the amount of sugar you consume.\n",
            "...\n",
            " (1) If you have diabetes, your doctor may recommend that you drink a low-sugar diet, such as a diet high in fruits, vegetables, whole grains, and legumes. (2) You may also consider using a high-fiber diet or a combination of these foods. If your diet is low in fiber, it may help to reduce your intake of certain nutrients, like vitamin C, which is important for your health. You can also reduce the intake by eating fewer processed foods, including fruits and vegetables.\n",
            "\n",
            "Prompt 3: What precautions to take for a healthy life?\n",
            "Response:\n",
            "What precautions to take for a healthy life?\n",
            "\n",
            "If you are pregnant or breastfeeding, you may want to consult your healthcare provider before taking any medications. If you have any questions about your health, talk to your doctor or pharmacist.\n",
            "\n",
            "Prompt 4: What to do when feeling sick?\n",
            "Response:\n",
            "What to do when feeling sick?\n",
            "\n",
            "If you're feeling ill, it's best to get medical help immediately. If you have a serious illness, such as a heart attack or stroke, you may need to seek medical attention. You may also be able to talk to your doctor about your symptoms.\n",
            "...\n",
            ",. If your condition worsens, call your local emergency room. Your doctor may ask you to take a blood test to see if your blood sugar is normal or if you are having trouble breathing. The test will tell you whether your body is responding well to the medication you take. It will also help you determine whether you should take any other medications.\n",
            "\n"
          ]
        }
      ]
    }
  ]
}