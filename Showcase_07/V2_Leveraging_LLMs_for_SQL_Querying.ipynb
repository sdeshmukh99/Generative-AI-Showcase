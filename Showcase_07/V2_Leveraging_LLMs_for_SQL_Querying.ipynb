{
  "nbformat": 4,
  "nbformat_minor": 0,
  "metadata": {
    "colab": {
      "provenance": [],
      "toc_visible": true,
      "include_colab_link": true
    },
    "kernelspec": {
      "name": "python3",
      "display_name": "Python 3"
    },
    "language_info": {
      "name": "python"
    }
  },
  "cells": [
    {
      "cell_type": "markdown",
      "metadata": {
        "id": "view-in-github",
        "colab_type": "text"
      },
      "source": [
        "<a href=\"https://colab.research.google.com/github/sdeshmukh99/Generative-AI-Showcase/blob/main/Showcase_07/V2_Leveraging_LLMs_for_SQL_Querying.ipynb\" target=\"_parent\"><img src=\"https://colab.research.google.com/assets/colab-badge.svg\" alt=\"Open In Colab\"/></a>"
      ]
    },
    {
      "cell_type": "markdown",
      "source": [
        "# 1: Required Modules"
      ],
      "metadata": {
        "id": "Xdm89DR6aFvr"
      }
    },
    {
      "cell_type": "markdown",
      "source": [
        "## Install Dependencies"
      ],
      "metadata": {
        "id": "rB38MIMpMzCu"
      }
    },
    {
      "cell_type": "code",
      "source": [
        "%%capture\n",
        "# Suppresses the output of the cell (used to hide the installation logs and messages)\n",
        "\n",
        "!pip -q install openai\n",
        "# Quietly installs the OpenAI library, which is needed to interact with OpenAI's GPT models (like GPT-4)\n",
        "\n",
        "!pip -q install langchain-openai\n",
        "# Quietly installs LangChain's OpenAI-specific integrations for generating queries and processing language models\n",
        "\n",
        "!pip -q install langchain-core\n",
        "# Quietly installs LangChain's core functionality, which includes the main components for building LLM-driven workflows\n",
        "\n",
        "!pip -q install langchain-community\n",
        "# Quietly installs LangChain's community-based tools and integrations\n",
        "\n",
        "!pip -q install sentence-transformers\n",
        "# Quietly installs SentenceTransformers, a library used for text embeddings and similarity tasks, useful for working with LLMs\n",
        "\n",
        "!pip -q install langchain-huggingface\n",
        "# Quietly installs LangChain’s Hugging Face integration, enabling interaction with models hosted on the Hugging Face platform\n",
        "\n",
        "!pip -q install langchain_experimental\n",
        "# Quietly installs experimental features from LangChain, which may include new or less stable functionality\n"
      ],
      "metadata": {
        "id": "lWizLddhPTVs"
      },
      "execution_count": null,
      "outputs": []
    },
    {
      "cell_type": "markdown",
      "source": [
        "## Import Required Packages"
      ],
      "metadata": {
        "id": "hgc9EUiXUGFs"
      }
    },
    {
      "cell_type": "code",
      "source": [
        "%%capture\n",
        "# Suppresses the output of the cell (used to hide the logs or messages when importing libraries)\n",
        "\n",
        "import os\n",
        "# Imports the 'os' module to interact with the operating system for environment variables and file operations\n",
        "\n",
        "import openai\n",
        "# Imports the OpenAI library to interact with OpenAI's GPT models for language tasks\n",
        "\n",
        "import pickle\n",
        "# Imports the 'pickle' module to handle serialization and deserialization of Python objects, such as saving and loading data\n",
        "\n",
        "import sqlite3\n",
        "# Imports 'sqlite3' to interact with SQLite databases, used for storing and querying structured data\n",
        "\n",
        "import numpy as np\n",
        "# Imports NumPy, a library for handling arrays and performing numerical computations, often used in data processing\n",
        "\n",
        "import pandas as pd\n",
        "# Imports Pandas, a powerful library for data manipulation and analysis, commonly used with dataframes\n",
        "\n",
        "import seaborn as sns\n",
        "# Imports Seaborn, a visualization library built on top of Matplotlib, useful for creating statistical graphics\n",
        "\n",
        "import matplotlib.pyplot as plt\n",
        "# Imports Matplotlib's Pyplot module, which is used to create visualizations like charts and graphs\n",
        "\n",
        "from getpass import getpass\n",
        "# Imports 'getpass', a module to securely accept user input (like passwords) without showing them on the screen\n",
        "\n",
        "from google.colab import userdata\n",
        "# Imports 'userdata' module to access user-specific information or secrets stored in Google Colab\n",
        "\n",
        "from langchain_core.prompts import PromptTemplate\n",
        "# Imports 'PromptTemplate' from LangChain to define custom templates for generating prompts used by the LLM\n",
        "\n",
        "from langchain_core.output_parsers import StrOutputParser\n",
        "# Imports 'StrOutputParser' from LangChain to parse string outputs from the LLM, helping convert them into usable formats\n",
        "\n",
        "from langchain.schema.runnable import RunnablePassthrough\n",
        "# Imports 'RunnablePassthrough', a utility in LangChain that helps in passing data through a chain of operations without modification\n",
        "\n",
        "from langchain_openai import ChatOpenAI\n",
        "# Imports 'ChatOpenAI', a wrapper around OpenAI's GPT models that allows it to be integrated into LangChain workflows\n"
      ],
      "metadata": {
        "id": "jErE9FOoUIVB"
      },
      "execution_count": null,
      "outputs": []
    },
    {
      "cell_type": "markdown",
      "source": [
        "# 2:  Data Loading and Preprocessing"
      ],
      "metadata": {
        "id": "EzogUsV1aMTW"
      }
    },
    {
      "cell_type": "markdown",
      "source": [
        "## Nifty 50 Constituent Price data"
      ],
      "metadata": {
        "id": "I2OLFjq38FfX"
      }
    },
    {
      "cell_type": "code",
      "source": [
        "# The 'constituent_stock_prices.pkl' file should already be downloaded in Colab once you run the Setup cells given above\n",
        "# Load the Nifty 50 data from the pickle file\n",
        "csp = pickle.load(open('/content/constituent_stock_prices.pkl', 'rb'))\n",
        "# Loads the data stored in the 'constituent_stock_prices.pkl' file using the 'pickle' module.\n",
        "# The 'rb' mode means 'read binary', which is necessary for loading binary files like pickle files.\n",
        "# 'csp' will hold a dictionary where each key is a company and the value is its associated stock price data."
      ],
      "metadata": {
        "id": "LxKHaVew6XUA"
      },
      "execution_count": null,
      "outputs": []
    },
    {
      "cell_type": "code",
      "source": [
        "# Display authorship message\n",
        "print(\"This project was developed by Shantanu Deshmukh. Unauthorized copying is prohibited.\")"
      ],
      "metadata": {
        "colab": {
          "base_uri": "https://localhost:8080/"
        },
        "id": "gYBGD1NeJyUw",
        "outputId": "c983ab21-290d-4dd6-d358-4e5c6f01f405"
      },
      "execution_count": 1,
      "outputs": [
        {
          "output_type": "stream",
          "name": "stdout",
          "text": [
            "This project was developed by Shantanu Deshmukh. Unauthorized copying is prohibited.\n"
          ]
        }
      ]
    },
    {
      "cell_type": "code",
      "source": [
        "# It's a dictionary with each company-name as a key\n",
        "# This comment indicates that the loaded 'csp' object is a dictionary, where each key is a company name and the value is the company's stock price data.\n",
        "\n",
        "type(csp)\n",
        "# Checks the type of the 'csp' object to confirm that it's a dictionary, which holds the financial data for each company.\n"
      ],
      "metadata": {
        "id": "mowXAgM27cu-",
        "colab": {
          "base_uri": "https://localhost:8080/"
        },
        "outputId": "c2667a12-1afe-463f-c991-d6c7141d5dd1"
      },
      "execution_count": null,
      "outputs": [
        {
          "output_type": "execute_result",
          "data": {
            "text/plain": [
              "dict"
            ]
          },
          "metadata": {},
          "execution_count": 7
        }
      ]
    },
    {
      "cell_type": "code",
      "source": [
        "csp.keys()\n",
        "# Returns the keys of the 'csp' dictionary, which are the names of the companies.\n",
        "# Each key corresponds to a company's stock price data, which is stored in a DataFrame.\n"
      ],
      "metadata": {
        "id": "WqLDySbN5b-Y",
        "colab": {
          "base_uri": "https://localhost:8080/"
        },
        "outputId": "f4197096-8dfe-4643-abf3-c65d3120e381"
      },
      "execution_count": null,
      "outputs": [
        {
          "output_type": "execute_result",
          "data": {
            "text/plain": [
              "dict_keys(['ADANIENT.NS', 'ADANIPORTS.NS', 'APOLLOHOSP.NS', 'ASIANPAINT.NS', 'AXISBANK.NS', 'BAJAJ-AUTO.NS', 'BAJFINANCE.NS', 'BAJAJFINSV.NS', 'BEL.NS', 'BPCL.NS', 'BHARTIARTL.NS', 'BRITANNIA.NS', 'CIPLA.NS', 'COALINDIA.NS', 'DRREDDY.NS', 'EICHERMOT.NS', 'GRASIM.NS', 'HCLTECH.NS', 'HDFCBANK.NS', 'HDFCLIFE.NS', 'HEROMOTOCO.NS', 'HINDALCO.NS', 'HINDUNILVR.NS', 'ICICIBANK.NS', 'ITC.NS', 'INDUSINDBK.NS', 'INFY.NS', 'JSWSTEEL.NS', 'KOTAKBANK.NS', 'LT.NS', 'M&M.NS', 'MARUTI.NS', 'NTPC.NS', 'NESTLEIND.NS', 'ONGC.NS', 'POWERGRID.NS', 'RELIANCE.NS', 'SBILIFE.NS', 'SHRIRAMFIN.NS', 'SBIN.NS', 'SUNPHARMA.NS', 'TCS.NS', 'TATACONSUM.NS', 'TATAMOTORS.NS', 'TATASTEEL.NS', 'TECHM.NS', 'TITAN.NS', 'TRENT.NS', 'ULTRACEMCO.NS', 'WIPRO.NS'])"
            ]
          },
          "metadata": {},
          "execution_count": 8
        }
      ]
    },
    {
      "cell_type": "code",
      "source": [
        "# Total companies\n",
        "len(csp.keys())\n",
        "# Returns the total number of companies in the 'csp' dictionary by counting the number of keys.\n",
        "# This gives the number of companies (or datasets) available in the Nifty 50 data.\n"
      ],
      "metadata": {
        "id": "Rvp1NsjG7kx0",
        "colab": {
          "base_uri": "https://localhost:8080/"
        },
        "outputId": "90b5f457-70ad-4f55-e526-112538cd0d80"
      },
      "execution_count": null,
      "outputs": [
        {
          "output_type": "execute_result",
          "data": {
            "text/plain": [
              "50"
            ]
          },
          "metadata": {},
          "execution_count": 9
        }
      ]
    },
    {
      "cell_type": "code",
      "source": [
        "# Checking no. of rows and columns in each dataframe\n",
        "# This initializes two empty lists, 'rows' and 'cols', to store the number of rows and columns for each company's stock data.\n",
        "\n",
        "rows = []\n",
        "cols = []\n",
        "\n",
        "for key in csp.keys():\n",
        "    # Iterates over each company (key) in the 'csp' dictionary.\n",
        "\n",
        "    print(f\"{key:<15} {csp[key].shape}\")\n",
        "    # Prints the company name and the shape of its corresponding DataFrame (number of rows and columns).\n",
        "    # The \"{key:<15}\" ensures the company name is printed in a left-aligned format with a width of 15 characters for neat alignment.\n",
        "\n",
        "    rows.append(csp[key].shape[0])\n",
        "    # Appends the number of rows for each company's stock data (the first element of the shape) to the 'rows' list.\n",
        "\n",
        "    cols.append(csp[key].shape[1])\n",
        "    # Appends the number of columns for each company's stock data (the second element of the shape) to the 'cols' list.\n"
      ],
      "metadata": {
        "id": "LIsWgzEesOVj",
        "colab": {
          "base_uri": "https://localhost:8080/"
        },
        "outputId": "4a9ef1f7-97e1-4206-d4a6-29ca12dd8070"
      },
      "execution_count": null,
      "outputs": [
        {
          "output_type": "stream",
          "name": "stdout",
          "text": [
            "ADANIENT.NS     (5538, 5)\n",
            "ADANIPORTS.NS   (4162, 5)\n",
            "APOLLOHOSP.NS   (5536, 5)\n",
            "ASIANPAINT.NS   (5536, 5)\n",
            "AXISBANK.NS     (6472, 5)\n",
            "BAJAJ-AUTO.NS   (5539, 5)\n",
            "BAJFINANCE.NS   (5536, 5)\n",
            "BAJAJFINSV.NS   (5505, 5)\n",
            "BEL.NS          (5536, 5)\n",
            "BPCL.NS         (7230, 5)\n",
            "BHARTIARTL.NS   (5536, 5)\n",
            "BRITANNIA.NS    (7233, 5)\n",
            "CIPLA.NS        (7233, 5)\n",
            "COALINDIA.NS    (3439, 5)\n",
            "DRREDDY.NS      (7231, 5)\n",
            "EICHERMOT.NS    (7231, 5)\n",
            "GRASIM.NS       (5536, 5)\n",
            "HCLTECH.NS      (5510, 5)\n",
            "HDFCBANK.NS     (7234, 5)\n",
            "HDFCLIFE.NS     (1707, 5)\n",
            "HEROMOTOCO.NS   (5536, 5)\n",
            "HINDALCO.NS     (7234, 5)\n",
            "HINDUNILVR.NS   (7234, 5)\n",
            "ICICIBANK.NS    (5536, 5)\n",
            "ITC.NS          (7231, 5)\n",
            "INDUSINDBK.NS   (5537, 5)\n",
            "INFY.NS         (7234, 5)\n",
            "JSWSTEEL.NS     (5316, 5)\n",
            "KOTAKBANK.NS    (5798, 5)\n",
            "LT.NS           (5539, 5)\n",
            "M&M.NS          (7232, 5)\n",
            "MARUTI.NS       (5272, 5)\n",
            "NTPC.NS         (4925, 5)\n",
            "NESTLEIND.NS    (5509, 5)\n",
            "ONGC.NS         (7231, 5)\n",
            "POWERGRID.NS    (4198, 5)\n",
            "RELIANCE.NS     (7231, 5)\n",
            "SBILIFE.NS      (1739, 5)\n",
            "SHRIRAMFIN.NS   (5539, 5)\n",
            "SBIN.NS         (7232, 5)\n",
            "SUNPHARMA.NS    (7234, 5)\n",
            "TCS.NS          (5507, 5)\n",
            "TATACONSUM.NS   (7231, 5)\n",
            "TATAMOTORS.NS   (8537, 5)\n",
            "TATASTEEL.NS    (7234, 5)\n",
            "TECHM.NS        (4473, 5)\n",
            "TITAN.NS        (7234, 5)\n",
            "TRENT.NS        (5536, 5)\n",
            "ULTRACEMCO.NS   (5506, 5)\n",
            "WIPRO.NS        (7234, 5)\n"
          ]
        }
      ]
    },
    {
      "cell_type": "code",
      "source": [
        "# Visualize no. of rows in each dataframe\n",
        "# This block creates a bar plot to visualize the number of rows (data points) available for each company's stock data.\n",
        "\n",
        "plt.figure(figsize=(20, 4))\n",
        "# Creates a new figure for the plot with a specified size (20 units wide and 4 units high) to accommodate many companies.\n",
        "\n",
        "sns.barplot(x=csp.keys(), y=rows, hue=csp.keys())\n",
        "# Uses Seaborn to create a bar plot where the x-axis represents the company names (keys from 'csp'),\n",
        "# and the y-axis represents the number of rows (data points) for each company.\n",
        "# 'hue=csp.keys()' adds color differentiation for each company.\n",
        "\n",
        "plt.xticks(rotation=80)\n",
        "# Rotates the x-axis labels (company names) by 80 degrees to prevent overlapping and make the labels readable.\n",
        "\n",
        "plt.show()\n",
        "# Displays the bar plot.\n"
      ],
      "metadata": {
        "id": "fxgHok8WuNXi",
        "colab": {
          "base_uri": "https://localhost:8080/",
          "height": 370
        },
        "outputId": "cf8a9604-514c-417a-b1d7-f5573083c5fb"
      },
      "execution_count": null,
      "outputs": [
        {
          "output_type": "display_data",
          "data": {
            "text/plain": [
              "<Figure size 2000x400 with 1 Axes>"
            ],
            "image/png": "[encoded data removed]"
          },
          "metadata": {}
        }
      ]
    },
    {
      "cell_type": "code",
      "source": [
        "# Checking a dataframe\n",
        "# This block accesses and inspects the stock price data for the company 'ADANIENT.NS' (Adani Enterprises).\n",
        "\n",
        "adani = csp['ADANIENT.NS']\n",
        "# Retrieves the stock price data for 'ADANIENT.NS' (Adani Enterprises) from the 'csp' dictionary and stores it in the variable 'adani'.\n",
        "\n",
        "print(adani.shape)\n",
        "# Prints the shape of the 'adani' DataFrame (number of rows and columns), giving an idea of the size of the dataset for this company.\n",
        "\n",
        "adani.head()\n",
        "# Displays the first 5 rows of the 'adani' DataFrame, providing a quick look at the stock price data for Adani Enterprises.\n"
      ],
      "metadata": {
        "id": "fh56h4uM7hF1",
        "colab": {
          "base_uri": "https://localhost:8080/",
          "height": 255
        },
        "outputId": "a286232d-cdf1-489c-f26f-93f5e663af5e"
      },
      "execution_count": null,
      "outputs": [
        {
          "output_type": "stream",
          "name": "stdout",
          "text": [
            "(5538, 5)\n"
          ]
        },
        {
          "output_type": "execute_result",
          "data": {
            "text/plain": [
              "                Open      High       Low     Close   Volume\n",
              "Date                                                       \n",
              "2002-07-01  1.364148  1.401700  1.334259  1.362615  1080397\n",
              "2002-07-02  1.386372  1.390971  1.356484  1.373344  1016147\n",
              "2002-07-03  1.371811  1.387139  1.364914  1.373344   980394\n",
              "2002-07-04  1.379475  1.401700  1.379475  1.381008   972747\n",
              "2002-07-05  1.388672  1.388672  1.372578  1.377942   974496"
            ],
            "text/html": [
              "\n",
              "  <div id=\"df-c8e4b895-3518-4de4-b675-fc4b7d57c93d\" class=\"colab-df-container\">\n",
              "    <div>\n",
              "<style scoped>\n",
              "    .dataframe tbody tr th:only-of-type {\n",
              "        vertical-align: middle;\n",
              "    }\n",
              "\n",
              "    .dataframe tbody tr th {\n",
              "        vertical-align: top;\n",
              "    }\n",
              "\n",
              "    .dataframe thead th {\n",
              "        text-align: right;\n",
              "    }\n",
              "</style>\n",
              "<table border=\"1\" class=\"dataframe\">\n",
              "  <thead>\n",
              "    <tr style=\"text-align: right;\">\n",
              "      <th></th>\n",
              "      <th>Open</th>\n",
              "      <th>High</th>\n",
              "      <th>Low</th>\n",
              "      <th>Close</th>\n",
              "      <th>Volume</th>\n",
              "    </tr>\n",
              "    <tr>\n",
              "      <th>Date</th>\n",
              "      <th></th>\n",
              "      <th></th>\n",
              "      <th></th>\n",
              "      <th></th>\n",
              "      <th></th>\n",
              "    </tr>\n",
              "  </thead>\n",
              "  <tbody>\n",
              "    <tr>\n",
              "      <th>2002-07-01</th>\n",
              "      <td>1.364148</td>\n",
              "      <td>1.401700</td>\n",
              "      <td>1.334259</td>\n",
              "      <td>1.362615</td>\n",
              "      <td>1080397</td>\n",
              "    </tr>\n",
              "    <tr>\n",
              "      <th>2002-07-02</th>\n",
              "      <td>1.386372</td>\n",
              "      <td>1.390971</td>\n",
              "      <td>1.356484</td>\n",
              "      <td>1.373344</td>\n",
              "      <td>1016147</td>\n",
              "    </tr>\n",
              "    <tr>\n",
              "      <th>2002-07-03</th>\n",
              "      <td>1.371811</td>\n",
              "      <td>1.387139</td>\n",
              "      <td>1.364914</td>\n",
              "      <td>1.373344</td>\n",
              "      <td>980394</td>\n",
              "    </tr>\n",
              "    <tr>\n",
              "      <th>2002-07-04</th>\n",
              "      <td>1.379475</td>\n",
              "      <td>1.401700</td>\n",
              "      <td>1.379475</td>\n",
              "      <td>1.381008</td>\n",
              "      <td>972747</td>\n",
              "    </tr>\n",
              "    <tr>\n",
              "      <th>2002-07-05</th>\n",
              "      <td>1.388672</td>\n",
              "      <td>1.388672</td>\n",
              "      <td>1.372578</td>\n",
              "      <td>1.377942</td>\n",
              "      <td>974496</td>\n",
              "    </tr>\n",
              "  </tbody>\n",
              "</table>\n",
              "</div>\n",
              "    <div class=\"colab-df-buttons\">\n",
              "\n",
              "  <div class=\"colab-df-container\">\n",
              "    <button class=\"colab-df-convert\" onclick=\"convertToInteractive('df-c8e4b895-3518-4de4-b675-fc4b7d57c93d')\"\n",
              "            title=\"Convert this dataframe to an interactive table.\"\n",
              "            style=\"display:none;\">\n",
              "\n",
              "  <svg xmlns=\"http://www.w3.org/2000/svg\" height=\"24px\" viewBox=\"0 -960 960 960\">\n",
              "    <path d=\"M120-120v-720h720v720H120Zm60-500h600v-160H180v160Zm220 220h160v-160H400v160Zm0 220h160v-160H400v160ZM180-400h160v-160H180v160Zm440 0h160v-160H620v160ZM180-180h160v-160H180v160Zm440 0h160v-160H620v160Z\"/>\n",
              "  </svg>\n",
              "    </button>\n",
              "\n",
              "  <style>\n",
              "    .colab-df-container {\n",
              "      display:flex;\n",
              "      gap: 12px;\n",
              "    }\n",
              "\n",
              "    .colab-df-convert {\n",
              "      background-color: #E8F0FE;\n",
              "      border: none;\n",
              "      border-radius: 50%;\n",
              "      cursor: pointer;\n",
              "      display: none;\n",
              "      fill: #1967D2;\n",
              "      height: 32px;\n",
              "      padding: 0 0 0 0;\n",
              "      width: 32px;\n",
              "    }\n",
              "\n",
              "    .colab-df-convert:hover {\n",
              "      background-color: #E2EBFA;\n",
              "      box-shadow: 0px 1px 2px rgba(60, 64, 67, 0.3), 0px 1px 3px 1px rgba(60, 64, 67, 0.15);\n",
              "      fill: #174EA6;\n",
              "    }\n",
              "\n",
              "    .colab-df-buttons div {\n",
              "      margin-bottom: 4px;\n",
              "    }\n",
              "\n",
              "    [theme=dark] .colab-df-convert {\n",
              "      background-color: #3B4455;\n",
              "      fill: #D2E3FC;\n",
              "    }\n",
              "\n",
              "    [theme=dark] .colab-df-convert:hover {\n",
              "      background-color: #434B5C;\n",
              "      box-shadow: 0px 1px 3px 1px rgba(0, 0, 0, 0.15);\n",
              "      filter: drop-shadow(0px 1px 2px rgba(0, 0, 0, 0.3));\n",
              "      fill: #FFFFFF;\n",
              "    }\n",
              "  </style>\n",
              "\n",
              "    <script>\n",
              "      const buttonEl =\n",
              "        document.querySelector('#df-c8e4b895-3518-4de4-b675-fc4b7d57c93d button.colab-df-convert');\n",
              "      buttonEl.style.display =\n",
              "        google.colab.kernel.accessAllowed ? 'block' : 'none';\n",
              "\n",
              "      async function convertToInteractive(key) {\n",
              "        const element = document.querySelector('#df-c8e4b895-3518-4de4-b675-fc4b7d57c93d');\n",
              "        const dataTable =\n",
              "          await google.colab.kernel.invokeFunction('convertToInteractive',\n",
              "                                                    [key], {});\n",
              "        if (!dataTable) return;\n",
              "\n",
              "        const docLinkHtml = 'Like what you see? Visit the ' +\n",
              "          '<a target=\"_blank\" href=https://colab.research.google.com/notebooks/data_table.ipynb>data table notebook</a>'\n",
              "          + ' to learn more about interactive tables.';\n",
              "        element.innerHTML = '';\n",
              "        dataTable['output_type'] = 'display_data';\n",
              "        await google.colab.output.renderOutput(dataTable, element);\n",
              "        const docLink = document.createElement('div');\n",
              "        docLink.innerHTML = docLinkHtml;\n",
              "        element.appendChild(docLink);\n",
              "      }\n",
              "    </script>\n",
              "  </div>\n",
              "\n",
              "\n",
              "<div id=\"df-6ae371d0-b8ec-4927-bc1d-b34f5ef6ef97\">\n",
              "  <button class=\"colab-df-quickchart\" onclick=\"quickchart('df-6ae371d0-b8ec-4927-bc1d-b34f5ef6ef97')\"\n",
              "            title=\"Suggest charts\"\n",
              "            style=\"display:none;\">\n",
              "\n",
              "<svg xmlns=\"http://www.w3.org/2000/svg\" height=\"24px\"viewBox=\"0 0 24 24\"\n",
              "     width=\"24px\">\n",
              "    <g>\n",
              "        <path d=\"M19 3H5c-1.1 0-2 .9-2 2v14c0 1.1.9 2 2 2h14c1.1 0 2-.9 2-2V5c0-1.1-.9-2-2-2zM9 17H7v-7h2v7zm4 0h-2V7h2v10zm4 0h-2v-4h2v4z\"/>\n",
              "    </g>\n",
              "</svg>\n",
              "  </button>\n",
              "\n",
              "<style>\n",
              "  .colab-df-quickchart {\n",
              "      --bg-color: #E8F0FE;\n",
              "      --fill-color: #1967D2;\n",
              "      --hover-bg-color: #E2EBFA;\n",
              "      --hover-fill-color: #174EA6;\n",
              "      --disabled-fill-color: #AAA;\n",
              "      --disabled-bg-color: #DDD;\n",
              "  }\n",
              "\n",
              "  [theme=dark] .colab-df-quickchart {\n",
              "      --bg-color: #3B4455;\n",
              "      --fill-color: #D2E3FC;\n",
              "      --hover-bg-color: #434B5C;\n",
              "      --hover-fill-color: #FFFFFF;\n",
              "      --disabled-bg-color: #3B4455;\n",
              "      --disabled-fill-color: #666;\n",
              "  }\n",
              "\n",
              "  .colab-df-quickchart {\n",
              "    background-color: var(--bg-color);\n",
              "    border: none;\n",
              "    border-radius: 50%;\n",
              "    cursor: pointer;\n",
              "    display: none;\n",
              "    fill: var(--fill-color);\n",
              "    height: 32px;\n",
              "    padding: 0;\n",
              "    width: 32px;\n",
              "  }\n",
              "\n",
              "  .colab-df-quickchart:hover {\n",
              "    background-color: var(--hover-bg-color);\n",
              "    box-shadow: 0 1px 2px rgba(60, 64, 67, 0.3), 0 1px 3px 1px rgba(60, 64, 67, 0.15);\n",
              "    fill: var(--button-hover-fill-color);\n",
              "  }\n",
              "\n",
              "  .colab-df-quickchart-complete:disabled,\n",
              "  .colab-df-quickchart-complete:disabled:hover {\n",
              "    background-color: var(--disabled-bg-color);\n",
              "    fill: var(--disabled-fill-color);\n",
              "    box-shadow: none;\n",
              "  }\n",
              "\n",
              "  .colab-df-spinner {\n",
              "    border: 2px solid var(--fill-color);\n",
              "    border-color: transparent;\n",
              "    border-bottom-color: var(--fill-color);\n",
              "    animation:\n",
              "      spin 1s steps(1) infinite;\n",
              "  }\n",
              "\n",
              "  @keyframes spin {\n",
              "    0% {\n",
              "      border-color: transparent;\n",
              "      border-bottom-color: var(--fill-color);\n",
              "      border-left-color: var(--fill-color);\n",
              "    }\n",
              "    20% {\n",
              "      border-color: transparent;\n",
              "      border-left-color: var(--fill-color);\n",
              "      border-top-color: var(--fill-color);\n",
              "    }\n",
              "    30% {\n",
              "      border-color: transparent;\n",
              "      border-left-color: var(--fill-color);\n",
              "      border-top-color: var(--fill-color);\n",
              "      border-right-color: var(--fill-color);\n",
              "    }\n",
              "    40% {\n",
              "      border-color: transparent;\n",
              "      border-right-color: var(--fill-color);\n",
              "      border-top-color: var(--fill-color);\n",
              "    }\n",
              "    60% {\n",
              "      border-color: transparent;\n",
              "      border-right-color: var(--fill-color);\n",
              "    }\n",
              "    80% {\n",
              "      border-color: transparent;\n",
              "      border-right-color: var(--fill-color);\n",
              "      border-bottom-color: var(--fill-color);\n",
              "    }\n",
              "    90% {\n",
              "      border-color: transparent;\n",
              "      border-bottom-color: var(--fill-color);\n",
              "    }\n",
              "  }\n",
              "</style>\n",
              "\n",
              "  <script>\n",
              "    async function quickchart(key) {\n",
              "      const quickchartButtonEl =\n",
              "        document.querySelector('#' + key + ' button');\n",
              "      quickchartButtonEl.disabled = true;  // To prevent multiple clicks.\n",
              "      quickchartButtonEl.classList.add('colab-df-spinner');\n",
              "      try {\n",
              "        const charts = await google.colab.kernel.invokeFunction(\n",
              "            'suggestCharts', [key], {});\n",
              "      } catch (error) {\n",
              "        console.error('Error during call to suggestCharts:', error);\n",
              "      }\n",
              "      quickchartButtonEl.classList.remove('colab-df-spinner');\n",
              "      quickchartButtonEl.classList.add('colab-df-quickchart-complete');\n",
              "    }\n",
              "    (() => {\n",
              "      let quickchartButtonEl =\n",
              "        document.querySelector('#df-6ae371d0-b8ec-4927-bc1d-b34f5ef6ef97 button');\n",
              "      quickchartButtonEl.style.display =\n",
              "        google.colab.kernel.accessAllowed ? 'block' : 'none';\n",
              "    })();\n",
              "  </script>\n",
              "</div>\n",
              "\n",
              "    </div>\n",
              "  </div>\n"
            ],
            "application/vnd.google.colaboratory.intrinsic+json": {
              "type": "dataframe",
              "variable_name": "adani",
              "summary": "{\n  \"name\": \"adani\",\n  \"rows\": 5538,\n  \"fields\": [\n    {\n      \"column\": \"Date\",\n      \"properties\": {\n        \"dtype\": \"date\",\n        \"min\": \"2002-07-01 00:00:00\",\n        \"max\": \"2024-10-18 00:00:00\",\n        \"num_unique_values\": 5538,\n        \"samples\": [\n          \"2019-10-03 00:00:00\",\n          \"2007-05-09 00:00:00\",\n          \"2011-03-08 00:00:00\"\n        ],\n        \"semantic_type\": \"\",\n        \"description\": \"\"\n      }\n    },\n    {\n      \"column\": \"Open\",\n      \"properties\": {\n        \"dtype\": \"number\",\n        \"std\": 918.875907978026,\n        \"min\": 0.8583400249481201,\n        \"max\": 4175.0,\n        \"num_unique_values\": 4184,\n        \"samples\": [\n          100.3951644897461,\n          5.004429817199707,\n          43.31964874267578\n        ],\n        \"semantic_type\": \"\",\n        \"description\": \"\"\n      }\n    },\n    {\n      \"column\": \"High\",\n      \"properties\": {\n        \"dtype\": \"number\",\n        \"std\": 932.4790324274649,\n        \"min\": 0.928846001625061,\n        \"max\": 4190.0,\n        \"num_unique_values\": 4513,\n        \"samples\": [\n          1918.8499755859375,\n          5.196023941040039,\n          0.9656320214271545\n        ],\n        \"semantic_type\": \"\",\n        \"description\": \"\"\n      }\n    },\n    {\n      \"column\": \"Low\",\n      \"properties\": {\n        \"dtype\": \"number\",\n        \"std\": 902.1647014990014,\n        \"min\": 0.8583400249481201,\n        \"max\": 4066.39990234375,\n        \"num_unique_values\": 4461,\n        \"samples\": [\n          2.729062080383301,\n          64.9119873046875,\n          1733.699951171875\n        ],\n        \"semantic_type\": \"\",\n        \"description\": \"\"\n      }\n    },\n    {\n      \"column\": \"Close\",\n      \"properties\": {\n        \"dtype\": \"number\",\n        \"std\": 916.8702676154721,\n        \"min\": 0.9196500182151794,\n        \"max\": 4165.2998046875,\n        \"num_unique_values\": 4832,\n        \"samples\": [\n          9.859417915344238,\n          74.5836410522461,\n          2423.75\n        ],\n        \"semantic_type\": \"\",\n        \"description\": \"\"\n      }\n    },\n    {\n      \"column\": \"Volume\",\n      \"properties\": {\n        \"dtype\": \"number\",\n        \"std\": 10001725,\n        \"min\": 0,\n        \"max\": 177391228,\n        \"num_unique_values\": 5499,\n        \"samples\": [\n          2311858,\n          1570849,\n          6484593\n        ],\n        \"semantic_type\": \"\",\n        \"description\": \"\"\n      }\n    }\n  ]\n}"
            }
          },
          "metadata": {},
          "execution_count": 12
        }
      ]
    },
    {
      "cell_type": "code",
      "source": [
        "# Checking TCS dataframe\n",
        "# This block accesses and inspects the stock price data for the company 'TCS.NS' (Tata Consultancy Services).\n",
        "\n",
        "tcs = csp['TCS.NS']\n",
        "# Retrieves the stock price data for 'TCS.NS' (Tata Consultancy Services) from the 'csp' dictionary and stores it in the variable 'tcs'.\n",
        "\n",
        "print(tcs.shape)\n",
        "# Prints the shape of the 'tcs' DataFrame (number of rows and columns), giving an idea of the size of the dataset for this company.\n",
        "\n",
        "tcs.head()\n",
        "# Displays the first 5 rows of the 'tcs' DataFrame, providing a quick look at the stock price data for TCS.\n"
      ],
      "metadata": {
        "id": "iUEzoEJG37u8",
        "colab": {
          "base_uri": "https://localhost:8080/",
          "height": 255
        },
        "outputId": "d4df7f7c-5426-4860-b0ba-66d1991ca67e"
      },
      "execution_count": null,
      "outputs": [
        {
          "output_type": "stream",
          "name": "stdout",
          "text": [
            "(5507, 5)\n"
          ]
        },
        {
          "output_type": "execute_result",
          "data": {
            "text/plain": [
              "                 Open       High        Low      Close  Volume\n",
              "Date                                                          \n",
              "2002-08-12  38.724998  40.000000  38.724998  39.700001  212976\n",
              "2002-08-13  39.750000  40.387501  38.875000  39.162498  153576\n",
              "2002-08-14  39.250000  39.250000  35.724998  36.462502  822776\n",
              "2002-08-15  36.462502  36.462502  36.462502  36.462502       0\n",
              "2002-08-16  36.275002  38.000000  35.750000  36.375000  811856"
            ],
            "text/html": [
              "\n",
              "  <div id=\"df-631f0ff4-f5ea-4668-8b74-954a6cf3cb34\" class=\"colab-df-container\">\n",
              "    <div>\n",
              "<style scoped>\n",
              "    .dataframe tbody tr th:only-of-type {\n",
              "        vertical-align: middle;\n",
              "    }\n",
              "\n",
              "    .dataframe tbody tr th {\n",
              "        vertical-align: top;\n",
              "    }\n",
              "\n",
              "    .dataframe thead th {\n",
              "        text-align: right;\n",
              "    }\n",
              "</style>\n",
              "<table border=\"1\" class=\"dataframe\">\n",
              "  <thead>\n",
              "    <tr style=\"text-align: right;\">\n",
              "      <th></th>\n",
              "      <th>Open</th>\n",
              "      <th>High</th>\n",
              "      <th>Low</th>\n",
              "      <th>Close</th>\n",
              "      <th>Volume</th>\n",
              "    </tr>\n",
              "    <tr>\n",
              "      <th>Date</th>\n",
              "      <th></th>\n",
              "      <th></th>\n",
              "      <th></th>\n",
              "      <th></th>\n",
              "      <th></th>\n",
              "    </tr>\n",
              "  </thead>\n",
              "  <tbody>\n",
              "    <tr>\n",
              "      <th>2002-08-12</th>\n",
              "      <td>38.724998</td>\n",
              "      <td>40.000000</td>\n",
              "      <td>38.724998</td>\n",
              "      <td>39.700001</td>\n",
              "      <td>212976</td>\n",
              "    </tr>\n",
              "    <tr>\n",
              "      <th>2002-08-13</th>\n",
              "      <td>39.750000</td>\n",
              "      <td>40.387501</td>\n",
              "      <td>38.875000</td>\n",
              "      <td>39.162498</td>\n",
              "      <td>153576</td>\n",
              "    </tr>\n",
              "    <tr>\n",
              "      <th>2002-08-14</th>\n",
              "      <td>39.250000</td>\n",
              "      <td>39.250000</td>\n",
              "      <td>35.724998</td>\n",
              "      <td>36.462502</td>\n",
              "      <td>822776</td>\n",
              "    </tr>\n",
              "    <tr>\n",
              "      <th>2002-08-15</th>\n",
              "      <td>36.462502</td>\n",
              "      <td>36.462502</td>\n",
              "      <td>36.462502</td>\n",
              "      <td>36.462502</td>\n",
              "      <td>0</td>\n",
              "    </tr>\n",
              "    <tr>\n",
              "      <th>2002-08-16</th>\n",
              "      <td>36.275002</td>\n",
              "      <td>38.000000</td>\n",
              "      <td>35.750000</td>\n",
              "      <td>36.375000</td>\n",
              "      <td>811856</td>\n",
              "    </tr>\n",
              "  </tbody>\n",
              "</table>\n",
              "</div>\n",
              "    <div class=\"colab-df-buttons\">\n",
              "\n",
              "  <div class=\"colab-df-container\">\n",
              "    <button class=\"colab-df-convert\" onclick=\"convertToInteractive('df-631f0ff4-f5ea-4668-8b74-954a6cf3cb34')\"\n",
              "            title=\"Convert this dataframe to an interactive table.\"\n",
              "            style=\"display:none;\">\n",
              "\n",
              "  <svg xmlns=\"http://www.w3.org/2000/svg\" height=\"24px\" viewBox=\"0 -960 960 960\">\n",
              "    <path d=\"M120-120v-720h720v720H120Zm60-500h600v-160H180v160Zm220 220h160v-160H400v160Zm0 220h160v-160H400v160ZM180-400h160v-160H180v160Zm440 0h160v-160H620v160ZM180-180h160v-160H180v160Zm440 0h160v-160H620v160Z\"/>\n",
              "  </svg>\n",
              "    </button>\n",
              "\n",
              "  <style>\n",
              "    .colab-df-container {\n",
              "      display:flex;\n",
              "      gap: 12px;\n",
              "    }\n",
              "\n",
              "    .colab-df-convert {\n",
              "      background-color: #E8F0FE;\n",
              "      border: none;\n",
              "      border-radius: 50%;\n",
              "      cursor: pointer;\n",
              "      display: none;\n",
              "      fill: #1967D2;\n",
              "      height: 32px;\n",
              "      padding: 0 0 0 0;\n",
              "      width: 32px;\n",
              "    }\n",
              "\n",
              "    .colab-df-convert:hover {\n",
              "      background-color: #E2EBFA;\n",
              "      box-shadow: 0px 1px 2px rgba(60, 64, 67, 0.3), 0px 1px 3px 1px rgba(60, 64, 67, 0.15);\n",
              "      fill: #174EA6;\n",
              "    }\n",
              "\n",
              "    .colab-df-buttons div {\n",
              "      margin-bottom: 4px;\n",
              "    }\n",
              "\n",
              "    [theme=dark] .colab-df-convert {\n",
              "      background-color: #3B4455;\n",
              "      fill: #D2E3FC;\n",
              "    }\n",
              "\n",
              "    [theme=dark] .colab-df-convert:hover {\n",
              "      background-color: #434B5C;\n",
              "      box-shadow: 0px 1px 3px 1px rgba(0, 0, 0, 0.15);\n",
              "      filter: drop-shadow(0px 1px 2px rgba(0, 0, 0, 0.3));\n",
              "      fill: #FFFFFF;\n",
              "    }\n",
              "  </style>\n",
              "\n",
              "    <script>\n",
              "      const buttonEl =\n",
              "        document.querySelector('#df-631f0ff4-f5ea-4668-8b74-954a6cf3cb34 button.colab-df-convert');\n",
              "      buttonEl.style.display =\n",
              "        google.colab.kernel.accessAllowed ? 'block' : 'none';\n",
              "\n",
              "      async function convertToInteractive(key) {\n",
              "        const element = document.querySelector('#df-631f0ff4-f5ea-4668-8b74-954a6cf3cb34');\n",
              "        const dataTable =\n",
              "          await google.colab.kernel.invokeFunction('convertToInteractive',\n",
              "                                                    [key], {});\n",
              "        if (!dataTable) return;\n",
              "\n",
              "        const docLinkHtml = 'Like what you see? Visit the ' +\n",
              "          '<a target=\"_blank\" href=https://colab.research.google.com/notebooks/data_table.ipynb>data table notebook</a>'\n",
              "          + ' to learn more about interactive tables.';\n",
              "        element.innerHTML = '';\n",
              "        dataTable['output_type'] = 'display_data';\n",
              "        await google.colab.output.renderOutput(dataTable, element);\n",
              "        const docLink = document.createElement('div');\n",
              "        docLink.innerHTML = docLinkHtml;\n",
              "        element.appendChild(docLink);\n",
              "      }\n",
              "    </script>\n",
              "  </div>\n",
              "\n",
              "\n",
              "<div id=\"df-60ccba0c-5f4a-4d0f-8db6-8af93e746a73\">\n",
              "  <button class=\"colab-df-quickchart\" onclick=\"quickchart('df-60ccba0c-5f4a-4d0f-8db6-8af93e746a73')\"\n",
              "            title=\"Suggest charts\"\n",
              "            style=\"display:none;\">\n",
              "\n",
              "<svg xmlns=\"http://www.w3.org/2000/svg\" height=\"24px\"viewBox=\"0 0 24 24\"\n",
              "     width=\"24px\">\n",
              "    <g>\n",
              "        <path d=\"M19 3H5c-1.1 0-2 .9-2 2v14c0 1.1.9 2 2 2h14c1.1 0 2-.9 2-2V5c0-1.1-.9-2-2-2zM9 17H7v-7h2v7zm4 0h-2V7h2v10zm4 0h-2v-4h2v4z\"/>\n",
              "    </g>\n",
              "</svg>\n",
              "  </button>\n",
              "\n",
              "<style>\n",
              "  .colab-df-quickchart {\n",
              "      --bg-color: #E8F0FE;\n",
              "      --fill-color: #1967D2;\n",
              "      --hover-bg-color: #E2EBFA;\n",
              "      --hover-fill-color: #174EA6;\n",
              "      --disabled-fill-color: #AAA;\n",
              "      --disabled-bg-color: #DDD;\n",
              "  }\n",
              "\n",
              "  [theme=dark] .colab-df-quickchart {\n",
              "      --bg-color: #3B4455;\n",
              "      --fill-color: #D2E3FC;\n",
              "      --hover-bg-color: #434B5C;\n",
              "      --hover-fill-color: #FFFFFF;\n",
              "      --disabled-bg-color: #3B4455;\n",
              "      --disabled-fill-color: #666;\n",
              "  }\n",
              "\n",
              "  .colab-df-quickchart {\n",
              "    background-color: var(--bg-color);\n",
              "    border: none;\n",
              "    border-radius: 50%;\n",
              "    cursor: pointer;\n",
              "    display: none;\n",
              "    fill: var(--fill-color);\n",
              "    height: 32px;\n",
              "    padding: 0;\n",
              "    width: 32px;\n",
              "  }\n",
              "\n",
              "  .colab-df-quickchart:hover {\n",
              "    background-color: var(--hover-bg-color);\n",
              "    box-shadow: 0 1px 2px rgba(60, 64, 67, 0.3), 0 1px 3px 1px rgba(60, 64, 67, 0.15);\n",
              "    fill: var(--button-hover-fill-color);\n",
              "  }\n",
              "\n",
              "  .colab-df-quickchart-complete:disabled,\n",
              "  .colab-df-quickchart-complete:disabled:hover {\n",
              "    background-color: var(--disabled-bg-color);\n",
              "    fill: var(--disabled-fill-color);\n",
              "    box-shadow: none;\n",
              "  }\n",
              "\n",
              "  .colab-df-spinner {\n",
              "    border: 2px solid var(--fill-color);\n",
              "    border-color: transparent;\n",
              "    border-bottom-color: var(--fill-color);\n",
              "    animation:\n",
              "      spin 1s steps(1) infinite;\n",
              "  }\n",
              "\n",
              "  @keyframes spin {\n",
              "    0% {\n",
              "      border-color: transparent;\n",
              "      border-bottom-color: var(--fill-color);\n",
              "      border-left-color: var(--fill-color);\n",
              "    }\n",
              "    20% {\n",
              "      border-color: transparent;\n",
              "      border-left-color: var(--fill-color);\n",
              "      border-top-color: var(--fill-color);\n",
              "    }\n",
              "    30% {\n",
              "      border-color: transparent;\n",
              "      border-left-color: var(--fill-color);\n",
              "      border-top-color: var(--fill-color);\n",
              "      border-right-color: var(--fill-color);\n",
              "    }\n",
              "    40% {\n",
              "      border-color: transparent;\n",
              "      border-right-color: var(--fill-color);\n",
              "      border-top-color: var(--fill-color);\n",
              "    }\n",
              "    60% {\n",
              "      border-color: transparent;\n",
              "      border-right-color: var(--fill-color);\n",
              "    }\n",
              "    80% {\n",
              "      border-color: transparent;\n",
              "      border-right-color: var(--fill-color);\n",
              "      border-bottom-color: var(--fill-color);\n",
              "    }\n",
              "    90% {\n",
              "      border-color: transparent;\n",
              "      border-bottom-color: var(--fill-color);\n",
              "    }\n",
              "  }\n",
              "</style>\n",
              "\n",
              "  <script>\n",
              "    async function quickchart(key) {\n",
              "      const quickchartButtonEl =\n",
              "        document.querySelector('#' + key + ' button');\n",
              "      quickchartButtonEl.disabled = true;  // To prevent multiple clicks.\n",
              "      quickchartButtonEl.classList.add('colab-df-spinner');\n",
              "      try {\n",
              "        const charts = await google.colab.kernel.invokeFunction(\n",
              "            'suggestCharts', [key], {});\n",
              "      } catch (error) {\n",
              "        console.error('Error during call to suggestCharts:', error);\n",
              "      }\n",
              "      quickchartButtonEl.classList.remove('colab-df-spinner');\n",
              "      quickchartButtonEl.classList.add('colab-df-quickchart-complete');\n",
              "    }\n",
              "    (() => {\n",
              "      let quickchartButtonEl =\n",
              "        document.querySelector('#df-60ccba0c-5f4a-4d0f-8db6-8af93e746a73 button');\n",
              "      quickchartButtonEl.style.display =\n",
              "        google.colab.kernel.accessAllowed ? 'block' : 'none';\n",
              "    })();\n",
              "  </script>\n",
              "</div>\n",
              "\n",
              "    </div>\n",
              "  </div>\n"
            ],
            "application/vnd.google.colaboratory.intrinsic+json": {
              "type": "dataframe",
              "variable_name": "tcs",
              "summary": "{\n  \"name\": \"tcs\",\n  \"rows\": 5507,\n  \"fields\": [\n    {\n      \"column\": \"Date\",\n      \"properties\": {\n        \"dtype\": \"date\",\n        \"min\": \"2002-08-12 00:00:00\",\n        \"max\": \"2024-10-18 00:00:00\",\n        \"num_unique_values\": 5507,\n        \"samples\": [\n          \"2008-04-04 00:00:00\",\n          \"2007-05-03 00:00:00\",\n          \"2020-09-23 00:00:00\"\n        ],\n        \"semantic_type\": \"\",\n        \"description\": \"\"\n      }\n    },\n    {\n      \"column\": \"Open\",\n      \"properties\": {\n        \"dtype\": \"number\",\n        \"std\": 1215.5675222722275,\n        \"min\": 32.474998474121094,\n        \"max\": 4576.0,\n        \"num_unique_values\": 4027,\n        \"samples\": [\n          1239.1500244140625,\n          287.75,\n          1155.125\n        ],\n        \"semantic_type\": \"\",\n        \"description\": \"\"\n      }\n    },\n    {\n      \"column\": \"High\",\n      \"properties\": {\n        \"dtype\": \"number\",\n        \"std\": 1226.1487423531187,\n        \"min\": 36.45000076293945,\n        \"max\": 4592.25,\n        \"num_unique_values\": 4517,\n        \"samples\": [\n          545.75,\n          442.5,\n          3238.89990234375\n        ],\n        \"semantic_type\": \"\",\n        \"description\": \"\"\n      }\n    },\n    {\n      \"column\": \"Low\",\n      \"properties\": {\n        \"dtype\": \"number\",\n        \"std\": 1204.690036515911,\n        \"min\": 32.474998474121094,\n        \"max\": 4512.0,\n        \"num_unique_values\": 4620,\n        \"samples\": [\n          325.0,\n          540.0,\n          507.6499938964844\n        ],\n        \"semantic_type\": \"\",\n        \"description\": \"\"\n      }\n    },\n    {\n      \"column\": \"Close\",\n      \"properties\": {\n        \"dtype\": \"number\",\n        \"std\": 1215.2893863145514,\n        \"min\": 35.474998474121094,\n        \"max\": 4553.75,\n        \"num_unique_values\": 5023,\n        \"samples\": [\n          375.92498779296875,\n          214.3000030517578,\n          2082.39990234375\n        ],\n        \"semantic_type\": \"\",\n        \"description\": \"\"\n      }\n    },\n    {\n      \"column\": \"Volume\",\n      \"properties\": {\n        \"dtype\": \"number\",\n        \"std\": 3107105,\n        \"min\": 0,\n        \"max\": 88067154,\n        \"num_unique_values\": 5194,\n        \"samples\": [\n          2847532,\n          975768,\n          1429449\n        ],\n        \"semantic_type\": \"\",\n        \"description\": \"\"\n      }\n    }\n  ]\n}"
            }
          },
          "metadata": {},
          "execution_count": 13
        }
      ]
    },
    {
      "source": [
        "# Plot 'Close' column values\n",
        "# This block creates a line plot to visualize the 'Close' prices of TCS over time.\n",
        "\n",
        "tcs['Close'].plot(kind='line', figsize=(8, 4), title='Close')\n",
        "# Plots the 'Close' column from the 'tcs' DataFrame, which represents the stock's closing price over time.\n",
        "# 'kind='line'' specifies that this should be a line plot, and 'figsize=(8, 4)' sets the plot size.\n",
        "# 'title='Close'' adds a title to the plot.\n",
        "\n",
        "plt.gca().spines[['top', 'right']].set_visible(False)\n",
        "# This line hides the top and right spines (borders) of the plot, giving it a cleaner look.\n"
      ],
      "cell_type": "code",
      "execution_count": null,
      "outputs": [
        {
          "output_type": "display_data",
          "data": {
            "text/plain": [
              "<Figure size 800x400 with 1 Axes>"
            ],
            "image/png": "[encoded data removed]"
          },
          "metadata": {}
        }
      ],
      "metadata": {
        "id": "Woo8mf0KtRyp",
        "colab": {
          "base_uri": "https://localhost:8080/",
          "height": 390
        },
        "outputId": "4b0a5c76-c66d-48b6-f135-7a08779406cc"
      }
    },
    {
      "cell_type": "code",
      "source": [
        "# Checking Wipro dataframe\n",
        "# This block accesses and inspects the stock price data for the company 'WIPRO.NS' (Wipro Limited).\n",
        "\n",
        "wipro = csp['WIPRO.NS']\n",
        "# Retrieves the stock price data for 'WIPRO.NS' (Wipro Limited) from the 'csp' dictionary and stores it in the variable 'wipro'.\n",
        "\n",
        "print(wipro.shape)\n",
        "# Prints the shape of the 'wipro' DataFrame (number of rows and columns), giving an idea of the size of the dataset for this company.\n",
        "\n",
        "wipro.head()\n",
        "# Displays the first 5 rows of the 'wipro' DataFrame, providing a quick look at the stock price data for Wipro.\n"
      ],
      "metadata": {
        "id": "yCf6RVK877_o",
        "colab": {
          "base_uri": "https://localhost:8080/",
          "height": 255
        },
        "outputId": "7541d9a2-f912-4a65-9952-8a77cfd1bc94"
      },
      "execution_count": null,
      "outputs": [
        {
          "output_type": "stream",
          "name": "stdout",
          "text": [
            "(7234, 5)\n"
          ]
        },
        {
          "output_type": "execute_result",
          "data": {
            "text/plain": [
              "              Open    High     Low   Close  Volume\n",
              "Date                                              \n",
              "1996-01-01  1.1250  1.1250  1.1250  1.1250   19999\n",
              "1996-01-02  1.0375  1.0375  1.0375  1.0375   39999\n",
              "1996-01-03  1.0750  1.0750  1.0750  1.0750   19999\n",
              "1996-01-04  1.0750  1.0750  1.0750  1.0750  119999\n",
              "1996-01-05  1.0750  1.0750  1.0750  1.0750       0"
            ],
            "text/html": [
              "\n",
              "  <div id=\"df-475533fa-b107-4c38-9572-024d2e05ac5d\" class=\"colab-df-container\">\n",
              "    <div>\n",
              "<style scoped>\n",
              "    .dataframe tbody tr th:only-of-type {\n",
              "        vertical-align: middle;\n",
              "    }\n",
              "\n",
              "    .dataframe tbody tr th {\n",
              "        vertical-align: top;\n",
              "    }\n",
              "\n",
              "    .dataframe thead th {\n",
              "        text-align: right;\n",
              "    }\n",
              "</style>\n",
              "<table border=\"1\" class=\"dataframe\">\n",
              "  <thead>\n",
              "    <tr style=\"text-align: right;\">\n",
              "      <th></th>\n",
              "      <th>Open</th>\n",
              "      <th>High</th>\n",
              "      <th>Low</th>\n",
              "      <th>Close</th>\n",
              "      <th>Volume</th>\n",
              "    </tr>\n",
              "    <tr>\n",
              "      <th>Date</th>\n",
              "      <th></th>\n",
              "      <th></th>\n",
              "      <th></th>\n",
              "      <th></th>\n",
              "      <th></th>\n",
              "    </tr>\n",
              "  </thead>\n",
              "  <tbody>\n",
              "    <tr>\n",
              "      <th>1996-01-01</th>\n",
              "      <td>1.1250</td>\n",
              "      <td>1.1250</td>\n",
              "      <td>1.1250</td>\n",
              "      <td>1.1250</td>\n",
              "      <td>19999</td>\n",
              "    </tr>\n",
              "    <tr>\n",
              "      <th>1996-01-02</th>\n",
              "      <td>1.0375</td>\n",
              "      <td>1.0375</td>\n",
              "      <td>1.0375</td>\n",
              "      <td>1.0375</td>\n",
              "      <td>39999</td>\n",
              "    </tr>\n",
              "    <tr>\n",
              "      <th>1996-01-03</th>\n",
              "      <td>1.0750</td>\n",
              "      <td>1.0750</td>\n",
              "      <td>1.0750</td>\n",
              "      <td>1.0750</td>\n",
              "      <td>19999</td>\n",
              "    </tr>\n",
              "    <tr>\n",
              "      <th>1996-01-04</th>\n",
              "      <td>1.0750</td>\n",
              "      <td>1.0750</td>\n",
              "      <td>1.0750</td>\n",
              "      <td>1.0750</td>\n",
              "      <td>119999</td>\n",
              "    </tr>\n",
              "    <tr>\n",
              "      <th>1996-01-05</th>\n",
              "      <td>1.0750</td>\n",
              "      <td>1.0750</td>\n",
              "      <td>1.0750</td>\n",
              "      <td>1.0750</td>\n",
              "      <td>0</td>\n",
              "    </tr>\n",
              "  </tbody>\n",
              "</table>\n",
              "</div>\n",
              "    <div class=\"colab-df-buttons\">\n",
              "\n",
              "  <div class=\"colab-df-container\">\n",
              "    <button class=\"colab-df-convert\" onclick=\"convertToInteractive('df-475533fa-b107-4c38-9572-024d2e05ac5d')\"\n",
              "            title=\"Convert this dataframe to an interactive table.\"\n",
              "            style=\"display:none;\">\n",
              "\n",
              "  <svg xmlns=\"http://www.w3.org/2000/svg\" height=\"24px\" viewBox=\"0 -960 960 960\">\n",
              "    <path d=\"M120-120v-720h720v720H120Zm60-500h600v-160H180v160Zm220 220h160v-160H400v160Zm0 220h160v-160H400v160ZM180-400h160v-160H180v160Zm440 0h160v-160H620v160ZM180-180h160v-160H180v160Zm440 0h160v-160H620v160Z\"/>\n",
              "  </svg>\n",
              "    </button>\n",
              "\n",
              "  <style>\n",
              "    .colab-df-container {\n",
              "      display:flex;\n",
              "      gap: 12px;\n",
              "    }\n",
              "\n",
              "    .colab-df-convert {\n",
              "      background-color: #E8F0FE;\n",
              "      border: none;\n",
              "      border-radius: 50%;\n",
              "      cursor: pointer;\n",
              "      display: none;\n",
              "      fill: #1967D2;\n",
              "      height: 32px;\n",
              "      padding: 0 0 0 0;\n",
              "      width: 32px;\n",
              "    }\n",
              "\n",
              "    .colab-df-convert:hover {\n",
              "      background-color: #E2EBFA;\n",
              "      box-shadow: 0px 1px 2px rgba(60, 64, 67, 0.3), 0px 1px 3px 1px rgba(60, 64, 67, 0.15);\n",
              "      fill: #174EA6;\n",
              "    }\n",
              "\n",
              "    .colab-df-buttons div {\n",
              "      margin-bottom: 4px;\n",
              "    }\n",
              "\n",
              "    [theme=dark] .colab-df-convert {\n",
              "      background-color: #3B4455;\n",
              "      fill: #D2E3FC;\n",
              "    }\n",
              "\n",
              "    [theme=dark] .colab-df-convert:hover {\n",
              "      background-color: #434B5C;\n",
              "      box-shadow: 0px 1px 3px 1px rgba(0, 0, 0, 0.15);\n",
              "      filter: drop-shadow(0px 1px 2px rgba(0, 0, 0, 0.3));\n",
              "      fill: #FFFFFF;\n",
              "    }\n",
              "  </style>\n",
              "\n",
              "    <script>\n",
              "      const buttonEl =\n",
              "        document.querySelector('#df-475533fa-b107-4c38-9572-024d2e05ac5d button.colab-df-convert');\n",
              "      buttonEl.style.display =\n",
              "        google.colab.kernel.accessAllowed ? 'block' : 'none';\n",
              "\n",
              "      async function convertToInteractive(key) {\n",
              "        const element = document.querySelector('#df-475533fa-b107-4c38-9572-024d2e05ac5d');\n",
              "        const dataTable =\n",
              "          await google.colab.kernel.invokeFunction('convertToInteractive',\n",
              "                                                    [key], {});\n",
              "        if (!dataTable) return;\n",
              "\n",
              "        const docLinkHtml = 'Like what you see? Visit the ' +\n",
              "          '<a target=\"_blank\" href=https://colab.research.google.com/notebooks/data_table.ipynb>data table notebook</a>'\n",
              "          + ' to learn more about interactive tables.';\n",
              "        element.innerHTML = '';\n",
              "        dataTable['output_type'] = 'display_data';\n",
              "        await google.colab.output.renderOutput(dataTable, element);\n",
              "        const docLink = document.createElement('div');\n",
              "        docLink.innerHTML = docLinkHtml;\n",
              "        element.appendChild(docLink);\n",
              "      }\n",
              "    </script>\n",
              "  </div>\n",
              "\n",
              "\n",
              "<div id=\"df-62f39889-e5ca-4df1-94ad-ed84993d4094\">\n",
              "  <button class=\"colab-df-quickchart\" onclick=\"quickchart('df-62f39889-e5ca-4df1-94ad-ed84993d4094')\"\n",
              "            title=\"Suggest charts\"\n",
              "            style=\"display:none;\">\n",
              "\n",
              "<svg xmlns=\"http://www.w3.org/2000/svg\" height=\"24px\"viewBox=\"0 0 24 24\"\n",
              "     width=\"24px\">\n",
              "    <g>\n",
              "        <path d=\"M19 3H5c-1.1 0-2 .9-2 2v14c0 1.1.9 2 2 2h14c1.1 0 2-.9 2-2V5c0-1.1-.9-2-2-2zM9 17H7v-7h2v7zm4 0h-2V7h2v10zm4 0h-2v-4h2v4z\"/>\n",
              "    </g>\n",
              "</svg>\n",
              "  </button>\n",
              "\n",
              "<style>\n",
              "  .colab-df-quickchart {\n",
              "      --bg-color: #E8F0FE;\n",
              "      --fill-color: #1967D2;\n",
              "      --hover-bg-color: #E2EBFA;\n",
              "      --hover-fill-color: #174EA6;\n",
              "      --disabled-fill-color: #AAA;\n",
              "      --disabled-bg-color: #DDD;\n",
              "  }\n",
              "\n",
              "  [theme=dark] .colab-df-quickchart {\n",
              "      --bg-color: #3B4455;\n",
              "      --fill-color: #D2E3FC;\n",
              "      --hover-bg-color: #434B5C;\n",
              "      --hover-fill-color: #FFFFFF;\n",
              "      --disabled-bg-color: #3B4455;\n",
              "      --disabled-fill-color: #666;\n",
              "  }\n",
              "\n",
              "  .colab-df-quickchart {\n",
              "    background-color: var(--bg-color);\n",
              "    border: none;\n",
              "    border-radius: 50%;\n",
              "    cursor: pointer;\n",
              "    display: none;\n",
              "    fill: var(--fill-color);\n",
              "    height: 32px;\n",
              "    padding: 0;\n",
              "    width: 32px;\n",
              "  }\n",
              "\n",
              "  .colab-df-quickchart:hover {\n",
              "    background-color: var(--hover-bg-color);\n",
              "    box-shadow: 0 1px 2px rgba(60, 64, 67, 0.3), 0 1px 3px 1px rgba(60, 64, 67, 0.15);\n",
              "    fill: var(--button-hover-fill-color);\n",
              "  }\n",
              "\n",
              "  .colab-df-quickchart-complete:disabled,\n",
              "  .colab-df-quickchart-complete:disabled:hover {\n",
              "    background-color: var(--disabled-bg-color);\n",
              "    fill: var(--disabled-fill-color);\n",
              "    box-shadow: none;\n",
              "  }\n",
              "\n",
              "  .colab-df-spinner {\n",
              "    border: 2px solid var(--fill-color);\n",
              "    border-color: transparent;\n",
              "    border-bottom-color: var(--fill-color);\n",
              "    animation:\n",
              "      spin 1s steps(1) infinite;\n",
              "  }\n",
              "\n",
              "  @keyframes spin {\n",
              "    0% {\n",
              "      border-color: transparent;\n",
              "      border-bottom-color: var(--fill-color);\n",
              "      border-left-color: var(--fill-color);\n",
              "    }\n",
              "    20% {\n",
              "      border-color: transparent;\n",
              "      border-left-color: var(--fill-color);\n",
              "      border-top-color: var(--fill-color);\n",
              "    }\n",
              "    30% {\n",
              "      border-color: transparent;\n",
              "      border-left-color: var(--fill-color);\n",
              "      border-top-color: var(--fill-color);\n",
              "      border-right-color: var(--fill-color);\n",
              "    }\n",
              "    40% {\n",
              "      border-color: transparent;\n",
              "      border-right-color: var(--fill-color);\n",
              "      border-top-color: var(--fill-color);\n",
              "    }\n",
              "    60% {\n",
              "      border-color: transparent;\n",
              "      border-right-color: var(--fill-color);\n",
              "    }\n",
              "    80% {\n",
              "      border-color: transparent;\n",
              "      border-right-color: var(--fill-color);\n",
              "      border-bottom-color: var(--fill-color);\n",
              "    }\n",
              "    90% {\n",
              "      border-color: transparent;\n",
              "      border-bottom-color: var(--fill-color);\n",
              "    }\n",
              "  }\n",
              "</style>\n",
              "\n",
              "  <script>\n",
              "    async function quickchart(key) {\n",
              "      const quickchartButtonEl =\n",
              "        document.querySelector('#' + key + ' button');\n",
              "      quickchartButtonEl.disabled = true;  // To prevent multiple clicks.\n",
              "      quickchartButtonEl.classList.add('colab-df-spinner');\n",
              "      try {\n",
              "        const charts = await google.colab.kernel.invokeFunction(\n",
              "            'suggestCharts', [key], {});\n",
              "      } catch (error) {\n",
              "        console.error('Error during call to suggestCharts:', error);\n",
              "      }\n",
              "      quickchartButtonEl.classList.remove('colab-df-spinner');\n",
              "      quickchartButtonEl.classList.add('colab-df-quickchart-complete');\n",
              "    }\n",
              "    (() => {\n",
              "      let quickchartButtonEl =\n",
              "        document.querySelector('#df-62f39889-e5ca-4df1-94ad-ed84993d4094 button');\n",
              "      quickchartButtonEl.style.display =\n",
              "        google.colab.kernel.accessAllowed ? 'block' : 'none';\n",
              "    })();\n",
              "  </script>\n",
              "</div>\n",
              "\n",
              "    </div>\n",
              "  </div>\n"
            ],
            "application/vnd.google.colaboratory.intrinsic+json": {
              "type": "dataframe",
              "variable_name": "wipro",
              "summary": "{\n  \"name\": \"wipro\",\n  \"rows\": 7234,\n  \"fields\": [\n    {\n      \"column\": \"Date\",\n      \"properties\": {\n        \"dtype\": \"date\",\n        \"min\": \"1996-01-01 00:00:00\",\n        \"max\": \"2024-10-18 00:00:00\",\n        \"num_unique_values\": 7234,\n        \"samples\": [\n          \"2020-08-24 00:00:00\",\n          \"1998-11-05 00:00:00\",\n          \"2005-08-03 00:00:00\"\n        ],\n        \"semantic_type\": \"\",\n        \"description\": \"\"\n      }\n    },\n    {\n      \"column\": \"Open\",\n      \"properties\": {\n        \"dtype\": \"number\",\n        \"std\": 146.12665459671743,\n        \"min\": 0.7674999833106995,\n        \"max\": 722.75,\n        \"num_unique_values\": 4969,\n        \"samples\": [\n          114.11625671386719,\n          227.925048828125,\n          398.1000061035156\n        ],\n        \"semantic_type\": \"\",\n        \"description\": \"\"\n      }\n    },\n    {\n      \"column\": \"High\",\n      \"properties\": {\n        \"dtype\": \"number\",\n        \"std\": 147.4684686958511,\n        \"min\": 0.7674999833106995,\n        \"max\": 739.8499755859375,\n        \"num_unique_values\": 5488,\n        \"samples\": [\n          35.05687713623047,\n          1.3125,\n          1.0549999475479126\n        ],\n        \"semantic_type\": \"\",\n        \"description\": \"\"\n      }\n    },\n    {\n      \"column\": \"Low\",\n      \"properties\": {\n        \"dtype\": \"number\",\n        \"std\": 144.54370787439683,\n        \"min\": 0.737500011920929,\n        \"max\": 716.0,\n        \"num_unique_values\": 5688,\n        \"samples\": [\n          126.30003356933594,\n          200.4750518798828,\n          216.675048828125\n        ],\n        \"semantic_type\": \"\",\n        \"description\": \"\"\n      }\n    },\n    {\n      \"column\": \"Close\",\n      \"properties\": {\n        \"dtype\": \"number\",\n        \"std\": 145.91446980361485,\n        \"min\": 0.7674999833106995,\n        \"max\": 721.5,\n        \"num_unique_values\": 6199,\n        \"samples\": [\n          185.58753967285156,\n          130.33128356933594,\n          122.59125518798828\n        ],\n        \"semantic_type\": \"\",\n        \"description\": \"\"\n      }\n    },\n    {\n      \"column\": \"Volume\",\n      \"properties\": {\n        \"dtype\": \"number\",\n        \"std\": 8230898,\n        \"min\": 0,\n        \"max\": 130367588,\n        \"num_unique_values\": 6610,\n        \"samples\": [\n          3194260,\n          3261479,\n          2515334\n        ],\n        \"semantic_type\": \"\",\n        \"description\": \"\"\n      }\n    }\n  ]\n}"
            }
          },
          "metadata": {},
          "execution_count": 15
        }
      ]
    },
    {
      "cell_type": "markdown",
      "source": [
        "## **Combine Prices data**"
      ],
      "metadata": {
        "id": "gSHYLSb559bq"
      }
    },
    {
      "cell_type": "code",
      "source": [
        "# Combine 50 dataframes into one, Add a column 'Symbol' to distinguish that the row data is for that particular company\n",
        "# This block consolidates the individual stock price DataFrames for each company into a single combined DataFrame, and adds a 'Symbol' column to identify the company.\n",
        "\n",
        "comb_df = pd.DataFrame(columns=['Date', 'Open', 'High', 'Low', 'Close', 'Volume', 'Symbol'])\n",
        "# Creates an empty DataFrame 'comb_df' with predefined columns ('Date', 'Open', 'High', 'Low', 'Close', 'Volume', and 'Symbol').\n",
        "# The 'Symbol' column will later be used to store the company name.\n",
        "\n",
        "for key in csp.keys():\n",
        "    # Iterates over each company (key) in the 'csp' dictionary.\n",
        "\n",
        "    tmp_df = csp[key].copy()\n",
        "    # Creates a copy of the company's DataFrame to avoid modifying the original data.\n",
        "\n",
        "    tmp_df.reset_index(inplace=True)\n",
        "    # Resets the index of the DataFrame so that the date becomes a regular column (not an index).\n",
        "\n",
        "    tmp_df['Symbol'] = key.split('.')[0]\n",
        "    # Adds a 'Symbol' column to the DataFrame, where the symbol is derived from the company name (e.g., 'TCS' from 'TCS.NS').\n",
        "    # 'key.split('.')[0]' splits the company name on the '.' character and takes the first part (company ticker).\n",
        "\n",
        "    comb_df = pd.concat([comb_df, tmp_df], ignore_index=True)\n",
        "    # Concatenates the individual company's DataFrame 'tmp_df' into the 'comb_df' DataFrame.\n",
        "    # 'ignore_index=True' ensures that the indexes of the combined DataFrame are reset, creating a continuous index.\n",
        "\n"
      ],
      "metadata": {
        "id": "JdWoa0vG6yNE",
        "colab": {
          "base_uri": "https://localhost:8080/"
        },
        "outputId": "df87fedb-6f5c-4a4a-9f56-aa2bad85571b"
      },
      "execution_count": null,
      "outputs": [
        {
          "output_type": "stream",
          "name": "stderr",
          "text": [
            "<ipython-input-16-2276704db8d2>:9: FutureWarning: The behavior of DataFrame concatenation with empty or all-NA entries is deprecated. In a future version, this will no longer exclude empty or all-NA columns when determining the result dtypes. To retain the old behavior, exclude the relevant entries before the concat operation.\n",
            "  comb_df = pd.concat([comb_df, tmp_df], ignore_index=True)\n"
          ]
        }
      ]
    },
    {
      "cell_type": "code",
      "source": [
        "comb_df.head()"
      ],
      "metadata": {
        "id": "5AKdviolF1Vs",
        "colab": {
          "base_uri": "https://localhost:8080/",
          "height": 206
        },
        "outputId": "11ba51c3-63af-48d9-91e4-21d025c2f424"
      },
      "execution_count": null,
      "outputs": [
        {
          "output_type": "execute_result",
          "data": {
            "text/plain": [
              "        Date      Open      High       Low     Close   Volume    Symbol\n",
              "0 2002-07-01  1.364148  1.401700  1.334259  1.362615  1080397  ADANIENT\n",
              "1 2002-07-02  1.386372  1.390971  1.356484  1.373344  1016147  ADANIENT\n",
              "2 2002-07-03  1.371811  1.387139  1.364914  1.373344   980394  ADANIENT\n",
              "3 2002-07-04  1.379475  1.401700  1.379475  1.381008   972747  ADANIENT\n",
              "4 2002-07-05  1.388672  1.388672  1.372578  1.377942   974496  ADANIENT"
            ],
            "text/html": [
              "\n",
              "  <div id=\"df-c9bd9cf6-4b2a-4b0a-ad2a-2eff005a7c0e\" class=\"colab-df-container\">\n",
              "    <div>\n",
              "<style scoped>\n",
              "    .dataframe tbody tr th:only-of-type {\n",
              "        vertical-align: middle;\n",
              "    }\n",
              "\n",
              "    .dataframe tbody tr th {\n",
              "        vertical-align: top;\n",
              "    }\n",
              "\n",
              "    .dataframe thead th {\n",
              "        text-align: right;\n",
              "    }\n",
              "</style>\n",
              "<table border=\"1\" class=\"dataframe\">\n",
              "  <thead>\n",
              "    <tr style=\"text-align: right;\">\n",
              "      <th></th>\n",
              "      <th>Date</th>\n",
              "      <th>Open</th>\n",
              "      <th>High</th>\n",
              "      <th>Low</th>\n",
              "      <th>Close</th>\n",
              "      <th>Volume</th>\n",
              "      <th>Symbol</th>\n",
              "    </tr>\n",
              "  </thead>\n",
              "  <tbody>\n",
              "    <tr>\n",
              "      <th>0</th>\n",
              "      <td>2002-07-01</td>\n",
              "      <td>1.364148</td>\n",
              "      <td>1.401700</td>\n",
              "      <td>1.334259</td>\n",
              "      <td>1.362615</td>\n",
              "      <td>1080397</td>\n",
              "      <td>ADANIENT</td>\n",
              "    </tr>\n",
              "    <tr>\n",
              "      <th>1</th>\n",
              "      <td>2002-07-02</td>\n",
              "      <td>1.386372</td>\n",
              "      <td>1.390971</td>\n",
              "      <td>1.356484</td>\n",
              "      <td>1.373344</td>\n",
              "      <td>1016147</td>\n",
              "      <td>ADANIENT</td>\n",
              "    </tr>\n",
              "    <tr>\n",
              "      <th>2</th>\n",
              "      <td>2002-07-03</td>\n",
              "      <td>1.371811</td>\n",
              "      <td>1.387139</td>\n",
              "      <td>1.364914</td>\n",
              "      <td>1.373344</td>\n",
              "      <td>980394</td>\n",
              "      <td>ADANIENT</td>\n",
              "    </tr>\n",
              "    <tr>\n",
              "      <th>3</th>\n",
              "      <td>2002-07-04</td>\n",
              "      <td>1.379475</td>\n",
              "      <td>1.401700</td>\n",
              "      <td>1.379475</td>\n",
              "      <td>1.381008</td>\n",
              "      <td>972747</td>\n",
              "      <td>ADANIENT</td>\n",
              "    </tr>\n",
              "    <tr>\n",
              "      <th>4</th>\n",
              "      <td>2002-07-05</td>\n",
              "      <td>1.388672</td>\n",
              "      <td>1.388672</td>\n",
              "      <td>1.372578</td>\n",
              "      <td>1.377942</td>\n",
              "      <td>974496</td>\n",
              "      <td>ADANIENT</td>\n",
              "    </tr>\n",
              "  </tbody>\n",
              "</table>\n",
              "</div>\n",
              "    <div class=\"colab-df-buttons\">\n",
              "\n",
              "  <div class=\"colab-df-container\">\n",
              "    <button class=\"colab-df-convert\" onclick=\"convertToInteractive('df-c9bd9cf6-4b2a-4b0a-ad2a-2eff005a7c0e')\"\n",
              "            title=\"Convert this dataframe to an interactive table.\"\n",
              "            style=\"display:none;\">\n",
              "\n",
              "  <svg xmlns=\"http://www.w3.org/2000/svg\" height=\"24px\" viewBox=\"0 -960 960 960\">\n",
              "    <path d=\"M120-120v-720h720v720H120Zm60-500h600v-160H180v160Zm220 220h160v-160H400v160Zm0 220h160v-160H400v160ZM180-400h160v-160H180v160Zm440 0h160v-160H620v160ZM180-180h160v-160H180v160Zm440 0h160v-160H620v160Z\"/>\n",
              "  </svg>\n",
              "    </button>\n",
              "\n",
              "  <style>\n",
              "    .colab-df-container {\n",
              "      display:flex;\n",
              "      gap: 12px;\n",
              "    }\n",
              "\n",
              "    .colab-df-convert {\n",
              "      background-color: #E8F0FE;\n",
              "      border: none;\n",
              "      border-radius: 50%;\n",
              "      cursor: pointer;\n",
              "      display: none;\n",
              "      fill: #1967D2;\n",
              "      height: 32px;\n",
              "      padding: 0 0 0 0;\n",
              "      width: 32px;\n",
              "    }\n",
              "\n",
              "    .colab-df-convert:hover {\n",
              "      background-color: #E2EBFA;\n",
              "      box-shadow: 0px 1px 2px rgba(60, 64, 67, 0.3), 0px 1px 3px 1px rgba(60, 64, 67, 0.15);\n",
              "      fill: #174EA6;\n",
              "    }\n",
              "\n",
              "    .colab-df-buttons div {\n",
              "      margin-bottom: 4px;\n",
              "    }\n",
              "\n",
              "    [theme=dark] .colab-df-convert {\n",
              "      background-color: #3B4455;\n",
              "      fill: #D2E3FC;\n",
              "    }\n",
              "\n",
              "    [theme=dark] .colab-df-convert:hover {\n",
              "      background-color: #434B5C;\n",
              "      box-shadow: 0px 1px 3px 1px rgba(0, 0, 0, 0.15);\n",
              "      filter: drop-shadow(0px 1px 2px rgba(0, 0, 0, 0.3));\n",
              "      fill: #FFFFFF;\n",
              "    }\n",
              "  </style>\n",
              "\n",
              "    <script>\n",
              "      const buttonEl =\n",
              "        document.querySelector('#df-c9bd9cf6-4b2a-4b0a-ad2a-2eff005a7c0e button.colab-df-convert');\n",
              "      buttonEl.style.display =\n",
              "        google.colab.kernel.accessAllowed ? 'block' : 'none';\n",
              "\n",
              "      async function convertToInteractive(key) {\n",
              "        const element = document.querySelector('#df-c9bd9cf6-4b2a-4b0a-ad2a-2eff005a7c0e');\n",
              "        const dataTable =\n",
              "          await google.colab.kernel.invokeFunction('convertToInteractive',\n",
              "                                                    [key], {});\n",
              "        if (!dataTable) return;\n",
              "\n",
              "        const docLinkHtml = 'Like what you see? Visit the ' +\n",
              "          '<a target=\"_blank\" href=https://colab.research.google.com/notebooks/data_table.ipynb>data table notebook</a>'\n",
              "          + ' to learn more about interactive tables.';\n",
              "        element.innerHTML = '';\n",
              "        dataTable['output_type'] = 'display_data';\n",
              "        await google.colab.output.renderOutput(dataTable, element);\n",
              "        const docLink = document.createElement('div');\n",
              "        docLink.innerHTML = docLinkHtml;\n",
              "        element.appendChild(docLink);\n",
              "      }\n",
              "    </script>\n",
              "  </div>\n",
              "\n",
              "\n",
              "<div id=\"df-0dbe55af-4a6f-4867-ab51-07bd7eeef451\">\n",
              "  <button class=\"colab-df-quickchart\" onclick=\"quickchart('df-0dbe55af-4a6f-4867-ab51-07bd7eeef451')\"\n",
              "            title=\"Suggest charts\"\n",
              "            style=\"display:none;\">\n",
              "\n",
              "<svg xmlns=\"http://www.w3.org/2000/svg\" height=\"24px\"viewBox=\"0 0 24 24\"\n",
              "     width=\"24px\">\n",
              "    <g>\n",
              "        <path d=\"M19 3H5c-1.1 0-2 .9-2 2v14c0 1.1.9 2 2 2h14c1.1 0 2-.9 2-2V5c0-1.1-.9-2-2-2zM9 17H7v-7h2v7zm4 0h-2V7h2v10zm4 0h-2v-4h2v4z\"/>\n",
              "    </g>\n",
              "</svg>\n",
              "  </button>\n",
              "\n",
              "<style>\n",
              "  .colab-df-quickchart {\n",
              "      --bg-color: #E8F0FE;\n",
              "      --fill-color: #1967D2;\n",
              "      --hover-bg-color: #E2EBFA;\n",
              "      --hover-fill-color: #174EA6;\n",
              "      --disabled-fill-color: #AAA;\n",
              "      --disabled-bg-color: #DDD;\n",
              "  }\n",
              "\n",
              "  [theme=dark] .colab-df-quickchart {\n",
              "      --bg-color: #3B4455;\n",
              "      --fill-color: #D2E3FC;\n",
              "      --hover-bg-color: #434B5C;\n",
              "      --hover-fill-color: #FFFFFF;\n",
              "      --disabled-bg-color: #3B4455;\n",
              "      --disabled-fill-color: #666;\n",
              "  }\n",
              "\n",
              "  .colab-df-quickchart {\n",
              "    background-color: var(--bg-color);\n",
              "    border: none;\n",
              "    border-radius: 50%;\n",
              "    cursor: pointer;\n",
              "    display: none;\n",
              "    fill: var(--fill-color);\n",
              "    height: 32px;\n",
              "    padding: 0;\n",
              "    width: 32px;\n",
              "  }\n",
              "\n",
              "  .colab-df-quickchart:hover {\n",
              "    background-color: var(--hover-bg-color);\n",
              "    box-shadow: 0 1px 2px rgba(60, 64, 67, 0.3), 0 1px 3px 1px rgba(60, 64, 67, 0.15);\n",
              "    fill: var(--button-hover-fill-color);\n",
              "  }\n",
              "\n",
              "  .colab-df-quickchart-complete:disabled,\n",
              "  .colab-df-quickchart-complete:disabled:hover {\n",
              "    background-color: var(--disabled-bg-color);\n",
              "    fill: var(--disabled-fill-color);\n",
              "    box-shadow: none;\n",
              "  }\n",
              "\n",
              "  .colab-df-spinner {\n",
              "    border: 2px solid var(--fill-color);\n",
              "    border-color: transparent;\n",
              "    border-bottom-color: var(--fill-color);\n",
              "    animation:\n",
              "      spin 1s steps(1) infinite;\n",
              "  }\n",
              "\n",
              "  @keyframes spin {\n",
              "    0% {\n",
              "      border-color: transparent;\n",
              "      border-bottom-color: var(--fill-color);\n",
              "      border-left-color: var(--fill-color);\n",
              "    }\n",
              "    20% {\n",
              "      border-color: transparent;\n",
              "      border-left-color: var(--fill-color);\n",
              "      border-top-color: var(--fill-color);\n",
              "    }\n",
              "    30% {\n",
              "      border-color: transparent;\n",
              "      border-left-color: var(--fill-color);\n",
              "      border-top-color: var(--fill-color);\n",
              "      border-right-color: var(--fill-color);\n",
              "    }\n",
              "    40% {\n",
              "      border-color: transparent;\n",
              "      border-right-color: var(--fill-color);\n",
              "      border-top-color: var(--fill-color);\n",
              "    }\n",
              "    60% {\n",
              "      border-color: transparent;\n",
              "      border-right-color: var(--fill-color);\n",
              "    }\n",
              "    80% {\n",
              "      border-color: transparent;\n",
              "      border-right-color: var(--fill-color);\n",
              "      border-bottom-color: var(--fill-color);\n",
              "    }\n",
              "    90% {\n",
              "      border-color: transparent;\n",
              "      border-bottom-color: var(--fill-color);\n",
              "    }\n",
              "  }\n",
              "</style>\n",
              "\n",
              "  <script>\n",
              "    async function quickchart(key) {\n",
              "      const quickchartButtonEl =\n",
              "        document.querySelector('#' + key + ' button');\n",
              "      quickchartButtonEl.disabled = true;  // To prevent multiple clicks.\n",
              "      quickchartButtonEl.classList.add('colab-df-spinner');\n",
              "      try {\n",
              "        const charts = await google.colab.kernel.invokeFunction(\n",
              "            'suggestCharts', [key], {});\n",
              "      } catch (error) {\n",
              "        console.error('Error during call to suggestCharts:', error);\n",
              "      }\n",
              "      quickchartButtonEl.classList.remove('colab-df-spinner');\n",
              "      quickchartButtonEl.classList.add('colab-df-quickchart-complete');\n",
              "    }\n",
              "    (() => {\n",
              "      let quickchartButtonEl =\n",
              "        document.querySelector('#df-0dbe55af-4a6f-4867-ab51-07bd7eeef451 button');\n",
              "      quickchartButtonEl.style.display =\n",
              "        google.colab.kernel.accessAllowed ? 'block' : 'none';\n",
              "    })();\n",
              "  </script>\n",
              "</div>\n",
              "\n",
              "    </div>\n",
              "  </div>\n"
            ],
            "application/vnd.google.colaboratory.intrinsic+json": {
              "type": "dataframe",
              "variable_name": "comb_df"
            }
          },
          "metadata": {},
          "execution_count": 17
        }
      ]
    },
    {
      "cell_type": "code",
      "source": [
        "comb_df.head()\n",
        "# Displays the first 5 rows of the combined DataFrame 'comb_df', which now contains stock data from all Nifty 50 companies with an additional 'Symbol' column to identify each company.\n"
      ],
      "metadata": {
        "id": "A5v24Y4lGGzO",
        "colab": {
          "base_uri": "https://localhost:8080/"
        },
        "outputId": "984863da-a6c8-4aa3-9300-5f498f51a85b"
      },
      "execution_count": null,
      "outputs": [
        {
          "output_type": "execute_result",
          "data": {
            "text/plain": [
              "(298509, 7)"
            ]
          },
          "metadata": {},
          "execution_count": 18
        }
      ]
    },
    {
      "cell_type": "code",
      "source": [
        "# Cross-check no. of total rows\n",
        "sum(rows)\n",
        "# Calculates and returns the total number of rows (data points) across all company DataFrames.\n",
        "# 'rows' is the list containing the number of rows for each company's DataFrame, and 'sum(rows)' gives the total data points.\n"
      ],
      "metadata": {
        "id": "ClvJHVYKGKvu",
        "colab": {
          "base_uri": "https://localhost:8080/"
        },
        "outputId": "bc5dbfb6-bc18-4d55-a06a-03e6df19c7c4"
      },
      "execution_count": null,
      "outputs": [
        {
          "output_type": "execute_result",
          "data": {
            "text/plain": [
              "298509"
            ]
          },
          "metadata": {},
          "execution_count": 19
        }
      ]
    },
    {
      "cell_type": "code",
      "source": [
        "comb_df.tail()\n",
        "# Displays the last 5 rows of the combined DataFrame 'comb_df', providing a quick look at the most recent data points in the dataset.\n"
      ],
      "metadata": {
        "id": "NDdLf1T1GQag",
        "colab": {
          "base_uri": "https://localhost:8080/",
          "height": 206
        },
        "outputId": "d3f5e668-f284-4cfc-c6d6-e1f5fbcbfb72"
      },
      "execution_count": null,
      "outputs": [
        {
          "output_type": "execute_result",
          "data": {
            "text/plain": [
              "             Date        Open        High         Low       Close    Volume  \\\n",
              "298504 2024-10-11  520.349976  534.400024  520.349976  528.299988   4218491   \n",
              "298505 2024-10-14  538.700012  551.849976  536.299988  549.549988  16568133   \n",
              "298506 2024-10-15  552.849976  552.849976  530.849976  532.950012  10800626   \n",
              "298507 2024-10-16  533.000000  538.799988  529.000000  532.150024   6276811   \n",
              "298508 2024-10-18  532.000000  558.400024  524.799988  550.849976  20158218   \n",
              "\n",
              "       Symbol  \n",
              "298504  WIPRO  \n",
              "298505  WIPRO  \n",
              "298506  WIPRO  \n",
              "298507  WIPRO  \n",
              "298508  WIPRO  "
            ],
            "text/html": [
              "\n",
              "  <div id=\"df-00a09567-d4fa-4126-ac13-61663b336952\" class=\"colab-df-container\">\n",
              "    <div>\n",
              "<style scoped>\n",
              "    .dataframe tbody tr th:only-of-type {\n",
              "        vertical-align: middle;\n",
              "    }\n",
              "\n",
              "    .dataframe tbody tr th {\n",
              "        vertical-align: top;\n",
              "    }\n",
              "\n",
              "    .dataframe thead th {\n",
              "        text-align: right;\n",
              "    }\n",
              "</style>\n",
              "<table border=\"1\" class=\"dataframe\">\n",
              "  <thead>\n",
              "    <tr style=\"text-align: right;\">\n",
              "      <th></th>\n",
              "      <th>Date</th>\n",
              "      <th>Open</th>\n",
              "      <th>High</th>\n",
              "      <th>Low</th>\n",
              "      <th>Close</th>\n",
              "      <th>Volume</th>\n",
              "      <th>Symbol</th>\n",
              "    </tr>\n",
              "  </thead>\n",
              "  <tbody>\n",
              "    <tr>\n",
              "      <th>298504</th>\n",
              "      <td>2024-10-11</td>\n",
              "      <td>520.349976</td>\n",
              "      <td>534.400024</td>\n",
              "      <td>520.349976</td>\n",
              "      <td>528.299988</td>\n",
              "      <td>4218491</td>\n",
              "      <td>WIPRO</td>\n",
              "    </tr>\n",
              "    <tr>\n",
              "      <th>298505</th>\n",
              "      <td>2024-10-14</td>\n",
              "      <td>538.700012</td>\n",
              "      <td>551.849976</td>\n",
              "      <td>536.299988</td>\n",
              "      <td>549.549988</td>\n",
              "      <td>16568133</td>\n",
              "      <td>WIPRO</td>\n",
              "    </tr>\n",
              "    <tr>\n",
              "      <th>298506</th>\n",
              "      <td>2024-10-15</td>\n",
              "      <td>552.849976</td>\n",
              "      <td>552.849976</td>\n",
              "      <td>530.849976</td>\n",
              "      <td>532.950012</td>\n",
              "      <td>10800626</td>\n",
              "      <td>WIPRO</td>\n",
              "    </tr>\n",
              "    <tr>\n",
              "      <th>298507</th>\n",
              "      <td>2024-10-16</td>\n",
              "      <td>533.000000</td>\n",
              "      <td>538.799988</td>\n",
              "      <td>529.000000</td>\n",
              "      <td>532.150024</td>\n",
              "      <td>6276811</td>\n",
              "      <td>WIPRO</td>\n",
              "    </tr>\n",
              "    <tr>\n",
              "      <th>298508</th>\n",
              "      <td>2024-10-18</td>\n",
              "      <td>532.000000</td>\n",
              "      <td>558.400024</td>\n",
              "      <td>524.799988</td>\n",
              "      <td>550.849976</td>\n",
              "      <td>20158218</td>\n",
              "      <td>WIPRO</td>\n",
              "    </tr>\n",
              "  </tbody>\n",
              "</table>\n",
              "</div>\n",
              "    <div class=\"colab-df-buttons\">\n",
              "\n",
              "  <div class=\"colab-df-container\">\n",
              "    <button class=\"colab-df-convert\" onclick=\"convertToInteractive('df-00a09567-d4fa-4126-ac13-61663b336952')\"\n",
              "            title=\"Convert this dataframe to an interactive table.\"\n",
              "            style=\"display:none;\">\n",
              "\n",
              "  <svg xmlns=\"http://www.w3.org/2000/svg\" height=\"24px\" viewBox=\"0 -960 960 960\">\n",
              "    <path d=\"M120-120v-720h720v720H120Zm60-500h600v-160H180v160Zm220 220h160v-160H400v160Zm0 220h160v-160H400v160ZM180-400h160v-160H180v160Zm440 0h160v-160H620v160ZM180-180h160v-160H180v160Zm440 0h160v-160H620v160Z\"/>\n",
              "  </svg>\n",
              "    </button>\n",
              "\n",
              "  <style>\n",
              "    .colab-df-container {\n",
              "      display:flex;\n",
              "      gap: 12px;\n",
              "    }\n",
              "\n",
              "    .colab-df-convert {\n",
              "      background-color: #E8F0FE;\n",
              "      border: none;\n",
              "      border-radius: 50%;\n",
              "      cursor: pointer;\n",
              "      display: none;\n",
              "      fill: #1967D2;\n",
              "      height: 32px;\n",
              "      padding: 0 0 0 0;\n",
              "      width: 32px;\n",
              "    }\n",
              "\n",
              "    .colab-df-convert:hover {\n",
              "      background-color: #E2EBFA;\n",
              "      box-shadow: 0px 1px 2px rgba(60, 64, 67, 0.3), 0px 1px 3px 1px rgba(60, 64, 67, 0.15);\n",
              "      fill: #174EA6;\n",
              "    }\n",
              "\n",
              "    .colab-df-buttons div {\n",
              "      margin-bottom: 4px;\n",
              "    }\n",
              "\n",
              "    [theme=dark] .colab-df-convert {\n",
              "      background-color: #3B4455;\n",
              "      fill: #D2E3FC;\n",
              "    }\n",
              "\n",
              "    [theme=dark] .colab-df-convert:hover {\n",
              "      background-color: #434B5C;\n",
              "      box-shadow: 0px 1px 3px 1px rgba(0, 0, 0, 0.15);\n",
              "      filter: drop-shadow(0px 1px 2px rgba(0, 0, 0, 0.3));\n",
              "      fill: #FFFFFF;\n",
              "    }\n",
              "  </style>\n",
              "\n",
              "    <script>\n",
              "      const buttonEl =\n",
              "        document.querySelector('#df-00a09567-d4fa-4126-ac13-61663b336952 button.colab-df-convert');\n",
              "      buttonEl.style.display =\n",
              "        google.colab.kernel.accessAllowed ? 'block' : 'none';\n",
              "\n",
              "      async function convertToInteractive(key) {\n",
              "        const element = document.querySelector('#df-00a09567-d4fa-4126-ac13-61663b336952');\n",
              "        const dataTable =\n",
              "          await google.colab.kernel.invokeFunction('convertToInteractive',\n",
              "                                                    [key], {});\n",
              "        if (!dataTable) return;\n",
              "\n",
              "        const docLinkHtml = 'Like what you see? Visit the ' +\n",
              "          '<a target=\"_blank\" href=https://colab.research.google.com/notebooks/data_table.ipynb>data table notebook</a>'\n",
              "          + ' to learn more about interactive tables.';\n",
              "        element.innerHTML = '';\n",
              "        dataTable['output_type'] = 'display_data';\n",
              "        await google.colab.output.renderOutput(dataTable, element);\n",
              "        const docLink = document.createElement('div');\n",
              "        docLink.innerHTML = docLinkHtml;\n",
              "        element.appendChild(docLink);\n",
              "      }\n",
              "    </script>\n",
              "  </div>\n",
              "\n",
              "\n",
              "<div id=\"df-ae046be3-f37e-416a-8070-2359148f5f57\">\n",
              "  <button class=\"colab-df-quickchart\" onclick=\"quickchart('df-ae046be3-f37e-416a-8070-2359148f5f57')\"\n",
              "            title=\"Suggest charts\"\n",
              "            style=\"display:none;\">\n",
              "\n",
              "<svg xmlns=\"http://www.w3.org/2000/svg\" height=\"24px\"viewBox=\"0 0 24 24\"\n",
              "     width=\"24px\">\n",
              "    <g>\n",
              "        <path d=\"M19 3H5c-1.1 0-2 .9-2 2v14c0 1.1.9 2 2 2h14c1.1 0 2-.9 2-2V5c0-1.1-.9-2-2-2zM9 17H7v-7h2v7zm4 0h-2V7h2v10zm4 0h-2v-4h2v4z\"/>\n",
              "    </g>\n",
              "</svg>\n",
              "  </button>\n",
              "\n",
              "<style>\n",
              "  .colab-df-quickchart {\n",
              "      --bg-color: #E8F0FE;\n",
              "      --fill-color: #1967D2;\n",
              "      --hover-bg-color: #E2EBFA;\n",
              "      --hover-fill-color: #174EA6;\n",
              "      --disabled-fill-color: #AAA;\n",
              "      --disabled-bg-color: #DDD;\n",
              "  }\n",
              "\n",
              "  [theme=dark] .colab-df-quickchart {\n",
              "      --bg-color: #3B4455;\n",
              "      --fill-color: #D2E3FC;\n",
              "      --hover-bg-color: #434B5C;\n",
              "      --hover-fill-color: #FFFFFF;\n",
              "      --disabled-bg-color: #3B4455;\n",
              "      --disabled-fill-color: #666;\n",
              "  }\n",
              "\n",
              "  .colab-df-quickchart {\n",
              "    background-color: var(--bg-color);\n",
              "    border: none;\n",
              "    border-radius: 50%;\n",
              "    cursor: pointer;\n",
              "    display: none;\n",
              "    fill: var(--fill-color);\n",
              "    height: 32px;\n",
              "    padding: 0;\n",
              "    width: 32px;\n",
              "  }\n",
              "\n",
              "  .colab-df-quickchart:hover {\n",
              "    background-color: var(--hover-bg-color);\n",
              "    box-shadow: 0 1px 2px rgba(60, 64, 67, 0.3), 0 1px 3px 1px rgba(60, 64, 67, 0.15);\n",
              "    fill: var(--button-hover-fill-color);\n",
              "  }\n",
              "\n",
              "  .colab-df-quickchart-complete:disabled,\n",
              "  .colab-df-quickchart-complete:disabled:hover {\n",
              "    background-color: var(--disabled-bg-color);\n",
              "    fill: var(--disabled-fill-color);\n",
              "    box-shadow: none;\n",
              "  }\n",
              "\n",
              "  .colab-df-spinner {\n",
              "    border: 2px solid var(--fill-color);\n",
              "    border-color: transparent;\n",
              "    border-bottom-color: var(--fill-color);\n",
              "    animation:\n",
              "      spin 1s steps(1) infinite;\n",
              "  }\n",
              "\n",
              "  @keyframes spin {\n",
              "    0% {\n",
              "      border-color: transparent;\n",
              "      border-bottom-color: var(--fill-color);\n",
              "      border-left-color: var(--fill-color);\n",
              "    }\n",
              "    20% {\n",
              "      border-color: transparent;\n",
              "      border-left-color: var(--fill-color);\n",
              "      border-top-color: var(--fill-color);\n",
              "    }\n",
              "    30% {\n",
              "      border-color: transparent;\n",
              "      border-left-color: var(--fill-color);\n",
              "      border-top-color: var(--fill-color);\n",
              "      border-right-color: var(--fill-color);\n",
              "    }\n",
              "    40% {\n",
              "      border-color: transparent;\n",
              "      border-right-color: var(--fill-color);\n",
              "      border-top-color: var(--fill-color);\n",
              "    }\n",
              "    60% {\n",
              "      border-color: transparent;\n",
              "      border-right-color: var(--fill-color);\n",
              "    }\n",
              "    80% {\n",
              "      border-color: transparent;\n",
              "      border-right-color: var(--fill-color);\n",
              "      border-bottom-color: var(--fill-color);\n",
              "    }\n",
              "    90% {\n",
              "      border-color: transparent;\n",
              "      border-bottom-color: var(--fill-color);\n",
              "    }\n",
              "  }\n",
              "</style>\n",
              "\n",
              "  <script>\n",
              "    async function quickchart(key) {\n",
              "      const quickchartButtonEl =\n",
              "        document.querySelector('#' + key + ' button');\n",
              "      quickchartButtonEl.disabled = true;  // To prevent multiple clicks.\n",
              "      quickchartButtonEl.classList.add('colab-df-spinner');\n",
              "      try {\n",
              "        const charts = await google.colab.kernel.invokeFunction(\n",
              "            'suggestCharts', [key], {});\n",
              "      } catch (error) {\n",
              "        console.error('Error during call to suggestCharts:', error);\n",
              "      }\n",
              "      quickchartButtonEl.classList.remove('colab-df-spinner');\n",
              "      quickchartButtonEl.classList.add('colab-df-quickchart-complete');\n",
              "    }\n",
              "    (() => {\n",
              "      let quickchartButtonEl =\n",
              "        document.querySelector('#df-ae046be3-f37e-416a-8070-2359148f5f57 button');\n",
              "      quickchartButtonEl.style.display =\n",
              "        google.colab.kernel.accessAllowed ? 'block' : 'none';\n",
              "    })();\n",
              "  </script>\n",
              "</div>\n",
              "\n",
              "    </div>\n",
              "  </div>\n"
            ],
            "application/vnd.google.colaboratory.intrinsic+json": {
              "type": "dataframe",
              "repr_error": "0"
            }
          },
          "metadata": {},
          "execution_count": 20
        }
      ]
    },
    {
      "cell_type": "code",
      "source": [
        "# Save the combined dataframe as csv file\n",
        "comb_df.to_csv('all_stock_prices.csv', index=False)\n",
        "# Saves the combined DataFrame 'comb_df' to a CSV file named 'all_stock_prices.csv'.\n",
        "# 'index=False' ensures that the DataFrame's index is not written to the CSV file, keeping only the actual data columns.\n"
      ],
      "metadata": {
        "id": "fqahP6UeGXoq"
      },
      "execution_count": null,
      "outputs": []
    },
    {
      "cell_type": "markdown",
      "source": [
        "# 3: Create a SQLite Database (in-memory)"
      ],
      "metadata": {
        "id": "70N-dYZZ57Tr"
      }
    },
    {
      "cell_type": "code",
      "source": [
        "import sqlite3\n",
        "# Imports the 'sqlite3' library, which provides an interface for interacting with SQLite databases in Python.\n",
        "\n",
        "print(sqlite3.sqlite_version)\n",
        "# Prints the version of SQLite being used, which helps verify that SQLite is available and ready to use.\n"
      ],
      "metadata": {
        "id": "-ldrKRTfhYHJ",
        "colab": {
          "base_uri": "https://localhost:8080/"
        },
        "outputId": "0e822601-20ad-4016-adb2-731ed2347b96"
      },
      "execution_count": null,
      "outputs": [
        {
          "output_type": "stream",
          "name": "stdout",
          "text": [
            "3.37.2\n"
          ]
        }
      ]
    },
    {
      "cell_type": "code",
      "source": [
        "# Connect to a sqlite DB (It will create it if it doesn't exist)\n",
        "# This block establishes a connection to an SQLite database file. If the file does not already exist, it will be created.\n",
        "\n",
        "conn = sqlite3.connect('stock_db.sqlite')\n",
        "# Creates a connection to the SQLite database file 'stock_db.sqlite'.\n",
        "# If the file doesn't exist, SQLite will create it in the current working directory.\n",
        "# The 'conn' object will be used to interact with the database (run queries, insert data, etc.).\n",
        "\n",
        "print(\"Opened database successfully\")\n",
        "# Prints a confirmation message to indicate that the connection to the database was successful.\n"
      ],
      "metadata": {
        "id": "mtwgYLWOyjRz",
        "colab": {
          "base_uri": "https://localhost:8080/"
        },
        "outputId": "aa29966d-9472-4534-ea35-0562e5529661"
      },
      "execution_count": null,
      "outputs": [
        {
          "output_type": "stream",
          "name": "stdout",
          "text": [
            "Opened database successfully\n"
          ]
        }
      ]
    },
    {
      "cell_type": "markdown",
      "source": [
        "### Create table **`stock_prices`**"
      ],
      "metadata": {
        "id": "qtVpskAki0b5"
      }
    },
    {
      "cell_type": "code",
      "source": [
        "comb_df.columns\n",
        "# Displays the column names of the combined DataFrame 'comb_df'.\n",
        "# This helps in confirming the structure of the DataFrame and ensures all necessary columns are present (e.g., 'Date', 'Open', 'Close', 'Symbol', etc.).\n"
      ],
      "metadata": {
        "id": "4qre0_B2y6rl",
        "colab": {
          "base_uri": "https://localhost:8080/"
        },
        "outputId": "4d593cd3-347c-4d4b-c484-518b689f1654"
      },
      "execution_count": null,
      "outputs": [
        {
          "output_type": "execute_result",
          "data": {
            "text/plain": [
              "Index(['Date', 'Open', 'High', 'Low', 'Close', 'Volume', 'Symbol'], dtype='object')"
            ]
          },
          "metadata": {},
          "execution_count": 24
        }
      ]
    },
    {
      "cell_type": "code",
      "source": [
        "# Create a table 'stock_prices' in DB\n",
        "# This block creates a new table in the SQLite database to store the stock prices.\n",
        "\n",
        "conn.execute('''\n",
        "CREATE TABLE IF NOT EXISTS stock_prices(\n",
        "                      date DATE,\n",
        "                      open DOUBLE,\n",
        "                      high DOUBLE,\n",
        "                      low DOUBLE,\n",
        "                      close DOUBLE,\n",
        "                      volume INT,\n",
        "                      symbol VARCHAR(20));''')\n",
        "# Executes an SQL statement to create a table named 'stock_prices' in the SQLite database if it doesn't already exist.\n",
        "# The table has the following columns:\n",
        "# 'date': the date of the stock prices (type: DATE),\n",
        "# 'open', 'high', 'low', 'close': stock price values (type: DOUBLE),\n",
        "# 'volume': the volume of stocks traded (type: INT),\n",
        "# 'symbol': the company symbol (type: VARCHAR(20)) to identify which company's data is being stored.\n",
        "\n",
        "conn.commit()\n",
        "# Commits the changes to the database, ensuring that the table creation is saved.\n",
        "\n",
        "print(\"Table created successfully\")\n",
        "# Prints a confirmation message indicating that the 'stock_prices' table was successfully created in the database.\n"
      ],
      "metadata": {
        "id": "IUJQuoLdyujr",
        "colab": {
          "base_uri": "https://localhost:8080/"
        },
        "outputId": "a7448d7c-065d-40d7-ef2c-71d567c8595e"
      },
      "execution_count": null,
      "outputs": [
        {
          "output_type": "stream",
          "name": "stdout",
          "text": [
            "Table created successfully\n"
          ]
        }
      ]
    },
    {
      "cell_type": "code",
      "source": [
        "# Show tables\n",
        "# This block retrieves and displays all the tables present in the SQLite database.\n",
        "\n",
        "cursor = conn.execute('''\n",
        "SELECT name FROM sqlite_master WHERE type='table';\n",
        "''')\n",
        "# Executes an SQL query that selects the names of all tables in the SQLite database.\n",
        "# The 'sqlite_master' table holds metadata about all database objects, and 'WHERE type='table'' ensures that only table names are returned.\n",
        "\n",
        "for row in cursor:\n",
        "    print(row)\n",
        "# Iterates over the results (the names of the tables) and prints each table name to the console.\n"
      ],
      "metadata": {
        "id": "I19wWLBtJrWv",
        "colab": {
          "base_uri": "https://localhost:8080/"
        },
        "outputId": "3e05b66a-d32c-49df-bc48-086d3cc343e3"
      },
      "execution_count": null,
      "outputs": [
        {
          "output_type": "stream",
          "name": "stdout",
          "text": [
            "('stock_prices',)\n"
          ]
        }
      ]
    },
    {
      "cell_type": "markdown",
      "source": [
        "### Insert data into **`stock_prices`** table"
      ],
      "metadata": {
        "id": "XykKFYWYi_ca"
      }
    },
    {
      "cell_type": "code",
      "source": [
        "# Function to convert the 'date' from Timestamp to String yyyy-mm-dd\n",
        "# This function takes a date object (or timestamp) and converts it into a string format 'yyyy-mm-dd'.\n",
        "\n",
        "def convert_date(date):\n",
        "    # Defines the function 'convert_date' that accepts a date object as its input.\n",
        "\n",
        "    yyyy = date.year\n",
        "    # Extracts the year from the date object.\n",
        "\n",
        "    mm = date.month\n",
        "    # Extracts the month from the date object.\n",
        "\n",
        "    dd = date.day\n",
        "    # Extracts the day from the date object.\n",
        "\n",
        "    if mm < 10:\n",
        "        mm = '0' + str(mm)\n",
        "    # If the month is a single digit (e.g., 3 for March), this adds a leading zero (e.g., '03').\n",
        "\n",
        "    if dd < 10:\n",
        "        dd = '0' + str(dd)\n",
        "    # If the day is a single digit (e.g., 7), this adds a leading zero (e.g., '07').\n",
        "\n",
        "    return f\"{yyyy}-{mm}-{dd}\"\n",
        "    # Returns the formatted date as a string in 'yyyy-mm-dd' format.\n",
        "\n"
      ],
      "metadata": {
        "id": "aiwj2TBDKzsM"
      },
      "execution_count": null,
      "outputs": []
    },
    {
      "cell_type": "code",
      "source": [
        "comb_df['Date'][0], convert_date(comb_df['Date'][0])\n",
        "# This retrieves the first date entry from the 'Date' column of the 'comb_df' DataFrame.\n",
        "# Then, it calls the 'convert_date' function to convert this date from a timestamp to a string in 'yyyy-mm-dd' format.\n",
        "# The result is displayed as a tuple with both the original and the converted date.\n"
      ],
      "metadata": {
        "id": "V2o-lIt3LUVH",
        "colab": {
          "base_uri": "https://localhost:8080/"
        },
        "outputId": "055eeed6-cc6e-4065-81cd-6a7e62a1831f"
      },
      "execution_count": null,
      "outputs": [
        {
          "output_type": "execute_result",
          "data": {
            "text/plain": [
              "(Timestamp('2002-07-01 00:00:00'), '2002-07-01')"
            ]
          },
          "metadata": {},
          "execution_count": 28
        }
      ]
    },
    {
      "cell_type": "code",
      "source": [
        "comb_df['Date'] = comb_df['Date'].apply(convert_date)\n",
        "# Applies the 'convert_date' function to every entry in the 'Date' column of the 'comb_df' DataFrame.\n",
        "# This converts all the date values from timestamps to strings in 'yyyy-mm-dd' format.\n",
        "\n",
        "comb_df.head(3)\n",
        "# Displays the first 3 rows of the updated 'comb_df' DataFrame to verify that the 'Date' column has been successfully converted to string format.\n"
      ],
      "metadata": {
        "id": "AEuCszysNnsC",
        "colab": {
          "base_uri": "https://localhost:8080/",
          "height": 143
        },
        "outputId": "9f032c86-a9b4-4b1c-c390-9a965c82bd52"
      },
      "execution_count": null,
      "outputs": [
        {
          "output_type": "execute_result",
          "data": {
            "text/plain": [
              "         Date      Open      High       Low     Close   Volume    Symbol\n",
              "0  2002-07-01  1.364148  1.401700  1.334259  1.362615  1080397  ADANIENT\n",
              "1  2002-07-02  1.386372  1.390971  1.356484  1.373344  1016147  ADANIENT\n",
              "2  2002-07-03  1.371811  1.387139  1.364914  1.373344   980394  ADANIENT"
            ],
            "text/html": [
              "\n",
              "  <div id=\"df-33e9d555-ed15-427a-95e5-8bbeb2d0994a\" class=\"colab-df-container\">\n",
              "    <div>\n",
              "<style scoped>\n",
              "    .dataframe tbody tr th:only-of-type {\n",
              "        vertical-align: middle;\n",
              "    }\n",
              "\n",
              "    .dataframe tbody tr th {\n",
              "        vertical-align: top;\n",
              "    }\n",
              "\n",
              "    .dataframe thead th {\n",
              "        text-align: right;\n",
              "    }\n",
              "</style>\n",
              "<table border=\"1\" class=\"dataframe\">\n",
              "  <thead>\n",
              "    <tr style=\"text-align: right;\">\n",
              "      <th></th>\n",
              "      <th>Date</th>\n",
              "      <th>Open</th>\n",
              "      <th>High</th>\n",
              "      <th>Low</th>\n",
              "      <th>Close</th>\n",
              "      <th>Volume</th>\n",
              "      <th>Symbol</th>\n",
              "    </tr>\n",
              "  </thead>\n",
              "  <tbody>\n",
              "    <tr>\n",
              "      <th>0</th>\n",
              "      <td>2002-07-01</td>\n",
              "      <td>1.364148</td>\n",
              "      <td>1.401700</td>\n",
              "      <td>1.334259</td>\n",
              "      <td>1.362615</td>\n",
              "      <td>1080397</td>\n",
              "      <td>ADANIENT</td>\n",
              "    </tr>\n",
              "    <tr>\n",
              "      <th>1</th>\n",
              "      <td>2002-07-02</td>\n",
              "      <td>1.386372</td>\n",
              "      <td>1.390971</td>\n",
              "      <td>1.356484</td>\n",
              "      <td>1.373344</td>\n",
              "      <td>1016147</td>\n",
              "      <td>ADANIENT</td>\n",
              "    </tr>\n",
              "    <tr>\n",
              "      <th>2</th>\n",
              "      <td>2002-07-03</td>\n",
              "      <td>1.371811</td>\n",
              "      <td>1.387139</td>\n",
              "      <td>1.364914</td>\n",
              "      <td>1.373344</td>\n",
              "      <td>980394</td>\n",
              "      <td>ADANIENT</td>\n",
              "    </tr>\n",
              "  </tbody>\n",
              "</table>\n",
              "</div>\n",
              "    <div class=\"colab-df-buttons\">\n",
              "\n",
              "  <div class=\"colab-df-container\">\n",
              "    <button class=\"colab-df-convert\" onclick=\"convertToInteractive('df-33e9d555-ed15-427a-95e5-8bbeb2d0994a')\"\n",
              "            title=\"Convert this dataframe to an interactive table.\"\n",
              "            style=\"display:none;\">\n",
              "\n",
              "  <svg xmlns=\"http://www.w3.org/2000/svg\" height=\"24px\" viewBox=\"0 -960 960 960\">\n",
              "    <path d=\"M120-120v-720h720v720H120Zm60-500h600v-160H180v160Zm220 220h160v-160H400v160Zm0 220h160v-160H400v160ZM180-400h160v-160H180v160Zm440 0h160v-160H620v160ZM180-180h160v-160H180v160Zm440 0h160v-160H620v160Z\"/>\n",
              "  </svg>\n",
              "    </button>\n",
              "\n",
              "  <style>\n",
              "    .colab-df-container {\n",
              "      display:flex;\n",
              "      gap: 12px;\n",
              "    }\n",
              "\n",
              "    .colab-df-convert {\n",
              "      background-color: #E8F0FE;\n",
              "      border: none;\n",
              "      border-radius: 50%;\n",
              "      cursor: pointer;\n",
              "      display: none;\n",
              "      fill: #1967D2;\n",
              "      height: 32px;\n",
              "      padding: 0 0 0 0;\n",
              "      width: 32px;\n",
              "    }\n",
              "\n",
              "    .colab-df-convert:hover {\n",
              "      background-color: #E2EBFA;\n",
              "      box-shadow: 0px 1px 2px rgba(60, 64, 67, 0.3), 0px 1px 3px 1px rgba(60, 64, 67, 0.15);\n",
              "      fill: #174EA6;\n",
              "    }\n",
              "\n",
              "    .colab-df-buttons div {\n",
              "      margin-bottom: 4px;\n",
              "    }\n",
              "\n",
              "    [theme=dark] .colab-df-convert {\n",
              "      background-color: #3B4455;\n",
              "      fill: #D2E3FC;\n",
              "    }\n",
              "\n",
              "    [theme=dark] .colab-df-convert:hover {\n",
              "      background-color: #434B5C;\n",
              "      box-shadow: 0px 1px 3px 1px rgba(0, 0, 0, 0.15);\n",
              "      filter: drop-shadow(0px 1px 2px rgba(0, 0, 0, 0.3));\n",
              "      fill: #FFFFFF;\n",
              "    }\n",
              "  </style>\n",
              "\n",
              "    <script>\n",
              "      const buttonEl =\n",
              "        document.querySelector('#df-33e9d555-ed15-427a-95e5-8bbeb2d0994a button.colab-df-convert');\n",
              "      buttonEl.style.display =\n",
              "        google.colab.kernel.accessAllowed ? 'block' : 'none';\n",
              "\n",
              "      async function convertToInteractive(key) {\n",
              "        const element = document.querySelector('#df-33e9d555-ed15-427a-95e5-8bbeb2d0994a');\n",
              "        const dataTable =\n",
              "          await google.colab.kernel.invokeFunction('convertToInteractive',\n",
              "                                                    [key], {});\n",
              "        if (!dataTable) return;\n",
              "\n",
              "        const docLinkHtml = 'Like what you see? Visit the ' +\n",
              "          '<a target=\"_blank\" href=https://colab.research.google.com/notebooks/data_table.ipynb>data table notebook</a>'\n",
              "          + ' to learn more about interactive tables.';\n",
              "        element.innerHTML = '';\n",
              "        dataTable['output_type'] = 'display_data';\n",
              "        await google.colab.output.renderOutput(dataTable, element);\n",
              "        const docLink = document.createElement('div');\n",
              "        docLink.innerHTML = docLinkHtml;\n",
              "        element.appendChild(docLink);\n",
              "      }\n",
              "    </script>\n",
              "  </div>\n",
              "\n",
              "\n",
              "<div id=\"df-57a12be7-fc01-4718-9d95-fac854304344\">\n",
              "  <button class=\"colab-df-quickchart\" onclick=\"quickchart('df-57a12be7-fc01-4718-9d95-fac854304344')\"\n",
              "            title=\"Suggest charts\"\n",
              "            style=\"display:none;\">\n",
              "\n",
              "<svg xmlns=\"http://www.w3.org/2000/svg\" height=\"24px\"viewBox=\"0 0 24 24\"\n",
              "     width=\"24px\">\n",
              "    <g>\n",
              "        <path d=\"M19 3H5c-1.1 0-2 .9-2 2v14c0 1.1.9 2 2 2h14c1.1 0 2-.9 2-2V5c0-1.1-.9-2-2-2zM9 17H7v-7h2v7zm4 0h-2V7h2v10zm4 0h-2v-4h2v4z\"/>\n",
              "    </g>\n",
              "</svg>\n",
              "  </button>\n",
              "\n",
              "<style>\n",
              "  .colab-df-quickchart {\n",
              "      --bg-color: #E8F0FE;\n",
              "      --fill-color: #1967D2;\n",
              "      --hover-bg-color: #E2EBFA;\n",
              "      --hover-fill-color: #174EA6;\n",
              "      --disabled-fill-color: #AAA;\n",
              "      --disabled-bg-color: #DDD;\n",
              "  }\n",
              "\n",
              "  [theme=dark] .colab-df-quickchart {\n",
              "      --bg-color: #3B4455;\n",
              "      --fill-color: #D2E3FC;\n",
              "      --hover-bg-color: #434B5C;\n",
              "      --hover-fill-color: #FFFFFF;\n",
              "      --disabled-bg-color: #3B4455;\n",
              "      --disabled-fill-color: #666;\n",
              "  }\n",
              "\n",
              "  .colab-df-quickchart {\n",
              "    background-color: var(--bg-color);\n",
              "    border: none;\n",
              "    border-radius: 50%;\n",
              "    cursor: pointer;\n",
              "    display: none;\n",
              "    fill: var(--fill-color);\n",
              "    height: 32px;\n",
              "    padding: 0;\n",
              "    width: 32px;\n",
              "  }\n",
              "\n",
              "  .colab-df-quickchart:hover {\n",
              "    background-color: var(--hover-bg-color);\n",
              "    box-shadow: 0 1px 2px rgba(60, 64, 67, 0.3), 0 1px 3px 1px rgba(60, 64, 67, 0.15);\n",
              "    fill: var(--button-hover-fill-color);\n",
              "  }\n",
              "\n",
              "  .colab-df-quickchart-complete:disabled,\n",
              "  .colab-df-quickchart-complete:disabled:hover {\n",
              "    background-color: var(--disabled-bg-color);\n",
              "    fill: var(--disabled-fill-color);\n",
              "    box-shadow: none;\n",
              "  }\n",
              "\n",
              "  .colab-df-spinner {\n",
              "    border: 2px solid var(--fill-color);\n",
              "    border-color: transparent;\n",
              "    border-bottom-color: var(--fill-color);\n",
              "    animation:\n",
              "      spin 1s steps(1) infinite;\n",
              "  }\n",
              "\n",
              "  @keyframes spin {\n",
              "    0% {\n",
              "      border-color: transparent;\n",
              "      border-bottom-color: var(--fill-color);\n",
              "      border-left-color: var(--fill-color);\n",
              "    }\n",
              "    20% {\n",
              "      border-color: transparent;\n",
              "      border-left-color: var(--fill-color);\n",
              "      border-top-color: var(--fill-color);\n",
              "    }\n",
              "    30% {\n",
              "      border-color: transparent;\n",
              "      border-left-color: var(--fill-color);\n",
              "      border-top-color: var(--fill-color);\n",
              "      border-right-color: var(--fill-color);\n",
              "    }\n",
              "    40% {\n",
              "      border-color: transparent;\n",
              "      border-right-color: var(--fill-color);\n",
              "      border-top-color: var(--fill-color);\n",
              "    }\n",
              "    60% {\n",
              "      border-color: transparent;\n",
              "      border-right-color: var(--fill-color);\n",
              "    }\n",
              "    80% {\n",
              "      border-color: transparent;\n",
              "      border-right-color: var(--fill-color);\n",
              "      border-bottom-color: var(--fill-color);\n",
              "    }\n",
              "    90% {\n",
              "      border-color: transparent;\n",
              "      border-bottom-color: var(--fill-color);\n",
              "    }\n",
              "  }\n",
              "</style>\n",
              "\n",
              "  <script>\n",
              "    async function quickchart(key) {\n",
              "      const quickchartButtonEl =\n",
              "        document.querySelector('#' + key + ' button');\n",
              "      quickchartButtonEl.disabled = true;  // To prevent multiple clicks.\n",
              "      quickchartButtonEl.classList.add('colab-df-spinner');\n",
              "      try {\n",
              "        const charts = await google.colab.kernel.invokeFunction(\n",
              "            'suggestCharts', [key], {});\n",
              "      } catch (error) {\n",
              "        console.error('Error during call to suggestCharts:', error);\n",
              "      }\n",
              "      quickchartButtonEl.classList.remove('colab-df-spinner');\n",
              "      quickchartButtonEl.classList.add('colab-df-quickchart-complete');\n",
              "    }\n",
              "    (() => {\n",
              "      let quickchartButtonEl =\n",
              "        document.querySelector('#df-57a12be7-fc01-4718-9d95-fac854304344 button');\n",
              "      quickchartButtonEl.style.display =\n",
              "        google.colab.kernel.accessAllowed ? 'block' : 'none';\n",
              "    })();\n",
              "  </script>\n",
              "</div>\n",
              "\n",
              "    </div>\n",
              "  </div>\n"
            ],
            "application/vnd.google.colaboratory.intrinsic+json": {
              "type": "dataframe",
              "variable_name": "comb_df"
            }
          },
          "metadata": {},
          "execution_count": 29
        }
      ]
    },
    {
      "cell_type": "code",
      "source": [
        "# Insert stock prices data\n",
        "# This block inserts the stock price data from the 'comb_df' DataFrame into the 'stock_prices' table in the SQLite database.\n",
        "\n",
        "conn.executemany('''\n",
        "INSERT INTO stock_prices (date, open, high, low, close, volume, symbol) VALUES (?, ?, ?, ?, ?, ?, ?)\n",
        "''', comb_df.values)\n",
        "# Executes an SQL 'INSERT' statement to insert multiple rows of data into the 'stock_prices' table.\n",
        "# 'comb_df.values' extracts the values from the DataFrame (as a list of tuples) and inserts them into the corresponding columns in the database.\n",
        "# The '?' placeholders are filled by the values from the DataFrame (i.e., 'date', 'open', 'high', 'low', 'close', 'volume', and 'symbol').\n",
        "\n",
        "conn.commit()\n",
        "# Commits the transaction to the database, ensuring that all the data is saved.\n",
        "\n",
        "print(\"Data inserted successfully!\")\n",
        "# Prints a confirmation message to indicate that the data has been successfully inserted into the database.\n"
      ],
      "metadata": {
        "id": "o-ncFV69z54P",
        "colab": {
          "base_uri": "https://localhost:8080/"
        },
        "outputId": "7838dc32-cdd5-4157-970b-bbdb715adda4"
      },
      "execution_count": null,
      "outputs": [
        {
          "output_type": "stream",
          "name": "stdout",
          "text": [
            "Data inserted successfully!\n"
          ]
        }
      ]
    },
    {
      "cell_type": "markdown",
      "source": [
        "### **Query the Database**"
      ],
      "metadata": {
        "id": "Xyyp-aZTjPDb"
      }
    },
    {
      "cell_type": "code",
      "source": [
        "# Show table content\n",
        "# This block retrieves and prints the first 10 rows from the 'stock_prices' table in the SQLite database.\n",
        "\n",
        "cursor = conn.execute('''\n",
        "SELECT * from stock_prices limit 10;\n",
        "''')\n",
        "# Executes an SQL query that selects all columns from the 'stock_prices' table and retrieves the first 10 rows.\n",
        "\n",
        "for row in cursor:\n",
        "    print(row)\n",
        "# Iterates over the rows returned by the query and prints each row to the console.\n"
      ],
      "metadata": {
        "id": "G538RvBA4mt4",
        "colab": {
          "base_uri": "https://localhost:8080/"
        },
        "outputId": "816f64a3-8dcd-4bcf-aec3-600ec04847b1"
      },
      "execution_count": null,
      "outputs": [
        {
          "output_type": "stream",
          "name": "stdout",
          "text": [
            "('2002-07-01', 1.3641480207443237, 1.4017000198364258, 1.334259033203125, 1.3626149892807007, 1080397, 'ADANIENT')\n",
            "('2002-07-02', 1.3863719701766968, 1.3909709453582764, 1.356484055519104, 1.3733439445495605, 1016147, 'ADANIENT')\n",
            "('2002-07-03', 1.371811032295227, 1.3871389627456665, 1.3649139404296875, 1.3733439445495605, 980394, 'ADANIENT')\n",
            "('2002-07-04', 1.3794749975204468, 1.4017000198364258, 1.3794749975204468, 1.3810080289840698, 972747, 'ADANIENT')\n",
            "('2002-07-05', 1.3886719942092896, 1.3886719942092896, 1.3725780248641968, 1.3779419660568237, 974496, 'ADANIENT')\n",
            "('2002-07-08', 1.3948030471801758, 1.4545799493789673, 1.3649139404296875, 1.4384859800338745, 1061686, 'ADANIENT')\n",
            "('2002-07-09', 1.4331209659576416, 1.4407850503921509, 1.3917369842529297, 1.4009339809417725, 1024719, 'ADANIENT')\n",
            "('2002-07-10', 1.4101300239562988, 1.4101300239562988, 1.3871389627456665, 1.3994009494781494, 946638, 'ADANIENT')\n",
            "('2002-07-11', 1.449215054512024, 1.449215054512024, 1.3725780248641968, 1.3764100074768066, 968220, 'ADANIENT')\n",
            "('2002-07-12', 1.3917369842529297, 1.4032330513000488, 1.3794749975204468, 1.3871389627456665, 967763, 'ADANIENT')\n"
          ]
        }
      ]
    },
    {
      "cell_type": "code",
      "source": [
        "# Show table content for WIPRO\n",
        "# This block retrieves and prints the first 10 rows of data from the 'stock_prices' table where the 'symbol' is 'WIPRO'.\n",
        "\n",
        "cursor = conn.execute('''\n",
        "SELECT * from stock_prices WHERE symbol='WIPRO' limit 10;\n",
        "''')\n",
        "# Executes an SQL query to select all columns from the 'stock_prices' table where the 'symbol' is 'WIPRO', limiting the result to the first 10 rows.\n",
        "\n",
        "for row in cursor:\n",
        "    print(row)\n",
        "# Iterates over the rows returned by the query and prints each row to the console.\n"
      ],
      "metadata": {
        "id": "kQM3j5nPPMk1",
        "colab": {
          "base_uri": "https://localhost:8080/"
        },
        "outputId": "77acdc58-5e3a-4a4d-c3f9-abfd960a76ed"
      },
      "execution_count": null,
      "outputs": [
        {
          "output_type": "stream",
          "name": "stdout",
          "text": [
            "('1996-01-01', 1.125, 1.125, 1.125, 1.125, 19999, 'WIPRO')\n",
            "('1996-01-02', 1.037500023841858, 1.037500023841858, 1.037500023841858, 1.037500023841858, 39999, 'WIPRO')\n",
            "('1996-01-03', 1.0750000476837158, 1.0750000476837158, 1.0750000476837158, 1.0750000476837158, 19999, 'WIPRO')\n",
            "('1996-01-04', 1.0750000476837158, 1.0750000476837158, 1.0750000476837158, 1.0750000476837158, 119999, 'WIPRO')\n",
            "('1996-01-05', 1.0750000476837158, 1.0750000476837158, 1.0750000476837158, 1.0750000476837158, 0, 'WIPRO')\n",
            "('1996-01-08', 1.0750000476837158, 1.0750000476837158, 1.0750000476837158, 1.0750000476837158, 0, 'WIPRO')\n",
            "('1996-01-09', 1.0824999809265137, 1.0824999809265137, 1.0750000476837158, 1.0750000476837158, 39999, 'WIPRO')\n",
            "('1996-01-10', 1.0750000476837158, 1.0765000581741333, 1.0750000476837158, 1.0765000581741333, 59999, 'WIPRO')\n",
            "('1996-01-11', 1.0765000581741333, 1.087499976158142, 1.065000057220459, 1.0750000476837158, 79999, 'WIPRO')\n",
            "('1996-01-12', 1.0750000476837158, 1.0750000476837158, 1.0750000476837158, 1.0750000476837158, 19999, 'WIPRO')\n"
          ]
        }
      ]
    },
    {
      "cell_type": "code",
      "source": [
        "# Show number of rows in table\n",
        "# This block retrieves and prints the total number of rows (records) in the 'stock_prices' table.\n",
        "\n",
        "cursor = conn.execute('''\n",
        "SELECT count(*) from stock_prices;\n",
        "''')\n",
        "# Executes an SQL query to count the total number of rows in the 'stock_prices' table.\n",
        "\n",
        "for row in cursor:\n",
        "    print(row)\n",
        "# Iterates over the result (which contains the row count) and prints the count to the console.\n"
      ],
      "metadata": {
        "id": "tuWmXiQnO4di",
        "colab": {
          "base_uri": "https://localhost:8080/"
        },
        "outputId": "7301f1b8-df08-451c-deba-4c773d429679"
      },
      "execution_count": null,
      "outputs": [
        {
          "output_type": "stream",
          "name": "stdout",
          "text": [
            "(298509,)\n"
          ]
        }
      ]
    },
    {
      "cell_type": "code",
      "source": [
        "# Show columns info of table\n",
        "# This block retrieves and prints the schema (column information) of the 'stock_prices' table.\n",
        "\n",
        "cursor = conn.execute('''\n",
        "PRAGMA table_info(stock_prices);\n",
        "''')\n",
        "# Executes an SQL PRAGMA command that returns metadata about the 'stock_prices' table, including column names, data types, and other properties.\n",
        "\n",
        "for row in cursor:\n",
        "    print(row)\n",
        "# Iterates over the rows returned by the query (one for each column in the table) and prints each row to the console.\n"
      ],
      "metadata": {
        "id": "918KTNazR7kG",
        "colab": {
          "base_uri": "https://localhost:8080/"
        },
        "outputId": "2af85a2c-4b56-4589-86f9-bba5b9353369"
      },
      "execution_count": null,
      "outputs": [
        {
          "output_type": "stream",
          "name": "stdout",
          "text": [
            "(0, 'date', 'DATE', 0, None, 0)\n",
            "(1, 'open', 'DOUBLE', 0, None, 0)\n",
            "(2, 'high', 'DOUBLE', 0, None, 0)\n",
            "(3, 'low', 'DOUBLE', 0, None, 0)\n",
            "(4, 'close', 'DOUBLE', 0, None, 0)\n",
            "(5, 'volume', 'INT', 0, None, 0)\n",
            "(6, 'symbol', 'VARCHAR(20)', 0, None, 0)\n"
          ]
        }
      ]
    },
    {
      "cell_type": "markdown",
      "source": [
        "# 4: SQL Query Generation using an LLM\n"
      ],
      "metadata": {
        "id": "zyNDtZCibQou"
      }
    },
    {
      "cell_type": "code",
      "source": [
        "# Read OpenAI key from Colab Secrets\n",
        "# This block retrieves the OpenAI API key stored in Colab's secret environment and sets it up for usage in the script.\n",
        "\n",
        "from google.colab import userdata\n",
        "# Imports the 'userdata' module from Google Colab, which allows access to environment variables and secrets.\n",
        "\n",
        "api_key = userdata.get('OPENAI_API_KEY')           # <-- change this as per your secret's name\n",
        "# Retrieves the OpenAI API key stored in Colab Secrets under the name 'OPENAI_API_KEY'.\n",
        "# The secret name can be changed based on how the key was stored.\n",
        "\n",
        "os.environ['OPENAI_API_KEY'] = api_key\n",
        "# Sets the retrieved API key as an environment variable, so it can be accessed by other parts of the code.\n",
        "\n",
        "openai.api_key = os.getenv('OPENAI_API_KEY')\n",
        "# Assigns the API key from the environment variable to OpenAI’s Python SDK, allowing the SDK to authenticate API requests.\n"
      ],
      "metadata": {
        "id": "cgfRX83Jb5jQ"
      },
      "execution_count": null,
      "outputs": []
    },
    {
      "cell_type": "markdown",
      "source": [
        "### **Load Model**"
      ],
      "metadata": {
        "id": "fQvekWJPjZSJ"
      }
    },
    {
      "cell_type": "code",
      "source": [
        "# Load Model\n",
        "# This block initializes an instance of the OpenAI LLM (Large Language Model) using LangChain.\n",
        "\n",
        "from langchain_openai import ChatOpenAI\n",
        "# Imports the 'ChatOpenAI' class from the LangChain OpenAI module, which provides an interface for interacting with OpenAI's language models.\n",
        "\n",
        "llm = ChatOpenAI(model_name=\"gpt-4o-mini\", temperature=0)\n",
        "# Creates an instance of the GPT-4 model with the 'gpt-4o-mini' variant.\n",
        "# 'temperature=0' ensures deterministic behavior (the model generates consistent results for the same input), reducing randomness in the output.\n"
      ],
      "metadata": {
        "id": "pB17x2CzcFMr"
      },
      "execution_count": null,
      "outputs": []
    },
    {
      "cell_type": "code",
      "source": [
        "output = llm.invoke(\"What is 2 plus 3?\")\n",
        "# Sends the query \"What is 2 plus 3?\" to the GPT-4 model (llm) using the 'invoke' method, which generates a response.\n",
        "# This serves as a basic test to check if the model is working and returning expected results.\n",
        "\n",
        "output\n",
        "# Displays the output from the model, which should be the answer to the mathematical query (i.e., 5).\n"
      ],
      "metadata": {
        "id": "kQ_RGES2b9Yb",
        "colab": {
          "base_uri": "https://localhost:8080/"
        },
        "outputId": "a3cf5967-a6a1-4d52-db3d-09eeba9a06b5"
      },
      "execution_count": null,
      "outputs": [
        {
          "output_type": "execute_result",
          "data": {
            "text/plain": [
              "AIMessage(content='2 plus 3 equals 5.', additional_kwargs={'refusal': None}, response_metadata={'token_usage': {'completion_tokens': 8, 'prompt_tokens': 15, 'total_tokens': 23, 'completion_tokens_details': {'audio_tokens': None, 'reasoning_tokens': 0}, 'prompt_tokens_details': {'audio_tokens': None, 'cached_tokens': 0}}, 'model_name': 'gpt-4o-mini-2024-07-18', 'system_fingerprint': 'fp_482c22a7bc', 'finish_reason': 'stop', 'logprobs': None}, id='run-b24b5744-3f53-458f-a307-60d646688cd6-0', usage_metadata={'input_tokens': 15, 'output_tokens': 8, 'total_tokens': 23, 'input_token_details': {'cache_read': 0}, 'output_token_details': {'reasoning': 0}})"
            ]
          },
          "metadata": {},
          "execution_count": 39
        }
      ]
    },
    {
      "cell_type": "markdown",
      "source": [
        "### **Create Chain for Query Generation** using **LCEL** (**L**ang**C**hain **E**xpression **L**anguage)"
      ],
      "metadata": {
        "id": "COmys1XKjfdW"
      }
    },
    {
      "cell_type": "code",
      "source": [
        "# Build prompt\n",
        "# This block defines a template that will be used to generate SQL queries based on context and a user request.\n",
        "\n",
        "template = \"\"\"Use the following pieces of context to generate the SQL query with column names for the request given at the end.\n",
        "If you don't know the answer, just say that you don't know, don't try to make up an answer.\n",
        "{context}\n",
        "Request: {request}\n",
        "Generate query:\"\"\"\n",
        "# This defines a multi-line string that serves as the prompt template.\n",
        "# The template contains placeholders `{context}` for additional context (e.g., table schema) and `{request}` for the user's query.\n",
        "# This prompt will guide the LLM to generate SQL queries based on the provided context and request.\n",
        "\n",
        "PROMPT = PromptTemplate(input_variables=[\"context\", \"request\"], template=template)\n",
        "# Creates an instance of `PromptTemplate` with input variables 'context' and 'request'.\n",
        "# The `PromptTemplate` class allows you to pass dynamic inputs into the predefined template, which will be used for generating SQL queries.\n"
      ],
      "metadata": {
        "id": "LD5eAq1ae49r"
      },
      "execution_count": null,
      "outputs": []
    },
    {
      "cell_type": "code",
      "source": [
        "# Query Generation Chain - created using LCEL (LangChain Expression Language)\n",
        "# This block defines a chain using LangChain Expression Language (LCEL) to process the prompt and generate SQL queries.\n",
        "\n",
        "chain = (PROMPT\n",
        "         | llm\n",
        "         | StrOutputParser()       # to get output in a more usable format\n",
        "         )\n",
        "# The 'PROMPT' is passed through a sequence of operations (or \"chain\").\n",
        "# The 'PROMPT' first goes through the LLM (GPT-4 model) to process the query and generate an SQL query.\n",
        "# The 'StrOutputParser()' is used to parse the model's output into a usable string format (as SQL queries are returned as text).\n",
        "# This chain structure enables modular and sequential processing: the template, LLM, and output parsing are all connected in one flow.\n"
      ],
      "metadata": {
        "id": "r_jsEv50fjl0"
      },
      "execution_count": null,
      "outputs": []
    },
    {
      "cell_type": "code",
      "source": [
        "# Context\n",
        "# This block defines the structure of the table that will be used as context for generating SQL queries.\n",
        "\n",
        "table_info = \"\"\"CREATE TABLE IF NOT EXISTS stock_prices (date DATE, open DOUBLE, high DOUBLE, low DOUBLE, close DOUBLE, volume INT, symbol VARCHAR(20));\"\"\"\n",
        "# This is a string that represents the SQL statement to create the 'stock_prices' table if it doesn't already exist.\n",
        "# It defines the columns 'date', 'open', 'high', 'low', 'close', 'volume', and 'symbol' with their respective data types.\n",
        "# This 'table_info' string will be passed to the LLM as context so it understands the structure of the table when generating SQL queries.\n"
      ],
      "metadata": {
        "id": "Fau8EvCxf936"
      },
      "execution_count": null,
      "outputs": []
    },
    {
      "cell_type": "markdown",
      "source": [
        "### **Generate SQL Query then query the Database**"
      ],
      "metadata": {
        "id": "c8CoU6BhjmYf"
      }
    },
    {
      "cell_type": "code",
      "source": [
        "# Generate SQL query\n",
        "# This block sends a request to the LLM to generate an SQL query based on the provided context and user request.\n",
        "\n",
        "response1 = chain.invoke({\"request\": \"How many total records there in table?\",\n",
        "                          \"context\": table_info})\n",
        "# 'chain.invoke()' is used to send a request and context to the LLM.\n",
        "# The 'request' is the natural language query: \"How many total records there in table?\"\n",
        "# The 'context' is the table structure defined in 'table_info'.\n",
        "# The LLM will interpret the request and generate an appropriate SQL query to count the number of records in the 'stock_prices' table.\n",
        "\n",
        "response1\n",
        "# Displays the SQL query generated by the LLM in response to the given request.\n"
      ],
      "metadata": {
        "id": "OEPD_HM5dxLR",
        "colab": {
          "base_uri": "https://localhost:8080/",
          "height": 35
        },
        "outputId": "55d53467-d2d2-4e49-96f8-5a637eb65e4c"
      },
      "execution_count": null,
      "outputs": [
        {
          "output_type": "execute_result",
          "data": {
            "text/plain": [
              "'```sql\\nSELECT COUNT(*) AS total_records FROM stock_prices;\\n```'"
            ],
            "application/vnd.google.colaboratory.intrinsic+json": {
              "type": "string"
            }
          },
          "metadata": {},
          "execution_count": 43
        }
      ]
    },
    {
      "cell_type": "code",
      "source": [
        "# Generate another query\n",
        "# This block sends a different request to the LLM to generate an SQL query for retrieving unique company symbols from the table.\n",
        "\n",
        "response2 = chain.invoke({\"request\": \"What are unique companies symbols present in table?\",\n",
        "                          \"context\": table_info})\n",
        "# 'chain.invoke()' is used to ask the LLM to generate an SQL query based on the new request: \"What are unique companies symbols present in table?\"\n",
        "# The 'context' remains the same (the table schema provided in 'table_info').\n",
        "# The LLM will generate an SQL query that retrieves unique values from the 'symbol' column in the 'stock_prices' table.\n",
        "\n",
        "response2\n",
        "# Displays the SQL query generated by the LLM in response to this new request.\n"
      ],
      "metadata": {
        "id": "rQm1Y7Sgg0Qk",
        "colab": {
          "base_uri": "https://localhost:8080/",
          "height": 35
        },
        "outputId": "a46eb39e-2d10-48cf-cb74-084b891d0da0"
      },
      "execution_count": null,
      "outputs": [
        {
          "output_type": "execute_result",
          "data": {
            "text/plain": [
              "'```sql\\nSELECT DISTINCT symbol FROM stock_prices;\\n```'"
            ],
            "application/vnd.google.colaboratory.intrinsic+json": {
              "type": "string"
            }
          },
          "metadata": {},
          "execution_count": 44
        }
      ]
    },
    {
      "cell_type": "code",
      "source": [
        "# Generate another query\n",
        "# This block sends a request to the LLM to generate an SQL query to retrieve ten records for Wipro company from the table.\n",
        "\n",
        "response3 = chain.invoke({\"request\": \"Give me any ten records for Wipro company?\",\n",
        "                          \"context\": table_info})\n",
        "# 'chain.invoke()' is used to ask the LLM to generate an SQL query based on the request: \"Give me any ten records for Wipro company?\"\n",
        "# The 'context' is the table schema provided in 'table_info'.\n",
        "# The LLM will generate an SQL query that retrieves ten records from the 'stock_prices' table where the 'symbol' is 'WIPRO'.\n",
        "\n",
        "response3\n",
        "# Displays the SQL query generated by the LLM in response to this request.\n"
      ],
      "metadata": {
        "id": "btqO4MUTkN1Z",
        "colab": {
          "base_uri": "https://localhost:8080/",
          "height": 35
        },
        "outputId": "98999c84-3129-49aa-bc39-45ac2be09cee"
      },
      "execution_count": null,
      "outputs": [
        {
          "output_type": "execute_result",
          "data": {
            "text/plain": [
              "\"```sql\\nSELECT * FROM stock_prices WHERE symbol = 'WIPRO' LIMIT 10;\\n```\""
            ],
            "application/vnd.google.colaboratory.intrinsic+json": {
              "type": "string"
            }
          },
          "metadata": {},
          "execution_count": 45
        }
      ]
    },
    {
      "cell_type": "code",
      "source": [
        "# Generate another query\n",
        "# This block sends a request to the LLM to generate an SQL query to retrieve the 'open' and 'high' prices for any ten records for Wipro.\n",
        "\n",
        "response4 = chain.invoke({\"request\": \"Need open, high prices for any ten Wipro records\",\n",
        "                          \"context\": table_info})\n",
        "# 'chain.invoke()' is used to ask the LLM to generate an SQL query based on the request: \"Need open, high prices for any ten Wipro records.\"\n",
        "# The 'context' is the table schema provided in 'table_info'.\n",
        "# The LLM will generate an SQL query that selects the 'open' and 'high' columns from the 'stock_prices' table where the 'symbol' is 'WIPRO', limiting the result to ten records.\n",
        "\n",
        "response4\n",
        "# Displays the SQL query generated by the LLM in response to this request.\n"
      ],
      "metadata": {
        "id": "5kNpoTMmuQQI",
        "colab": {
          "base_uri": "https://localhost:8080/",
          "height": 35
        },
        "outputId": "d778c18d-1f6c-47e3-e805-92d9153e301b"
      },
      "execution_count": null,
      "outputs": [
        {
          "output_type": "execute_result",
          "data": {
            "text/plain": [
              "\"```sql\\nSELECT open, high \\nFROM stock_prices \\nWHERE symbol = 'WIPRO' \\nLIMIT 10;\\n```\""
            ],
            "application/vnd.google.colaboratory.intrinsic+json": {
              "type": "string"
            }
          },
          "metadata": {},
          "execution_count": 46
        }
      ]
    },
    {
      "cell_type": "markdown",
      "source": [
        "### **Query the Database using generated SQL queries**"
      ],
      "metadata": {
        "id": "uJF6IPC2kwxp"
      }
    },
    {
      "cell_type": "code",
      "source": [
        "# Generated Response1\n",
        "# This block displays the SQL query generated by the LLM for the first request: \"How many total records there in table?\"\n",
        "\n",
        "response1\n",
        "# Shows the generated SQL query in the output, which is expected to be something like:\n",
        "# \"SELECT COUNT(*) FROM stock_prices;\"\n"
      ],
      "metadata": {
        "id": "rrsVmkZIhsah",
        "colab": {
          "base_uri": "https://localhost:8080/",
          "height": 35
        },
        "outputId": "c69d7fd1-505b-4e49-f349-64fe51de5726"
      },
      "execution_count": null,
      "outputs": [
        {
          "output_type": "execute_result",
          "data": {
            "text/plain": [
              "'```sql\\nSELECT COUNT(*) AS total_records FROM stock_prices;\\n```'"
            ],
            "application/vnd.google.colaboratory.intrinsic+json": {
              "type": "string"
            }
          },
          "metadata": {},
          "execution_count": 47
        }
      ]
    },
    {
      "cell_type": "code",
      "source": [
        "import re\n",
        "# Imports the 're' module for regular expressions, allowing for pattern matching and string manipulation.\n",
        "\n",
        "def format_query(query):\n",
        "    # Defines a function to clean up the SQL query generated by the LLM.\n",
        "\n",
        "    query = re.sub(r\"```sql\\n|\\n```\", \"\", query).strip()\n",
        "    # Uses a regular expression to remove any markdown formatting specific to SQL blocks (i.e., ```sql``` and newlines) from the query.\n",
        "    # This ensures that the query is a clean SQL statement without extra characters.\n",
        "\n",
        "    query = re.sub(r\"\\n\", \"\", query).strip()\n",
        "    # Removes any additional newline characters within the query and trims any leading/trailing whitespace.\n",
        "\n",
        "    return query\n",
        "    # Returns the cleaned and formatted query.\n",
        "\n",
        "format_query(response1)\n",
        "# Calls the 'format_query' function to clean and format the SQL query generated in 'response1'.\n"
      ],
      "metadata": {
        "id": "2SZEj1YptfMC",
        "colab": {
          "base_uri": "https://localhost:8080/",
          "height": 35
        },
        "outputId": "73627002-411a-4454-de75-1941b1f952ea"
      },
      "execution_count": null,
      "outputs": [
        {
          "output_type": "execute_result",
          "data": {
            "text/plain": [
              "'SELECT COUNT(*) AS total_records FROM stock_prices;'"
            ],
            "application/vnd.google.colaboratory.intrinsic+json": {
              "type": "string"
            }
          },
          "metadata": {},
          "execution_count": 48
        }
      ]
    },
    {
      "cell_type": "code",
      "source": [
        "# Use generated query to get data from database\n",
        "# This block takes the formatted SQL query generated by the LLM, executes it against the SQLite database, and retrieves the results.\n",
        "\n",
        "query = format_query(response1)\n",
        "# Assigns the cleaned and formatted SQL query from 'response1' to the 'query' variable.\n",
        "\n",
        "cursor = conn.execute(query)\n",
        "# Executes the SQL query on the SQLite database using the connection object 'conn'.\n",
        "# The result of the query is stored in 'cursor', which acts as an iterator over the result set.\n",
        "\n",
        "for row in cursor:\n",
        "    print(row)\n",
        "# Iterates over each row in the result set and prints the data.\n",
        "# Since 'response1' is a query for counting records, this will print the count of total records in the 'stock_prices' table.\n"
      ],
      "metadata": {
        "id": "pWNWmYt3h8DG",
        "colab": {
          "base_uri": "https://localhost:8080/"
        },
        "outputId": "6b3913f3-fd00-4db5-bdf9-b9c10cbc6512"
      },
      "execution_count": null,
      "outputs": [
        {
          "output_type": "stream",
          "name": "stdout",
          "text": [
            "(298509,)\n"
          ]
        }
      ]
    },
    {
      "cell_type": "code",
      "source": [
        "# Generated Response2\n",
        "# This block cleans and formats the SQL query generated by the LLM for the second request: \"What are unique companies symbols present in table?\"\n",
        "\n",
        "format_query(response2)\n",
        "# Calls the 'format_query' function to clean and format the SQL query generated in 'response2'.\n",
        "# This will remove any extra formatting or newline characters, making the SQL query ready for execution.\n",
        "# The expected query would be something like:\n",
        "# \"SELECT DISTINCT(symbol) FROM stock_prices;\"\n"
      ],
      "metadata": {
        "id": "iT75TM_8iYoj",
        "colab": {
          "base_uri": "https://localhost:8080/",
          "height": 35
        },
        "outputId": "6b1e1fe4-56f3-4c4d-e916-8e40c19ae13c"
      },
      "execution_count": null,
      "outputs": [
        {
          "output_type": "execute_result",
          "data": {
            "text/plain": [
              "'SELECT DISTINCT symbol FROM stock_prices;'"
            ],
            "application/vnd.google.colaboratory.intrinsic+json": {
              "type": "string"
            }
          },
          "metadata": {},
          "execution_count": 50
        }
      ]
    },
    {
      "cell_type": "code",
      "source": [
        "# Use generated query to get data from database\n",
        "# This block executes the formatted SQL query from 'response2' to retrieve unique company symbols from the database.\n",
        "\n",
        "query = format_query(response2)\n",
        "# Assigns the cleaned and formatted SQL query from 'response2' to the 'query' variable.\n",
        "\n",
        "cursor = conn.execute(query)\n",
        "# Executes the SQL query on the SQLite database using the connection object 'conn'.\n",
        "# The result of the query is stored in 'cursor', which contains the unique company symbols.\n",
        "\n",
        "for row in cursor:\n",
        "    print(row)\n",
        "# Iterates over each row in the result set (the unique symbols) and prints the data.\n",
        "# The expected output will be a list of unique company symbols from the 'stock_prices' table.\n"
      ],
      "metadata": {
        "id": "UCk2URoEiYok",
        "colab": {
          "base_uri": "https://localhost:8080/"
        },
        "outputId": "37e54c0a-71d4-4fe6-8306-f56403a77916"
      },
      "execution_count": null,
      "outputs": [
        {
          "output_type": "stream",
          "name": "stdout",
          "text": [
            "('ADANIENT',)\n",
            "('ADANIPORTS',)\n",
            "('APOLLOHOSP',)\n",
            "('ASIANPAINT',)\n",
            "('AXISBANK',)\n",
            "('BAJAJ-AUTO',)\n",
            "('BAJFINANCE',)\n",
            "('BAJAJFINSV',)\n",
            "('BEL',)\n",
            "('BPCL',)\n",
            "('BHARTIARTL',)\n",
            "('BRITANNIA',)\n",
            "('CIPLA',)\n",
            "('COALINDIA',)\n",
            "('DRREDDY',)\n",
            "('EICHERMOT',)\n",
            "('GRASIM',)\n",
            "('HCLTECH',)\n",
            "('HDFCBANK',)\n",
            "('HDFCLIFE',)\n",
            "('HEROMOTOCO',)\n",
            "('HINDALCO',)\n",
            "('HINDUNILVR',)\n",
            "('ICICIBANK',)\n",
            "('ITC',)\n",
            "('INDUSINDBK',)\n",
            "('INFY',)\n",
            "('JSWSTEEL',)\n",
            "('KOTAKBANK',)\n",
            "('LT',)\n",
            "('M&M',)\n",
            "('MARUTI',)\n",
            "('NTPC',)\n",
            "('NESTLEIND',)\n",
            "('ONGC',)\n",
            "('POWERGRID',)\n",
            "('RELIANCE',)\n",
            "('SBILIFE',)\n",
            "('SHRIRAMFIN',)\n",
            "('SBIN',)\n",
            "('SUNPHARMA',)\n",
            "('TCS',)\n",
            "('TATACONSUM',)\n",
            "('TATAMOTORS',)\n",
            "('TATASTEEL',)\n",
            "('TECHM',)\n",
            "('TITAN',)\n",
            "('TRENT',)\n",
            "('ULTRACEMCO',)\n",
            "('WIPRO',)\n"
          ]
        }
      ]
    },
    {
      "cell_type": "code",
      "source": [
        "# Generated Response3\n",
        "# This block cleans and formats the SQL query generated by the LLM for the third request: \"Give me any ten records for Wipro company?\"\n",
        "\n",
        "format_query(response3)\n",
        "# Calls the 'format_query' function to clean and format the SQL query generated in 'response3'.\n",
        "# This will remove extra formatting or newline characters, making the SQL query ready for execution.\n",
        "# The expected query would be something like:\n",
        "# \"SELECT * FROM stock_prices WHERE symbol = 'WIPRO' LIMIT 10;\"\n"
      ],
      "metadata": {
        "id": "Qz3ybg6TkcYx",
        "colab": {
          "base_uri": "https://localhost:8080/",
          "height": 35
        },
        "outputId": "da443ee9-3e28-4fdc-e533-107e52a2fc2c"
      },
      "execution_count": null,
      "outputs": [
        {
          "output_type": "execute_result",
          "data": {
            "text/plain": [
              "\"SELECT * FROM stock_prices WHERE symbol = 'WIPRO' LIMIT 10;\""
            ],
            "application/vnd.google.colaboratory.intrinsic+json": {
              "type": "string"
            }
          },
          "metadata": {},
          "execution_count": 52
        }
      ]
    },
    {
      "cell_type": "code",
      "source": [
        "# Use generated query to get data from database\n",
        "# This block executes the formatted SQL query from 'response3' to retrieve ten records for Wipro from the database.\n",
        "\n",
        "query = format_query(response3)\n",
        "# Assigns the cleaned and formatted SQL query from 'response3' to the 'query' variable.\n",
        "\n",
        "cursor = conn.execute(query)\n",
        "# Executes the SQL query on the SQLite database using the connection object 'conn'.\n",
        "# The result of the query is stored in 'cursor', which contains ten records for Wipro.\n",
        "\n",
        "for row in cursor:\n",
        "    print(row)\n",
        "# Iterates over each row in the result set (the records for Wipro) and prints the data.\n",
        "# The expected output will be ten rows from the 'stock_prices' table where the symbol is 'WIPRO'.\n"
      ],
      "metadata": {
        "id": "1vQe2zxskcYy",
        "colab": {
          "base_uri": "https://localhost:8080/"
        },
        "outputId": "6f651191-b89e-446e-dfa9-973338185cb5"
      },
      "execution_count": null,
      "outputs": [
        {
          "output_type": "stream",
          "name": "stdout",
          "text": [
            "('1996-01-01', 1.125, 1.125, 1.125, 1.125, 19999, 'WIPRO')\n",
            "('1996-01-02', 1.037500023841858, 1.037500023841858, 1.037500023841858, 1.037500023841858, 39999, 'WIPRO')\n",
            "('1996-01-03', 1.0750000476837158, 1.0750000476837158, 1.0750000476837158, 1.0750000476837158, 19999, 'WIPRO')\n",
            "('1996-01-04', 1.0750000476837158, 1.0750000476837158, 1.0750000476837158, 1.0750000476837158, 119999, 'WIPRO')\n",
            "('1996-01-05', 1.0750000476837158, 1.0750000476837158, 1.0750000476837158, 1.0750000476837158, 0, 'WIPRO')\n",
            "('1996-01-08', 1.0750000476837158, 1.0750000476837158, 1.0750000476837158, 1.0750000476837158, 0, 'WIPRO')\n",
            "('1996-01-09', 1.0824999809265137, 1.0824999809265137, 1.0750000476837158, 1.0750000476837158, 39999, 'WIPRO')\n",
            "('1996-01-10', 1.0750000476837158, 1.0765000581741333, 1.0750000476837158, 1.0765000581741333, 59999, 'WIPRO')\n",
            "('1996-01-11', 1.0765000581741333, 1.087499976158142, 1.065000057220459, 1.0750000476837158, 79999, 'WIPRO')\n",
            "('1996-01-12', 1.0750000476837158, 1.0750000476837158, 1.0750000476837158, 1.0750000476837158, 19999, 'WIPRO')\n"
          ]
        }
      ]
    },
    {
      "cell_type": "code",
      "source": [
        "# Generated Response4\n",
        "# This block cleans and formats the SQL query generated by the LLM for the fourth request: \"Need open, high prices for any ten Wipro records.\"\n",
        "\n",
        "format_query(response4)\n",
        "# Calls the 'format_query' function to clean and format the SQL query generated in 'response4'.\n",
        "# This will remove any extra formatting or newline characters, making the SQL query ready for execution.\n",
        "# The expected query would be something like:\n",
        "# \"SELECT open, high FROM stock_prices WHERE symbol = 'WIPRO' LIMIT 10;\"\n"
      ],
      "metadata": {
        "id": "kW6Qlftfu5Zz",
        "colab": {
          "base_uri": "https://localhost:8080/",
          "height": 35
        },
        "outputId": "2d7a86b5-8d75-4569-d37a-3453567bb420"
      },
      "execution_count": null,
      "outputs": [
        {
          "output_type": "execute_result",
          "data": {
            "text/plain": [
              "\"SELECT open, high FROM stock_prices WHERE symbol = 'WIPRO' LIMIT 10;\""
            ],
            "application/vnd.google.colaboratory.intrinsic+json": {
              "type": "string"
            }
          },
          "metadata": {},
          "execution_count": 54
        }
      ]
    },
    {
      "cell_type": "code",
      "source": [
        "# Use generated query to get data from database\n",
        "# This block executes the formatted SQL query from 'response4' to retrieve the 'open' and 'high' prices for any ten Wipro records from the database.\n",
        "\n",
        "query = format_query(response4)\n",
        "# Assigns the cleaned and formatted SQL query from 'response4' to the 'query' variable.\n",
        "\n",
        "cursor = conn.execute(query)\n",
        "# Executes the SQL query on the SQLite database using the connection object 'conn'.\n",
        "# The result of the query is stored in 'cursor', which contains the 'open' and 'high' prices for ten Wipro records.\n",
        "\n",
        "for row in cursor:\n",
        "    print(row)\n",
        "# Iterates over each row in the result set (the 'open' and 'high' prices for Wipro) and prints the data.\n",
        "# The expected output will be ten rows showing 'open' and 'high' prices for Wipro from the 'stock_prices' table.\n"
      ],
      "metadata": {
        "id": "mkzGUpdZu5Z0",
        "colab": {
          "base_uri": "https://localhost:8080/"
        },
        "outputId": "8ffcaf06-2b68-4834-888c-57880321f6c0"
      },
      "execution_count": null,
      "outputs": [
        {
          "output_type": "stream",
          "name": "stdout",
          "text": [
            "(1.125, 1.125)\n",
            "(1.037500023841858, 1.037500023841858)\n",
            "(1.0750000476837158, 1.0750000476837158)\n",
            "(1.0750000476837158, 1.0750000476837158)\n",
            "(1.0750000476837158, 1.0750000476837158)\n",
            "(1.0750000476837158, 1.0750000476837158)\n",
            "(1.0824999809265137, 1.0824999809265137)\n",
            "(1.0750000476837158, 1.0765000581741333)\n",
            "(1.0765000581741333, 1.087499976158142)\n",
            "(1.0750000476837158, 1.0750000476837158)\n"
          ]
        }
      ]
    },
    {
      "cell_type": "markdown",
      "source": [
        "# 5: Python Code generation using an LLM"
      ],
      "metadata": {
        "id": "Eq1O70dUbNvR"
      }
    },
    {
      "cell_type": "code",
      "source": [
        "from langchain_experimental.utilities import PythonREPL\n",
        "# Imports the 'PythonREPL' utility from the LangChain Experimental module, which allows execution of Python code in a REPL (Read-Eval-Print Loop) environment.\n",
        "\n",
        "python_repl = PythonREPL()\n",
        "# Creates an instance of 'PythonREPL', enabling you to execute Python commands dynamically within the notebook.\n"
      ],
      "metadata": {
        "id": "BNk7k3qHoi0e"
      },
      "execution_count": null,
      "outputs": []
    },
    {
      "cell_type": "code",
      "source": [
        "python_repl.run(\"print(1+1)\")\n",
        "# Runs a simple Python command \"print(1+1)\" in the Python REPL environment.\n",
        "# The result of this command will be printed as output, which in this case is '2'.\n",
        "# This demonstrates the use of the REPL to execute Python commands on the fly.\n"
      ],
      "metadata": {
        "id": "JA7SEH47oibZ",
        "colab": {
          "base_uri": "https://localhost:8080/",
          "height": 53
        },
        "outputId": "b34b465a-235a-4373-8345-e7de47fcc0d8"
      },
      "execution_count": null,
      "outputs": [
        {
          "output_type": "stream",
          "name": "stderr",
          "text": [
            "WARNING:langchain_experimental.utilities.python:Python REPL can execute arbitrary code. Use with caution.\n"
          ]
        },
        {
          "output_type": "execute_result",
          "data": {
            "text/plain": [
              "'2\\n'"
            ],
            "application/vnd.google.colaboratory.intrinsic+json": {
              "type": "string"
            }
          },
          "metadata": {},
          "execution_count": 57
        }
      ]
    },
    {
      "cell_type": "code",
      "source": [
        "# You can create the tool to pass to an agent\n",
        "# This block sets up a 'Tool' instance that wraps around the Python REPL, allowing agents or other components to use it for executing Python commands.\n",
        "\n",
        "from langchain_core.tools import Tool\n",
        "# Imports the 'Tool' class from LangChain's core tools module, used to create tools that can be passed to agents.\n",
        "\n",
        "repl_tool = Tool(\n",
        "    name=\"python_repl\",\n",
        "    description=\"A Python shell. Use this to execute python commands. Input should be a valid python command. If you want to see the output of a value, you should print it out with `print(...)`.\",\n",
        "    func=python_repl.run,\n",
        ")\n",
        "# Creates a 'Tool' object named 'python_repl'.\n",
        "# The 'description' provides information about how to use the tool.\n",
        "# The 'func' parameter specifies that the Python REPL function (i.e., 'python_repl.run') will be used to run commands.\n",
        "# This tool can now be passed to an agent or another system to execute Python commands dynamically.\n",
        "\n"
      ],
      "metadata": {
        "id": "02NkVukQHGmN"
      },
      "execution_count": null,
      "outputs": []
    },
    {
      "cell_type": "code",
      "source": [
        "repl_tool.run(\"print(1+1)\")\n",
        "# Uses the 'repl_tool' to run the Python command \"print(1+1)\".\n",
        "# Since 'repl_tool' wraps around the Python REPL, it executes the command and prints the result, which is '2'.\n",
        "# This shows that the tool is functioning and can be used to execute Python commands dynamically.\n"
      ],
      "metadata": {
        "id": "KoXN3Fr3HIdg",
        "colab": {
          "base_uri": "https://localhost:8080/",
          "height": 35
        },
        "outputId": "29879986-35f4-4f29-9801-0af8fc218861"
      },
      "execution_count": null,
      "outputs": [
        {
          "output_type": "execute_result",
          "data": {
            "text/plain": [
              "'2\\n'"
            ],
            "application/vnd.google.colaboratory.intrinsic+json": {
              "type": "string"
            }
          },
          "metadata": {},
          "execution_count": 59
        }
      ]
    },
    {
      "cell_type": "code",
      "source": [
        "# To plot a sine wave\n",
        "# This block uses the 'repl_tool' to run a Python script that plots a sine wave using NumPy and Matplotlib.\n",
        "\n",
        "repl_tool.run(\"\"\"\n",
        "import matplotlib.pyplot as plt\n",
        "import numpy as np\n",
        "\n",
        "x = np.linspace(0, 10, 100)\n",
        "# Generates 100 equally spaced points between 0 and 10, stored in 'x'.\n",
        "\n",
        "y = np.sin(x)\n",
        "# Calculates the sine of each value in 'x', storing the results in 'y'.\n",
        "\n",
        "plt.plot(x, y)\n",
        "# Creates a line plot of 'y' (sine values) against 'x'.\n",
        "\n",
        "plt.show()\n",
        "# Displays the plot of the sine wave.\n",
        "\"\"\")\n",
        "# The 'repl_tool' runs the entire block of code inside the triple quotes, plotting a sine wave.\n"
      ],
      "metadata": {
        "id": "isIOdwoqqMgG",
        "colab": {
          "base_uri": "https://localhost:8080/",
          "height": 448
        },
        "outputId": "bb8983e7-e600-4df3-d5be-8ac602624edd"
      },
      "execution_count": null,
      "outputs": [
        {
          "output_type": "display_data",
          "data": {
            "text/plain": [
              "<Figure size 640x480 with 1 Axes>"
            ],
            "image/png": "[encoded data removed]"
          },
          "metadata": {}
        },
        {
          "output_type": "execute_result",
          "data": {
            "text/plain": [
              "''"
            ],
            "application/vnd.google.colaboratory.intrinsic+json": {
              "type": "string"
            }
          },
          "metadata": {},
          "execution_count": 60
        }
      ]
    },
    {
      "cell_type": "code",
      "source": [
        "from langchain_openai import ChatOpenAI\n",
        "# Imports the 'ChatOpenAI' class from LangChain's OpenAI module, which allows interaction with OpenAI's language models like GPT-4.\n",
        "\n",
        "llm = ChatOpenAI(model_name=\"gpt-4o-mini\", temperature=0)\n",
        "# Creates an instance of 'ChatOpenAI' with the model set to 'gpt-4o-mini'.\n",
        "# The 'temperature=0' parameter means that the responses will be deterministic (no randomness), making the model stick to more predictable outputs.\n",
        "# This instance will be used to interact with the LLM for generating responses or performing tasks like generating SQL queries.\n"
      ],
      "metadata": {
        "id": "lwS22nXCHam3"
      },
      "execution_count": null,
      "outputs": []
    },
    {
      "cell_type": "code",
      "source": [
        "# Generate code using llm\n",
        "# This block asks the language model (LLM) to generate Python code for creating sine waves.\n",
        "\n",
        "response = llm.invoke('generate and return python code only, no additional text, a code to create sine waves')\n",
        "# The 'llm.invoke' method sends the request to the GPT-4 model, asking it to generate Python code.\n",
        "# The prompt explicitly instructs the LLM to return only Python code (without any additional explanations or comments).\n",
        "# The result will be stored in the 'response' variable, which should contain Python code to plot a sine wave.\n"
      ],
      "metadata": {
        "id": "Lqk_HhZ5Hi-U"
      },
      "execution_count": null,
      "outputs": []
    },
    {
      "cell_type": "code",
      "source": [
        "print(response.content)\n",
        "# This line prints the content of the 'response' variable, which contains the Python code generated by the LLM.\n",
        "# The 'content' attribute holds the actual output (in this case, the sine wave Python code) generated in response to the prompt.\n",
        "# By printing it, you can see the code that was created by the LLM based on the previous request.\n"
      ],
      "metadata": {
        "id": "AuQbtSSrHuAl",
        "colab": {
          "base_uri": "https://localhost:8080/"
        },
        "outputId": "82ef7866-ddd7-403c-96be-f642dbc4aaa8"
      },
      "execution_count": null,
      "outputs": [
        {
          "output_type": "stream",
          "name": "stdout",
          "text": [
            "```python\n",
            "import numpy as np\n",
            "import matplotlib.pyplot as plt\n",
            "\n",
            "# Parameters\n",
            "frequency = 1  # Frequency in Hz\n",
            "amplitude = 1  # Amplitude\n",
            "duration = 2   # Duration in seconds\n",
            "sampling_rate = 1000  # Samples per second\n",
            "\n",
            "# Time array\n",
            "t = np.linspace(0, duration, int(sampling_rate * duration), endpoint=False)\n",
            "\n",
            "# Sine wave\n",
            "sine_wave = amplitude * np.sin(2 * np.pi * frequency * t)\n",
            "\n",
            "# Plotting\n",
            "plt.figure(figsize=(10, 4))\n",
            "plt.plot(t, sine_wave)\n",
            "plt.title('Sine Wave')\n",
            "plt.xlabel('Time [s]')\n",
            "plt.ylabel('Amplitude')\n",
            "plt.grid()\n",
            "plt.show()\n",
            "```\n"
          ]
        }
      ]
    },
    {
      "cell_type": "code",
      "source": [
        "# Execute the generated code\n",
        "# This block takes the Python code generated by the LLM and executes it using the 'repl_tool'.\n",
        "\n",
        "repl_tool.run(response.content)\n",
        "# The 'repl_tool.run()' method is used to execute the content of the 'response', which contains the Python code generated earlier by the LLM.\n",
        "# Since the response is expected to be code for creating a sine wave, this command will run that code and generate a plot.\n"
      ],
      "metadata": {
        "id": "FFOctja5HxiA",
        "colab": {
          "base_uri": "https://localhost:8080/",
          "height": 428
        },
        "outputId": "a66f3ec2-cb5b-462b-f277-dfc7f2ac1d97"
      },
      "execution_count": null,
      "outputs": [
        {
          "output_type": "display_data",
          "data": {
            "text/plain": [
              "<Figure size 1000x400 with 1 Axes>"
            ],
            "image/png": "[encoded data removed]"
          },
          "metadata": {}
        },
        {
          "output_type": "execute_result",
          "data": {
            "text/plain": [
              "''"
            ],
            "application/vnd.google.colaboratory.intrinsic+json": {
              "type": "string"
            }
          },
          "metadata": {},
          "execution_count": 64
        }
      ]
    },
    {
      "cell_type": "markdown",
      "source": [
        "### **Create another Chain for Code Generation** for Stock Prices"
      ],
      "metadata": {
        "id": "acRLwfZ42z16"
      }
    },
    {
      "cell_type": "code",
      "source": [
        "# Build prompt to use the user_request, generated_sql_query, and extracted_data to generate Python code for insights\n",
        "# This block sets up a template that combines user requests, SQL queries, and data to generate Python code for further insights.\n",
        "\n",
        "template2 = \"\"\"Use the following pieces of user request and sql query to generate python code to show insights related to the data given at the end.\n",
        "Generate and return python code only, no additional text.\n",
        "If you don't know the answer, just say that you don't know, don't try to make up an answer.\n",
        "Request: {request}\n",
        "Sql query: {sql_query}\n",
        "Data: {data}\n",
        "Generate code:\"\"\"\n",
        "# This is a template for the prompt that will be sent to the LLM.\n",
        "# The placeholders {request}, {sql_query}, and {data} will be filled with actual values when the prompt is used.\n",
        "# The goal of this prompt is to instruct the LLM to generate Python code that provides insights based on the user's request, the generated SQL query, and the extracted data.\n",
        "\n",
        "PROMPT2 = PromptTemplate(input_variables=[\"request\", \"sql_query\", \"data\"], template=template2)\n",
        "# This line creates an instance of the 'PromptTemplate' class with the placeholders: \"request\", \"sql_query\", and \"data\".\n",
        "# 'PROMPT2' will be used to dynamically generate the final prompt that is sent to the LLM.\n"
      ],
      "metadata": {
        "id": "nIyUjCcUrNRI"
      },
      "execution_count": null,
      "outputs": []
    },
    {
      "cell_type": "code",
      "source": [
        "# Code Generation Chain\n",
        "# This block defines the process (or chain) to generate Python code for insights using the LLM.\n",
        "\n",
        "chain2 = (PROMPT2\n",
        "          | llm\n",
        "          | StrOutputParser()\n",
        "          )\n",
        "# This creates a chain that connects the prompt (PROMPT2), the LLM (llm), and a string output parser (StrOutputParser).\n",
        "# The chain works sequentially:\n",
        "# 1. PROMPT2 prepares the prompt with the user request, SQL query, and data.\n",
        "# 2. The prompt is passed to the LLM (GPT-4), which generates Python code.\n",
        "# 3. The 'StrOutputParser()' formats the output to make it easier to use.\n",
        "# This chain is now ready to generate Python code based on the user's request and the corresponding data.\n"
      ],
      "metadata": {
        "id": "0DXTKt-KrNRJ"
      },
      "execution_count": null,
      "outputs": []
    },
    {
      "cell_type": "markdown",
      "source": [
        "### **First, Generate SQL Query for a user request**"
      ],
      "metadata": {
        "id": "_JGMrTMorNRK"
      }
    },
    {
      "cell_type": "code",
      "source": [
        "# Generate SQL query\n",
        "# This block uses the LLM to generate an SQL query based on the user's request and the context (table schema).\n",
        "\n",
        "user_request = \"Need insights on the trend present in any 50 Wipro records\"\n",
        "# The user's natural language request asking for insights on trends in Wipro stock data.\n",
        "\n",
        "generated_query = chain.invoke({\"request\": user_request,\n",
        "                                \"context\": table_info})\n",
        "# The 'chain.invoke()' method uses the prompt and context to generate an SQL query.\n",
        "# 'request' is the user's query and 'context' contains the table schema (as defined earlier in 'table_info').\n",
        "# The result is stored in 'generated_query', which should contain a valid SQL query to retrieve the data from the database.\n"
      ],
      "metadata": {
        "id": "3uFHfmPrz5V0",
        "colab": {
          "base_uri": "https://localhost:8080/",
          "height": 35
        },
        "outputId": "a78375db-6901-4b03-e9bc-f46dc7c60832"
      },
      "execution_count": null,
      "outputs": [
        {
          "output_type": "execute_result",
          "data": {
            "text/plain": [
              "\"```sql\\nSELECT date, open, high, low, close, volume \\nFROM stock_prices \\nWHERE symbol = 'WIPRO' \\nLIMIT 50;\\n```\""
            ],
            "application/vnd.google.colaboratory.intrinsic+json": {
              "type": "string"
            }
          },
          "metadata": {},
          "execution_count": 67
        }
      ]
    },
    {
      "cell_type": "code",
      "source": [
        "format_query(generated_query)format_query(generated_query)\n",
        "# This calls the 'format_query' function (defined earlier) to clean and format the SQL query generated by the LLM.\n",
        "# It removes any unnecessary elements like markdown formatting (```sql) and extra newlines.\n",
        "# The result is a well-formatted SQL query that can be executed on the database.\n"
      ],
      "metadata": {
        "id": "qV-_WCPRx5z_",
        "colab": {
          "base_uri": "https://localhost:8080/",
          "height": 35
        },
        "outputId": "d6a6f116-dffa-451f-f9f2-2242d15385b3"
      },
      "execution_count": null,
      "outputs": [
        {
          "output_type": "execute_result",
          "data": {
            "text/plain": [
              "\"SELECT date, open, high, low, close, volume FROM stock_prices WHERE symbol = 'WIPRO' LIMIT 50;\""
            ],
            "application/vnd.google.colaboratory.intrinsic+json": {
              "type": "string"
            }
          },
          "metadata": {},
          "execution_count": 68
        }
      ]
    },
    {
      "cell_type": "markdown",
      "source": [
        "### **Second, Extract Data from DB for the user request**"
      ],
      "metadata": {
        "id": "9hNILD6o5Egg"
      }
    },
    {
      "cell_type": "code",
      "source": [
        "# Use generated query to get data from the database\n",
        "\n",
        "query = format_query(generated_query)\n",
        "# Formats the generated SQL query for execution using the 'format_query' function.\n",
        "\n",
        "cursor = conn.execute(query)\n",
        "# Executes the formatted SQL query on the SQLite database using the 'conn' connection object.\n",
        "# The result of the query is stored in the 'cursor', which allows row-by-row access to the query results.\n",
        "\n",
        "extracted_data = []\n",
        "# Initializes an empty list to store the data retrieved from the database.\n",
        "\n",
        "for row in cursor:\n",
        "    extracted_data.append(row)\n",
        "# Iterates over each row returned by the cursor and appends it to the 'extracted_data' list.\n",
        "# This effectively stores all the data from the query results into the list for further analysis.\n"
      ],
      "metadata": {
        "id": "AQxRCioTsTZf"
      },
      "execution_count": null,
      "outputs": []
    },
    {
      "cell_type": "code",
      "source": [
        "extracted_data[:2]\n",
        "# This line retrieves and displays the first two rows from the 'extracted_data' list.\n",
        "# It's a quick way to check if the query retrieved the expected data and view a sample of the output.\n"
      ],
      "metadata": {
        "id": "x1QfJNbky7__",
        "colab": {
          "base_uri": "https://localhost:8080/"
        },
        "outputId": "42da9024-4ced-4617-aa33-5486c0e8bfa3"
      },
      "execution_count": null,
      "outputs": [
        {
          "output_type": "execute_result",
          "data": {
            "text/plain": [
              "[('1996-01-01', 1.125, 1.125, 1.125, 1.125, 19999),\n",
              " ('1996-01-02',\n",
              "  1.037500023841858,\n",
              "  1.037500023841858,\n",
              "  1.037500023841858,\n",
              "  1.037500023841858,\n",
              "  39999)]"
            ]
          },
          "metadata": {},
          "execution_count": 70
        }
      ]
    },
    {
      "cell_type": "markdown",
      "source": [
        "### **Third, Generate Code for the user request**"
      ],
      "metadata": {
        "id": "D6fDq1FV5gAe"
      }
    },
    {
      "cell_type": "code",
      "source": [
        "# Generate code\n",
        "\n",
        "response1A = chain2.invoke({\"request\": user_request,\n",
        "                            \"sql_query\": generated_query,\n",
        "                            \"data\": extracted_data\n",
        "                            })\n",
        "# This line uses the 'chain2' (the code generation chain) to generate Python code.\n",
        "# The 'invoke' method sends a request to the LLM that includes:\n",
        "# 1. 'user_request': The user's original query for insights (e.g., trends in Wipro records).\n",
        "# 2. 'sql_query': The SQL query generated earlier that retrieves relevant data from the database.\n",
        "# 3. 'data': The extracted data retrieved from the database using the generated SQL query.\n",
        "# The LLM will use this information to generate Python code for performing further analysis or insights based on the data.\n",
        "# The generated Python code is stored in 'response1A'.\n"
      ],
      "metadata": {
        "id": "nQs7UsD1xQk2"
      },
      "execution_count": null,
      "outputs": []
    },
    {
      "cell_type": "code",
      "source": [
        "# See the Generated code\n",
        "\n",
        "print(response1A)\n",
        "# This line prints the content of 'response1A', which contains the Python code generated by the LLM.\n",
        "# It allows you to inspect the code that was generated based on the user request, SQL query, and data.\n"
      ],
      "metadata": {
        "id": "z0Tq26wLtFP7",
        "colab": {
          "base_uri": "https://localhost:8080/"
        },
        "outputId": "028080f7-7fe8-434f-e6e6-71ecd93378f3"
      },
      "execution_count": null,
      "outputs": [
        {
          "output_type": "stream",
          "name": "stdout",
          "text": [
            "```python\n",
            "import pandas as pd\n",
            "import matplotlib.pyplot as plt\n",
            "\n",
            "# Data from SQL query\n",
            "data = [\n",
            "    ('1996-01-01', 1.125, 1.125, 1.125, 1.125, 19999),\n",
            "    ('1996-01-02', 1.037500023841858, 1.037500023841858, 1.037500023841858, 1.037500023841858, 39999),\n",
            "    ('1996-01-03', 1.0750000476837158, 1.0750000476837158, 1.0750000476837158, 1.0750000476837158, 19999),\n",
            "    ('1996-01-04', 1.0750000476837158, 1.0750000476837158, 1.0750000476837158, 1.0750000476837158, 119999),\n",
            "    ('1996-01-05', 1.0750000476837158, 1.0750000476837158, 1.0750000476837158, 1.0750000476837158, 0),\n",
            "    ('1996-01-08', 1.0750000476837158, 1.0750000476837158, 1.0750000476837158, 1.0750000476837158, 0),\n",
            "    ('1996-01-09', 1.0824999809265137, 1.0824999809265137, 1.0750000476837158, 1.0750000476837158, 39999),\n",
            "    ('1996-01-10', 1.0750000476837158, 1.0765000581741333, 1.0750000476837158, 1.0765000581741333, 59999),\n",
            "    ('1996-01-11', 1.0765000581741333, 1.087499976158142, 1.065000057220459, 1.0750000476837158, 79999),\n",
            "    ('1996-01-12', 1.0750000476837158, 1.0750000476837158, 1.0750000476837158, 1.0750000476837158, 19999),\n",
            "    ('1996-01-15', 1.0750000476837158, 1.0750000476837158, 1.0750000476837158, 1.0750000476837158, 0),\n",
            "    ('1996-01-16', 1.0499999523162842, 1.0499999523162842, 1.0499999523162842, 1.0499999523162842, 19999),\n",
            "    ('1996-01-17', 1.0499999523162842, 1.0499999523162842, 1.0499999523162842, 1.0499999523162842, 0),\n",
            "    ('1996-01-18', 1.0499999523162842, 1.0700000524520874, 1.0700000524520874, 1.0700000524520874, 19999),\n",
            "    ('1996-01-19', 1.0549999475479126, 1.0549999475479126, 1.0499999523162842, 1.0499999523162842, 39999),\n",
            "    ('1996-01-22', 1.0301250219345093, 1.0700000524520874, 1.0301250219345093, 1.0700000524520874, 99999),\n",
            "    ('1996-01-23', 1.0700000524520874, 1.0499999523162842, 1.0499999523162842, 1.0499999523162842, 79999),\n",
            "    ('1996-01-24', 1.0475000143051147, 1.0499999523162842, 1.0475000143051147, 1.0499999523162842, 39999),\n",
            "    ('1996-01-25', 1.0487500429153442, 1.0512499809265137, 1.037500023841858, 1.0499999523162842, 619999),\n",
            "    ('1996-01-26', 1.0499999523162842, 1.0499999523162842, 1.0499999523162842, 1.0499999523162842, 0),\n",
            "    ('1996-01-29', 1.037500023841858, 1.0512499809265137, 1.037500023841858, 1.0499999523162842, 439999),\n",
            "    ('1996-01-30', 1.0499999523162842, 1.049875020980835, 1.0001250505447388, 1.0413750410079956, 119999),\n",
            "    ('1996-01-31', 1.0413750410079956, 1.0413750410079956, 1.0413750410079956, 1.0413750410079956, 0),\n",
            "    ('1996-02-01', 1.0413750410079956, 1.0413750410079956, 1.0413750410079956, 1.0413750410079956, 0),\n",
            "    ('1996-02-02', 1.0625, 1.0750000476837158, 1.0625, 1.0750000476837158, 39999),\n",
            "    ('1996-02-05', 1.0750000476837158, 1.0750000476837158, 1.0750000476837158, 1.0750000476837158, 0),\n",
            "    ('1996-02-06', 1.0499999523162842, 1.0499999523162842, 1.0499999523162842, 1.0499999523162842, 79999),\n",
            "    ('1996-02-07', 1.0499999523162842, 1.0499999523162842, 1.0499999523162842, 1.0499999523162842, 0),\n",
            "    ('1996-02-08', 1.0499999523162842, 1.0499999523162842, 1.0499999523162842, 1.0499999523162842, 0),\n",
            "    ('1996-02-09', 1.0499999523162842, 1.0499999523162842, 1.0499999523162842, 1.0499999523162842, 0),\n",
            "    ('1996-02-12', 1.0747499465942383, 1.0747499465942383, 1.0747499465942383, 1.0747499465942383, 39999),\n",
            "    ('1996-02-13', 1.0747499465942383, 1.0747499465942383, 1.0747499465942383, 1.0747499465942383, 0),\n",
            "    ('1996-02-14', 1.0747499465942383, 1.0747499465942383, 1.0747499465942383, 1.0747499465942383, 0),\n",
            "    ('1996-02-15', 1.0747499465942383, 1.0747499465942383, 1.0747499465942383, 1.0747499465942383, 0),\n",
            "    ('1996-02-16', 1.125, 1.125, 1.125, 1.125, 59999),\n",
            "    ('1996-02-19', 1.125, 1.125, 1.125, 1.125, 0),\n",
            "    ('1996-02-20', 1.125, 1.125, 1.125, 1.125, 0),\n",
            "    ('1996-02-21', 1.125, 1.125, 1.125, 1.125, 0),\n",
            "    ('1996-02-22', 1.125, 1.125, 1.125, 1.125, 0),\n",
            "    ('1996-02-23', 1.125, 1.125, 1.125, 1.125, 0),\n",
            "    ('1996-02-26', 1.125, 1.125, 1.125, 1.125, 19999),\n",
            "    ('1996-02-27', 1.100000023841858, 1.100000023841858, 1.087499976158142, 1.087499976158142, 39999),\n",
            "    ('1996-02-28', 1.1001249551773071, 1.125, 1.1001249551773071, 1.125, 79999),\n",
            "    ('1996-02-29', 1.125, 1.125, 1.125, 1.125, 0),\n",
            "    ('1996-03-01', 1.125, 1.125, 1.125, 1.125, 19999),\n",
            "    ('1996-03-04', 1.100000023841858, 1.125, 1.100000023841858, 1.125, 39999),\n",
            "    ('1996-03-05', 1.125, 1.125, 1.125, 1.125, 0),\n",
            "    ('1996-03-06', 1.125, 1.125, 1.125, 1.125, 0),\n",
            "    ('1996-03-07', 1.125, 1.125, 1.125, 1.125, 0),\n",
            "    ('1996-03-08', 1.1124999523162842, 1.125, 1.1124999523162842, 1.118749976158142, 39999)\n",
            "]\n",
            "\n",
            "# Create a DataFrame\n",
            "df = pd.DataFrame(data, columns=['date', 'open', 'high', 'low', 'close', 'volume'])\n",
            "\n",
            "# Convert date column to datetime\n",
            "df['date'] = pd.to_datetime(df['date'])\n",
            "\n",
            "# Set date as index\n",
            "df.set_index('date', inplace=True)\n",
            "\n",
            "# Plotting the closing prices\n",
            "plt.figure(figsize=(14, 7))\n",
            "plt.plot(df.index, df['close'], marker='o', linestyle='-', color='b', label='Close Price')\n",
            "plt.title('Wipro Stock Closing Prices Trend')\n",
            "plt.xlabel('Date')\n",
            "plt.ylabel('Closing Price')\n",
            "plt.xticks(rotation=45)\n",
            "plt.grid()\n",
            "plt.legend()\n",
            "plt.tight_layout()\n",
            "plt.show()\n",
            "\n",
            "# Calculate and print basic statistics\n",
            "print(\"Basic Statistics:\")\n",
            "print(df.describe())\n",
            "```\n"
          ]
        }
      ]
    },
    {
      "cell_type": "markdown",
      "source": [
        "### **At last, Execute the generated Code for the user request**"
      ],
      "metadata": {
        "id": "JdFU__sE7bds"
      }
    },
    {
      "cell_type": "code",
      "source": [
        "# Execute the generated code\n",
        "\n",
        "print(repl_tool.run(response1A))\n",
        "# This line executes the Python code that was generated by the LLM using the 'repl_tool'.\n",
        "# The 'repl_tool.run()' method runs the generated code and 'print()' is used to display the output of that execution.\n",
        "# The result of the code execution (e.g., insights, visualizations) will be printed in the notebook.\n"
      ],
      "metadata": {
        "id": "Ba0gTG8e1KDn",
        "colab": {
          "base_uri": "https://localhost:8080/",
          "height": 818
        },
        "outputId": "e2cb5d0c-89f9-45ae-ccb5-70e75d39e0a7"
      },
      "execution_count": null,
      "outputs": [
        {
          "output_type": "display_data",
          "data": {
            "text/plain": [
              "<Figure size 1400x700 with 1 Axes>"
            ],
            "image/png": "[encoded data removed]"
          },
          "metadata": {}
        },
        {
          "output_type": "stream",
          "name": "stdout",
          "text": [
            "Basic Statistics:\n",
            "            open       high        low      close         volume\n",
            "count  50.000000  50.000000  50.000000  50.000000      50.000000\n",
            "mean    1.080345   1.083262   1.078393   1.082167   46799.460000\n",
            "std     0.031673   0.031600   0.033657   0.031736  106645.115009\n",
            "min     1.030125   1.037500   1.000125   1.037500       0.000000\n",
            "25%     1.050000   1.050312   1.050000   1.050000       0.000000\n",
            "50%     1.075000   1.075000   1.075000   1.075000   19999.000000\n",
            "75%     1.121875   1.125000   1.121875   1.125000   39999.000000\n",
            "max     1.125000   1.125000   1.125000   1.125000  619999.000000\n",
            "\n"
          ]
        }
      ]
    },
    {
      "cell_type": "code",
      "source": [
        "## Once done, close the connection to DB:\n",
        "\n",
        "conn.close()\n",
        "# This line closes the connection to the SQLite database.\n",
        "# It's important to close the connection once all operations (queries, inserts) are done to release any resources being used by the database connection.\n"
      ],
      "metadata": {
        "id": "A13FLF5P1J4q"
      },
      "execution_count": null,
      "outputs": []
    }
  ]
}