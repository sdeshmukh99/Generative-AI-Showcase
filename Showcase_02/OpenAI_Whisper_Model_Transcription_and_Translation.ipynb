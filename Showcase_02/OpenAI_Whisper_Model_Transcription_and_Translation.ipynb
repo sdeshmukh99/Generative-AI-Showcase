{
  "nbformat": 4,
  "nbformat_minor": 0,
  "metadata": {
    "colab": {
      "provenance": [],
      "collapsed_sections": [
        "fK-4aePu895m",
        "3M6eBekg9GAQ",
        "wIfnhT1iRNXQ",
        "Bqw7Dwc0SlrF",
        "8J1AbG7tS_P0",
        "ZXDmvjSjTCt6"
      ],
      "toc_visible": true,
      "authorship_tag": "ABX9TyPE338vDmYHsfgxU5tHpHKv",
      "include_colab_link": true
    },
    "kernelspec": {
      "name": "python3",
      "display_name": "Python 3"
    },
    "language_info": {
      "name": "python"
    },
    "widgets": {
      "application/vnd.jupyter.widget-state+json": {
        "fc45155abcf34809810888556a741092": {
          "model_module": "@jupyter-widgets/controls",
          "model_name": "HBoxModel",
          "model_module_version": "1.5.0",
          "state": {
            "_dom_classes": [],
            "_model_module": "@jupyter-widgets/controls",
            "_model_module_version": "1.5.0",
            "_model_name": "HBoxModel",
            "_view_count": null,
            "_view_module": "@jupyter-widgets/controls",
            "_view_module_version": "1.5.0",
            "_view_name": "HBoxView",
            "box_style": "",
            "children": [
              "IPY_MODEL_a626f0c04fc44496bafccb6eca8ccc1c",
              "IPY_MODEL_575231bbb78649aeada9e86a94a14be7",
              "IPY_MODEL_3e2fa19de10942c6a607a9d2a26d6aa0"
            ],
            "layout": "IPY_MODEL_21ead8907a5b4326a04d2ca88fc51b19"
          }
        },
        "a626f0c04fc44496bafccb6eca8ccc1c": {
          "model_module": "@jupyter-widgets/controls",
          "model_name": "HTMLModel",
          "model_module_version": "1.5.0",
          "state": {
            "_dom_classes": [],
            "_model_module": "@jupyter-widgets/controls",
            "_model_module_version": "1.5.0",
            "_model_name": "HTMLModel",
            "_view_count": null,
            "_view_module": "@jupyter-widgets/controls",
            "_view_module_version": "1.5.0",
            "_view_name": "HTMLView",
            "description": "",
            "description_tooltip": null,
            "layout": "IPY_MODEL_660f58fef10642f380bd126c207e5366",
            "placeholder": "​",
            "style": "IPY_MODEL_226e5b83bff64c819c03c321cb52f5a3",
            "value": "config.yaml: 100%"
          }
        },
        "575231bbb78649aeada9e86a94a14be7": {
          "model_module": "@jupyter-widgets/controls",
          "model_name": "FloatProgressModel",
          "model_module_version": "1.5.0",
          "state": {
            "_dom_classes": [],
            "_model_module": "@jupyter-widgets/controls",
            "_model_module_version": "1.5.0",
            "_model_name": "FloatProgressModel",
            "_view_count": null,
            "_view_module": "@jupyter-widgets/controls",
            "_view_module_version": "1.5.0",
            "_view_name": "ProgressView",
            "bar_style": "success",
            "description": "",
            "description_tooltip": null,
            "layout": "IPY_MODEL_9f7708c608f944e5881beca698c6a0db",
            "max": 500,
            "min": 0,
            "orientation": "horizontal",
            "style": "IPY_MODEL_504cb94606d94034b9309acc6fc08026",
            "value": 500
          }
        },
        "3e2fa19de10942c6a607a9d2a26d6aa0": {
          "model_module": "@jupyter-widgets/controls",
          "model_name": "HTMLModel",
          "model_module_version": "1.5.0",
          "state": {
            "_dom_classes": [],
            "_model_module": "@jupyter-widgets/controls",
            "_model_module_version": "1.5.0",
            "_model_name": "HTMLModel",
            "_view_count": null,
            "_view_module": "@jupyter-widgets/controls",
            "_view_module_version": "1.5.0",
            "_view_name": "HTMLView",
            "description": "",
            "description_tooltip": null,
            "layout": "IPY_MODEL_9bb38596aab14a59ae7fafd20a51fa99",
            "placeholder": "​",
            "style": "IPY_MODEL_3418e64fca724b1f91aafd37c1b8cea7",
            "value": " 500/500 [00:00&lt;00:00, 29.6kB/s]"
          }
        },
        "21ead8907a5b4326a04d2ca88fc51b19": {
          "model_module": "@jupyter-widgets/base",
          "model_name": "LayoutModel",
          "model_module_version": "1.2.0",
          "state": {
            "_model_module": "@jupyter-widgets/base",
            "_model_module_version": "1.2.0",
            "_model_name": "LayoutModel",
            "_view_count": null,
            "_view_module": "@jupyter-widgets/base",
            "_view_module_version": "1.2.0",
            "_view_name": "LayoutView",
            "align_content": null,
            "align_items": null,
            "align_self": null,
            "border": null,
            "bottom": null,
            "display": null,
            "flex": null,
            "flex_flow": null,
            "grid_area": null,
            "grid_auto_columns": null,
            "grid_auto_flow": null,
            "grid_auto_rows": null,
            "grid_column": null,
            "grid_gap": null,
            "grid_row": null,
            "grid_template_areas": null,
            "grid_template_columns": null,
            "grid_template_rows": null,
            "height": null,
            "justify_content": null,
            "justify_items": null,
            "left": null,
            "margin": null,
            "max_height": null,
            "max_width": null,
            "min_height": null,
            "min_width": null,
            "object_fit": null,
            "object_position": null,
            "order": null,
            "overflow": null,
            "overflow_x": null,
            "overflow_y": null,
            "padding": null,
            "right": null,
            "top": null,
            "visibility": null,
            "width": null
          }
        },
        "660f58fef10642f380bd126c207e5366": {
          "model_module": "@jupyter-widgets/base",
          "model_name": "LayoutModel",
          "model_module_version": "1.2.0",
          "state": {
            "_model_module": "@jupyter-widgets/base",
            "_model_module_version": "1.2.0",
            "_model_name": "LayoutModel",
            "_view_count": null,
            "_view_module": "@jupyter-widgets/base",
            "_view_module_version": "1.2.0",
            "_view_name": "LayoutView",
            "align_content": null,
            "align_items": null,
            "align_self": null,
            "border": null,
            "bottom": null,
            "display": null,
            "flex": null,
            "flex_flow": null,
            "grid_area": null,
            "grid_auto_columns": null,
            "grid_auto_flow": null,
            "grid_auto_rows": null,
            "grid_column": null,
            "grid_gap": null,
            "grid_row": null,
            "grid_template_areas": null,
            "grid_template_columns": null,
            "grid_template_rows": null,
            "height": null,
            "justify_content": null,
            "justify_items": null,
            "left": null,
            "margin": null,
            "max_height": null,
            "max_width": null,
            "min_height": null,
            "min_width": null,
            "object_fit": null,
            "object_position": null,
            "order": null,
            "overflow": null,
            "overflow_x": null,
            "overflow_y": null,
            "padding": null,
            "right": null,
            "top": null,
            "visibility": null,
            "width": null
          }
        },
        "226e5b83bff64c819c03c321cb52f5a3": {
          "model_module": "@jupyter-widgets/controls",
          "model_name": "DescriptionStyleModel",
          "model_module_version": "1.5.0",
          "state": {
            "_model_module": "@jupyter-widgets/controls",
            "_model_module_version": "1.5.0",
            "_model_name": "DescriptionStyleModel",
            "_view_count": null,
            "_view_module": "@jupyter-widgets/base",
            "_view_module_version": "1.2.0",
            "_view_name": "StyleView",
            "description_width": ""
          }
        },
        "9f7708c608f944e5881beca698c6a0db": {
          "model_module": "@jupyter-widgets/base",
          "model_name": "LayoutModel",
          "model_module_version": "1.2.0",
          "state": {
            "_model_module": "@jupyter-widgets/base",
            "_model_module_version": "1.2.0",
            "_model_name": "LayoutModel",
            "_view_count": null,
            "_view_module": "@jupyter-widgets/base",
            "_view_module_version": "1.2.0",
            "_view_name": "LayoutView",
            "align_content": null,
            "align_items": null,
            "align_self": null,
            "border": null,
            "bottom": null,
            "display": null,
            "flex": null,
            "flex_flow": null,
            "grid_area": null,
            "grid_auto_columns": null,
            "grid_auto_flow": null,
            "grid_auto_rows": null,
            "grid_column": null,
            "grid_gap": null,
            "grid_row": null,
            "grid_template_areas": null,
            "grid_template_columns": null,
            "grid_template_rows": null,
            "height": null,
            "justify_content": null,
            "justify_items": null,
            "left": null,
            "margin": null,
            "max_height": null,
            "max_width": null,
            "min_height": null,
            "min_width": null,
            "object_fit": null,
            "object_position": null,
            "order": null,
            "overflow": null,
            "overflow_x": null,
            "overflow_y": null,
            "padding": null,
            "right": null,
            "top": null,
            "visibility": null,
            "width": null
          }
        },
        "504cb94606d94034b9309acc6fc08026": {
          "model_module": "@jupyter-widgets/controls",
          "model_name": "ProgressStyleModel",
          "model_module_version": "1.5.0",
          "state": {
            "_model_module": "@jupyter-widgets/controls",
            "_model_module_version": "1.5.0",
            "_model_name": "ProgressStyleModel",
            "_view_count": null,
            "_view_module": "@jupyter-widgets/base",
            "_view_module_version": "1.2.0",
            "_view_name": "StyleView",
            "bar_color": null,
            "description_width": ""
          }
        },
        "9bb38596aab14a59ae7fafd20a51fa99": {
          "model_module": "@jupyter-widgets/base",
          "model_name": "LayoutModel",
          "model_module_version": "1.2.0",
          "state": {
            "_model_module": "@jupyter-widgets/base",
            "_model_module_version": "1.2.0",
            "_model_name": "LayoutModel",
            "_view_count": null,
            "_view_module": "@jupyter-widgets/base",
            "_view_module_version": "1.2.0",
            "_view_name": "LayoutView",
            "align_content": null,
            "align_items": null,
            "align_self": null,
            "border": null,
            "bottom": null,
            "display": null,
            "flex": null,
            "flex_flow": null,
            "grid_area": null,
            "grid_auto_columns": null,
            "grid_auto_flow": null,
            "grid_auto_rows": null,
            "grid_column": null,
            "grid_gap": null,
            "grid_row": null,
            "grid_template_areas": null,
            "grid_template_columns": null,
            "grid_template_rows": null,
            "height": null,
            "justify_content": null,
            "justify_items": null,
            "left": null,
            "margin": null,
            "max_height": null,
            "max_width": null,
            "min_height": null,
            "min_width": null,
            "object_fit": null,
            "object_position": null,
            "order": null,
            "overflow": null,
            "overflow_x": null,
            "overflow_y": null,
            "padding": null,
            "right": null,
            "top": null,
            "visibility": null,
            "width": null
          }
        },
        "3418e64fca724b1f91aafd37c1b8cea7": {
          "model_module": "@jupyter-widgets/controls",
          "model_name": "DescriptionStyleModel",
          "model_module_version": "1.5.0",
          "state": {
            "_model_module": "@jupyter-widgets/controls",
            "_model_module_version": "1.5.0",
            "_model_name": "DescriptionStyleModel",
            "_view_count": null,
            "_view_module": "@jupyter-widgets/base",
            "_view_module_version": "1.2.0",
            "_view_name": "StyleView",
            "description_width": ""
          }
        },
        "f34292b41b8c4477945809ab667801b1": {
          "model_module": "@jupyter-widgets/controls",
          "model_name": "HBoxModel",
          "model_module_version": "1.5.0",
          "state": {
            "_dom_classes": [],
            "_model_module": "@jupyter-widgets/controls",
            "_model_module_version": "1.5.0",
            "_model_name": "HBoxModel",
            "_view_count": null,
            "_view_module": "@jupyter-widgets/controls",
            "_view_module_version": "1.5.0",
            "_view_name": "HBoxView",
            "box_style": "",
            "children": [
              "IPY_MODEL_8d2073d5e3e04db78856b491a4c30ec7",
              "IPY_MODEL_2e0c1c8c0c884cef895577ca6d63d5cf",
              "IPY_MODEL_99fa30dee0344c1ba0038b7d02e23f0b"
            ],
            "layout": "IPY_MODEL_4704c9bc1cf048359e2ccb7b5014cf0b"
          }
        },
        "8d2073d5e3e04db78856b491a4c30ec7": {
          "model_module": "@jupyter-widgets/controls",
          "model_name": "HTMLModel",
          "model_module_version": "1.5.0",
          "state": {
            "_dom_classes": [],
            "_model_module": "@jupyter-widgets/controls",
            "_model_module_version": "1.5.0",
            "_model_name": "HTMLModel",
            "_view_count": null,
            "_view_module": "@jupyter-widgets/controls",
            "_view_module_version": "1.5.0",
            "_view_name": "HTMLView",
            "description": "",
            "description_tooltip": null,
            "layout": "IPY_MODEL_e9aa4c62dc8a41ba8c77295c690453ff",
            "placeholder": "​",
            "style": "IPY_MODEL_853735cea4074893ae32d8248199073b",
            "value": "pytorch_model.bin: 100%"
          }
        },
        "2e0c1c8c0c884cef895577ca6d63d5cf": {
          "model_module": "@jupyter-widgets/controls",
          "model_name": "FloatProgressModel",
          "model_module_version": "1.5.0",
          "state": {
            "_dom_classes": [],
            "_model_module": "@jupyter-widgets/controls",
            "_model_module_version": "1.5.0",
            "_model_name": "FloatProgressModel",
            "_view_count": null,
            "_view_module": "@jupyter-widgets/controls",
            "_view_module_version": "1.5.0",
            "_view_name": "ProgressView",
            "bar_style": "success",
            "description": "",
            "description_tooltip": null,
            "layout": "IPY_MODEL_05983bec7fae407dab9a7dfca7978ef7",
            "max": 17719103,
            "min": 0,
            "orientation": "horizontal",
            "style": "IPY_MODEL_37fabf718b30430486fd97be13d51843",
            "value": 17719103
          }
        },
        "99fa30dee0344c1ba0038b7d02e23f0b": {
          "model_module": "@jupyter-widgets/controls",
          "model_name": "HTMLModel",
          "model_module_version": "1.5.0",
          "state": {
            "_dom_classes": [],
            "_model_module": "@jupyter-widgets/controls",
            "_model_module_version": "1.5.0",
            "_model_name": "HTMLModel",
            "_view_count": null,
            "_view_module": "@jupyter-widgets/controls",
            "_view_module_version": "1.5.0",
            "_view_name": "HTMLView",
            "description": "",
            "description_tooltip": null,
            "layout": "IPY_MODEL_7850ea1c13f349a886c4c17039708928",
            "placeholder": "​",
            "style": "IPY_MODEL_1ec09fd4ed1f4160bbba4788ac36a83e",
            "value": " 17.7M/17.7M [00:00&lt;00:00, 35.4MB/s]"
          }
        },
        "4704c9bc1cf048359e2ccb7b5014cf0b": {
          "model_module": "@jupyter-widgets/base",
          "model_name": "LayoutModel",
          "model_module_version": "1.2.0",
          "state": {
            "_model_module": "@jupyter-widgets/base",
            "_model_module_version": "1.2.0",
            "_model_name": "LayoutModel",
            "_view_count": null,
            "_view_module": "@jupyter-widgets/base",
            "_view_module_version": "1.2.0",
            "_view_name": "LayoutView",
            "align_content": null,
            "align_items": null,
            "align_self": null,
            "border": null,
            "bottom": null,
            "display": null,
            "flex": null,
            "flex_flow": null,
            "grid_area": null,
            "grid_auto_columns": null,
            "grid_auto_flow": null,
            "grid_auto_rows": null,
            "grid_column": null,
            "grid_gap": null,
            "grid_row": null,
            "grid_template_areas": null,
            "grid_template_columns": null,
            "grid_template_rows": null,
            "height": null,
            "justify_content": null,
            "justify_items": null,
            "left": null,
            "margin": null,
            "max_height": null,
            "max_width": null,
            "min_height": null,
            "min_width": null,
            "object_fit": null,
            "object_position": null,
            "order": null,
            "overflow": null,
            "overflow_x": null,
            "overflow_y": null,
            "padding": null,
            "right": null,
            "top": null,
            "visibility": null,
            "width": null
          }
        },
        "e9aa4c62dc8a41ba8c77295c690453ff": {
          "model_module": "@jupyter-widgets/base",
          "model_name": "LayoutModel",
          "model_module_version": "1.2.0",
          "state": {
            "_model_module": "@jupyter-widgets/base",
            "_model_module_version": "1.2.0",
            "_model_name": "LayoutModel",
            "_view_count": null,
            "_view_module": "@jupyter-widgets/base",
            "_view_module_version": "1.2.0",
            "_view_name": "LayoutView",
            "align_content": null,
            "align_items": null,
            "align_self": null,
            "border": null,
            "bottom": null,
            "display": null,
            "flex": null,
            "flex_flow": null,
            "grid_area": null,
            "grid_auto_columns": null,
            "grid_auto_flow": null,
            "grid_auto_rows": null,
            "grid_column": null,
            "grid_gap": null,
            "grid_row": null,
            "grid_template_areas": null,
            "grid_template_columns": null,
            "grid_template_rows": null,
            "height": null,
            "justify_content": null,
            "justify_items": null,
            "left": null,
            "margin": null,
            "max_height": null,
            "max_width": null,
            "min_height": null,
            "min_width": null,
            "object_fit": null,
            "object_position": null,
            "order": null,
            "overflow": null,
            "overflow_x": null,
            "overflow_y": null,
            "padding": null,
            "right": null,
            "top": null,
            "visibility": null,
            "width": null
          }
        },
        "853735cea4074893ae32d8248199073b": {
          "model_module": "@jupyter-widgets/controls",
          "model_name": "DescriptionStyleModel",
          "model_module_version": "1.5.0",
          "state": {
            "_model_module": "@jupyter-widgets/controls",
            "_model_module_version": "1.5.0",
            "_model_name": "DescriptionStyleModel",
            "_view_count": null,
            "_view_module": "@jupyter-widgets/base",
            "_view_module_version": "1.2.0",
            "_view_name": "StyleView",
            "description_width": ""
          }
        },
        "05983bec7fae407dab9a7dfca7978ef7": {
          "model_module": "@jupyter-widgets/base",
          "model_name": "LayoutModel",
          "model_module_version": "1.2.0",
          "state": {
            "_model_module": "@jupyter-widgets/base",
            "_model_module_version": "1.2.0",
            "_model_name": "LayoutModel",
            "_view_count": null,
            "_view_module": "@jupyter-widgets/base",
            "_view_module_version": "1.2.0",
            "_view_name": "LayoutView",
            "align_content": null,
            "align_items": null,
            "align_self": null,
            "border": null,
            "bottom": null,
            "display": null,
            "flex": null,
            "flex_flow": null,
            "grid_area": null,
            "grid_auto_columns": null,
            "grid_auto_flow": null,
            "grid_auto_rows": null,
            "grid_column": null,
            "grid_gap": null,
            "grid_row": null,
            "grid_template_areas": null,
            "grid_template_columns": null,
            "grid_template_rows": null,
            "height": null,
            "justify_content": null,
            "justify_items": null,
            "left": null,
            "margin": null,
            "max_height": null,
            "max_width": null,
            "min_height": null,
            "min_width": null,
            "object_fit": null,
            "object_position": null,
            "order": null,
            "overflow": null,
            "overflow_x": null,
            "overflow_y": null,
            "padding": null,
            "right": null,
            "top": null,
            "visibility": null,
            "width": null
          }
        },
        "37fabf718b30430486fd97be13d51843": {
          "model_module": "@jupyter-widgets/controls",
          "model_name": "ProgressStyleModel",
          "model_module_version": "1.5.0",
          "state": {
            "_model_module": "@jupyter-widgets/controls",
            "_model_module_version": "1.5.0",
            "_model_name": "ProgressStyleModel",
            "_view_count": null,
            "_view_module": "@jupyter-widgets/base",
            "_view_module_version": "1.2.0",
            "_view_name": "StyleView",
            "bar_color": null,
            "description_width": ""
          }
        },
        "7850ea1c13f349a886c4c17039708928": {
          "model_module": "@jupyter-widgets/base",
          "model_name": "LayoutModel",
          "model_module_version": "1.2.0",
          "state": {
            "_model_module": "@jupyter-widgets/base",
            "_model_module_version": "1.2.0",
            "_model_name": "LayoutModel",
            "_view_count": null,
            "_view_module": "@jupyter-widgets/base",
            "_view_module_version": "1.2.0",
            "_view_name": "LayoutView",
            "align_content": null,
            "align_items": null,
            "align_self": null,
            "border": null,
            "bottom": null,
            "display": null,
            "flex": null,
            "flex_flow": null,
            "grid_area": null,
            "grid_auto_columns": null,
            "grid_auto_flow": null,
            "grid_auto_rows": null,
            "grid_column": null,
            "grid_gap": null,
            "grid_row": null,
            "grid_template_areas": null,
            "grid_template_columns": null,
            "grid_template_rows": null,
            "height": null,
            "justify_content": null,
            "justify_items": null,
            "left": null,
            "margin": null,
            "max_height": null,
            "max_width": null,
            "min_height": null,
            "min_width": null,
            "object_fit": null,
            "object_position": null,
            "order": null,
            "overflow": null,
            "overflow_x": null,
            "overflow_y": null,
            "padding": null,
            "right": null,
            "top": null,
            "visibility": null,
            "width": null
          }
        },
        "1ec09fd4ed1f4160bbba4788ac36a83e": {
          "model_module": "@jupyter-widgets/controls",
          "model_name": "DescriptionStyleModel",
          "model_module_version": "1.5.0",
          "state": {
            "_model_module": "@jupyter-widgets/controls",
            "_model_module_version": "1.5.0",
            "_model_name": "DescriptionStyleModel",
            "_view_count": null,
            "_view_module": "@jupyter-widgets/base",
            "_view_module_version": "1.2.0",
            "_view_name": "StyleView",
            "description_width": ""
          }
        },
        "df1bb423fc96411398138cb9c543a062": {
          "model_module": "@jupyter-widgets/controls",
          "model_name": "HBoxModel",
          "model_module_version": "1.5.0",
          "state": {
            "_dom_classes": [],
            "_model_module": "@jupyter-widgets/controls",
            "_model_module_version": "1.5.0",
            "_model_name": "HBoxModel",
            "_view_count": null,
            "_view_module": "@jupyter-widgets/controls",
            "_view_module_version": "1.5.0",
            "_view_name": "HBoxView",
            "box_style": "",
            "children": [
              "IPY_MODEL_5c3d50acd55e4424bce0a118e637fd01",
              "IPY_MODEL_5c54390a9eb84fcfa667401e85188ce2",
              "IPY_MODEL_4fa350f0dfa54c75b3da409714316f18"
            ],
            "layout": "IPY_MODEL_f87cf3e5908e4ffbb791409db133b2eb"
          }
        },
        "5c3d50acd55e4424bce0a118e637fd01": {
          "model_module": "@jupyter-widgets/controls",
          "model_name": "HTMLModel",
          "model_module_version": "1.5.0",
          "state": {
            "_dom_classes": [],
            "_model_module": "@jupyter-widgets/controls",
            "_model_module_version": "1.5.0",
            "_model_name": "HTMLModel",
            "_view_count": null,
            "_view_module": "@jupyter-widgets/controls",
            "_view_module_version": "1.5.0",
            "_view_name": "HTMLView",
            "description": "",
            "description_tooltip": null,
            "layout": "IPY_MODEL_8ecaea8af086401fa174c95279dc571e",
            "placeholder": "​",
            "style": "IPY_MODEL_5461e9fa306d46b9a27cf70d58a0f141",
            "value": "config.yaml: 100%"
          }
        },
        "5c54390a9eb84fcfa667401e85188ce2": {
          "model_module": "@jupyter-widgets/controls",
          "model_name": "FloatProgressModel",
          "model_module_version": "1.5.0",
          "state": {
            "_dom_classes": [],
            "_model_module": "@jupyter-widgets/controls",
            "_model_module_version": "1.5.0",
            "_model_name": "FloatProgressModel",
            "_view_count": null,
            "_view_module": "@jupyter-widgets/controls",
            "_view_module_version": "1.5.0",
            "_view_name": "ProgressView",
            "bar_style": "success",
            "description": "",
            "description_tooltip": null,
            "layout": "IPY_MODEL_53da06e4e65641b4b73e0a76331b32eb",
            "max": 318,
            "min": 0,
            "orientation": "horizontal",
            "style": "IPY_MODEL_c4cf7eb0978d40a597047af77e661d15",
            "value": 318
          }
        },
        "4fa350f0dfa54c75b3da409714316f18": {
          "model_module": "@jupyter-widgets/controls",
          "model_name": "HTMLModel",
          "model_module_version": "1.5.0",
          "state": {
            "_dom_classes": [],
            "_model_module": "@jupyter-widgets/controls",
            "_model_module_version": "1.5.0",
            "_model_name": "HTMLModel",
            "_view_count": null,
            "_view_module": "@jupyter-widgets/controls",
            "_view_module_version": "1.5.0",
            "_view_name": "HTMLView",
            "description": "",
            "description_tooltip": null,
            "layout": "IPY_MODEL_90a073ba410343e0a0469b93e0e565c9",
            "placeholder": "​",
            "style": "IPY_MODEL_cfc393324dea4cffa7082270e076f48e",
            "value": " 318/318 [00:00&lt;00:00, 9.69kB/s]"
          }
        },
        "f87cf3e5908e4ffbb791409db133b2eb": {
          "model_module": "@jupyter-widgets/base",
          "model_name": "LayoutModel",
          "model_module_version": "1.2.0",
          "state": {
            "_model_module": "@jupyter-widgets/base",
            "_model_module_version": "1.2.0",
            "_model_name": "LayoutModel",
            "_view_count": null,
            "_view_module": "@jupyter-widgets/base",
            "_view_module_version": "1.2.0",
            "_view_name": "LayoutView",
            "align_content": null,
            "align_items": null,
            "align_self": null,
            "border": null,
            "bottom": null,
            "display": null,
            "flex": null,
            "flex_flow": null,
            "grid_area": null,
            "grid_auto_columns": null,
            "grid_auto_flow": null,
            "grid_auto_rows": null,
            "grid_column": null,
            "grid_gap": null,
            "grid_row": null,
            "grid_template_areas": null,
            "grid_template_columns": null,
            "grid_template_rows": null,
            "height": null,
            "justify_content": null,
            "justify_items": null,
            "left": null,
            "margin": null,
            "max_height": null,
            "max_width": null,
            "min_height": null,
            "min_width": null,
            "object_fit": null,
            "object_position": null,
            "order": null,
            "overflow": null,
            "overflow_x": null,
            "overflow_y": null,
            "padding": null,
            "right": null,
            "top": null,
            "visibility": null,
            "width": null
          }
        },
        "8ecaea8af086401fa174c95279dc571e": {
          "model_module": "@jupyter-widgets/base",
          "model_name": "LayoutModel",
          "model_module_version": "1.2.0",
          "state": {
            "_model_module": "@jupyter-widgets/base",
            "_model_module_version": "1.2.0",
            "_model_name": "LayoutModel",
            "_view_count": null,
            "_view_module": "@jupyter-widgets/base",
            "_view_module_version": "1.2.0",
            "_view_name": "LayoutView",
            "align_content": null,
            "align_items": null,
            "align_self": null,
            "border": null,
            "bottom": null,
            "display": null,
            "flex": null,
            "flex_flow": null,
            "grid_area": null,
            "grid_auto_columns": null,
            "grid_auto_flow": null,
            "grid_auto_rows": null,
            "grid_column": null,
            "grid_gap": null,
            "grid_row": null,
            "grid_template_areas": null,
            "grid_template_columns": null,
            "grid_template_rows": null,
            "height": null,
            "justify_content": null,
            "justify_items": null,
            "left": null,
            "margin": null,
            "max_height": null,
            "max_width": null,
            "min_height": null,
            "min_width": null,
            "object_fit": null,
            "object_position": null,
            "order": null,
            "overflow": null,
            "overflow_x": null,
            "overflow_y": null,
            "padding": null,
            "right": null,
            "top": null,
            "visibility": null,
            "width": null
          }
        },
        "5461e9fa306d46b9a27cf70d58a0f141": {
          "model_module": "@jupyter-widgets/controls",
          "model_name": "DescriptionStyleModel",
          "model_module_version": "1.5.0",
          "state": {
            "_model_module": "@jupyter-widgets/controls",
            "_model_module_version": "1.5.0",
            "_model_name": "DescriptionStyleModel",
            "_view_count": null,
            "_view_module": "@jupyter-widgets/base",
            "_view_module_version": "1.2.0",
            "_view_name": "StyleView",
            "description_width": ""
          }
        },
        "53da06e4e65641b4b73e0a76331b32eb": {
          "model_module": "@jupyter-widgets/base",
          "model_name": "LayoutModel",
          "model_module_version": "1.2.0",
          "state": {
            "_model_module": "@jupyter-widgets/base",
            "_model_module_version": "1.2.0",
            "_model_name": "LayoutModel",
            "_view_count": null,
            "_view_module": "@jupyter-widgets/base",
            "_view_module_version": "1.2.0",
            "_view_name": "LayoutView",
            "align_content": null,
            "align_items": null,
            "align_self": null,
            "border": null,
            "bottom": null,
            "display": null,
            "flex": null,
            "flex_flow": null,
            "grid_area": null,
            "grid_auto_columns": null,
            "grid_auto_flow": null,
            "grid_auto_rows": null,
            "grid_column": null,
            "grid_gap": null,
            "grid_row": null,
            "grid_template_areas": null,
            "grid_template_columns": null,
            "grid_template_rows": null,
            "height": null,
            "justify_content": null,
            "justify_items": null,
            "left": null,
            "margin": null,
            "max_height": null,
            "max_width": null,
            "min_height": null,
            "min_width": null,
            "object_fit": null,
            "object_position": null,
            "order": null,
            "overflow": null,
            "overflow_x": null,
            "overflow_y": null,
            "padding": null,
            "right": null,
            "top": null,
            "visibility": null,
            "width": null
          }
        },
        "c4cf7eb0978d40a597047af77e661d15": {
          "model_module": "@jupyter-widgets/controls",
          "model_name": "ProgressStyleModel",
          "model_module_version": "1.5.0",
          "state": {
            "_model_module": "@jupyter-widgets/controls",
            "_model_module_version": "1.5.0",
            "_model_name": "ProgressStyleModel",
            "_view_count": null,
            "_view_module": "@jupyter-widgets/base",
            "_view_module_version": "1.2.0",
            "_view_name": "StyleView",
            "bar_color": null,
            "description_width": ""
          }
        },
        "90a073ba410343e0a0469b93e0e565c9": {
          "model_module": "@jupyter-widgets/base",
          "model_name": "LayoutModel",
          "model_module_version": "1.2.0",
          "state": {
            "_model_module": "@jupyter-widgets/base",
            "_model_module_version": "1.2.0",
            "_model_name": "LayoutModel",
            "_view_count": null,
            "_view_module": "@jupyter-widgets/base",
            "_view_module_version": "1.2.0",
            "_view_name": "LayoutView",
            "align_content": null,
            "align_items": null,
            "align_self": null,
            "border": null,
            "bottom": null,
            "display": null,
            "flex": null,
            "flex_flow": null,
            "grid_area": null,
            "grid_auto_columns": null,
            "grid_auto_flow": null,
            "grid_auto_rows": null,
            "grid_column": null,
            "grid_gap": null,
            "grid_row": null,
            "grid_template_areas": null,
            "grid_template_columns": null,
            "grid_template_rows": null,
            "height": null,
            "justify_content": null,
            "justify_items": null,
            "left": null,
            "margin": null,
            "max_height": null,
            "max_width": null,
            "min_height": null,
            "min_width": null,
            "object_fit": null,
            "object_position": null,
            "order": null,
            "overflow": null,
            "overflow_x": null,
            "overflow_y": null,
            "padding": null,
            "right": null,
            "top": null,
            "visibility": null,
            "width": null
          }
        },
        "cfc393324dea4cffa7082270e076f48e": {
          "model_module": "@jupyter-widgets/controls",
          "model_name": "DescriptionStyleModel",
          "model_module_version": "1.5.0",
          "state": {
            "_model_module": "@jupyter-widgets/controls",
            "_model_module_version": "1.5.0",
            "_model_name": "DescriptionStyleModel",
            "_view_count": null,
            "_view_module": "@jupyter-widgets/base",
            "_view_module_version": "1.2.0",
            "_view_name": "StyleView",
            "description_width": ""
          }
        },
        "d8cb75f5e2b94cde8f08682ce1726b91": {
          "model_module": "@jupyter-widgets/controls",
          "model_name": "HBoxModel",
          "model_module_version": "1.5.0",
          "state": {
            "_dom_classes": [],
            "_model_module": "@jupyter-widgets/controls",
            "_model_module_version": "1.5.0",
            "_model_name": "HBoxModel",
            "_view_count": null,
            "_view_module": "@jupyter-widgets/controls",
            "_view_module_version": "1.5.0",
            "_view_name": "HBoxView",
            "box_style": "",
            "children": [
              "IPY_MODEL_f1030fe673c44345a1e60e323743a387",
              "IPY_MODEL_0271958eb933402c932202f7310a5a96",
              "IPY_MODEL_fd23bd49582144fb8be7a8dbf971c081"
            ],
            "layout": "IPY_MODEL_f84a1a3934104763816702c6bc5106bd"
          }
        },
        "f1030fe673c44345a1e60e323743a387": {
          "model_module": "@jupyter-widgets/controls",
          "model_name": "HTMLModel",
          "model_module_version": "1.5.0",
          "state": {
            "_dom_classes": [],
            "_model_module": "@jupyter-widgets/controls",
            "_model_module_version": "1.5.0",
            "_model_name": "HTMLModel",
            "_view_count": null,
            "_view_module": "@jupyter-widgets/controls",
            "_view_module_version": "1.5.0",
            "_view_name": "HTMLView",
            "description": "",
            "description_tooltip": null,
            "layout": "IPY_MODEL_cced75ed10d14eeab26abcf4b0878358",
            "placeholder": "​",
            "style": "IPY_MODEL_19dd0e838653425a91cf19d7adf14498",
            "value": "hyperparams.yaml: 100%"
          }
        },
        "0271958eb933402c932202f7310a5a96": {
          "model_module": "@jupyter-widgets/controls",
          "model_name": "FloatProgressModel",
          "model_module_version": "1.5.0",
          "state": {
            "_dom_classes": [],
            "_model_module": "@jupyter-widgets/controls",
            "_model_module_version": "1.5.0",
            "_model_name": "FloatProgressModel",
            "_view_count": null,
            "_view_module": "@jupyter-widgets/controls",
            "_view_module_version": "1.5.0",
            "_view_name": "ProgressView",
            "bar_style": "success",
            "description": "",
            "description_tooltip": null,
            "layout": "IPY_MODEL_dee81b67a93341d3a6bcd9f706fd5574",
            "max": 1920,
            "min": 0,
            "orientation": "horizontal",
            "style": "IPY_MODEL_1a390abb43f14050892219c4cc0490e4",
            "value": 1920
          }
        },
        "fd23bd49582144fb8be7a8dbf971c081": {
          "model_module": "@jupyter-widgets/controls",
          "model_name": "HTMLModel",
          "model_module_version": "1.5.0",
          "state": {
            "_dom_classes": [],
            "_model_module": "@jupyter-widgets/controls",
            "_model_module_version": "1.5.0",
            "_model_name": "HTMLModel",
            "_view_count": null,
            "_view_module": "@jupyter-widgets/controls",
            "_view_module_version": "1.5.0",
            "_view_name": "HTMLView",
            "description": "",
            "description_tooltip": null,
            "layout": "IPY_MODEL_1552c296158b48e0946c34139bdd3295",
            "placeholder": "​",
            "style": "IPY_MODEL_feceb908b5864722acf780cf725575a5",
            "value": " 1.92k/1.92k [00:00&lt;00:00, 99.8kB/s]"
          }
        },
        "f84a1a3934104763816702c6bc5106bd": {
          "model_module": "@jupyter-widgets/base",
          "model_name": "LayoutModel",
          "model_module_version": "1.2.0",
          "state": {
            "_model_module": "@jupyter-widgets/base",
            "_model_module_version": "1.2.0",
            "_model_name": "LayoutModel",
            "_view_count": null,
            "_view_module": "@jupyter-widgets/base",
            "_view_module_version": "1.2.0",
            "_view_name": "LayoutView",
            "align_content": null,
            "align_items": null,
            "align_self": null,
            "border": null,
            "bottom": null,
            "display": null,
            "flex": null,
            "flex_flow": null,
            "grid_area": null,
            "grid_auto_columns": null,
            "grid_auto_flow": null,
            "grid_auto_rows": null,
            "grid_column": null,
            "grid_gap": null,
            "grid_row": null,
            "grid_template_areas": null,
            "grid_template_columns": null,
            "grid_template_rows": null,
            "height": null,
            "justify_content": null,
            "justify_items": null,
            "left": null,
            "margin": null,
            "max_height": null,
            "max_width": null,
            "min_height": null,
            "min_width": null,
            "object_fit": null,
            "object_position": null,
            "order": null,
            "overflow": null,
            "overflow_x": null,
            "overflow_y": null,
            "padding": null,
            "right": null,
            "top": null,
            "visibility": null,
            "width": null
          }
        },
        "cced75ed10d14eeab26abcf4b0878358": {
          "model_module": "@jupyter-widgets/base",
          "model_name": "LayoutModel",
          "model_module_version": "1.2.0",
          "state": {
            "_model_module": "@jupyter-widgets/base",
            "_model_module_version": "1.2.0",
            "_model_name": "LayoutModel",
            "_view_count": null,
            "_view_module": "@jupyter-widgets/base",
            "_view_module_version": "1.2.0",
            "_view_name": "LayoutView",
            "align_content": null,
            "align_items": null,
            "align_self": null,
            "border": null,
            "bottom": null,
            "display": null,
            "flex": null,
            "flex_flow": null,
            "grid_area": null,
            "grid_auto_columns": null,
            "grid_auto_flow": null,
            "grid_auto_rows": null,
            "grid_column": null,
            "grid_gap": null,
            "grid_row": null,
            "grid_template_areas": null,
            "grid_template_columns": null,
            "grid_template_rows": null,
            "height": null,
            "justify_content": null,
            "justify_items": null,
            "left": null,
            "margin": null,
            "max_height": null,
            "max_width": null,
            "min_height": null,
            "min_width": null,
            "object_fit": null,
            "object_position": null,
            "order": null,
            "overflow": null,
            "overflow_x": null,
            "overflow_y": null,
            "padding": null,
            "right": null,
            "top": null,
            "visibility": null,
            "width": null
          }
        },
        "19dd0e838653425a91cf19d7adf14498": {
          "model_module": "@jupyter-widgets/controls",
          "model_name": "DescriptionStyleModel",
          "model_module_version": "1.5.0",
          "state": {
            "_model_module": "@jupyter-widgets/controls",
            "_model_module_version": "1.5.0",
            "_model_name": "DescriptionStyleModel",
            "_view_count": null,
            "_view_module": "@jupyter-widgets/base",
            "_view_module_version": "1.2.0",
            "_view_name": "StyleView",
            "description_width": ""
          }
        },
        "dee81b67a93341d3a6bcd9f706fd5574": {
          "model_module": "@jupyter-widgets/base",
          "model_name": "LayoutModel",
          "model_module_version": "1.2.0",
          "state": {
            "_model_module": "@jupyter-widgets/base",
            "_model_module_version": "1.2.0",
            "_model_name": "LayoutModel",
            "_view_count": null,
            "_view_module": "@jupyter-widgets/base",
            "_view_module_version": "1.2.0",
            "_view_name": "LayoutView",
            "align_content": null,
            "align_items": null,
            "align_self": null,
            "border": null,
            "bottom": null,
            "display": null,
            "flex": null,
            "flex_flow": null,
            "grid_area": null,
            "grid_auto_columns": null,
            "grid_auto_flow": null,
            "grid_auto_rows": null,
            "grid_column": null,
            "grid_gap": null,
            "grid_row": null,
            "grid_template_areas": null,
            "grid_template_columns": null,
            "grid_template_rows": null,
            "height": null,
            "justify_content": null,
            "justify_items": null,
            "left": null,
            "margin": null,
            "max_height": null,
            "max_width": null,
            "min_height": null,
            "min_width": null,
            "object_fit": null,
            "object_position": null,
            "order": null,
            "overflow": null,
            "overflow_x": null,
            "overflow_y": null,
            "padding": null,
            "right": null,
            "top": null,
            "visibility": null,
            "width": null
          }
        },
        "1a390abb43f14050892219c4cc0490e4": {
          "model_module": "@jupyter-widgets/controls",
          "model_name": "ProgressStyleModel",
          "model_module_version": "1.5.0",
          "state": {
            "_model_module": "@jupyter-widgets/controls",
            "_model_module_version": "1.5.0",
            "_model_name": "ProgressStyleModel",
            "_view_count": null,
            "_view_module": "@jupyter-widgets/base",
            "_view_module_version": "1.2.0",
            "_view_name": "StyleView",
            "bar_color": null,
            "description_width": ""
          }
        },
        "1552c296158b48e0946c34139bdd3295": {
          "model_module": "@jupyter-widgets/base",
          "model_name": "LayoutModel",
          "model_module_version": "1.2.0",
          "state": {
            "_model_module": "@jupyter-widgets/base",
            "_model_module_version": "1.2.0",
            "_model_name": "LayoutModel",
            "_view_count": null,
            "_view_module": "@jupyter-widgets/base",
            "_view_module_version": "1.2.0",
            "_view_name": "LayoutView",
            "align_content": null,
            "align_items": null,
            "align_self": null,
            "border": null,
            "bottom": null,
            "display": null,
            "flex": null,
            "flex_flow": null,
            "grid_area": null,
            "grid_auto_columns": null,
            "grid_auto_flow": null,
            "grid_auto_rows": null,
            "grid_column": null,
            "grid_gap": null,
            "grid_row": null,
            "grid_template_areas": null,
            "grid_template_columns": null,
            "grid_template_rows": null,
            "height": null,
            "justify_content": null,
            "justify_items": null,
            "left": null,
            "margin": null,
            "max_height": null,
            "max_width": null,
            "min_height": null,
            "min_width": null,
            "object_fit": null,
            "object_position": null,
            "order": null,
            "overflow": null,
            "overflow_x": null,
            "overflow_y": null,
            "padding": null,
            "right": null,
            "top": null,
            "visibility": null,
            "width": null
          }
        },
        "feceb908b5864722acf780cf725575a5": {
          "model_module": "@jupyter-widgets/controls",
          "model_name": "DescriptionStyleModel",
          "model_module_version": "1.5.0",
          "state": {
            "_model_module": "@jupyter-widgets/controls",
            "_model_module_version": "1.5.0",
            "_model_name": "DescriptionStyleModel",
            "_view_count": null,
            "_view_module": "@jupyter-widgets/base",
            "_view_module_version": "1.2.0",
            "_view_name": "StyleView",
            "description_width": ""
          }
        },
        "e8780269405f41b5a146b31d7fe748f7": {
          "model_module": "@jupyter-widgets/controls",
          "model_name": "HBoxModel",
          "model_module_version": "1.5.0",
          "state": {
            "_dom_classes": [],
            "_model_module": "@jupyter-widgets/controls",
            "_model_module_version": "1.5.0",
            "_model_name": "HBoxModel",
            "_view_count": null,
            "_view_module": "@jupyter-widgets/controls",
            "_view_module_version": "1.5.0",
            "_view_name": "HBoxView",
            "box_style": "",
            "children": [
              "IPY_MODEL_ab3ffdabe2af42dba742fd30b38f636b",
              "IPY_MODEL_e23032abacdd4a068bf417a021f23357",
              "IPY_MODEL_1ac3625463e441a5ba69b3c3a1a81225"
            ],
            "layout": "IPY_MODEL_64935667899b455bb1475fe046f901eb"
          }
        },
        "ab3ffdabe2af42dba742fd30b38f636b": {
          "model_module": "@jupyter-widgets/controls",
          "model_name": "HTMLModel",
          "model_module_version": "1.5.0",
          "state": {
            "_dom_classes": [],
            "_model_module": "@jupyter-widgets/controls",
            "_model_module_version": "1.5.0",
            "_model_name": "HTMLModel",
            "_view_count": null,
            "_view_module": "@jupyter-widgets/controls",
            "_view_module_version": "1.5.0",
            "_view_name": "HTMLView",
            "description": "",
            "description_tooltip": null,
            "layout": "IPY_MODEL_f0b296c889b2409b827f0dd3166041c1",
            "placeholder": "​",
            "style": "IPY_MODEL_3a2983db6a9740d7900fb8e5e99d4bba",
            "value": "embedding_model.ckpt: 100%"
          }
        },
        "e23032abacdd4a068bf417a021f23357": {
          "model_module": "@jupyter-widgets/controls",
          "model_name": "FloatProgressModel",
          "model_module_version": "1.5.0",
          "state": {
            "_dom_classes": [],
            "_model_module": "@jupyter-widgets/controls",
            "_model_module_version": "1.5.0",
            "_model_name": "FloatProgressModel",
            "_view_count": null,
            "_view_module": "@jupyter-widgets/controls",
            "_view_module_version": "1.5.0",
            "_view_name": "ProgressView",
            "bar_style": "success",
            "description": "",
            "description_tooltip": null,
            "layout": "IPY_MODEL_2259e773f44740a695b733cbcbd6fa67",
            "max": 83316686,
            "min": 0,
            "orientation": "horizontal",
            "style": "IPY_MODEL_f5bd73e129b548a286a650c8e1025bcc",
            "value": 83316686
          }
        },
        "1ac3625463e441a5ba69b3c3a1a81225": {
          "model_module": "@jupyter-widgets/controls",
          "model_name": "HTMLModel",
          "model_module_version": "1.5.0",
          "state": {
            "_dom_classes": [],
            "_model_module": "@jupyter-widgets/controls",
            "_model_module_version": "1.5.0",
            "_model_name": "HTMLModel",
            "_view_count": null,
            "_view_module": "@jupyter-widgets/controls",
            "_view_module_version": "1.5.0",
            "_view_name": "HTMLView",
            "description": "",
            "description_tooltip": null,
            "layout": "IPY_MODEL_406d720ccafe43d58ba2c1f7b8d65c24",
            "placeholder": "​",
            "style": "IPY_MODEL_9837a010cb60446ca9cc299a8af42a2f",
            "value": " 83.3M/83.3M [00:00&lt;00:00, 94.7MB/s]"
          }
        },
        "64935667899b455bb1475fe046f901eb": {
          "model_module": "@jupyter-widgets/base",
          "model_name": "LayoutModel",
          "model_module_version": "1.2.0",
          "state": {
            "_model_module": "@jupyter-widgets/base",
            "_model_module_version": "1.2.0",
            "_model_name": "LayoutModel",
            "_view_count": null,
            "_view_module": "@jupyter-widgets/base",
            "_view_module_version": "1.2.0",
            "_view_name": "LayoutView",
            "align_content": null,
            "align_items": null,
            "align_self": null,
            "border": null,
            "bottom": null,
            "display": null,
            "flex": null,
            "flex_flow": null,
            "grid_area": null,
            "grid_auto_columns": null,
            "grid_auto_flow": null,
            "grid_auto_rows": null,
            "grid_column": null,
            "grid_gap": null,
            "grid_row": null,
            "grid_template_areas": null,
            "grid_template_columns": null,
            "grid_template_rows": null,
            "height": null,
            "justify_content": null,
            "justify_items": null,
            "left": null,
            "margin": null,
            "max_height": null,
            "max_width": null,
            "min_height": null,
            "min_width": null,
            "object_fit": null,
            "object_position": null,
            "order": null,
            "overflow": null,
            "overflow_x": null,
            "overflow_y": null,
            "padding": null,
            "right": null,
            "top": null,
            "visibility": null,
            "width": null
          }
        },
        "f0b296c889b2409b827f0dd3166041c1": {
          "model_module": "@jupyter-widgets/base",
          "model_name": "LayoutModel",
          "model_module_version": "1.2.0",
          "state": {
            "_model_module": "@jupyter-widgets/base",
            "_model_module_version": "1.2.0",
            "_model_name": "LayoutModel",
            "_view_count": null,
            "_view_module": "@jupyter-widgets/base",
            "_view_module_version": "1.2.0",
            "_view_name": "LayoutView",
            "align_content": null,
            "align_items": null,
            "align_self": null,
            "border": null,
            "bottom": null,
            "display": null,
            "flex": null,
            "flex_flow": null,
            "grid_area": null,
            "grid_auto_columns": null,
            "grid_auto_flow": null,
            "grid_auto_rows": null,
            "grid_column": null,
            "grid_gap": null,
            "grid_row": null,
            "grid_template_areas": null,
            "grid_template_columns": null,
            "grid_template_rows": null,
            "height": null,
            "justify_content": null,
            "justify_items": null,
            "left": null,
            "margin": null,
            "max_height": null,
            "max_width": null,
            "min_height": null,
            "min_width": null,
            "object_fit": null,
            "object_position": null,
            "order": null,
            "overflow": null,
            "overflow_x": null,
            "overflow_y": null,
            "padding": null,
            "right": null,
            "top": null,
            "visibility": null,
            "width": null
          }
        },
        "3a2983db6a9740d7900fb8e5e99d4bba": {
          "model_module": "@jupyter-widgets/controls",
          "model_name": "DescriptionStyleModel",
          "model_module_version": "1.5.0",
          "state": {
            "_model_module": "@jupyter-widgets/controls",
            "_model_module_version": "1.5.0",
            "_model_name": "DescriptionStyleModel",
            "_view_count": null,
            "_view_module": "@jupyter-widgets/base",
            "_view_module_version": "1.2.0",
            "_view_name": "StyleView",
            "description_width": ""
          }
        },
        "2259e773f44740a695b733cbcbd6fa67": {
          "model_module": "@jupyter-widgets/base",
          "model_name": "LayoutModel",
          "model_module_version": "1.2.0",
          "state": {
            "_model_module": "@jupyter-widgets/base",
            "_model_module_version": "1.2.0",
            "_model_name": "LayoutModel",
            "_view_count": null,
            "_view_module": "@jupyter-widgets/base",
            "_view_module_version": "1.2.0",
            "_view_name": "LayoutView",
            "align_content": null,
            "align_items": null,
            "align_self": null,
            "border": null,
            "bottom": null,
            "display": null,
            "flex": null,
            "flex_flow": null,
            "grid_area": null,
            "grid_auto_columns": null,
            "grid_auto_flow": null,
            "grid_auto_rows": null,
            "grid_column": null,
            "grid_gap": null,
            "grid_row": null,
            "grid_template_areas": null,
            "grid_template_columns": null,
            "grid_template_rows": null,
            "height": null,
            "justify_content": null,
            "justify_items": null,
            "left": null,
            "margin": null,
            "max_height": null,
            "max_width": null,
            "min_height": null,
            "min_width": null,
            "object_fit": null,
            "object_position": null,
            "order": null,
            "overflow": null,
            "overflow_x": null,
            "overflow_y": null,
            "padding": null,
            "right": null,
            "top": null,
            "visibility": null,
            "width": null
          }
        },
        "f5bd73e129b548a286a650c8e1025bcc": {
          "model_module": "@jupyter-widgets/controls",
          "model_name": "ProgressStyleModel",
          "model_module_version": "1.5.0",
          "state": {
            "_model_module": "@jupyter-widgets/controls",
            "_model_module_version": "1.5.0",
            "_model_name": "ProgressStyleModel",
            "_view_count": null,
            "_view_module": "@jupyter-widgets/base",
            "_view_module_version": "1.2.0",
            "_view_name": "StyleView",
            "bar_color": null,
            "description_width": ""
          }
        },
        "406d720ccafe43d58ba2c1f7b8d65c24": {
          "model_module": "@jupyter-widgets/base",
          "model_name": "LayoutModel",
          "model_module_version": "1.2.0",
          "state": {
            "_model_module": "@jupyter-widgets/base",
            "_model_module_version": "1.2.0",
            "_model_name": "LayoutModel",
            "_view_count": null,
            "_view_module": "@jupyter-widgets/base",
            "_view_module_version": "1.2.0",
            "_view_name": "LayoutView",
            "align_content": null,
            "align_items": null,
            "align_self": null,
            "border": null,
            "bottom": null,
            "display": null,
            "flex": null,
            "flex_flow": null,
            "grid_area": null,
            "grid_auto_columns": null,
            "grid_auto_flow": null,
            "grid_auto_rows": null,
            "grid_column": null,
            "grid_gap": null,
            "grid_row": null,
            "grid_template_areas": null,
            "grid_template_columns": null,
            "grid_template_rows": null,
            "height": null,
            "justify_content": null,
            "justify_items": null,
            "left": null,
            "margin": null,
            "max_height": null,
            "max_width": null,
            "min_height": null,
            "min_width": null,
            "object_fit": null,
            "object_position": null,
            "order": null,
            "overflow": null,
            "overflow_x": null,
            "overflow_y": null,
            "padding": null,
            "right": null,
            "top": null,
            "visibility": null,
            "width": null
          }
        },
        "9837a010cb60446ca9cc299a8af42a2f": {
          "model_module": "@jupyter-widgets/controls",
          "model_name": "DescriptionStyleModel",
          "model_module_version": "1.5.0",
          "state": {
            "_model_module": "@jupyter-widgets/controls",
            "_model_module_version": "1.5.0",
            "_model_name": "DescriptionStyleModel",
            "_view_count": null,
            "_view_module": "@jupyter-widgets/base",
            "_view_module_version": "1.2.0",
            "_view_name": "StyleView",
            "description_width": ""
          }
        },
        "e03c7cf179954415a5cd19f33a6c5953": {
          "model_module": "@jupyter-widgets/controls",
          "model_name": "HBoxModel",
          "model_module_version": "1.5.0",
          "state": {
            "_dom_classes": [],
            "_model_module": "@jupyter-widgets/controls",
            "_model_module_version": "1.5.0",
            "_model_name": "HBoxModel",
            "_view_count": null,
            "_view_module": "@jupyter-widgets/controls",
            "_view_module_version": "1.5.0",
            "_view_name": "HBoxView",
            "box_style": "",
            "children": [
              "IPY_MODEL_a47a17df6a8a403e9e77dae28c00d65f",
              "IPY_MODEL_24e62da5d75f4f7baa6bb6e0e3569cfd",
              "IPY_MODEL_457caa7670df41e4b4887eafe6f09b2d"
            ],
            "layout": "IPY_MODEL_053ac46720474ceb980414f0296d6ae4"
          }
        },
        "a47a17df6a8a403e9e77dae28c00d65f": {
          "model_module": "@jupyter-widgets/controls",
          "model_name": "HTMLModel",
          "model_module_version": "1.5.0",
          "state": {
            "_dom_classes": [],
            "_model_module": "@jupyter-widgets/controls",
            "_model_module_version": "1.5.0",
            "_model_name": "HTMLModel",
            "_view_count": null,
            "_view_module": "@jupyter-widgets/controls",
            "_view_module_version": "1.5.0",
            "_view_name": "HTMLView",
            "description": "",
            "description_tooltip": null,
            "layout": "IPY_MODEL_dfcddd22d4e94a168d46d66f31463d4f",
            "placeholder": "​",
            "style": "IPY_MODEL_f62cdfc6b5de4ad982ff9a7ff4ee14df",
            "value": "mean_var_norm_emb.ckpt: 100%"
          }
        },
        "24e62da5d75f4f7baa6bb6e0e3569cfd": {
          "model_module": "@jupyter-widgets/controls",
          "model_name": "FloatProgressModel",
          "model_module_version": "1.5.0",
          "state": {
            "_dom_classes": [],
            "_model_module": "@jupyter-widgets/controls",
            "_model_module_version": "1.5.0",
            "_model_name": "FloatProgressModel",
            "_view_count": null,
            "_view_module": "@jupyter-widgets/controls",
            "_view_module_version": "1.5.0",
            "_view_name": "ProgressView",
            "bar_style": "success",
            "description": "",
            "description_tooltip": null,
            "layout": "IPY_MODEL_94572bd77c7f496b9a00d3145460a875",
            "max": 1921,
            "min": 0,
            "orientation": "horizontal",
            "style": "IPY_MODEL_8c089da9bb0d491d8ec66b8e92c0a1a1",
            "value": 1921
          }
        },
        "457caa7670df41e4b4887eafe6f09b2d": {
          "model_module": "@jupyter-widgets/controls",
          "model_name": "HTMLModel",
          "model_module_version": "1.5.0",
          "state": {
            "_dom_classes": [],
            "_model_module": "@jupyter-widgets/controls",
            "_model_module_version": "1.5.0",
            "_model_name": "HTMLModel",
            "_view_count": null,
            "_view_module": "@jupyter-widgets/controls",
            "_view_module_version": "1.5.0",
            "_view_name": "HTMLView",
            "description": "",
            "description_tooltip": null,
            "layout": "IPY_MODEL_0b9927135596442d9281d6d859503e18",
            "placeholder": "​",
            "style": "IPY_MODEL_5deecda38b544c4db09db070f50bc6fe",
            "value": " 1.92k/1.92k [00:00&lt;00:00, 60.3kB/s]"
          }
        },
        "053ac46720474ceb980414f0296d6ae4": {
          "model_module": "@jupyter-widgets/base",
          "model_name": "LayoutModel",
          "model_module_version": "1.2.0",
          "state": {
            "_model_module": "@jupyter-widgets/base",
            "_model_module_version": "1.2.0",
            "_model_name": "LayoutModel",
            "_view_count": null,
            "_view_module": "@jupyter-widgets/base",
            "_view_module_version": "1.2.0",
            "_view_name": "LayoutView",
            "align_content": null,
            "align_items": null,
            "align_self": null,
            "border": null,
            "bottom": null,
            "display": null,
            "flex": null,
            "flex_flow": null,
            "grid_area": null,
            "grid_auto_columns": null,
            "grid_auto_flow": null,
            "grid_auto_rows": null,
            "grid_column": null,
            "grid_gap": null,
            "grid_row": null,
            "grid_template_areas": null,
            "grid_template_columns": null,
            "grid_template_rows": null,
            "height": null,
            "justify_content": null,
            "justify_items": null,
            "left": null,
            "margin": null,
            "max_height": null,
            "max_width": null,
            "min_height": null,
            "min_width": null,
            "object_fit": null,
            "object_position": null,
            "order": null,
            "overflow": null,
            "overflow_x": null,
            "overflow_y": null,
            "padding": null,
            "right": null,
            "top": null,
            "visibility": null,
            "width": null
          }
        },
        "dfcddd22d4e94a168d46d66f31463d4f": {
          "model_module": "@jupyter-widgets/base",
          "model_name": "LayoutModel",
          "model_module_version": "1.2.0",
          "state": {
            "_model_module": "@jupyter-widgets/base",
            "_model_module_version": "1.2.0",
            "_model_name": "LayoutModel",
            "_view_count": null,
            "_view_module": "@jupyter-widgets/base",
            "_view_module_version": "1.2.0",
            "_view_name": "LayoutView",
            "align_content": null,
            "align_items": null,
            "align_self": null,
            "border": null,
            "bottom": null,
            "display": null,
            "flex": null,
            "flex_flow": null,
            "grid_area": null,
            "grid_auto_columns": null,
            "grid_auto_flow": null,
            "grid_auto_rows": null,
            "grid_column": null,
            "grid_gap": null,
            "grid_row": null,
            "grid_template_areas": null,
            "grid_template_columns": null,
            "grid_template_rows": null,
            "height": null,
            "justify_content": null,
            "justify_items": null,
            "left": null,
            "margin": null,
            "max_height": null,
            "max_width": null,
            "min_height": null,
            "min_width": null,
            "object_fit": null,
            "object_position": null,
            "order": null,
            "overflow": null,
            "overflow_x": null,
            "overflow_y": null,
            "padding": null,
            "right": null,
            "top": null,
            "visibility": null,
            "width": null
          }
        },
        "f62cdfc6b5de4ad982ff9a7ff4ee14df": {
          "model_module": "@jupyter-widgets/controls",
          "model_name": "DescriptionStyleModel",
          "model_module_version": "1.5.0",
          "state": {
            "_model_module": "@jupyter-widgets/controls",
            "_model_module_version": "1.5.0",
            "_model_name": "DescriptionStyleModel",
            "_view_count": null,
            "_view_module": "@jupyter-widgets/base",
            "_view_module_version": "1.2.0",
            "_view_name": "StyleView",
            "description_width": ""
          }
        },
        "94572bd77c7f496b9a00d3145460a875": {
          "model_module": "@jupyter-widgets/base",
          "model_name": "LayoutModel",
          "model_module_version": "1.2.0",
          "state": {
            "_model_module": "@jupyter-widgets/base",
            "_model_module_version": "1.2.0",
            "_model_name": "LayoutModel",
            "_view_count": null,
            "_view_module": "@jupyter-widgets/base",
            "_view_module_version": "1.2.0",
            "_view_name": "LayoutView",
            "align_content": null,
            "align_items": null,
            "align_self": null,
            "border": null,
            "bottom": null,
            "display": null,
            "flex": null,
            "flex_flow": null,
            "grid_area": null,
            "grid_auto_columns": null,
            "grid_auto_flow": null,
            "grid_auto_rows": null,
            "grid_column": null,
            "grid_gap": null,
            "grid_row": null,
            "grid_template_areas": null,
            "grid_template_columns": null,
            "grid_template_rows": null,
            "height": null,
            "justify_content": null,
            "justify_items": null,
            "left": null,
            "margin": null,
            "max_height": null,
            "max_width": null,
            "min_height": null,
            "min_width": null,
            "object_fit": null,
            "object_position": null,
            "order": null,
            "overflow": null,
            "overflow_x": null,
            "overflow_y": null,
            "padding": null,
            "right": null,
            "top": null,
            "visibility": null,
            "width": null
          }
        },
        "8c089da9bb0d491d8ec66b8e92c0a1a1": {
          "model_module": "@jupyter-widgets/controls",
          "model_name": "ProgressStyleModel",
          "model_module_version": "1.5.0",
          "state": {
            "_model_module": "@jupyter-widgets/controls",
            "_model_module_version": "1.5.0",
            "_model_name": "ProgressStyleModel",
            "_view_count": null,
            "_view_module": "@jupyter-widgets/base",
            "_view_module_version": "1.2.0",
            "_view_name": "StyleView",
            "bar_color": null,
            "description_width": ""
          }
        },
        "0b9927135596442d9281d6d859503e18": {
          "model_module": "@jupyter-widgets/base",
          "model_name": "LayoutModel",
          "model_module_version": "1.2.0",
          "state": {
            "_model_module": "@jupyter-widgets/base",
            "_model_module_version": "1.2.0",
            "_model_name": "LayoutModel",
            "_view_count": null,
            "_view_module": "@jupyter-widgets/base",
            "_view_module_version": "1.2.0",
            "_view_name": "LayoutView",
            "align_content": null,
            "align_items": null,
            "align_self": null,
            "border": null,
            "bottom": null,
            "display": null,
            "flex": null,
            "flex_flow": null,
            "grid_area": null,
            "grid_auto_columns": null,
            "grid_auto_flow": null,
            "grid_auto_rows": null,
            "grid_column": null,
            "grid_gap": null,
            "grid_row": null,
            "grid_template_areas": null,
            "grid_template_columns": null,
            "grid_template_rows": null,
            "height": null,
            "justify_content": null,
            "justify_items": null,
            "left": null,
            "margin": null,
            "max_height": null,
            "max_width": null,
            "min_height": null,
            "min_width": null,
            "object_fit": null,
            "object_position": null,
            "order": null,
            "overflow": null,
            "overflow_x": null,
            "overflow_y": null,
            "padding": null,
            "right": null,
            "top": null,
            "visibility": null,
            "width": null
          }
        },
        "5deecda38b544c4db09db070f50bc6fe": {
          "model_module": "@jupyter-widgets/controls",
          "model_name": "DescriptionStyleModel",
          "model_module_version": "1.5.0",
          "state": {
            "_model_module": "@jupyter-widgets/controls",
            "_model_module_version": "1.5.0",
            "_model_name": "DescriptionStyleModel",
            "_view_count": null,
            "_view_module": "@jupyter-widgets/base",
            "_view_module_version": "1.2.0",
            "_view_name": "StyleView",
            "description_width": ""
          }
        },
        "837453d47220492a9a150c1ff906c996": {
          "model_module": "@jupyter-widgets/controls",
          "model_name": "HBoxModel",
          "model_module_version": "1.5.0",
          "state": {
            "_dom_classes": [],
            "_model_module": "@jupyter-widgets/controls",
            "_model_module_version": "1.5.0",
            "_model_name": "HBoxModel",
            "_view_count": null,
            "_view_module": "@jupyter-widgets/controls",
            "_view_module_version": "1.5.0",
            "_view_name": "HBoxView",
            "box_style": "",
            "children": [
              "IPY_MODEL_7d7506e3796b4e4d97a9d94f0d463bf2",
              "IPY_MODEL_2caa24c7f3de40cab5b64983da902648",
              "IPY_MODEL_62865e8fd5b944cea7c0ad4e1f3157fa"
            ],
            "layout": "IPY_MODEL_db3b4fa88f2942faa02ad9c62bb81e9a"
          }
        },
        "7d7506e3796b4e4d97a9d94f0d463bf2": {
          "model_module": "@jupyter-widgets/controls",
          "model_name": "HTMLModel",
          "model_module_version": "1.5.0",
          "state": {
            "_dom_classes": [],
            "_model_module": "@jupyter-widgets/controls",
            "_model_module_version": "1.5.0",
            "_model_name": "HTMLModel",
            "_view_count": null,
            "_view_module": "@jupyter-widgets/controls",
            "_view_module_version": "1.5.0",
            "_view_name": "HTMLView",
            "description": "",
            "description_tooltip": null,
            "layout": "IPY_MODEL_fa31f1a486a947a98d4f051535d681dd",
            "placeholder": "​",
            "style": "IPY_MODEL_b36a4fae5eec4ac7851202eaf953ef52",
            "value": "classifier.ckpt: 100%"
          }
        },
        "2caa24c7f3de40cab5b64983da902648": {
          "model_module": "@jupyter-widgets/controls",
          "model_name": "FloatProgressModel",
          "model_module_version": "1.5.0",
          "state": {
            "_dom_classes": [],
            "_model_module": "@jupyter-widgets/controls",
            "_model_module_version": "1.5.0",
            "_model_name": "FloatProgressModel",
            "_view_count": null,
            "_view_module": "@jupyter-widgets/controls",
            "_view_module_version": "1.5.0",
            "_view_name": "ProgressView",
            "bar_style": "success",
            "description": "",
            "description_tooltip": null,
            "layout": "IPY_MODEL_ef48af326f85403a8a3521049316a981",
            "max": 5534328,
            "min": 0,
            "orientation": "horizontal",
            "style": "IPY_MODEL_d6659dffb96c4f63b4e1f49eecb32189",
            "value": 5534328
          }
        },
        "62865e8fd5b944cea7c0ad4e1f3157fa": {
          "model_module": "@jupyter-widgets/controls",
          "model_name": "HTMLModel",
          "model_module_version": "1.5.0",
          "state": {
            "_dom_classes": [],
            "_model_module": "@jupyter-widgets/controls",
            "_model_module_version": "1.5.0",
            "_model_name": "HTMLModel",
            "_view_count": null,
            "_view_module": "@jupyter-widgets/controls",
            "_view_module_version": "1.5.0",
            "_view_name": "HTMLView",
            "description": "",
            "description_tooltip": null,
            "layout": "IPY_MODEL_8313b1578aac400487848025e085f966",
            "placeholder": "​",
            "style": "IPY_MODEL_a4c95a55da274ef5b34baaaba0d1b5e1",
            "value": " 5.53M/5.53M [00:00&lt;00:00, 44.9MB/s]"
          }
        },
        "db3b4fa88f2942faa02ad9c62bb81e9a": {
          "model_module": "@jupyter-widgets/base",
          "model_name": "LayoutModel",
          "model_module_version": "1.2.0",
          "state": {
            "_model_module": "@jupyter-widgets/base",
            "_model_module_version": "1.2.0",
            "_model_name": "LayoutModel",
            "_view_count": null,
            "_view_module": "@jupyter-widgets/base",
            "_view_module_version": "1.2.0",
            "_view_name": "LayoutView",
            "align_content": null,
            "align_items": null,
            "align_self": null,
            "border": null,
            "bottom": null,
            "display": null,
            "flex": null,
            "flex_flow": null,
            "grid_area": null,
            "grid_auto_columns": null,
            "grid_auto_flow": null,
            "grid_auto_rows": null,
            "grid_column": null,
            "grid_gap": null,
            "grid_row": null,
            "grid_template_areas": null,
            "grid_template_columns": null,
            "grid_template_rows": null,
            "height": null,
            "justify_content": null,
            "justify_items": null,
            "left": null,
            "margin": null,
            "max_height": null,
            "max_width": null,
            "min_height": null,
            "min_width": null,
            "object_fit": null,
            "object_position": null,
            "order": null,
            "overflow": null,
            "overflow_x": null,
            "overflow_y": null,
            "padding": null,
            "right": null,
            "top": null,
            "visibility": null,
            "width": null
          }
        },
        "fa31f1a486a947a98d4f051535d681dd": {
          "model_module": "@jupyter-widgets/base",
          "model_name": "LayoutModel",
          "model_module_version": "1.2.0",
          "state": {
            "_model_module": "@jupyter-widgets/base",
            "_model_module_version": "1.2.0",
            "_model_name": "LayoutModel",
            "_view_count": null,
            "_view_module": "@jupyter-widgets/base",
            "_view_module_version": "1.2.0",
            "_view_name": "LayoutView",
            "align_content": null,
            "align_items": null,
            "align_self": null,
            "border": null,
            "bottom": null,
            "display": null,
            "flex": null,
            "flex_flow": null,
            "grid_area": null,
            "grid_auto_columns": null,
            "grid_auto_flow": null,
            "grid_auto_rows": null,
            "grid_column": null,
            "grid_gap": null,
            "grid_row": null,
            "grid_template_areas": null,
            "grid_template_columns": null,
            "grid_template_rows": null,
            "height": null,
            "justify_content": null,
            "justify_items": null,
            "left": null,
            "margin": null,
            "max_height": null,
            "max_width": null,
            "min_height": null,
            "min_width": null,
            "object_fit": null,
            "object_position": null,
            "order": null,
            "overflow": null,
            "overflow_x": null,
            "overflow_y": null,
            "padding": null,
            "right": null,
            "top": null,
            "visibility": null,
            "width": null
          }
        },
        "b36a4fae5eec4ac7851202eaf953ef52": {
          "model_module": "@jupyter-widgets/controls",
          "model_name": "DescriptionStyleModel",
          "model_module_version": "1.5.0",
          "state": {
            "_model_module": "@jupyter-widgets/controls",
            "_model_module_version": "1.5.0",
            "_model_name": "DescriptionStyleModel",
            "_view_count": null,
            "_view_module": "@jupyter-widgets/base",
            "_view_module_version": "1.2.0",
            "_view_name": "StyleView",
            "description_width": ""
          }
        },
        "ef48af326f85403a8a3521049316a981": {
          "model_module": "@jupyter-widgets/base",
          "model_name": "LayoutModel",
          "model_module_version": "1.2.0",
          "state": {
            "_model_module": "@jupyter-widgets/base",
            "_model_module_version": "1.2.0",
            "_model_name": "LayoutModel",
            "_view_count": null,
            "_view_module": "@jupyter-widgets/base",
            "_view_module_version": "1.2.0",
            "_view_name": "LayoutView",
            "align_content": null,
            "align_items": null,
            "align_self": null,
            "border": null,
            "bottom": null,
            "display": null,
            "flex": null,
            "flex_flow": null,
            "grid_area": null,
            "grid_auto_columns": null,
            "grid_auto_flow": null,
            "grid_auto_rows": null,
            "grid_column": null,
            "grid_gap": null,
            "grid_row": null,
            "grid_template_areas": null,
            "grid_template_columns": null,
            "grid_template_rows": null,
            "height": null,
            "justify_content": null,
            "justify_items": null,
            "left": null,
            "margin": null,
            "max_height": null,
            "max_width": null,
            "min_height": null,
            "min_width": null,
            "object_fit": null,
            "object_position": null,
            "order": null,
            "overflow": null,
            "overflow_x": null,
            "overflow_y": null,
            "padding": null,
            "right": null,
            "top": null,
            "visibility": null,
            "width": null
          }
        },
        "d6659dffb96c4f63b4e1f49eecb32189": {
          "model_module": "@jupyter-widgets/controls",
          "model_name": "ProgressStyleModel",
          "model_module_version": "1.5.0",
          "state": {
            "_model_module": "@jupyter-widgets/controls",
            "_model_module_version": "1.5.0",
            "_model_name": "ProgressStyleModel",
            "_view_count": null,
            "_view_module": "@jupyter-widgets/base",
            "_view_module_version": "1.2.0",
            "_view_name": "StyleView",
            "bar_color": null,
            "description_width": ""
          }
        },
        "8313b1578aac400487848025e085f966": {
          "model_module": "@jupyter-widgets/base",
          "model_name": "LayoutModel",
          "model_module_version": "1.2.0",
          "state": {
            "_model_module": "@jupyter-widgets/base",
            "_model_module_version": "1.2.0",
            "_model_name": "LayoutModel",
            "_view_count": null,
            "_view_module": "@jupyter-widgets/base",
            "_view_module_version": "1.2.0",
            "_view_name": "LayoutView",
            "align_content": null,
            "align_items": null,
            "align_self": null,
            "border": null,
            "bottom": null,
            "display": null,
            "flex": null,
            "flex_flow": null,
            "grid_area": null,
            "grid_auto_columns": null,
            "grid_auto_flow": null,
            "grid_auto_rows": null,
            "grid_column": null,
            "grid_gap": null,
            "grid_row": null,
            "grid_template_areas": null,
            "grid_template_columns": null,
            "grid_template_rows": null,
            "height": null,
            "justify_content": null,
            "justify_items": null,
            "left": null,
            "margin": null,
            "max_height": null,
            "max_width": null,
            "min_height": null,
            "min_width": null,
            "object_fit": null,
            "object_position": null,
            "order": null,
            "overflow": null,
            "overflow_x": null,
            "overflow_y": null,
            "padding": null,
            "right": null,
            "top": null,
            "visibility": null,
            "width": null
          }
        },
        "a4c95a55da274ef5b34baaaba0d1b5e1": {
          "model_module": "@jupyter-widgets/controls",
          "model_name": "DescriptionStyleModel",
          "model_module_version": "1.5.0",
          "state": {
            "_model_module": "@jupyter-widgets/controls",
            "_model_module_version": "1.5.0",
            "_model_name": "DescriptionStyleModel",
            "_view_count": null,
            "_view_module": "@jupyter-widgets/base",
            "_view_module_version": "1.2.0",
            "_view_name": "StyleView",
            "description_width": ""
          }
        },
        "c7d57a127ac24c959aeeee8027011f06": {
          "model_module": "@jupyter-widgets/controls",
          "model_name": "HBoxModel",
          "model_module_version": "1.5.0",
          "state": {
            "_dom_classes": [],
            "_model_module": "@jupyter-widgets/controls",
            "_model_module_version": "1.5.0",
            "_model_name": "HBoxModel",
            "_view_count": null,
            "_view_module": "@jupyter-widgets/controls",
            "_view_module_version": "1.5.0",
            "_view_name": "HBoxView",
            "box_style": "",
            "children": [
              "IPY_MODEL_e62ec7d906734164a501eedab0a89e6e",
              "IPY_MODEL_7f9b4c14415f4b80ab26c4e5fb5dd7fc",
              "IPY_MODEL_61393e37fa6749a78fe8c3465a84472b"
            ],
            "layout": "IPY_MODEL_49ab1e6b82334241a0cf4694b33fe918"
          }
        },
        "e62ec7d906734164a501eedab0a89e6e": {
          "model_module": "@jupyter-widgets/controls",
          "model_name": "HTMLModel",
          "model_module_version": "1.5.0",
          "state": {
            "_dom_classes": [],
            "_model_module": "@jupyter-widgets/controls",
            "_model_module_version": "1.5.0",
            "_model_name": "HTMLModel",
            "_view_count": null,
            "_view_module": "@jupyter-widgets/controls",
            "_view_module_version": "1.5.0",
            "_view_name": "HTMLView",
            "description": "",
            "description_tooltip": null,
            "layout": "IPY_MODEL_e6059f65e0d64f6a85ff6fc241ae3004",
            "placeholder": "​",
            "style": "IPY_MODEL_d75a17fa275b43969828c47903d3d27b",
            "value": "label_encoder.txt: 100%"
          }
        },
        "7f9b4c14415f4b80ab26c4e5fb5dd7fc": {
          "model_module": "@jupyter-widgets/controls",
          "model_name": "FloatProgressModel",
          "model_module_version": "1.5.0",
          "state": {
            "_dom_classes": [],
            "_model_module": "@jupyter-widgets/controls",
            "_model_module_version": "1.5.0",
            "_model_name": "FloatProgressModel",
            "_view_count": null,
            "_view_module": "@jupyter-widgets/controls",
            "_view_module_version": "1.5.0",
            "_view_name": "ProgressView",
            "bar_style": "success",
            "description": "",
            "description_tooltip": null,
            "layout": "IPY_MODEL_6224c0abc7e04413a4719d1374460d91",
            "max": 128619,
            "min": 0,
            "orientation": "horizontal",
            "style": "IPY_MODEL_bb186227b2474b1c80e5853d0b26bd8f",
            "value": 128619
          }
        },
        "61393e37fa6749a78fe8c3465a84472b": {
          "model_module": "@jupyter-widgets/controls",
          "model_name": "HTMLModel",
          "model_module_version": "1.5.0",
          "state": {
            "_dom_classes": [],
            "_model_module": "@jupyter-widgets/controls",
            "_model_module_version": "1.5.0",
            "_model_name": "HTMLModel",
            "_view_count": null,
            "_view_module": "@jupyter-widgets/controls",
            "_view_module_version": "1.5.0",
            "_view_name": "HTMLView",
            "description": "",
            "description_tooltip": null,
            "layout": "IPY_MODEL_df23e6e1b6f947b8baf24ba0443593af",
            "placeholder": "​",
            "style": "IPY_MODEL_c7e3680847ae40ed839d0f3a1d6c2321",
            "value": " 129k/129k [00:00&lt;00:00, 2.17MB/s]"
          }
        },
        "49ab1e6b82334241a0cf4694b33fe918": {
          "model_module": "@jupyter-widgets/base",
          "model_name": "LayoutModel",
          "model_module_version": "1.2.0",
          "state": {
            "_model_module": "@jupyter-widgets/base",
            "_model_module_version": "1.2.0",
            "_model_name": "LayoutModel",
            "_view_count": null,
            "_view_module": "@jupyter-widgets/base",
            "_view_module_version": "1.2.0",
            "_view_name": "LayoutView",
            "align_content": null,
            "align_items": null,
            "align_self": null,
            "border": null,
            "bottom": null,
            "display": null,
            "flex": null,
            "flex_flow": null,
            "grid_area": null,
            "grid_auto_columns": null,
            "grid_auto_flow": null,
            "grid_auto_rows": null,
            "grid_column": null,
            "grid_gap": null,
            "grid_row": null,
            "grid_template_areas": null,
            "grid_template_columns": null,
            "grid_template_rows": null,
            "height": null,
            "justify_content": null,
            "justify_items": null,
            "left": null,
            "margin": null,
            "max_height": null,
            "max_width": null,
            "min_height": null,
            "min_width": null,
            "object_fit": null,
            "object_position": null,
            "order": null,
            "overflow": null,
            "overflow_x": null,
            "overflow_y": null,
            "padding": null,
            "right": null,
            "top": null,
            "visibility": null,
            "width": null
          }
        },
        "e6059f65e0d64f6a85ff6fc241ae3004": {
          "model_module": "@jupyter-widgets/base",
          "model_name": "LayoutModel",
          "model_module_version": "1.2.0",
          "state": {
            "_model_module": "@jupyter-widgets/base",
            "_model_module_version": "1.2.0",
            "_model_name": "LayoutModel",
            "_view_count": null,
            "_view_module": "@jupyter-widgets/base",
            "_view_module_version": "1.2.0",
            "_view_name": "LayoutView",
            "align_content": null,
            "align_items": null,
            "align_self": null,
            "border": null,
            "bottom": null,
            "display": null,
            "flex": null,
            "flex_flow": null,
            "grid_area": null,
            "grid_auto_columns": null,
            "grid_auto_flow": null,
            "grid_auto_rows": null,
            "grid_column": null,
            "grid_gap": null,
            "grid_row": null,
            "grid_template_areas": null,
            "grid_template_columns": null,
            "grid_template_rows": null,
            "height": null,
            "justify_content": null,
            "justify_items": null,
            "left": null,
            "margin": null,
            "max_height": null,
            "max_width": null,
            "min_height": null,
            "min_width": null,
            "object_fit": null,
            "object_position": null,
            "order": null,
            "overflow": null,
            "overflow_x": null,
            "overflow_y": null,
            "padding": null,
            "right": null,
            "top": null,
            "visibility": null,
            "width": null
          }
        },
        "d75a17fa275b43969828c47903d3d27b": {
          "model_module": "@jupyter-widgets/controls",
          "model_name": "DescriptionStyleModel",
          "model_module_version": "1.5.0",
          "state": {
            "_model_module": "@jupyter-widgets/controls",
            "_model_module_version": "1.5.0",
            "_model_name": "DescriptionStyleModel",
            "_view_count": null,
            "_view_module": "@jupyter-widgets/base",
            "_view_module_version": "1.2.0",
            "_view_name": "StyleView",
            "description_width": ""
          }
        },
        "6224c0abc7e04413a4719d1374460d91": {
          "model_module": "@jupyter-widgets/base",
          "model_name": "LayoutModel",
          "model_module_version": "1.2.0",
          "state": {
            "_model_module": "@jupyter-widgets/base",
            "_model_module_version": "1.2.0",
            "_model_name": "LayoutModel",
            "_view_count": null,
            "_view_module": "@jupyter-widgets/base",
            "_view_module_version": "1.2.0",
            "_view_name": "LayoutView",
            "align_content": null,
            "align_items": null,
            "align_self": null,
            "border": null,
            "bottom": null,
            "display": null,
            "flex": null,
            "flex_flow": null,
            "grid_area": null,
            "grid_auto_columns": null,
            "grid_auto_flow": null,
            "grid_auto_rows": null,
            "grid_column": null,
            "grid_gap": null,
            "grid_row": null,
            "grid_template_areas": null,
            "grid_template_columns": null,
            "grid_template_rows": null,
            "height": null,
            "justify_content": null,
            "justify_items": null,
            "left": null,
            "margin": null,
            "max_height": null,
            "max_width": null,
            "min_height": null,
            "min_width": null,
            "object_fit": null,
            "object_position": null,
            "order": null,
            "overflow": null,
            "overflow_x": null,
            "overflow_y": null,
            "padding": null,
            "right": null,
            "top": null,
            "visibility": null,
            "width": null
          }
        },
        "bb186227b2474b1c80e5853d0b26bd8f": {
          "model_module": "@jupyter-widgets/controls",
          "model_name": "ProgressStyleModel",
          "model_module_version": "1.5.0",
          "state": {
            "_model_module": "@jupyter-widgets/controls",
            "_model_module_version": "1.5.0",
            "_model_name": "ProgressStyleModel",
            "_view_count": null,
            "_view_module": "@jupyter-widgets/base",
            "_view_module_version": "1.2.0",
            "_view_name": "StyleView",
            "bar_color": null,
            "description_width": ""
          }
        },
        "df23e6e1b6f947b8baf24ba0443593af": {
          "model_module": "@jupyter-widgets/base",
          "model_name": "LayoutModel",
          "model_module_version": "1.2.0",
          "state": {
            "_model_module": "@jupyter-widgets/base",
            "_model_module_version": "1.2.0",
            "_model_name": "LayoutModel",
            "_view_count": null,
            "_view_module": "@jupyter-widgets/base",
            "_view_module_version": "1.2.0",
            "_view_name": "LayoutView",
            "align_content": null,
            "align_items": null,
            "align_self": null,
            "border": null,
            "bottom": null,
            "display": null,
            "flex": null,
            "flex_flow": null,
            "grid_area": null,
            "grid_auto_columns": null,
            "grid_auto_flow": null,
            "grid_auto_rows": null,
            "grid_column": null,
            "grid_gap": null,
            "grid_row": null,
            "grid_template_areas": null,
            "grid_template_columns": null,
            "grid_template_rows": null,
            "height": null,
            "justify_content": null,
            "justify_items": null,
            "left": null,
            "margin": null,
            "max_height": null,
            "max_width": null,
            "min_height": null,
            "min_width": null,
            "object_fit": null,
            "object_position": null,
            "order": null,
            "overflow": null,
            "overflow_x": null,
            "overflow_y": null,
            "padding": null,
            "right": null,
            "top": null,
            "visibility": null,
            "width": null
          }
        },
        "c7e3680847ae40ed839d0f3a1d6c2321": {
          "model_module": "@jupyter-widgets/controls",
          "model_name": "DescriptionStyleModel",
          "model_module_version": "1.5.0",
          "state": {
            "_model_module": "@jupyter-widgets/controls",
            "_model_module_version": "1.5.0",
            "_model_name": "DescriptionStyleModel",
            "_view_count": null,
            "_view_module": "@jupyter-widgets/base",
            "_view_module_version": "1.2.0",
            "_view_name": "StyleView",
            "description_width": ""
          }
        },
        "db669ec011134cfa9cf86ee5a106fde9": {
          "model_module": "@jupyter-widgets/output",
          "model_name": "OutputModel",
          "model_module_version": "1.0.0",
          "state": {
            "_dom_classes": [],
            "_model_module": "@jupyter-widgets/output",
            "_model_module_version": "1.0.0",
            "_model_name": "OutputModel",
            "_view_count": null,
            "_view_module": "@jupyter-widgets/output",
            "_view_module_version": "1.0.0",
            "_view_name": "OutputView",
            "layout": "IPY_MODEL_15f75fcb0d1f4248a988ec79898f490a",
            "msg_id": "",
            "outputs": [
              {
                "output_type": "display_data",
                "data": {
                  "text/plain": "segmentation         \u001b[38;2;114;156;31m━━━━━━━━━━━━━━━━━━━━━━━━━━━━━━━━━━━━━━━━\u001b[0m \u001b[35m100%\u001b[0m \u001b[33m0:00:01\u001b[0m\nspeaker_counting     \u001b[38;2;114;156;31m━━━━━━━━━━━━━━━━━━━━━━━━━━━━━━━━━━━━━━━━\u001b[0m \u001b[35m100%\u001b[0m \u001b[33m0:00:00\u001b[0m\nembeddings           \u001b[38;2;114;156;31m━━━━━━━━━━━━━━━━━━━━━━━━━━━━━━━━━━━━━━━━\u001b[0m \u001b[35m100%\u001b[0m \u001b[33m0:03:09\u001b[0m\ndiscrete_diarization \u001b[38;2;114;156;31m━━━━━━━━━━━━━━━━━━━━━━━━━━━━━━━━━━━━━━━━\u001b[0m \u001b[35m100%\u001b[0m \u001b[33m0:00:00\u001b[0m\n",
                  "text/html": "<pre style=\"white-space:pre;overflow-x:auto;line-height:normal;font-family:Menlo,'DejaVu Sans Mono',consolas,'Courier New',monospace\">segmentation         <span style=\"color: #729c1f; text-decoration-color: #729c1f\">━━━━━━━━━━━━━━━━━━━━━━━━━━━━━━━━━━━━━━━━</span> <span style=\"color: #800080; text-decoration-color: #800080\">100%</span> <span style=\"color: #808000; text-decoration-color: #808000\">0:00:01</span>\nspeaker_counting     <span style=\"color: #729c1f; text-decoration-color: #729c1f\">━━━━━━━━━━━━━━━━━━━━━━━━━━━━━━━━━━━━━━━━</span> <span style=\"color: #800080; text-decoration-color: #800080\">100%</span> <span style=\"color: #808000; text-decoration-color: #808000\">0:00:00</span>\nembeddings           <span style=\"color: #729c1f; text-decoration-color: #729c1f\">━━━━━━━━━━━━━━━━━━━━━━━━━━━━━━━━━━━━━━━━</span> <span style=\"color: #800080; text-decoration-color: #800080\">100%</span> <span style=\"color: #808000; text-decoration-color: #808000\">0:03:09</span>\ndiscrete_diarization <span style=\"color: #729c1f; text-decoration-color: #729c1f\">━━━━━━━━━━━━━━━━━━━━━━━━━━━━━━━━━━━━━━━━</span> <span style=\"color: #800080; text-decoration-color: #800080\">100%</span> <span style=\"color: #808000; text-decoration-color: #808000\">0:00:00</span>\n</pre>\n"
                },
                "metadata": {}
              }
            ]
          }
        },
        "15f75fcb0d1f4248a988ec79898f490a": {
          "model_module": "@jupyter-widgets/base",
          "model_name": "LayoutModel",
          "model_module_version": "1.2.0",
          "state": {
            "_model_module": "@jupyter-widgets/base",
            "_model_module_version": "1.2.0",
            "_model_name": "LayoutModel",
            "_view_count": null,
            "_view_module": "@jupyter-widgets/base",
            "_view_module_version": "1.2.0",
            "_view_name": "LayoutView",
            "align_content": null,
            "align_items": null,
            "align_self": null,
            "border": null,
            "bottom": null,
            "display": null,
            "flex": null,
            "flex_flow": null,
            "grid_area": null,
            "grid_auto_columns": null,
            "grid_auto_flow": null,
            "grid_auto_rows": null,
            "grid_column": null,
            "grid_gap": null,
            "grid_row": null,
            "grid_template_areas": null,
            "grid_template_columns": null,
            "grid_template_rows": null,
            "height": null,
            "justify_content": null,
            "justify_items": null,
            "left": null,
            "margin": null,
            "max_height": null,
            "max_width": null,
            "min_height": null,
            "min_width": null,
            "object_fit": null,
            "object_position": null,
            "order": null,
            "overflow": null,
            "overflow_x": null,
            "overflow_y": null,
            "padding": null,
            "right": null,
            "top": null,
            "visibility": null,
            "width": null
          }
        }
      }
    }
  },
  "cells": [
    {
      "cell_type": "markdown",
      "metadata": {
        "id": "view-in-github",
        "colab_type": "text"
      },
      "source": [
        "<a href=\"https://colab.research.google.com/github/sdeshmukh99/Generative-AI-Showcase/blob/main/Showcase_02/OpenAI_Whisper_Model_Transcription_and_Translation.ipynb\" target=\"_parent\"><img src=\"https://colab.research.google.com/assets/colab-badge.svg\" alt=\"Open In Colab\"/></a>"
      ]
    },
    {
      "cell_type": "markdown",
      "source": [
        "### 1: Install Dependencies\n",
        "This section ensures that all required libraries and packages are installed before running the code."
      ],
      "metadata": {
        "id": "fK-4aePu895m"
      }
    },
    {
      "cell_type": "code",
      "source": [
        "# Install necessary libraries\n",
        "%%capture\n",
        "!pip -q install openai  # Install OpenAI Python library to interact with the OpenAI API\n",
        "!pip -q install pyannote.audio==3.1  # Install Pyannote Audio for speaker diarization\n",
        "!pip -q install gradio  # Install Gradio to create a user-friendly interface for transcription/translation\n",
        "!pip -q install -U git+https://github.com/openai/whisper.git  # Install Whisper model from OpenAI GitHub\n",
        "!pip -q install gTTS  # Install Google Text-to-Speech library for text-to-speech conversion\n",
        "\n"
      ],
      "metadata": {
        "id": "WvzWoGOb9CD9"
      },
      "execution_count": 2,
      "outputs": []
    },
    {
      "cell_type": "markdown",
      "source": [
        "### 2: Import Required Libraries\n",
        "This section imports all the essential Python packages used throughout the script."
      ],
      "metadata": {
        "id": "3M6eBekg9GAQ"
      }
    },
    {
      "cell_type": "code",
      "source": [
        "# Import necessary libraries for the functionality\n",
        "%%capture\n",
        "import os  # For operating system related functions like file management\n",
        "import matplotlib.pyplot as plt  # For visualizing spectrograms\n",
        "import torch  # PyTorch library for tensor computations\n",
        "import torchaudio  # PyTorch library for audio processing\n",
        "import whisper  # Whisper model from OpenAI for transcription and translation\n",
        "import openai  # OpenAI library to interact with Whisper API\n",
        "from openai import OpenAI  # To instantiate an OpenAI client for API calls\n",
        "from gtts import gTTS  # Google Text-to-Speech for converting text to audio\n",
        "from pyannote.audio import Pipeline  # Pyannote pipeline for speaker diarization\n",
        "from pyannote.core import Segment  # For time segmentation of speakers\n",
        "from pyannote.audio.pipelines.utils.hook import ProgressHook  # For progress monitoring of the diarization process\n",
        "from IPython.display import Audio, clear_output  # To play audio and clear Jupyter cell output\n",
        "import gradio as gr  # Gradio for building a simple UI interface\n",
        "\n"
      ],
      "metadata": {
        "id": "ZIXlClwg9QIV"
      },
      "execution_count": 3,
      "outputs": []
    },
    {
      "cell_type": "markdown",
      "source": [
        "### 3: Whisper Model Setup"
      ],
      "metadata": {
        "id": "qvmMU6iCEx_k"
      }
    },
    {
      "cell_type": "markdown",
      "source": [
        "#### 3.1 Loading Whisper Model\n"
      ],
      "metadata": {
        "id": "yrOzSM949SXN"
      }
    },
    {
      "cell_type": "code",
      "source": [
        "# Load Whisper model for transcription (base model)\n",
        "model = whisper.load_model(\"base\")\n",
        "\n",
        "# Check which device (CPU/GPU) is being used by the model for computation\n",
        "model.device"
      ],
      "metadata": {
        "id": "bQjAucdeFKrS",
        "colab": {
          "base_uri": "https://localhost:8080/"
        },
        "outputId": "46835314-6607-42ea-8621-7191f7d6fd7f"
      },
      "execution_count": 4,
      "outputs": [
        {
          "output_type": "stream",
          "name": "stderr",
          "text": [
            "100%|████████████████████████████████████████| 139M/139M [00:01<00:00, 142MiB/s]\n",
            "/usr/local/lib/python3.10/dist-packages/whisper/__init__.py:150: FutureWarning: You are using `torch.load` with `weights_only=False` (the current default value), which uses the default pickle module implicitly. It is possible to construct malicious pickle data which will execute arbitrary code during unpickling (See https://github.com/pytorch/pytorch/blob/main/SECURITY.md#untrusted-models for more details). In a future release, the default value for `weights_only` will be flipped to `True`. This limits the functions that could be executed during unpickling. Arbitrary objects will no longer be allowed to be loaded via this mode unless they are explicitly allowlisted by the user via `torch.serialization.add_safe_globals`. We recommend you start setting `weights_only=True` for any use case where you don't have full control of the loaded file. Please open an issue on GitHub for any issues related to this experimental feature.\n",
            "  checkpoint = torch.load(fp, map_location=device)\n"
          ]
        },
        {
          "output_type": "execute_result",
          "data": {
            "text/plain": [
              "device(type='cpu')"
            ]
          },
          "metadata": {},
          "execution_count": 4
        }
      ]
    },
    {
      "cell_type": "markdown",
      "source": [
        "#### 3.2 Test the Whisper Model with Audio"
      ],
      "metadata": {
        "id": "TXGxcLVMFDpC"
      }
    },
    {
      "cell_type": "code",
      "source": [
        "# Download a sample audio file for testing\n",
        "from IPython.display import clear_output\n",
        "!wget -O audio.mp3 http://www.moviesoundclips.net/movies1/darkknightrises/darkness.mp3\n",
        "clear_output()  # Clear the output to avoid clutter\n",
        "!ls | grep '.mp3'  # Verify that the audio file is downloaded\n",
        "\n",
        "# Play the downloaded audio file\n",
        "audio = \"audio.mp3\"\n",
        "Audio(audio)  # Use IPython Audio to play the file\n",
        "\n",
        "# Process the audio file using Whisper model\n",
        "audio_data = whisper.load_audio(audio)  # Load the audio data\n",
        "audio_data = whisper.pad_or_trim(audio_data)  # Pad or trim the audio to fit model's input requirements\n",
        "\n",
        "# Generate log-Mel spectrogram and move it to the same device as the model\n",
        "mel = whisper.log_mel_spectrogram(audio_data).to(model.device)\n",
        "\n",
        "# Output shape of the spectrogram\n",
        "mel.shape\n",
        "\n",
        "# Visualize the spectrogram using matplotlib\n",
        "plt.figure(figsize=(10, 5))\n",
        "plt.imshow(mel)\n",
        "plt.show()\n",
        "\n",
        "# Detect the spoken language in the audio\n",
        "_, probs = model.detect_language(mel)\n",
        "detected_language = max(probs, key=probs.get)  # Identify the most probable language\n",
        "print(f\"Detected language: {detected_language}\")\n",
        "\n",
        "# Decode the transcription using Whisper model (this may take time if running on CPU)\n",
        "options = whisper.DecodingOptions(language='en')  # Define options for decoding (e.g., set language)\n",
        "result = whisper.decode(model, mel, options)  # Perform the decoding/transcription\n",
        "print(result.text)  # Output the transcribed text\n",
        "\n"
      ],
      "metadata": {
        "id": "UwGoiTKC9ZVw",
        "colab": {
          "base_uri": "https://localhost:8080/",
          "height": 160
        },
        "outputId": "7d20d05e-a7e4-4bff-e2ac-ec85abc4424e"
      },
      "execution_count": 5,
      "outputs": [
        {
          "output_type": "stream",
          "name": "stdout",
          "text": [
            "audio.mp3\n"
          ]
        },
        {
          "output_type": "display_data",
          "data": {
            "text/plain": [
              "<Figure size 1000x500 with 1 Axes>"
            ],
            "image/png": "[encoded data removed]"
          },
          "metadata": {}
        },
        {
          "output_type": "stream",
          "name": "stdout",
          "text": [
            "Detected language: en\n",
            "Oh, you think darkness is your ally? You merely adopted the dark. I was born in it, more lived by it. I didn't see the light until I was already a man, but then it was nothing to me but bright!\n"
          ]
        }
      ]
    },
    {
      "cell_type": "markdown",
      "source": [
        "### 4: Transcription and Translation Functions\n",
        "This section defines the function to transcribe speech to text and translate it to the desired language using Whisper and Google Text-to-Speech.\n",
        "\n",
        "\n"
      ],
      "metadata": {
        "id": "p0_0yxuZ9dVF"
      }
    },
    {
      "cell_type": "markdown",
      "source": [
        "#### 4.1 Transcription Function"
      ],
      "metadata": {
        "id": "-uvFYFiRGC7s"
      }
    },
    {
      "cell_type": "code",
      "source": [
        "# Dictionary mapping language names to their codes for translation and transcription\n",
        "lang_mapping = {'English': 'en',\n",
        "                'Spanish': 'es',\n",
        "                'French': 'fr',\n",
        "                'German': 'gr',\n",
        "                'Italian': 'it',\n",
        "                'Japanese': 'ja'}\n",
        "\n",
        "# Function to transcribe audio and translate to the selected target language\n",
        "def transcribe(audio, target_language):\n",
        "    target_language = lang_mapping[target_language]  # Map the selected language to its code\n",
        "    if audio is None:\n",
        "        return \"No audio input received.\", None\n",
        "\n",
        "    try:\n",
        "        # Load and process the audio for transcription\n",
        "        audio_data = whisper.load_audio(audio)\n",
        "        audio_data = whisper.pad_or_trim(audio_data)\n",
        "\n",
        "        # Generate log-Mel spectrogram and move it to the model's device\n",
        "        mel = whisper.log_mel_spectrogram(audio_data).to(model.device)\n",
        "\n",
        "        # Detect the spoken language in the audio\n",
        "        _, probs = model.detect_language(mel)\n",
        "        detected_language = max(probs, key=probs.get)\n",
        "\n",
        "        # Decode the audio into text in the target language\n",
        "        options = whisper.DecodingOptions(language=target_language)  # Specify target language\n",
        "        result = whisper.decode(model, mel, options)\n",
        "\n",
        "        # Convert the transcribed text to speech using Google Text-to-Speech (gTTS)\n",
        "        tts = gTTS(text=result.text, lang=target_language)\n",
        "        audio_output_path = \"output_audio.mp3\"\n",
        "        tts.save(audio_output_path)  # Save the generated audio to a file\n",
        "\n",
        "        return f\"Detected language: {detected_language}\\nTranscription: {result.text}\", audio_output_path\n",
        "\n",
        "    except Exception as e:\n",
        "        return f\"Error during transcription: {str(e)}\", None  # Handle any errors that occur\n"
      ],
      "metadata": {
        "id": "jGYCm_Tm9iiR"
      },
      "execution_count": 6,
      "outputs": []
    },
    {
      "cell_type": "markdown",
      "source": [
        "#### 4.2 Testing the above Function to Transcribe Audio File in French\n",
        "This subsection demonstrates downloading a sample French audio file and running the transcribe function to convert it into English text and audio.\n"
      ],
      "metadata": {
        "id": "oIvyAiW4ClL1"
      }
    },
    {
      "cell_type": "code",
      "source": [
        "# Download a sample French audio file for testing\n",
        "from IPython.display import clear_output\n",
        "!wget -O french.mp3 https://www.lightbulblanguages.co.uk/resources/audio/quelageastu.mp3\n",
        "clear_output()\n",
        "!ls | grep 'french.mp3'  # Verify that the file is downloaded\n",
        "\n",
        "# Play the downloaded French audio\n",
        "Audio('french.mp3')\n",
        "\n",
        "# Transcribe and translate the French audio into English using the transcribe function\n",
        "inp_lang, output_file_path = transcribe('french.mp3', target_language='English')\n",
        "print(inp_lang)  # Print detected language and transcription\n",
        "\n",
        "# Play the translated English audio\n",
        "Audio(output_file_path)\n",
        "\n"
      ],
      "metadata": {
        "id": "8Nsa8ZWJCqbu",
        "colab": {
          "base_uri": "https://localhost:8080/",
          "height": 128
        },
        "outputId": "d9da5ced-f379-4c16-9b1d-c39c43ce319c"
      },
      "execution_count": 7,
      "outputs": [
        {
          "output_type": "stream",
          "name": "stdout",
          "text": [
            "french.mp3\n",
            "Detected language: fr\n",
            "Transcription: What did I do? I have 4 I have 5 I have 6 I have 7 I have 8 I have 9 I have 10 I have 11\n"
          ]
        },
        {
          "output_type": "execute_result",
          "data": {
            "text/plain": [
              "<IPython.lib.display.Audio object>"
            ],
            "text/html": [
              "\n",
              "                <audio  controls=\"controls\" >\n",
              "                    <source src=\"data:audio/mpeg;base64,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\" type=\"audio/mpeg\" />\n",
              "                    Your browser does not support the audio element.\n",
              "                </audio>\n",
              "              "
            ]
          },
          "metadata": {},
          "execution_count": 7
        }
      ]
    },
    {
      "cell_type": "markdown",
      "source": [
        "### 5: Using Whisper through OpenAI API\n",
        "This section demonstrates how to authenticate with the OpenAI API, create a client object, and use Whisper's `transcriptions` and `translations` endpoints for processing audio files.\n",
        "\n"
      ],
      "metadata": {
        "id": "qGS3-SyR9oc8"
      }
    },
    {
      "cell_type": "markdown",
      "source": [
        "#### 5.1 API Authentication"
      ],
      "metadata": {
        "id": "pv25UI8HGnYp"
      }
    },
    {
      "cell_type": "code",
      "source": [
        "# OpenAI API Key Authentication\n",
        "from google.colab import userdata\n",
        "\n",
        "# Retrieve the API key stored as a secret in Google Colab\n",
        "openai_api_key = userdata.get('OPENAI_API_KEY')\n",
        "\n",
        "# Check if the API key is successfully retrieved\n",
        "if openai_api_key is None:\n",
        "    print(\"API key not found. Please check if it's stored correctly in Colab Secrets.\")\n",
        "else:\n",
        "    print(\"API key successfully retrieved!\")\n"
      ],
      "metadata": {
        "id": "0FXck__cGr_I",
        "colab": {
          "base_uri": "https://localhost:8080/"
        },
        "outputId": "aa30c594-1a77-4fbc-9edd-5956d41af060"
      },
      "execution_count": 9,
      "outputs": [
        {
          "output_type": "stream",
          "name": "stdout",
          "text": [
            "API key successfully retrieved!\n"
          ]
        }
      ]
    },
    {
      "cell_type": "markdown",
      "source": [
        "#### 5.2 Create OpenAI Client"
      ],
      "metadata": {
        "id": "NtH78svPGuew"
      }
    },
    {
      "cell_type": "code",
      "source": [
        "# Import the OpenAI module and create a client object to interact with the API\n",
        "from openai import OpenAI\n",
        "\n",
        "# Instantiate an OpenAI client with the retrieved API key\n",
        "client = OpenAI(api_key=openai_api_key)\n",
        "\n",
        "# Now you can use `client` to call the Whisper model or other APIs\n"
      ],
      "metadata": {
        "id": "epN78Mkw9sRk"
      },
      "execution_count": 10,
      "outputs": []
    },
    {
      "cell_type": "markdown",
      "source": [
        "#### 5.3 Using Whisper for Transcription and Translation\n",
        "The OpenAI Whisper API provides two key functionalities for processing audio:\n",
        "\n",
        "1. Transcriptions: Converts audio into text in the original language.\n",
        "2. Translations: Converts audio into English text (regardless of the original language).\n",
        "The API accepts several audio file formats including mp3, mp4, mpeg, mpga, m4a, wav, and webm. File uploads are limited to 25 MB."
      ],
      "metadata": {
        "id": "zQoXupqFb6pR"
      }
    },
    {
      "cell_type": "markdown",
      "source": [
        "##### 5.3 A Transcribe Audio using OpenAI Whisper API\n",
        "The following code demonstrates how to transcribe an audio file (in this case, \"audio.mp3\") into text using Whisper's `transcriptions` endpoint."
      ],
      "metadata": {
        "id": "bgFQ13oNO6xY"
      }
    },
    {
      "cell_type": "code",
      "source": [
        "# Import the necessary module to play audio\n",
        "from IPython.display import Audio\n",
        "\n",
        "# Play the sample audio file to be transcribed\n",
        "Audio(\"audio.mp3\")\n",
        "\n",
        "# Open the audio file for transcription\n",
        "audio_file = open(\"audio.mp3\", \"rb\")\n",
        "\n",
        "# Transcribe the audio using Whisper's transcription model\n",
        "transcription = client.audio.transcriptions.create(\n",
        "  model=\"whisper-1\",  # Specify the Whisper model to use for transcription\n",
        "  file=audio_file     # Pass the audio file to the API\n",
        ")\n",
        "\n",
        "# Print the transcribed text\n",
        "print(transcription.text)\n"
      ],
      "metadata": {
        "colab": {
          "base_uri": "https://localhost:8080/"
        },
        "id": "ghactM4dO_Ad",
        "outputId": "58ec0bf9-d310-45f0-c392-217a616ff013"
      },
      "execution_count": 11,
      "outputs": [
        {
          "output_type": "stream",
          "name": "stdout",
          "text": [
            "Oh, you think darkness is your ally. You merely adopted the dark. I was born in it. Molded by it. I didn't see the light until I was already a man. By then it was nothing to me but blight.\n"
          ]
        }
      ]
    },
    {
      "cell_type": "markdown",
      "source": [
        "##### 5.3 B Directly Return Transcribed Text\n",
        "If you only need the text output and want to bypass other metadata, you can request the transcribed text directly in plain text format."
      ],
      "metadata": {
        "id": "X6tnfxOGG6v4"
      }
    },
    {
      "cell_type": "code",
      "source": [
        "# Directly request the transcribed text (in plain text format)\n",
        "transcription_text = client.audio.transcriptions.create(\n",
        "  model=\"whisper-1\",    # Use Whisper model\n",
        "  file=audio_file,      # Pass the audio file\n",
        "  response_format=\"text\"  # Request the response in text format only\n",
        ")\n",
        "\n",
        "# Print the directly returned transcription text\n",
        "print(transcription_text)\n"
      ],
      "metadata": {
        "id": "VPzddRBbHBrX",
        "colab": {
          "base_uri": "https://localhost:8080/"
        },
        "outputId": "60685e77-e157-4f2b-e1d5-179b877b4102"
      },
      "execution_count": 12,
      "outputs": [
        {
          "output_type": "stream",
          "name": "stdout",
          "text": [
            "Oh, you think darkness is your ally. You merely adopted the dark. I was born in it. Molded by it. I didn't see the light until I was already a man. By then it was nothing to me but blight.\n",
            "\n"
          ]
        }
      ]
    },
    {
      "cell_type": "markdown",
      "source": [
        "#### 5.4 Translate Audio Using Whisper API\n",
        "The Whisper API can also translate non-English audio into English. In the following example, we download a sample French audio file and use the translations endpoint to translate it into English text."
      ],
      "metadata": {
        "id": "uQxp_bxfc60k"
      }
    },
    {
      "cell_type": "markdown",
      "source": [
        "##### 5.4 A Download a Sample French Audio File\n"
      ],
      "metadata": {
        "id": "RTg3TSh8dCuo"
      }
    },
    {
      "cell_type": "code",
      "source": [
        "# Download a sample French audio file for translation\n",
        "from IPython.display import clear_output\n",
        "!wget -O french.mp3 https://www.lightbulblanguages.co.uk/resources/audio/quelageastu.mp3\n",
        "clear_output()  # Clear output for a cleaner view\n",
        "!ls | grep 'french.mp3'  # Verify that the file was downloaded\n"
      ],
      "metadata": {
        "colab": {
          "base_uri": "https://localhost:8080/"
        },
        "id": "vbaqGIp9dF_s",
        "outputId": "0cc25ed5-da56-45b7-c581-029ea64fee74"
      },
      "execution_count": 13,
      "outputs": [
        {
          "output_type": "stream",
          "name": "stdout",
          "text": [
            "french.mp3\n"
          ]
        }
      ]
    },
    {
      "cell_type": "markdown",
      "source": [
        "##### 5.4 B Translate Audio Using Whisper API\n"
      ],
      "metadata": {
        "id": "50mdW5IzdHRw"
      }
    },
    {
      "cell_type": "code",
      "source": [
        "# Play the downloaded French audio file\n",
        "Audio(\"french.mp3\")\n",
        "\n",
        "# Open the French audio file for translation\n",
        "audio_file = open(\"french.mp3\", \"rb\")\n",
        "\n",
        "# Translate the French audio into English using Whisper's translation model\n",
        "translation = client.audio.translations.create(\n",
        "  model=\"whisper-1\",     # Use Whisper model for translation\n",
        "  file=audio_file,       # Pass the French audio file\n",
        "  prompt='Translate to English'  # Request translation to English\n",
        ")\n",
        "\n",
        "# Print the translated text in English\n",
        "print(translation.text)\n"
      ],
      "metadata": {
        "colab": {
          "base_uri": "https://localhost:8080/"
        },
        "id": "s02OA-axdLTT",
        "outputId": "033e277c-409b-45f5-a5cd-7090240c0755"
      },
      "execution_count": 14,
      "outputs": [
        {
          "output_type": "stream",
          "name": "stdout",
          "text": [
            "Quel âge as-tu? J'ai quatre ans. J'ai cinq ans. J'ai six ans. J'ai sept ans. J'ai huit ans. J'ai neuf ans. J'ai dix ans. J'ai onze ans.\n"
          ]
        }
      ]
    },
    {
      "cell_type": "markdown",
      "source": [
        "### 6: Text-to-Speech Example\n",
        "This section uses the `TTS (text-to-speech)` model from OpenAI, specifically designed to generate speech from a given input text. The API handles the conversion of the text into audio using pre-trained models, such as the `tts-1` model.\n"
      ],
      "metadata": {
        "id": "wIfnhT1iRNXQ"
      }
    },
    {
      "cell_type": "code",
      "source": [
        "# Text to convert into speech\n",
        "input_text = \"This showcase is written by Shantanu Deshmukh!\"\n",
        "\n",
        "# File path to save the generated speech\n",
        "save_speech_file_path = \"speech.mp3\"\n",
        "\n",
        "# Use OpenAI API to generate speech from the text\n",
        "response = client.audio.speech.create(\n",
        "    model=\"tts-1\",      # Use the TTS model from OpenAI\n",
        "    voice=\"alloy\",      # Select the voice for speech output\n",
        "    input=input_text    # The text to be converted into speech\n",
        ")\n",
        "\n",
        "# Save the generated speech audio to a file\n",
        "response.write_to_file(save_speech_file_path)\n",
        "\n",
        "# Play the generated speech audio\n",
        "Audio(save_speech_file_path)\n"
      ],
      "metadata": {
        "colab": {
          "base_uri": "https://localhost:8080/",
          "height": 75
        },
        "id": "BBQtIDnxRSwl",
        "outputId": "e7dfc1a9-d35f-424b-ed4d-7c118a32a3bb"
      },
      "execution_count": 15,
      "outputs": [
        {
          "output_type": "execute_result",
          "data": {
            "text/plain": [
              "<IPython.lib.display.Audio object>"
            ],
            "text/html": [
              "\n",
              "                <audio  controls=\"controls\" >\n",
              "                    <source src=\"data:audio/mpeg;base64,//PkxABbPDnMXt5eZKkREbLkPnuTLY4+rINgHDOFozYbN3lzcyEDBBiAsWB0zlBO89Ycy3TjhNcsvWQxsTgrgKgyHicIIY5KDwXQXgmB0HyOM0CCEIQg/BCBDBcDgnb1G2VNwvA+zqHWGYBAFwJwXBQD4CQAqxM1XAYVWwOJziaCaBHBMFhjZ2M5wBAUirJ4Qh1CJQeEVTHgLeZw/FINxAkIO88gTAdB+CaEZCvG4AsE0YHA/2Y0C2DjL+BfDTUilLmqz8QY3CWBwALAdDa5EEFjc38M3yFkrCPknlXDih7cWwQgcDJHhkrHrLmh6HlvIWWBDDQNAI4OgkY41HEPwhDKnyVgpxYy3g5BME6PWPWS+NKvELnLuA7gQw6z0SjEAXhKyeIaQtbUhbCEBHwHcDGXvRIzHEkOEcBMw1ZL4SsUFUQJmklhjT51xjvJeXwNQLgJolVWMAMAWwNNThHzyVJc5yRjHRaPgRLohZcjQEnDnUaHubG5m4JogYKSHcmEUk/hgkSUubSKoXmLUKvxqGwpAZDqPBmHJE5BjtAgYYVyASGCFBJJgU4H8YL0CnGAKAIxgwgH4IwPswRcABMAYAZAaaW7Oo5G8tebSBZkLmCRIEOQOIjC/hmkhYk04QES//PkxGZzXDnACP5wtCgY0SdIo48DkQVkAjzTFQwKFB4ZGUaDDmjgaLaGL+ZKo9kYaB4mmeEXYTAc5cA3dWwBDBzja8xoCEmKyPaloACFTiSkhDAcBhEM0MC5q3EmBlYyBN03tR0BSHORgcNW4uOcrMOQLFjGawZF8UeQqJgYXaXkHXl1QIgIUpeJATTVcEAFQMpEnBxywFn7Oje0KlTXVmaKkoULhANA11NNOBb6ESsTCwuGNjFy6xMlIAVkXjTDaOvUnWvZNZOkDIaeDRtFSMXgIwhCxCNZSarJEbB4qt4WGXpaupwx0QiGgJ8JcNoDqKDRQuetst6WsXi/4YuQKI0D/ExCoEtElQLeXincX9Coi68BlwE0IBRaQAKwZN0T6moLT+DFrVQkioVB0noEYO/8XU6bOnkxlujXWiMMaCwxMiUuiBRiELTlgnVa2FjJVsMQqf2YV0kKUHEQU9lmrrLuKCMBQEM/Z6p9A96lRvE1NCprFTCVgO8xU49UM0sT6Tf8uvwye9XuNOMUwTHRTtQyW0DxMBfD8zCZwXswYcIOMEdAtzBDgRswDUGAMETArzCiAR0wBkFSMA4AezATABoiAGSIAEMAFADwIAHMADgB0HAASX48iYhYHeMZEqgg//PkxGtwdDnUAV/IAHLJgRYGhGCwus4YJFNYgsFl9jHLLhlqwUYjKFxiANmqFjTBoEuM4YMIUzSFLRJiAoQsEMpS7T1UHXqlQwVQFKNVBABI4mPAF9EITICTMMkFoo8MzQiJSqQsRPftI8KACoiOrI0e2eOAnIkcLKEwQQCsaFhAo8WyMGHGcMGCDgSJBfQ0hCyCvQEHcCwwC4MVUIjBzgkFCFQQdEmFlmGcsNFmEl0Eo6CYoTbrHXmztDNm6nTlS9p69l2KEvE0VRFcrF3+UXUztvW2FznCdhmCr3HR0WFR0ZE1RIFKeOUbDk8GAJIMlLtzjpqvXoylcbR2UsagFWtUjrhgcicsHCNWX11gCPBeCMLycuKQGyNackh1TBEpmMXaQsApBkCikBN60SGWEP8yB1FZ3JYOpe1+BUkHUXw02Kv5OXV8pltcaG5U05bZaNpDkQ2wtpTSJRH0jIlxOeYZXGEACBCBCCBAwTS+jFKHVMP8Ik4GR8TCMCrOD6AowHAvDANA/MLEI0wzQMzLAIADGUxIDoFAaGC4C0YKoG5gmhRigfEYZZDpkB4GHAGBzMYcyxbNeM1FXDVsoTLiozgsEAGKlI6bGuiRqIKIENicsXRE38NZZTYSkz4yM0Lg//PkxHx6xDolkZ7YAMHDK9Mw2cM4RzSCE1yZbZ359iEvhJrBsYIEmLgZryoaIaGQAACRTbAY1wLM4DgurhzZLIw9sokEsyMfFTExExEBMcDjFBQSEAQIBUBAQWYEPL9QLMoMzFTjOLSKzSy2172GVFRkgYaWSiwW2iQJgIGYSAmBhZuIwEIZpKUChIyQBGgAxIdNDICAXo5VLOxuhpcp+/L5eps/g0TpmrqAIIYkEAoEFApNhIQxwiAQ8LJphyMPU5k7cYERmnKZmCSLKSCMygpBKRDE5SxecdS5KHcsW56MdvVDGBQHGAFESsHYWpuAgBQ8yQUKAhYgsJsrdsWBIfMpGzIRYoFzOA4yMMInUyZTMkPwcVAYGMDGEb0vF0J9FlKSkwzz3rXb/17+8d873H/lZhwIYICIDEB6N4YDmJATXW/LeNcdRv26PIWnAICGAYGEGaVTAwkxARAxGUCoqBmEFYsihwwxFCYYAEu04UDNJX6FwBK1FJMdal8IIqAYYKAFRgUhCGHaOYZm5YRzPHNGQEGcYSQNZiaBWGXEuyYvKzho3EfGFMGGYYIcgcE2YNQIZhFg4mCqAaOARhADJIAcAAETAjAhGQAUVkJIcAGDi8ILwCHmGBwFCRwYMQGA//PkxGR1pDo4o97YACGACGQgBMRCAM+AYZAWIMHoawHAtZ5bKEjoQTm5lZoRQYoJg4aCpSY0KCMPCEQx0HEaCnYMhBooqZEKGSGBoAaZKpDaAayGmCl5aJn4OGxEDGCAwcDLfgNYzDEgZbNMsjqajmq7gpIhDNJ9m40BlUGCwiZaLhBOBBQwoDMHHQSKGGgZh4GmQ3qJ7uPCxNjcblT7P1EYU9rwsmd14bLOGTK6dBZa/3UkkYYares6bX/DbzNO2968L0w8LWK7dVKVgX1bvFmnOU77sNTbGyl1a8jcKAXodVhzlMKfVLVurBlf6ZoytkCNoKBFpv+hSv16kKGhNOeOD4AaYkm90Hp6IOtYo1B2JrsKAJXBEAQOlwkcAgdTBVF1zBQMGgBZiMAYkQBl+09BQBEgMhAA4EYKqdINfisBdiHLSQj0gEFepsyf62i7oCD0H0cgcAMwZGkm+6KRcB9QYBMUVTUKQcaoFgJGByEZy26s6aRMCM/a/K12UTEl4AWgiEBhP0hAAMAID8wNA2jKTU2NcIpQoD4MCIBMwYhIzHGIBMxBQc9qMjDIxMIgAw4ZLsllHQ2C3CgaUlWMmjOrQcjVvGAKPoXJGHRmdDtJUyZeYAO01FNVxmyAYiMA//PkxGBzFDpENPc0YLzH8jlSjIRDNaT3BTcqAoFDIxkwgcSUvIhoqABIoRBDChBpGZIKBAYshMKjNCuKiFnwIKmaCE10GGFV2cIqvcnwtaemoCbZ73+lTcrLbo/KENlVAigAhxnT4Y4ByEwYVfJk0wdmPSWGBBmS4kNNKDMyfCGgOAAwI1Iwo8s+FiBMNEQJZKugYCMMcNICRkGgI8LBR4yg4xqsHFyIyHN0VwwKIRoObL5amEEhGMTtTaAwxj8EsJZXLoIXhIWJuW4LptPlyt6ANq8TXW2kcUEYIkIvtS9XTEGWvGsE0B+4OeykU3XXFVFm4JBOmpisppSQMqbOgOYM2N0OSwHC1mrCNzRQQlEoFiCDyS7orEVugtDwHAQaHHjINGCgGddNAtFQvmQC1JFt2nNuiAl6mMoarUtBuDSEyRYkY8OlkWUTSFATdnSa4CQqXECqYI+twLUopKasFflTdy1XoUsELZiQBV6sq+2SMxSWgNy2VM/VMAEBUHAFrRFATgIEOYPCIhn1HQmAsBokwIwBzARAZMQcbUzDgYwEByGAHJOw0KhBZ04hWbv6zFy00nWmmWPLDGFtaUml0NyRNFcK0mBBcMkYMG0wuzKYZogNRKAzoRKpFgs48ogB//PkxGZ25DpEAPZ0nDCFUg8jB2ImMQYtB2KDSpipCCcUGNqQFA7E0vGf2JDF4MgGXLYbiCBAKCLCTgjJmpWkQo1CoBDTIFEYRrWZYgYgWY+ONOzCBAyKSnD6ciuICYR4pRgo5yxplIhzmxxXJzTpjCBhX520pCcB10x583sU+E4WsnT9nvjkh4DKDAHgInOu7OoaHRZowYkYNbDOqBMUMAgsRgDUqwyOstdS0zWwTZly7a0h0MYQYLALo4IMkOMwSAQEFK5OzUwI0IJioEVGEwQAlSgeZcWsYwBAOCFoQIELQlm1GgguaIMYIMWkEiJcQABhEEWgXXTfX8YwYYgIjkXoVtTDAoOAgSPDi6KgVJmBEmLFmJBmSDGODAYQYgQkQqqjmpkDAS/0OAUBF5FyJkllU3AwADgYsLLhgQKW3HRZcsmDiIQhJAQrMu6nONBUeFmNqx4wYAVCQFWVKNCEUIo6jOVU3bSnLjrua9TUjlPA0+LQ7Kp1wHKjUDu1M0kAuHF1MMHM2MMQYMCIMdJNoGOfiK2qECewNRm8tnSIqUMrirjuk/UDROmltNUp6CSwfKa9Zpdrt21Saeqih+RAoUBiyORhQyvG4tNfSnvPu9q84247CYSvafLKiAIYAyOI//PkxF15/DpYANbzrIzYYxoFXEHK3BAdiwFClp2HUCGLAparwiLxoRMBCw4LGRsyIeMlMhkZMpiziBwxItDBY08fMJZzMSURIxnaaTFJoYsZ2MmjSpo9cYGTnKFxv52GjZgjCcceBTEPAtDql8oVzgxk0YiNRNzJBo2EgM4FzTUMz7cMnGDQIc0NANmgzeRY49/NCKzLx81UfNAKQrWGYvZlJ4Y2OGTDREamHIJghQYYai04MlBsBoZMGmEIhg52LD5nAsZyFmGkijphCWZ6AmDDxEamGCRMDgosAxcYuYiQAZuBiMtMjBnGMQCxRkqGFNBvOKPCuRxrhCJzimIUGBGdANoKbAsJQkenEMQGxQIJoECIY2djgUiOZc1QDFjZCrEbAxsmkyBoNBHD6hxgKtBBCBgcob5ZloDQgwYTGmqehEWCkhE80TxEcxUDAGEIkaOtLTeFVZRswYxo8xT4PZQLCBwAQPHEeIDSOZYmahLdFzEfwg9BI0gRBNdS/DgHkiCspa8DBixb6AAQOHa3HlB5+XJCLsYGBlgSAzABggCzn39n6rvTzTHjgWOQzSymc+N1ta7La83TbsS6VXrW8q1NTQW9UCUD8obRdM9lN6inY802OOmyuHlDmWKaQwiC//PkxEh0tDplYNb1xIdkk2aoAR0NbU8o4kcnkgNKBw6BMKLMqbCwQxgow6c2q00iAwioDJDKThAFPDPOOtEYgxh06m0KJjSDTVLzRIzPVjkKhxUFGA0FDEhMcShUpMXKDF3I1ZeNBkDNCMwESMrITKWsyQ3AzmYONmGEZmIMZOigLuNIRTUQg0JPMBLwkNMWYTQRYwF0NWZBpeMzOhSPAwwCnQLpphB+HCAVATGAQFTJliEYwwdEgDPp7yJngBvDQAJmSXGJgm/DhGcjXmMKhYMaJK9xgwQVPhBQwgpKcw6kChzGKwxaaRAYoKFCAKZGFAGcRmDKgZAQFzBLBgCClZjTQXMGuDGoKBQfIzIAzLkDBKG9MspAYchFFvxQUZAWMrg5UX+FmDjiAMmCvhLwDHzQC2DpijxExoos6BgKSLFXoLbiEAWZDAQYLTQTcLepnMOLcK/S7WFDjacJVCgo8zwtojgDiyvi+qKgkDR+VNLhwChct4s7KXFcdnLch4CghZkoK8ic6XFMiskZPP5Gl8tyZFTw5Wf+KBpCoGRlzrZ1MZmvbv3N9uWLU9R2Ldnty/ulzzqyy3SS67TXK+UlnpbKWHvTBcBUUNSmzC3Fdp71ntUh54HmX7JX0ghggiHI//PkxEhmDDpxgMazjMsotxXBQPRFLBFD9LUiDGEQiwMEPTOzCKwHHBDPMDXMgvB5c+y87NU3841pwzbs8lszqAUaGqaGQDCn0eKgKqZEWZAuYSggsYZkAmB4XBoSwKbCJaZQgZ0wZc+DBJnGwtNNcXMgaMCxOgwHtQXnAo4CQhoQARGNGQNYIKq1BONDwQnNILMCFCxIwyUKhSyo1QBhsHOmYQAtTaCTiN+gyixKZJw8RzBBMus2zzGsNlps4ygZgiWJSSYh4GFEIZpCDgKhQiJMExUyCoiPDA0dQMKHKL9HpQAQykRABC6oy8C9QhwSBixCoAggKIACQ4VCovUsKiaq5K1gMseUKgJ9N41BHlwpS1tYr0vXHmCV44tSIQQ3K+pzTT66FBJEyhcDb4LMm2vuZ2GIDhpsr7wq3KpDROM9r/QEzFmK5ZQ6FaFuu8c+6UM1W6vwuiVwC0CHL9U+l4FyETBARniYnIw/qSAlIr1Eka2G0iKrTpYXFnYdZe9GTYTDP27u8vWnkc7eoXUk0EytdbzSijjKyJaxpCahkoEqqtJ+lVkNkch4soKBRAKQyoyIoxgYQATlKTUIwFqLFoEtzrrjGgTkFhhWbu8h+dQEDDZfwRjRwsaVkDgpkHpn//PkxIJhvDZ1gE6zONGl8YNKnWHezQEjMlzFAzXKwx0LbgAAMouNS1MeGBBYBeAJCMoHMu6MafO0BAT0HLhCOLAwMGqPmBEA5KAQgwDFAQkMEgAXDMHHgYGPAQYOGgtk2QziJM9QKEKlMMNL9FRMwOLFUjHNRUNMUt6LAreGjAYAYhYlaOBKmGDy2IWEBSbIhEYZyUuUaEJqOiEtoAXAMskLgJspoDRSa6rS0QyAzOWMVboWgYpI2ZPKo9FINTpakqBUr9p6V2cy5YFyGvslZY791+GdQ+0uhbhE6ssZK6T8PIwN3WuzjpL3p60igl3667W4Mnirv3JE8MbnYi1iTv0/0opp2Jv/Gog/8bgV48rENmacClfFGdkZVAteRpLj88xqSNyh4t+X2I44ebshxefm52Xo/L0hFZkYF0RuIv0ySnTeYLACr0mUjKFmMUEAIDRULgCdJhIKChcCDhIDgYUKgSIgctIimSipkwcRDZiAkDCIDMZkwQbwDGTBQu6mukJpBYGOxMYGpHpjbeTZYACyZWBISSDaswUJDAUxBGa1uZpglGFTIVQj3Q3EpKIDpUJJmzZnC514YwqHoph2pkAQFNmEDArGY4kDkZhBxj1QGJjwIxTUiWGkOAUoIXJt//PkxM5odDptYGb1MN+cVcbB6RKAdnBhEHKDNszYyQstAxotWMTTFmDtyy/BxlaGxnQpAmMULEBMSXFkDMBTDgDRCDAlUaBIMgNMAJCosCjxpEhEmkoQTAXWQZCGpjwyHZLterOUeBAPLugYUQB1B0cVVS3AQSSHGAAYCvjxAtsNCkdAKCfYYFIRItxV4F+xZuL+JIX0xAcFafEXVX1RszZArtaTPWYxqXO/ALXITabg1qHaOYnpTBscjSqDgRZ8KBvpAzJvXTd7ktgebfnTN7dFBkO23X5GozDEYft+5A2aTEF2VZEzSEAAxAYuamPgxlwwBRUxYAJAcuMNBgCC4Y7ZcuVRCXSnc3QRuG3IlUapKWXRF+5RFGBNcYcuJaz0DQ0FSUSHSz9PAsge0u0RAjyAAcC4SjKYkBhhkAjsyRSNSaDIyIwcCGAURBgOLlNTABcSGTEQRho4GtaMyEwUSGfERncyI+I3nrM0EjjlU080MfjjqWw0URMdWDDG8zpiBjya+OAgbMPCTCEozkCM1CTLCI0c6NtVAoUGSDIIDTUBk1uGEV2bULGDtZwwyYaJEAma3HGiipgxIZWCgUHMiBzEDQYnDjhqZRi1Jqh5QkAIw7pYDJzfsjAIRZGax8ds//PkxP10JDpgAN6x5Km8PmvOBQKbI0co3bGWAiam0Dmv5GQmiqAmbipQGAE5DtyjlJzxikExkUhkDoBKIiAssb4iYiAbUwF0phmBsyZowxgk5oCpdpNUGDC5rQQcxBMKi+qBkqZKFjmxL0I9pmGlgk5fDumQYQILAStJAA4zzz0DqUAY0AiEEDsjECOpNLzXSkAyEWKZzLJYKoDRLBpuJ0wEpWkTAjbIKrFa8/TMmrtrQvapc8jvxaOw7EFzbbrOvwsVUstiDOat+NO7HojH5bAMMSt0HHi1BB7WYcwjMSm6TEFNRTMuMTAwqqqqqqqqqiAQAKCgdzAaADAoHhhsFdGi0LUZ3IlxiaD5gIRQx9jEDL8GlM4sMseLxMKkG0w6xKT620CBojBAcnmTnpppiYOBCoKYyAg4XFQEwUBSxC46PJ5iQYMA6SYsMQUY6FiATMlBwMtGZP5xLKZ6NIczCzE68XMSKUAxjISZcOCUadgCKoJDGlQcyCi5bZlTBBGN4MTQOqmNEQS8MVABgsRjB5I6L1jQQxxtBcADwEFMOaNWgMW9HThnwR4v589xOiNmiN+YTvMcnM0RFophxRVEGNDGOKlCwHFi8rdWRAUMiq0gIPF0jLmCIkACZnjpggbq//PkxO9wxDpMoPb0liRTWGLpHAIcIgMJdlL5UwFHGbIGJGGbUGpNI5gQGik0ItaFRAKPI2gQWEGQKMGAgsKpC8QUEoOGTLGLBGFDF2S+yXYYBAoQYNmuWmaAjIBNAODGALmWErELjM9ZAmErbOPShJas+KdLSn3YlMxmzcf6mcalXiyWdq0CPSPzwtwcWHZRLsKufw1NPMyFrhd5NaNuLBD+3X9ltPEIC0+sNPtNRipPMuWtPwDS0cii0uszFfLOlisVps5bKqkWlNiGrVDM01JLqOmzzoali/LsJ2cmKC5UTEFNRTMuMTAwqqqqqqqqqqqqqqqqqqqqqqqqqqqqqqqqqqqqqqqqqqqqqqqqqqqqqqqqqqqqBzXJBRzN3MA4BUuAYBARJkGiqmI0BeYboDBhACoGCIKUa84yBj7jWDQt5g9iXmOme+ZeYohjihmGCuEeYO4dZgvAKGBOAghch3M3FMumBRoGgjECjdqTMAS6JhSJv2IiPGFDNyAKULNxQ0a+EYC4eQceV+fiaCBAQDM4wMuLNUlAyUywoAoTLADFmAoSCwwyC0IQAq2cc0HIDSniwdHTIqFAwAIFDg0VHoaDoMFBQ4GCiKqDroixFDsiHDAOLw4YUE1ELEI+GB1A//PkxMlnDDpiJvae3FXSQqSCO6pIulYyFyleSQnhklANEF0pRcgaCcS4hAxzXIc8X1WcajUkWZXpxOuajU8Jwkb15WoWr21yMhSMqrNCMwwY5fFYhKrOx00IxTp5kRivXB4KxSN7tDWysjRAfR1fdVPWNyjLdHm3OntDV8jzp/C84nWkZ2JQHullo/Kp0wFlUH6aRyMw8BZEGaQ9ZwnKXwjZzJknJ3NqSZEcapuANZaCNBwIucBHK8TAIsCQIaLcK+dxLWAekT1OBcg+wuUarAriDgXB8A/wgwIQhBhi9LrVTEFNRTMuMTAwVVVVVVVVVVVVVVVVVVVVVVVVVYJBvtS4WAFHgAzAWBuNFYNgwYAByYA4wHgGDFPFHMoMLYwHAIwUBKYbJ3Jn5nCBxNwGBZCABjByEMNgCwwWf8wBxOdJkOrpFUNN1MQ4+LSl7jMl0DIQQMhc5OJez5GcxcUBgAYYXCcWFko00CU1QGFVwMsB3GMGEBwFMJChYGUPFHoyMESBakYeJnwIJiBGLDpVBAovmSBLooipHmUjBQFMtVuLiqHKrPqHDMKe55RlAIRnUk1Ax0Qa/QJggo2BzvCQ6DUpgCBALNGQs/TEd5hz1kAQoqsEXBVhDkgymHUcRVEQ//PkxONtxDpQ5PbyuIiF8vbosK56uEt1SLia0vBSDTnli5fBnLSnKUzSLY64zjLnS+287zqEpJDoC2EqkZ1cKaLgaNDK91B4AYK4bc4Ne+IWsX/jMy6MCO8+Tk1GVtco3rWg2WOuRBLQGnOtAjP5czx+n3U5dhjkGqPMNYnJ2cskdd93Sa2+0qYA7yZ9yXTL0M6gKdWikKyCIwOn6pssyLtIn0AcOvywBRBdCz0Ki7CZCiywjkrVbIqAsoJBtMXQ3y4VPrAw4gHmWkqmRhVqmFbFoiAJkzNG3RuQltbfqfSqTEFNRVVVEZAwEAGzAXAiMDAGMwqyAjgrXFMPcFwWCQMJ8O8xQLKzGiBuMAIAEwcwUzFwrlMrAU8oH8M0gMx8bDgMfBIJGgcjYZegwCN6AkWABhlQm5g2YEGRoxpHbrcdtJRkMHAkGmjn+fAgpmwdrkEACMQhgHEYwoE26BYMGFxqChLH34MZkQAgZ/UQTABNM2A8LgxTUFAw24/xZWmJRcDgWYrZxiMdBgHQ+HBEYtEz7PYKkhAPAwF3W6Ao88MFp6gBSaQOAhM8g6fJ+ao6XwMcnNvAQcCillIWWFvEUkdhY8YQEvIOZK7MYLV6AQgkWJDhMGAw0qjgEuEIJEpB//PkxPlzJDo4pPc0nNbxFFdTbMBkLAXVmX1qy7F/lAn5poaWkmFFqJ9S5K6r9OtEuS5tV4khpBQ09iN2ZyDFzMRkLhKZKbSuIrRUFk7suCvWxGnaeaM3H+ed8X1m510mhRrt95pfGXegOQMVkjIoCdKiY25K56FlcgZY2ZpDjQ+1yw6Djpmukyst6NAiy4yECoNI0SDCoERAB5GgBEQZopbZlrkThhwq6k42aqQUFYWr9JMABmiiwBON1S+6zVoAoArCzEtfG060EyWjeL1UMZY0thClbMFToB1FmnK2USu1TEFNRTMuMTAwVVVVVQMBaYI4DZg4AuGTPCieTOvhjQjOmAgC0ZLqnZrF9BGzwJCYX4Y5hijKmm8LuYAAvZioAJmUYqGGRhG8bcGKACGAYgmFQ+GCpWmJgUGEI/mIaSGsVAmXgmGbZNGSqPG38UG5Z5GC4MiwChUYZssZUIhgJCkhWGvleMWyN2WZNMgAyaZKAlrWEbzPLTSEwwqXBMO4Oe+DjZfwRqz4dzgAU2yyxjyRQHBgFXrci8TffDTow7DVpNEtasgwIJHgzqgDNkJpijprnZskpogpo5BgiQsbBwUyQEkMmeLmSDg4yhiXeU7BgEwwUvzH1SrFXLD1+rHF//PkxPJxXDogAPd0jI0W5uM3eW6XGrcuyCdi1SNX7fJTO1n2h619Nat46zlMZpd4zWq8ZpYjZpca1evNTPY5D1uah6W2uRrs5RwFKn9XK4tFflLEbEudJ0br6w6/MDLpoWHPgupyUESPyK0aa0sgwoJG8xgFGYBAmPq9MWGfpDsPAgqALlJhJdKyJ7hYaYgKzQZJFDMxw0LBBYeYQqZsYnKlq4pjD5nh6UIFMBicxohL8wxEOAEIMACAwmFyACLA0oWbMURGhqvgQFdwwqAMjGXbGvJK/TpL3BhZAwrGmMDqMC/AqjF8gJoyKEejNGoYGTbqlxEy1oUcMcZCujExB+kyHYZXMIrC6zEhhLExU4UzMNOA0jC0wZowQQFjMBGAWgEBbmBMAb5gMICSYEcAcmAcgVxgW4EQYDyAmGBPAiZgTwJAYRWDVGCEBIJpnDnvmOY5CxkgehAoR5FQSYCCI8ETAIGL/FQAAIBTLD2eLAR9jEoZq11e8igNBtjsSsoqpKwGAgAmMXniUpXTBy7mKtVXykK4MEtu97BKRKtWNdD6IvSuTtZdZw7COwhAAGAoKEIsBTCYKCoJMYCkw4B0EgYDlCWpor2XXghYCFJhtcgOLZwY+TL1jvor+OL8fOMJ//PkxP92pDnoAV/gAKdx2F5OpLJhs7HrbtNwaS7i1I27UIkzWJpv4bhljlVm7KWg00qfmxI3ibybmYy4Mvjkqg2ERiCYBilqIuqprDtHH3NfZkUPsNgFmKvWSOw7yAovEvNIWKsua0qtC1HC6xdJdyGS7kEJdmPpDKVpqrKZ2WRZ4CgcYABpUBpeAWBRa1GQOByIKUiuzBIGTPBwVC4OAIBMFAMKggv0WtYCFwcXTAwBTGZ1ACwTzmAACmalKuUtySA4SB5hYKmAQwPAgDBZicoQ+AQCSVXIYDADOV3IBguBELi5LKltrhoAoA7BGQz8Ec0qKQwPBgziJMx9G4xDGQ0fJAKhCaRjgaBBUaDKsYLhEj2Yjg+kybVoWaCkqCAOk6EAYaAylzcDWIPMlLI2ETAQCxIMtFze8MACvUB4G2hv1fhyyN/qtx0j1JstZxC4snQtNkZjFgHME4dYYhkeYnZVGulTB7VDUx0PSoAFnqZFl0NQ4MGWW+dfp5skdnyVOacKRpVCoKRyOSaTsukCm6KaOqJI4A2EIKGjxCZeTBnIbHKEAYjIph0AmByRmvRaztP/QuS3SP00nUzbM4DTrkZsjz1NIlsz+eTFJ4NYFoyURjARHNAkc2eS3olD9wNL//PkxPd1rDnsqZ3gAFzXRhnG3G4BZO+rDInBrT6B95bK3cf4x4UBIQmXg4YnF4OD5l8EmHA4YHAsgMEBRMwygBs30kLswzHGc748EniDjXnNe+9ONMir9wiBWPLUdufZ3A0Qv9MIgMvANBMRAMwaATKopMLEIyQFDMAsFRiY9CJk8TsrMLgEw6IRUPUsbppDDDxV5I90tlkRrasPvGXyd6vd937sLciHH8fiKvbGJIz9m0PTMDw5FpRbZQugxsEjEgOSRLZgYLqxKViwUTDVUEhsJCgwqBTAoPGQ0ZGDxkwKGBQTLwgBmGQyYXA9gBAQGAAEEMqRMmhEQMwZEwq1nZjyZvlAMPnPdmYEmMDkwAwRYypA055tFumKMBrAIayjgInMGCgEPgAFQtTFMuDDFigxYANCRDBxwy8UMPBzBQKDJ+pFzCDU3NLMiczwaMx8CC4mZIsgoeMTfz4rlfrKwSAmEgwXAT9bsw+KO0YDQR40w8MqDDd2MyhjNghzAzYcEC+hnJqY+DBkAaeuiQUmCQCgYWGFhJb1ItDcsyAjUUCiIaRELJDRsSh0MsiQzL/wQ64kAGTjoMCDYSMxA6DkAMFAqCsCLZFAmZQIGGB5jwAQiBjIysCSBA0EFQMMoEwE//PkxPN35DpaI5rYADi/BoKJgYtgYSAtJLUmJgZgo6RFZhAAIgwxAKDAxONhkHQIJEABCggPLZkQ6sUFBKgSqqMiC7bLAiQqDREYB0IH1fiDmwUSwjus4qqBr/Yg3CysOBQ8WEy4gkBGCASagUAAUCJ6stX0LCQXEVNkhlC2EvSvWDVF04niZ8t0mA26qYQKwchBUzo7AUDM+nbEMuS6IcKIZtDYm5c+imn4GADdoFlDhMULNkxQYSHiQWBQFM9Uia7kDQE/Kl8UcZE1jj0XGfNu3eClV2qS9o6uWmvc/MFLAxWQQFA2EKmW5NfgtyUSGeO2tdoDnP82dUGAgNmNgfmk4MGKiaGyylGURBGcCaGXQwmPTRH2/cnmNAnDaPmRYpmSJxmY5Cpdp3GBAPGFIfmFoVlo3gRrCgAFw0L1aS6hhAYiY1p6EO6ANVRKhdCfEvQmkwSttJ5Rlc4WGSoOhUNMEAjMxgdMDBQo2c4NfOTil849vIQk1kYAp6b8VmLOBws4YK2mQDhtBeRBZu6ebeYGKkoQrhcuMVPCoDhAq7INBEkQQAsNZ0pm1cssGAwYMoB2uAgGAS0BhEwIBMVIhkGMBE0RBAFCpKDiUCCRjg+Y8QhAQYQRmVAZaowEVNMU//PkxOZ47Do0Id3YAMBLJixaY8LqsJhueBACYQEmXE5lgmAh6IgIDMCATCg0syy5IcABpg4Uh1AgSAgVkAgCQgNLioAV2Lq9uLOYq3SBm4S2HYDYC/rXpPWdxQZCU1NiKQL8s5TlQSwplrOU+XFZFB7grhlzLmDXoUw1B1lrHZh/1Dl+MIT2EQCIAVrIOCQMKqRbiudG9hI6APwyZTktkl4gITQRQepd5eAFCCXK931ZukmvRBK2GOlvy26o2kM4CAAaAXKUBUAS0RlL63wcFFs0fiyab4sDtuLCggCkUn/X4mI1N93slQYJDwEmG3N5wUVMrGQtW+BETXtGQVKwoAFlosLbBIGVA1p6BAFhiFB0mGAFuYGgphnFXYmacQqYyAdZgHAKmTk+UbbJnRmQkkGJSGwYJI1xoCC2GHWDsJFNmpkBCGSAIYlBnBkMiIkDQSZ4vswqITFoAh1NIABYqi0HCVirRhCCzB4FMCAEDAEsAgweOwaADCIGEIUMqBM0EIDEIMFjMYzKZpKJGSjCZEOZth+GmWGYLpIWPZnkGGlQoFGAZ3FJhYygpUGFCuIyqYMMBikWmjRaZBERgS7eGNGjQwwYkKCRI2GFy00pC4AWGgUSpUugs2DCRmBpcgyo//PkxNV6pDo0APc0nDAog1jQxR8xJg0DwYQm7UDq0wYUaGjpPVG/rMGmuCnqyBCxarW0HSqLQgKBlhNFm5bdk6o4m299gaYsRcJXTvSF2Z2PSiNPzhbt1pFHcaaNTlFFf5EqZ+Y3GYBnned6vF6P5fWiGpuMVpqnaXlL4DeFi7pwfFF2MaVsRMhxgJdSNGJElUOlcxUs2ZsGZciOlB4AYowYRoLKSI2WoBKA5QQxq8mJgYUZmioMLIBGHEhIGhg00CACiCOoWKBhchJCEE740MM2HBSMVBF+Usi7bD0WEfx0S2WHk3kGEcVppmCwQKBDAgAMEMeVDla2X6BRFPpBEPETFlSYUDgw6GM+bNaBGSqVY4GMIsWkFAQcmEYozgIDDE7agQBgRgOAQA0wDgHDBRHbNsttAw4QYy4Rg9CNGPq7Ma1ICxhLAwmAMBuYE47hmgjHmBCBYQgOl4YsmsJAuhC2MwZHkwwAO3Mq2ERiM6p1hDAETkcYjNKLGAAVkwBNDZwYHCwGDUjkCAHBA2GHYpGBgakQMkpCmT4zGNAZggEAMExmzCB09HZmuZRgiEBh6kpsWPRhCLhiWIxgUJZnGhBi2DBiIJZgGD5jWi5hQLqCEBDQU7NcjAgMaVGAAkqI//PkxL17LDo4JPd0nASYLgnIMwODhYkLa6SmisUIQYQHHQxpQ5dILMDLLTgADBOwDBOWjNEJMWbHShkSpQSL0LXGAoBABAlItYeRBwqAGSNkGQzQptLxczMFnI7IW2mTL4bDSwzWT4ygyAH9jW+47yjcDyG3L5fGpNOQu/EX4p4MmL+4GizzSR9Iip3PMrlsSvO3ceNzoDf16m6U7SZhkr+NaXMukRAFvJyI6q/Bx1npVCBwYACURGDqANyKB4OAJhqsDAwsZAQsqBHLM+OQZMiBIRBMOM2VGQxEFATlB0Kl1ql5UKggCLMGrDQgAAjAiVWp7LBFsA7KTDzHGBEVITybYEACRMyQIxocOGAYaCQSvTHkjFBS+IYiaYWTGQAINo3oCASMBzNNEHGFUjRIWdottOMoNL2sOLvmWA0RgAAoBkWBHMIwJw2YhQyYWwwJQHjAGDBM0NnExNQ3DB0ADBwExgDBLGTOD8CgD5sYBxmIrreicGDw1anqJpXGAQDOz7ZAYF2oz0QEQUGgNFWVjAAHgGoouVAW5YiAKrC24cTTGAlKA60IlKpmKUmHAsARWZ5DJpxUgUFmGB8ZONgJQ5tgKgYgGOi4ZED5g40AYFioFBK4hnJqV/szHBWaxdok//PkxKNlBDpIAPcynHlzROHZWhyh14WRsfGQiEEyASZMxzBIdoizQCMgc0FbqOaCzG5U7t5wXJvvYuamiUFus9Lm1n9f2VW6tyrflrywLP2LU1TavY1Pzy7R6xsY4519X8eVqfVax+e5XXlcqjdSihmgm5bJZVL68UazKJfYZy8UA0DLozJ7jOopI27L1a8/zxrGhRdx4V/spQzVWVKhukyjouBywEOoGteHgoCPIJVJrpMjQ5ct1EEYkAIx1AS+rN1YSZaTqYv8EJlQ2LKVNQXg0hfj4Fty5CmwMEUqU3T+Lqt0SBRcKiMwk2nWlMLCqaO9BSVKlqwKcaGlKzBMQU1FMy4xMDBVVVVVVVVVVVVVVVVVVVVVVVVVVVVVVVVVVUGAmAeYCoABgWAfGF8W4Z55QphyhCgoG4OAKNOoKIxTgYTARApMCUDIwmh3jEJBODgBCyAABKAwIyxFgi1BEBm5zjpfmAEAMXGmb4iCgwCkVMhMVqkboEACkM5SPAICQgSaghoGGRpAyjSYSHmjy5lsYaq+GslQXJgc4GspBoYsYONmOLgklAgfMIATNQcSezFCMxgFBAETAKKT+MVsWZdEbVqMwbCXah2HY7Sv23kpgZBEWhgReohDg4ea2LAs//PkxL9ktDpIIV7YAAwUAQSDNKWGedtXkpKabZTKnOodSSjj0jtZY5w8163TQZcu0eNq9VmoHv36tSbvR6Xymzvtm59upjcx1T8sW71qX36kUna9fOmsZRuN63SzsXmNW/jMhlNWDJey6Ww4+rcbmpdGIehMzF1FXkaWtNgpQAK6dNhytyUIEEFDktzCgNfyOQGCw4zVIDgNsBEQhACl6QgwcBAQEEIFFS9kOIyI1NoPCavmfK5HAl6hIGUzVwRAD/hQBQPclYJNEFBij6fa1F2JgtYVliCUSqTpQyqioarhMCke02i2ODC+BTOWow0wIy4DQ1GDMz8HgzhzGjIEQVMIgW4wUQjAsF4YdQXIcC8BhUxYCcwvQKigA8qISMYCIRCAPSkuXDlb1GADLuEQCYmEFqmls6QStPeJgSqhgYoYq0EiSD4M0tUBSaYqZm72aegQKiigacEj+GLXZMJAEfck0pvMBDSZtkCvTCAFAecOKiMBCDciKFsA0gAgWZwLGBhSynwf2JQe/LE4Qv1+KFfzGV2orx5V6QsaRUL+ImggFFAQEAjoRyKOhHF+BwOYgFGHgDXIxMxqaEYmYuQkwaYeZmLhYcUhwG5AMAJqXv/Xg1fkFwe9rZZG77Y5DEWY//PkxP96RDo4AZ7YADC2essX8zNa0pTMTRAQujSOBBlAYZGTmesJoYCFBUVJjEgExoAa9DU6zt5WzNGYNDDwpelzkUhoLskIjK2Oq9jdLI1+rBNWWYqZoDiJLuU1oRD5lYmbIgGXGQQkA4jMIMDXioy0tMjNQELhQgNEaDbDo1UDJBpPVAcIwYFCQMBVDQCKFw0pmcFkkfRYNBxSv8woJCCIBIMmSXBoAgCQkqDqbvoBABrRZ13F4RJawhAUJiPIsBQeX1L9A4XjpgwWnYZQPCwW/70mQA5jIKYcEGZi4QDo+JCRdAcEGaagUAjDREGBiaiBYcFFsAAZJL/ZoAEAYOjHJnxIMFYCNDyUCBN6C9KN0TZ0Bh550XFmpVKCmLCZABkxmPAxMnhifHW5qIxR2FosCf1eClSwKK8LeV4WwAxBQOHgpdSczowc/cOxOHGh1o40tYV1AYDIbrDNq0CIIvDwfF4++zuw03GURKS2Firylq3px3bq8J9gcBQFLZBYlrE5W1BnL6odAAEAIDR6VVe6DXVa4jwBRYvw1hihEDO0xNqhbsuCYKHA4VQJo2jgWy4hHAxcAzGMjo6YmCB5upiYkIGgkpth0YmAiEDTVMBBASZjoMED5hgA1o3UVNED//PkxOl+fDpeSZvYAMHPKlo6EI6KOmGkYybGNi4JGQYNGXuBwIsa2xg5DKAUMCBImDiI44iGosxURM+CjGhwChhkwwFh5G4sDZgZMYbUmKDZg4iaWLmhyZiwsbkGgaWNybDXFQ61bNbJzBXcHRxrzcY+ZGqmBj5SJtB1IcacUG4Nh5qCaWgjpSamGALfCykY0+iRGKrRm8CiiHCZlhkShJggmpUXQR3hlEMLgrUQsECQsMg4QdjwQDghG1koEAlmiAIMbBgMTmdAw8KmGj5ihEEAJk5uDisBDIGTCwLEIYNAIYCoOmPgK6FgSYQHBA1w/C4AXKNGSDSVoyQRM4awYTGGAwBLzOysOCwEZmKBZVCVL3IMCHDIgIw0mQDKMnQk0d8WIrCwVsMHZzb0TLawVK6LGXvLWjcrge9rLGQ9lMWvxrt/DLff+pVjrFngeXdNFJJRymM0k1K6DCmvSqkm4puD7Eeh2GOxN+ZZeklHcywr0mdqxnSxHkrvPvjKHrllyNx+jgJnjJWLMph1ei01j1GyK7Upa+r6VMGT7WquBYWOMqR3RDLtsCYnElbkz2vAwWGAwCHaUl8l0W8EjyAZSS2TGDQFCL0CiMeFGBUGJdGmkGwPhh4aCmoTGdamJlmH//PkxMJljDpdgdjQAGYqCMQQMSXNeEaATBjDDCJm9IkBAzUsgPaQaBMKON6/XkpAWSmTPlxTFpRUicFUNQTMhzqiwy6Y2qa4sZBuOtTEVzLkzSEjBGDKoTPPjMhwKqMPENwNB1wSFERZoUBBjEw0IDBDijjoFw4mNGDLEi+RzcZCJDBxkRgjLB44RhAaWB0sMAIqlrghUYwsNYlFFADHhjCBy2CMpE4DBiXiEYsbEIcILpLBQAXWLUBBFYUSHseKwAQMLnMBKCIyILrKIJF3UoB4gvkgKqgBQgVBJzqKI0KI1UCEgdlJWCkvIujYu1WN4UIGdx+BF0MDoYhDzavpA0zY1MNeh1rS9XfemLSzO7r92njp1NQusFHTWgiL0j8RNx37Vue5lz6yaMSmzArZHbiJeeBmcLFajAc8/zlRqGKV/om8kiiFt6Nwp9LbtMVS+dldCA8vosCDRlty4RQQRGXGsZfQk5kZZFmDSmeo3EBUhBKpasS4i4rCnSYIEmKgZiQMZCAAJR6CB4w8FMMBTBBUiMTHycwsOBRhIEKQoK1QMLGJApixSzgxciJQ4HH5iZgZWIBYYScIRkBQhlp4Y8so6mRi5pJ6ZoiGJkoObDURExwwMPGTK3oxudNbHTel//PkxP51RDpNgMb16DGQUy4ZMLHgcAmijBpg6vY00COCSTHDsMPjei0EFJkwwDkkydVDB9QIeITRVwEnKHYxcONjXhJiBQOUQhn4UHCRhByYIPER0YaKSYxz83BkKEQdBISZ2Po+pNCOaaaWYZEeagqadobEIapWVgDOjlHUayQYas8Y8AYs0CDpUQF6zCqjNIzXHQSqM6TM0HMobEjhCbESgxwkOahApI0EAAAHbZlYiDmBOCRbIwIERAAxUZwuYoCFg5gRJjAAQWHRRpySiwWGo0tjMGIL7uICgoMBp4oAmxs2AwPEImM7MYzs1jgTxONu44ZeTnOmOtWU6QIM1pGoyqEs7do5WUDszQFm3LJgEGls3roMph9S9MhOpK9+0Zl4zS1VHmQuUjoyl2wSzLB817s9yo4R1GESImODpfhwlJtAKShAsfBAJLZD9yHeU0BwswwhZ7XTEKDHmxJKWsKATWdtFW6yl5X+k8M2aDOBWksl5L5C0VHFRJOpUqlJe1KkMbIDDCLzjJSISIQxjQCYxZZXzss5R5UtXyXhCgcyAdxBQGY4WXUMmUQwDCRhjpnjJlBqNLkiEgaEwOAjHjjMojDnzpVzbCUOxl0hoTRiipnC5agyJJA9WAyKQrMm//PkxPx3JDooAOd0QGBJkoIG4mLJBwowaA2cI59A2YE8XUw60IymVWGxQEJkWSpPgICYo2Y0oZ8skOXhTkAxYwxEwK4zZQ2UkwzI1406ksGKB6MIkx6dhqyJlwRgyxmRRhSBnyyOZhCpoE5oB6E4zaYHLllIVPUycwg0wwMCgFJgAOHAaCAVbQEBKoJWkChgESFBYCOpbKDmIHmKAuuiqXVMMHVaslBWIM9a8lUWiUXQVdAu8xdoJe1jjhlpSoAMeMSahxQZQ4wIQDClplkTAAVYE1i3JABSZYc9ymK8EcmYvbQMJQVWUnVT0k+u1UxBTUUzLjEwMFVVVVVVVVVVVVVpDAlCpMQY3Q1onIzljShMsMmk0j2xjvEf8Ntx94wKnRzJvgBNFNJszozZDp/LNWIU0YqjYJtKBuayMBhkvAoqlDKMFAgGB4cBIFGJiEPmKREHK4LDgysDTH4pMUisw4RgSDTLptMklkyGUQAazQqoMYE4w19T6+tNAjQ1kLjYpXFhuZkP4hAhrI2MGJpwIY6rGxHJiAqa4ZCAVNxDTOV83baNUZjfkc9+HONqjiQU1dLMLCzEx0wouBAaY2Kl/GwI4Fo2DuYhuoAudXy9Je3ia6CRoCpRYSFAUMCwKHGD//PkxN9sxDoIBPc2eBWYOjHFkhUPSboM5ZgKjgAQAw6ZGAAwJDABFJJdiEPRSinn5kkbjH2mCt1ijH35ikHw7PTbjw3PP3HcGnwmNUUdbHKnGhvJ8I07tC6zWYrDkmf5SqVuLSO09cpl7KX7kTA4hHIFhVxyGVSd4qKFU0luv1B0Ii8tgaxQSKRxCJv72Hm4w9KKWbo7eUml/JVMQI3CGYvNvpDjS5qipLEVn6J9JZQ1pLDzuPTDeU1EX/hMSvTUtjjsQdTy2ajbuYRuH60OQxAEHXbfZRLH7tSWX/T39w/XTHgMDICUwIQrDBLEJMhleAwtgiTBuAXMatFQzSA/xwA8wlQ2TKxHYMFkEowIwGzAoFNAwlhMUPGiZKwrNAuS0FlS60vMVMS0YsKj8FTQ4WVrDGAa+UAAiMKPGzOejJ2MHqcFwg055i5JCA19L5DFJ4xRkNlhiIOLFUcCIOsDVgsWjaaqAIPZ+Whh55n/fJwpdX+UQmG5dPvxB8ccFl9I+8niMSTHXkMg0U2HPwXgV+yhgTarvoVM2hzMudwKDAUckRgBAiEgpWYIkVhFvgYGYhscZ0aQsYwAWsAqs3q0yIc4Fw6hYz7kxIwwws2K8yIExIlG4BI3jMSNQjC5E2c0//PkxP50dDosBPZ0nOjBNiTMI4PrZNedNSzNurC6o6FQ4kI6FIIyGeTDwUxToo2G1ciFQUVTSmTAKA6kYQicl+BJhFMJVRzlwJSiSMyDA2xIw6czo0yqc04tNwQjwCKObFAy8zLkHRjTFEEYEUG2TEQEwqc1YktQMgUAxmDxQQGBiFivC77jqZus1yMLkcR34278FMMWEQSIaMzX5BDeF71vw5Da+G1aalepQ4L9N4w99nsijtu+78qcBYR5V3tlWvclbwOyqeLu3DMilrX1oMpZu7jK3UgBiEdjUCOml+2deBEMwVAQxmOw+YfMIXACicZIQGZmAqAATMKCpMNgLQCkoPsmWBVUYm9lamu3sMZzOI4wXNU1+Wy+ncp0GRCoAIJQ4JVYFVmlO05HJq1Uj8/duSyngGKtUZu8z6SC3TQt0ZBnDVJSwxSvvajLtM0fpId0l2UKxHijJAAJITCskIZKVhSD48FkoCKhIGFzBgwxgGScMUCjDg4EiosFo10AYZqOmHFwBNTKTMhNiZhMHIDiDA5CSO+7jKhcRwR2GAbYaGFL5jpMDgM10fGgY1BcCzAZwRghHNLOxoCInEx0dMHKDCEgxohMvfj2uI5ZECyMZe8GitBl0EcciHHnxmws//PkxP93LDo8BO7xXBc1MZCDGWstub8YGrtxjhIvMx82MfYzBXka6zWAEyAgMdCTIRM1c0MRjyVGAgIaIEGNhQGpzWEA4ctMQNzB0QzQ1BRsDAMx8FDpsRCA8ootmPoY8pAoiMsDjFhEiCQUkGOmJgoAYsPGDGRkxKFRAhaYEgxBMICCGCD5Vpt2Ykik2oEIDkJvqnXGxwFEMuUAxbVWZR4uoFxp/E3V+mzSiqFBecvmViZkifB4KgcHPJZbZMNBwHMNRAIBOgLlL9DzHbUcj7jKHod3iFBBODWMtmiMyVlKditDCkAZc+XuskxBD9BTALAEwbAjX5tBQmC4YNKlhmbEQaDn/b2CVvah7/mqTPLCftTMxT5033vyv5d0+0MvHNu3S4S+nrfvHt2s7+6Z42Vu3Gom88rwrtIpa7WFby8aYDTJXDEhxf5DBXIoAmBg7lCEBDAsACwkKgUPV8CAJTEqkIGIkIBIYMcFgAAGKDABATGyMxcWM6WDSA8sHRpykYWumLkhtjABEE081EIcZo7GBrBkCSaGmGDLodRAphByQZNQGagZoBea6rmd6RjDqLL5uQSHUZjy6YQLmFNQhQjBwYwceNDPzJSIxYfM5EAuamzqJgoiYUIAA+EtsLhZ//PkxPNxrDpM4ObzPJkVmChRnZqYydgwTBz2aGKGWgQRZhgWVnBKBBBwigAS0hRASNkQgYCVqyhckhPMhiAFyhFYeSWmToBxQQM/wO/TgGkC6Y00aYoUKAx40mDkzHBGTDWLGq1fhEyA1v0JLLjKGNRQxhmgGqmLIgKciGCDlN1FW4hgDTwFOi81pBoHKMRaMNGiFBuCWo4AnuXjS8JBy7QkEWQSBL1GEAo8lKjgpsofF1gSoGKMiSIALZmNN1KZQRE6ViwIGJNcFLwuckKXcLyJEBVdWQAjJmMiXi/YNAk9TEFNRTMuMTAwVVVVVVVVVVVVACkIAqBt0MBIBPmNJG11GIBYXExIbUDQweWLPZON9S13GWi7UN3JunsTPH1jWUzG5ZE4fsWGitCDgKo2SNs8khdemgaqrev9lDAGngEmac2YQQxwv2kQFQ7YmSqiUtFha9VsOQCiiaZoCxmBBpCSAdjhhwxrkBnw5EZAAVmZpRRtHpiwwOll5RIAYeMZ4ADww1sO22KgA2BACkzdBTGmjTFyUwe24FSYVHmaRD24zyk0jw1Bg4qQAjzbEQIPMgZYoLEjXPTNmDSgzYITABjXwjrlDLJzWFzCKDdAVDTnQTQ3DVnTQLSIQhuZxKDk//PkxO1wPDpRoN6xPECVBtzxhRhk0ym5kEZkg5pg6aAwDHggcDKAxlAplkICmsTLVBgJZSlIANg4izlVYt6nKLIEokHjU8dIFAgVCKwCLADaqDGI4cUBCMYHiZgXGWKmMpsvMtaFwFslNRGBd0MEgxxZiGTITqFmkzgwpcEsyXZMV0FVNVvqwMmQRo0kooKYiwyBR0raPQxZYy0EaoZSrQGlqneWDEiLnMQWlrfdJ0nWawvcMC3FuiVCCZL8YebBkUE/FpBhi/TN0w4GV6BSFxmmsrBSmspzAowYpiCfa9ZOEIQLTAYBqMJsAY0iiZDBKBwMLcMQwLwUTEMCMMH8Fwwgg0DDXD7AwfhgJAaAUEdizXmwN7NqYBAAj8wQWoeiJggARIOVLTZWhmYUCYhARIDEgzgDC9xhgBjCBZgwoNUoqOMoZBpkGhxpcLRDEjwhaauoeFkFG5y9BtwAAniVwVABc6gqZVEEPggEViBkAZ8wYQGYwajoFRyNRlYB16ByUg0HMYRJihj1RpWwRaboYcEWnNUJMxNOZRNgDLoGdWGaEmAJmSHmYVmuIgUsCgZlBYiBmLNGlOGNJGdHChUywECETPDTAniIArGYICtBLIwxk0is1Q8VsdKnLIaEucAp//PkxP91FDowoPaw/id5bEwFGFGgYY1+0jErhE08FCgVWvCy1ioNEYxIrF8l8GuSUJhMYwI5mIKVrAXVcmVwUwIvFA5dVfohAa7AZqHIvU6MSgJMKRKHMlcGKwyvhAdH4S/TIlhkhmdpitNcFgKgr/rCwmVQtuqDsCy8AmSiuLqZ0DQF6hwIQldK7HGcEsy6BdZx2cqXNbUtfWVNiMok+n4WKnLEFjKJs5S2Axljve+T+oTS5IObLUMkEz8InGlBdK2rcCRG1gCkWpWEV04MyhizRmSJwAGW9U84KgKsKYLsyioKDCdCrMQcLYyglYjZt7ZM+s6szsznTWxsDN24ogyBBZjGZAFHxijBlCDMMMCMyYRUDEGCyMHgDYwJgVjAzAzMAwAowAgPjAuCZMB8BMHAFmCaC0YQAIRggArGEYKcaFSwCJAFg55ySGrC4aqGoKzBtdYhQzmbXwYyBBkMfkQDMWJsHcoFIcy2VBKtGQQWYJG5oIklQHGCgQY8IaFhhwOkA1KCGYZGBgUDgAIjoUMSgowKFAwHM8AgNEQIMLgpcqWhgsDK7UCMEhwOBqEpUaaq0mTokmBwshdaQXMLAkQhQwqCCqCQwErKYs5TjNJhmKNXlHXOd9ri6m2WFuMF//PkxP10fDoIC17gAJAxGZcygjkJgCC12uS4zzPRCpVccN5GtOou5PVgAcAk5W7I/oYphQ4lcrEDAC09tHLfxm0CsWiM4u5yWC0kIZVInpehlz/vzUpZDHpdYo5bJpE6URdV+e53nep6LVmXQWznCvDMah502xKbS6QLGf6JrlgFdL+tZT5lCVIYAmIxxwkwZYuZBCiqpdCYCTCeGPrILXMedNjqmzUndUNL4u6/rQ2IFmmvrgUGdlmrtINKiXLATd0wXcROgNR0ti4kFvE3ct6IwApeW2SNdABAJg6jyX0iqVAYeyVfm44hORg8Cq+ZbKbQGKGH0JuOAoYbBYNgGTBD2BmMaVOZA+dTmkdo6RlQC/gYWsKimBngeBgz4uQCAQIwcADcMG4BiTB1EaMJ0Hox6CrjE5GgMD0SIxbhCjFNGEMVkG4xVSyTIeHwMOYcEwORQjB9FgNCoYEyAxsDC1HxMKQlM0PQkTFISlMaMXwwUivzHICoMK0GswVwHzBmBCBAA5hME5GBMEyGAFmDYA+FQIDHbH6MfUWMwuwFzBvAzMAYCsRADKKqrCQAS1HuMBgAEAgNCMAMwDwAAgAkRgBCQHiHVP9L99EJCok5U8gcBGCgFFjzTIUg1Dx0BsdA//PkxP57nDoACZ/wADF3weYBoB7GwqAEGAcEwL5ZNYlVQNDjF5Q4cjdCWQIsIzRsTlrchmJt2cpeKsSsKeK0Y+yl+p9aCIC1F7r0Zo5c8sJFoJYKtWNo8rDI0RZnKzYRKIKbmyFT8AwMwldLVmyx+nj0mj9BSUtC91PDckd2i5OuTH4vDONS5uYsS5x7Lp7fqXS96oGaxOSGDpyApM6TLoEdCAp+MIBGUMLUeS+aypyw9pDurNrV24uUoQmwzN3HuyfSWv0z+UNhdBgcVdxxy9Shq5IZdZpawcCL2SuYvAr6IA4PmEw3PkqhCPj9F1FBJhFR7HSW4yhbT3pfQCpMQU1FMy4xMDCqqqqqqqqqqqqqqqqqqqqqqqqqqqqqqqqqqqqqqqqqqqqqqqqqqqqqqqqqqgZ/AwKgCRwDowCAUDM9kdMXkiEwpgxTCyEFN+YswwTA1DBTBKMfUqA2nisjJ4CyMFQG8wZhBzCDBTAQN4iAFME0GIwQgJGHmAuB0YMYLJgTgPgYAswGwbjABAvMaCcxEezRhuNSpEy2PzBxYOOr46k2jRx+MjJMxysjm0qOgHIyoxDGrjN3sc2uPjLqJMYJU1qoTBh0MSCcxqIUA40MxoEGAwaECBiJZNXa+WDL//PkxK1gPDowFd7gAFEt2hNbZekWoOlIYAASpC3hf8SBC+lwoJ1JOnBcuMCgUFACMGEAiYlAKCEvgUBpij5wxDkkgRjaP7bytAQYJAZdtNdGxBRrDaROX5VLGu52s6O7S16+Gq35Syvyzfvcv0v3srF2/Uu9wwp69H3KY+zL6SvWilX69TLHHstlkvmaein8JN3GV2q92nzpKTCil78T1mPwNS5vBZ72pMfT386kjqX5rlHap9W+f29z7HJzDdX7FWWS3t+5YpKKZ3z6evVwxxxp71PXv6xt5169rOjw/V23TEFNRTMuMTAwQYF4AhgTAWGEKHOZzlmJyeiYGB0ESYDhexoS+BGpcNSYRQSIIPUNLm6Y8wjEjBkAuAATZmQvJrOBRgcCJhMIZhKn5h0NAsDIEEcOZEyzF0wVDgxDIAysRUzTCswbDwGjgYiK0VRxMQiFMKyWNZUpMlwdMTBbMcxkN57LOdFQNmSIMiS+NjWiNFdDO+H0NIS0OtU4NhHdNKyzMpglMczhMeT2NMi8CgpGLhCmIJJHUERkKOYGlAVbHrJNA2xSMxOQcnmHk4RbGnGCshiigcMIGgHgUGguWGgA5nJeFRMYNzNywITTIikxINNtIjLCozcQMHExJgFQ//PkxPZyfDokAvd2mhFgUYBy6a+n+RpMEFAEeGJBRgQ8SgoBBwoCAouGjxYymqoBIDc2I6nqbGamb1FT3bsaq7pIdnKeWS3eEbo+1JX9fVZ353GExecl7/SaX4v7RSew2Oas0NBVlnZZvlanwv1r97V2xfpa0tprOpdal9JLZ5/6mMVlEMRCJxBnDkO/IXfjcZgdx3reR1niiFMvSHItDy3L1xoK64vDbDV3xFz2QKaO0zV92GN2ati1+H41LH4huzQP40x3oebvH3Hi7d23ZZMswZozuGV4Oq+8GNbfqVOyMBUCIoApMC0FwzFivjKbDeMPMNUxLjWjIDDHMQYcIyXyzzCxf2M0yLs2ri1TEFBuMa4Ag0pUAiZIy2CwwoJcx6BkCEGYKAqYHicVieYag8YThcASNMPQSGAgMHBCMLQrMFgyMNhdozAUKjCESzCMMTCgOxw3AMIxnykBqmvRtAxpmWj5io1plFyJr0TBmEWZiEe4hWYyRJox1KUw5GQzqRsyRLQw8Fs1FL404K0xwBMzlQsziQgwCCIyPMMxwOEx3A4KDUYvC2ZUgoPSJsxWbmBmqCQWNTdg4x1JGiExmUMrUzCSoITTOmcyAfNlDFYzbEkxUnMuGTJg42EJMULm//PkxP90jDosAPd2nIJgxAY+amFgxhAsOn5Q1GSAxgB6PSBgySZKKmPBhjoslKXsEAC4SwM/Hbcch21D0Zf2YhcCw1JYo/TkwTGHPisFQTFa1V9ZieisPVYpPxWZlkjsyqnnLUpu0kupaCvetbu8yxrU1LWuyedppukkUzMS+1DMSoYrDUZhqX24rqvKOz013Cu+1NT2opL5TP1H13IYq9z8Ps/D9w6vJossfpmrNqzhtQnpW9FPafZ9qsRfZ1ZdJ2cQfUdOIahuSO7I5RRxSni8IfN0ZQ+uMpqRG9TYT1PVTEFNRTMuMTAwVVVVVVVVVVVVVTAXAfMOsOgzikkzLACXMH0OMyzjiTPEFxMX0Ik0rGTTNnH7Na4RE1tWyjUdHKMDQDAwpQbjCMDzGglwEWhgUAxhKDQKAZOMEhMYdhYUAMDQEAIGGEAahwiGG4iAEIzAoJDE8MhAD4QABgAGpiGFxgkKJiUERmyZxjwppgu+hsGHhnM/535yZxCYxpAmJg0WBj+Hpk4FpkqahjGP5ngWJgqRBgSahnaLxjYT5hQRBnSdhiiaZpoF5tLHRpyeZpKUBg0IJgGMRjiHRg8NJsQ+YqTDCObIgplgkyNDFjFDEwAqNHJDACcwIgNBFjGz//PkxOxv5DoMAPd2nMMRKTQhkAjAFITPhMyc4EJCYAmG3NIcWmgRpyDqb49mgA6ahn8UdzYGMLhx6wMFIcUgEOMRDjDQYv0iC1OBYtMyympfiVJljcnt52dUj/P9alVqzSU9PS2K12zvu93e5VJvH9/9/DtXLG7d53Gl3QT0Zm4dqdpdynCjuW6kPbrT3L/aWtP73S1I1AU/GYhRv7hnGZnHVe9DV3dqmk8MzsNS+MyrdulqRaHaCHq9mW4SuKw1G2cxhyolR0sSjcUf6Su7VpI1aiUPfKnK1N0tWW0m6WGVTEFNRTMuMTAhgxIdmE8yQbNKaRkajcGbEiOY+ZVBidmTGCuFEYmq0xsRF9mAOqoZFaMhkqiemEiFsYTgGhjcmmOAOYjGZhkagIiGFgGFQ+hCHC8HAJOkSISDpZ4QAURAEOCj5qSMCh4GBoxIKzFI2AA/CpQMyRE5wRTb70NIhsxMGjFAlEAbMeD0PlMVdTggSjhjvB1JimDo5hJgZE0yhxMCIHPAKKGGIZxoYIFhiRJ0ha4obNM4NGFARE2uIgQdhCeHBF0guOCRgKUrGmSsAWmBKpf6FDpIkSPXEBpjhDK5goGIIvYhISbAQqQaEDhPAkMjQidFkR0qkTYgXkC4//PkxPdyjDnMCPcylKXgSFL+QUu97U/yqAXbQARAlAEglzpCppl500Fzs1AQIgCLAJZswxhoRdi6EIF0KWrVYOudI56S+bR4SXvSofpXBbssyjqOAqC0g0G5yqyw660Z4TJho1YsVeR6GHtpK3AaExx1I0lhPvI2BZUbepyJc6CsaJSNrJSIqnUhaZ0v9OxiU827EWavK3VnDVnDchns63yhkUlSwbUS9qYs5gigvxYZQRgrY1ptTlyfLXXxjjvIZsDbLaVI3NoBedv22QIKGSdsTdHHWAflTZm7B2cu6oEqTEFNRTMuMTAwqqqqqggFdMOSDzDGfihoy1QxuM20PTjaAI/w32xbONQWTkjO0hQowgsSHMg5LfzLcSn0xU8KNMUpGdzFBwdEweIJ0MHKASjBAwS0+BOjLhpOD5c9TfTlsXPL9U3C6jjgKNop1PUyoSDBIlReL0g0KjxCBQgBoLQkg4lmjJYdujhnooGwHYbQWBogoGKgoYvFpisJmChcLCwwWDzDITISYZ+Fxk8wmZiIY+FxiYQGEee95rkmS2drZmimYOe8JgXB3ocMXESLYPIET0U1xxe+iYqVDOAHXZ2muieWbQ3a8i6VipdmBcdGBwLHJcdTCR7OXZCEAcRF//PkxPJxXDnkAP8ytNIeG3HeWNyhqk+/8VdoLCKAr5VSawoMpWp0XcWijmsl+GKl21PsjXOnRkut4ZIlSpfJlHH8Xgqcu/E062eJiRhqD6r7dpM5MxOOC3DTqbs0lW+G4Ba+0vTisHtNvDUvlbDoZnnEWHXFLpBffpyH4rQZCHmlyjkMRGUPQ+k+vlAfZWEdypQw2+iR6z4o2scpYDgyw3CMzT0QI+7juc2B9nQlMjikta0yyka1DNMyhnDIV3MscSPOI9cQl0POBBc5AdVjD8Zv8wSiuzEbgqBXXgaSRqW1TEFNRTMuMTAwLYFJMCZHYjJJyCw0alt2NdqS0TPuVSw0804QMb7DejCsy4kyjwA+MNOC8TBLQ7AwS0N3Mo4I8DEYg1UwbIDzMBsByzE7A4E9kKoy5PwwpFUw6Ms7ZZECq8eYoUaRO6ZVmwYji4YkAWAgLJQHMCAcMCgmBQbGAYPmHgrGNIXmKIDmPyfGtPmnWJSmh44mOwIGQJKmVx3GRYAiIGDFsEzF4czEwXzD4FTDMRjEJPTGYSTAEgDHUXDBASjfxsyhCNvkDRxkxdGNRAzblk2YUEts6ZEEAAZIMBx4CQMxsFQp1DiuUzoGUXQJRBUTJ1rqel7xP+ECAcCB//PkxPdytDn4AP92tFIASLmQhBtgyZSCmTsosIjxwJDoKEwEVlATMOG4Xv/K3QarfjEfbxYR65c/cAPpRxm1FHka/Xh+RyufkDWpQ6kkvxaDm9nX8mnektNMv3DUuidnO7YjbqwRMP5UtRKJSafopXN1uRe5TyeX08cfaOyzU5hTyqRRyHXWgXUDO69LDorEWgsvYRFYBh6Kxt9pewyA5Wo9K2LuZNsgcekfmeeegf56JXUhuJPJLXLkkb+URiTNfr3q81TUlmeeipbhyPxW5ORSG6eTUVPWi0ngGDLEplFtTEFNRTMuMTAwVVVVVVVVVVVVVTA/QBEwRsDqMEXAhDCAgrE8E2TQMluDZTAcwNIwNIBJMC4JSTLtgA8wDAByMAJAfwgG4MKvM2zBAwDswAMAeMARAMjAiQ6wxPABuMA3AMgUALGAEAPZ9AdxgkFZiMN5kkNZkVh5qWgYXAUiAprJgEDyVIhARIcKooaaj4YTB0Yrk8a2PKZ6UCZohcYQg8YfgcBg2MhwASDHADMMibNAgAMQwCTTMCAlMkijMsSAMNA3T2M2hEQk8DNJcwwczHs0rs/A4HODiIjprhYqLIB0ooYCQTL3fVnC4BL2Np7KZlrkAsIXy/LuLBFqDAD2//PkxOxv3Dn8AP900Jx4lAR6Os4ABILoTyM0sxCUABgIVsBDDIsDTvIgaH70S12X6fduSdFd0GaO9AcYh2CH8WJDTaQ/FHIjjAIEhuSsDg6GXcflkTewPDUMQzT/AcN5Suk3K6OQUrN69uI287sfgKVyqklV+rT2pbO3a9O+mVSzJM36r2IjZeCXxSXXZXHIVlVjU9FopLLMsjMokkBzsYlskgGelDjwdFp2XPk6UjfKej9DK32nIEqUtK0qHYYmdSaVz2coistsRuamos4DW4aZXPyh4XNkLhtfqMEu0j9KTEFNRTMuMTAwqqqqqqqqqqqqqqqqqjAcAPUAgHpgmgI4YEqFCntLc65i7oK6YLsAAAgATMCEKhzMKAJkwHEBWMBdAQzAkwgAx8AzkMI5AqjALgDcHAFhgZ4N0EF/oOATQUAZGAKADQvaRhoDBgUDQBA0x0cs+BD8x3AQaCRYUwJAFCUYEAECgEMxwJPXT1MfRFFgsMbRuM4jsM+QwBwcFQHwIPBlgA4YEJYAMwcBsyRPIwtAOKhALmMJKGowGGE4ABAHmgGn6ngbAFABINNWzM/8NYnGohszYAEjekO8jIZPZhip32XwvhSLDC5SyyI8wh61GYLVAFARMHBxhryg//PkxOlvPDn4AP900ATpQNWAUw1w8wI0IihDQVHo1gAAm8YUOGDkGy46RjGmZq2QI4cXbI37kP6w2kdhhNirLpuVQ1G2TN8zeKtChmAIHdmZfiD5W6sPyiFxKC3ijURmIDmp6C4rUkdHHb0tkM7Un6stoaelqcjD/QbdqQJQQ3TRavJqalhN6ESzWcOyqnlb7S3J+qPHCkoYef+QOnYgiCLDyTMATznuQ1h5dUcB/NwdDT9fEYGga+7199HEltiXwLI33ZW30HQ5LIAgx2JG5MBxpujHHrbNFJZP1m1fyUP5TEFNRTMuMTAwVVVVVVVVVVVVVVVVVVVVVRGAFGAJATBgWoDUYEKAfHYF8URgaQHoYIyA+mAkAH5hDJqCJLDJgEYBeIQGMwJQEEMg/IqzAkAEoeG8wYBgw3Q0/wMcHAoIwMMDiLNrFGBwwGMAZGI4jmB4JnGJoDgBmBAFIDjBIGjBUBBGGQURzOWoOy7ww2CDAwWMYlsxSLDFoAEIVgcHMU0KWmCgQBAYNmWFilQYXCJg0Nmeg+YLLQKJEaKAeoCAjMJA8wKBhYUAgTmLAGYPBxhgRnAA4YbKoOAhgkCCQ8iaWyizyoauC2Zxm9gWGWf0cPs3XbARIAAEATDQXJQg//PkxOZuXDn8AP94jBcACofGhAFA2ED1QAMIzYCz76jwVLrAkAMyUzZ6r6DnTbo1ZvnGeFtGdwxZnnilcNxBwqaet1X7cl5YIjtPGGbRp+oblMelucprT+Mul0ZprkpuXsoxKLs9IKaX9s289chqNz9DzeolasSmQ16l3DWcs3P2Y1GorRU1HNy6X003/K85Db5RB156USmUybkGQA7sNqLtObxm8kV22OBl5KWQqCl/RRpjC2yI8NYeRea9lh3HgVsCPjKoWsOoi4CGa6EN1bmuKKuAjw1hPVjzS1Y1YGgqTEFNRTMuMTAwqqqqqqqqqqqqqqqqqqqqqqqqMDsAWTAYgAEwDAG5MGeEaD2fv2MwtYCpMF1A1gQDfmAnIjpmsQFcYEaAHGAaABAjCjTFmBu4wPsDBAyamNY6mTRpnVRhiRBDgEDw9mk6mmeY+ky1GNQMGPC4GPYbGMQLCQHmB4MhxNGJIOmJAGGD4CmRr3Gcx3mYQjkR3mOxUmNrhIGl/TCVM8tyNINwCGsWMyNzUR4xUkICU0IsOtUDXEcEBJg4SaEfGlixkogFgkwRYNTEDLCVDMxQfOFxjQTgzcYC4eRBwyEF3nVsl8pKuFYzru6zNpL5rieZlUBTsHtZZMy5//PkxORt1Dn4AP92kLIhKTPMEA0KUtS7yqKTyW6ltl6lPrJTqj8GOu6r4O+0uWUrjy/OKStsMZtUsYi8Y1haqxx6YhHLkMxqw/1eMSuhkmcZwl0CvnjUnIvm+czGY7KYau2ZNalOMNb7Db/xvk3Xl1X7ty7LJfKJuKRL4rK8q7+0kbqwNFL7uuFC4HhmZanSx53YFg5lrvQFEGLwy/LK4Ibo3xeleypZMyxXRIBl3mJM5gNJlFJBK3eBlh2+EAClMpFPNYFLZVVKu4iEg+lbHY8oWx0UAm+RcUkodCVIuXbqTEFNRTMuMTAwqqqqqqqqqqqqqqqqqqqqqqqqqqqqqqqqqqqqqqqqqqqqqqqqqqqqqqqqqqqqqqqqqqqqqqqqqqqqqqqqqqqqqqqqqqqqqqqqqqqqqqqqqqqqqqqqqqqqqqqqqjBAAXUwMsF0MIWCTTISyqE+u+beMZXCQDB8APAwawQQMxaJpDI9AmUwHUAMMELBeTCfwnExLgLdJgZEwM8CzMBjAtzBiQW41MRTG4BMDgcwAWxwRGDAMakHw8wDPUfONhw1eKDFxaM0HMBAIICBg8gmDRCAlgYuCoOJrMjHYKMkC0oHwoCQMKFhGuweugwuLAwbLrCwUMciIxSC//PkxJtbnDn8AP8YvBmytZgIBkQNQDT7lJVNLcIv0hiYIA5MEU6lUUqZQ0lgr+xmJU8pyvCCWI1R8Vj00Kh6sIisyLaCoaHFahEstFZISolhwbJSdsTC06XeuSnKwsry/EU7kg1fUJkA0QFzUNjI0XOEhkqFIcGFw+sLDBa+VSpZw6deVICYwo0mudKIqPunTbaiKiwsnyd51fAa2Q31NHoYqPetMonTmP0ysfR6PDI6qVSovJz0a8+UGRk0pqkbQoBCg4gDqciCTCqTT0aQIo1xk0fCpuSk64eCNdoQh2X1TEFNRTMuMTAwVVVVVVVVVVVVVVVVVVVVVVVVVVVVVVVVVVVVVTBgwngwywGTMJ4KWDaGPKc2xR5lM0uGzzBQSjgzGku/MMaFXDB/AI4xOUI1MM2ALTAEQe0wdICJMDSCTTB7w6Qwy0FmMCZAVxGAajQE44xgAABmYEIBHmAyASJgHwA2YAOBlGB/gNAAlZ1hVmkgiYnIAhAhVEg8FjHBJMUCYwMBwqAhoPBUEmDwsChEBgKEBglADIBAAXTS6BoCEIDXcmGYGAaYSt9EnWsxlMOsrgNaDNWCs4LzK3Ljh5T7IWxw66axXjTML70ghACABeivIi41Z3oQ5je5MsYJ//PkxNprdDngAV/gAB5u0qmk1ke4rHFaZYySGowsA8sCzzkcbq6bd3lTCafB7lsha5DrqXVzl10eF6rnqtukkl21lndMwpDRiaq7AmHsWzSFelpsbkDIHph1WzCb3AMbY87UGtq7rrU7atOjSxaeAHJbC+cvXzDbYG/dFklFO0sRZ1D0MunCXJjr7UjO7EVlsMwzaa3GWHxuUyhnTLopJZTMNxbx4H2hLfQ5jG2t3mqQzfbrJnYjkRj1hs0sus2jTWoKiUOxqdctv5plj+xxlrW4m1h36SGI/D7x2JZqhcnJgBhHhLmbeMgYIAnZhIBEGDUSyZ8aJZYCsGhZzAeAFMMkSMxywtjLpEOIQMm0MP0KcwcAKDISD2MbsQMwAAMt2FAQMQwtMDhYMLgAPKM0OSH2NiC6QGM1ZOz4LBoYbAOYjg2YyDgd6u+YUs6YniaZiEwtNX7/LsiZkEQxjoGRhaBBgoC5iSEZi8TgoQBhqXYKNsytFyQt2abLXb0Y0CwYvDwZCB8ZNjSGCkAgkMmCoMijSMpAlMqyRMMydMCxHymYXPu5deQwnB8OAdZ4KAAwPCswlA8HCQYtBwYfAMTDqYWgaYwgaEDeQAc/9HQULvu/hj194kFwMMJAiMGAGIga//PkxP97tDokCZ7oAFhENDEENQEBxgqDiepaQwPCxHVn4CDgOBPOVv3ORuH6Cd387LDCsHyYDzAwGgwDAMBBgOBZg+Cb9mDwBFwEy0dTAwDjBoCSUBjCMAiAASUBzCYHzCARQCEhhaERgmDQgA3eEsm7X6qXpX3vLf6MAwZMJQNMIgODAIdReRdBw3QLkJWKFsMR8MCwBLtuOIgDC4AGC4LGDoNId1PNOZVEWCtdkzfu9C8db5yk5nl3d23jU7/8w779wdEKpdhdkCIqIqMElTkOImu2BdDK2VrHSgTTSvTRiDPaW2wJQaZuv9H6SrE1hYdeVPUAACIwARyRWTAFApMUsJQxghazcuO/NUMxYxxxbjH5LBNf9TAxiQljC2DNMc0bk1vkaTMWJvMc5CEzg1/ThmKhMjEzIymkGDcBHJMhggUxeB0jK4GmMicHgxcAzTA/BrMbYiIy6wgzDZJuMfw5QxAkbTCuMuM5UvkzeSxzCBDoMJsUow+AmDCqDOMFsLkwBwwTBvCxMFMEoQBFmAUDaYFoNpgsgUGDOBAYLIEpgXgFGD8EWYNYDYBAPAwNRgzBdmC6B+YLYJ5gSADA4c4wsw4DB2BXMGoLIwtQdzBVAYCB6DA8CBMKsIQwhAmj//PkxON5ZDokAd7wAAJAgjBUAkT3CAQjAvA2EgKDAOBcMDwB0LAMLVCoDwqAyYIgFQgAsKwBDALACMFsBcwHgMTAFAlMAcGAwGQFTAGBAMAgEowGgCAQAUYCQDZgGgIqHwC3il614DHAAVPtmWUh6sZtEBCUCYDbqEYAYCAaAEKAGU62DTJfYIAFcFFgGAIAQAMDATkwCZgAABphMwKgApdNRF2mRyqIMXjEN34fhmHZbnanreWU9NVqGrzOW16Wze5d7fzq0nOY3bvL28e9q5VauU9jupjnrOxvWeP3q3d55c7vlrW+Z44/rHGrvnMd43LeGVbtXn67hzuN61zH7Vzn9/+2edzw7ey72re5hZUpgAAZmAoB2YMobZuMpdGJ6DgYCINpgFJcmAoFiYVAC5hMBsGgIQKYdQK5gUCOGSgTeYnA4Ji5BlGXgzEZGqH5jehCmNuc6aj4TxhbApGGeJWY1oy5lFDZmAMEqYtZGJi1g7mBOJ8YIYgBi+HymRIGYYgIDpi4BfmbmL6YBIWxhxjRmDEGwYEofhEEIbgWhixEGEVIaIchl8omRCqAFWY6QBh5AmN0+YTHggOZg4aGBGcYdMxl1oma36BHYY3JJiEECHNGOIyeQVxpFYmlz8Y6//PkxNBsfDooAvcTOH+YrYpnlAGgC6ETQyMAQUOTE4xTfCCs8xj4CGFACYTDQOPqoAg0mTzAYcFAIAJlMVBgwAI1JmEYQApgwFGEg4YjCA0AW4K1pmLDMEWOXtZXCVB27NomO15Q5sQqCFGm1YVIh0IqVlxQuDmWiIBiMCDoDMCgteCRZfACAtzIfcBljV2VQQwB0Za/Ir46fgb6k50lN9rQzZ+uxEnbDxiCIoK1lYoGIW0m2oKKXSSTYhKM9yKVr35wU8LT2EZ4opLIJMIGGLgogQIGLmuKGKdBcnI5wzUaM++ff19lnnZdHLPJJiYwAgSTBFBkMMofE3jhKDEwBnHQQzI+PiAwoZgPgmGTWUCYsAEpggArGEsY8YXYXBhkgmmHsZ8a/YCxiCgXGNIPsbpBCRj7g8mFYJSCSwzCCA1MIIFwx4AQjD8BxCwIhipC4GROKQYZ4BZgwCamTqXEZCJKhhegCmGAhIYOAaxjSCNmPqKuGKijA4GoVUGMBXmBwsmWaIm0gzmHoMmTaVgKMjLwDTGwuDSwTDKhAQAcprAPRjoaJl+V5oOZ5mWPJzUJZrcAhkK9Bp88JnOTRkmOolbqYJkMSxkKRIED8waG0wjEwAhqYRBOCQUMCgeAAFGD//PkxPFznDokAPdZOIC5gUAphyDxhiDxgyChhaHIVAMwiAwwNGgwUFAAiqYahQYjgUEBiJE+YMBKCQTBoMShtF0rBrDJ2povIDgCXLTssRKl7gJNMiW8hMZcXIQ6JAmAIALqJQHTmLvF8n9aYu5G8KAIno/bI1N4k/aw7TmwyqsaU7J7m/z7ipZROkcXRH1iegNBqIHiUAlNEOxu02arpPcXLWjeJKkVStbcLzOLzYRUyM8bKCukKnktVz5ysxc67Ys8iexUmkutLD44N8H9Li8ncwss6maepf0NQ7/mjNDNatQqONJXbFpq1UxBTRGASYCIHBi1JrHBQSOYLgSBiNGbGrUSaYGAGhjHFrGQAEGYKwSxjHFNGEqEaYRZEJmerNmzO04ac4aJpPqImqfanrjsm7acmUDPGyaxA5+TSksjOA5TCgHDQ9QjB8YTFIMDPQ8zIM5jBs5TN08jEBdTZAJTJ9HjhaXT5pdziD+zY3DD3fOwOJRx8Dpkw8RvqVxoMxJjArxpIY5qSihnqkZj2pBq0epm0bBiQ5hsIepoUqRmDDJySuhjQy5qsPR7wspqvKxiufJs0GplWsRhcbhm2MhsFmCRs7Y5AsMDk43w/MUYDIzc28SMhFTSBgz4lMOF//PkxPJxVDIcAPd2uQ0woBzqmoaaCBhKYMJDSaNaZq4eaEsG0koWAQU7mIBw6AlBqY2NzC5HQT3hyC3+WGVSYY1pVWxBKEhIIVDk6FMQqBKZhxSAgkuo9iAIwkHIQZkQBA1gkqUQIWikj/SppVX1ZTBTTpVDczSuy8M9PTETlstoZZNSqjwh2QVJTKeVu01WrjX5TZamamVb7/e9xxy/kp12tvd/+52rnd1c6SruxTY0925unyvWKbCXY61TzWpRexj9+rK57DUt1VtY5zta5dpas59nGp2m78p1lzeNy5DVTEFNRTMuMTAwVVVVVVVVVVVVVVUcAZMCQIQwz2ejfCFOMDcG8yhRwzKsAPMDsHYx5UjjHDBjMK4DU0sw1TC3BrMVVScysTPDBZaTtrYzpoujQUUzUR5zQAfjGAAjGNTDMcJDEsBzG5KQMuIKCMx4RMBIChxMbUMMWQmLABmUCQgJATBUgDBtGSI/QEopke8BneqRhTFp3F/JoBD5n8lZ2AkJpbEpsa0RxCjpqGUBskrZzAxQKjAzYV03WOgzGGkxFVw0VL009Ec3Es8xlJMy2MQxsYMzQQMxyJAyBN4yVH4HVxtEebZQmjGxQ6GoJZeAx0CM3FCsdBoUJABgoMZA//PkxOtvxDocAPd2nAokGGDC5eUwoRBpsZOHmxkwGfShjN9DwAMjSUakaGbgZhQ4YGCumYMCEoK/qFaqbapyKVxZ20HIDZ+sVCSmW3ZYBkUUcNiLfBwAAg4s8r6Lp8ILKTZZSxlu1qXNmh52olRTsmgrUpw3WtVs8cOUtW7Y1Uw+thUs73fp7OfcLmFeV5V/qU9ftJGKn4XLF/L70sntSyxnfyzr0lyUXb+GGWVJarxeblECVpdVnp+NyuU3LGUUor8joKWpKc6kpqWZVdyjtNFsZRE6Ob1yYpJXf1GIxY3bTEFNRTMuMTAwMBQDMgCwME9Vg+cioDAcF1MQFskzcAuDBLGvMqFXMy6w0jEUBoNNxZkzCQWzDgNZNPZC8yEJAiLswuV8egYwyHky6QsyAA8ODIx5K4iGowkCEysImUiIFTIQSQ4FRQDDGsTjCMDBEDZjMHoYFZgoC5jQQ4sYBhGTRnaMximBpg0WZiwIBkGPhpq+R5S8hmqKhjA1pmcSBj8G5hANhjUXZkINpikNZmgRxnOoxrOiRm+QZmIS5j0OJjGZxjSJZjqIRiCD4KLgxeAcLYjFrjqtjIhTQnjIjhUeXjQEjo4ITBCUEIQKLMoFMAFMviNKeMOINo7WsZYs//PkxPZyZDoYAPd0nGoWg6EQEDGRTcCguAFRQ8aARIQgkNV3t7H33aouKAHhhiebC1GSxZ2Yg/kNW2cxV0GpWPobrJoakr+QdSwp0Kz/4xWArUNy2TxKI6pLdi7N360pnsbVjdixe5Myq3KJTyVxCNvVJZh/YGmZS70ruPrD9qkhEbj/XYeCKvWytY7o1U94Cm0yIi6DSV4wNFW5OpGmwqxvGuld8lVM+kcaS0uafmVx3sLhqJxaBWf6rtwkkOQ7ZXE1nJq8PPi+ULgxr8Wgx83VjEYrXIDo5yNTEZq15p5lTEFNRTMuMTAwVVVVVVVVVVVVVVVwgLBGApUm5LKn7ySmCYUmRxzmwjKZCP5qxNmMwKYAKBrGAGgRYYBAhhkMCQpKpiK1S9zzslhxerXLtmel8Dzztw+/jLGToBB4IW4TATjBI11i5gOOLDkLA3iI0SkIJm6Fv8EHkiDDmx1AZ5EZ4kUHDRJjLHwAAQJBz4LHTGlTkkyt0ZULKgAUMoKBBgMAJ6mbAqBGSNDw1YUyKs6Bw1fk97MGlDIHjFJzx6zegTZSDJiGumCHGQNGeFMHCwYxwxloIDGgYG6YBygwZ0oRGGGGWMCwUtqZsmysyqcHN2mmDCltzKhVYTCrzv9T//PkxOtvjDpABu80KMrVH82csxrQ8mw81IXNmkKNAEIFvwCZNSRMlAHqhnCgVNgEQZIII0JpQY6FMiBSmTcMWvGp5pIRxHRuFhniBKLBoY0pMKhDOHBYosPBpadQYFEDDFkDXzYYtsBA3GhD7kIEx41PpIiHVGjABgwIreWwSQqM4bG3ZYigCKDbM4clTNc5gwaUbEIYRPQ3gebidvjxorrMa3IoDZ2779yvOntOwziErnfprk5ADkSDtinlE5KIvUnM9QxSYbwlc/Dkfl/3JZ8rl/ZZY5ncjcvypMM+yiwqChQCehK9ntWpuQ2BgpDFvIyz6dXbDjWn6tSuQW6len38zhLr8xFIPdOEVYgzSCqZ2EJyEIOBS5ZdgMHwcgmHj5pTgYRJprmECQJA3cVtCoKECpQKGQhShIsCmaGxrwQcKrmNrYGTTBDsgSSKuM0GBUGBo+AjIRg6TiIhuCQYuNmFwBtBMYIomxipnYSaiqj7Sb1tBFMIqYw5ZMuCjSyI0M1SQMUVAUymFhYCPUEZl4CGAQcUGRBRfIlSzVS8RDBkRAZESCMBMpRSRLCi4DlA0oMNAkg8lJBYxc0EU8b2ommDptCgbMhG5wJ22cNGZxcebubiKKMAaRAEGHJYIaDC//PkxP93zDpQxN71HJpItYIIw6pNLEx6UEqM1ZOJyJxShjjJnlBjyocgER8EnjNlTFMgoGNKKJoItGN/TKI4OUGmGCwgyIkHC0OxjTIWLmIKGqIGnKDSAQhxIWjukWLGQsEaIXHQgYOWoWKj6IhCQqVxVEA6KZsSv8MNGWIGHDGaUGEAxUvwNCQceVUKAoMBlCMtwBADTU9GapICxBNVlCYa0X2ZI6D7v0xFez/Ou0VZjHldrUdKTLRizE1zQQ4jZUKFTtiolrvAr1v10RR3VkMDkLIGwwO4dJJqzIGmOJGHcjj6SCConL5Zfjjy1UxBTUUzLjEwMFVVVVVVVVVVVVVVVTSI0BBqsbuwzDM/R9mqsvhpodM2s7LLC4XRZZEI5YuYR6rbdS9KLFiH9zUpZC1hoEOJNAIJACmEXjNlRDF+Er1sIKtfWHBhRoKBd0xBzBRN/A8XjAePgOWmyqBo0BhbhdRhJSZSAmVp5lI6Zu3GCHwEDTBjM3WsMJIDbEEw/FMbNjH2E18DNuQzXDQlRTKRlRoBGBj4MCpkw0dMUDx5FMnHAMIOQGFgFMDCQ4ocjFyQz0dMdMxqLBIgNHJrYEYSVmBCYNDioOGXlrbDYR0OGUeZZxzFHv0JOl4TqAAq//PkxN1sPDpdoM7ziCfSBgLOwb/YWbO8w1UWMGmODC4Sww1GAUQbhADAHFR6pQlFFaBjFFRAcNM0pDQmlM5IFCA48yjgUaCm0H3wRNOgVG6VErxDqZBBtAiMIKDsqYqgIc0YTLQFg5XpdxyQIKy4zyV+F8jAIL2tuJAISl8s7Lyp2IPKTWo+AoM1JLh6WCpmuWhIYgj24KJ6SrrI9rrdys+aY76LyaDSuqldD65WQtifJlMSgRyEKZfJ4GcCHqeibeeSIh6HHOY4yhicGOK/UNuQ27gv2+0gofjkZvQ/K4K4TEFNRTMuMTAwFICpB6FamXuQ4TWYag2ZpaOYpZY8b0yaBYcry6jux+brySLt2ktyXyyFQA6sNsqgVpiVTTUAZggIUAhb5+FrFUIZTByX5gAG1Ew8iMoBQSAAATYmZaHGRhhhQ2peIAceIgUbmFg6pxGKiEFNLEjMlQ10ePsAwALGuipnxQCx4OEDpx03xVIUEzUJBDCakJGvmgXFQsgGBlJoBwYDJGPBZiDmVh5izmJSZmh6Y4yPKzajxQqJnzKHAK2M+fPGkHywrSReNADNYxNSMNACOs9NKmKLRhEhssAMgmCSg50IEBlQIGIgqkMox56ONhbUCipmw5kj4jIj//PkxPZybDZaIN6zxIwCAJwQxVBETpXBIMQrHYWC2DXmBT4sOacIKpFgTZVBToCdM1EGqFjMCHtUAUoqwIFDMOLyGnIRKpnjUxWgIwDCLAqxNoRLkkAODR+M8Yv0YBwwYKrAgoULTBVIDAACmDlA51HUacQmJuBVVgAiABIZIkXVDi1DAYKKIGIepFZyISDQySiIoaDAWxJeoTF8MF0PFXF0oPOyKjKBtiZum4sWcdtybC4FtL0WAlT4F/3sQlOcsK3JYjfxys2WUPwtWZX3ByRDBZ922zxild572dxbT+TlTEFNRTMuMTAwVVVVVVVVVVVVVUZAIAAumtlm96MSzGdyieUvlEMsIuXml0DwUPaWVRHCPxyvLqaKM7irZXhmHJam8zxKqgIaHQESGxYNW+08RBrXhoBBAqMABCCtaMjDBAFGHmJcMwgECoCYiFCERTPDgcRlAjETKioxo7MJLjOVo2UYMqTgIomkHprLWYU3HRHBpJwATw9K1S8yow8QUUlkKw3Ic074KqT1eTQjzNKAJePcPPuHNiIOPKER8KhgxScQCaI+eMOYQ8YpAHGTRvjLwDThEYjPLxL4YMqAUJIPMLNUeJhY85MOwBSozC4wbk05EyVEwYIytEyBQwx0//PkxOxvzDpY4N6zqLCAueZ8GgsZJMIwYlMMKoMeoip3JDSpwVm4EZQYbqcAqkDQdMlKGgaAXaEAIpEMEBIaAcvCFVDhKABgysaQQ8qDF2bGWBA48CBDQoGwo3SlyB3gk0WXKTASE/SDCWIO2BSaDgsCzsQiqXFDKPhMgCjyUEOMVWS+FkS2MTQzT7Wuh1cB6XRHRWpp4PYlCW7Xg6cQZJFXnbI5UbEIDmxZUTSoYZotlmUTeN+2HuRCqRtIxAt6NW6VmDPJJH3sZqnLALytajUHrqlTU24W2FRCP124xm+qTEFNRTMuMTBJZHtdSwCM7JlBE5FwLEYLNqDpJqUrPpKelgmCodlU5D0OQmUUlNA0ldt9HR3UflAOGDIMIjAwkMKKyAhe7LobmwSDI/ggJHBICB4wSgo9QDGRCojBTUAcxkEMwETFDwGBYGRCAiMPKzGAAKkZlyaZYWmqEZjqkcykAZpMbVTcskEixgUubobnSABs/EambHXEJhKIaOzGFVoVfDJz0zB2Hm00IuNTYzakAZMzOjMxFuEEU2S46UkzScPLBwgR+AC6MadNuVM22MihAxkHCTURTSBBQOyULEQEwM3gMWdDKgEExsxJYGGCUOUWxpcbdMCXRuxRhj5i//PkxPdyjDpUAN6zxJSBQZ1g4jDmGGGRBhQYHEzDWR8L1jNwETMu4yQmVoqCqIjSMDlBQySkf0cTUBDhliAGMe1DkR0E2QDJCJkgI0RjF/QMWGMluQKUDg05CEgLgwpYR/W4p5Apg7WIHMEouaOhgKGNgYYhBFhEso0XaR5DkVpOSoYu522tLFZAXeGhmht8m8j805L1QFTVW5JFY6fjWmLI9JyvatldTXnSS2UDQAqVOMsWHI6nMm6pbGmkrtf5B6WOW1SPpfMJk1ZW61Dbgr5XTEnnhmBpK/DlQ9cv4wJVTEFNRTMuMTAwVVVVVVVVVVVVVQqwmAGABzAZApMDcEUwHi0DQiJyMXEaMwHyZjFvRrM7UQMxPwMTBaHjMukac0gyDIxHMfnw5cBzqtbMBpYy2STOqLNEh0yAWDHh8NDD4xiYzBIiEJJJqpsbZ0UIkTBhA3S4VeHW1EXkZTg2sfS0Ck4MYGUNCBAVjDQnwMobgBQINEAYoFixENMaLIgTMgEPBQYHLQdMEMI8YoHNgYDVvNCSMamCjQ1xhHoAmTDvxATZcZIWTMV2AAGah6bDibhyZF0dpmEATQnl1pcInmMTjQVUxgB5iRxAhNQLT0LAlE1WNJ0w4omDmKQmkRgp//PkxOxv9DZKIPc0bAmFPGrSGBEmmRhUKZ5CZYqZAuZIeBhpgBJjA6XoBFGNDAYEWaXeWRWARKMITSbMEFUisEYccGFkvRkIY8M4DzrtQEmEBo+gwKGDS8zLC5TBlTP/AkDF5QcBhuDmdTc0lqDgMYbjAa7VSugptImktq/1yDViwBA6XrNX2d52ZJI4dqOVL4zGa8tmotHWGuLQU0pnH+p39qQ1D2465NFTVoah6/EXKib8yqvFa1/m6t6VP9PTN6GqCXZU3blNapYjSW71NlW+5ytl2rGaWMxnOl5l3W6VTEFNRTMuMTAwVVVVVVVVVVVVVVVVVVVVVVVVVVVVOQhAg4l0wdBZTOlk5M3gSMwgQcjCkGDNDM/AxFQfzA3BJMGYucx4g4zEiCHMCkO4xCkCjG1GMMQECgLhNGU0j0YnoVxgpggmCMN0YnYm5gjAgBADBiJjRmMMDyYKYSxgBj1mFWKAYJIBgGBhMOYrYzoxpzBcCTMI8Bwx+jIDBSDRMEYG8wpwEzZc3NnEMx8JjFiWOaE0wWIDAR4LDqNrH0xEOw4TGc1eBiMAh6RFY2+FQEiTHAEEL+HAcCSCYyI5j+8mxSsZjFoCAhxm2gsGEAZMRlk7AlAuGDNZnCG0aUGI//PkxOFtNDooAvcTOGHQyESjCydMCCAwqBTD5/MDlsyQKzERPMJo0oThiMXGDCAaAKAqBTA4kMVDgzwCjAAVMFgswaJx4NEoeMFAwGgMCB0xYEjCwEBwVKoMMCgcwSCwgDM3YuvhExfkAphremYDSPV27bYC2CdD8LnCAAsRyJzllnbE3LhmH5HGwCAYOisjQQa8N+fal4ZkppdfLjbSUzqmMqTTSincOz7vPaF8sSh4qY69ni99KctnkG3xaWYcQqMOXa8UthUDUlCySpkokjLExP9NNNk1eouJ1mkjFdHJTEFNRTMuMTAwVVVVVVVVVVVVVVVVVVVVVVVVVVVVVVVVVVVoFACMEgAEwgQTDVIBjMUsEowPAFjBIAgNTQNwwfAC0HTABLLBIO5gEABBwCRkPkDhgKAgAaMG8XkzvBFRYE0LgZmD0ZwYM4PgGAyMBUD4ynACzBAAXFgDjBbL3MKQGEoAhMCoOkzrx7jEjDYMIMEgwWBazJwBFMDABIwPwazBOGeMWkYCB8wKiDegrDkYNE01KqzKBPBIAMDnkziXjMoSAwhMjjMx6QgwRkhIC5nMKAcwOChARTJYKMJgMwyFTFxmEa4MYjsxSTDgAlB18MAk8wmijLprMyiMFQky//PkxNxr1DIwAvcTOZm8wSKTMJsMOhMyaHwaTzHYcMCEAxECTIxFMZAIwkEjIYGMUj4w4BjFY8aYYGDZgMViACAoNGCwKEGtGUqgIqgYEAlMAoAK7A4FKKGBQIno8SAJrbuw6zVjTxNVdeSMTV1D60W3aQ+IkBEJCSiXToIwMBg5htPXkQEgZEIUPkgsXNpXHoWUCqWpo4qVqBI8kJCCM8kxd9uXf7T2oNt+VwXjs4wqp3DNXnS+9M3khQrRA6UCSZOvMVtaVJ9igdDwSjvFZuYjnBcwxNzRl+FGUekzuyJVTEFNRTMuMTAwVVVVVVVVVVVVVVVVVVVVVVVVDAADAvAxMIgPQ3L6ZDKkEBMX8J0x/mTja8MTMHUCUz6X47IMQ5HIcyDOE2Rss4psIONccLI1+LY7+M0w9BIykJozKxEIowAAqYph0aoJeYfhQSgoavCoabjuYghkYHwCfgDQYQAKYFF8Z7OweNFiCQTFQOMWWjOmDzWhUwqqOSuzESsw0wOOnw6nMPFAIZg+EBxAYOBGJvZkYgzEs8ZyxAZ6XuZKHmdqBiIQFhMtmbgHmCEZoxMea8m7FYEUTLDw7O0NJCzBSo0gwN1QDGRI081NCGASJGMHYjdjNRYHAZgRabe6//PkxORt/DokAPd2WBnZsWyM8aDpk00QhAjgYZSmiH4UBgNTEWIoSFBswIQZggKJQdgThK3MtsPFGIPdptoKh5/ozJU5XybA1KKKBF1o476ElWBv05V6smVVRSicMO02dMWUPs+MLd2TQ1PV7FamuZ77nVs3rr/U3KCjjWnKuUUFxSnrR3WF+/Uu2eT+5bU5cyvU9/L7FJG6CxlIJHK7sCu3Md5IX+jMugaxTvpF6a1BEi1hKYEidJGYtLbF/KzMVbsRjFaGnOpJPDT7Rqnjr+xmBpbRRiV8wp9wzVpHjhE6TEFNRTMuMTAwqqqqqqqqqqqqqqqqqqqqqqqqqqqqqqqqqqqqqnG2YAYAImAyAbA4GAmBrKYpgTQDMYNmD/GFNl6hh0IlqYFWAtGAfgxhiDIlcLCQhgOwFmYJoDumG5Aa5tg+mNgca9nhuQxGiR4ZNWhpNfGZkOY4JZqQamkSEZVCgOApltHGhyYYEMpqBSmKm2aARxpFJG7ZIcEFRm0fGISwY4EgAamYLmWPH1xD2YzYQwrQ0IJM8MEHBBGDAIKCPKJU0oUvTQQxQEjQYYSpYrgACzaIx1AY8waHIZOuGTAAJMsXEIkzxsDJRGMMaESGJA4KIs5xdAChDEhkrzDB//PkxNprbDocBv80kMFAVcGZTF2G/C5I0IpBkwgcyR8rEFui3LaUSpmvZv7Sw1OYTVrWeO5JKLcAxV/qaHn1ir8ymQQ041LBL+w5SOTDrJ2Bs3YWzuNQqKNLTXWO7bd3biUvf+G5Wp227brvi8AUEDQ1HY/L31mZVAN6xdpp6bm47Js5dEvf+EVY7LYKjdm1Wh2rK5TCZmKNKd7N+aaGWG0cNRqXU7+0s5bf5/rctfm5GZDKZbL6Zyq9m7emIelL+4TT7NZmLF/CIyiLTtqApO6LEXVmJ6RU/tan52VQ1ciVTEFNRTMuMTAwVVVVVVVVVVVVVVVVVVVVVTAZQpQwmwArMUjGGzeFvQQ0bMYeMwQMqDPOrKw6esvOMUjBcTBKQkgzDZCBMe0CHTCWwm0w0kCcMN4CkwQBOmCHgi5gQIXsYNwArmAQgIpgB4B2YFcBtmA3AIpgUwFkYR+FhGDsgbAGAYgcBmfFZhgKXsEJibRJnEBYxJn+NR8iKTKRoMYaq5HnoQwSG9xxooQRDTMSYVAwUguYYEBx+AFI2s+ChWAjIzRRM2CQsBizaZKSAgpBQQYGlGpJZmBaZMSluxgqMxIlVzFRZIJcqgkMp6Fxk5o0/McYM27pSpuUMNfjS8kU//PkxOZubDnwAV/YAFrTuUdCkNLlZk0mGwa0NaMYV0v52ppvJUp0zKYk9LNxqMuzarupDDxQO3WJtyjbXoy1t5IMUNUWZTBy9k+kqVAVDWUF7kqk1i/K40ygsAiwSwGAwqEJ9teegaBnTkKoX2YEyKFPNMvnLWQ08PRqlcN/Zp75m/UiD/TL5wmUrugeUTMbcrUB0zxyiPQuRzkTrSqKTEAyOG3hkWMhlsXmqSA/j96OwBBVuDLF6Aa89L39iONJKal61SZUEidaL0z/RuM0cme2Yd2rZhcM6r0VNF70bp76MAdjkDymFTQxrdsSNAGKojKVye8zyYLjNX7FDDBJBWQ0kMe6MAoArjEmQjIwSgGoMQLBgDAOwJgwTAEpMAqAWzB8ANQwCoA+DlA2l6C44a0dGIFQIRzHJ88qjDbs0cWCCMx8iMDNy8hVGQ4QMGAS+xiQoCiMBFhqhuZUTlAeYmLGHjBgowEDStCM7jG7u4yMGoMhowWbakiAxGhQCAZUHi0aOT+ITl7DQmn2lybeHhcJNJKQSKGSFCOZYB1UJ5wV5qxJzJqtAWS/zcRIATJM7ITBRFgxkx4Y0NlAkLCJcJNwaEDBQwkA1KYcdtUyCZpCsREFCwaxFfLXi3Zh4oDn//PkxP99pDnkAZ/YAAM4AzOyQ04uNEMDGjsijzWTNiLsrxbGSAKKwKAk5nWSwTlUuWGFgFdbGHjmGdAUDSyTURQaQZCBmenpjhQZEcGhERlYiBgMxQCNlNTUR0wcHNOIFBqR+HkS9WCcpRyAnUikEOFDdWCHKTwa8rLtQOcbgxZY0HO4yxr613eMGAluiRdDJgQQZOJhx2s8KByDbUh4WLqGAAiC4CC4AWCZkwR1XrdRz43TxexK3eTkcJklaTS+D4BnlAmnuPRM/kCPCtrDJdEnVe5gDssPgVerUqZzi/bNzCgZS0xERMDBTEQmMpvgYDCwQnwzgQAiFKYDNFnLESPL/F+KAAwYEQAEAAAAHSmvkxEEgMJjBkYMRABMUBABrxkEElui4JgcUmJQSIQ6YFDRdZCMzUdAICkGMCQQXFQWHQNSTug4zKoKYmCmMBwhEiQhFjlA1PRMa2m6YAMGNABhISYeEquMBLjFhsMAzBxwx8UTiQgLLsuVVMOIiYsakYAFGKDhkgQABkILQMQBQBC4AEFrCXaZ06xgA4ChQBB6KbB2WOxDhgoCYWDL+QoTyZGYaAmFGili5S6gGQBJDHREzkSUvi5hICpumGZQJFoEBhiYWvEWpjIjAHHplgaa//PkxNt7/DphuZzYAOuIBMjLhghVTGCUxBBNVJjAwEx9qMmAjAgAUEjKlkwcFRHBwfB8ba4nImosKYGAr3gA5FXCxoYCVGHlLFhUNJQoxAtMoFzGQorJzHRo1QOM7ODCAV8SZZMmIzFAYeT33RtMCEWOw60/Kcp3kv2GSTDuVU5013CLKFZsRATtmBgr2DxIMiy0RIkR4AweJJ4GbBoTIE5gggEDCQgwIDWQYWDmHjDztGSURHCAhYYCB6JjXQEAp8OvXl6xIrF7UYnJtlbT6k5m/dBFFjqnaePAhiIIPFIQRl4wgdmigBMLAVQCw+iQDgZLYOJSz6dhQLNwcd8nvAIohzGgUGA7YUURCDEIAjkWxZkCgJ6YGSuXaj030Hutg+dALA0xH0XSc4LZ1g3GoiGZVFZQFjCpHMfjUxMEQaA0/hGFQCAhAFDJhIM0GIwMEzSygMAnUzqOTFBWMcAsOJZgEKBhMAoFBBYY4bGBAJkZWYWFmBCwcUmFGBthwYSNGHHZnsKc/JmTJwsLhFUAlUAgRIJBjUYgRmDA5IIpHgYAAQGzVTwqGCw+ZAVAQgL8GGiCmBlgaNB5mAuagcmJwoULQFBmaJpmwaFBoiBgIBoYQhJdi5dYu0kEn2mkNCZA//PkxL54rDo8JdzYABxZYxUBMEIzCjMDLBgacHSS6jRzAOgJCFREyAjNQVTCTwGhZqSWZwEoDQ40KC8wkOMpJjFiEGBpjRGY8OmXH5lBaYoKgQPUdjLcwgdHigwUQMBHjDRwRhJd1aSGIMJhISWWsQZFDEwow8ULcr9YbYAIIX6X+kKXJRmQHM/AgCCAFbjxoJV+u7KoeXK4CYSsqPqKrjWGtO1H7FIX1SZlDS1it0ZGkLAD7tchxTZrM8y19S9oGATAgdoT6vq1yL3WcxWwvFaq+UAKpXUUybaG2HKBI9ILLucphydTTr05Kn2gZ0mnPshkmDLW4oJS4q6ZanKkS16XR1oBe4skBgJeZdlp08wItkYGFAISLtPixF2mVQpwX5UpUFVKhJZNDUPZYQ07025KMAUAAyLw4jA1BUMXdMo8Cj5DCrAIMFUIgwnAyzF2KWMLEGAwRgZTBuEXMhkTEwTwTDA3DeJhSjJ/QPMQEHMwBgYTBQAkMK4yYxvhojJrsN5gQ0R3DtD4NVIUyMjDbsLMX0U0CMzU5sMYiE7u+zrK4Puo0wWFDEi0MSmwMFIELzVdAVIDLTwxURBJUPDgQkkAUJPpQOGGAxAKAQDABOFiAFDRhKoYKMmKko0DGSHS//PkxK53jDokAPc2yEuYKUHDF4gTwYCA58NMFTCQkxIXMkTzQQgIVjORgxgWMXCggqMXLSQjVMtUx92AxAYaBmrl5lp0bAbhzwDRczMyFSsx9PM4CjKggzk4NbWjHy4wkeMLCDDwozMKMFDgEQgkeLBywQBEBkiCZeBLbL2gYhM9DgsECI5AIOcAaGWjYYPB0KaIUGSEIs1hAAg8CgIwJIJA8FI4YZDJ0GBi7jIwEEBIjDHPWBUinwm06jGK7nM8afG5qUQzKYab+l7OzUPvC0aMyGlvyqIL6duhlLCXgvMtqwZhR36kDUtJbys3+bor9LFaKrVt18pqjmY/KJTagW9Py+kudiNm3uYhjdNVjE/q5nuT3JXciGovLYasu3atyKGIhYksaZxJqekety4brQHdgevUp30pr0B3JXjVECUwEQTxkCAwIwqzEcSKOHgYcwcAPjAxBRMEIRYy1BzTB1CvME0EkwMAGDLYBHDARyIAUSCDMnolUx5QUTALBjMEkAUwWUGDIOBTMCsBAOAUMCUZgxCw2wUE0YBAAxhtA/maYJ8YAoBQsDOYRAfBp3AOmEiBUYLYBJgUgfGI2DIBgvC1zlGAUG8YAYEhf0tSFwJAEHgjS2AdnG8LxB3UvjjG//PkxKJudDowpPafVpUyUCVwyzJkyXoXAGfSiMCMhgSTEaEXjKDBhozDMxK4wowFOTSqzw4RJEEOVInJPmCGkIRXZh6oGvAAGAhxqY4BHMgMMZjJtyr2LlJSIGPu8murelWu1NVibSn2iMEphOKqV7ASGW2owyQLmBAGMuKWMieYAAZFEW6MaKTpMgZngILXIYg+jSAiLmEAFYN1o47Q30A/cWZXOLFBiXmvEetktM1n1uFBh1TCDQkyViCXYuSegGYP4tymRJkrt6yrG9RMumxWNCUUT2sJ61NTg3uCrkcEcdD9sOpOKdOJ0yDQUTIyUUzgyHQkVQ9Q1VlhqYShJFANJTopsiGqqUor06cqpkhkGN4/YZ6EqULixnChCHMUigRS0okoTAYAHMAQBQgCDMGpYIwuh2QCDAKgBmCSCgZpYZ5gmAImAmAwAQETKJBtJgjiwAGKAmGMOcQSAlGAcAIRBkGOyAYTE8AoHJsRgUD9GIiBsSALmAOAsYEAxRiMBbjADxgSAKmC6FQaDon5h1gBGAoA8FQMTAgEFGQAxwAodACME0IAwNALgEAOQgAmACBWLBIKCLkCsAOlkwYQgTEly+69lbwKJAqBwmsFkDPIR0Ei8pABYR5enwQBTG2T//PkxLtmhDo4BPafUOQkwpY2Ew6hw+rousiaZ/qDkq7VBDHqTNjkxkhkvjrKyAiSADIlQqqDExbIADAyqvEt+XjCBiNcnjKQ9qnlymj3yuLxiM07/TZnHkhgaJOyaLgwxSRSzVFdQwjaTLAHlLKUvhoUcCVjTLk4qhdoXWJAYIFn8THibncq0jP9MDhfPbot9R3UCbUO9bV3H1iJBeTxaNbl8ac3j9vhVjePEV88jxPOEdSOKoU9lxmFKyP6WYVUzrhXnm4sxynstsg60JOVBJNDELLYkkbUXCGhB+KU1o6lQZ7t8Eyz7ePVITxMQU1FMy4xMDBVVVVVVUGAkAKYFIBhgaA/mJqlYcHI/Jg5gmGBoAUYFY15iakGGOAdGHQEmHwVHgTTBQAzBkAVAzML4TJoFVMTGsnTWDYTDwQzAAEjBAEjGN1DHMIjA0CQADph21AOxcw7CkwkFAwpL83wdwzXDQxWCUwLA0xeYQoGkxCANd5kmc5ikFoOBFDiYmjOYrACj6OCgF9A14WJVQKaCoxA9YwVfEIMSAkAERPzJBDGCy+4orNgrNqOMQuHVB8cxoFYjbGcbH7CHaOkhcFUzAHDnlCIwVTQBGGlVBUmDVphDJiHZg0wGeGCWmebmhlH//PkxOZudDo0Avd0XBiQhMKkMUNIpSlYCmAYqPE3HTPVmUJbE2Znd1rbXnRTpUGagvKdiSe6Igk2ZqYUCmKXIXIiGjqkACiTInCXOiaztzI9ALXXGjsMR52qeivXcaOnlXL9qXas1uYb1cu0ncMbd2x9fnfwrZ6yuXrl21hTVdWf+Nz0vyhuRxOmusrlzqP+0undhgEETjS2BwidZm0+L0ytivHTY6tBhkZaGsGweHnpX2ouzd3JXDUAve7bNpTDGi1jxOm1tDdkjQW5lYFpkjaUj4kPDr3peLMUddJ93XctTEFNRVVVMAkARTAtQLMwOgC6MJNDfTXPRB8xjMHHMQ2DpjCHRHsx+QFuPIS+OgERO6+GPnBRNwgPMszbMGYsOq7+MsyICwomGw+Gi7HGoosBwhCoTGDA3FAOiEMjEQFTKtVjZ1HDFMPjJsijExFzYB0TacaDDQzzBE3TWBBxkOjAsQwVKmAshnJyYuKGNoRnx+Oj5lQuYKqHEngVEQ5eMTBzSj8sALuKOGABK3zEQQwUFMgIQwZdAQAZjySbIhmBAhqZQaKwGphhmUKczoH16xwYkZUfmbFZkw6YMAmJB4wBGDCZjhWZcOhxKYSXGinxMZCEkM/EDK0QDH5hAwaa//PkxPlzDDogAP92WHhhoGKCCAczY9ImlyH5MIGzGg0uinS0RQZnVJPOzIJdAM7WzlLxLmROZcw5kZZFeqlSlzsyFkKuYAh7kdopdGo1f1zC7z+d7vDK1a1crV5buznLbMpkNaNU1e1Ko1Ty29KaSmwmYrWv6tSmxjzmHMaWGZbEYdxdmWMut0VO6UHxmDGnTcOT7WY3GX+fqXyl9oHZatIu8r5/Y24LXfbIhJYbJkvi8SPSA4UBwUCu0XOYGDgF3H+TBaQyMuEikvJt1orFQyX8sEXVbotZdyA56YYSKZ0qTEFNRTMuMTAwqqqqqqqqqqqqqqowbiALA9mC0I+YDo+hhU4pmnryAY3x/ZiZAJmHkMUYEsW5jjCGGAkEWYgoBZljsvGWgL0YCQNZlsqmkV8e8GRpImZ6NmPSxiDsZEAmBCpj0AYJVGqAiqQMCjBgsEgpgIiYS5GBmR8KIYEIlQCMNkzQW00E1M1JgKIm4+YHfzOiQkHB49MqBGug0MMSNDgEIwYKJQQgKTMUswkDa8YIGAgjTmMADDMFYraTRmg0wwMOVh0AOEXg5kMLJzBwMwkbMRAQsJGDAQhCTDQEvGw5cCpHgfxh9G4EALUg1T0CQ+xBNExULLdkwE4ZlIGH//PkxOtvrDocLvc2gA5KYdYy62EvjNW3cklJapPaOrIySSRqYTobFD7FGXv84a+bEqZvD8Lg5nUOL2qrlUMlav2Xu8qk11ynmWI1hncWa/Azls/fZy46qdpDyPM7Mbl/cMZZKKtSMTk7Hncf9356betlcaikegJAI5qt7zJeMBLTwM3Ng7gJUKaQSl+zaQLEfikpZFVdtU7V23CgAnykWgnU+tBhkhuROEO5AD/vssSGS1jDUf2nuw8qQ5a+B3jZeoAW0UAhld7PFNFY4fWm48tpKN14jNO1GFgHEjy+H8lFTEFNRTMuMTAwVVVVVVVVVVVVVVVVVVVVVVWUgGBiAsNBCGEOBoY8gNp94EemUMFuYj4sBhCgJGN8fAYOAIYMArMLQa8zJSKDJcDBMCADEwRAKxGHkYTwCoVGjAQIxeCDp1DuDiUEuAAOyIRhgChAEB3kxYEAlIHFIQAsvFT8CABmZ8ZmGGbv5xFseq0CqKZU9ES4GEKwghHwzGp0VjAQkxxrSIVAKAZqYiZoCmEjRhyufClm/yhuKIYyDERmZaWEpyawYmClJhR8CnwKjRhZCZCAgpdMBAAqGmEhhgwGxGXhU7PIapF8N1cVrKw6EhNdCYW0cIeWhWFxqEQc7FHe//PkxOVuHDowBvbwvN56vaz/Ci/rky+y8mE5IYzYak98PwDBDXJbbh6USCfg2WQuMT7esGpoAafMsQbPyCZbKYxZexibhSacfp/HBfhVexTUMuhmGX0h2AnrgC4xCB3Gais9Wdzn5jSW8DcQXQ5qFxpvgMkZRDSO6EZbdaCOqgq61MDTtDmZYjzjQYZKa2qGM5Q2h0SkCqu+6wAcKDLLlqH5WESMXyxtAiJPSaQCiMYOOk6p8AnJlsdCgGmAFIwLUxGlMGKwFk1hiktVjhDSX/bkMhTUTDe1YBBtVJQ9g7xKTEFNRaqqqpAMAIEkwEgfjArFXBlDxvONjmHcJwYBYXpgoC+GNYrmYGoSZgygaGCMHGaqDmpguAumAGBEwMzSjybGBYNCoOJToaEACc6qhhUdAZVOc6aWwkY4m/FMCkKYUCLwLKMiBZFJAwLCUwLizNwgMLhIweDzJJ4MCCkwECBoDCAKmOQ6YfATIDAwjMng4wOFQMHBQKmShAYeGKChgYVmtDGZaII0A0pAsCjCoAStZyIjw8giZLBCTY1SJNpShZMQNl1EoxUtLsiXMQyAQjFWIVFCgYGhCAyZYzxkMzOMaQpqODkRK/JY6z+zPKCWzdTV65RcvZxxyIfpo3Ae//PkxPhyzDokBPcynBKpmD4nAsNPJCYFgiEOhDkav9vyumnYhYmqWchV+brSupal0Zu45WJXDj325jCGpRbkjgu5FXoaumLLJEwlTztJvS9RUHCtfRohtp6t4XBfxco9a8oGbHnS6zFSARR05nxUIFCCAJHw5zFKQSUQpgNkGgE+oKpUPDjlNzlEELIhCC5IISOgYDLBiRaM5ZTBRTfLlncEAXjRUOVcatM6ExiUiCqy9bvlojKLBJJZgSACoICEBwYCUBTI6gvQOvBTyBqOYKOHjwiFDkYQTXAsCoQhuhnVTEFNRTMuMTAwVVVVVVVVVVVVVVVVQYBIARmAmgLBgSAIiYMeN0GgIiC5g9oCIYGIADGCmhQpjrYd0YDQAiGA+AKBgNoCqYdaLhGBcgJQ8BEAIZmSJ+YIB64kxzCYgCG6XGXOnuYTCixYCQ5hYJYt1RvDkGKABhhc8z2WjIAOMMCkw2XwJyTSo9BgMMBA4Eh0AjgVBAJBBiQTAAdGJAkYIAIBFpg4BA4aCMGmJyqYwPJhMQAIiGDiQZfDogCBepWQDDdrC8AsIGmFYYcgYJSElT6wwgDQCP+oKxlGlp5bVHRLNdBf5zut2SGZduEuDDsAxK5GeYUtWv/caGi7TTmV//PkxOpvdDokIP8ynmy3cjeo7YxpaepLohu/bnKKvalcaiUpuXcKWpN2ZdS0t2rEdUtXCnmrk1hbs53qXCG4thKZ6xbg5xePW7a221cpYVu0YTfGABQB5FFh4pLYEqIlpzrkSOEKQGPNks1Uga0awARsDQzJWBqJowAOAsGGaSmMFih+FiIL8RRABoGeILmohiQGUBSgj9BghiBkiwElOWYdCHgzDPNQIO2SeRVCpiN7emAsIBEPErVRizxAuBtCzwyaZwgWTT7V0laaQZaIdHUOQRhQwaJQBumgjBgSSJbJTEEJgHoEYYACBFmADArRgHQegbtKWPGBcBGhifYN6Y1kTgmFfCOZhHYMaYR0C1mBWB/JjOAneYSAAVmBKgH5gdwD6YPiCHGBDgDxggiYUSm1Q4GsS8cMqOgYRShrmBEZkAmRCDDzDgMoCzBgMKARkjmdNenQMZlRWZUKmk4B5dIcm1GKUpuowaBEndTZjiob3BG7nBkzWcZZniUYKTzEgkyZXNuezqsc7aFMqIje7Y72IIjEw8kM1KAgXMOGzgdCKTHiOOASFBIgKGXe5NegdKXTMC3H9oK9iJT1rUujOEFtZl0PfStJhl1YIxucdGQ2pVL5iIx5543K5fDcpiL8//PkxP10HDoICP7yuNIy2b6yun3PW4DZi+0N25+AnWylFPlhlZzlOo/KbVWmlVaOwzS8lUu/CtFoem39i1BMvy/NEuZxnxe5wWm0DKgaAZJAcFD7vFnjHKBSUDCEAzRC+5pSmvAcMxzqAoMzlxY1OoGGmQGl8yNYhr6HmoVUzqvFrTLaMgECsGyMSjm1GVmGaIYSKrTBkIrwci3IKmGuAYSYcKYR6zhkBA5jhfpTEvaZiYkiwIwzDXQAS0PpeovGrAc8yECSRgFmYmClXEdJezijgoYqASAMtBYgFBxscQQqTEFNRTMuMTAwqqqqqqqqqqqqqqqqqqqqqqqqqqqqqqqqqqqqqqqqqqqqqqqqMHODxDDugpIxroxgNOk+QDitSAIwGQLZMaxJXTRY0MIxRsBWMEhC4TAMQ4MxeYKxMJOAADAjwLYwrQH2MQLDTDB3QCUwGcGJMBFBZzA3AMUwHIA/QAoNmAGACqlJZkwAMACXQkCSFayQmeAtakDASgjjo7C3hFE7DTBSpYq5ajinLl1YzD4OakKztHICiAqh8QHVVEIkwXfUadBSouuXfZSWwZkX+BgAgC8QqVBO6ACIQCuKKK8GQo3w67CVi7H+eRVi7ZGwN3kcGcMSeBmDWXPc//PkxNJpdDngAV/AAHjTAGKQNOL0m2hJ9BUCpFUp6HV+lzWcvAqsSABIgMEoCsUvaFGqkWGT2aoniIwXhIb9tyYcwBaUhbJYbiqduz6QROXZVArCXJbjHpyHW9ootRvlBM/AMEzmDcVLow2BoErjKvFpxtZzoNgfhQ9y3kUPXlHEODvP1A6mUYcFsDku0ocps7Tryxpr9tqydyMHLGAsCcGG4AbZSlMWNL+m5RGZDSw67LxxFkS/3iRWXdPPNHY84rWWAvDOOK5MFvw5NZYZy3FfuMyloNHG4vKFjMSpWXRqBCAMEDS9jDtzHUwuc0uNPBBCjDZwBYyqcNqMieESjBFgoMw84PzMDKA9DAjwT4whEHfBoHeYDYBNmAFAOACABzBUgfoHAVokDJKALU1eJxl+DC4KjAIJjBMH3egVQKXFYAKrCQFIWFEymOIEmWg4GYQBpsqyqmpIYUwctVqr3UMOykNMCyM0CMMFB7MtxZpmDxx5mur3QSLTdOWF6X2NURvMRg7Myx/NCSZEQsGMAISp3H8i9HDToOsxxkj6QwvxmgKRQxFCoyaFIyaD0w5RI28PQ0+PCGX+cR9oIktyBZlu8jvwuVxtkktjRiQWJoWSZyqfpksLxkeNIsxxiEP5//PkxP99FDn0KZ/oAKOliaSkvR6sxhoTNnsf5s9HA1edsJWPZK3SbnhDN+M5DAPEIAmQgPmJI6GgxPGqA6GFIdGYhAGRAsBcWzHUNTKkNYJdKbeumjMSq3XZqPo7UOPS/cNv5SvtSy+XPnp6oYhNI5d95jBIKTHsSTGUFQ4GDBEATHoBzFMFDI4VjNYLjEcJDKgZjLoVjAEFTAIAhIQwABMY29sQqx6PTUmgWxJe3KeS0tWUS59JDLHcdjJwY1hDj8zrttghEWi7tsDiz4xKUtfMLwTMJQNHAKDgcMNgGDACBQcEQOmAISGJAPGGQIMuLaGAYAjIDGAABJqUxdRHhcrdKoAEgAYHAIYkCMBBiNAzXMi2vMEIcDBJMHwcMhQdM9iCNYmKONkgMIA6MRgYMnADAQkGLgEGBwEA4vBhAMKgdhKaSYqd5MQw4Xg0RkokDAyRCVEFULoOYCAI8izQsAXrMZjMz0BTO5pFQwoGZKHYjVxkcAmFwiWUJTcYKGxjsHSMBHYaDBgQHA4hBwIBoBREAwoFgsZkB5hgAF0jAIJFQ+DB6YqA5MM1LzCQHDA8jSYKAoNCBgkYmMluy1abMXVMCAMwkNTEofZpEnyW+qdQ8iCJx1amNi8ZxARgADpD//PkxN17zDpU4Z3gAAECgqISwFDD44MNEoxACTIgxRRWwYABZgIJjwETsMOCUwkBCIA6C4CdBvkPUqDLQ0WiIwcZKJAXEIKWgQBzBYNMSB0yiQwqADHIVMHigxaFFHBGFjKZCMMhoaATloAgoFTEAreeUsBfbUEx3VA7M45XDC4hIgsHA4vaBg2YVDqZxgsHkQ1jxg8JhiAMFgOPGBAEpYYACphAKvm3yCFD0DAEDAUhAxhMGAoDKJJDgYGu6pm/0/n2V3KaPy+H7e78WlksQcGhGYAAjQUT3alLBWROyj6mMEARX7oSFtH3ft1G5sHTVlsBAkANxhLpbn2FRNPV1Zq7m6S5nCZz7syBnbz370v7c1Wuz8ipJrUXh+nprdNVMCQTkxFgJzANDPMbR1EdBDMCIDAxGyqDbvCqMLcFAwIxcDEsjMNds+c0uAEjFULANHYjYwmAPDA7AGMKgNowigETAnAHMBQFIwqgCQKAoXfMDsJUwGwODARAGIRGTMcx0IwEKDGhYMDEEDFUwOOzJIFMqjwUCBKBTNiGErEYrMRsYhHtSMaki5yjSE2dOGqo2WYTY6nMzrIySLjPCANaFo2AARQUGQDYKLMxgWTDZdNIkE50jDP7kNJyc3GAjlQm//PkxMB79Do0Ad7gADOB8MfIYwWlTC4xARjKA0ZRAIBD4ODwCBiKalikTBIYIgq8RgQGmKgks1OcwIPyIxQ+YABJk8QhYBmAA0YfDhqANmJA0YTC5igjixnDBCCQMYTDIEAJdRP0oAKvGOrIfRhDRVFV2wynClS8ywzTk0mdskCwADgeFgCEBAEglkS+U9EmHfRpIQOmKqhF4GdVi8ImXQjkvtRWNVbUppeUHe0NjdDYkFTV2M9tRmczsRyzLb7/uTjL41I6Cq1p2YCsRlynYlq1FY2cqDkoGWAL7rDFtUExMAE+0YAgDoro3CoDQSQgvMjy7b7s0WqnujWh3UcliGyXDKUv2sO+gY+L2KHypsDWGyxBkz70qQztLWcNNVpD3vihJXdZWCRHgR5EAzK3bZUisteFOTAl7UByaAEwHAXzAsBDMAIGAxdoSh4HgwAAFTBTDbNrMN4wKQEzA2AVNYMaAwMAKTCuCPMWNBA4Z2WyqbxiMEZuKshleGAkGg4ahqKWoKCIKgaZlEiY3gMYNAQKk+ZTBYEAS9RliAIsMIkBABHczAEgmDxI4LvGYkiCJHcCFePp4TDHCMfjNNf25NbgOMFxpMGDpMaTKMKxrMWwRNRw3MXgfMXByMNEkMGw//PkxKN2RDowAPd0nLTC4NjFgLjWwczAQeDGAWjCByjNshjPc5zEcCzN8DRZLDopQvzOLQMc7IyAelNeCMQcBkI0oEOAKWGoFqUpVGNKkpl/wsnAyc8aswIIDQDD4g8ho1Ak2BQw50zdQxbwy4YwxAI7HBIiIgFlIVOiQIOGCRFgbAy+CgKRbNkcnYX2MhFC6ZBpaqAB0yziHGJmJBrmfIuqivZSoXag+hxX9JWlOW/8/DnzG72U7er0+f1cvw1Xwv2c6ko3lIZdEpfXszMo3NSaBYpATcoevP64Mai1qI0MkfCWO/YfmMx5TJukPMNYS48NKUPyxlsCXs4vZjKvH0YCr9iTWmpqDqPNGX06C+F2sBgVLhyWgpUsw46CX0trxtt2tMrf5sKgKq8Jbm2qwL6wAn098y4bKn5VsgiSuPFXTd04B4DEwEQZjBMDvNGmn8xwxKzBNCuMAMuE1kRjDAxBzMD8L8zPGCTLDFdEITBgdjznOKdYYXQE5g0BWmG0YqfFjoCVxhkXG7dUNOwqD4xi5Dn5tMRiEwQUTWUpByCFQKaCZoAHJhYJGIBGZ+LBjEKAY7GVDMcwQJ20CGED4fDtR99bG2B0bEgJ1atgRAGfgSaMe5vAhmtzOYKB5nZj//PkxJ12FDowBPc0uJn9SmORkYVPRqtUGCQyZ5GRilIGVw8a2XBjNNGE4WYEfwIXxocCnMWn1Lh0o2xswqsyKAt+ZVQXzWAWCX8Qh2DKXI2hgRCpAsAJTVpHIMWbNnTOdFLKCzk4SEzSNegPBlUEWmMuTAgNSkiYCBGgMMiBU3CA3hgQRBn5jLPWvvBTMSctI5J9FFQEwpIt6xsvKYAGW1LWrtUxVhd5/mBKDPe7KaAGHWm0c93akw80F3uTtaX8fWdiT8OrVxjUsxnX7ymbVBMPVhE5NIoCp6SHH3qwK97pWVVHjorcLhlu0H3IvALWXlctu6tqU0Wp1xs/qvM87NIGdhri4oIcVnKJyx3BpU0WgpdK1v+7KQy2F3v3MpksgcdwmC3Wbu1E39VUcpscHylUbN4uuuR3WCSi67ceVspmwQlYZe0XeZV9lbDAICzCkSDtBZjmMZSAADAI2zgoyzHcKSqGBhUBpqeSBhgAA6cJtMlIKK0hAwweEMxNHwwbAMcAlA0wUAF5hIDwoAqHJZylRUAsBAAqiYDAiEB6pmFQWMCAfKwQBoGGJ4cGPI0GEICAUDzGolxZCSgAAKCphQD5SypuiY7Jcd6woGawJdwDFmXgacgBZKITQxBywFvN//PkxJddXDpMBO5ZVAVNQUGnKgaEos7KuVAVCkdBolCWIgBoBYhCQEEIT3IL2gZOHCsVNdqRMehopyhApo7MmanOqouHLQAACAFZE0GCo2WIbiKcSGLvM1YYvmFrTfZnDOIIgjVZ9XmeR25JH5VILFP+Bghr6UO1bpbPOWEMtG6kKy4VTYRIWD9Y4WNfhKShxGSC7dDPzxdSGEQCyS0JKmHdQqsz4krT6kZyhRnqYzMX0LctU+7Zff8s6cqDJbEYnBGJpWLY6GonI3DIdi04kBsPxo8DUmlc4Ng4IJ8qEchKTs0Ho9M/SLThlapMQU1FMy4xMCHoBpSmhhw3HAX8alIhCC0WAKDAwPDoAMKhBMcFAFACnss6TRpR5+oBhi7TQ1FJXDdHMxWijcbhqIy5/sIBGBRmQhij5EFJiSwaRQkAR2diCGYqmUgDRoKFtUAwQBGACBQ1MWdEIQzgARETUlwAUAxMxZNW4DAxIYj4YAQY40ZRQBIJ0S5rthzoB3nhrTZ1YJkohumxohIIkG6JDJcWZgg+a8mYEIbzMcQUZUqmEMFzUjSz6wZgy6Zxh05A4NoKGRJqxoARHAPFYgx6sIZgQsbZgFEZvzoWFhCsyQgwY8LJA5iLC0TEJ5ihwgGg//PkxOxv7DpgJua3HNBCEyoUXbYqYkShGBRZhwoCFvMZuxmAqxvRwChsgQzxKQ246NVxTgTw5SMNsSjGAgz4mMbPzwPQBphiTIbIoELybmFmKqZs6eRD5QGEhsZgNm6tKCIyI8M2EE03KMBASyaB6HdFpWBRxQksuBgQu4AgRZbT2cPpArfoIAwEfEtOzxVeFogJ0OXPYWO4Pu9DXK0xLYs/F2ady9Umb8ca5DFFHn4o4Yj8P2qsPx5+IvHKWVy+MXaDPCZh+27FnChZXCJmG4Ifh/IJk8mkETnmGTl2gnK9TEEwArFCaOGc6QP9bgZ/aZukbaFEnnjcM2ZTLa1LOTdFafrGA60tob1M/NtfbiUD7pttMa6AiJUnpigLwoop5LsRGLbgEgOIIhjSEFQuEmLAhkYQHFxhQsaS0BB+YWTGXiYWBhCFGMDAUUGrmJvhkxOY8Zm3KyxiQQAyMZ2/nfgJssSZNsnjVRxIgDGQ31VMmQyEyNfKzOTQw0jN0MjHgI0A2ETEIyw1QpFBAzVIJSgIsTLS0ys8OrBDDCUEAxxAGawXgZDNlzzYiwwZMMlcTcF0xs/c0SPkyg4+NdQQwuNCBDHx8MMDByMv8BBcy1BCgqFy8xkZMPETJwUmPzFi//PkxP10HDpcBMbzdAMEDwhEZGYcEmiABoiCnoZCkmjU4OfQKkm9lBxSQaQZAwZNqYDgkM4pJHEwHSIjZBptMVmDaiczVUA1wMERqruaq3GJQCSBorhAQMAR7XOCWT1PJroAAMS238CACEdYNUBQGWSni+7XUKFgnNTVFAhZKBWctzctPpESfiqGtLEWvNWgZh8PvoypxXCp2rKPSZvG7vG9TBFTqDw45KvG5pvN6oO40Kfu8+kCstYSvBx2uP0sNDiX76M1pNsiXy11UTO4Delir+SdyGwryYs1tvo8+cOKTEFNRTMuMTAwqqqqqqqqqqomAUFsIWq91anoKkiktFTv1BlmaltNRUledzqUG8K9ydjmpy1T14zAcUi7sKSa5PAosnUhaud1y45ZxPYKjEPImuV+jPjzJhzGhzYtTHowZeOS8M2ZERU4BYvcXICgVIQCYJBJhsBigiMEFgwGMTOQ3MXl00MgDDIpMMI0zmczgQbMKo41mlhZpmBD4ZDFYGLhlYdGXC6ZMKpmYTmYSACmKYKEhgQom8EG1UmXHmVCmipmqYmKnmlYmbJBFsKkDutA7uaQMFbZkgJ8noUgnkSlsjjSQpiC543VsRxzHsDLijNjCEiaEMCro4aQ3CMh//PkxO5wbDpcwNc1hI1KY0cZcMMF0LRqsaECsGoEEEAhCRKQxkZlMzsBNRGMMGAIHpikpEfHCwsNCp5WIyIIxosLgTDF1ZhCEEQ9N1HMhAltwMMioVDGDSLLMWTHRyNS/VhxYKs8dCogFzSwJAQkvCkEkC68cAQEDDV3wFHJUr11WspfPAvphziyKFNhZ1Dib7dKdszSXEVcjIre3RyX7dpqzjNs2R02+TPomILDtjZxXXYnMpTKFFlb1MWIMOlCxFFH7iUOwaGAXde9gs/GGTw1GmJJo0zxr1jjpw+zB3r9TEFNRTMuMTAwVUENhZi2Jp0zAu8nkf+vMww+0VZfFJ6mj7v0zeRuNRiIStpUlnpMuxec+/E2uRWioooMATBgBI2ZQXLlqFp17QAtMRCAAPJAYGbmIOGJnli4YokagYMpTcmTZUwc6EbM6qI4s8RgzgijJXAWfDLh3jRzChuzotADvYAsGOjnQEBVei0YaKGdhRiw8BWoQiJwpob6hmyKooamatQNQjNmtXJpYiFwIMOmWEnHmgQIblgCi5izZowBmEZqbBYNm0XnkBA0QYNmfBabAoc9ECWJmz5m3plhAyBXsY86bZ2yo45oRyTamgCLImIQ5AqBBGKrDBnDhiDA//PkxPVyNDpUwNb1oBcWLlkBIuYgMY5iagyIAKEAOEhQ2YiWDUBkBhAdfowpZJ8BCh6soea+kAQihgNAEzwUXGYGmNDlkQaUMyMABxD4uuQhTKHTGhWcNXZQWjCABVArUBwMaGgkCNMS/6fReAeQIzAgSgnGQSmiyAgKmCjWKiYJbqn7L3LRfU4CoFkbqtAYmXLg0kALrfVQUtMy2MMAdpp66WOvc4sPsLgBXDLG8Zkna+kBu3IVUFMmOvsVQKMkHrkSO08qPjXlhHRYKre8q4K6MigMvb9zIMcVY0VZtK6ZYKKgMUEgQKACgmEPiMBBISimhIVsAxGDAqD3fbs7ULVw3NnTJF1qea04sMw1IGgpDgkAQoQRhA4JG5MFCAgDhAzlNNIPDGSdGyGIPCwqRAxqwYYuBGtq5rTQbaWGIqQ8FENaaJHGBQJ0mCZfQGNhhrJ4YwXmBCRpKAZ6UGyS5AxGKNpiAsai/GyI5mB+Y8MmDHhp4kYKTGWgRkJgYiQExQWyMKJzLCU0+GNVLDRywxRVNwbwhLNCWRJ5MjHDGSAKHJnR2di6cBiYyaa4qZgaDSRcNFkwYgxJoMRCMiagkevABq5kDxuQwIBDUYoEmQnnsvnISg4CiKARQcSCwUDG//PkxP94vDpAAN6xyFfTIWku8hMMuOROQHmOGjpM2S8ywkxAtIBWJ/zDBVHzJsjalAQ7OtPNsRBI4aDAAyaJOYsApUAQgQaYQ5YAFmWNhYEhJQpzLOoJVmJhGJoEWcXIS01GtqqmIpaEtCsKxaKNJMyXVaau1W59mvGybORZKogaRB5QZ2YYLcpqo6oATEEsqnAXqZsjyLBV8uxa6YoECtUvMg8yoIMpiqxOICHVKrtRIGRDgqwtLQNWBZ8oqkQwYxoQbJRJHoDSoQMiouENbUtc7owMRIGpN1QDLEVrla5ktUTGLKKFomEyEvFAnVMldDGBBDrI+DCF+TRIFTIUPjCEXDE0IhAC5gIDIqBxiYEoQMhg2DBAAphABZguBhctAlLyQA0BREJSiaGzvuayp/HLwMHBDCQYmBy4INIjLwwxk8CGoyhDMqEja2owFFAz4aSaAwvEhsLAQJFTTlUdgDvXIzilN4DzSVIw4+OhoDFZk6ohOJwDfwc2w/MtUgugmEiYGAAYTmGDRmoUX4M5PguRixAYGXBCGZURko0Y6AJ7AkBMiEwCSAYAMLCDGSoDF5jwSsMYIKjwA1KDXQX8AAsugLASnjDQ4KEo8PAIBaaia2jOy0LMnZBAKKiACBzF//PkxO9z3DoQAV3YAINRcLfFnkVzDANDiHAqczJnSgtTFTwVAGAAEAWOXxiENtKdtiNLORdlsqlbTVKmVu81pn7QGbLCuAmEu6MtgTCSNThWGVM/aKrMWouEzp00UYAQDKOwezlsTBpK4sMyp6Vsoos8SuWSyRz06UymmKDK2oIlJlrbD7AkCYYiku5uamrYKOD1AWFr0SuYCsA1Odj0rlL1JhKUs0Xc1ps4MBSEBRhYsmLDzDWYIjFyUdVLFnSiRrpZ07KqzcF9qYJJK2t2ZG0FaLW0JKfiFStqDqwroAUCXgXyS+ZmXFXwv6hjVTApQ+gwukJLMUCVQjiDGSAypKQiNQDfzzATwgsOCCDFAgt8zqAqOPAKVTjL8AlUwEUBGMCVAdTG0BYow8wEuM6+BazHQgUUyqAExqHszTFsxRBcsAubxhEYtIqF4XOQI/MZzFMcxPMNQjR7OuH0NmCSNFDAMfRRPqitNgjyMrhPMgwnMFAAEAEpdy8wBAwyTKMIG4wPBMwzGkx9BEUDUyGDAwlCkxdMszvLYiE9h74voyRMkSFNsMiiZcNWkyOCAmD2UqCDwMllV8ydl6uYo/2IEBAwGACeMGQHLjtcTIKwbL8mEoOGFgVBAIP3KFjzTeuS//PkxPJ1LDnsAZ/oANJkcPx2NluC0BZxnltTGEpdJOpdIKDAEOEBQEXKwZV7ww+uxJdFKQOUsOvZ2IGgJrSwanLBV1sUQoXUrSsE9TB33dxsZbtQFc8TlTIJE6DOXLZykE28+ydwm6T0lfJuzvLbisNvDQrrVKUAM0h023ZgrchQ8btTjX13sHRXh5ir+MDLToJE1ICZIXgLqQ00+PqEsRnX9ed9nwjrqNQjLhSqD3blECt5F2AQxKLb3vyn26i0IssDDEzJ1dv7AsAuJRunhYuP5isOmmxNQRCB1VSr2exnTOW3eeJTdpIyNvE88OzKTEFNRTMuMTAwqqojZlMBXBajFqRnwweFqeML5CsDA0Bqs1Ht5LN8YHHTG8Adsx+oCjMHkBhTClwmExqEA7ML4BSzAUATEwh8F/MHsAnTAygCAwFoAzMAbARDAFAFYwCoApMBkAZjBCgL4wOUGhMFwBQwwIaMGeAbT5pU6hcMHcRgvEZwaeiGcDhjgUaisGJD5kIuZcUmCn4CmgUimlAoQ3gqBUCMEFVAEighBMuHyRDCHE2cPJt0sARNkGMDABRTDQEIC2JDIGUE4iBHqSbUkxFZctfZrrIW5I6u+7oKBWuhYJEjNWxNZcrD1BVVmCp7//PkxOVuDDn8Fd/YADlqAS9W6HxGAOS3WVtRpmA6geWU8y4z3xl/4i7z+uW5TsMSYbBrJGPKcP+gKRxVY/LovUni6aAhLRkMYZOrE+1Vhkuqv06UYmpHSO7Fp+bb+Ow9afKJytx3JkM9HGTSyUWY60ivA6gTT1Ius8EhYuzp7mtQTKpO2KKMroJGzp/nGlskld+dn4eeOKxlyZxwXCp5XKdQJH5q/UdmrNMSgyAnbsRSnmYbvySQTPWYSW7SQt3aSGa0RiM/biECSq5Ln2lb9vHuAIAuTcMTsRd+kiVPJYhVTEFNRTMuMTAwVVVVVVVVVVVVVVVVVVVVVVVVVVVVVQ3MF3A1DBPhbU01kJUMVSBojFbzBM3DotfMgOImTFTxPgwMsBcMEfA6DEngTUxTEWtMfvGtTB/BSIwpoG0NG0fMugKNNiGNGF0NCh1NLQ5MzTUMHgDNIxEALan2Svmkqumvy2CMizClAjZAzjAsvTO0+TNww2YnM7WTI1Ee7hocMGUzG0Y0yGM0QQclAJANMJDJhoLBxkgEYoNAJjEk8xMeMPE1dGHiBKJDhWSDhlSMPEBgoCKgJhAc0xR8s2gnbm8ilikFQJZvQLAjEmTpAmCi4KJ0NwCBkIEAARVpfRlj//PkxOBs/Dn8Cv92jKs5MyZ7M7DjrrcGJMDnl+s7j0VlsQZmvx/GuNYWDQfRTZgtRYeHpKyBlDYnKbtLO7d93IDlNFIXigCfxfapL5ixLJqGqsPXqLDrWIMZpPN8qV5og1mLNvB72M4aW7TNadp9dp8Qg5sllE9p8DwpYRkluYfR6Ibh9+Iw6cKryWG4Yg13X/aw0F4I/HasFtAYhMtklmoEeuHoWqo2rL4CqydxIpjegWIRNpzaPrDcggGWVoZc+idzUAxt3JRGKKGHaaxflsXi0FSuhjNjT2TEoh+A6fOuTEFNRTMuMTAwqqowMkIOMJuEiTbngiYw3YFMMxWKfTF6BH8xkYBIMACCDTDlBcowUQLPMP2BeDEVwpIwKonAMLjBUzBzQCQxEoBtMEkCazAzAawyaJ83qPcyKPk1EPgxtOQxvSIxYH0yDUwz6P8zvpo+xUQAXMevICaKpCZTmwBgBNDw6GgwMrBAAIWmBZEAQKDIsUDEQODC0LzFwBBGJY8JBguGAOFgzRE5AU0xlL0qIBJ0YZGYQQniamECjBt2JtJB0lIFJm9wmkChYiNFEYAMGFQCkmCS9+mGLzTISpGABkiYmSNLBNNiBV42oQxBYFK46o2+8aY8z5WFxSz6//PkxPRx/DH4AP90sXEXrJiapGiV4aa5Br2PatFx1ouiBgLTSEAgUMBmGQEgejFToJXRT7dhhaVbOnZfZkMHwI/zTcZdTxigswVD05QW3eygqRMvygOB5h6mKODacNxnhbgpkxhvoYbq0SngZjbbxCSrUXLLItKmizbqSaAFoyRNFuDxJCydWCAWSOpMvouahjUOOTOtNctuFZ/H1iUZrwKz9tHaciOQLGMofi9O+kKdyPzEjm2Hu43KVustVy55/JFSsieKNOa5kYhUbeOOw9HH3fSlganfWpP1Idht8o+tTEFNRTMuMTAwVVVVVVVVVVVVuDgK8wuQw2NYwGKzB0BjAy+sCrMI9C3TH6wMkwCgLaMIRDATCAxAsxqkVyMPPErzLPREQwC0L+MBTEPRcJTVJRTMoOzDFuDIkBjIsxjFIazKEIjA0QzG8bDUIZTLlPzU8tjMSIjZSYzMw+TPABjCgPTSgBTAcOzAgCzDwGwaDJhYCYcE5jYAZKD4YDJhEG5goABgWBS81AkBKBpmJmIKW1Wi3dHxIYxTDLIDBjQHPnAPUAzhw5JoAEFGZrEgfV62+bd9F2xuH2aK3GIGMFpEEAZsSoIgs6MCBU8suKsg0hU5dsyh07RoFKt90kWs//PkxO1wRDn4Av9ylN+EPlFYzNuDGGHafRPNXrJ1YWvKVIdy+yqapEmohI1LEMXYbxikpayzWAWNQBGlyrEdOVPG6EVZEs14HVpXbbMqksVpiPigLSYbSQLeLtYY7Cf7Y1Gy2kOrtaA6jSVG1VVfrdTTZYupdag8ELxaxFG7QZMMua/BD/Tlxmb4SdrLs00LvwM3j3yWR17cEMvfJ4mByiLtF68U6vB38mBYs5wpmO7onehtrUEKnYJDcTbsymXLEhiHqi1YGkD/WWmPA6bZp+HIVOOm+iouOs2kEs9iDktgTEFNRTMuMTAwVVVVVVVVVVVVVVVVVVVVVVVVVVVVVVVVVVVVVVVVVVVVVVVVVVVVVQDQZjUTMJgRMzD4PjOkIBMHpSIykRvjRQH8MYcP8zXwnDCPJ2MKwIEz1gczBxP9AS4PULg9u3Df7UMlnAz2EDBxZGlCZWIpgcWmIgEalGRhkljSaOfQk1ZCTVyXMaGYy6KjA4HEgoSzDkt4vV3DC5Go3iQGhYswSqA0UbUuVWqiU1UdLit1gBf684En2AAUxMdBVigcZK2G1jK6TRWKHBbkMBVhnGFKZq4ctQGB0Plh0TRGRcSDrISyrAyysTWgmORFAjzGQ3MPwwIgyrJh//PkxM5oTDoEXvcwcAKStN1ZAztaamaCZrVK6kuW61d/qsNVFiuTRNOSGYYu6eyWK4CKz3MpQya9KWE2akebvXgJsKPrXFbm2aGw29DLXXBdx3nC1hJmQl3UhWmtZWFAwVNWYuSu5jCZzpQ28j9TtaHm5PnZhmLMsXTXrxnJuUSpm47m7lutSw9yalkMPjHLMbeh/6TVaU0kEtUeOAmYq3RJ33c237FFxIOrDLWr2U5nhh5krjQ6X9QyWKl8W9QjDiKuVvRDUcX+pSj0Yjg0CK4QgIQX6lakUWyhJMosohmqTEFNRTMuMTAwqqqqqqqqqqqqqqqqqqqqqqqqqqqqqqqqqqqqqqqqqqqqqqqqqqqqqqqqqqqqqqqqqqqqqqqqqqqqAuR1yNEwxCNzPMBzM3QwkwaAVjHBIIM+9QQ0VTZjIPEQMKsMgwQgUDE7GaMXsFowyBOzB8CIMKECwzxsxaIoDIvhVIaU0alEWwNTCNijPZTFWRCwMqJBVkwoJSlnTlosKGUjtu7KUbWAIXJmP40t2DIFHIhSwsKDCNJIAkhZ5kI8VUSRCP8Fp6IHCiSUSFYW2nij+uV2S0kPLodl2CgiiggIW5UmOzEgQ+HCXkRLLkOcky18GAFQF1CzQk45//PkxL1kJDnwXvawjDWSLWRScZR1rifC+Yy+sXk1nsDR+QrsfmJLiSweNzoBzeFp7xv8iK5KZTbFwUy4Hd4KDVK3ZdDeq9QFo4vpA6ZC5ZNGaZb0Ex9hpdmJQ2lwpslkr1sC92CxRh0VZm1NgLGoW6TPm+Ya2NrjWHdjd512QPPGHDceQM5eR7Lc06lBLJbRQLN00Pum3aNtKabJGnRWgiENOhSVoGdNtlOpyOS+WyiHnhoHEhyn7BdyvKYhB8FxqJUb00kptymPTzYY/BbXI7SxyLuq4z+O1RPNMxKXyaCKTEFNRaqqsY+R9hmrs8Go+ZIYyYLpiUEBmSYSGPyEzaKTTkPMxhkyYoTmkVGhCWiMzhIlHLsjJQ6ycx5jjAkUisMBI6PQGiCQACmDkmEDUgjGPERS8qGi04WGUcLygwhPgEB4Cp5mjJolnR4IEOA7IAvCa4GlDGwSGQOCQCs6Gi/2lJ4InDBIKIBWAUQAxCZhvoBYdCeYYIQya45ZQG0G6iFEEdjeDMBJsoESBZAKlCghiFEygjNABSmQiKM8kgiQsfwoGBQiBQAGU7TsYKWvARDU1PESjOAIOCClxNwMgldooipgNDGIIswBJluouSAEU6d5iBl3EJ7eIA3hJkY0//PkxPlzDDnACPcyKJtOwmCrGPNIhJbBUMcCRBZZVDEEi09GwmGCXzZ2jkoAIQVnoCBpxO1RtVgFHR8LZytdkCQai3FC96WyQZjhGKWX8TETfEBREEigrsePXeBAC56cSXoMDRvUtLJMwVXTEMg6WytAeFjFV0MBGjYApZZxg0CIAEJ7vmUEvBoxax4BEi+b1QA1lI8BNLfNN8tQSFJOiIBlCRICfBpAXJEJT/rVGoHDEgnJUGSfJCwcIHFsWdZMEuCiKCR2ZlCiS4XAQQpdtfXkCBS8ZIaYoaW5mJiwwQDVTEFNRTMuMTAwVVVVVVVVVVVVVVVVVVVVVVVVVVVVVVVVVVVVVVVVVVVVVVVVFO0gGDEjwZagRoCI/EFU14M3AURrGGUYUrdxCWPDFUoDGUoQgQWNOEkQSsgqAiUfVjg4NC0SFLhgQN0RIEZKBpgKQM4k3WRwFGYkLVRDg1D3AS/Z4nooihaFgAeWAqAYyXtScIvhpEsgoGWeTTIBB5dOV5UYC/5yMGe0AASWZAQYqghINYEFdjVQjBL4GlUrAYApdVVciLA0KbSfaVQUKQgRUZ8yUZVIkC0hbIQEJfokBw6ZooQERI4EQYZ27IiSBwgGHDGEGC84MIawPNv0SAKJ//PkxNJpXDnMNPayADxLArwUUJAktS0AiBHkhGCjkmeo4SDkzACtHglY0f4koKoyrEmCoNGmdQesMlqr9DqXOSLEYQGDYEmyqciPeKdgt2EgEV0IWotya1AKta66B93KcV3F4ooMYdhzXGS1bEmErhe6sTXV/QuOylHxwEcWWKxOjEHFZquhNNkrYGXpWrBI0KaQUupYd6Wbrla2kbPo6K/VTf+H1V4KdpOVAEtJTRFsuJDDSF1TiaENJPl5kU0bEvJWuSVOMmitJl0Kh5sa5FFC7Cy5SzODlB77jOgTCqwKTEFNRTMuMTAwqqqqqqqqqqqqqqqqqqqqqqqqqqqqqqqqqqqqqqqqqqqqqqqqqqqqqqqqqlqljdaJMjXeOfDKMBROMZAlMDACGgsIABlKLzZocSqC4BPk0Jeg6AY0CwyAClTpBYAmYEACwBD6lrDi9IwKqRhjcX6THRPZKECOUjG4auluGAIii5Y0Mnuggf8eVLApNazUvmusAEnto+ghOBsRtImemGCGbUI01cjxpskmivC0bUanbTBeQVMLLGkYPbjAg4KYY4XaRHGGAgZ0y2DJDAJBxKOQCnBwxZtFUCgPewcAFoglp1sMQIh20VCPNr0WFYAUGFgcqgA0AaCM//PkxMtnlDncX13IACDMZoyUTKPMcSZSHVqZMjKVrjzSEsOCLQmEQQDjBwcWmbUBSwiICwKJICEVsYGj8xbEwhFYJotimqjgWkDA1Ky9TOJammmmgHghEJejvoSoAgVa61pllMjazG1VFgmWMHp3VYBBLPVyNAX0wJ7naUMU7ZXMrCvguRJF13xgFeEdbZkT+socZ5lsw5GFrPm9jMXdY4/zzyZ/3iktG30lmocicWXJL1ywiAGAMLdpKpp6YzGXPe93odbZnDltQlycCjcRWdBDVeOCtCGmfqVRdDkWlRmqBRguVKAgBB4YegMZSLgaaIkl2HAWmIVAHNRDGOabvmmqGG4XmBYRnm9jm34hKqUyTIVB0uUrKdDw6bjjKaRFUYBAEgqqdjSpjEwPn/MNQONgmKMjHkPiJIM5xdW4zFcsEqjMBARHgXS2R6CgEGNi6G6h0Hp1HGzwuGSo9pYsKUrT4i8QWopfKl+uQ/Zq8pxoQKhjKKJgADRhcGBg0AmUw1K28D9SdonHfcJ9mdwMY/hCYSA8DQBMhRVEgqDgQMoSPlrKqJV8ZaU6Px59bSx5Y7Epj7TmsGCJQGdw/GQISGdikGjw7G0iuGkR2GVgfGtR9VW9ppPZYnCHbeG8+rb2//PkxP95HDnwIZ3oAJdcANThDqtvZWhAlePGIAjmNoTmM4eioIGDwAJGGBgRGDgBGCAUDQkGFoJmDgWS+XXJ2DZG7GHXnnMIzPO/ahx2I28bvwXKIpNxt/JfciUBvqYNAyYegqHAqYPhiYQgKYEhCYdhaCg3WFIQEDgcMTAkAoimJ4OhAImGYgwHQwDaj8kt0uMmrv5lLn8i8xSxLCVXZ6kgTNtX8bR7YrFqdxcJRCGYxh+pmQSKFmG4CmLohmBoQAYaDDAXjIYdBIgDJYcCIeTBkBzA4MjEQKE6zIYWBoSA4DzDYHDBACBYCDCgJDCoGlm1UJNk1DIWA0JCMYazIhcfODsioLI4p0mejhVJDDr43akOuhjKz43hpMtKwiamQRYatWpgMNmNAmYiDBhsamJRqZFCJr8HGEUocPeYMtZg4xmXk2aML5zX6BUfAAimPh2aFfZ80blIQMFoUw6WzRhGMbjEw0kzDxTMPBcwIFjAwTQ2MHh6ImFAUYxChhoomJBQFhkYQA5jUHmHRIW5AoNBQTAgDMKB0HC4gEwQIoJYZDRhEKAUKjoEAIGlIOFYcFwcCYOaU8jYUAIqGYwwl2coFVQIA+Ah8ZbLIKhZhkFGCCuYjApiwPGKhWYwA5kM//PkxO16bDowAZvgAJocLTFYqDhaBBOXnSJFAk5hhQQmBgO86lhgACu2JA66XMMCAsZBybzNlpuuzplowBAYCWdIXKxJVNbadT2l+SJSots/z2qUP08cuhmw6Vxx3BblBAWAoEAiZbsITFFYIaukKnGo2IwemGYMCCL5fRCSrlVWOtrJWiteiVMkayZUKdDsvzDsNNbVYtptpa7TUn/Za16CWcXMzAwOMCABKMCgccBQFDZABVsjoXURGhshJUFBwLBQJRzGgWj4lvCklXjTuZKw5RxMpawEAa60gQIA26RtJliqXrcWbJgtPd1B5hDcZh24VAsZhx2qksRSsS9vmNsSb9nbWnCcmMpMQU1FMy4xMDCqqqqqqqqqqqqqqhABGjJB2MidpEmSExr8McPAGxkRiZUBDI2l6NLXzrJ82hPCEwxU6MNQDOVYzw9MwFzDAWBWqjAMYSGGQmRkJEGCUBC4dBpIIDIJOMOgoxkaTKxJBIVQQGcQya9OxqmXHCyUERswMJDHQ/MDhMEgcxyDnfAgzGAKYCDA0FAwAp8hAAVeYIBRgADGAwQUAwsqWpHgsJABPktqBAE1BFaBZbGXCyZFKH2aYz1w2GscUMU1QbRqWQ04WAgiAQ4FH5UVLgI0//PkxMJlbDogAdvgAK0lpI5FUGJWIviIIiwPTWXWVAGYFEIJACwiAQcAoCDYiApgMEgYAjAbMHg1kLj0IgB8vgmAWTLoWFfRb7WLb+Rpuz8RShhqGn27SOtDrdq135I30qo3qjsHu880YcqHpVK6Ozal1A40keifhq5R7iztTkqg99ZZcylT9WZblDTzMqeaGot9iXztutK8GXRalgVh0HxGU1rFJUhqlfl/cZyP2YhVhqmo4blsy6tLTy28/0LeJ3utam7EEuTAMpjGU1XtVI1EnafuQdlTqyqDZ2rjMxnlBswWpDhckNAqQ0uUzVIPNHCsQigyIElhzApXKoWMizM4TFDWQdNDD4iFZjAVGBCCYpCscMQAww4LkAQgC5ZMx8DzBoJIQMFw+YdLJmg/mMh0YrAZqkGgEjEpHNBkEw/xjioYNMK05uCDZBFPOV0yAJzbMSC5hMODwwWVjC0U2slDjM0p0MQjBIJMtITMS8xIEPq2P8MOwoHGR0HZoXAOXmziGWUFvzUlTSHQ5SYAk3ROUIRtLKEQiGBCdCWIwSYZKODoq5gUTCBphjAkKBIAFBAIUMXDMkOM+ZEZMRPDWmwa1HioZiNQLQbMfRFnZ6GZpSZtA5khpuHZjg4Y7NlJ//PkxP907DoEBOb1QDAlws5SyOGYJShjYqORQjERIeXDxlJMyQAifpqyCnHhr3o6oxKHrFTohpvVRseyfd6ncbm/TbP/B0jhlMV1JXFWey2HWkOhOsqlrBH0d2Mxl+U9nQabFncSZjEWqRKuriQaYw7bjuw2CVug7tMs9iUDv5Dyman8IFWVDae6E2mFAaiq/0UmVKDy5nsrT9YA6TV4bXfkhpDrhrQgKNsxUi5sZZM2GNTiwrEUPHgQHLmZAGAmwM6cguq5ggFS1NNPdds01RocPN+wB7I2v5m/YBgRoLtuukxBTUUzLjEwMBXMoIQ1KmTTC6Bo5NLnAzaBTJ47EQPM1AIyYOAcrTGUfNECk1k/DIx0M1AIyGJxICjwGDDIXMMDhQCAoLhYmIhhAWiEBmMhgYEFBhQNmCRUY9HQomDMYKMKlEx04zFfNOy1Iy08gLlzOIWNaJM90ezaxQNHFIAG8wSKDFoJOCtNGNMJTMVzNOwAgwzQk5KUBXx1WZSkRdgeEOo7NusMDVAi4zQQUdiY02wwQkY+NDDAB0MV+qPJnszSFRNZoIBZaUQAwaiNUYMebNEWozGITCE0DTMFDNhBYqDj4AJBUBS5LAGYEBg4AAxEpWjsYePqoGICJoIi//PkxPVyPDoEBOa3TGsB5gSADUkmCBAnmewhq4uPGIOJTBCcUClbxIWMDAmmGBgzXqBKiCm6IyI1vusphsAQG69O4ywynbU2UOS2CUr8a0y6A6hAAseZU4z2NdaZIWsurArrxrKWS94W5wlwWovxbjNDDL6sycrlR74i9kocmccJ9YTc7UgOdj6RUgjlZ3kwnbkrdIfwXy5L+QPCnUcp+ZdSw6w204MzBzYWCxuOQ07OSwj9/HX/VC3IZAU1WQvVMLPS4YO3d+Wxr6aO1W82du79PHNvy8E9FIHhiGtuxSw1MvUgMNmvMRLDM+GqN54ON/NVNANwNq51NHh+NEhXMtB7CB1NE2kOCWIMjzjMjifM7C5MNC2MJySMUSnMlCCMHzNMnhgMYA9MUiFMDxkEIAGBQ2mNxJmUxKAAMTBgkjM8tjDI9zIBJTCBNjFGfjlEijOIfzEq3A+ujbMqwaSRkOOw8VZjqBpnaGRjqOBy5AZcIm4EhjYqbEdnG3huzubxNG0spiiEBl8wgENZJAaqmdKBtZKc0RHsnRWUiSqYM6ahoad6Z9wYcMBShmwyYSBwKAkQlDZvTDATCoEhzHLj48DMpzkBRH+NarNhBMK0CrMyCxdwseMYHR+AgcyxlGYB//PkxP93hDnsAO71RBECjhEeMqpozGmDT8DTRT5XycobMAJJQq4OC+JpRiSxAkCH4OMmlDPoSBhI8zRl6izUmgL1FQyAJ0qBzkjFNm4xdrazldOCxyNPu1hGpfTrJ3QppLrspkCcrYW1ly06rRFB7y610P62ZdzwtuwBdbMo23V5npizZLzhRuHIAghtIy7KyH2tP2xFp0GyF/lLm+quHiymRwzBLSL8mij8U7WnKbrUfOVMqbtB0kaznLHckO6dhtJSuhyXS9gLvuk+8ASiD4hAz+w430Xp3+llJE7kFyuLyCQ2Yevw/HXgtRpMQU1FVVVVGUwWxAzE9RiMbkJowjQqzA1EVKokJiqBEGN2K0YDwIojJJhYVGZxiRSsCkk2KdAwjmTg6KAwRDgwcgTAjgM9Cc0MDjShoMYBcyEESgfmGAcY3GZkQEmCiAZqDwYRjVZvMBts12WzXZcChUPTX86v5jxBGM2wE4Kxjg0XJSWZSEpmM4lQ1GTIYIOFzFQkEYCWxWIFwcoBk2Q4maUYQemFAwsmISzK24bD0kARCgaxMlPAEMmPjhZUEBEOKXufUkEMvPBC8SEQQ5oAgMJkQkJGJoo4DBwwcjEQ+zJvmFMOKAdmDFUTWBJFGCghb4vq//PkxO1wLDnoBPc2XAYVUElqGbSWxFtnHUGQDQ6ghViEIIku3BG5ONKKMYwMqVuDnRKBlAWltKgHFA5hjMYef8HCCZSJDkMpiC3Us0wnqelpCCRqq8UAcVa8XYVIogw8gAGAq0M1nlK0lUQV8pvPk/aTa8U+JZKExWQu7QOwn2iu1FjT5pEQbNI7xqvG5c5y7Jxgruyp3ncXJGmmsnanckKwzeO9KKaifqbhUtkT000HsnZ5KJqBH/j0unZa5L9NxYhfhqNK5kcomXDtxFukvf52KXCWQBapoMWCoIg6EblSTEFNRTMuMTAwqqqqqqqqM0GCMAA3PlH9Mp17MtSJOtKWMvC1MehUMpABKwdMmRqMayWAIwmMZ9mDAEpJmGQWpGmJgyAUtzBs+jKERDDg+zLAnTQM7A5oDB0ATE0QDAsAzCwPDC4BTBMQDFkRDE0sjOs0B4+DHZATDqdRGYB3RgIOj8zdHoxuIcygG0x2E8Lg+YNBqYiBeStDbmBpUcJSYoqXStF0i7hhxwCHmMPhQiJJTAAxCTOMrN1jONBPZVNlNB40OQl+hEPL8pPEQt5mQwS2z1q6JDkKjPMtcNESvHAl6WJCTEZwGgdOIEq+SffYveUNdRDjPJEqhUxYQiqI//PkxPBw1DnYAO6xSKrbsIZWGAQ4rtIEJIp4qiYon/C1h08Vcy1saApBxYRoqGEKJgmEaYSf5fpUigzK2Nl0WhoLLwiLwOu6SNs21ERBtJnxdosKZWyAtAt9zFpkgS/CqqABNMdIla9CRDltdTRQCvq11RSA3LXrMKAsLfxe7epbOA/rTVYYLbDDz/tafOqyZ47a1HSZLBLdFyO9LIfoplnkCtOf5gDiS+Zu35C6jWUkWQQzk7DxQRA7oyKcf2DYs16NN/ZcW+1djqsT4MejUPU0/DrEWvTa7X7kMvkTtN1qTEFNRTMuMTAwqqqqqqqqqqqqqqqqqqqqqqqqqqqqqqqqqqqqqqqqqqqqqqqqqoklKphwi8mgoL4Zd4e5k6CImAiD6YTwm5k/CNgYKQwiATzHxghOzKU0EDYJAznAgDJQOShoeAAaZaHHJDxhR8beiA6HMwMxZQfoxAHBw8Ag4t6NERpwAYMBGwFxiyEc48mwIZ/yGYOmHYzAQJL6boBAheSnx4BL0mUiYCYnOnCrOEWDy5ogEQaelAMCg0dYiE9HIsoYAJjiBwQIIdYSXhsCho6RJIZHOGJ8OkBgyrEuy44IPABRiJGGkAjgqGhuhggYn0nk8awbHVusHTGRCdqL//PkxNFpHDngHPbyXJlhpdL4TuUsHhU546yJw2ZBgz/LDtmWI6L+oAnUFQUNH0EJAGSa08i724OiuRro4NMrmUWWcIzC+S91psNnlizUNrCOUxtZkFJhw7EmXN0fOUNxZzFFV3UZy1KQweu5S1/vTJZajy19SbSF4vPIC+ritqnVBqbMcUzcSo0nqoWdO8zmSwe1yLyqNUMDQO2W3SQwvGRwU48YcBwqZ/YIhl3oGa++Lc4TGXZrTrNqVpr0TbQ4zOS74Ke+GWbU0rk026cKdZ+IQ+7hPtD1e/CpQzFpNmUVTEFNRTMuMTAwVVVVVVVVVVVVVSwMXE7MyGTljJIBvMr8dcxgRgjF6GlNN8wowlhPTBaCZM+hAxWNDIRhNS3Q5+YDQCGMehww+OC24MHpjYXmYkEBQ9XFSaY4BJhwUjwoCDkGAswgCQIDTKBXMMAYxAHTEApBgzMplI1tLzGRyMPBRJ0wyMjB4aGQiLBxPMQAEIBoFQ1gApLQFqh1gfMUAq9pKsRaovOZygNIucMIRGSMAAWBgdo0FLpAmARwYRCJXK6QlgCsfQElqFWI0qCBUCORAVwQCJTcLPLfO420PgEhdGOiPCSAJKgIRzDLQWDDAB4GYXiXU2J3BpReg1nS//PkxOxwBDnICvcwXHgcMLiTRLDgsFpCuh4SXMHJVrPZ2XNOxgYc4sXqX2ALGPgkDJ2fqriBEjYc6SG5fRJx7S49CLDWEX5GEnjKBTYACRrX4mEX5JBNSaE9qWy91sOEra+VhVJm8PxR9WAM7fXF5EqXmQsKzwG26Cql6ikQdhLKzBCCjQ4ehtIZ4FxqwqZLkXatNnjkLEoHmb9m9uIPG/jssQamkWw1sSzUuF9o7xpuygCQTX32fRK5WtaT+Qa0hv1V0WWuK6U2gVhratBjjN0S28b+OLmbsu1gKpFA2bMlTEFNRTMuMTAwVVUhhCqlmkkDAaUxg5jviNGJQJCYMY0ZjSF1mBiF0Yb4HJn5OY0cAbGNUczKm00ZlMdADS0o2Y1JA4xMjNGizBXs8oYNzMjLRQwUaBQMOgY8YmIlgFADJB0qEBkQgagOGVhpppMZKViItViMK42A0BA0uFQgsWCCg5EqhgUJRlqAOjLKtBEYSfZipsCVsHkknpIiiWkMgFbwouhoCHkZ0WhccxpUJwsgBRUnUQk3UtwqOBSQc/JFnmOepkWZHp1LFJIoLEJhy4Rf5Lk0QUIEqAKEX7WK3ZLZTBqb0jgC1y1IoQ+zeItp7PShql8DV2sl2UgEIncb//PkxPRx1DnECPbyWLkxgsWSjr4C6DR0YSgktoEDQMhQZBwBYGoE52FK5fRI8S0U+FmzBGZCJCN2bKh+shmpAIxBpCQLtsUYM3JRtQcqBz7ZQEETMoXocUAxeFJJ4WFKJDQbnqYJhoXsub5EdMktgxIKjuuoO3jEC3jXgYAxVjqVbcVCS/C1i/yt7ypqkgCwIIBae3W8/UGt6yUqAsEgNoQjDQyRhWql4o4p+UMRUsT9W80911cu+nq12ITySSdSkGCP+ShrTbAtJzGauG7Shpd5WNLxVRZC/UEiVyT7lLvVTEFNRTMuMTAwVTLxGzgFHz+AajSAMDL6XgaaJricZnKX5ikSBhYEAGPEBBKHB8YGAwY6gg0lGwiBoZBcxMEMw4DEHA2r4wFBQBAGKgGGA+ZzYXHBhJ2pmseYTYKqExjAERlMo0edMI2VoAxIJtQAUmkXlAAC3i+ZZ0QhKAhCoYO0pcwUAAwAUUBRBcQFIQyXeDA3JEYC5XVZiX6SzngsYsIkQGCD07DXqbcqCC0aCWG3PLpjSIswaJoGDMEMxyQEUy4vGVSk9C14kvDMEZtsnskip8dCGAjUANBozDDUWOCI+FDSQMs1GwxyTFFBywiKABxiFKgQteQDDl8wxtrB//PkxPVyHDnMAV3IAIqZnnmmCbCACFQ4GAMZBAkYhmFwVDJSXXGBg4wyDEvxAAYgxrCGSiDTTfBKwTPfLPmKCEHrddNfSY5b0vmvpmsBpFuW8iNasaWxaRIhpqmBQMCURAW8cDAptAtA5L5JlUZYCSobxZQWAQCBgCfbD19gkUwR13wA66dZkFCAADCKYAgQtYiABgJ5A1xEQGmxdMCEP5GqYmCWO/S7k1VcqkUgxEGgpbuG/yB7C1A2xLcXgGCKla2XeTpghy4JS2rK7X+vaVpFpul2E7l8MAXwge77RmeqNhuRMCxrMa6UBINmFCZmbwaGcA0GHQsmXAymEgXi1eGNgUgobgUHxiGEgUAcKgoNBSFTIKCDoNOVrZdoBHwSdDGJiTAOds0MuAWelYNDB0EYkEZAoywAl0rgYHRuR6dIuCj437THOAoVdYEIBCAWA4MOLbFYUCFQhekuo2sPPM/TEMIMAA4iOO2hWkWgBEhisKP5hCJckqAFxP+t1HeEhBciEA4fZEIsygpOcIhgZAZUcZ8O8LiuoFQYk/El6SKUZe8rBJWo8lQWOAw4MLBQAGQ7pxluQKLOk+MZIOoOOzhQ0UAZ2XtbgYI8YUSHBjGhxIuAjqmi3VlOihuhWlmm//PkxP945DngAZ3QAAAAGCjxd9NgKkDuzTSiTUHAAOMgON2tOjNDKRpXp9fZzRZobZEaNGUSaBhmLS16lVlzlAROxmiFZjBMMDgMeFKWJZkwNmrdWSK5rJqLCNsGAhALaICgxyXZb8zqsBSzAgwwo4AsXMgCRUXqZFWcOidNaf54VBJfsQDSQQPA0qX+TaUJAwhXCRlLAw6DLTKGCMCpu/qSisDLy3xfd1ETFypUs5UMQvUEVmVWKocZFJnTc6sEShM2FsANCrO0yM4EBgYaRmNLmfGnAQAQYYoYakmYUiUAwUMTwLQGFDmLLprAwQWUQsowjQ2+w4u44HYyLA3K49EE/NYAqTAggKpMuqOkZPkHO4vNheMqERvMWEB5bBqgGQaDZgwGBRAxkULpmuQ5ryma9CmAqwKQzAAoxgBMBCm5lxWkIgmWuxwqUZ4phRFOSDwcPt8KhRgQCOhBhASigX9TuAQEDg8lBxEKmAjZkYcDpZkalwKHRoEL3iIndF/AKEShIZkwCfzMCcDAJgIGxowhPHS4IHVDBAAmKDpgwCW4HgJwneL7NZbssGkMYWdGjnRjIYZ8gmpPpksocK9GmkxmZ0GB7CCQnAoEv8ZCyYLMMAVEGekgAiiARQoHjAQZ//PkxO59NDnQAZrYADTLoygkEjSUgEA5lQ2CDEIGQuSmOEIojmyQ523CgIC4IjdIhICBIctNL1TWQp4hAgwZhzd1boHCgKsM9KiUCF3iQLQDABLNgTS4T0mKEYBMjOUAyk8UIR7CxuYeMBYzNWczF3I5F2WaIAkSBUxFEoLfCJF9XvdNfSE8RBAhEWEiABT4a6rcstQJu7NVKVLV9WbcOwzBhvbgAi4zFQNLcjDlE2iBOWtTTZQ52ENlaDCiUyohMuAhEHBYXMIJzAQwwsyM/PjIkcywrNCOVssBYw8FtANCGIK4Q4MKLoMQfl0i3KZk0u0IEnrAwC4bOl8tQZS7rKZtxbrWmjqWq2uQ0JDJm6paWaguACE2j83jMzgMdABAoCJTmaz7bwi0aaWdaebo+XIMiUBx4EFTSJwgsDBJjBIQBhE8iCYouZouiUABpkiZjhJdGMMOYk/VA/0rVtRVbMFQxlUBpUAcJBooyJAxoRJKCV2vzWwprsMv7RNKLrFpm9UqQDJhQM+rDWIs5dqHo6uVUryppGDEGLFF8WwFqjAgC0TUwoFMgZM4bBwpHUwwsxgkFCV4GHLGlXGxXGQBjoQyZozpoyopOMwhs1z04D0y4IKETOHzNEwURcgusYEE//PkxMxwdDlcAdrQAAIErl8EvkVlNoPWiBAJggLnoJS4rNXScZQ0wg8yREv0iCYIKAgqlrPgKEMWOMeMRxRCMKIMWIBQZeZhi5pmJsl4YaABUzyEzhUHEVGjCjDKljLkERRCCMWMMWGCAThggKYoiZAekkX1MIHMIBQViitxd4uUy2Ycp3oejThKBKDRhL5FZg1PGZhcyQy7X5oGVKme5NEwQkxg1Acz0u6XhTphxKoAgjCgl6qrIBkwpO4KwqYq6Y+oCoLBzKmJQGXVMADQeeZ0UvUVWCr6AIQxIouK+TAkJReJkyWphBpkB5dJnpd1FFpsw1pnTOn9vSp/n+l0RUxUFkxBTUUzLjEwMKqqqqqqqqqqqqqqqqqqqqqqqqqqqqqqqqqqqqqqqqqqqqqqqqqqqqqqqqqqqqqqqqqqqqqqqqqqqqqqqqqqqqqqqqqqqqqqqqqqqqqqqqqqqqqqqqqqqqqqqqqqqqqqqqqqqqqqqqqqqqqqqqqqqqqqqqqqqqqqqqqqqqqqqqqqqqqqqqqqqqqqqqqqqqqqqqqqqqqqqqqqqqqqqqqqqqqqqqqqqqqqqqqqqqqqqqqqqqqqqqqqqqqqqqqqqqqqqqqqqqqqqqqqqqqqqqqqqqqqqqqq\" type=\"audio/mpeg\" />\n",
              "                    Your browser does not support the audio element.\n",
              "                </audio>\n",
              "              "
            ]
          },
          "metadata": {},
          "execution_count": 15
        }
      ]
    },
    {
      "cell_type": "markdown",
      "source": [
        "### 7: Any-Audio to English-Audio Translation\n",
        "This section addresses a more complex task of translating non-English audio into English and converting that translated text into English speech.\n",
        "\n",
        "This section first leverages the `Whisper` model from OpenAI for audio-to-text translation (non-English audio into English text), and then uses the `TTS model` to convert the resulting English text into speech. This section showcases the use of both translation (via `Whisper`) and text-to-speech (via `TTS`) models.\n"
      ],
      "metadata": {
        "id": "Bqw7Dwc0SlrF"
      }
    },
    {
      "cell_type": "code",
      "source": [
        "# Function to convert non-English audio to English speech\n",
        "def convert_to_eng_audio(input_file_path, save_path=\"generated_audio.mp3\"):\n",
        "\n",
        "    # Step 1: Read the input audio file\n",
        "    audio_file = open(input_file_path, \"rb\")\n",
        "\n",
        "    # Step 2: Translate the audio to English using Whisper model via OpenAI API\n",
        "    translation = client.audio.translations.create(\n",
        "        model=\"whisper-1\",        # Use Whisper model for translation\n",
        "        file=audio_file,          # Provide the audio file\n",
        "        prompt='Translate to English'  # Request translation to English\n",
        "    )\n",
        "    input_text = translation.text  # Extract the translated text\n",
        "\n",
        "    # Step 3: Convert the translated text into speech using Text-to-Speech\n",
        "    response = client.audio.speech.create(\n",
        "        model=\"tts-1\",            # Use the Text-to-Speech model\n",
        "        voice=\"alloy\",            # Specify the voice for audio output\n",
        "        input=input_text          # Use the translated text as input\n",
        "    )\n",
        "\n",
        "    # Step 4: Save the generated speech audio\n",
        "    response.write_to_file(save_path)\n",
        "    print(f\"Response saved in: {save_path}\")\n",
        "\n",
        "    # Return the saved audio file path\n",
        "    return Audio(save_path)\n"
      ],
      "metadata": {
        "id": "oROd8ECWSzSt"
      },
      "execution_count": 16,
      "outputs": []
    },
    {
      "cell_type": "markdown",
      "source": [
        "### 9: Capturing User Audio\n",
        "This section is focused on recording audio directly from the user in real-time. It doesn’t involve translation or text-to-speech directly, but it provides an audio input that can then be passed to the translation and TTS process in section 8 above."
      ],
      "metadata": {
        "id": "ZQc8j1pNS53u"
      }
    },
    {
      "cell_type": "markdown",
      "source": [
        "#### 9.1: Record Audio from the User\n",
        "This block allows the user to record audio directly in the Colab environment using JavaScript and Python integration."
      ],
      "metadata": {
        "id": "8J1AbG7tS_P0"
      }
    },
    {
      "cell_type": "code",
      "source": [
        "import os\n",
        "from datetime import datetime\n",
        "from IPython.display import Javascript\n",
        "from google.colab import output\n",
        "from base64 import b64decode\n",
        "import IPython.display as ipd\n",
        "from IPython.display import Audio\n",
        "\n",
        "# JavaScript code to capture audio from the user in real-time\n",
        "RECORD = \"\"\"\n",
        "const sleep  = time => new Promise(resolve => setTimeout(resolve, time))\n",
        "const b2text = blob => new Promise(resolve => {\n",
        "  const reader = new FileReader()\n",
        "  reader.onloadend = e => resolve(e.srcElement.result)\n",
        "  reader.readAsDataURL(blob)\n",
        "})\n",
        "var record = time => new Promise(async resolve => {\n",
        "  stream = await navigator.mediaDevices.getUserMedia({ audio: true })\n",
        "  recorder = new MediaRecorder(stream)\n",
        "  chunks = []\n",
        "  recorder.ondataavailable = e => chunks.push(e.data)\n",
        "  recorder.start()\n",
        "  await sleep(time)\n",
        "  recorder.onstop = async ()=>{\n",
        "    blob = new Blob(chunks)\n",
        "    text = await b2text(blob)\n",
        "    resolve(text)\n",
        "  }\n",
        "  recorder.stop()\n",
        "})\n",
        "\"\"\"\n",
        "\n",
        "# Create a directory to store recorded audio if it doesn't exist\n",
        "if not os.path.exists('MyAudios/'):\n",
        "    os.mkdir(\"MyAudios\")\n",
        "\n",
        "# Function to record audio for a specified number of seconds (default: 10 seconds)\n",
        "def record(sec=10):\n",
        "    print(\"Start speaking! (10 sec left)\")\n",
        "    now = datetime.now()\n",
        "    current_time = now.strftime(\"%Y-%m-%d_%H-%M-%S\")\n",
        "\n",
        "    # Display the JavaScript recorder interface\n",
        "    display(Javascript(RECORD))\n",
        "    s = output.eval_js('record(%d)' % (sec*1000))\n",
        "\n",
        "    # Decode the base64-encoded audio\n",
        "    b = b64decode(s.split(',')[1])\n",
        "\n",
        "    # Save the recorded audio to the MyAudios directory\n",
        "    with open('MyAudios/audio_'+current_time+'.mp3', 'wb') as f:\n",
        "        f.write(b)\n",
        "\n",
        "    # Return the file path of the saved audio\n",
        "    print('input_file_path = MyAudios/audio_'+current_time+'.mp3')\n",
        "    return 'MyAudios/audio_'+current_time+'.mp3'\n",
        "\n",
        "# Call the record function to capture audio (default: 10 seconds)\n",
        "input_file_path = record()\n",
        "\n",
        "# Play the recorded audio\n",
        "Audio(input_file_path)\n"
      ],
      "metadata": {
        "colab": {
          "base_uri": "https://localhost:8080/",
          "height": 111
        },
        "id": "EtwBuKOeUkq8",
        "outputId": "a283cce6-b25b-4582-ab19-7aae4693897f"
      },
      "execution_count": 19,
      "outputs": [
        {
          "output_type": "stream",
          "name": "stdout",
          "text": [
            "Start speaking! (10 sec left)\n"
          ]
        },
        {
          "output_type": "display_data",
          "data": {
            "text/plain": [
              "<IPython.core.display.Javascript object>"
            ],
            "application/javascript": [
              "\n",
              "const sleep  = time => new Promise(resolve => setTimeout(resolve, time))\n",
              "const b2text = blob => new Promise(resolve => {\n",
              "  const reader = new FileReader()\n",
              "  reader.onloadend = e => resolve(e.srcElement.result)\n",
              "  reader.readAsDataURL(blob)\n",
              "})\n",
              "var record = time => new Promise(async resolve => {\n",
              "  stream = await navigator.mediaDevices.getUserMedia({ audio: true })\n",
              "  recorder = new MediaRecorder(stream)\n",
              "  chunks = []\n",
              "  recorder.ondataavailable = e => chunks.push(e.data)\n",
              "  recorder.start()\n",
              "  await sleep(time)\n",
              "  recorder.onstop = async ()=>{\n",
              "    blob = new Blob(chunks)\n",
              "    text = await b2text(blob)\n",
              "    resolve(text)\n",
              "  }\n",
              "  recorder.stop()\n",
              "})\n"
            ]
          },
          "metadata": {}
        },
        {
          "output_type": "stream",
          "name": "stdout",
          "text": [
            "input_file_path = MyAudios/audio_2024-10-08_09-54-56.mp3\n"
          ]
        },
        {
          "output_type": "execute_result",
          "data": {
            "text/plain": [
              "<IPython.lib.display.Audio object>"
            ],
            "text/html": [
              "\n",
              "                <audio  controls=\"controls\" >\n",
              "                    <source src=\"data:audio/mpeg;base64,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\" type=\"audio/mpeg\" />\n",
              "                    Your browser does not support the audio element.\n",
              "                </audio>\n",
              "              "
            ]
          },
          "metadata": {},
          "execution_count": 19
        }
      ]
    },
    {
      "cell_type": "markdown",
      "source": [
        "#### 9.2: Convert Recorded Audio to English Speech\n",
        "This section takes the user-recorded audio and translates it to English using the earlier function.\n",
        "\n"
      ],
      "metadata": {
        "id": "ZXDmvjSjTCt6"
      }
    },
    {
      "cell_type": "code",
      "source": [
        "# Convert the recorded audio to English speech using the convert_to_eng_audio function\n",
        "convert_to_eng_audio(input_file_path)\n"
      ],
      "metadata": {
        "colab": {
          "base_uri": "https://localhost:8080/",
          "height": 93
        },
        "id": "E_RNSeGWUP1a",
        "outputId": "498d831b-5d0c-4b9f-c78c-881b4f75679a"
      },
      "execution_count": 20,
      "outputs": [
        {
          "output_type": "stream",
          "name": "stdout",
          "text": [
            "Response saved in: generated_audio.mp3\n"
          ]
        },
        {
          "output_type": "execute_result",
          "data": {
            "text/plain": [
              "<IPython.lib.display.Audio object>"
            ],
            "text/html": [
              "\n",
              "                <audio  controls=\"controls\" >\n",
              "                    <source src=\"data:audio/mpeg;base64,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\" type=\"audio/mpeg\" />\n",
              "                    Your browser does not support the audio element.\n",
              "                </audio>\n",
              "              "
            ]
          },
          "metadata": {},
          "execution_count": 20
        }
      ]
    },
    {
      "cell_type": "markdown",
      "source": [
        "### 10: Audio Capture and Speaker Diarization\n",
        "This section includes code to capture user audio and perform speaker diarization using pyannote.audio."
      ],
      "metadata": {
        "id": "sM4HCIdt9vuA"
      }
    },
    {
      "cell_type": "markdown",
      "source": [
        "#### 10.1 Pre-requisites for Using the Diarization Pipeline\n",
        "Here, we will be using `pyannote/speaker-diarization-3.1` pipeline to extract different speakers from a conversation audio.\n",
        "\n",
        "Pre-requisite steps to use this pipeline are:\n",
        "\n",
        "- Install pyannote.audio 3.1 with `pip install pyannote.audio==3.1`. This is installed at the start.\n",
        "- Visit https://huggingface.co/pyannote/segmentation-3.0 and accept user conditions\n",
        "- Visit https://huggingface.co/pyannote/speaker-diarization-3.1 and accept user conditions\n",
        "- Visit https://huggingface.co/settings/tokens to create an access token\n",
        "- Instantiate pretrained speaker diarization pipeline\n"
      ],
      "metadata": {
        "id": "jlQLyZuqVZLp"
      }
    },
    {
      "cell_type": "markdown",
      "source": [
        "#### 10.2 Download a Sample Conversation Audio"
      ],
      "metadata": {
        "id": "plT-Pt0tV806"
      }
    },
    {
      "cell_type": "code",
      "source": [
        "from IPython.display import clear_output\n",
        "!wget -O conversation.mp3 https://www.moviesoundclips.net/movies1/overthehedge/chip.mp3\n",
        "clear_output()  # Clears the cell output for cleanliness\n",
        "!ls | grep 'conversation.mp3'  # List the downloaded file to verify"
      ],
      "metadata": {
        "colab": {
          "base_uri": "https://localhost:8080/"
        },
        "id": "o2W2Vo8xWLMV",
        "outputId": "e1550904-eee8-484c-d36a-a799781f89ee"
      },
      "execution_count": 21,
      "outputs": [
        {
          "output_type": "stream",
          "name": "stdout",
          "text": [
            "conversation.mp3\n"
          ]
        }
      ]
    },
    {
      "cell_type": "markdown",
      "source": [
        "#### 10.3 Play the Conversation Audio\n"
      ],
      "metadata": {
        "id": "AAUiP3r8WNN4"
      }
    },
    {
      "cell_type": "code",
      "source": [
        "# Play the downloaded audio file\n",
        "Audio(\"conversation.mp3\")"
      ],
      "metadata": {
        "colab": {
          "base_uri": "https://localhost:8080/",
          "height": 75
        },
        "id": "w7C5K25zWR5C",
        "outputId": "827a9f76-0d37-402a-a623-3b483392b039"
      },
      "execution_count": 22,
      "outputs": [
        {
          "output_type": "execute_result",
          "data": {
            "text/plain": [
              "<IPython.lib.display.Audio object>"
            ],
            "text/html": [
              "\n",
              "                <audio  controls=\"controls\" >\n",
              "                    <source src=\"data:audio/mpeg;base64,SUQzAwAAAAAgHlRFTkMAAAAUAAAATW92aWVzb3VuZGNsaXBzLm5ldAAAAAAAAAAAAAAAAAAAAAAAAAAAAAAAAAAAAAAAAAAAAAAAAAAAAAAAAAAAAAAAAAAAAAAAAAAAAAAAAAAAAAAAAAAAAAAAAAAAAAAAAAAAAAAAAAAAAAAAAAAAAAAAAAAAAAAAAAAAAAAAAAAAAAAAAAAAAAAAAAAAAAAAAAAAAAAAAAAAAAAAAAAAAAAAAAAAAAAAAAAAAAAAAAAAAAAAAAAAAAAAAAAAAAAAAAAAAAAAAAAAAAAAAAAAAAAAAAAAAAAAAAAAAAAAAAAAAAAAAAAAAAAAAAAAAAAAAAAAAAAAAAAAAAAAAAAAAAAAAAAAAAAAAAAAAAAAAAAAAAAAAAAAAAAAAAAAAAAAAAAAAAAAAAAAAAAAAAAAAAAAAAAAAAAAAAAAAAAAAAAAAAAAAAAAAAAAAAAAAAAAAAAAAAAAAAAAAAAAAAAAAAAAAAAAAAAAAAAAAAAAAAAAAAAAAAAAAAAAAAAAAAAAAAAAAAAAAAAAAAAAAAAAAAAAAAAAAAAAAAAAAAAAAAAAAAAAAAAAAAAAAAAAAAAAAAAAAAAAAAAAAAAAAAAAAAAAAAAAAAAAAAAAAAAAAAAAAAAAAAAAAAAAAAAAAAAAAAAAAAAAAAAAAAAAAAAAAAAAAAAAAAAAAAAAAAAAAAAAAAAAAAAAAAAAAAAAAAAAAAAAAAAAAAAAAAAAAAAAAAAAAAAAAAAAAAAAAAAAAAAAAAAAAAAAAAAAAAAAAAAAAAAAAAAAAAAAAAAAAAAAAAAAAAAAAAAAAAAAAAAAAAAAAAAAAAAAAAAAAAAAAAAAAAAAAAAAAAAAAAAAAAAAAAAAAAAAAAAAAAAAAAAAAAAAAAAAAAAAAAAAAAAAAAAAAAAAAAAAAAAAAAAAAAAAAAAAAAAAAAAAAAAAAAAAAAAAAAAAAAAAAAAAAAAAAAAAAAAAAAAAAAAAAAAAAAAAAAAAAAAAAAAAAAAAAAAAAAAAAAAAAAAAAAAAAAAAAAAAAAAAAAAAAAAAAAAAAAAAAAAAAAAAAAAAAAAAAAAAAAAAAAAAAAAAAAAAAAAAAAAAAAAAAAAAAAAAAAAAAAAAAAAAAAAAAAAAAAAAAAAAAAAAAAAAAAAAAAAAAAAAAAAAAAAAAAAAAAAAAAAAAAAAAAAAAAAAAAAAAAAAAAAAAAAAAAAAAAAAAAAAAAAAAAAAAAAAAAAAAAAAAAAAAAAAAAAAAAAAAAAAAAAAAAAAAAAAAAAAAAAAAAAAAAAAAAAAAAAAAAAAAAAAAAAAAAAAAAAAAAAAAAAAAAAAAAAAAAAAAAAAAAAAAAAAAAAAAAAAAAAAAAAAAAAAAAAAAAAAAAAAAAAAAAAAAAAAAAAAAAAAAAAAAAAAAAAAAAAAAAAAAAAAAAAAAAAAAAAAAAAAAAAAAAAAAAAAAAAAAAAAAAAAAAAAAAAAAAAAAAAAAAAAAAAAAAAAAAAAAAAAAAAAAAAAAAAAAAAAAAAAAAAAAAAAAAAAAAAAAAAAAAAAAAAAAAAAAAAAAAAAAAAAAAAAAAAAAAAAAAAAAAAAAAAAAAAAAAAAAAAAAAAAAAAAAAAAAAAAAAAAAAAAAAAAAAAAAAAAAAAAAAAAAAAAAAAAAAAAAAAAAAAAAAAAAAAAAAAAAAAAAAAAAAAAAAAAAAAAAAAAAAAAAAAAAAAAAAAAAAAAAAAAAAAAAAAAAAAAAAAAAAAAAAAAAAAAAAAAAAAAAAAAAAAAAAAAAAAAAAAAAAAAAAAAAAAAAAAAAAAAAAAAAAAAAAAAAAAAAAAAAAAAAAAAAAAAAAAAAAAAAAAAAAAAAAAAAAAAAAAAAAAAAAAAAAAAAAAAAAAAAAAAAAAAAAAAAAAAAAAAAAAAAAAAAAAAAAAAAAAAAAAAAAAAAAAAAAAAAAAAAAAAAAAAAAAAAAAAAAAAAAAAAAAAAAAAAAAAAAAAAAAAAAAAAAAAAAAAAAAAAAAAAAAAAAAAAAAAAAAAAAAAAAAAAAAAAAAAAAAAAAAAAAAAAAAAAAAAAAAAAAAAAAAAAAAAAAAAAAAAAAAAAAAAAAAAAAAAAAAAAAAAAAAAAAAAAAAAAAAAAAAAAAAAAAAAAAAAAAAAAAAAAAAAAAAAAAAAAAAAAAAAAAAAAAAAAAAAAAAAAAAAAAAAAAAAAAAAAAAAAAAAAAAAAAAAAAAAAAAAAAAAAAAAAAAAAAAAAAAAAAAAAAAAAAAAAAAAAAAAAAAAAAAAAAAAAAAAAAAAAAAAAAAAAAAAAAAAAAAAAAAAAAAAAAAAAAAAAAAAAAAAAAAAAAAAAAAAAAAAAAAAAAAAAAAAAAAAAAAAAAAAAAAAAAAAAAAAAAAAAAAAAAAAAAAAAAAAAAAAAAAAAAAAAAAAAAAAAAAAAAAAAAAAAAAAAAAAAAAAAAAAAAAAAAAAAAAAAAAAAAAAAAAAAAAAAAAAAAAAAAAAAAAAAAAAAAAAAAAAAAAAAAAAAAAAAAAAAAAAAAAAAAAAAAAAAAAAAAAAAAAAAAAAAAAAAAAAAAAAAAAAAAAAAAAAAAAAAAAAAAAAAAAAAAAAAAAAAAAAAAAAAAAAAAAAAAAAAAAAAAAAAAAAAAAAAAAAAAAAAAAAAAAAAAAAAAAAAAAAAAAAAAAAAAAAAAAAAAAAAAAAAAAAAAAAAAAAAAAAAAAAAAAAAAAAAAAAAAAAAAAAAAAAAAAAAAAAAAAAAAAAAAAAAAAAAAAAAAAAAAAAAAAAAAAAAAAAAAAAAAAAAAAAAAAAAAAAAAAAAAAAAAAAAAAAAAAAAAAAAAAAAAAAAAAAAAAAAAAAAAAAAAAAAAAAAAAAAAAAAAAAAAAAAAAAAAAAAAAAAAAAAAAAAAAAAAAAAAAAAAAAAAAAAAAAAAAAAAAAAAAAAAAAAAAAAAAAAAAAAAAAAAAAAAAAAAAAAAAAAAAAAAAAAAAAAAAAAAAAAAAAAAAAAAAAAAAAAAAAAAAAAAAAAAAAAAAAAAAAAAAAAAAAAAAAAAAAAAAAAAAAAAAAAAAAAAAAAAAAAAAAAAAAAAAAAAAAAAAAAAAAAAAAAAAAAAAAAAAAAAAAAAAAAAAAAAAAAAAAAAAAAAAAAAAAAAAAAAAAAAAAAAAAAAAAAAAAAAAAAAAAAAAAAAAAAAAAAAAAAAAAAAAAAAAAAAAAAAAAAAAAAAAAAAAAAAAAAAAAAAAAAAAAAAAAAAAAAAAAAAAAAAAAAAAAAAAAAAAAAAAAAAAAAAAAAAAAAAAAAAAAAAAAAAAAAAAAAAAAAAAAAAAAAAAAAAAAAAAAAAAAAAAAAAAAAAAAAAAAAAAAAAAAAAAAAAAAAAAAAAAAAAAAAAAAAAAAAAAAAAAAAAAAAAAAAAAAAAAAAAAAAAAAAAAAAAAAAAAAAAAAAAAAAAAAAAAAAAAAAAAAAAAAAAAAAAAAAAAAAAAAAAAAAAAAAAAAAAAAAAAAAAAAAAAAAAAAAAAAAAAAAAAAAAAAAAAAAAAAAAAAAAAAAAAAAAAAAAAAAAAAAAAAAAAAAAAAAAAAAAAAAAAAAAAAAAAAAAAAAAAAAAAAAAAAAAAAAAAAAAAAAAAAAAAAAAAAAAAAAAAAAAAAAAAAAAAAAAAAAAAAAAAAAAAAAAAAAAAAAAAAAAAAAAAAAAAAAAAAAAAAAAAAAAAAAAAAAAAAAAAAAAAAAAAAAAAAAAAAAAAAAAAAAAAAAAAAAAAAAAAAAAAAAAAAAAAAAAAAAAAAAAAAAAAAAAAAAAAAAAAAAAAAAAAAAAAAAAAAAAAAAAAAAAAAAAAAAAAAAAAAAAAAAAAAAAAAAAAAAAAAAAAAAAAAAAAAAAAAAAAAAAAAAAAAAAAAAAAAAAAAAAAAAAAAAAAAAAAAAAAAAAAAAAAAAAAAAAAAAAAAAAAAAAAAAAAAAAAAAAAAAAAAAAAAAAAAAAAAAAAAAAAAAAAAAAAAAAAAAAAAAAAAAAAAAAAAAAAAAAAAAAAAAAAAAAAAAAAAAAAAAAAAAAAAAAAAAAAAAAAAAAAAAAAAAAAAAAAAAAAAAAAAAAAAAAAAAAAAAAAAAAAAAAAAAAAAAAAAAAAAAAAAAAAAAAAAAAAAAAAAAAAAAAAAAAAAAAAAAAAAAAAAAAAAAAAAAAAAAAAAAAAAAAAAAAAAAAAAAAAAAAAAAAAAAAAAAAAAAAAAAAAAAAAAAAAAAAAAAAAAAAAAAAAAAAAAAAAAAAAAAAAAAAAAAAAAAAAAAAAAAAAAAAAAAAAAAAAAAAAAAAAAAAAAAAAAAAAAAAAAAAAAAAAAAAAAAAAAAAAAAAAAAAAAAAAAAAAAAAAAAAAAAAAAAAAAAAAAAAAAAAAAAAAAAAAAAAAAAAAAAAAAAAAAAAAAAAAAAAAAAAAAAAAAAAAAAAAAAAAAAAAAAAAAAAAAAAAAAAAAAAAAAAAAAAAAAAAAAAAAAAAAAAAAAAAAAAAAAAAAAAAAAAAAAAAAAAAAAAAAAAAAAAAAAAAAAAAAAAAAAAAAAAAAAAAAAAAAAAAAAAAAAAAAAAAAAAAAAAAAAAAAAAAAAAAAAAAAAAAAAAAAAAAAAAAAAAAAAAAAAAAAAAAAAAAAAAAAAAAAAAAAAAAAAAAAAAAAAAAAAAAAAAAAAAAAAAAAAAAAAAAAAAAAAAAAAAAAAAAAAAAAAAAAAAAAAAAAAAAAAAAAAAAAAAAAAAAAAAAAAAAAAAAAAAAAAAAAAAAAAAAAAAAAAAAAAAAAAAAAAAAAAAAAAAAAAAAAAAAAAAAAAAAAAAAAAAAAAAAAAAAAAAAAAAAAAAAAAAAAAAAAAAAAAAAAAAAAAAAAAAAAAAAAAAAAAAAAAAAAAAAAAAAAAAAAAAAAAAAAAAAAAAAAAAAAAAAAAAAAAAAAAAAAAAAAAAAAAAAAAAAAAAAAAAAAAAAAAAAAAAAAAAAAAAAAAAAAAAAAAAAAAAAAAAAAAAAAAAAAAAAAAAAAAAAAAAAAAAAAAAAAAAAAAAAAAAAAAAAAAAAAAAAAAAAAAAAAAAAAAAAAAAAAAAAAAAAAAAAAAAAAAAAAAAAAAAAAAAAAAAAAAAAAAAAAAAAAAAAAAAAAAAAAAAAAAAAAAAAAAAAAAAAAAAAAAAAAAAAAAAAAAAAAAAAAAAAAAAAAAAAAAAAAAAAAAAAAAAAAAAAAAAAAAAAAAAAAAAAAAAAAAAAAAAAAAAAAAAAAAAAAAAAAAAAAAAAAAAAAAAAAAAAAAAAAAAAAAAAAAAAAAAAAAAAAAAAAAAAAAAAAAAAAAAAAAAAAAAAAAAAAAAAAAAAAAAAAAAAAAAAAAAAAAAAAAAAAAAAAAAAAAAAAAAAAAAAAAAAAAAAAAAAAAAAAAAAAAAAAAAAAAAAAAAAAAAAAAAAAAAAAAAAAAAAAAAAAAAAAAAAAAAAAAAAAAAAAAAAAAAAAAAAAAAAAAAAAAAAAAAAAAAAAAAAAAAAAAAAAAAAAAAAAAAAAAAD/+1jEAAPAAAGkAAAAIAAANIAAAARwATPiAEAwqFwTDZJEjBMNrBQEAwFsCAAIkBgMLQcmAwugQAEE2MIISDgMLQcmAydEAAQTYwgQcmTJoc8mmxhBDSgIFw//////8QHxAcB8HC4PlAQPggcB8PFwfKAhKOE4ACYTCgSEYfDoMAAAAH/lVoVB/9132NYqMeq/2SRsLUQ5Vk+mBqhwof5wkjIQk8iBcRcR2UTNX/UdJ8NvFiBsYBQeAaZAMNf5uq20GCSGh64jweRBcZUY7/76F2UgMwLGdIuIyAOGF0NSAyyQCyj//U3/l8agyC0ARSSJ/AaFE56w4BjaGXhLcIfQfdtibuF47Hb0Ph8INokjBrjomAbwxcDYobdgoLx1BgP/+1jEhYAMFJJmNJMAAdyk47c1QADYPpyjkNkWJFQ6z4fS5ogXAXixfc8UVnMeBAUge+7JMDR2dPX/+018T4wl//b7f+72Ve8lIlDAxF0N32JdhuY2Hl1FQwLAAQgBCEIaSoRM3ofKgRMVD0OSk5ssipQxjVDOsN79GQiWvDrhvV/DRTLch73LBFJ3t09ZnDebTMjKSlLHatx2N/usYTEXNLoXPtr/uahU+IiBkPy+4QRq1pHHqr6g2Pf/R4ck0NkERAJP///+UUM6N8+5PtUARKIBkB+JD0UJIGEhOlZKqTXE2E624rlDkP7Yx94Hjpr0gu0kQxU/XIwZpFiRdtYs2SPtyNk9pRYOKIa0URRoTwU31RJ/5gc9uuj3/pOzVl7/+1jEnwMMwPVG/YQAEhoe542Xrbr6jB5YmlEOUEi8QTVL/6kUB7jyGDY+TgVBI////cZlPyH3jSbTQ4EzCpZASFg5cBkbmMWSBAw9NSOrqEiMggyBL7wTj/c+K09SUPVvmmQUZEzSsdluJ2wuiv69jYnSjBsS6ChpqrzYQzaFetM9Xlc0KhyOREkkX5xMydx3clBxD2emElFBZNCtB2Dz//pBQgAKDzNHUUkv////6JbRzSoAJTTa4B7Gt/dIdDLwXIqCT/TwBDhpUwO4dayb6BbjuNxCr9dbw7Q/HqeSNl/Xq7i9rRTz901UmjLHV3fsM1ZGKO1Mm6b9ZZbJtC6ol15KU/xv+xPY/M+syjv2smQiOGBTolBfHln///+NSBP/+1jErgIOZP9G7CWxsfAf6J2mNpqObP+w0//9/blVASSyAJADzQ9KSrZzh/CHpUaz0LPCEqdPMmdL2M0VeXyiXdoofv36SGbv+0m2Jv0m3nMgESD+jNRiHUIeEzQgONAgi1AT5u/xSgSMvh+nCbkcP/Ig34fEab+sSQlZGOmBt5G1IdREHwJGONDkb//pev6UdiFV331luio8acNSAS6RgfgVc47y9NgEzAeUz0vPZ1jda4wJQBh2bSADSmWxYGrQKRWEJnrEfADIsTKuh0w8LF6AoBHNDICgVS6YyQtE6reR8vdq96uaQWSrpXtjLEjZbxUunrv9qPFdHsT6RFawbDiWSliGXf5yOP9qRwwCdLV2oBQVcNlgiU18bkvrryb/+1jEu4IOxP9E7OHhEeSf6OmEtqa+/AQg9ydEjj/BoPdgSUyAIAV/QmsWCHbDL0ZkOJWGAsREG2I/S4LSff3oiHczUN5Y6alXsHDxLRWK1HZvJi0kgoJIxsMAyoouW59Ix2G/W/0MQKinp7283e5//En/sVT/oBj/9IUHX3/+Tp/pHeXBUQLlET///64EgA0A+w5Ik5sA7GGQJYOCjD00BGodvh/+KcAKABzwpkiRwVVjRJiEDiM4xpVlCvdRiPSVfbFcH2HASuYeIHkVcoOToIDpanBsIfxCEZEw/PFjK1ahUxCHTpmZ0e15IEqyE9p5RvpHq0zJHim1QlP/mAHD61LNHcrI5mZhQCn0tE8RwkB8ehkglBN//gRCbOCniYv/+1jEyQISbQEqDeHswa2f6SmXpV7LHmAPC0zvT4qkLEnEWzkdMBzQDgLrwGoZBbyuop/sZdeSQidUVp+yILS3LIFxaEVxQJQ+0HSxVNT9FOr0J9cnJB4kr+UYNcQmfX//U5prEvtH87ptiVf67Yhih/PfaIU8T4Vbmkd/29t//1rXXxfQ6S6kcA+w6hNVjP/12f5r/6oJAE2g6wCEkRYo6vGbPhua+YKuClULWZzcWZgPmCk5QDGxiBEPip0UC66VUEdURiIQpEJlR63+b2T6kpAJsPQ7M6mL42F2VB1IajrxjcGgejtIjUSExvGMqEWhVT6q1FK6//TAiivIes+Ry2pcyuDis/tQTh3b65bozC46OnSXKBWr//1koVjANWD/+1jEzwIShQEwbemJUf6gKFmWPl4DwM2Ikec7/23MVj2jTiI8fy1qtd4tQ8U0gUpEktwD1LyREkKGCAgJcLHgY8VUAiQCmF9pfgwNWb6V0x8ECLENpWELcE+AemoncosFqF2ROKwFHQ94rsep5prL+dZZOz3ZjhUCvZzz0XJQqmEp0tN//w7XhhL0VTxMLhUw4jkxUyfARJIZ+kT6fueGeOwp3UOT//3KgWkDzL54pFv/8ErEv/qaLNCqAw6YJ2aKAIANgOoEVhAcARghGYC6DuCYuT5iVxGVAIKoUxKqTAQPMfhgefI8AAYMx4jrZC1AawNUGZ0ymWO4IMKrttbpB3zKGm8v0Da5SrHkdsc5IWZyn5Kz1UTvX3ZtzcYdvff/+1jEyoIUZQEwbb5VEkmf5+mntfrxq9//2Xpg9erWa705+/8++FH2V2NvBH2yd9ulldE1i80XORRROLELn/rIuUD2ZlSYEyXSGAcBEPDiWo///65o9FvZraqFbrMmgd+h6+3WAyTJL2ALMZzGSUQHgA0UGYCM4S9EaRkMMaFgg8Nm6AhFqYgKBGpU9yXw/cHQXxllPK1N1YIRrl2BOXuXGmW9zF+URzGZAQVFliAqHgIGRek8NT39IAWh0Pcg34fSf7/Dx9HnqhMQT/BVmz1mG///wECjvA6BgEA5qZd47nddeVP9//+r6NP3eN/TAAAZuOJDgBlZfTtUVUAXgGtxRqLLQh6ciD4BIq8kM835oCIbt9aPR9UahLUH1kYwN33/+1jEtQIVvV0sbmJv0iggZ+mU4xopncASmlPdeSKUu7uXaGr0kPJFJRNuCoSiGKY655idrKtaf4YfLKGA5GQo5usM60EwrOQwf62g3cA2fxlaHF9m27uSzm7McnKP///+AmIyDmo+u5OF7fsoT1OXuhyermv///8/MWpcS3PWNyNkjgP416fgZWEFoNUy3Y8WHigKt0Pk8G2SWkGDeDiOVwvKl6k7KhNQIykbzrz15hw9aZQ3x+IY4luKmFD0WAuxIC9zKdkRK8aVlwQSZMO/8Egaw1aBaTp/Vv7W7VztknDSb99rczYx/QPHDxYLH84LGT/KBCXOjkgbqEsXRU/////3VvQcXsQLKgAACbjZQ4GusEAk2hel6vgzUIRiVur/+1jEnoITfQFDTD8U0ikfqJ2HzfqoJJKUIvBcO3IkDJATsobEsWDuk0tp0qkBhuO47iOh2jsa1BR7aWApV89E6wH6d5uBfl+CJOwujmrD0H9Nh8LPNa38oGnYosHCaWvv+CapcEILHKpild9cuTtWx/5N5mhYm///49SW/75NVwiAwMA9hod1ZDXhX////MRXY1bFtm/rC00yRwagMiBDJmbDSIHbMqsLEl1SywC0QSQSJbU5YCHkIq+eiGtGTMW4CscK6wQJ4eMmWAVyMxTtQvXFRsjQl2dwlaF8qSVsz9mlU+u1pXscf/JNFs4fCixKKJguF82BAGGSHORHknD6x1DLhxYr7vOG52oz/UZiMDfmJqccfkwEJAcGJpEzd///+1jEkIITAQNDTT8x0kcgKF2X0fL//41m1TF6v65glpOWa2RIABs3pBP1ii8CQtnlVj68YS3E6ifQnoDNNfKWcCNpxopuTsCuCbLVTZu2LnKyyVL/J+t/lUfwkVliJBwHN4e8pYeCANH++v/Z/2g1jQDxelpmNu7a7VoAHhjY5DGMVqYiwK2Z7p6/Us2sqB7MyGs/vBXF6mB6AUCkVssOzKfWwehIVrP8HD8n42u3+zJR+50BOTsRRS83TcRN9xEQEEBMXOk5nWK66v//42B+N1JAAJJyNxskAFo85RIW5t+kpO51hM7tfdxBg4oSISpKBaJHRu4rCTKTYyqnUL2GGfpoNA7FG3ccY//f7/UM7kt/O9KaGCbWN7AUhVAq7DP/+1jEgQAKyP9vpiFYsXYfbvT0tm9af/fRmz3DQQB4rdqj1v222sYAD3uOidMXnT/JZO/rcqixwmwggR/c6lGLB5eMbnHGJ3NuJ1Io7t4/GRcj1dGcjHh6r1RyDN3//6aF8QFQGSVMQU1FMy45OC40VVVVVVVVVVVVVVVVVczHZZdbbYwAMW6pA49N0i9bRQYP29edKIneCapvZswX9tX/n7efIpIUyw2BhirhB3k61REHXTSZ7PV6uHgqmXZ9m/y9X1QwCCBPXbZbtptbAAA0HjpiLqxDva3zxDnj2dYJiQ9uAGCYmrWViYyRECcQ/pJogLCQ8SEvrL3+1QqBQSxDXJSadmU96x1vb0bVvlVpLajGsw2ePHjhy/OksPDBa6r/+1jErIALJPtrp6Tv+RYfMPTEFh/svXr2Y8mssS278y4cHeZP+4sMxcav+qzGmrI042wANwWF7UupcoYPlKHnUbpJ6LuMpQ05rQGUx9pqaI44DggHUNvZkHdjMwfSy8R5yPJ3LZBHShWBoOgEBVAFBwhUR/czVCQJJuzcuCAeEsmHpGUkxyAwTLe0nnp2sJA8CQOK14f1Y0h8FJqUFhwscQp5jzh1yCJOWD1ElBSM5HABqnLFImpa5ZJAACUUL+eQMYGhKsOkosCcc7Fgfy6ISGfVJDgeXWlktkwOyBCyqUDwYn9FKjPx+p3qfRifFeLuPxBj8D6QxNuRoPUQyMarVHR6cUCLyyKTCv02R2pKEvSJrF4aXhtXVjKpF86yYKH/+1jE1wAJMP2FpaStscCf8HT0seZFzO2ZngIlBk4p/iqRY3HphlYGVMJHK6NlznfoyPVMQU1FMy45OC40VVVVVVVVVVVVVVVVVVVVVVVVVc0Y3LJG43AAPBTSUod6V7Ap5lMqG1kc2McEM5GxlSEbaAhYXaMREzoh5aQnJF14wpIyjJ1CVsFT6MkaV7ea0cbYaLoicONEwpFTKTVExsmIa05VoHPpGhauWoWkGqoEP/9XnkiDX1jYASPwoqjR2tWyXfSaSABWN+YGCAgrIjtXMBGgRB4Vh6XQzXF47XkWwNEA5lSnU4XuArcKqzlKqo38XE1pVAT9nasoahRtWfbbfv3euJ3FmXOH1VDbk857/yqxc9LXUPlxULRg81ONni7/+1jE/4AQ+P9xrD2Qsiaf7/T2PP4yaOk5cfmZmcPFhuNKaMsKNuoRQv3s6mVSUkVnjO6SAAobSV6kEr6RlvyyrumEcg7Etq40C+lduvrw3R1MC88UzGpjrpAzt8jlRX//+9oRlBnjHZk+URxe2//mre8J9CGE7rm0KesDG8em/iy8czPBXa3v/Ku2u0NrZ6r1tn/z5MtZcSFEkwsMg4lCgJPMpEEBuOBRAFpMklKqzER0AIuiJSTDKIdoSUUZH+b8WMjJUt5lrCyyxadY7/tPZCwWOc6HKjMHSHoORVm6SkiH+4nwhquIQjDKQ80QpCiH4qf///qNcauZEL9f+GLHamfefTy+zSc3ycQIo8QieSOfBpUn1hVfWOrmxjlBbh7/+1jE7YANxP+Bp6WR8eEf8HT2P452GJc/mNaXMWdgGhRDQJYLJL4trWjUScBqAAAToFhJJqdmDkJImMYQaFL4kIxEAR4PvuNBIxkpTwcMK0EYnA4iAj2O2hiLERWJtHvvZ+ggLiP5UpNQTADD4vRyu5BTRmZsHdyLPqwEWCKdRwCYlACdENHh12dbHb5MMSxoEwAHQGkkzhFcHjmkTyrhKXkz10XhDzjhsk0injTdPJFdnwrV8ytjiJTen/a0MHrGABkJ/SOgRP3K529v0zp29Nu3e8z05SkWXn77+/s7M7MuMOU6c1s7Xr5z5IAiACFhQIYlgMWLVcJSEgAQKADn5/U/L47jmbkhw47l69+jb8sLFjKASAAHeIO5nc3L3KP/+1jE/4AO5P2B7D2R8lafqvGn4l8SOkMuezeKRpjp54hEilFPlKKzH5Z3mpICRpi5EiIRlM5yhDOUdNEkmtaoL/U1TJpcedS7ZrK2iXU/U3a2rSovf4+XHWMfPEiJwyZ///2/hVVdmbhr1VVr+GZm/a5JFRWpJFTcoOgbC1FCzDQagKgtD2STfxBTvyCqoIALIJKgAeEa+ckiMqYCYMazbUWvU7ySIWAAHCqIbn3qbI2URmKQdjO5bMEQOmIbbGspQR+rf50W1xzEormxSKreM5s3mG5RP4DchAYEWNmFFleuv0W+s8D2R/x7eSSg2wvz0cegbhDLaSnGsLWKEkAvh7aLxOT7OWwABazCWIsBJBcl1jMDlVmFxkCRbMJWHKP/+1jE/oAcvb1Gbj2Y2hK0q92jont9CcHsUvrLyUqQL8zQVrrJiGtNRaFIWf//zgxj/6PoyYPNNBeNRdTQaVVkmfaS9MAKEBqgAmRH6uNaVseNfZhpuPEBcR0k217pQGEoh+sCNGbDZifT2RGBqkcmVtCktZp+miiBanPJIsfCGp5KhzOf+dd0rOcbjLDnwZiFEqgnZmX351hwUTCqkpf+HGyCoz8CDv/WHf/X//vvCMqh+1tgdf//Dpkas9uIUeqa15UKVQSYLWecNjmPYT8SgH9JAUkEntEAFoKLgAiHfibWHQUKWSYQMjQuiuvuAXVRlSPNw8A4JjzOy/i0kdFazf1xJCVuU9uUEKCM2lr9ritug3VBfvdd1fRvJh5sbrv/+1jEzoAOaP9XTb2zATIfMbSzNCdqumNR22jDlm8+bh7GBJlzIUynvfxnC/zESl3Ju32e+Xw/f//LCech3otQi4KobKr//+I0GCyR5TJYFn/JonW+AUi3RovtZTAHFBSe7noakAAAABCgBOC98QhmKPUOnONQRBVq/k1QE0bX4uiy8wiEeRGADVxCoIYQcA3Mu+zWy3Z5YzMrrv9moREb3zAyUkNZZhOWC3IIBTlDptaNQ/rSofuNk89BYjI+vuM0/IB1icWDB6cYd/dGL/3FMehemY0C7G8ehupAATARhouQU6jTWMhUarC7seCCy3ImaDedc+gBdsIFHvSoigQ+aQ8YV6FgSzAKVHpM5JwsOIjDZj/N9XJxHJ5A4lONZsv/+1jE9AASeP9PTeHzCl8f6em344lsydekvHrej3MhR3jr6JesSMQKvWkIOlsSJczuONRuckfH/IiImZmli39UJCYUfywricPx+OILAhQaRPCeBYQGVRAEAAAACzAAohZyiEONvZRIhxx5eYQqt8vIpqfg0pmkQI1oY6UoW2IlAs2V+jgSpU5Uoy+5QuT5fxaaWjyORVe249QwQTsKxSvSMicOwliAK40JSZD+sMiyJMnoJ2IoIpDCQiEVb///IgxHWacPb//q0S0Df/4HaSjE2D0CcqOwbhyB4PwaggBqtbIAAMTACtP/WoZc6EGslmJsuMu0ueSbwVB3x1IMAl24IhCPIa1NqUl+oHYeDTILsviT2PDS00jf6dzEckIbxgX/+1jE44EO4P1XTLFWghSf6hmnqphxJFyhKGM6bZJMnl4E45AwUs8jJ6d////+sAcMOgu///+rn0CSJS//R3lpkSAot2EYgJQcYxVcAAAAAXYBMB7MMOlrmrwkTbzwgAB1Axw4rNHXVA5IslF0HaUghzKwKmYygHgpnKt6JsVTrSBC5GFPtQsFlMCux0jldstriqehUmhMROLBizG3EPj5oqjhEoxPyfxGHUmBVWZmZ3pvnFlho7Sx3mZmUtY1D5JVnZ9MznoY4E7SqkJo0CQBkkOHydz2hUQSMzNyayAAXnkU7Ixp9jrpSRYSiuzRDXffDyYazqxdAvXi1c7DtNiXHDrFH3T1iGIlQEk5pC8uP+XGR6ZD09LfPr6Py3/PRCD/+1jE6oERRQFVrTF2QdSf62msJaDRwweGDh/7Li45W+oKNAowYMcBBo0a7DlYVENENTUltgAB06hFtXjzH4vIUmAjZNEOOxUq84WHD2dQlhKSG9ftTNDmcmVOs6KcGJhrVUsVHjxlVNXBcHypCrTzdBioprdx4wDOO40KFWVF8Q2pqe0abQpVpKRL0Fmkm/eNVdik+emZmZmBUnAsVzJOWWwaFMSQNkpEgABnAE/PoUbgIabQQa0HikxxoCmDCfRYKWOOFL5cqRa2ai3yEADDDAS2FCU95oFIigYksex4MdFkzObzLvApMDepEBcFoOCSrAYqsVOUWBUfLhdZW9xiAAo1qygz5Nq/0ecKG2gBBTQmup/No3JLh4Er2lRVsT//+1jE8AARUQFVjWGNAYkf8Lz2Fb7NcG+YDGX5BbKJpbhNR1IAcglnMZKQnbUJoZ8gtCAPPX///xc8MHFTe2kIIgX4yHKdi8Z1wbfV3jtu1jktsAAeN6lcG1c2S7A36V7M/qaj5UkNkwxHOxshAaigM9g/f/qLU91GkGUtEkM5nZfevrqfrjrE2GpIPARCv//80CCqSVP6CYo3x0BRzhJ2IMoAuhp90ZXIFgjUwHBFCzBMWM6iHMaBa0Ig0Jw6CshbrG1OVNgqA1pBAHC3J+LPMxk30SfQIRBgySEtEUGjU8tZNncqLkAMGOQm8KgBARjRDgrIcndXLBcBRfF/Is1VIxjqyWvq1l/nLa08joRumd1+FpKXWpfUtfqUXs//////+1jE/wAPfP9756Wacragp5mX44rlFz65CmFkWvCSbPVNf////wUWV46tJcazTe4RKNFJ+ntZqkwBQJLSwBNZsbkqqoIBHT7jBZmCYDBWDEIQuV+FOlJxrhEubo1cw9D6tyuY9RxqGAaUPapankRPYGi2IixPdLKrygJzhLjmnWckdJPVYRAF9WtM4T7TESic7Nlz7tRSNf3Fnr4vWOitZffJ+XcchoPwGiM/f7rRhBuivfrDffuzdn8SoiWVSpK0/b+f///P+MHkLwvZTO93fSABxIKk+v///67Y7Xrom7JAAIzvUriMklTEeCWkVkKfRw9tFU4mqE6A1M4wLXZlmIJF0zsv1j2V4jnq2vHZLXfMys0nLl6sqFUlfqCwsfb/+1jE74AKLPt/p6TvspMgaWWdZoZrQSC/JjX7fMQiKhKFB7/vvI+YKgKC6qSH9BKboAB1i3ASUqOAJUgsI1gJQHkLrcB4UmEasvqAWEuKELIR0jdmmANhdLh7lmABLiv4S5sZq9gqWWb6+Jbh57deOvWIIpbw3RVGSARZS9p/PuqHRf8bcBtgHzp5ymbiSmCK6kqC/qGyh6kmr1ubQE0f7t5oFRX/+6pJdtAqadXKgDV6sLe//+CIP13UUzftcaEhlhXaRlJUgJVLr/CyEo004AEWfrNFcRPQXbMpQuPLiBAZQv+iSnrPVXwpothQrIRTij2fUZmWsf/9WWikYe2O2CfiihbeRS2DwTzysQesCIZUefL9JKL0YCeC0EuW37X/+1jE+QAUOQFC7WMn0W4fb3T2Hb+ozFYmfWX46w0WfDxWRH0b+ZULvf/leyUusLhOxda//tb5w1HaTQ6kCOxKsZtq15VMTgQVcBBdmAAeRuunuPIBDg36nuNCF0skOiIqKWDdWJKqqZP4zaUsAAjSbOU9hmku8tmpALpGQeEKsSkMy4CNL90k5KnbLTvbHKN/1AAU4q1r3JOoAg7RXKZx5gMDmpU+2boBxshwpNtfbAXy6kFrE8Av28ahgUD/XZM6ecuo/6i4P7kgAGwBJJjOVTBUKEQ0zBllRFZneFdklgABq/LW9H2bTXlYsS9KoyZghLD9WO2kNhBeMx9vZs/0Qw6sxPDYn0fVKEsMaerUrD7/3ATjl9+GMA+L54yR6D7/+1jE/4CT+QVNTWcH0g6f6vWMPPpvjguO//jjXeQ/6COKwcBkgcXGwokqmrVZbdc45ZAAUQtXWi2V8ozpOy9p7+wiihu3BUASGOwVTxZAhLe43agEBF93Iy0SD7UDyauOjfKHZ6paID1oYcKnZuNChqK35hulL3XKSBZiJ4z822SLT9F2YkX78mEERhKc7/+z+Z09ju9eWP//7sxvxj0ccjmN9OHyX0vywMFFj2bHB8wYUNw8A5WEAyGKxggYysERtFASyn2rI2M1lr7JDkIBhhlvOwpvoeQ4rlhxB9Vc65Aw8vOk4NZCKk2g2Hu8nUqmSImu8mEXpVOZrJofD5tOUhKFpEEypGnJ+l4XqBowOJRWq4LOBwKLKargvKw0vFb/+1jE8oASQP9NrLccSXqfsHzzp1ZvftKRwf/vP1z//ff/PP2fwxmzxnzF4efvNqqzrHPqSxD2Flxm1W2jzBLTF7FAdWICBU5crNVMQU1FMy45OC40VVVVVVVVVVVVVVVVVVVVVVVVVVVVrclt30m1sAAYTMLZ61SNOcsvomC67Msc8vdYdOq+3eJdhwcrc+1Jn961axULpUOnG/9qtqVw9HUXDKRtjf+o+oHjRtW8W1i4f/zTQJLRRiVO+ccOiUtsusu1jAAOinlN2MTMzDGNg/IBjNK4XbndfdOfgPnGKy1Yo2IcB8uISpjQ/iPHjQl0+TI+SWpEdiUfLR+Y8qj4SViCKj05QcG6GeQGlTJrsWbHMN2YVUwONop07SsNlmH/+1jE/4APrP1zrB38Oq8gJsW86TpkxKt6O6pyFXq50qHxCX0hPbvFgIF3KgCLu75QCcOFVbYQZAxdCwTTUGX/bAzZpUVW6Pfp0QTJLq1ZOJEohT1Y4NzvQwHMMcbxIz2O4hCzE5/wnSrHGT4xWkv8NDks4I0uhIEcgyZMd0e1nkbyKJmhTgiGVgPBNc010pn6YUd0QWFtLIu5/9qPw1tnstXhtCHK/pS0HDUPFQRVOeCceqY7VpePsCaFeF4D9NerdYAAZF+oAJti9kGJn2cAEzWZVJEgvMlYOidxxKEgAgdTtKZi87gQ6vGffZwa0ro2wDxLxOy2HKjlThDjHLgaBLFhFJ1AsDOvGsq10h6IO0Vb47xiEyM9xhqJQQVOtEv/+1jE4IAKgPuBpgk6eeCf7jT3sXYMOKVLxDWTTabyPhG0gpj/JacifTyBMQt7Nu94cQ4JbmAS0+9Ma0YT1jeuCGbQksZ3E4Ok6WVLJEaqbQVMQU1FMy45OC40VVVVVVVVVVVVVVVVVVAEmnVX1gA9J+AmB/itC9OtEEfjowXF0G3wAXGkB7Qk1XRmhqVIlZrATzkd3D0hAJE6WFEZgLyoubjULeLx6+dKaSJ5gSycpNMHBaeCIcImy3Hr54QC2F5vUuicaodEbaM/MzOGBp36F4wPHziEfD5bdonRROGLKgYyTBzBE8Vtb9ttbrZYAAsMJEyBA8HOLRRiiseLZDDx8Tm+PJNpddquAoTK89ovmJ7vVy2n9vM7e5uP3nfD523/+1jE/4ASyQNNLGHhsmWfp6WcPLk6v8z5/0nkvO81uanhvQPIxHs1CgNHFZXLbtrbrbAAROvCZnGM2x1nDXNZNnM4VgKptqmNkVlTGIkmioq7R6LwYXGpRQoXVE9LEDCBprBhQ8pTsgtchlDTllKm0NI0RKuJiiIONV3CrTJL/cRMc9MytpRx7pNoZJ/OxdbUabI/YLrkpJIwAbJoLAyCTNoHqyzbqkwbd1FlrLNVjUrTMqJbI4sSi0eeWNto8B+I7RsYZx2E8O08STlQeKfJGOxKmMTcnpPtBxQkWaKHoUGIp1OQQ3UWoiELhKK88kNLenjJVZ2liZUOjqpXEqIKlU6ZInRMyED9cTCKFeKE9A/mkxyRHggPlTHkLUrVCij/+1jE4YAP5P1TiD2AYTyfsPTSmAblZYhzNLwUR2j9QO0um+u5LclS66XNJV5/9CoAYGWpAAFVeKL4DmhkCMGEgguCcC4NxM3xVzcn5OVdU/DeUqzVRKtcvEs5KFEG8SpLqk5jzH6IyhRdhGFSnT8MRoRDYTNfP5VJ1xWo6GK4kpPrKbCfUC7O86o6QgJB3gvpoatRFwkOUWVxFPQt62ak757im5TnaU7v+Vp//hdui9WPEeKUDjGcr1kcDVAHJBQqAw4IVM3kiDSkeXjCjwSuOVRzELgtED+KxDEVBkeC4KNDKnzPOEi06AXjEW3ZFiLmsuUNTydJzHV6IXlWyl7bzeZSjQh1FcEogB0FtItZQzKUNwSIeleZyatw+mY4Var/+1jE/4ANAP97p6WR8pigaamX4nYp1dHgFs2plU1Kw8FAhJcdro8BdYZ6CoxgsW2xZSLOVw5rVXyesE6nOtbV58p5RwjDVCdGYD1F8MKOOgGIAH7UUtGAImTvEJsxSUClAYgBGS9edWwB0Imt5L3dXZCJ2GGCLTxhKEhoygcNzbwOUVA4dhcJTB0nEJ0TCcZLVxiJGnD4PEpF8ZNOKRKTw/Rq6lGix19Wfk5Ocqx4uxQrFgl9S0Ajx6ezszKN4J41PdqtAL5imePmRAJ0oYhA1EkAEyfR1GCqlAH801K+hziClEpF9NojBElO6Rnc+KlSgtgZKyI6IGwFFsOQjwrYTDlSTzAI0MjFEyMzUT0CIfFEKQ2L8JZOHV58kJyQ4sf/+1jE/YARXP9HKGHgen+f5km8POH2HhbXVZOXsHhIf7LFVOPIgi2v4/+b1+4FNbkQRQhdoQq3WEwtvJ+vMOnJWZSMFXaXafi7kUbeu221sAAQuEBthHGL+nNE8jZouNLI0hFLqriEewQ0cMOqIOns5IhX1R50vGaNESHJalJfpVCcKl7bUkytSVTuWeF6Opfp17m9P8ssHyYDPjWeW9Yf3rcQdXCpvQAAGaQMAWAitolBBA8LjQYFCeiIMCQ9YSl0PtKBpH0vyZNKQK1RYue2/HcWFEUUmXpXQw9gDcYUoMQTXJxhUBBSeArChIhSluMVNKvg0woBc0IUA2j9QB8BCEkrna8hwzlewKwK83BUolTxDRZW9RO247CaNhcDhX3/+1jE7YIQ2QE4TWGHgfUf6KWGPbwNOdK74cJcjK+TDuRkFoE871v//EMSzn+2DtWmw4zdAjC4JuV3/HLp2o3VTEFNRTMuOTgBAGqtUAF2pxEGXE3ywJQ+UP0RxEHEFWnkStVKg0i2nEpgjiCiOSYVEO5hJo3w8kIVioornB2nwvRaFaciJetDVtj+WRPEJVGmJgOtF7xl+3G+4CWFxDgSa6NvEkfe+u12zHueKcVqrQNfiN65eFC3MISkRT///4bySVkZ4RsLRuCrIGCCLa5ZiUScu2t1kAAPCaFC5EJwrpMK0mzRhAL4REABWBQKml3j5SYrTBgCwyRwLxVyuvpBUPBaO/Xpk6JZPpkB/6wFlAyTCah5qXD639pkrerYSm3/+1jE8QALwP13pZUgMo2gJ+WsPL69rOLfyKJsIRTn///sGelXT0VCSBZjVSAQATF/1AC4EbsNINSCIENO9HBkgfC7LATpEBLFFM3nofqVHGsluZwKqTPBXoxnSIP4RVDBrBGzoVhtJg1iVDeGcKaXIegyVchC5XSTNFWjNaxuktWiUNRXdcBai9A3j+EWYSAwpFRmdW6xLMljIlTIpUYSQ9WC62XRU0gCLmcQnQjYGu5RP/nytxoswri7oNB+WEXA7gdSmS7PsAb0AAfxLDoHLEACqFuyb9TZtw9sPaRMFkHsZQkYNIdo8KJPSlAXE8HGYhSeOFqMknJO0LOMnxuKRDDIdKY/VCT8NAOA/S5HIiFak2NvaXj1oQSlNw42w6//+1jE8YARAQFLKeHicZkf7fTypAanEOOwscRlThfXZgyzPGDXa1ctNERFpKInjGIjCJUKvxAYFeyrkMMWxn///8hNsKNyw11OMcQZgUJZjA5MQU1FMy45OC40qqqONN2a3W2wAB2S4XlQdTHP3BDYcVTQ3JGduYKOK8f1GOSRndsyHrpQRlGrG/DNNzijrmKfMPcjv1iIMel1mGCVGBx3TKWHqYLF+FL+1NyNTyTiFPFRLMo48rml1e3H+lc7jrDm5n4hfj33dmZJaYxWQ/D4G/Rz22025LJdZIAA2rqErNOOIhHCi4GsWhZ4gzLIy+10jDrBNRhjNhFdAsRPT6AxBpIc1U2z6ZQkK7NMo0+2sjID1sdbf/KKiRAPihEk3XL/+1jE/4ATcQNLjL3gMlGf51mcPVUXrUoTGCNs33nEbw8JPcWDH/9mylBI/QABIGRQANlhUyIAA5HAQM0IEL1D1JDlfhPKNL9gq7SF5O01tYrRnPVXamgFYOz1u96G4o/IJIJsUMDvoYodVvy955IrXo4C8DxOVchmGIH+ArmsSA/0NhnmjIbaOtOoAsZfySRx6EsOZCiDHMxxGWhcaGOHGayGI4ZY7gTA7zGOWCN1K0H2pi0JqJUMdHiRGafYpBexEyeiQGQHhDSnD9FfLaxz+AvrBZFOWFVMAEgwAFDaPj1F3R85aAGWN7DOCZPo8ImjZU5EwCgIPDn7QfhbO1N4YkziQ+2evgpQ+7nF8w4ihoW0eSkhbzyJWKhbqxPEpET/+1jE5wAO1QFxp5n4cYwf7vTDJSbpsEsJAUZMEaW8l8aRtiKnUBljqlcw2yOvvlc6j6SD+Mw2TOl9o0kWCP/nCw3o5ND7eTqc05FFlZX1ErodywkPwTZzmnrlcBA1cdLhVdLS/bo7rbAAWJnNN+fnSb4+3VBqL6vk1O0ENh6hUdSgwT5v70/Tft9+15oBO2eabm2RiAlkslOsyKFZKpYd6NODlcAFtAPdNmADOCGCDJ29AAACLigAB+jFNPsShtGQZcohGVedayfjRgoccOY60B6xHADvB+EmgsAGKS5Qza2wthiaZEYHEWKxsKgBmjndhQGew5fgYVK9RJdKnmgMabBACpliNq2derInhZELHTmdJoSmnWDkwVh0CC5H6eD/+1jE/4IVpP9BLWHpqk2gKQ2NPPhR5I9OlZdlxIiwNX7qsxkFqeo7VqPPI5ayGjrrf3VM1OpKmc0sRZrLYXY/dzr7ya7daU87NWlqna81MGDd6AF7qXWdqtZXElGm5bAAEqjUVRQmomRxqCyqOyc78VECvR+S9bIJpcmXnK+XJ7GdoezU2ztGHlrLhrIYFFJ9vxspS2FIfgxrQSDs6WOT8sTne/5uPRGdlZsJSw/YiAAAAAU5QAB7VAKrPlDXaYU+iatVe0UghFMkAeUuaWuMQQw4ya4SAShA1WXI/KgchYdk6dTRXMVvaOmgxCOKHO2pNsPGvyt4Xcc1/0x5GywhCoixNT7J9p9qVrcWxaVOQDDlhxpfDM4/MFoo0D60EUj/+1jE5IAJ8PWRpiRPesagKemc4DAJmFcUWizJKN5T7GGE8H8T+K6B/ilnQaIQNVCeijhKsRwuBknepyVIz9Sq1xTYkh1otkYAPgR4Q4uxi5ZaAAwEoJfnKE3VJrbWCdtQx73JlQKfZOW0FtkFiYkI4MhkX6MXYBiAwR+4AdkmAlMAApNjy1MDYZWAEvE0TANKRCZU7zSlK2Vv3KlTNxgBvUnUkUXEw1OFDX+a6/aZrAoWuFpLWb/15fG2by/k9vYbUTuCB+9AKRowKETa5b3qr+XjdYxLPsM9tx3pJxOBcFWXY3KmurXpmwJFFykjHieELhCgaQjyqJKgwdBiEsBQpwghuZpjQqA9iDT1ZQcHICaNqVUCAIOmemWCjYCbZCz/+1jE6QAKsP2LpqTD8rggKzWcPipiOJZNOaQ1dUsPOk09VRy6du65F4sQfmKNDi1I3F2ZbD3Yxf3BEltQxyvLpVIReKwkFbCx8eIALGwXPHRIqIz8UlyhAiPrPFA01MHnz6EX///8zD04TYhJ+mIWg5OjMPuE2ISfpkWg4XQAUDpmBZQRIDWCIHhBYXQAUDpmBZSFgAAAShw0C1vlLqtVh2ExqWVuPwu1jcaWQMDSUJpI8JcrrsRh3X2sVmxvs4MByhgSlrSnngzWjmIqh8tYXtl9oxaiWJ7OuM4tc61/2uN9u1uYqqUozYGixxBi1Ffut973IyiBTjRSg9/////hIiColIgVQ48dIgEaQAAACrxB2Vim5LaWbjqhz2tRl8v/+1jE7IORhPVSTOEzAwI0qo2jm5Jn1TKdNwXISql1TRgNgBBYtu+ql7LGX211M/uOUsRMhd6Q7DG6MRlUUdN12UPwxCLunav6np+tXt2YxGMdRoAioSxggcegsaX64CnFRoqEf/mfGRJxEWHsjO4BiogQg////17k6EKjs4JR7Gpyp1L+L7hUdnC5ODB8PotEjIeVZF1RByUWKEapMygbQoaf2JJ7rdpdl68FIAAAAAFzB7OVcauqSM2mYP7L35ao1G27cQLcEMWOXxdyIiqNMsNHHdT2Xynmji97KE5mlNan0tXOlkKikXg94aeMTVNA05Vn52pQUdubd3EihM4CogQBnDR5f/jShw0Q/0bdGGStUpB1mJGEhA15xq8567X/+1jEy4EO/Pti7DC2kqq4K+mSp1p5xq7b5xq80841ecefW+cafW+e2+kjSMEkiyWmkWJJGkdNRYlsowURwqFkVFBU0kSIJKTcgAGMnfawuUxrkWUa7Nd6uQPlp6bbvNtM0OWS2jKRUxByOrLakb1qKopvIooxiRcGKY/73G/8TlxYYbcz9B8YkaExR0oRLiOg4MiUC1xuOExBTUV4ZmUzIjTllgADY4gXOLV8ydrXZv/FltWEySe1rM57qf9NZTZkOWVfiKIOlgIXMIzE6eTJHE2C73auFJ/UECjowj8EDCwXv1RzDGiim62uckJaTkCE8IcbQS6ZLtQoZaamjQlW+NwlBHgVXs2+Wi8u26uU6Colt3ZI0SJcrsUz63////7/+1jEv4AUNZ1fTBTamVUfsDTDHmZGlmKCD2xD/8pMK18vp5964fHIW/rsqogAAABVgAHoLI5cnmsOjk2y9o6FwqRq8S6hWAGgCbwkcVSMKhbceLGvKHwaHQZgqwISKtDNTqsLkOIDeBZCPTpohMtHAjb0Pji6AlKnYX4luIAjK0l0EaHxCSGinpUGCQouZvj3CUC9RKkK42nplkElMEV9IxRxJwx/1fv3Y55C8QAbiGjraB9k9WE7reu+Ks/pTcLCfm30U2ENJWfg/I5fxDltyGQe1UFZLuTScpAACTdoAGovdZ04pNbfhghhHThuoq4vRLXwGA4JqsxcxglLspptMtMFTGojCZsGguFmTqraTik4FhKS7KhUAzkYFkJxIbn/+1jEx4BJsPWR5hhN+TQfsbSRGc42otWur/7tceMITwvB///9pswYGmgHR+TSGQ9NOQ+aFgTJONj6xgAAAJzAArQo9Yd6Am4w60J/EDkB9BFEnmDpkq2oaodXiSFLyEVhdhfBByRpWIXFkZovyOQaUookOmMWZTSi6NibHwnE6X82gYxypgfI3DkIEgGdlPotiVXCEl2J4ZBtEwlOkjJlWfQ29aPxsPxi8rMqnJuhJIfBOyxyKIhUff/5UuemouqE5y5pv9ijIonCUq2GSSdrA+VKl8OhAWwAdJz6OFuUS6cz8NosCKMpC0YXIeBaQEPKhYkElHLBJHbBhKaKWjxrRoBCAhtDKHMtSksWebxV9LMwa09eKGSqREMvaSSk2jv/+1jE/4AVfP9PTWHygbKfbjT2JVsOUnyCXUJhb2aqlJUnh1qs1Notio/fssmrUmzXTXNhgalwSxdnUqV7f//XE/51NPxDp/t4/hq+bDScUeOnGSVMQU1FqqqqqwAAAJzgAeKJjKpPoQ2tq4hKOjLFLCoFTAfBgHABVF0AmBZBYR4HMQgc0JUzJMsLO0sQ/FT6ZsiDxVC4l5ZcYFGb2h2tXAhDJGh4+WkGEvSG2oWaxTM2QgPF5alepSdXv3mebSuTjEyks244mmBahhaXj4uGLl90tiTTklgADAwTCE8yySFBCE3EIWVlNc4Vt4pFTDrUaDLxOYRJKMIg2ysmoKnnSqJGkcRjWGlojUjxyLJfMWR7AiZjiVM04wW/UNYWCwH/+1jE+IETaP1VTGHnyicfapj8veFi7JzR3OIxXzHSGc6OVI8LC7lzV7km3UxBTUUzLjk4LjRVVVW2yyxJpOSQABMm8mi7JxNs6YOclibT1grEImRCE2wwZDwjNlKQ4dJz2kzzsa3i0dE9j0SkxMlzrS+FE2vJ5i+tbNTlyxMEgtjAgH44jqoChXzyp4sk75mZQ1TawQjUpCIqKYSGSqWekqxHC2eZ6e8rkEuAyAsObAsBQ7Amgjki7fa6VSR22wAA6RZ0qXwt6sN12nUAYqoXSGLgwkodFdxlCeVkLNKHpe1OuboxDzkOAkbSpH0GeRWq+bNmViO87E8TBRNVi3MqVfJ8Kl9ky8tLm1C02mYlpC//zezLjouJy5o/8EMOm+j/+1jE6AAOxP9fR6WWgZcf8LSSp4YUOg/0opO8hIdEZMcmGgSFYmB40JV3KiAAAAqwB4hBKXrXMJBsrpC8oYkk+u4v8n2PHx0FVENYM9IAFtxEA+6Jxqbq+WekMma7Kb7KQMlkLSyApeBOxVBriv19oWodEI03GTp6skacLDZIajoBrJkSAsRNBdhbj/DpYmcV4y0e0mvKYJJCggK47obgbjvMQz5EapoplsRyI84YiiOYuSPWXBrdtUllTHUx1sCzmGjTXOw4SYo8maHE4XJd2W0A+gG8BCERIcoVK41tH52y7LwMPtNLWKDguIoEmMQoNIohNhLNUK7guk2iFAfwpxgkHYX4khbh7LKoKom7mpS4KFuJ6LadgcADHizQ6Kb/+1jE+QAP8QF5p7GLsfaf8HT2J0aY0ell0uMSDb1rgjuonOdTZCjWT8L5yOoQwVISpcILZ0pKdkxihluR2yhdN6rkMJT7QbCNEQgNLjqiEpoBkQlQABu0ABuDiTR4GsiFeo10hzYhalUpLV+OiT8klUxA6TT1w62uLiUdLjoyEEsrYqrXKs+iJx8ZFryEIxypi/pgaXYB6hkXhH7CSEkEqlKoPHrvuML2mITSH5qEjQiaJUDIw2JQOElriIND3TAMsJiIAvET4CkWIRFgAIMiAwA2xEc9B0QiZqiKKEG5qndMbasSphPwOtyhOA7ztLunDpSJIEWji0rCQ9Spw7zUisjmpVdCbFLSEuIJvnEsJxqmRKsJQXGJ4atVLY3P24n/+1jE/4EVAP9LLOHvAh4f6YmHseDR4IeW8zShnNBuVuGYyNdMvGKV2oGc0neENPtPH+pnLEMhJyDoL6Uzgp0kW+Nupt5PxkUyvWNcc6iWVWzrdZc3dbtrJJAAMTkyWrDb44fUvSzS8wzW65WgQLzliOYeeddZ2kDLhuRIHAaC79GVrLVmtizKdTOf6X5iJsbXWITTEf3kIGeae+C3J9x3QzyF0QEAAHgHnDhkGAJJRwKvkygQYwg+WcNjfV1FmnCAzxZ5cgFWGAQzMJGgqksYjPPYDGIqkTIZh2G6y0k/CijBV2tAWGajBMSYeh2jD7R9JVoEHxGPN40xNoeMj48EHvqpan28jQVZLQZVk69X/RHCo1GWJxqa6Mxvc7SunFH/+1jE7QAPdP9Rp7EvgkMf56WsPBg9mrqhR4SGVgjKKz8w+XZUel99uycrS4LegKgUmzVZLS16cjSjygosGRJ3pwqhjizUjZHBCHFnMuT/7vvVTEFNRTMuOTguNFUEAJJvRIEoAEzWTNRlXG1jMLMDpBoc4SOXEKFbKkHi4wI9BzFMT+70/2JU0Xmi95X+r06eZcQyT8TFV8R8c7T2h0n54hBR0cCSFqcoVX5mA5aQknP6ycouWs8eT4MkTBqtX9BMU6sMDaOzl8sJT8F0azbktmsbTYANozRaSpdGZLqPSMr5GhoxKKCNMyNRb+n8Kx4Dm5MEbZERhdzQwTycZ8bbVBCvK1Uql5/kf9sm13h/g7MdyEU2/7VkulMvNevSkmz/+1jE7AAKCPt9pg0WeuQf5d29YBDOK0VXZGD90KA5+h4UxRhM38DADtlj6iBVu4AXopEis06CVglKVuLqhaVjtPIyF+lE4q3Vellq5FZ8a6LLaGKYoSlRpnLQoU/ZPoaYRSnyrh6WsfiWb9OQhK5gIYHOsnWHKmkUyQ35IERrtwwS90P1nJkfxOZF0nyBQ5/KuxnJA+DogK47WYr+K6QRD2S3B0Jh8ZZN1pD06SAZtzsQiAoBgFxbB45wCnAlUqA5hD2CbQIAM5o8VbI0gAHYei0e+DFXDQrlQAjK7aZdHLGsoVEoUcj+wn4AKEAgzzL0yjyqnHNw8RQ+cGy4dEFeWCjU/tRdCeNH7G+cB3F24B4OrLz4v0EZqJEie+ZRocb/+1jE5wAODPtNrD2H6aQf7TT2JH7D487hor39JiLLo8KXhqkWPQH7Zu6hDoZjinOzY/12ZA/Dp1DqTEFNRTMuOTguNKqqqqqqqqqqqqqqqlZEVlaHja6NgAeo3ZqEpnIm3H1toDZ3RzaEMQaTTjO1EF/1CDDPBjJ5solKpEkohz64tbpyVhiRwvQCMdxOwrnzhsrZHRcFRLGs/kWCDEtcDxwify4rLPxFDxph6WctZ7iwdlXpiffXmJgmV7SOsOvn5WXQFNYeloiDzAFhssIiqyvEi9O8Rlb25NjjI6SE7ewOpMtbr3L2tufXYXglkaEkloPYC+H22pbodhl5e7rTceTtju7MEt6WnF6MJynQlnbzCeOdXU9b0N6iFXSUzrv/+1jE/4ATJQNFDGHh8fyf6rz2PqybhZ3T6UkmU5Ofr22v105MBscPig+CryyAm5r0gADUjIUW1U3VXQolGV8S1U87DKPFC7ddYBiMbVnLbIRjSjSjSIMSdTOAIy3RiZds1AaOCUmDUU4jlg7Hcs6kENDablptTA9LEUqhYHxNiGYW7tBbYSfYY5tUU2/3qpzE8NLOLl0AttpcYL9hRSqN06YKeQ1lK1BYS6VVqJfsSHLcmFbCUUZRr5fy9IlRLE0b1u/2tkgACcTCCM2MdK8/PTZ+tLyGtnyzJhLyokdC3GkVYbyMUPbFLy62D8tvw3ahjE8qpyz4QKkLc7F7ipNiEObBOgqCSk/IpJEfnOnTfm130dH4+aFUaqrEBkqoXyL/+1jE7YDPtP9z7D2F8aWf73j2JmaSjEko2lh66mptTgkF8O72mzCsCg/JnEJbEABpEIl4Ab0HRFmINJyArckUDvgq0UDovT8OridZeK3nLX9SwAGGskjc06RhHF5GvdmD8IUPWQQlgR9HGIoFtSKk6g5FM2QTX0t4X8Rj5JSunCDuKchbGk7DyA+lSJuqinNA5QAnGqj9QxUk6dn8tP0JPA5oyG6KiQtpfeiTxXIgaFua5An3vPhUH1kEbRabAkQ7cN55q5r5CJJpRZUCxp9n/3VhhQHVUhqNaaLkstkkbYAIi8SVDTQIJkUSWlNygoAoNwtzNCZ7NODQuh2h8SrqhsVS1LSxAw3m5EcTTTZR4xFaMbFWdKInMyFkXgBWfhb/+1jE/4ASZP9RjLH0cecf7jT3sL5ok3pOnrPvLI8IEQrVNpiRfeyT9Zz8ARDIiDqhd8RPbExIzqoQBBiSSVQAWGkomy8dGJbE3VDiV0xjKXQIa7a2EJ5QkdJQMMmaBNtiUrbJPxwFHVGl1IqgMWgNg99wIlkln9d2n2zpW2TV6Oq3m3+UVTpicRfNP2VwmnYGzST/E4ZQcQPnX0Ehq8V40ab/Ffrjvg9+4DiTgudDcPxN54+yOGJEoI+2mTUkDwa2JSpEV3qefchq7rKbunfKglxO3EbEAKMpVtBpWBykEv/1+NcRTkm0kjTABDXq0v4Y5XbXMvTbjTQnBdR+2ng529z4hTYbIBSK4ULJ1lBst4ZILcCwPBKBx1zj71URibD/+1jE/oAVbP89TL8Tkacf7TT2JDb4N8Gx4KmGXqt2dBA/FXWk6z8iQbX1A+RL7avMnmmZMVBevqlQCdCqEWfCLqxLbi0ZaalvIGhqtiqjcCrHk9eIJwjfN5RCcmKWNb2AplZGZyFLyV/7G28LPa4coibU0FOxDZGSaAyVA7lLYYKo+OC5GMcaWOdK1Te/ovqhanS3vuMfada3yRP5a5My9Esa9iVW6twaCouZx5k0ZDeLoyEDcT2cS+HafahG16s4AGqpFEvAE/ilUgYWwEFQEDIsAOWslpHoQCE02LoFue0q/ZTebrTbl9hORrLVKOCywfOpAgIRAV39+YJFNrBEXmtgDKNmZDVywl50xP4nqH8Xm2nxOAQRxswk5DWodCz/+1jE+QAVUP05TesAkXGfrXTzoo5VpSDxcKh3myY30VpeQoo5o5OFW1Hk1EmX2hmFGgOeiLJIdKeOR+tu+fZkqUZ58AtIjGyzf/2faP79iEpMQU1Fqqp1qTXX22yQACsl0nLQYLpmnW2qGiFtgnUtKntG39d2nDJi5FwS1GAYtv+R5VS5lUzlhw8buHSfWPbx5/gUlz67H679dVqtb0vl1RqW0bj2eaGBzh93WpCyMomlNpllNqBe6yiLcl1kkbgACJZUeU+jb6aO98YmVQkUEQKPOlX53B1vsPnIUhCQw3eRM1H1j4QE/fiaRGKmSWi4fdM4VCvCjiZHZcElX/QaZ9Np1OkP8Z3R3IxSxKM7edmTmM39ejzwjrqsaZW1gWH/+1jE+wARdP1NLEnwMmwgJ+mcPPraoxlsXBzxi4IjkiiYT9NITHRwVTgpFpY5dZttdZAAKBMWSrfAkTTDQA7Z6WyOdOlS8ygx9LI/xFTJAibSnA43bazQPDE4XISYukp3+igHD4vPe6Ym6R5MSiU4DwUQpGg8TjJ2ugFaLTx8R57Fg3MdbVdIDkmVi7eLLj1D2TD7qZYm5z0J2wOPJh2Cg0TJjCDQQBpkYEJhMcBoUIYOMAcrHOQhKNgUJChWClcGmYkaCEEBTs3woNm9h3YebSMHEWYQJU7qM8MewXTfklDYkAC04JZqqrMWFXcT9a9bYCFgzkNj+jCKAzgjDaYkKhNHArFZL4aMcacJQok0gzCwUCCSgFcAE1QBxLJBGEv/+1jE6gAMRPdxp601OfefrDT0vpdkvw+M82VQBeAjAVocFH4cFaVP3h1oBBNwETgVWAgLNZ0VDY4XFASBlfBzcfxC5ZZxbAivEaoY0VE1vNEBwYkag2lwDEKBKhSldMtvci1euulQAwQ7nrBdEx1D8t3UA9s7YzuJsOv8itFtHNnEPPz/2AZOXR0we31sW0SJn9zbVYLmxtEZLcvy8/RsUIUYWqZnNE6Y3NgQKzqDqKQRh80o4ABIogAGAB+iAjErBwCDM+RTIFwzETEQSn0ZkLNXqCJYKwYFlDzTFQn2mB3WW3aifrpocy3r7Oiho+iHB7zGUatNP+tuJNjQCp1tAuvqpyz4a7XWmdcAoiwlISFsY5CfCEF4mbYYnLc4mgj/+1jE/4AN4P1xp7Ep80cgZAHd5OChgvh/rH4ykOywOKF3WHCw7FHoz0slZwoJ9VP/ngSIu6oAzYwkDrITABVqlgULS2Pz6SaAMdWjlHerUF/8f/3VAAGBeAehKoaFJ6wK64ycDt4Xa5AKvH3n4UNZg+KTqJE4/yQS1jF04yn3ixvF4mRZu7f2/IGGqSidouGFEQd6mZU+YRqvH+fcsb1wa2YWwu+EUQoQpfMdl1gkKM6jVFk+uVSyoNUawdERSlwzqFAO4sjtTIXucL1UZGHSh50lFRuTGXFKnK0sWVPuSFubaySNsACkK5wbIysw0pF0lbbXjVZ2gmiVkTouE/786WCmukUBfBeJ+WZEM3GSVwNyajQV1xp36s55cCN1Ilz/+1jE5IAKbP9dJiTr8qgf5im8PXICzCn/SZ8YKWehKOfkTtv/8PsWWW/XWpgaXUD+L36MHGuXaxV5ly57WySQAA1GtUkriKntMFoR0S4yjVGSoD+/wsmJvwU8pB/7hs6BQLiIdHXS14JEkcpLBGJ3IpqETOX/SB//c7jx0igzn7efpZMJmb9TsraErUIUUiSJB/9EsgQgDLo57FnpOA53IWrEAt9EkAQAr+ZCzddFGX7WWU3fBmqcsJZMFaJVit2dLnuaTeYCvylmnIQpXKEOddhZdWMj5EkEjXYsbExC3KeLGNyI4tZ/C1OSTgNiFqFDkujF3VHDvQu1KIUxMBhHaH2yEHvhQpnWvaOu0ZFQyPdGziyOSeQ9NNzjuyJepEn/+1jE6wAROP87DWHnEZIf7TT3pL7E+XuTnfk0YDmzMiKpTCeLu44NzKP/Vr7n3vA60FlMQU1FMy45OC40VVVVVVVVVQQASzEkUCoANdgAZC5kBRMweZnKkIE9SZsA6zQLUU9womCHC/cIxYhaTdFpetw4GLq88lpCvDMh6T0kCERj2USEMirpVYME3jyP2zhZ+Zgxu1LMVCbqYhAWpNj+W5Eltn/8r5VRGVgYYHRURFouC7R/sqy+i1wFi+l23syeYD2QiZRtyV7UQqdgJ2Dh7/36HCUXbbI43AATRFRHuViFGm9LNloyC6Cp61YREczGWmSxEmFyLBtNY3e/RAmj9WkBS/8VF0Bq68BKx60oibUOKpkX74H/+nIZ8m3sdI//+1jE+QANKP9rp70l8m4fqGmcPL4gW6FrqrrkyIxSZVBqvetmS38Ua2VbxUxBTUVVVRBHuSKJEAF2V2gO80ZZaqMQQRM2FCW36RDZcgCclSLUfcBRCMPhJbK4X4GuSy0lLiiiWk346m2YyOXplLGsp9WKlYPDa5saRgHdtV/sRNjmpCwXNtMZTEEFyJKDRi5OdTFr/mRVEYrlSoeTmp7lIuE8rJmx18GQs7viMsjb2NOXAmuyt4WZzq+uWv92rzPM69n/17+3UsVZJdbZXYACGSn6aPdt6wkn4m6zGflBDdJTOkAQyedxriQkEOBaJStDKQlnannWVoRnjiOP1jh6vBwgzc13/Khz7D6Oof5L0TApuN7v0tOuH1ow8i4cO7L/+1jE84AR6PtJrDHgcY0f7PT2JL5DcmngRywxAfkCb2WuIM46xo9FZyg/UgQESjWkiCoAEiu4XXXM3UuwwEoopekULlhdpXpMFQ2Vrb1LZ5STMxUYGCPQKy0xApjVouTEUCfonqGpxXNCfOUeJhCEni4IS2E5gKlVBXpApB/C+UKGHK3qN7+1FQrNFouXM/hjbVfP2H/l7pONfXm6uGaIpjwZil3IfTwn5NT6I9Wl/fuUB2hSIJG9bVo1f73wJxJE/9P/b9KAAUkkgGACfUHmyr/howBiBNxeMULRTqsfDaNyyRGIbi7BWREuxFyCCKhRq2QTxOQ3ieYkQnFIhK+Ju0HnSGt4T+21MLyKbRYkqvukmxmltsmXRlplcOEwthv/+1jE/IAStP9HTD8VMbwf7XT2LXbrSpfafRv/4S7Znj5sUy4OWr6dJsNull7moilPDUrGj1dOrXakjNjG/qgxiWcGlSrBD//vrVUA+8CZD4BALBlDA+MkKG6WFpYmJ9C01AUiyOEfiMua/7Il+0snq1i+bvONBthkyzToeQZLgPuFN89JQ8BIQyoIhyTUTbDpBSok/ROqR0eIc0GJYExeUAdOBBTkmdzuwwSj4EBNJa4SU4ikYRRPEcpqMIgOJBihGZwZl5e8nhSmTp3V5CJZScIdzwkhFJ2f/4BEXoTnSkCKqkrbwka87Ay1gvP1eFkGhJWrHTFqTst5rDkLS67mMWtS/ysxecPQxS6VZYnD62IuKmu0tzzCeLFq3YoUKPb/+1jE/4ATPP9HrOHl8j4f6KmHvXbgsfK/grWUZgcVnbYqVUZWSl13f8qlFSkOpwIOQB4wQTwUIyJ5mASCayE4XSxjYBmOgEJEw08oDhAZQ4MfGBTh0ACin7XUVAotPLjOuwcKhaWVopJ1Jyl3n5Y2w1tXkdd938ZwUYm4CGE8TMzT2DEHSX04dEGAWhKBElwVx0lkToFAbhfbm43j9MAagsoZrxFl3h7Lkd5YIqSa4hwx0CTg17myXGdXG4ar3eythKhPJ0xLogzy7RZlDlXOZVLyDpASY+BbBN4K4LeGksIht40ky7az0iwg5oFstMumlEsanVB0Kk3u1PVIaZOSXFhRaJVwpaF6k5LRWREkPqgDltgPpFpIej5abCyJScL/+1jE8AARKP08rOGHkZcfbHD0sA+ialcXkg/WnitUWB2SDzB8qVzsJ1HJ8sUNJnnVMctIpSPP6VIDF1hIVYHorrJYY5BnBIMgYiBUuoApqq7wIRKoHoX+vuhPOQrAmuZgBQNl0Pn6wsn5ToqPBwHEmlRQUkX9LH7TznU1wFCcYMbe8zUHV7rKyTPUpZAbIF010v+jdeMQs655g0bei1PWSCZMyIwQE8piclQ4XFJ0V0RwFMocLM0IicBJKgAeKJ6g0ozkwUm65wBBgEwYC6akqBGZ3IgskcdeDzKnZ4kexdM6BWAqPMAbQaIiwAt+pi0abO0wgLjnW4bFQID8CBiVy1igpk4PSUB8F2VKUou5xMkIiR2HlgTBhG+e0Nkm7W//+1jE/gJVrP0uLmnnye0fqeGHsPdUrPdva5X+sK6csM/jnqZA6w1Z9GQP4b7kzdiV1v21CmNcMZOGM3jaSjKPlA87hCn+6kyBBKZMABWB9UnY3DK0JY4ym6wqmgGWy4LBSTnlSZDyJxEQsQTM6C9UHwkiaanwHC8oH0jQvXD4yIoFQxLB4Ykc+XhIELBUL7qGvaqHI6EJJGfA4DrIyTc4SsbkSvMD292d/Zs1mt73V2/SUupkFwHqMMwD03+2xf/nXcDqazLONoimKTuM8F0QpNtJIlNxu1uAAWtFMo+ZET0pZwvB+v46WIQWMEIsb6xg8HSQkFKGcoKzWxy6zRaA426/pxUYmZ6SJOKiM00gDQiVAjBOPLGe92Q3wdP7BAr/+1jE7wANiP1lLDErsmAgKU2mPopWbTBEqD8HwwKhf/8bFhpNExgSBIJdus41E3I3c5AAEEZ9ALWIy7D5wJdfAuuurbcpBOx1/I1qKysEhEWDiKwPgqEg6HCMwiPoX4Yl8J8FC4S3NvYiG5f2ThyZYgOw4CWAWFYnkoSC1dgnOlQ/zqftb/53iJOhzjZ8hheOKA/HW/9Qni2NwGRUEQAVGoR0L1R1u2yO2C1YzVY2+jBbKFqyGeCPkNxNZBcVXT7itRaTZGLj8q7wBbDAYywgCOdemWQsOowutNd/r7W3eeaouh1lHGOqYRu/HbUWbPQRiihb5fpTtcy9WtP2tVStIeX32gc1HKedqS+D7Eqn4M3JpRIn1hlczV1Q2evG7hD/+1jE8YARNP9a7DHvcZOfLzTEnf8IWWCcNMMXW+m/jgHPDkRzQudHUD9DlFG1HJ5KTEFNRQJoABeHVlwgGhkcyok1oMYJMcCj068EMVHYUN/HvIW7nTMdAqgoCpSNIQOSEBcgDTE1IgCJFTPpEIRsxHWU/YAJTpWeiqFg1CJwGgCMxUSOoIBCHWGQA16TzhwnSo4p0q2JDH0ZQwwygX44S2hrII7Se6pHOmLCTcrjH2rquStYecgc5lCjw8YQUp2AB4B7JsGfNNzs/wWzH+YQVxjK4ux5D6QguwN5sKtwraSTjbd1sAAtLxlHmLQKxRIlX5uALTSMSvZ1y/yXza93C5oBSQwflbzLZL9erl1J7kxQ0j/Jf+xsf+rD30muiZj/+1jE/4BO/P15rDFP8l6frjWIP8d96VyIjRwLPxhFfvXdiH9+B9ILIlMadWiS3G43LbAADUXk4TtCU6WIyTO2bpjksHi1o9FNpV0RqWessPm8NQSYhMNOMglJXhKi84AmLj98EgbeogtCpDknR6H8UXdgeqvTiSTeEwvgRAjGJas06CezYpokuD1QzLK+UD4mscmUJcCAsKeJ+TMuKGK00HNQpxhXkKVto78ZKFIcmVEoMGmxuIEASk4ACmGSwEaB4OXOtc2Eot8pNAOjQ2QZBAKul9I4Un+QAQcfcpyCFlQQjB/Sq1wRZsKkn6sRiFu1ShB1o4VxcjjLuyLBnmvRIQ7RU/VXRVPrYm6FpVrjj6VC8+fEqbhfu2x6nHI6oKv/+1jE+wAVQP1CTWXrgV6fr7TzJD7onHyhmvdVaL5ltOhJoyEoyNIlWgvB8tTIrnov1WLo4u04gieOBHNaVFyVDWiWTzJMQU1FMy45OC40qqqqACSoAH3C5VhTmOgJcGqBlVQsfCIiEssky9XMNJQsUWg4p0liSKTqOBQeWrZA6bAWcRxx3BdCHajXk5W7l3EA69BINmqpnthd7DOCq1fEMsKiYsS11/RoAS5VMSS+XnS0J5XOul517GVl05RTvGCNbhVLkQlYeQIV4mkRZaihUMsENxCQkJevMfwLZ1gzchKUTbjkssAAGSlJ2hNp1UNyrkHObbXCCJA5svTrdB954Pk5OTegkQrFpl1IZKG2cNi8+SFtFgW5nMcZniv+17n/+1jE/4ARRP1jp7H08mYf6B2dPKuT95++n4wu+cc1bha41Akm4VuDt5LzzWSSWnK3LJAAXh9KZXXL0vcA5zTjBwFgSli+KxDh3IlHjLNZ7c2kea6hfTGBApQ4XHRUlVTRNKKCFVDsGoYysgYQQ70hQQBgT/8iI0hS6kd//nFCx7/zMLQQlKpls6ogIf/A8WWE5pgxNQgMHBKjB86Qn2YkAKBTRMABc1C50RMYpoBnxmnwKZEwkEaTXgmTo7HDCui+oNgoWtmZQf5sZcWYsWZKUESTHgDShkz2gOkGDHSF5AMNlbeKJLdqMaFiW3hLYJeXBUZEJeS/A4avrwqFbDjImLMayv8tAvVrxXMHIXUIDgL8GSCJrCv1ASfc68pQdRn/+1jE7IARuP8+bWWLgVye7rTEmXf9w5HUEzBF0wmGJyOMJizAW5SFAEpFpLv2mcObKY1a/UqlqHVG5wUJRKN/5G/0OpvMDAXihgMDOMIYAT7TUpTX//+pTAAAJSNAAaZbgowhj6Xiwy/HFFKnAD2x8HEl1GSFX/NtEBJWTQCOlG8KxvICnv3lEoxi9TbtqL/aIo6x3x+xiejkQhUwSN1RzZWwDBKwiWvhsOY/l4lzMzKDLSS0yIYlqDkKHT5lMdFbCscqjN1CPz51FNO2ZxOoMo0RcmWQ8K5OAK5YeShHpUrXG7bYADxxzsnK1fNpiUpW666iNaRSE+hOIXXKaxzpK/6VESjiDeK52efQ0+f3wxHOYmqAHvPlm7OCo8elP///+1jE/4AOWP9tp7E0MxAgKSmsZnb/1cIYgG0eCkTnxUG24lyftLkeG1cYRke/87n7SzHk4SioBkSYePKAAATUAAssVMxEwuvMeBoKH0KLSEJA/LAMcQIpqCrq2nOIFb5QhEIJfTNYBpgyMOp7GLS83SAqiwmHngCq5qB0JocaYWwCbKwrkJiqDMEyrNPclMhSjSJ+nZs5TslTz9Apc5hXQ1aOgPJ6JX/K5bHhiN2W+EciqMY3SSppED1nveAXA/GVDyWmSdRopyfwNZqx70bSaAvkYNAGSAfByqknCJVNQGAFswABBh4VZDPOkK2wCig6QVpDtGgzpQxwMUNHa1kw2LSiNsvvajCiMKeBZTtZ1zKRj1lhan7kZTRk0w/heKD/+1jE6YAQxP9TTD2UYaIf77T3pL73BdNqPfmBKLw8lorVOYujE64w4/PCQAlWfrDyBRM9Qmspi+cH3DkgnJtXLHqF8ETONttryUg3lC2dW/Zccg3OTU8LQEmFxWiyTEFNRTMuOTguNKqqqqqqqqqqqqqqqqqqqqqqqqqqqqqqqqqqqqqqjribtsl1sABWVOIzA4PRs47uUv9qbRn9cs3cEhKOuR1jkpJALK3v8b78LZH/9azNulpKIE38d23EudhN0pL3//spvJR86++r08CZAylbXMtj0leutt1KWyQWiY6AZx3g7PntG1xO3ZwSkaTi6EordoO8lETK6bkCI/BTarm8TORpyOdRzpwaIYklolSJ80azEvJGr7SKOPoC6Wf/+1jE94AUaQFC7WHvAiYgKN2sMXDf/lXiA4qT5uHBQ5OZlqyKEoideCPzVUxBTUUzLjk4LjRVVVVVVVVVVVVVVVVVVVVVVVVVVVVVVVWySSXbW7WQAAUEkPpznPJJMqZipxugGmtSwTZYnI5EPXNmwuUeUqjK8ZJnUhIJ8UkaOSCYOHC18xQDtSBzRLXnpeUuLiQTY2hPYHH1AnFQeV6Q+MovWHp7G2ZqzscRLKRDnVMU73pTHVzCH7Z+lYKhUjXGgN0swDoOaQUh+HSGROtk1m2+21jAA8FCLCuwHrHWQ3q5/UGiVzQiCeIqaD64MkqpMDGDbyq1DCqjyIRhhqSDEKo+UVQIJzbgXDbHfGSrLC5r9LrPYuaJmSR9EyRP/GD/+1jE0wBKCPV/p6TAcYOfb3T0pE+5Tp/ah7NdSu6R1Y8I8P4RtjjJESriTFdMA4wQIkMABZQNDgsBgkKBjrofIKAIElylhM2ExKxh7EBCeLkrYR8GOIKzGUyFAI3o5AwOIcMNdbV5lnWDRLaapDitLoXY+EwaSLJ4IYOYXMcalcHM3S3K0QBMkwF+GIGiEQN0TRTCIlyJWDaLAcLnFhx0estKGtJBGgnRuH1AN8W8g6bTqHMT1MLD44FpTGaoGdOIUHScRd1IQcxR+C2BYQJSDiRV03Yp7YkkFI1KtywwAC9QIJLI+KB8VLk55AVHGSQYHiBsudRwLAQfAQyuPigM6Co6vaNgao4Jh9NJJOooTbWIEWpwOtmyOEiY0iNppPP/+1jE7oAQEQFzp6WUMaIf73TzJAZxIcVh7NJbQWi4ZbacpqqHp0+vSsZ10yrotpksYUkaD5ZwgE71ZRTLSjkkkABMxrt5Fd5WBo5xFvltoXPq/79XU0EaIGcZnEHNOUEZZU45yz1KJNIYCoX8vr0kEbqvrmWiyFgVjE5NEaKp3UnD2O45HflNYjFxik+8SCZIyyohybTCkLCdxjC8eik1DoC3hkBIsWtpqWHst7EQmH1hcfFIPh7AyoKoipVBpl8KFwRKFSYjDapSRuABGhi0GpnMqKEGYbf7Q6Fd2ktFTA63IHPdOMhcq9cx1o4A1a2qg4NQiACyau3LZgIxHH8cj6ITx+h51g9SWj5T5Nwhh0LCFrkp1Q1RlFOk3icEIN//+1jE/4AVgQE4Tb8RybIf6zTzJATW6rlwa0LMM315opr5TURsXD3UkzwiT/GiSIIIJogMfDFF/+fpXsqIV8JD38VKyN8VNbMkuKbWl8Wlw0oGHAMvAFYAeABrgMIQA4BGk48BkcYaRmQxhyam+wWCjeg91EegUmCwG2cUR6ibAwYHuwwcLF8zJIkFojnipaYQNW8zS2FMJ52jOImusZIFdShEFuZQZo6pAbA6ELNM6kcfyM/esSYOVJnH7tbjKXkSZyc6t87zx2uHi1e3tiOAXiFP1Igps//XzvMdnYWs3x2GCsF9F0Rq8qy5qdeF4jFXHkli12ROWtya2AAarLhMuzyJGgW9PFrvCb+D4k6JLgsXE1c5DsI7eXHWSY/Eitj/+1jE+IARiQFjrDH3MlSgK6mMvg79jj47qmY1ZD+AMLR//EwbdTz5Sabq1ave8qMFiP9vs993VerUNp4D7XrU131dGo3JwwjqZhBSaQCjSAA8Rk90KgAqyKJAuM0qj4TanoRQrb1iUTFLU0ACwPGiVVBYLzqZuNdRSX50aSPFgATXgVLX4JIz7cd5kBqoTsOBKa//jxZD0PxwTabc1wm+1nXmMvXWkozzty8oJ86hSH3//2s3FWlz+cU5gpobGVVl9lNPiaklcMmIvnkXEOyikE/d7ijSccTT1jAAOhV3JKchLROR5vTNAiRdhaH0EgRp7fF2pxpGLAISc3u2oz0G5NBKGLGSaurIcxt4sz70h8+0Uy//+WfLcUb6xVPoDt7/+1jE7QAUZP88Tm3nwXyf7/TzsxY9mWMLjD0H2DEBcPhP6P8JTwtoiMwVj1+UMRybzjKUajyA+Dd1gGRNWoYkFKqPNuSVtS2QABMJWGEUXAMo0Btv0QCl8U6krDjFf7n+mtmwWNiRQincigzWGZMymmNHT6pDM1OwxGs8H4j6H6ql6R4vIgNHM/S0L2pUajaJS/kh2yi+lfgcavUvI5hELesai1IbyzDySEWSVUp7YBgAcmABFghwugMPcUCAJIBo1twMwKACCGDkRuYYCg5HkANB+J5Isv4zVQ00BRNmAqILiX68hj0qutFPkOjEI2j63Fx2UltGFIZFK3cXmYCl82gqUjCUWlAgUZt21jzrRl46kU+7EX0UsjSLcWEagTr/+1jE8QARWQFfrDH0MeIfrjT0M4bw1GB2rFFEPRKViKc0S1RmFfAJMwuQyjnSbx6ZbET0xTOH8hJODcO0DCa70cq7EcGEhqPgxjYC9JYAHWxPiGiGtE2MpuiVI4AAfplPgP6dBaGAVpmRggk1E6fTydoUPYh52fGlt4JgMXaLU4hEd/A7N2QKnHxpnLsh/YuAaOLQrD6VM66inBKgQUocOEl0nvHJ0mRAZixVakRGlm5QT1GoTspZMuVDhEdlLazaMmsEUJUw7upnYDKOZBZSQw2nY0pIOhNVUaFdJGqdObGHzB1mo2GEDoQyOFNOxEbASn7wTQdRATOHrk2bKookmncYSEWpXKAUlzfKRrdsbQ5qgEmB9gn/AbT6VWmv1+X/+1jE9IANsP91p62Tcsmf5128PXnv3kEMLiaF2TMragSwtkV3DUhFJD//NXr2Li29Z0ow6ERbHvhaT7DBQwylIoD80iC4Otrt2mYtJ7K3dbAAgSlumryxi6nUvjbcxwM9HRUTS2ZOwgic+7WZp/YIyzfQiZd7SwdE0l2gnjBkqF1+/EZ/CEuOEMnHaiM4UuysmbzI+YpEMZpysvtVS3kKdUbiMeZ////phgBcitJcDYoeorAfiGOsUgNG6whDvrIOAklAAZUAkREq87oxMPCUPhjELch0LSABIjkvsyCgfFydyRkW1qHVRJawqKAImy11wsWa2yCJo7zziozyjvxXy8oEoAjSiT6ERllCVKsKwGSKW48vYb6p1hDi/mem/Ir/+1jE6gBPHP9dR72B8hMfq7T8PCb4hdgtkKUQDeJZyfzddqwqoy5LshmzT3//+n9b+HiEj+FyGQMUk22ebCgXanPwngdZTV4SYNVbT8mzRUGC1W1N/gCxFiTg1qoVAodnqaA/RkChQsIuYbEYQo2rDjFQD4EHA/y08hAjzV6fRykdGiTs/FDIwGumDznfsbmuy3WmZH77yF3VU3/gJSf4XO9E8cWcuxuNCpyc5by+pKDz6nZGhz9Pm/P3XzUuzARssSbfQ8x4lUEb5oD1OZBVZracMhlZ2yLNqFpWWSOWyQADMZcqhlUpAo8pPCdSFYAoZQkVJxXmKs1hNpRmDzQ/kTXp1ChmokerFZWQ3D/Za2m26X/+r6g/URstPNkTcJ3/+1jE8IAOsPVtrDF08myf5929PLqbbgg5wQORk88q5ek4ZaoF0gPNoEExWRvZoLyiAgEJLkQctQAi4IKAUAItBYMGNHobB4isPUpR+X+EijQABYO18KDact6UkJAvM/iWHVtVWh6GUBi/G7v1ZZWXPL0jAU15A7cM3KeJO0qF72kv03B+EmlrK2BkmBRaxOUmHdfdj8th1xOUbgXr7AEnYAcZ+2v3Ka1vJ6Givi/LKYJ5Ws/3HmdPhHoyvZQNfDSm5utAjVlAYrGXZjcuWFkaNUQLuz7mhjW3EhoD4a7X7/9TRcl1ss2kgAPcKUyUjaPDl39B1AMtSRXX62WlExdytZRFPbpjSf/0114oSLct9Wj//Xem84Sh4cNT/3/3Yhn/+1jE7YARMQFZjDHuMaQfLvT2JXbi41r+bRNzkuoxzdfcdwZjx/AUMgZcyo13Zvbda5AAnC0FLZ7cnWdoLifV+n7e2jYGmw1hpCp4erwE5FzKxTP9KlBZqR25t4/d3CVfhI15ipGqw1DDZFbWnNdfJ66NAsxztcHwcaYqQOE7BmqcYgZDKuNNafUZvnGu1ElmVJGklF2mFC4w1lMNSpYRalvb1hX2PamLfsoS5FQJWcSYnKsOQLYk43gexwilAZHgkQo3WJCAVBKn0AACxGbhdqXseIgiSLBnJc/SXR0QCVG4QEV0DIxIiLTW46PDGLeZUGIq1pPRSlUNy2m4uQaKJOVdpsgLOn55Yb2O8Rc0BwiwXt7tSsN40TrULLdT5lf/+1jE+YAVNQNJTOsEsVMfb/TEob8T8OBRmAdJjvzTYdnu9hctkBRm9tIqh4iE9drVnPV5QlRqn4UzqaFAfnqdB3iSj0Beo0lIxY2Vkduu2skjcABW3Lqa/UZ1um6E6eZRBin6ztUFrJlSmWTBgAN7tr598Sw+iyByCo7cenLfUnWHQqKB4RafA4xVIS6xz1dENS/DB0h6Y7s4pbb5hZ4YRGC4NSFASKUkEEQAaaO+nIEg4SQ9Sd25AihVCxgxoVvkoGPnQiLa6EkU40qHiqLJUDhhnRAoBjhing1uzqKJvsqpeqJOQsZKnGicEPdBlaWNMwGHZVzLrd6OrD3dv5D1jYNKnebBkw39eTj5vRLIBpVjsOl6YUNrWcpjaGrsqpT/+1jE/4ATOQNvrCX4OkOf6bGGPIXzFmtNZWFWLORSNvyt1KUDBX2kIpryGX5cJijPIH9kLLkwVsJVNHYE70PO8iqyVX9gj//+x3rVQDWklNKABWmXQYVlyJFhyOMzFhqrEA5U+0DPl+leQ3PuPqnZ5B04IY7XtaaulY56TqKICB26AcdIEKKd3eiPfewmlPox7jEYkEENTCKpccaleIIeElo+eXHvOGTMJfcdcXqlyk3x8E+Uzz+NCf2t7y4Mgf53T2ZpC/EuE0YFXB0ABABCAnuYAHHCihCIme+Zyh+BAEytXM7LgM4QPFioknsyQ0uFHo3qCqADwqEKvEm0Q4NcykKGAXpn23n2ltils3QqBrqaGn2rYgrAjpOLO+kgBcv/+1jE74ALKP19p5kPMsQfqOms4M4WIRUAwpCwJCdmLNztDBxuJG2u9HMshTku21dl2PSzqsiSs6Sm2m4PUV5cjbL6GicbHKYqCjbTSiAU3I2m42wAiQykg+oDLyCoUHUj3AmjOzvj+OKxoG+X1/4+QYmoMUsmn2h5u0IPGIfyUiQdo5hU44NTVrTj5uTpTz/jy1/7VJMUdKkUY5bxOWayk5VoEGqgRmOhHGB9SGWoFmHY8GU3nGSpNDwOnOmGwFkyoRpTDCBAdOoYMZCJAhqhZQCQnoImXJGiToVKBAwVOBzZszgUJGhNBJhZKlQ9WFBV7PSAghkJcIFDTCBgC5QUzUjLIlO9rsf5TMKArnh8vavhATNPy1V2mSs7dBlrW3//+1jE74AQBQNbTDHzci0f58m8JTqlU7k3RujmNawYA+kuxrPZf0+9LNwt9JM6jkv3GZdyAIfk8qfeKSiNQ/X1jEa3yWWyHKLxl3oVGXluurhVABBpWaAZomUQ6RwsGcQ0SXnMl6pSeAmj0tjT+2jfPrDxgNkXJmiMcWaMFhOUDRKTqNmzgpYBVuJ2XnSZicadckayzeudTD70D2f3oDH5NmwnP1BPGP4LAS2XIgNJIrxOBw7yitTfMjWQHl2MAKkgAJh46JgcnGRAGjOYDlo6JRYNGDgSNDVH8ulgKQUFEMG6JRMPcAMBVSVWHU8+qm6S6tN+3I4MiOV14V2XC5yVk7LGb24dgiPwPCpH+tNxlEqHaJt89EIrtjuTZKSZYa3/+1jE7wAKtP9tpgjQMuYf5cXdZNjTD0aTpisPaMgcBWUT7BfgMNOI4PaOlZkPMk6KyrS+oTOFFpI1AXyHfTKhIUICA3SA1Zsbwi+IgSvUULtELQfyJII0m2+T1XHXdRwfEzQvByi/P0zA52ekCDAVDyWrVMmFesql+ORHnO+V7QhjZFTivfz2hzv0Od1UxvkOhTywLY2nZFnGv+mVGtHq78XCeQxMzPZk+WS20aXJAHCEciBl5rObtsroDAnHgpA0JI7qQOtyhLwpHhtaxUGTAoB05fmUJkgpEwz8efF4KA8JCoqp1hKUIofawYoQ9inXPyQA7Szcfx+sBc1tyRc58FKxqBJQZ0m/VphVQgy2h4GaR/CFi5HFC/62nI8fkBj/+1jE7IANgP9XLD0nsjqfqA3MMXB9vop19IFmfSfVj9PrpWJ9gm8FbfrXS8FCWw0dKY5GmNEia1eB12zKYxSxDUPIdpFT1WqlWpJLtbAAlERQ1Lk9QGW0k55uhNbSoR9gM7mwiyqu5IT72kyGWX1vm8WOz1UPHrVuKdTDDcUu2q13SVNxZ2h6hqgXKtOsaDnsDwx6mTvWaSJQm9l9LxtPOhz73TQ7XmZEryMmIZ9DPHpFCFN4gDbmnFUmm7dSwj+JAyxRkARMBSwKCTFZ0FwTuappD7DUCcsZ62fVdqecMEZJDttNPCQPMKeVyy3mEVR4HMSoT86C5jOfVR1EqcpyRQXLKrUJFTu+/IPE5lJEtTUWpmSylhNVDyybHVcPI7T/+1jE9IBQQP1WzD2P8jSfqtmMPL/XWWqdqjXbk9Kqq5mhKoqzDfPi7ubGfZ8Qi4LlsRhJ0aWxKiqlU0m5bbABESKSbZy1FbGV4OFFGYEl1xBUJ2eiCxKteVqsewEOapP3/AOe4Pn8bIC5ezKYnesl1luGZgjLY0D82XBZzkzmuWfmYfke8JJkUTQqC+Lb1V9MymiQjRYnXxGMczhyPJcCm40IauzWAkBShCPLQcCgbuAJhA4gskE7RQQqgBhXCZh55SgDPDMpGhVgAl13/FZFB6dmMqomqhgZa8Y4ZoUDIiotsvLUxT3VS6ljBBoLh9sNrLWtQNSQDDdKsFG24N+0RE5TJnXIFbOmKt+dgd/3IR0fFX2NtfVE09B1+l/l1nL/+1jE8gBOEP97p6k6Mi2f7fT8PL6et4lh51/2Cx5qMSou8dl/nWom/HGrPV4sCXcutIvZswnVAlrshSpSSpINe5UokGBUikwpS7ci1LUAEFuNxuyQANB7PFXKnWVxazlaOQWAzJKHKcS6eIbM9VNozCjYTcdxNl9sTvXLTZCwiO48IBf1JWS5pP3PPBM4IUB/L/IWZlnNxImjSbrPv3C+VD2rrcCFij2MTxNMq0klFOl0zZ5ChOu0BNaWSSSxxV6kVzAW49j8XYpRrzEuWoRFC2LhSNB/RNr8k7cplyx3Q6Q/2iuosjJGYUNRTjFlRYlqJMK0ZmVAkLSEpXRFeEriYEBdSUocSeRnyMtL9jfy61xpfy5gP0CUi9C47KxfLxb/+1jE+YAOrP9zp6WUcqwgKZmdYNccKiny4tA4iJ5UbbaWIZapxqevKCkOg7jFJr+9JRIgCYMUGevKBCj2VKIFoPFyPAwII5QRMZqmjLBzzsSvP5FQMNbINowS1PEuh+oUQQNQeCIDgBlhEGgaAZBrk1U+shhoYQKrLJpkEAxkSMDqQEn1NshdgvcjigewhLkuQmanOBSjIhYk3JKyt6D7NkiHrSHl6Y7bJkKyoD2jKcF21LwoRPkzCMkAdRAAAanXImcBAgY7jU1Q7JcKqK8hqJvyBgF4CwM3rDDgxg0SpCotmiqqvDszW3WsAMKB5pEVPwTsaZighES7C9/zaz1ATzy1UcYBSziFCMCZWUpf/JJJLasuk1wQ0Bjz+M1AVrX/+1jE7oBNOP9pp6E2cgMf7PT3sXeHNrVB9cWUh/ZwkGpCYKwMS0dGBjDZCQS8PCocmT13stLR97LsqiCXZJInInAAah3JCew5Am3RGEU3A2ykZh7AwH/J5VjUze8HsegVZbXrCnSCnYnkywKUsJ+/oo6maDZ/HcP6PpHE4jQcUs3oa6XQLDRYPpN3ev/xk9mrJCeOSStKdiqsHEJSAGR4SimCKkdjZolHQTCSIIHSz3TMzeb/Tm17gA3dtyOMAKFTimOTAnALTKSpWnQLiUiAXgXStXTIcL012qEpl4/jJUGcSLQ3idkpXQ/z0Vc6Rq51YkmaJqUjPmXK0ORJqpIM2Z02eUDDkq1OsqhkfVad/4U827VPqCvQdtp/SxV0h8j/+1jE/oAWlQFdR78LsYse8byRs0dbZkKV22V2h2zt2nlr4T+idC2Tc9zCIMqpD4mYHjjVABqqqqAasWhDDqtiI8FVZIl5V/vlBjPkME1ArIbhG+rKTmbZ4S4WFkaCNAeZWEhyPeLAT6bIGSE5SRnET1+k7roggmyROJbetJy3Hs2oBhP3oUX1ZjLTmfjI5N7bXxvhGLyYc9J8mByK46HPELdTyUSRScVuZT1LGeaVRCejrlypAMRjNwW+LdlZ7AXnTS0K56mtglJUAHwcFmiSsorNOtjYWRAkWYK3q92GCpleiGpR1REkI+DsMpwMFoT/VxtZji2KugnSIhKhVKhlP85TjZlYrAzhXH6rhKZ9CP4W05LGO5trAB0U6vcR3xz/+1jE+AAPrP9rp6GaMhcf6+j4vEa3E0Jmnop9JSOXVNs2YyYPpUJ+jLj9dITTq5wVZqWpK1IxiQxfbm5OFsLpEfFjfw1Izq9cAlXLzl0KWdJEGNKSyS2QAEd19H4hAYUgEOFqh+DyyiLgVnMBzCU+lpQGiRo8weGOgpFYw6vbnkNXy9XSaJEEQitQl4U2ZiRcllhBBHlogxH//ga8bAzzykxVe5R1I8/HNs0I6i0b5TAHJpcAFEqQGVs0EQVOYJXHKK6VgsFg6YbwwRyk9TAwzj0ISDVMexiJT9EwciUpiON9hIcXJncXzGouslpsQbZ7YrMDCAMWMQwzU9ECNCXPKOo1woSpZlkGiVaCISnhbyTK7m4q10fqoL0mMoxOFuT/+1jE+4ASZQFLLGHjslMgJ42cPKL4+yrcR7CNk1LcU2dXiMKyyUDKA8Nol4i5akQcE1WwJAnDCDUF6ewyEGkki5TWP1UhObYi///f/fUABGAAxcDSEGAR1mKQuUDAwD2DeImGBAZeDplINmEJHGQq0mBYnv0DQ1EQOQCyxVzCVFrj1JhQzjVWs70GCIO5z0INxh/ZLBVh25XD+900rWgt1qnIIaGgCQDoTB8VAkfTQdcaQSPkDpZO+toesiYMlWP7v7FGSzKopkJLDHdYfQkIhEEVhCZFKJvxOD0CgqwAEH2nG4AEIYyaK6OUty5EKgEuzk9VSmVXz8nxmY7EXNW5YmeYRZwUygLGsnBJhKxGLf+nEk7M/+TJUOYwcOEpJ2P/+1jE7QAL9P1tp7DD8p8fqBm8vTYIztsnMpl5YKZ9foPWHGw+nGIIIlv7fZU/JpoBQYJXHJLsEamoTLJ5cQrjD1hf/3gPSQAQZATKgAK6GAl82VjEQdF0Vv1WaPzNYPDFmclEpkuxeUw7wDKU1NLtYlhnamricNF2d1jzMG/mRRlq9iR0WpI491QrmXG4h0JG5eTfn58nOh29RG1zMJeOZPa8jXH//8jnF+nSuOC/9oqKUCoJYaaPOeZTD8TKvccqj0/5po2J/a+8AIBoaYAf9Q4QM1xhrXEDyYt30H4utyYaPDCUws63Db20GOb0Pl/tFRgg6ZYnAqmBj4irCKuE48MddvPrQli94p3sFmQghzW2zd+mRfpo1zyc7xSezx3/+1jE7oASAP82bmkpwc8fquj2Jw5wb/WVWTNJF3UT45mts+KUj3bYJjno/w/x/27eF0voUQonQ4k4hcV7r198MDI4GRHVADAUFZATrTSSJLbvuroHDJpXDIwmSpg1mC1WIJ7j4rTluD35zqnFyhlk8x1RMKjh9kGmHhxHu4yqt+n1S+jKUk5jIpxfLzAf5cipEDT83TsyaNoIaXaqQTChOZn6JA19xSWvR5q6McRtZ1Iu1rq5WKRzJ2vnkGehJnOGxySaZlK/gNbCyR70//+QUYEvzLtmAC5wAEcDMsrZkqvCjJFRKYKFUX8RvW9IFYRnUum6UZZgk+oEGABUVuy/Gttxib/OCUEJ9phFAWBQDhguPW8UPtD2JyEalSh0jeL/+1jE8gAQWP9JTOHhshof6KWcPP6qUZF1yc4CgiiOAwoFdIUyiW7SdRthUOC67LIMPnI4j8+XwL0h5A8/C750d3JZ+39JYcOFq4Kyoy2JeiySrwag8lPUskxBTUVJsttKNtuMACMVhLs/kSr1RDQxYUK2qFMOEprKNaGiMIF2RomIGmhgsDCijoP9igL7F1md2yHFD886x0VTrbM/tVj7Kp2OKixlszCQrqEa+0K751v199mZmYNEtqufP7gr2NMLDyGnDoxbTUhhPyMEFIeI4ZCJONC2haSt4s3I5JJJawATWd/HQ3b4i9Oh/e0D2Mv7caVwoGh2bOxg9JpX7RJhJOf/9RyW/1cv6yumrFe6/93puAFkYeWE4T3/2smkhr//+1jE8oAR/P8/LGHnujggZ02WYqikBgE0YSSXzrHWjjSAXJpuISyEREU084AgAAGo42wA/j7gQRN6sF+hy2KKnRigAlKNHjbxt/Db7rowduB3hcuu9L+rddLlI2sqydCWQC4zwsrU6FBoI13Oc1CGWsOFHJc01d40ySt66P1dD2KlMi3GUTou2ZFnVoNHSOKkjJonqtRtnWfja2LzYTsQpYJ3Oo0Xgyk091CZM5UxopzJ7kEU59qdcsKEncTZ9BDvU72apNxuSu2yQAMtm3wfPbdVObynbnv8SiTZvuipOu8bQc2xRFk8BMcYh1H0uHi5pdButqJShCXDYqtcSDpXyRptRZI5cFw+eMPROKlfzX/0tsTqZtnbSNLkqTj8WdD/+1jE5wAPiP1rp7H28Xce7/T2JH+xCGSx9//FX9dI+qoaQiATDxGka9Bo1JXpUR05YkADkAbASzEUddN0mWlJVVadbHDk8qdhg/aJkiYRscBPN8CNJ1SJcj9ZNfY5SKyZQMXwjjxoju62WLtLeNlTKIHYk1eDYKc6AopCWepROFKYCplyxR0i+5HdRVUZELV+GbXJhS2llTSepeDnDcOowxYW4UhHJ4nolrAORyktOUuAakqsf5e6YDpgaaFejopkopWsRgooT4jbntD4E+Y0kg0q3bZAAHYpgSSFZRBjXE5QigbWOexemEAGS3HHvINOeyfZ45WJUqie+K3wmM+puEVeCNWTH7wprFBkkRiEd+/lQs4CIf/9LNspY1ag8pj/+1jE/4AS+P9VrGHroc6fb3WGJh9ZNvofo9OYsB8eZJSiZmdfokmzs8crUKB+MFgSHM8Kxn4SANeLYHcYBGimAF6Diwgw8HM8HD/DWqaS4gdZLwm/7JzhOXcOFNA9CFB07yTHvMVD4SEChjsdMBHoC3MpDaNDuJGNuiJLIzKhpxZo3fXjES1atfmE7OU0CsvJLBz2x1iEajSB+NK69n+VIAQBsJYs5vO/3cHyebnquEluPzHoTKZR+tLCd//zZ6iQsdI1VvOf9pqUglWeu2fgKOvO1mDmAJGsMTQYDBUFW9YIACU40gAB1OJinw0F7QoBhoPoC5goRU9SnkMwx8jCR+8JZbqie8z7DQv096YpaGf/FXJJpuWThS5VEiEQBCf/+1jE/wAUOQFfTOHt8cif7nT0stZdS7nlo9h/FJfEKFAuubZ3sQQIhEKD+ff9d//+oTxXciNgwhGyQ3sBvbAAIgPsOTA4qm4DexxCAjFHT8BpV4mUKECyJO0WYLolrTHSW0Z8hO0gyrcDjm+ghNWipL76zRPQiORDI7POqPnQywJ6yZtEdwxFd+NUViAU0NHhNWmBTYN+WSTlrhZDpBqX5SERcwdHRfJK7z8yPiqUpKpvprG9WLJlszgBtGi0SQ+BqJw3NRJUhSDdPpy2wAFpUe0XQdwL2IYSa6HIzsKdSi6OHHOSGTkkk0FHxefzN2rPFtxajkrgLv5YSJXTCJypD1ILA+2zJiFg/jWXvC0YKIRy4nurYts6fXh6NgfLuRT/+1jE+oAVVQE4LfMQAZkf7OjHpV50eJWVCD21iJFaBrqBQH/HPk46532BEo6AUKfV2cRvY+XGKiAhEk2lLJAAnjxF6D9khi/7/YMDsDgtiRjnMRfSkZEAPlGBjCXlbi6SO0Jj6VNKIxyYB+wGohH0hzxSqNrmrBxVeHm4Q2E5liKhrScZJ0kssikY0QzaUkVPpT605UbixOWjikix29gUMzU9q+NRPNw4SfQFjv0trZyHiSguCSVW6ZbFZhwSkQACAAJZYAE+W4EsISVsDMDaPavBx8wzz6UQNXs2rxg4OLNBWWXobNkTbLvLZgp9XcnFhSaST2NJs6yVqBjUwo9rzPrYbigZdOfdKD9uMPuDIdKsLYOJzUqIUlC4mRKZUTv/+1jE94ARhP1GbWWHieofrGj2Po5yRSkXscBmUiANedPzwD/W0wp9PI44yVo2jonajAfAQlUIgl5+H0ccETRliKQnpJ0cmhSzL0p0LrVMQU1FMy45OAAIABmkoAHiEaIGBWdVVGRp7QzFwrzOQBfIgsIl3xRkKC5AQloWxwYGIhpSMBgopLpDiehDUFDNSmMHnpOsVD4W28kGn6JTUiiirXWVbjeyZRG5zanJ8r6OBarDceMiKVzje07P8wt93iEzKSOxP5/+3IRATkfTkxxxXmWEklxolafZl1TTBtUkLG+iiv7WxajbLbmkm1kABqZPiNtOKpre6oxT+FH1Bi7XTlc/UO5MTJdb/bJ8wmDT7zLrGoVcb1bcYzxhvKBNGnD/+1jE+YAQ6P9drDHmsmSf6SmsvOwYlPvT/L+s/KfCjwmjV/FUX/6LUd1eZUJ7yG+wEIaQqCnpUVMIRMAXgw2eYqTWUthNB+AIgg6rHMhn18G4rS/mmY6kK5/MitSItouPOBhHud0QoGxwUGDDY5m6dterfwcDo4Sp30IqCXlUUCEhk0uK3kM5OkcUnaiAxPI50pM5zXxFYdjmKrmRnpCeXRMjc7sVxwCNgkqOQDABJEwAmANEJIDXn/IZQtva6ZBwWkQHHGYlinQiUAg4Rka3IhU9LVSrnZYgChLsEAyzStqdKAOCggLtPcgVMOMOIeJfwgEuKbhEVgCKnwyhtjpRoSQeLAnjdVr43EIJsvLvljKQhaE4yrVqpPYZ41X1Cdj/+1jE6oASEP9LTWXpQUAfMDTxGxeR11aytSeUU/5LWb9Ms6cJ+fsSH1eIALYpw1BRRwvCQIQWZ568oH2Gq2///9CAGpQHGoAB5EdSmsZEBk4qAk1S05YWzWZKgU+K7/p5RZlKte2ey/cE1PmItHiUBRZ3E7HnrszsXXrvTalc5x6KX49Jrq2KP2lx3HCzR1ICligkukFDA6wiTkddV04MfXIEn1Nv9H53YJ2s61O5j12qz9VLEE5Uq8SpeXjW5Rc0TxZEynyADDgAURKE0hdBZEcYGdQGci/hk/4Bp+ChEst/AAUbS4acQgiVSzklh57NOkiilyS7OIHIRkN0YxDgGvwGO5C30DFS1qDejLqn4PMSMMoc0sAMktQEROGg30L/+1jE/4AQFP9bLD2LsoEfqV2sPT7WsGs9TCWXWj8QnWwbrQLDiLkNLAw0/98WdMzMzv0pq+To30JSMIJMCsiVDzyWp1koFV4K/0/gcoVhB+pMQU1FMy45OC40qqqqqqqqqqqqqqqEROuSF22QAFphem68a3PZLaSM8Anrh+H2tG/oSqdfew/4rI64eTC5I8jpG+c+sZmXqLLecsq0M0UnK77R1vGqKgSliJ6Wz3P2l/6Uh+d2951HcqLJLYFCZASk6ZWenWbFUME2UoBpxWMqRuAA8ICQ1x7E3R5vNND9g1OlqpslSNjG3Qi2027roYbKV2uJYrBlsHQtmQ/VUBaIKJkwkEcXp/Vkc+g0gCqjLH5jtIzkP+FyNGdWccN9Bzj/+1jE9IAQhQFdTCn8MlSf6A28sXAnWQn1iQPIECCZMeUIGULNExkbVvFNemlHJJYi4lAAFSNUOZUHoWMoB9iwluTg3iuu4GgUqtKlhYlvLMgcHJVXJvacQ99BV6IkUCUY4StXy3sba2f8yg/AwCdAyTTCPCYlATwlrULOJAWFKF+FcCQAYCEEERaPVFV40C4H4pmBfc2xGJxON4YCcfwi7ibj/LecYxHM0C8IJoJmQICw4QRYzvTY448CJg9dRP9mglxRABlEIbIjwk1JVxYOizWWtvJXXOvZ3WvPMzUgI2sEClaQS0oyzYV0o9Kyx4D7Q/J2tsraaLmxFh0pk6d7cjKMmp1ATEcjKOZXOStYTZTa8uDDD6FdJoHWNVFlvFv/+1jE4oAMnPV3p7Evsa6frbT0rj4ZXbJV2sl4dxNCaMKgHKQgMEF6WIiAtIi4RYk4nQ/BYopdhEToE8NU8iCFzPIyUiawj6iV8OJIyGGLmh5zqOMkACAAACaTMbhKfDtowJDgVZjpePaN47i9tjerWbelknKv0zA0VFMnR6jnWGWRmTylUhMQC8mSxotD0We9cE4ZEdSIg6seE4oaarQplFGlWyUtSNS0zQxohZUx7EyPUcgrxunaIcbZPSFhyBGEK5KBllEIycRxLpOJdTpw1zeXatU6EJV7pIQ1dkZ2p1wAey6ZSW9qwsN6JRiIesj8uERg1Oi0oLZXh6W73YWDy265RmiJGPILgOMDE/gc1uPEolHRPTGNT+j5LCSw6OL/+1jE/4BS9P1nqL3gOnGfqrmGPcEKHSceLznrIT/9QWZ0hgWF14PJBQRA4IkJCxQJCGTwFRjRh9oRt7toLPxEkgfVaZd3pohbJY4AAjIWDCEkSHcIOsXkkue2b4zi56BX/lwVDoeex7nh/LVX9tJUjBcsYfOlyOdBtf6raN/EsgdX8tipJg7SH49R3BgnzCuCEasPUvXiMqAZhg1ZqMEN53rmm6a4qk18jg4BBQGKhSkRxFLwdbBKz0zGQI+KDuMAnN0ZZH4bcOGhEMQmN9pbFVb3Fbi1Zkrap1l3XBglYrUabVlaKlhZZciN4GGy8vuQEc1eKnSMhaEOMYdEz4ZVtZzhEFkQa7DOmdSd23Jsvm3Z8ZhkrhQfSKHp4pywQg//+1jE6wAQkP1TB7Hn0c6f7Hj2JbivRfTrMXfpOFMZIJl0hqI8LyVsYeXwSJIgl5Wqr3Lzqag4K8C+agd9faoVsy7iTEFNRTMuOTguNKqqqqqqqqqqqmVmdmh3a26yAAmkUjDNBBYEKdE4nq8fjIKEzk0c7UD0EMF1OIUC51DrNOaVOi5hAn7nVpGyWiaRIo5Wigo7W9/dyY/l2eWZ1Zzs0l3S3M3/zjV9NI8rbRLJEqHCiYlGSN22XWtXUWy2BaTmUKA9QiUEJ5CcRXxnOQPw84hshyOKJQhIGG0WIE1SXNV/LZnZeVHrjkshAm4hx6zYfyqhwEceYRutOVVFh4fAYK9blUSEyw8YcYDk1bXLR1JJi6DbTQyQarhwEVh2lGz/+1jE9AAKHP+R5KBTcucgKSWM4DK6sQ+aKNkUCY/7HIRBPmlwhE4dS2tiRUxBTUUzLjk4LjRVVVVVVVVVVVWIJSNuJW2wABMoUd5qZM0UcIHwOssQJRVq0fgsRiGMPKIerTFBE8dH2h1+a8xVMfHMhKFRiSVEdF/qgSI33cMzpdchDmJcpC1M4OpsfPHc8nosHwd6DWpUf0KNVq/CIvKR4QgPEQxWHuNqozIcTl0lhIOgFVcGesLK4o3SXqacs09u1QB3nu0WLya2RNibQRNnnNOA4JFSpwb5iYUOniOPE9E21D6LxNi2tLq2Ebj8+OI6tGx+Rk5qgGgzaLCMSyeenFS5R9HDigBCMnQRSiNnxMfUPi8GmwwSkYrYaN6+FK//+1jE6oBL8PuJ56TLugWf7jWHsS5uw8dHyySVK5doGQ29hIUadE+lBAFD6kxBTUUzLjk4LjSqqqqqqkQm5ZrLa5AAjOiYuVE5HeCdURuoaqZGYoC4PKArSoEhAPCIAIhZcUeHCFc4FZxkiMhLHWExMQpMiBA26o4xq6dlkfmoSEuSqZPnjhDbPUVST2LpvezUby1jTFTeNp3lTJ2R2zRdPHLi/lhSURDyrX+fnOtDkJgqAKWvjcm+2tu0B4wiXWNAvZ+qg0UKWTZPBSG4K+LyZJQG5WuJO3OzJEa2xOLlXDoV6QZlDNbQ8BIuERUPgeXMiJ76eAJh1ZWeQBaOZ2MYbsDoPaswLJVSAWPGTuOF44ibLZ2rcZoeS5jTTCdFdN3/+1jE9gBPmP9vp62MMeqf7zT2JpY1bBMom50f8V588fZIHiCBUtFIdx0R/a3bddbbdJAAQ1JjWBnlFMbok0oQCyZAMiQjohmzerEzSs4EqJpao9Z8xTNg9MU3cpZnrfNFNn0PFkSJVjpcevaur+R+zZxCknn67NY9XLQ2SwjrXa/p7S9EorJBU+3lJpIqMpIkwAnEECZjBqZrEepqoHGSHd9hwUBk6qi6RCXE5YreiQtKH2UmBSFyysQuKoqpo6yJywgltgFyiHONJDl9yXog7wQOz3H6Agl6VbqZiQwhJLTSHqHON8F6ECUJfibjfL6RQrqoJoOZRbQskpdYYfZNXIpAbgQ4jSFsLEm45O2FNHwQ9UFtiGUSzatVpPIzApL/+1jE+ABPQQFxp6WO8gagLrT3sP4bcN0OVxciAnKPdusawsYjAKWIe4HURqX//3IW/itSfsks2slssABHOJLxuyK9jnenRVJPj42MlL0WhjxFKgXEfG03EaZ8085FGN7WKbaSsBooR6fSViKFQ2ec2mysft8luZW80kBVk8gvZNYQKJ7QnbWPcjeTUhsV6oQELKMnTBs4UbC6aAecZZccVe3pa611TQBPQoojO8BddnpYDWe26AFjZdeDokkmFlJRRVHdlrPXXftR6bnJtfi1XSX4RdKJW2hl9nKJQsmaup9gQSSlmnid0ACFmJDNvZir7M1aUIWOyzCBJI5rbCWMpEJw2j/QwJWo3Ncj0nYqxkl9Qg/EPQ4kThY+F9nyk1L/+1jE/4ALzP9/p5khstEgKLWcPkaeKEoe0nMcjWpDtKgAWj4Exa+Up4E+UI7S7D1GsTsekMec7aI8EGoRfEmc4tUVkBX4H4uk+TK3/fl2UAjKEeD3HewMJTjKFnJsEbNwjIV58BRwRDz0qCQgcaTri3WNeVzMG4CR7OzgULTQlqy2Zo4jQRBJEth8wHx2CJlUq8mtn7ZPEtY4OZyuXpuKVzIpOF0dBNBudIRY6sZwVS2cECRzKLhXPjxS2vQntSHkB0fug4JIjrHEAAFOUAHx6P7MS6oJYm2QONCUYHbMQRGQChQLYIIyBol5ychjOxixZsFpixgZaDhBcZh7T1nwCztPyNM/hyQvm4kia4hIcV4GSNpH2myh5mdrne6EvpX/+1jE+4AN1P9tp7EucqYgKKWcPX6sSpcr8xJcixKZjrOH9e6VMAVw+8x9E/yWqmUmeNeZMovwypcawBfhdLhoJxY5EGGQgCKiAct/SpjrpSHXqKJQHkT0eBCNh48eD4XKFtl73LfRl1SDlUHknKaGIiuduMMQ6lU4UAVt0A8bRHzq1WeHNVOoBSwprBNACKx+hHBWet0Fl5kreXnZZdscSsP/WGa9t539KsgSGZzTkyCFcnZpoAAaHsmUQX5cx1GdGLll6Q+N15PWONngpLYIrBDAwS1hCKZgTCcIMRONv2T/9go5QcA0tgBuPHyr2nZU8zKuEtTpJXEheB/DxRJYUmlcsnuGOP2OIJmEAJhhQpk9NOTykSRZAaURckh1KIH/+1jE9IAQ8QFLDD2I8uMf592NYZD9SmAmfMNeXAiCB1OSNMiAaZQ5ZIidotNAnJFzkDgPwNAkAcGOpAFgZAUVIHYqTEFNRTMuOTguNKqqqqqqqqqqqqqqqqqyz2zXXWyMABCdHETfP/h16xfE0vbxAmpzXTaFsHT1jDxG7cWREqR0hpi7d5nPm587u15yzWLV7+1u0CJ+G1GjZ/3PeGa/YKsJqAxzudyIRHY63bZLZYAHlph0BFVDUDDAyGTLzVgupXMElTloJswIJjUm8UXB+ZJwlrCKT9JJ4Gp2+0WRxPJLw7IKIturmF0nVIdwznreoYqSnYUSstc1G141pV5HVW256yHM2wVxHUq9dyhK5v2zuDc1NT1HNMyMfKRmQ3n/+1jE2YENtPddJhmYaZ4f6yTzJnB1jEwP9KH2inbee5/I8uCnmPlqT7lEG0xBTUUzLjk4LjRVBHH5qpAIC2fFCcxgIuSwSDDkuWjSLIpboXzpaLYvs5JUPkMgupeFJlDkCnobCf8BgmjsiLRDwb5blcXsdB/KxDNNyrUcJKnNdrMuK4VQtVrSccapxOp1HNSNTBulOK/AYZi6jeWITtiSJ3PmA/TqSZvrcJlJEf5zMiBS25UOSW5SkN88U8qC/qZ5ZRlstDVLhqOOV3W22ywABDEggcogdPYRRdEErvwd3REfYNTpCmkhECzR4mJUZkssj55GQj0GKFKj1yJsgJDZkEhKRIkDzTjkEyyF0osY20dkVOS8SgfESHV7MraiTdr/+1jE6IAJ9PuJphhv8jUf7rWGPa8wIkyMSn4mVMko+Elypskkdt4lFaC1FY6lHbrJI2wAjDUVmae3BDkTHn9pInmnxqijmQ0a0Sw/5349RSmS6ViG/pdHopLjs/aKw2K8AxWFsc2SXBVYvL4lk/VS8/HiAvr3EXOKs5CN0yJDVLFkOvRHJ86wzrLXVXHZ6U4ImGV5l66HztIvWyX13JFXXsmk9JaIzDAZRRQmpyRuVyAAHpVjRFdXxIFITGOl1gVRsZVcnnVWmNHyT4P6GsoxTuJAUPssTK1wQDEuzWVCkHersIN5OeyqstUUTNOWZwlywP8hCtcUaeWzkfJ5QDKs3GI4og0jjFJOfMr2L2Pa6eLtEqGEsxWKM8UKoXKoQpv/+1jE+gASKQFfI2HhcbgfcHSXpC8ep5nqiVAk0cim0nKcbDQL+aLkS2w7gyxbiYoaIAeOFrMzHJtLdbAAlFOpTeVZyEzx201LIox96IAjCYin33Yjkd3V6EeOHeSoMIiUT27jBccOKn1mJ9YkRoT+gmQSq1Em5JZRt0vc929/za7MpJpbL0eqZANxR4ifefLQvrSvaZ832VYCiBAltzgAZwBQy8joB38MOBMoIHt40AMlBPYYQxAoAKWnVUNMBJjmk03AuBAAYqJhAOtBG4W4jwIAo3pnNgCoUSmtgiodtpyPYQyFOisIsEjshKpGeQev6JvwsJKmRF9kjmWgFRrO4IUOjjA0pLeHIJnGiQo1N24UvV62stPXg8NuHWvpgvr/+1jE/4APvP91rD2JMligLXUMPDc0hkrTmVptO3cdhfsjhYhUsYGijyOQgKzgZAhKYpPX+RBsa8WXKlf69ZgFMJQuE7aKp01IRiA4sV20db/+n8pZpYqW0jEo7LAAhY0D2zz7dbkLwkwgHR9jz2TNZl2uymB5+bXTR8tf9MHNUC/bN7h8b3FzslCqLgboUiU1cYR9gmAaSB2zheMxiqnZfYVOmysJ65zlZ/pveXZbOe25EBGjVs6MSThkbLJIS7WhgAAAE1gAHOJbMHABuQuu4MEVnguPAQUAQow6mQFN4FioyAZS1LJmMNqUJEBIETkoU0oPMNADBn6Kt6/AJQa+poFMgk2+X+MtRqDIGQL0vMwCgUXvQW2DF6CAKBV8ICD/+1jE+wAMqPmBp7EvOxogKJ2t4YrVeqMkIvNRz23BRQpZ3pdVoaba6NUw0+5KdItlo6UUReW9rMhSIxDC6Is3ijV5c3Bd6QppVSPJ2K/DN8vY6yeZUiq5PC57qgqPFCW1GiyC1AObqXZTg2RDQ0lutgAYNvLQ1iZhaOqA3i9MbQxC2MP8Cr4NyrplG8Bwt2Jx/JN9pBdaKtpPoMxdiOHGDB55hUalcFBWxILqEVW03gxiZdgmHAppx/wliIESCStVgFAEaIZAZQ6y3PGhtGloSS8wDKESMJkQbNFXApT9ACXOFpQ1CGeUt6EEqcFS+Rxepnxok8YVyuztYHrOo0OJc9VbIOxOHQTJRQpjGOfB5HOdOj8Th1KVxZZFov4+Bar/+1jE6oANTP91rDEycs4gaCm8vlB0ifUFLiSmg2oStHY7N0uwny+py7midI5l29P5T3WBunCpXFgka2wnhtE/Gcz0y2EGIUHZSoso3LZJbJAADIiuCTEmKuAgoz0k8ml5GghSJKHQ6VEokFkwy0DsUZbhODKIwElYem4+k1YphbcPYVuCItJdHk9fudgdLCTDf2y2vYiPcqWVnNfs4b++n+8/kSJAUmZgTDw46UcrCvFC6zKs2eH1TOmceLBEjBAKgIpugA1QEHEhkSfIWXvEI0wJYWTI9g0igAh+Kq2PcDSIOKu5F14IVtNXWqNay/2soXPw/78rddlQoTQvkzOyiztor7cdaNKo6zWRRTwEKeEHNNGHc3GlY5B2hUPk8p3/+1jE4QAKSOeF5iBt+mUgKrGHvXYIJYkwwyzLoaruMc7U/PgkRlGY2VVhkK9ABdsjwr35pJQFUJOfyBIGTskbe/HdKX4MoU+GIujHZyFUcaJGeL+mTpXuwgiIrxj2qkxBTUUzLjk4LjSqqqqqqqqqqqqqqqqqqqqqqqqqoEFgamALp6cDrGQSz6VRK1MmXg7fUTQ+GhJxoLASiapoScFOIhR6jwgBA0EiyhIECjAAfOdlEmmekiHLRJiV5rDVULZlqZ1yIWRpuURvVzuTEUFfmxxhzepqtHCivFbXaJzhGYP7bbrt9rrbYAAg2jtLJc8gYXGBaKzqok4IWSmmRw85OsYyfs0GNRKa5e6w+lc2vnKjZkdz3cPhEtCA6cHtGE7/+1jE8IAOmP91qD2BMqogKKmn4qijwpiU0uoJmMs7uRUi5YsEJmpAaJRPakxBTUUzLjk4LjSqqqqqqhHYi2m42iQAUUb5BGnIzCSxJnTMVosizjzlNsDWEik8xo221FmO/MtuZS8FedNkOLYoR9GWQIes8S8HmhSEHKTI/S+lvXo52CyLyHj8Qa2LGkoipVSTJYSdK9Vow0TlHwxoCKhh1nKuC9nCk0Y+QlJOlBYy1GXRcl4V6Vdoeh5lKsyUPTyugGi5I9iTrfhpdqEvxkrgesCpIhJxblu1tsssbaAAxXiSb3CVRViucKTb0xxhVh/+qrYnRRMgwgRqNPpp0qaRIIAgMrkgxhJyNQTSGqDgyBUOXkVG9nbPhJJMzGJmCPf/+1jE14AMvQFbJhkvoVGf8XRgm0bfTFfLQMKIM5hf2OmHOSPMR6JvCABAPUxBTUUzLjk4LjRVVVVVVVVVVVWAtMEJ1VQAHcVtWBdoaBXWkUJEs8EuC5ziJ1KYj0hwky70EQ7XYmx0RiTVbs+qGwEA7zfPM2luAIzJH800FYOGWaCR13uUms9sZjENOPGXod5gaSCo3XYizeOqaMoh2z+RbgwGKlS8ELQ4+GmaET8uzSM1gSp3o4uox5CVoMeJumWd6SGIvj3bDuHKJMqjQZxSVyZJ7I4sZyh2mMEfVQQycB6P4k5QmSsunV3hlZme7a2AAYRwc7U3fXGcG2XqSt1ngklOmsmo/Ma2bejRRo2QlzKsjEN8XRIaUw9wnmTHNrn/+1jE+AATeP9RrEHsIX+fL3T0ma+u93ePy9xxt6bNgVEXAHUmBYl36xgliI45HJJG42gATRk0ea/pfKu40LDAMEjkz4KkqNYGFzw6qFdQkJOp0WCsCF15kemS340kPpVpEJxZJSmC2TbWG3bmRihHJWJJSLaKpOMUhvqpslJCXAZwD84fmCl7HDs/16Go5Nm+pWUqc7QEMw95XDSZlTCcKlgBgUsqAEULdYbG31AlUQtRnzXg56DJiwDCK8auhzV3NCyCkXSZ2j7OE3yRkiUiMjKdJH+PFxajNPpshCKqcb6DPlbTrGO4XI1UCWg/U8otkLiKqdDS7KRvJ8qI75cqFSNz6RVP5icwT9OlTw1GjF0S1tgkrZuiEKLuT1NDDJX/+1jE9gAVKP9HjOHrwTqfMbzDDT+PJUIQMoH6K+NPjgTqDeoopz9UO8yIcvnTETDnSowxGa1wBMokdN8OUmGDFGgMZeMzfCLC0jjlT1wtAHKVOFmNZeuA0I7HGKSuCB4lJD7d9xyzF7OMHzTImBt6WRB61cyhabCoBh1GPsZ+Wl9hYYgm8CbgqBJ1QnFSXuEhJvIBVCSG6be4S8q9OoScTA/llcB3l2JwioBzlmkm2GYx0EsQKuJua6mZCVxIAmyMPuRL5//8BBFCYsIhAIAGNSKwAKRcIhLVgglaQ8PA7qm+Iw5Ok4BIDmlJRKOizaeMDiAQH+qy3mozFUrYhZs6PYmBQ1Yz8L4rULMclSGGOYyEKtonNhaY4qjOE/1fDmT/+1jE/4AOtPlxrCWHsmuf6aWcPG5MduTukWuVe3KRiRcVcr6fZIF0W5c97JBS2dNkk2EblrSwpxomgTyqeHkX82SZJwtxb01Mb5tHFHLlP/4rA57fKm6+8AmisYUpEUoZTPh1RODDhq9KWkOX5P548RO8lB8d7ZNJFbGFlpkWJIOmO5ATkJ7BpkFeIaWgrD27Eeoqy1ecV7JwiXK+BLEaqIV6UDhUujUY3lHjlCCKP9Gsx8YaxmttIuNywmJG9MdWIIAgpHvSoe8bZhgFFNNedieKjzzhBCfCOsydOZRxNIxDekrREoo18gil0ijuJCTBTD1MbAzGIdSiQ6C+OVzXcR6ZQ+1xWCSlCEscymJyZSRSOzLKdWJaIhpfVTUwGBP/+1jE/IATQQFTLDH4Mksf6nWXnjxP8mkY0RxdB868BLSEuERAXjx5VKkviUQYB2NLUEAcm5K4UsXTWWyPSbWwABuxkgasAzhQ7qTZmPYKG3QRDioFGHg7kw/sRpaEMRXkdXnRHqx1FoqFtmoKgD0ODU1Fh1pxYTi0kcNNxMYdJ4icUImYNxVz9GQ8gcQoFBRIuPCtESaK1lSdV5AtrGM0QyPTiQEe9VxoTAInUsRngRCqaCGA/30zlUj+MEmUkgDAfmElgdLGeAymXtmwodMJWdmC6ks7pZGUMOXvff5K6XQlYrkuUiiimyVKFHNaKDLOWSt1RVVUTqB2VVXld6DEkmJK22DORFVoMrT/dRzVxvus3GlgKC3rfIKgvTyCrzv/+1jE64BMMQFvJ5kzcjif7TWHsf6ExyRNMXa1CAl1S+NK2uNDWD8y+jdV/YQsxWGQ34fXisLB0w3GG1bWCtSSuf9bbJFNSAai0tbAlitChDUkNGkutgARj+EtliMAk0/IOtrkb/WCDAOmuhHoKkn4erlN6t9ZG1zcCyLbu/NntQt+fjlq6BtsSRUWsvT4KFgQptRrZ5Xe4761bbOx1tyzu4FpcHkb6BgWGMC0sBBAYFmANkEBYKEIudaKAY7MLChLlL1rROQhgxOChOQNIZXuQABQBUBZUhgTPk5ORJMKNfMvApeEEEZRAQWrUQYAw0XELw4G4CSQpFngDbJWcp7J1Qk0JGiS7mmaYk5TkIJwhDE9J6uEyGaR5ezsJWqGpyb/+1jE+QAN3P+Bp70hcsSf6JWdYVbDJQSdOMt4Rot6HoWIMJKCgWBabAnkIcxAjAPhSCni0pZUu9pwsJecFWzrlR6RRvKGMfKiaEu5lXCEkQ4hAD+D3YQRTEFNRY81JHfdbbAAGVEyRCID9csDCh0JeAHGoOdj8lQljQvhLgOrtZoQwFybEz0jESazNjMZ/caQQT9//mtDlJuzAQb/ukowh3T+F793lRmp1E7WRLbbY2mhEfcUU1ltrTGhOwmCoIF1qUz1MvpOD2QgAUYsGtAcXIrpxCHMd2ko3U8qbWCMoJYkRxwL+JC4QyobMOoyOmhQlZNL58ggk+JpbVk06HLhxXzeCM4OiVo9Ji4EJWEvvuLCj5aNpKx0cE0xLJVMAan/+1jE7oAL2P9956TL8tgf56W8PgupRgE5HAmOnzAkVUlt7SyphE4kIdBhGkxBTUWqCAAkIskwAIECI6/ILVJ7g40AFREDhYWZHYEww4JnyuTDABgDWEvGbLypI0stPKOuG1OUeyV4MRktSS7JA/VS5o+BSQv1cAdiEF0ZiDJN9IO061aoyoVayyFvWj+D7Ocg5DmMmAs4Q8Wi5bSxmcLaX8nQ+1s3jcO5CFybiFlvxg8kZMb0iuQkvpzDeUEWQ0zGTY3TvKNVkEVjctuButBmFeZoNULoBJJ+Ywc/9UWabU1t2tgACFTI+ElSNVPTAbf4sf/FkT0PxNqBhaPWzsCZHsI/ailhXRl/pCwU+UwhziDJSxpmvmKWRphZmEC/uXz/+1jE54BKzPmHpJzMehEf7nWHsY6y2/94f0xBCCr62nSPxyyuj+uUuSLF1TcA1MJDgxSKT/dBJAWYQC4BkhzwUAkIGDxqfP3xh0rjQeMSy4zCAh0fmBAoeR4Jt5EIAR0CGNwe0NEA8ElA1/CIUyyJAhzOpZElOFEEqIcD6CfEfSRlEuZQF0lZKDBG6PNbPEQYg5oLZ/jkN8gz0cRpj7O5oL6f0ZdHMUJKcF9UrEq3FGQVKehstCiSTEnJTT1U5CfJtPXudwHcZ0U7VpCVapIbOf0VFM6fXp5WxXJVUKyVkfXQoIIKSbjbACEIrJcIJI14+nraTme69vOWQN3OGd3CSMfuQzL+HK3//m+hxRJyG9giYw+PspYQB2dSaZVRm9//+1jE/QAVhP9JTWXrcWQfL/TEmW9tTprDq7pRDIFId3PlrwrlwhqPWsrxzlFtBiiWEG0qK0sAjS+rgm3LqsSJIERjBdAGAiWUXydxYYbM0eyIyEXHGf9D0FXjcpXJIZCMA8DcbzlMY9RnmOWCHa2FMxJQ01UficOVw20EwO+cRYTVC10eZ+luJmMdcR3xwpsykNjnW9dmAcxlNhpsJe2ZdF8LCgdolkbqKFD4+jBR5+L2Xzs6j8usnY6X2lEodo+zeUiZWQMohqdL8hACEKKABABXABVQflKc5EfSJDlqzEpkPYl8w2DSIXGO3ADmIxaKAoKpqxJa5oi7MlkgVaBkaFiixr/pcxMMRLAUtXI2UCIhYs3ALAmeIWy+n62BolX/+1jE/4AWqP8wDmXwQXIf7TTzJnazoJkJSeJ5xqIpShG12jYyvLgoCuRhlKw4l3GUbCrGlDfEH6cBpKZVLrCVL8kWxLxrMbOez5RLku+TuJspI6lTZXNg5aqZc5TIdZvuUFhmrqz6NYBRcw5VULWnGuyWO7WwADoj5FoKWTCFHMy+2qmm3Vumno4IaEBvzSAzsvxKrc1VPloUzjdc+D3I9ooyI27kjvfePltOPW0HjDjqO8jwaAS///yrIiLkccckcABeCeUIaVIjI6jRRNC3kc5PUc1MSRLSN0skgq3MV+AeAdsTA7k0AUBy4kqxLHNtepu1FZJMkMsEZYkXtJF0LqdbnQooz6BKfpViMxEIQKACDoNijxUiKRdPcTlviZ7/+1jE/AATnP9MzWHq+qaf5xnNPWlFITog4LHnCX0Tqohcv/V23IDAkvLA0TIAH1gSQRACcgCUFlE+YMLAS3sHECWrScsIGiAUaBBlDkOiuZnCM8bQwLQq3ZcDrIIL0K9MKmVCQfZkK58rk8BlGkWEk6jJ0kzWFuHmeY7keX1cDsR4nRglzMBNn2YcQpTdO4xZHTCUSaLkjSneuRnIYhzIhZeTDeG4p1u0BDVes4IAGuRxpDrAoCZluNS7OPBSqokJ+Zw1luT43E+HWjImGAcLv//+lYAABpSlugB60qRksJeHr9Q85S7W1N9LlI11IUOGzZAO+A9L81L6ZYEAxXVqtOEyR7OlO5SpYrnp0Oi8rHTak3bWKfZEpc8Xl56Sykv/+1jE3gAJgPuBpJUUMfKf7LT2Jf5Lvn56VI07aEfefJWCGpGlYrPlRGaOarrHKoxQGKKy8Vlx88XVHRb06t5LSn8fSZyVT86VBZAcUjTskADFRYg0gGZCkoDuF2iEAJiYiNOgWVAK5igF1TKgQs6TnKA0FKddIpzx3Y/Eyr1UyvGyWG2m8uirneXTg7R3HGhNlwrMP7mKN1ZY1bVWD3EnPmOPBYxh4ijqjML1hiTEKL+hks7wy02cqwoEcdh9n4iE4inZvF923IyHaZD08hg8lXHdzo9HqNIPkeuKWXa7WaywAFKem48V2tzydjoTrErZGQbJx8hdbLSQZ+mFQ8SpIFIIFUqLk5AKIt/1sdrfelUQOPEWZbPJf1r/nW4Jpz//+1jE/wAU5P1JTGHh8f+fqTGXsTX//GlIdCgYNahOKvOs6zjXFS2JNJJ1dQBNEke6uQh+ciEVwJ4XGOYZ1FgYkMumjVtu+9mtjACNZ1aee0WBTbFHkA1cBxCTjyM4fSbD+PgCReDPvfK5OK6d5SUThedXFjnzP3+80mXJIA/FYDyP52lbw5PLUIZf9M28kpea8pnchguzQkL3mIn2rXPllWDZCivFzx1JyeuQR+kZNrNm7JIABsQ1bEapIXQE/PMofVVOyFlqDiMDEN++ojMawnJBTLQ5mGIcs7UgimZ1Kp1akGldF0PB6zMrK+PNJknaid2Ug8CFkLO0OtRnXYupJFQjv/7Z3rEabJzLWTOWUysIWySNj7X//3U7Vbw/CrT/+1jE8QASQP9JrDHgYcsfr7T0vX7kRgnU6HM5bE5K9b0QbxfH6MMU7B0wE8o9JkxBTUWqqqoBJagCkpwCaAsAx9OMJCQCECf+acHaQkaHQaJS9QB0mGI8MnfdScYGGBmnLZKy9Q96k/1msnSrW8+MEw61y5k0lLYlYCuMntphJdoBi+pa1g6i6gSHrRVtugzaha2vpcpckSeNENCRLeFivT29W5JL7OOLiRdyV5ojNIiyzl6QU8fd2///+VskhpP6WMPRrZC0hk7OpuEx5l1lokSa+6TrSiENnR6HnfAEeg7//o/9aRut23bllgAistmSiVA7oTDmdx9xZFZtI5EwxaAuFphhQ/P7OUjdLp95+1NoOkSZ8rpqBM1yCACiJ9T/+1jE9AANTP9/p6WHsjGf7bTMPC6ihIw3NV/4NfbAYYmXi9TJN38o2bvCsEQbJbalZJAAlUWgm4kCWuV6TH2bhuO12qjwGLoiLgbKY1kJOWI1Zg0pPY25XmRWLBeDsAIIzwTfTqI2ywWSvsQG0iBW6CU0M0XvuOpIXjuHpmfHfsA8mtQnZpJt+nrkwMil3lWxMtC7hn+tKROzXdKHO23FV+GjYza2REDlQACAGliYGKZlocAYInUTgYtFBlA9GryIYvJJMCAaAQ4goejpUUmDxRZqTTkrDjRkbIqw1MtA5Gcjkw4tGkmlQ0pSgmA/AL601PcMEZWNkNU20FuteWOWwRogOMgSwkpHOfQsCK0uUPhHyYxpl4PcZ6HkpMpN5pH/+1jE+oAV7P9HTG8AUUaesDTBGxchlzq8U6iPo+2JoUJkEgRKGIux9JCIxF7LHEqrF5JF9NF/p/IcrlfbGqVUYsGGb58gdiWHSu4tKmU3JrY3bJAAwoetiifBDzqTm1C68nJ282vnVIeljzhdUGHIelKQ44egl89PyMEa71V5oVAuiRBcqo01fSrHO7F2zeF3dh/Z61F2lwy8zRjUukxrgZNhRwAAlgANJBrIncgkCa4CKljHkH3QAAwEJTCpIsCv5CSWTUUAsoAHLKA41LMKjBQwLAGNOZXBuLgA8LqIlKOLEdeZbgxCUsClj5yFxVYDHCTPeKs1yOr+FnLcoSWStRhFvXBxkEF3DfENS5sBagUDTfyMLBPKpjdP03GxSFz/+1jE/4APsPtvp7Ht+rcgJ0nMPXIPlXbLqfxPDAJSStOJBD6kmHwIQgc5xy+GmjWNNl2L4rQ+wLZZF/GgfQgCvIcQwaadMFAk//u9ERIV0wAAYAAxQqhEZCHYtJPrOhtOqJEBiAb8NJh13FDRmIwkLGH4LjLqCMRbIqQAiShL/FVjOWDv67bFGkx2IW6C/cedJtqrvPfKVgXthFh9XBk+P5aJ45cThaEY8E87XCVf6RoM5MobLC4nBZUt/DIcpnlbiQ4+bFXpmZajv0TdiRWO76y2HQ8lRSOw9Ka/urakdgAFo0HpSH3FmFDyXQp6PcZm8Xh0eJioTiCS3RIMnVntXeVLD+rprEPkILQnvRRTLjhkLSQLS8JlwwMFwcec6TH/+1jE7wAK4P1/pJh8Mtuf6A2svTr//uKHmiEjSOqkoqYGGkjOeWV0czMq1jd0J50vgZCEQVuxXJwloTrqxUwhNSABGAqQQjYQHXeAuXUYm6ZZSKgRCqIWFD5mAoWjKTMFYpEheoEKCFo7qbkSQlDIqa0fxCTkMpWF7whatL2kQp6Hw+XnBkoRyxiEEawYygNI3NiFNA9haR0F8P1KIolu9/efupfyAr5wK07SDtAiBb8F7u4/7///wmFcUbtFkCFG2Bej4cEiaJ4PXSoRA9A9BJZ0k0m0q3LLAAwcN6PaaTekSqBUoBIgcg8xpgGHChMUAeAJeaoqSKBLSdPok3Cgc9HuxErH205MLoYRqlz4jRo/y7//0EOwhTJiJEApoRj/+1jE7YARWP9IbOGJwbcfrmjEsxbjRJ/////+KxG29NQhlTytIYQJDxRlTACingAG6sEUVip5WzTpbmIKWTGUl7kJxrjjJBZMGjGqSp0NoKwB/hewXCI0FsjugQNCQmhxbxdEISglbwqDqBNojwtVeA9xUwXR/JtFLuOuVCTEvbShCtMFzUZlmmo0MDqnTwhbEYo4FhsUSGIZLGczldmEo2pXKw9zPJEXJlMNxt8Z////OZWtZ0PYZPhuTptVMxjF9YHh4kzmM5Rx3//8WiUFEv6AB4sabax/J86FCmnJRMhflQnmw/kPQDxVTHU/hOUhIT7J6qo7cViwVlRomZSA1A8C/FROyfRLhAFpT4uDwGh+eRn5+VkKCh49Dc0Wt1v/+1jE9gAScP9MbGHj0ZIfrvSTJpbDEsSiolj+WcLR8YgNJQxRUpRwj3/bzSlJ9Dj7FZipXLR8Kz7oVHlvsmjVTEFNRTMuOTguNFVVVQIDkrAzYjCqDN4pCK4NBG8KFuDwUBagcCqf8IEfB2jjJBFzAoyKsDIAiBJkg5Mv6vxA8FBAVM2gAYIaV5lqnqOaCxnREBQCIJnX6BwbgMigSGYrubitDZghwmRSmOanbkPwTbeNEVwPiGVnLWba0f0NuqSKFYliy5VPxL0p9AigU+cKKN+cfVfGzDMDVvPTlZY4NSevoyJcPtJKSONK22ADOh/N9+DQy1Ru2s1v3iFTyTqWVFdAjeTEloGAhEb9blsU282WSlkki8Qvtm/8iSclcGj/+1jE/4AUOP9EbOHwkfIf7GT3sL7Uap91tbmFHj7NNR6DZnavecv0p189pUxBTUVVbJascZUlsACrZ8cRQZMMvMxBRF9LmhUlk6m6IDKoET5YNLTxDNCApWvFkFhyUyqEmLmdpcUGawFhFdDD/7/fymznT5qnxE38QDkhOMzPMZCpLwWBDWZu31dp3K0G8oT3a0SdZAEN0dz5EKBTuSFIcwL7STNYVtk6ei2yabh/rRK3yTIpOJiMrFFhZUSEJuw5OayJW0SZDqmSiHu+jiXdbXKNT3wZPJAMQ8qCyrCqZZoKzXbnpqcpl6d6dNoJ6RyiF/SSeuN/DXKnHrc0f+RPzF2INflu2r0TNuH4F5z/J7NneQmwwi1MD0Y2SDoukO7/+1jE7wATHP9ELWWLwUSfcLSRGsfp8CRK/DhIMUTEyTy8ZCJybF8NoBwJqmk7bbondbAALXAvWgXH0olQFS2ViWWDJewOStk6jCpBPSEnLjFNY6CNg7jXEks6MoY24L7c/xt8WqZjW5OLLohPqtRiMmQUrji5ebCU2gzVRREJqsswGCiVRTvxeejaPzMyjJzSNiFWsPimexlhceu6PcUpDRgGZGAA0kokp4AapaGeQxghDi5zDSoZYTDLpKmd0LGQGpTj3cDxUECwgQXx5DhTRdjEV6OZ2UqV8lRmuCAJ60nqHMeoda5TRZGiKUQQNJZR9n5pnQo5DhRRyqpEocoWAli6P12/O4sBcMq1CFcpyZs7ciysVsyIJ4eDEqoqMsX/+1jE/QBRyP9vrDHs8duf7vWHpb7xWKAoDEDVJw1BzlKLATNmL4R1Ukynmhi6L+totXmRAIwbqmDPSwLf+3//ZQAM+FVwB7F/TlFSKGOQYCgWLGiM0iGTVi0OVWGMxkUMMlVey1nj9v0zOZVveKw9C6EzkxgOHo/mqo59DhKly8fhZALT9BA4LzJCFAlKiesEQmEce0r3lQ6VEIdh8bSjIcjKEG5XZHESR4V1P1HrrhWmMChJFKo6H17nZKKo/kgjr17QfG5q2WoERCMpxP4QCNFVEMZACQEAB8EtDAaESwEFFkGvTBANpyjUQcOVx6JwA5TFIYeVM2ja6rtpagbOEKAIBVMuyW6BJ4oHMg9yJiWYOaiCQIsOgvauTYpJJjH/+1jE/4APEP91pj2WMpyf6GmcPJpaFDAgOZCyTt6hil0JQhxd1Ep3R1TGSeK0cKYUE21gvC5U7PiRfVirXZMyFvWZuXRcS5kjWXBFknIW7foYcSKMNuUcCFFZ1Igx9i3gpwj4IYLgohekdJhCjcl1sjlkRAAtaP6l49LBDT4jUeZrMebvsCivsuHjrDy2uIxCqX4RIQo/6YV+rxwgsTczmNnO3qLhg0S5xV2Vk0TO1as4i6CS0uNlRxUFW0gAcoEIkLSwMzFSxsdgDANdPSgddroCIUgsosbEIUG4gwbQBYnRyhRocEPQbWLGJlAFCL0BaEwFuTZ8Jrxz0G4dSiwvKBco4yGNQAQkIZ512hU6aN8/Vo0RF06bDLNtMvE+er//+1jE9QIShQFBLLH1SoogaGWcPPi+34trCdpdTdVE8NQn8zIW5KV1ZWQC+o1mfuUMnKEzTuLj4MEgqwbfGmLEThlCAuJFlzdn4edKhackkbt1sAA2ZhR8GolKpgp0QwOWmL0RieSZJYeFaZgDDEH+0EFQTR7DyEKK8WYPICBAowvOOo25/Wj1s02gSMLrzjFStnBfE217RpK5q75rroHnWIG88//dQxndNBJGmGy53G3xQvW2QdCITJFQwHAJ2YqhDmwDJB7yFzFkdQROpXgNm68J8unMYQuMAZFaFDDoO1mfIovBxkoCVnepCfDsQmDCeOSwu2054rIqIinYi8DjdPIbmUhPZR1G9p4kHNJH4+YziOtIoWSFrdk30ZmUyqv/+1jE3wAJwPV/pgy0um4gKImsPMwqdRG/Y9RN1WbhjpxygR+pFGwPoJ2qJCDHO5eLe8MtZPw+6ok1Ja03LIwARJf5o7bU5UMagtpASnDataKwzdKEFkz4AgMagov9qEF4af80ImDhsmJ9spdWZ8nEJRp8j+YsM73CxhvjQDlSjxXLbC2lbU7VA55LedxuIhJmk/u1q5qflYdHfmUwqhiyrYGszEAtZGvZNQUQXIlAEofZzlP188+xFhgp5ncUy7OU/N3inO5IBVIE7ZgAUMFKyBC+jyEtA45NBd/zANNZfZdRnLwIXRSeEIHUiKT8w4DWG/ji1Uu2eK3ApjJD4BFrT0Os3z0MQ/AJ0JEIiowfz1INs6AYIBym0n1Yfyl2i2v/+1jE74DMrP97pj0kckOf7lD8PQYvxGwlB4jAAzjjBmm4ulacCkXK6ZXNyZFEn1DIpdf/0xexOv8vCEr4SQEWZydd6KE/LD0HUb4m4mMNJltFOLzTqQbU1UxoBOyRlSWQADbwtvQ6AsAbZQOQilXkro2qTkyJ6JpNUyUk3fjmvB9CZrw8tvXQ/98t0MUadcmkhVQ+//0oov2UySvTHqG7kfeHFQqFUkBMlpy7g0iWVJvFkLZkpEy3HI7AAHhdHaGgqDZAY5Y7w0F5rORqbWBOx0IXKE2H7Il04u2J6qjyOAjaWU6Za52VXnyH8bsAeo0VOr3kqfSy9P/k/FTs514KickKUYlBsR3qchTneqctqNk5X3gfJ5DGEyJmdff7JkX/+1jE+YARzP9vrCXwMnQf6amsPPCx+GGk2BXJtgZGGjdkv8HwX79WuviDEURKpAKkoACGhn7YDAjtAUSB5rU+BpuDVBEybRf0YVCGF2DoI0JKEOwXAHgG6GjApe+EqZLIWds7VwypdwNkrZPIyydn6ywIhiBc4y8CDu/H45HKZpVLV7v8IjJGuvC1FCeu1Rlfq0xCVHBqm6ZzX9xe6KKYqXpeGEI05FRprSVvS1eYiIosMUTx/F7pRSvGvaicwquT/L1mNY0ByXWScC4wSVmSuYiySHZx3E6BJSShqY8suBwH9tMNVZx2sqSSAAoTgPEw4QQyDUeU0VeNK+hFE4PV/g6qVSrZRxoH1FNkbFqoJV8I8uNyz6ruc/B5CF0LoXH/+1jE6ICLdPd1pgkkegSf7bT2P07cWRrimjKEs/kIqFKzHd/DrpVGUA3BkLOqBHGhTOjRwkUE9Bn9rUxBTUUzLjk4LjRVVVVVQIyqmZDl3ABRiRoyGyosC8YGphKwskgFijrqJMpdrF+1CnNlsSa8KGRSb5+1KjUWpDRViQGWIxDO4T0mp+DDHirTZDZOFDHOJFlbTxmNF+sVNydrO4t0ZJnsdRNx9NqRq2qlRPX6gclVITpmaqTvTmckSuFTrndzIO0mMEW1UK82rHM9J6VTt7lmM9ujp18jRwoW+jMBLWWZbdrJbbAAYXOH012+syP5JapLFz7FR4SVQq+e541WWWo1ySwoKtyKG/TVJoSpAvOynI/lVwZfnMyYaOfqRZH/+1jE/4AXDQFJTecHWYaf73TCpk40ialTY/4Mkg2pVVa6TGTmwjKdUdutykE3NLK5LHAAVi5Qnl5IEsmlyQapxIJgerrlRYDiUAa4I5YvgbSTIQwoMIRQyp8IiM+yq+wq80khdapOkQYTDHEQZSLBcGEBMmJgpATnBxzycQBALtrit5pwICQqQzQEjGEDDdMLzjutEDsf0b57IHxQNA4FQaHtACyaSZRRRgAPwXlT6YhJU2KYBVGwByFrMCNJRIplK11ErBkL1IzpjLSVggdzFmtYQsfaIiMSW8CxZCS09UJdokLAgc8eSRmAC0kR0KIcPWlYiNEoJwzKBUnwQc1DlJGLCUpdzzMEEkGOZCkAfBL0a+XJoqmRl0R1K11qyW//+1jE8QAS4P1RrGHjwVwfrvSUmV4oCyKLyiebs091KJF6RP87SL7VFLHnSdfdSCoEkIcIQpDMen/kLWU53mdBdzasHdFItfiCJUP3tf/t/oUEvL0Ck4AAVF/A/y6pW5zHgGXIcilYy5oyj9FK4qBQ2DZs6FZIEdGogDhNJ2dmhKKR+fNnsKksKvKpkbA1EodReI61IW7//r32zszHqhZ+ZxKDc+kzPJcM8badPyW82WioTFp0TRHYKywIjwuYpWhA+SE68RyMcGbxUOGRPLrqlwfJZddro3E2AAI0K7rTUAXcTFrSdiCT3QIW/llqQU5uDc4KMKCAZIx+dYvCTB02wwgChIfXr/uekgHWgTWFDewQOSWd47PkYXH9UICQkIH/+1jE/4AO4QFpp7EhcuIgaTWH4w4hRy+Mj9uG4hOTref3baNSoeq+PGb3Pbtz8KzoPH1alyTSIlFUAC2ZaXAH9F1oIdJ8IBZKxF92tLptNC2RztQC6ouMXBVqgzVOU0DJumS9Q0UwWoXopaHFGDFBrDzE5cipHEZh+KpwaDWRQmJQj3CRBis85fWY5iZESqmcvBNjVLAl5D0DdHpZtWZfCNNWYguBP9S5QB+C00PvQIAqVrFpBYYgNAzMGSuSmOsZOVoa41D3Uzki5IGoUZUzlKVJN+PBTHcJIq+VRrCRsiBBIAAFJs3mbcMlpTJCZTZKjylrU4iXPls+zOrEQzsitonCeF+PSLGNRhb2tiY1+AmULOhd1fpBkYmd83p46FD/+1jE7QAQJP9LTD2Bia6f77SXs8ZXt2TzVJvIFHrcifOBQrLYfxfwn0NLgIonhanPR1nMMAsy/ObEXBtTisN1sTCYVMBcqeVzhJPd2GJbtUKKTEFNRTMuOTguNKqqqqoSseHP1pLSDRnG0vcU3eBknmrIhRuawHQ6wth+3OkB+mL6To5ir2nVMeAk65gksmRhOH4gR0oSPscBTkiS5YTsWi2qP50iVqq6NQn5OhqjpMpUGeYg4S+hXlObpAg6wJEv6OB1HeaJNgbY+F2sDiM4/zvNpLF6VKnUaIM8yi2tqAgPWd5VqZmdoV3d3b7aACiEWn2oJWcsEECUbzBhBJ3WM92txXwUMg4rCAXqTMUEsnCsxvESPSuqKtTv//H2/Uz/+1jE/AAVrQFTrD8NyfIf6yDzPLjJTTwlHCPV60MijG+R8TfX0W3MqgkH1XZmZnaHZtxNgAH6jREGGBlE0TC6MmJAYCd6WiIjKNR7JEjp3iTnIHFmcEB+h/PFDhZS3Zr1+yHiPWZ1FhCQ9yyf7/zJnx8YZHUPT6EljtLMAFRny6m/1uMqRI2bWtjpRZQyP6zjMcbksFlQDoCYSjub5ZWoY84t3eS3L9FaMFEDTL0PWPIjJVsAuDCkcDHoKtJZCKgTTU1cFiIULZvudPxxq8CtFDFJzJUNeWBXChA2848a8ptxXhYo+8BOlHXofthsZWKhDG3ij7u0s/BCzsHibsl9GIHjcFuGxllUQgR4G5K3oHxiXso6KDVy8KVjKBw+N1z/+1jE5YAQ2P1UB6XlwT2fMXjDIH5/UxbDG6N/IBiCpldRujjNOz+Kr3VxWQDOgtKiGEcW3JIjMgJI1Wejhk1QYVATC06bx4qdyDmcU6LkaJutSeNNXTTPjQin83RQ6TQqVFZWMGjsfQhREYtOtJLRWiWJ07Vx0tnuuwEVqONDj+XyfGoc5WhPvE5WxCfIzFlki8m10rlUujkDIWGo4PiEOQpLBNJp2oVmHKF5ocLjQ8K6GZ8jWpo5K6oBbm6AtaPETkCkkkoJkicq0D5JycDOY6GR4aHJdLtLxCUk6VtmhXpU92M9LKJEM4CGYpujvV8hZMlpXy5R5ym8nz+W1TzIc18wI3vo6vHDpELB0pL4/OMLh/JAAhgOiAVQyHA+2xP/+1jE/4AMlP+H56UgMrEf63GX4R9JL5bZJJ4klatHEltqnGDBEemRnJ2eUYAyTiPVLLNMYhN8rg1MACkaKDSnMHOQhNYFwjtJ4VANhjIMJkixzqw6z/mHOznain5dA54Yfg8Rn7xSiu3CEhVTIAOxFjnQ8JtGqI5GcMcfCnWzdTw5znO1lNxHG8inAwDmcWJmZS+Hic67cGEa/obxRnsarKaZ1K2AaJTKxyYFpUWywrpyPsnyvQ0wMlaiDnJhMbR3OBoJpFMk5upWjwHnFrzu21yTkcABDHyZLYnSqJT6oQcldwIXwHRFj4gWUPfUa5owEaRO/r1jSRAEWUyR9vYkjLSWmUjUf7vQ+RGmDR2MbguojMoFB0omq8hM/qFTLZP/+1jE/IAQRP9jjD2Hsicf7PGHsX5IfmumpHtn2kEFBcWxBbeFmV+xAnekcSAgNkV1ghyRgBbucgKUQKg2EelxAHUoBOJoC2iYoYzJ8eKjRKBSdHRaJ0y3hLC3oVEyw+RHQhZFOfIR8v0RSF5ZGNgQpCyFH/BJ6nuezuV2wR5k6yrlUtzOhyPT7WbLKcKXeP3xemxLQll5pcOJ+LCLhsUzFEUDm3mWWGCbpRTMre1J5LMlkNipQ2XrEmyANVJwSAC4AcwPuSNxzgiSAA6+m0A0giheJxnBYepezWRv6OAoWYSx8qjxQLQue90eg+TwNZhighikkrQw59bo5Mbno4IBoAjsyBVAzVhDkUVAJE/ytIEliBnsExCD4H8Vw6T0OR3/+1jE+4ATOP9TjOHiYaQfr7T2JNZYukbGcPVEZSrTK7n0SGCytzNtBIY4n9VgbEOpJGbm9KtqrULQtv4RuvGxsV27NyutFVbOYBY1WTAGqlpVTEFNRTMuOTguiFtu2yTtsACN3I0eGTWIu80eXWHUlFY6on5sM0nhVlefMXL2AATGzTOuaRrd60krvx/jh4+M/z//jHV8Kx83/+/H5NnpObUSSvMeQoGRX3EwkVS/5fwdh6017Ftvtu3NZAAOhrMseMiABXHGc+UQzMIUO2E+nHrFOmml7EZ6ci9+hTH+dnkh+el90yMScWSnFV06QV1ubbdPFauNomg8A0jukZ87jhKpTL5mZLg+EjBEUL15mfnTai8rJMx4Oy+PpkhFheT/+1jE/4ASMP9b7DHmonwf6Fm8vXG6QDiRDI7VLFuSwfmaNVm4JguS/0VU24nbbtvLI0QARLknhoHYUOoMS/mR2fOnjotOOnj6I7cI5dYX2eLZmtg7LHR0oUnio6VE4pj4U4vnLb1jpUvv22eMAYI5owRKnL/+2xPJEQrEgw0uzP+4iEuTk6ZtDSsyUTGyTE5+GNkluE+ifUZ7AAEhZb0AAC8LKiNpX5l4AUUtoPKTtKwIB4xNEWYHT/WFayWyWola05W1ey+VrFs1NxJT/TTwqqM1AgAOVR/Hj6uAyBWgoI36+EwVHHTS4hpzVXtmiTaNzZfNhUZCUKMghFNglO9wK4WoYnPNDZyimNDT6XYkeu5AYwRl7O6kpjtRuy2k9Ff/+1jE6AALSPuBp5U0Ogcgb7T2Pj5oVKXFuFAVJDI1ntXUCoQ7DWGflsyVZfQ4YAii1BasDQL/pzcC+wCUw3TSdwWWrYIWwOakCxVeXb5MQU1FMy45OC40qqqqqqqqqqqqqjEpVIpCAAAAKDJei4vWiEolajUIVUhms2YCnfX+WJuvsVBzJFU5PSByEyqjRLXrFblpfrp6cwv6d9jBaajJRbVmymMPyfE0fNlYwPxPWXOT1gkjgZOSPZPGt+zQzPimg6nB+H2aLYpy+nOFmZjo8TQmCoSCjNwsJXC2pcfhupwL8EYFzNCJLrdddY0iHM3ZqMOMUkSkdnOETylZzWHrL/Sc5l4cYfadaSlP/PdxLlB8aLYcx/wLWNrFOYkms0r/+1jE/4ANyP99pjEt8vqgaLGc4Aih0Etyn9PzmDHGDJxaIr3H7qeEQjh7VUxBTUUzLjk4LjRVVVVVVVVVVVVVVVVVVVVVVVVVVVVVVVVVVVVVVVVVVVV5l3h3h52saQAGq1mKxR3tnKBkgiafnYCHaDJ9FrCTinAzwJ0r58umHD4VCNECbXCrt7ATqHtHs0IVJf/5SOLcboQRUReobPPGrnprcvvWzvR9Q888dlNZqklmGxegPRIENEPLtExG1raAAqYIwFljL42nEp0LrF54QY2EEayLOQptBYLyYPiFloSCzGJIbJUKpdMicdVVIG42ZYeSXQNHQFIOjBxKl5amf4bnpkc1a/eTeR81s7ktpc6nq/ptT9dzMyqxtjkiJRz/+1jE5IBQvP9Zp7HvwTof7/SzIL6YFhlZUqi2RoUrI/XB/n8qxvmkhCQnwkxBTUUzLjk4LjSqqqqqqqqqqqqqqgBUeoAACkDSGotDae7j8P0yx7nbqlAJqytUx+nonmQyItcLsBuVTYfb8zCDmIlzfPM7nqcQSTGMnTiORQssp8Pp2RgZdvUfplV4uLagKT1Ary8CQdbtf4Ba07ajzQEeVePEpPkPs1hT6oYP2RNSLSurFp0AZVCwJfIYctQgBBzmkreAI05EvgUgSeWvOji6adBa5FwClW4ZFLYL5gkomBDgEWMYD0JIlLKXIZXd4d3iNrG0ABpXYiR2KpIHpQkJ/tbSh1hzeCCxBdVU8ia0HVMOEMY/frtzHATfM6hSsj7/+1jE6gAMJPuL55lp+fogMLz0viZqZn6lKvJQ89zZtpRc706PsjygE8sntQEGvKSZgAFqRACYMwy0Mgn6+dgBhsnX7m8EmnYnFPugcGJjltAExYBlr6J3I15LeCgVLiFDhs7a5ak6gEOOq385GJ6LqxLpegDXTsghXUKd5l8GxBwILgGMODG2bQlThlkArtLzJ1K9T1RJeqKtbfyHNsiemBm5P+l638OcaypTEYUvN0Z9gLBV6uw0pI9sz9uSoXGXNYhMM5YDAUFNjYC8scoVcU0M9deH2pjhiJSwrcakAUwaAAAIJmcNqWMAPlim+wXa3Zlhag1kwNE7EzFLaS6SyiSZN9LthBHBSMpvj2NRwOhsuYHs2jbROmJAPZQE/Pv/+1jE9QAVWQFJLD8LwSqf8fyxGqYQ4rFEEoMZORgmHmzzgsGBZdsEAQOAgDGb5apAVicNlNgcBPBiZAlNCNHkhgoFCRRoQoqQZSGGh9HEFBrwYipTU1M1ZYtutgADlORAoDPZ8ph15DVeTURgmgCh8gTSGDTIS6MEQq7GIs+UlCy/q8S18Oy/PdqESLoWVcGiYmJkKJtDyoVMf/pGTJYiffKu1qkmmk4OOWkjpEmyuuhTra2+RSQAAAZCSlAAY6/4d0cVoqsX7W0OUMpTxP4ZMEBIM7koyAaBMmDTojIdQc6qgRAiVIShlXLzqXVGsMhU3MIKy4uBfzzNxWlG2BIGEVyjuLDYyXFsTRHJ8710wPXzG5EoQa1FRatDMQkcZdT/+1jE/4AWvQFDTOsGSfIf7D2HpWTTMpGizknUNH53sTE0l1I86BDEdCfoXFRZ/iFvifAgzfNAfgxVwrTsPIzHIONDTwPAW9g2RSJPhKE+UI3x9o6lTEFNRVXEJV6uoAxJYrU1Lfh9cDxnHTUldJMTI+Oh05CskZjFE0iJUtSXfEiuUODqzbKJHj0DKyuNRSaJUfZ50cU9IUKFWC36INLikLE6ELRY/ISUqJW6QnjyibB3xmTR22EoRUrpoCRAgEcTbjSeuutgADCA6L8AykUEYqib1JdlWO+kO2Hjkd82GXSaUTCjPHJpKENte7AOL5PEkzMD5WFSLdiLJlkCaWy6ysCIhLo4Twvx9M1Kt5mE9F1SafCHURfM5ti5HxsVBEP/+1jE64AMZPWJ5LEmsqIf6WmdPPCQOwXrbx2PXzWIryVj5GUbq+SXKxas+gAhKKQAESzTGUDZhxQl0VoaDQGW0KhVKAYGpubzmhs/xSOQFnBVhUEDPBpg4ICAwsVhVUlfPcMhkKcKWibutnU6OhIvzqJMLOh5CFIIWgA+TqUhY2FDzogt5os7UTQsJbzUai9m+abQIanTGJYdiEthfTLVatUaLOm59JZu3JHajQSlz3JYepLjDCjC6DOalaOB4YiqRBnRwZReCsGoXZHw38RJCUJSqT9QD90AFZNY4AHN2oE28pURjy3aNYIjPZEKKkBseoCYtKOukMuLVgYEuzlsbl5K7E8RRYtKTzJcE1anbIzY8mxdPj4SXHh4JBjWhGH/+1jE6IAMvPtxJ7Eq8dsfr7THsL78+XmbS+CCAn7EuYYKhwWCuTzx78VKJmTNAQxLWkI5VgHfhdIRnKafNbldEPFZnaxQCOiaQll3agAhM4A8KSExQ9FhUueNPaDACohQAEDQLx48BmhRpKAmAB5koQBQw3ceNZDTx70m1qq+Xa4rYAZITSkIXHKBMD1FqllMgDrCtVqyc6GMpJRzLkv5aKN2tmUmhAlWiz6VaED2YlSZardKeijUXSZLR0m8znmeCnTX28HyYut1gxT5RXGUkDITaDrVEGO5mLqYelpLadq41bOy7Je4nqB2CqYyFaRIIBbrcjbABGyC1TPJJ8qHOpbVpBJMFB+Zr9NHsDfSbu4uuTzSlteA+tVzlWR3DXP/+1jE/4IVhP9E7enrAfyf63WHsgQUUaNUG5m19eNtoMmLr/+V3Eo0aCd7FmTv2qqtbPsPUchQrUEGUXLJbHAANRpWi4krWXVkGmdo1B4pXDSvJavXBqiVsYRoZLAKvsYHigqmeo0pnGWWiv4/idKpVCuiZhkCEM5ymCjUKQg70aTY/TRURyiQpssRNSdE5LiVy2nT1AIWQF+QQ2CANabPwdCtsranBsd53Jdbm/+a3JqZQgAHoWkEar9HaaKsftUJJsk+MP2tjdM6lPqAQo0Q/QaDRZAqq25E2ADFsdl0SZEUPsOcwROGE9TUYidI1RCeGRZXxnPtcqtOiLjdYT064dHh7rbBlSLDIqJe/fQ9RXrkzqpcqRSUZojXGNxWEjP/+1jE7wAUUP9CzeHuQUyfrnSzItaxGN6fgslXjmkiqcGoK//wDwAcLh+Hh6p9IBgnlTZIL5biPHHUbMdEeiWY3HyFzgBAopUAAZEbmZmal+AsKHDE4CATDek88TJQ00TdxnpKxTJCoddVo5nQoQJAAs5j4cGlswMGYq4keVzGZ98b0QaC5LxP7G5FgrILCJlrMimmVzcCQ4YqpVLe+MJDjQjnvBvhRuVj9nHgioquyxrL5EKNDVEpYKfQw5bQz8dYowPWwSc0B1mrmbJ6J1DFWQRFFzG6cggBJi92SBLIx7NyyOlYfE/GKUkagTtIBoNOmrLXSB175gB0jfelO61UZq+TwwP1+L8cpYlfKA5M7ItsOk63Y/VsMVbfBQBZHVL/+1jE+YATiQFfrGXrMesgLGj0M4aCucj+TlLrE5K0ta7ardhhBg/yq70ZB+WM5iJne3JuZtHnpXNNIgFYn/JsjuC1Kok03+Ss+qkDkxCIEZlMQU1FVVVVIACSEkdskACUFxBrSnZfbJchHKAX/ahPOsxx45dL4Cvccagi8KWFGBEUHXdux79ZwhrTtWprOTxh9onOQZZomr8yH5KIho2+W1xaQIC02UbktOWywPaVe2OyU+T9hquL5+ShFTGijphMhp09B1TrJDvKon8CVlaHqqPttVhxSsTVI5MySaUOO4/DidRFNy13XWDDU/NraWPtW9ViJDi/Ym+mZ06H3PtXrIli+DTqvMW9nlzczU+WFmI+eb+NpoIdCKtWKwtLfWz/+1jE84IU7QNA7enpwcKf6pmWJlQG4UgYW9UvISn4lWIMd2Zy1iHpLE33UkxBTUUzLjk4LjSqqqqqqqqqadlu1121sABS4Jw0h3kNVIvkarkblUC7IWnUSLNGVyTEBev1En2FAE3P1WKV0+Tpoq5+wtqdboPZicLj0ohDEo75+JRxceTQ5Oi6OI8qnCoC4iLfMTDcSD6yhG3JC0JZ9RtrUy4zNarBJPC6KXhQbPEMyHY9H0yNR9L5/qESncKyg8L5bSFUvw2IqKjs1tutjjhX4KuI2KmrtortIJs7D1b3bW3tEWDPAVz4m22tlqq/9VgvWYToCGwktOtHrZbeiYrRHBsG2vQLqvJndxmAokswQRXLfo/XUtEuz0optt2kqq//+1jE6YBRdP9ZrDH4oUwf7/TBm1ZgdcgvMHmERwPBcF4G9WEcTjHwSsBYzQH/7nVAB5D1hnGCFyr1CR5OQvxwsZ+AkBAg/D+IWtLkTE61UxqU/w2STMJptB9MqaVShVDxKDnJ4titSxpLpWp6ad4kUWrJgOgEnGRqy2rasa5CeSvizJurY8GPe512SLBOmTniPUihw5B8amkS+04K4rHZ0HweEJIKEhZQEkIQXOAQgVwcDIXwnCGYO0k5fEqfgMAIwaCPwiGqwyqy26yQADNuarAzbePmSOxqa5YjGQzWVfHgKBZN9LoZFiFzQufMf7a1mO/k2izKeywICrvaRqnkLmfZ3J841ycYcCRMTY7E4RG7Fk7ECJJCmEjljks1w9H/+1jE9wBRTP9vp+GWMb0f7fT2JwbN6qx/9TNpmlpajHQvwMRmR62JB6dLdJFjleIwck8GEBYDopg+WH1FR1OOONEAADUXKnX7etm71sHn3IbGo9ArbK+Werl7oq7zBnJrOi9kVd6XB2oGkcy18/SXsZyJ5WlgfJ4pRYRcyxHIryxkiOOi+yIhfONDnj9PsRNxLn6cjKkxMVJglTW4n83xUqSkbukwQ0ElMPoRbTUluxdDMehLJ0IBCmJIqXmopIYlGRVS4OJugCYCB6ogeAgAoRm+rT0SkrbacAA8yFyx/4nRPHFWxWobFinKazBOfigQlGFxip1XOLQMEhpksLjG7UwP1poZWU5Cl09I5ONkG5dsUZKT0Z6irUyHkSkMsl3/+1jE/4ATFQFPLD3gMgigLzz3sX4xMqKfNlRM0TUO9oC2eJYkpNmYW7othMRBxaDUSXVIu5Ly1UXyCGKvuMTGq80D01JsIQqiNkpMQU1FMy45OC40qqqqqqqqkjlrtkjabAAvHjexdry6OEZgnwHerqYzWNHTNJb5MWV0TcCNMeIk5lUrnDrQYMAzEd0rt8+99iMTJKPZAmjrE2g2kNUfqE/uzw/jzDFrwujnZnSOZ6Q8aV0zRaRFdsu1u1lttgAA8n4Eojkijw+DgXROBdoxKCw8KwZDrRo/H9xbAhJz8cL7FHGZrnE8ZEULgOLmwnMgaPyan7Zwej2JSlO8TDIREP1kbr687cgioVCQfIxLK/mA5mXyUyWdr+OF6dYpSE3/+1jE94AS4QFTrD2U4gmf6zWHsP0GbkQ+ZJMo4Y/EmK6snGy6m1KQ0JKFakxBTUUzLjk4LjSqAgFpizgG3NXSQUA2AewpyvYDmSSCAwwkogeHCQVLhiPB+ACROeXTKPFr0ZDAJay8CKyKicbiBZ6fU+xdiLBGlEgGFRFz1NysUpWOJFKgmhL1WgpNpjooCVhRg6bCihcp5V3MHSeiyrOXWerHC5V+wGp6nL6qwxF62ETKmrW020gN0jZXDi7XZhZDzNVa7g9DiQhTqG3JxaWp6CeQe1l7HVh2ytOXOjUiGTM2vI9I+kK7NbPbLbZAAoFsmPPMUeFprTYa1lhAgWHtOz9x1va3kf6zZ4RnVDoOOSrmEJ5kv5HJTVLn00ysXo//+1jE6AALrP91p7DH8fefrzT2MAeI4whCpMuzj7tJmZMLt6n/fbOgYcdQso3L7rrJdbAAlIJBEY6MIehsRa6EcQuA1IWnVXVWOKJdoaX9w5YlLlxb3FcHem2NGPdKAqwZjgspHAvipsy+eyW3SlQspKGBJbmA5A6Vx0iouJSbDHTRXvRlAJMhHoyLomhUHuhK2LJkJLZgi3CdVl6C5kIjIUMyVCYAJAUAtuAAMKPYVBR5cgSEMCIOWA7WwLOWyCJAbHZKNCh2qvBPd536h5w3GtPEsuItsy9q0fWEQHN4lwqiMGbiHGHVgXAWEFAigk2mSMQj9iUOIytWJeDMYl71KovNQvePEQToQNkR8SrQoLwsleNyneY9EldtVzgOken/+1jE+gAV+P04LesAGUAfsHRkDqZ+Ze6rFohD77twXe2sD5XVjRyKSthzWqHkF0Dj772JLSdyBHJdJrKmMsZoVnBxFVEYGR4vfawqTEFNRTMuOTguNKqqqqqqqqqqZTtk2pUtsABW7nPk+vhiJupZk8iqWkyg6DMcFjLI8ERk4OX27pTuZ2ctH60BIkHjbrt6zcxZCjVrplRTgDh1HRcmFkepyU3V0E4C3VIjxHbTG+63xNwKwUZmf01//yM9QwyTd4nZLnkD9hTWjtrKkISTGhUgvKKZnW5GZ8RTO2OlMjrhm/75/7qGQkWYSlFUxZs0tASW70jHf2ml8cCql78/PUXt0kUEQJg+GtNMuN2iVmayzs6hxTC29s8nskWnhm//+1jE/4APKP17p7E2ssQgaSms4IphZEoxaZhmZpxxvGZLcqXy8bIAtDl/6gAgEAAToAFhK0gw8BTIgyO7Bow0FGHl7xGHkp1upPEQpP3LojDKEP63ylL5tu+rksAcSqqxbdPbh5k8thMqjaebF0/zHIz6sQMrQEiAiYEsPHGZqbGTFHJw8daRGgxjd6J7QzLpqsdiK2XHcZJmStMfm91yZW1pnEtdZmja7t7s/7Y2qMAhiAK76RqUwDGG+vLaZbi1x0aduGG844zmOtwljDKB07NFJS6IsdSTxP9PkmA5XbaAG7AAySPRtfRnW/UHR9P94LEEEZU82UxhXM06UfrdTdlXUVyZom8zf5gP+pRwAK6X2iTUny9JTHxSFD322BT/+1jE5oBNOP95p7Ersbof7nT2MXb8PBBpEAzG+0CuchAsNNf//sTtFCVqtzQng+TiIDrWgcd7RIQcQo2ypI8HwexCeStMQU1FMy45OC40jV3t2yTkkABqQ5G8d1mhrJYIan2Y7WabwC3GlBbjsvBlbDEhx4S51SUfiViYBReaUAu8wGdyeauUB+yxMT4uPzwrn/DP9YRVnd11JttLUx12G451NT2D2sJVw0KiY8pMqEqQhsrtuRCCw5rgFpajDWGCDkDgEAAA+qkLOJihC5XRPgFBZht/DrhH6oVAB7ID4RXRZtgnUfAkQ446uz4GBHeyA+olOvqbX3CYz0iikmJViIvcsdPDVGeFwQgomolqcpJMXNZCTDgutMn7FT4vnY7/+1jE/4AWIP9BTmsLicwfrDWHpXxjsjQ14kRhcWVgVk1VCbmyMscBU/PIqmYlKVNVZORyAAH6pjkUwxox0IQUSXHSKTFJyqIc6kWWaId0tIbwVw62cl60SdRfLVfVC7TYy/LVwcOac1TkTE5imSlm8lV5az7Iiw8iTnsuGYshiDyG+cHExQ6KbxUetxvONnWbELkIbGAuStAWgI+CLmT/iIgDCvkSTAAQ4ABAFwAgYe0xUCEgkH8IgAESEzDCQAJChI4xTmvCY6qJfgt4YKAkEZQqco8GHBFUZMFAY640eX5XGguXrfdt6IgLXFDkHpHDIcgclDmaRDA2wpAmdqkBVMxiAXhrLZ4htR0GjmwWNHn+IUPg8GYpU6GKxDGbBhH/+1jE7gBL/PuBp500+h2f7v2HsbbA3luF+tq6xunaQwQ9Cxyj3L/FKlQn7NcJeEDYSekLDLQ6GRlPHEtI8thfi/j9LA1oEoC0FpBRhFjgqN8li1tMQU1FMy45OC40qqqqqqqqqqqqqqqqqqqqqqqqqqqqqqqqqqqqqqqqqlUlOVQzRpxtgAhrCoOa/XqypselDpVAu7Y0jy9GbHi/x+NDMuLbORuwN04HunWu3+W9dYQ165lrl0R3hSBUnGo/GhmXCmUzgpxnJmgXEHolNsIyIhFx/xnPfC9KTSzp+ZWRgVwI0oU25pxOY4gOu6O+Mqs0kkkAAc2EwhNKR7DYyJEr/vuYeSEWPRVzxk6vmb2EkvBfNusHn6VzRizJPRkKv/P/+1jE/4APZP1957E4ct+gKLG8vTjwrFHemrCPzHAwN/PSj5Eph2p0CLTIqmABCgCBAgBpqxZOYWhyutCcpwjCPi7EVVmGqVM6cCWgfr/ZrRaIW+SSYNYcJYFhzY2kLmfmOt2cZ2Lssk6hYBmcRHD4Eaj4gyZbBAnrQFqGK/cNjsKWSnzNO8xGAH6ctBCiLAUORq2slUsScFsShzfI8rCvLiWPNoqROWyJHSQUNSSkvqNSlXoZpfjtOUnKBOKO5pVc2wrmJWBDjjah+rBpLQtwuQsozTKS6+AZCgC4AtRrbdzqQCkUurJJRdnaCTBdi5I4/TlfsyrQ0cJiljMp8fxonkljqZnBlozHFAhIcTpnBMrOaM+D+LllgSnNPaGSplL/+1jE1wANxP2D57Et8SyeszyxmucuPTqN2GBUvdUlJBFIeoh6BsBoGy16k3EK1FixG6dGR2vOx9OT0sJXEN0vD0cPSQyUZF0YpC6TXLkUqC4AYKxn9UFkSFQjO2uJgAbV3pwjoL8jm6MrJ1dAg3sHIBgYHF8IML0H5jd0OTcvBVAY+uYe46n0qTJFpaJHtTGVM5dSuePZwrYhASKFT9ZPDyy1QR1S9i+Ndp4FUKJUqj/LEBSA6YeIkSwiCR3/wBMiKL1hLkvGp+H2FoBy6COA1IxlqM7yZNCpNcfZJcqFRsKwujEJQh0ZWHKbbxONSgLI0h6UW4sjai1BhXPVo7m9THIjTkhqdTKZKmolXxvF8UppqRbNtuRg4HcZhWBc2RD/+1jE/4AVZP9NjOHtyiUgKiWHsTjzKhlMjk+1nPFPAxErtTDgVCiL9mAdxhMCOswX5f1uJVEJxMRqlsnG+X9OlhQpd1aHd1Z9dpIABirwJpl1yZoHQxaQ6uUZs4+UmixpqXJYZ9qcxFDFtRLOaq15OsVxNPKBUjkcQkebgzuZp7csunGt/vMXRt9jPTH33/SPqQnuJOtfVDFf5yMnm0gMLq4ACeAERAEpBcMMfMAMUMQHsgSCBpcHAX5QhlK0W9jMsC5lqiKLAUUXyg2BGDMNYyjjjem2EIWFkAYBW2DAiFA6LAoCFEhMmFOoYAyVSIQLRYIQREdWkBgMMI7KBDgQLjhQOQkQk2TAk/kR1DxRwJCPPch+GlrrUNgQvMoqPPH/+1jE6oAMJP9p55kN4lqf6nmHvXSkGcooQm6W7TrCsTO8TGxouGBgG4it7gEDRHIZOJvNGgLCAWDFDQHCMtoRzBgM5EREsHMGsSSqh648OFSwcABEQEYFilEDOLM0o7wyyQUFMVkZDT6e+HLgtWZXm4eIeSVtAASxQbLG9pJQSb8cBAwhOcRPiIk1CQuWn4gQQC6QnYeNZlX7Twnv0IJx/2Y58rmsaqraX/8sgv9VyC7ufpQOI4cb4eLKSLigIAAC2qwAoKY2GdOi+aip52Bzsldxaag9Irtz4dJCPo87FaCD8I3NwJAkVi8OKjoHjBvBaYIwdsiokmy7Rd0umWUL8AbgMCe2K4A0y4LLZCqSVSeGV1LtbUQyNpEj3HBh0fH/+1jE9AAL5P+L56UgM1mgaC2sZ0m/tkTFmuTO6yl67UEyJ1tYFxM1kMLTod60nA1p+sfyeldqeCLZe5ayUxEN7GDRBaSKzSkJyYqluM68L81pQnL8qoErV8QNu3DMqogE8boUWlAAqGVRZgKUVuqMzG50U4gyBaq+XV1Ilj/ULjI3m8zK/L54vuGdGYOGEdU9MKRQG6nmI8lQ8cquraq7TZVVOCLUkYAUF/1AuS3TEVd3ztYlr9PpkBOWNdaix1Y3h52kCPu1KAnEiJRCBmM1VMjYZikhUskAAeG+QXQY3yVIEJXzGAERuA37bj+UForeTeDFfv2ZvPdVsSYG0WeOwbApFdnZqJiuHMgghKiN9LCFMGTqMuQs/32rK5BbEzX/+1jE3oAJ8PWV5IzLeq+fqNWNYAvVFBYiJSUQHzjysVDj2ITj+uBUrIJoXzglcSmExNXHRfgNcdlYujrTqL23SXWwAE6YFpCwo0gUEyZanK48yjeWhUSStWClaq8QTPqV2jtSn6VLd/odmEaJc6LsB5Li6glvp6+/HRBTxohZK6C4FNMziQlgS0FCGnqQfq649wdWM2iMZphiTN6vf58qv1z0Fpg+HCjNMKnkM4xctRd6sZ1gaaDWj2b9xWtNVSR2OBi2JGtI6QzdyRZ42GKlGQonAAT5nYsFfFCKthJZPGDsAIBERBgBEUjjSvqrVfxHJj2rTwgjLydjgNFYkF8Pu/ed2HO1vatyu6EK/sGdhNMKAp9/Q384KZ/bo1sjT7H/+1jE5gAOUP9hrD0rodQf7rT0sqbFF7zwv2n22aWRdiFj5VnlZjLU7MLYxvbGz/kneoC4FcGubgZ4PRpLucIPNnEiP0hlZS/nQWnBMOiEoYLkeTm0lOVqbQYpLIPOAEzR+HGKFi45xioY1Am0CSIIUr9v1azZwdoduskwdfpn2fhWMHq9+YGC0B+SrumKDfHnjt46vxpGhTJyTxDUl85XW+KZQ1kmgySmqQf/vkeaej/OF+Fdc9lTUtUx0sbYutTKNwIOxiI6KOdcOjsakkgAEyX/VnW5HKFAKk3DPWGI5UrY2MZPpLXUvep2t7fFUHs17cYXbfwEkQMoKR6qSzgne8YJvPvaUUOyYprUqlYNwU7fwDtn/ZYPlVH1B1+wHhD/+1jE94ASEP95rGXn8lcf7LWMPb8fEpQvViZMm//+rtUP0nGaJIC2S/CLLexsrccCtepGNBZTBO7psHxW+ssOK3kBbKwAPiw7LRg8TLch8BA4baCYdkanHtWpRVDrGlpPogXNSJHU1goOmBGAqy7yhYvQ0IjNKFIApHLs2owVkOJOCocZoBzkCV4Hc04+WEbXtEGfBP8VwyptgazCj4J73xvW6RjlwmEieVLF2LDbeFZNsmcC0cpY3EX/f4LQcVaCnBbKRVa6nqTJsslhHE73LgfBbFi9bFFZNEpJIAAZIS9BlV/dMqJoNI4roacC5ZRLRyDa6SAKWiA1lbN5T73w2QmG6qRj3obyMxpncd9JIDCtR1vAUOPeNrUJb129AW//+1jE6YAOBP9ph62WcgGf7vWHpuap/2rGsm8swoyMc8rzOya6v+W04N9fan0FFB0KhGDdPq/ZpvVWozTaTQ8okI/61QIIkK6kGmBBcUQMqhIEB81T1QdIS6xUGBiSOHTDMNdExq0mEkCNTsz02Nt67BnyiMORKHNuRVUrREMiKCqrmIDp/E6GDLRwoNmWC0fW4YcUG3B9DAgjTzUB6DY4XANYAoOZWQC8HVIsgifKkfVG2BbFC7vcVpigu5+cekmOcWRjpKaMLzo7rnre7HoNVX/bCd7iNI0DCYQFsdmluAUKKC2ZY0hNjWbKZN+m5KHvlUly4oFzisCF/YrPba1LZAATSvMBy/Tpjv5VEEDx0t0ZJV8E2tSn8N8oH7e87xn/+1jE9oAS/P1brL8W4eEfrzUMPB7Gjs4LEx36ptxMScgg3Xo4oHdAtHcRZEVtqQmKjBdv/iNKQYZiLYU0ANIV7iLyAxR6lNHwFCdhXgGaPtRfTkQqAkDLJLV8EKCYV9AfS7NBRp9Lz4CRMq3BBiozaTAszP0IMquhcIxzpIEcctrPDW2e6zVYMAyorYRzkk06cZeWF+b2O/j5sbBLrxU4hUZz2ySyqZHQ0me56rRuGVBJ2DIB1B0GSc8//9q67cop/aHGFkxnBBhEVBjYQDGCgAcw7Jc9rBh0FGHyAGQOy6yWjqtGBy4OBbd+ZA5kalD/o/uHHGlrngaEFvQKCXMSFJAUPCAFO89nzvjDn0Kg49jgXCNVQKpmqeJDMPpNYRL/+1jE84AWyP08LmtrCR2esXT1lW6Gow7MZgM0CBKsHID4LsLOumFmSC8qIMyEMLN0yXpXG9OqzdUSH0fRl+ZbyfqGZiro/HTaNcNWdJXCxRP11VSA0k2AnJgAUJuiT0kSaFAz5WNAnK1CUQyZE3pTE0nTZgHk48NieNw2SutBBw5/iOu9FPccTrBrXqVMuLAQBRU0O9V/Cfb9yiAR4mR+ANMkki7y6qosCDzBy4K4O1Z8R0QwmSmWsolU5MxQ436YrItZHhq0D4A8ZFDARZv/ygeMCAoAImgAOi8BwxfpPlYwyoGPSO+juoCOByZ43WXPAPAUnZCocrVncGRkUuuISg1GflQwBZP7sLSIkH0oEdmeIL5XoYUEJq0h2ciNiXf/+1jE+gARoP9bjOHmsmScJ8HMvXiSPWwIUwcvcCfSVWd+33YNbiCVHSzKYWUx4mYLhqzYcFGNGlJiimQFsvTJ15Z8ZZznmJPmRqiZCCUgAEQG4BUB9FP/8wJ1lUAAAAwAJARpy1Tgsqu9lzMybs2N7VUxImZi0DsddSlQ6NtPTDML1+hgGR56bvWwlyJisNpwzH5CQW8UeNR4JCWFcMlpVhaItgwnBIqHuqJyD/aLPfKlVFTrkmcVjq2b3apdpk61bTbc5fsX35N/03Kr069eJxWx4CZEIK0+lZjf7BE///93OZlFqpyAptQAERjJ/oHdD8TcOjCoYbBHHkE5MHE17ei3f/639XGEwSJjaZY/rDYlqKz///nTla1UzJaSb6f/+1jE7AAP6P9drD5NklAf6Gmnw0iqRDxIZarLDd1p5btzwlHxewk+Pt5jPEQgii00vzessAAWPgFacbWxISjT8NJ87XaVplSj0Ix4oUJhnKhyLB87BdDvqp4gIiIeEI6hTZ0ZWNEw2CIARggYaZAYaEoFhVcSrMScuXYaXaIgOeKc/7KMqm4v2zulOlQz6Uz0JeLpKD0tnqDHONik9cMHOfZcL5VRAliMASAIAU8hkL0i6bLSzwt0ouaUpqp9sfiSRCw4JWjtfhMDpjm8/00GwseKl3SKKLtTveaCXGbbjFIBV44sQVuYgthllEtJOJPOaXUtZQ9AU1lxMkT0xIYSvdpvmHrQSuX5IkapM0J6oQzFI1nSUj8IoZ5R2FMYfFP/+1jE54AQ6P9G7WXrwVaf7jT0nb6eCneRLISukzB1HSqEm/SCAlDCPQfwhBhgXB2l6jeFMDfOxhFvdnSA/hBAEQYhbwsZv/r/PXKC4rTVst20t0t1sAAc+mokRgVQMspfcwCEkyUkGViQ2vf3uUg0QglFpnD8sPhqcX49o0sPxS6LIxhvIgCrEsvfB5WUaSLZKP/8VkjsYMhm/1Xsw1TTA7GVIvKyUqAH2QLQNZgx0JWlZPshgJRZ7khmHROstglOkaDqK8QZfRwnmUgkiDPZoLYkohIx/OJQmuQgC2qDdHKfSHKloQ1XYJchT9cl3Vw4ycknbAgbclBtOauWp18nZexzCoE1KAApPYZoQJlZ30M4nosipMIyEiX/JczYYjL/+1jE/oAPBP91p6WTcswgKKmMPf6RaqVr6QukS5+pQ5SlqYingOCyrziZznjg5g3hVj4inGo3HCpMQU1FMy45OC40qqqqqqqqqqqqqqqqCCdhDaTicABRGWq5SNaSNs6YZ3HWrlswkLk0NgD4Vk0mgdEQwZZHIPFp4iIIrL4cLBIUEmo4nJ6PqRYXT5tSRdJ2r0ytEePOUIMJhxTJ5NRHCGYku74tZUc4jJZxSC76g7LrUKISYV9SAEh4XWykXiacH5u2elwfCqjQUiMTgdE4hAyHw9LfuSbWPWWWNgAOJqDBIk0wNtOX8H/UaJ/3kKtLLLtpRIzjnrtqQSZWRqqEMTkkai6fSQz1c3tlWn0y3FYu57gTW/0ug6Bnlsxxqw3/+1jE7gAKfP+DpRkB8oEgaWWcPD6osp8XaSmQMuE0EKNTulmclZwoBrBCl0xBTUVVVVVVVnh1Z3u2kgADYT3DosLCP7qlQ3DA3MwASPq26zRPOKJnkiONK8kxGiA4+gp2UlF8CjTw9pSa6FVvlTClNebWdpFvynOoWqSxU0nmRUmvKFVJHMzDDkKOhk5m04CK7FZHtJ22S2SWDwYuAAJQKrGgAKI8yPiQbhtYctnSdGUqJQqKP/Zdlm7sK7hxlCqjX2StOV+njIl9FrHnY+rtQFC4gWEfae8bZm53GDwW4pclGfpYF5KFiQ1+gj3U41wB4QNJAqwDwQcjT7RGU41E3wiUuRh6uy7IFdiaD/DvPw6RMNNp0mBiCrW6zgxOWef/+1jE7gAQ5QFPrD2BoYMf7zSUmf5bKjaxbF+Q1jRAoz7ON+S+Tl/FtRpXUUCU5GmH/ACoTg7gzzzI0ALR5rx4AZy5viVaJSiBPXajOB5ZtXcaDdHp5VGcgB6k8jEAdbcYquSQCQkVHd/HkpQQmVwh3zIPoyVAbHBUBdkvkAm9nQsUXshiF5WbEnKtFYzKY5jrFoOqnG0qkSrzMytTOzMu2GCMuFEbOC8bJjk1Xtaw1pVJCnJGAE4KSOJ/KWYLqRSEyGEDsI1qFtJYDq1BiwrF70WguR2YIjeVyGqKacG9k+1h+px2VBQVuAkby/CPj+QxRuxRFodTBFvC1+z/auQ484B4J2FF+192rDIYi/qaJFk//xAgqZb9GiEQdqH6eJv/+1jE/ABMJP+B5iURcoqgLPWMPXaMar/////whVlwW0nhPyxAcBIAGA4yal4muokrtZcQ5GgAlBBbtp/DxNylpKUC7HRQmhz+Usdbd10QJIXFQUXzg3YQjsOwG5lr7iGfjyCI4OeuO7zotN2c1F0zFMyhRQGduWU8gJx9pEFqI4jmkV5lOtWS2dD9pXee89rab5+PzO/M6vd0Bx2VSEHwPjqiAEAJABykEQXMJDUCQ4+EPQ4DNdBp1MtAYLAZPFkYZLtmdgMAGfOOLHw6FAoDSxjJZIWM2Rq1NxL8L6ir0g4hb2uWwLJOZBSfJqict0uwYWFnwooCCDAwQGhYaYrAtYLXGl8PCqgWoHF0WNt+pqzVFTZ2YlQOFn23fhcjTE//+1jE/4AQRQFjh72Lsi4gbXWMPXYW7AVCEui/qlTzdlAjBe7eKH7Y3f05DJrfE5FXTN+CXEnakAixDv0zOYXUrw4yfCA2ukQE3cT/TkicoLcgUpQiQC5AMlu+sG60ABOtrchRg0WcexN0iZKoKTESaZCiF4bJXLATyFwTJCVItxamtqVSiGP6XMWNBM4PnF28ExPWOE3ujGBJx/PT+Aya/Pzd1wYURhgB/wLtafiqN+c+tNRYJ/CVMsbL6f4MKe/XLDqSKHS0t4wFR+uEt7nQPDeUnB1yZjMGRaN2XUp2OAA1ZV8+FOP3oYKCTtZ97svNCnPHSZrkZ60FH6iNk3z+mNd6gIt2qUeRQHV9T3Bf+VqrqAdvJA6Dy8jjNT5Z8G3/+1jE/gAOgP9xrCWOcvsgJxnN5XFeSq+V/fP9+QabpLjKtT8VG/jyZ1Ioj7ezNTXbJuyQAFAMAKaCqhOcyfaHhWBlI1ZwgE209hTTWGo4QSNAnIk9a3J2GIy16XXnEHkf+MH/phKYWcYmhJ1i/BKcuPVyCdlxGaqbwqN/CITk9AoVsLlPxrtigpdXLeP0jn4RLRjtcL8q1bE64n/Nksem0XUCIm9Ipw/GQIl8Lwte8mCqBgAAGAAYAOPKbRkkkCroDKuYHBgFAZiTpHSDSECIIPYEI4HMGxNPEYYEHYjNmMhQUJnBLFpKMghH7Kar0hwqy12V7DonD1VXRnAsgNXMFjM/QDGkhz2SnjBQXFS5IwHmenAKB3GZQZWgJZKxKbf/+1jE6gAQRP1bp+HgyXsf7/T0rdZlsWngcnwxesJdqwS6CQbeU0zpKqvni8RjTB9LGVMZDvTGXzs00Rh3vzMZwrlg8VluSjUs+gUfTPgiAVMifr80LcJnDpDhISlrLvRcn83BL8pVQAICuICevACNElZClMk3hsqTBwdd77IeYOFwHt22hLEio82CLZlZib/Rjb7erbVoJnGrOCDzQ+AR00zwWFqfRzEtfKEReobEXUFoeofHmYkjoRDJ4xCl/4ck7k49UO0plNAT8PKEYisQwycmhSNJjRMpuy0hRuAAm7DjRlHia8e4i8UjmW2bonD/sPG5M9aDYDfVW28X0YvyuC73gRcTTVoJt/yki+6l0niwhjz5fg8n7I3Gy+VODn//+1jE/wAQxP13rOHruvmfp2XN4XnbA03bg1BzqjtRRqJSpcYMww6ZubY/H/+oew88fyzEMSATIoBQl9okxrj8PQ9JgRVo1F9KaACkcZBcvABOCw5E8gAUZwnFDiZqlk62gCPC8SFUt1DVuwPFXtYhDjyNHn2EY7hwLA2sfZx/x0KDy/VwZBimsEhJ6tH0UW/r+sBzW6Kj/2Ao1uFZUbXvW46KdeUNz98NBPIR5VDv/Kobf3Gz+KHIimzqMqUtpLKstl1fKGkGbPzTlUem5IbQPlIE9wALeABOQneCmQgInOg1ojVQnJ3V0DIA88/8pEE4CVRNyYyaASvc0CBqmqxrbkgEBtfEgSlanLa/7PJEBFkIoZZsYgYXZaRSGJjI0Pz/+1jE4gAN/P1brL2rwfMfrbWHtfbD5UFKxWJaqs1CrF2yUf6pSgfD9BHVJUD+wCPBpFBnt4FE5VFidYgPNf/41/hSnTN/EpEXIG1+zMQ5g8fId4TcOGEkQenKbdEWCCA54kQFLI0QXJgAVsFMN5rR8r4pVUAb4sTg7OgHWyGA0EFW/IirUYO75Hn879AJM4FJeMd44uxVcXC3/5uBpU1MSzSIokcsUEkMsg1bEv5Rv8ncRAcF5oPxbsSSBz/jwegbqoALd4AuYpSBT0hQe8qBbIq2DBgwudSXVwpGSEiBJSy4HTEX873H3dW8p0/be3rt1dVTFw3ek7W3uMxV6uwFFARMaji7j1NCFyAFwqVQoDALqqZ1815MnubhxLk/hcX/+1jE8QARDQFfrKscEm2gKemdPtKWREiul5obhKiTGyK+7xfrsu22Bj2uES6iR5fA7Uwn5MWESZWDnCrCAsn37SxJzjSm4u/x2AySKz//F/V3IgpAApUAFFMIHkRToGoLCrADwrZoPa7BrSaW6mU8zwoxVQ1Sn0q8L+XaH5lMuHFVj5Dpjk5FdHjEkM0TUhTMCxAQRHSTH6qXkRJxmaKXKHp7WejacrLftSu8fs0SU+0Vv1+YtHLzseojcyuHkjxX8rAopaqV9O05V8+t/KJi7ax60exqNVMDZE0AES0rZJI3HLbttuAAAEgsBx4cCWDWxO4XsDsL7jk+LFEcwHQhxwtaleObQuiRqFCVywsZ/mQr5lAld3Y2gb6FHK3w453/+1jE5IALrP9np6zzEnmgKWmcPXLqiI1v5U6kXkNmaz7qxI820fTmPGXkeu1Bfm3DMxCk7m2jKP2NVHzNbCTpUtNFI4c+pUyda2mUdAQhQvUgfqQJOrkqiVn////oxgT0T////k2Bri8F5DogGxFxCkIBtNiKLV6hjMjkwcrMt3e6YnuAGTVgiDyrJDif6RAVONQNJCmQw8MnWSV7XceWKEEmZuLPHA+megWI3LmpqJMJz2k1Jzxc2XsnBwXhsmMDxJiB38J6wmAAkXFdcoxapOoKDBG3rokA10uAAWAGow+KicqGmWtfYGs1luDWTEEF047mCSIQyrAhqcBRx60KQdA7LYzJpGeEM5hERW9Ak/ff923eoeXn7hnGvJHUbmv/+1jE7AARBQVI9ZeAEm2lLPcY8AI9n5pCkglqICQyls3WNXm9lsvfqNVqVla4lKY9AUAo6O805n7TWQSavHFFG4GITZkq0fF6IMpTLbbkul3i+ZYPDhfphKa4CCI0gxyXsrRAYAGEEK4ILYP4oQiPQWmKAAcYAA21dFh8V06LXat/WqNoGae+iPOqsTB1VYYxlwtLIVx9RhpX33sv+6QxMLmfnhcEMsPqjrm6onupWkLdzj/OD5I6WIE8ae2GZnGZwAMEcajkmEMQFpUHk1C8lhoBcexKjXqg+TjvGj4IIoWwts+U4kV26iqbcX7pSMpX8NAAA4i8pI1ibsmBU9V5QsYk9cEUtFgslVcOCPqqxqamN6vIJPMZknUojiK7rtb/+1jE34ANdP9dnPSAApegKjGGYTEoxPq2sukW+kO1U2OlrqxTQi7H/jasQ84NjiLkGqWSBIfIuBN4ymPFrMxXilmSDvUyBUwsBQnUdBejfIyfyIzVZnV4dnaLdZIAB3nKSx5SwEOJbXW7dImohVe0CkAqv/gZi7yPGoLwoD7GGHEBRm6Mf7fVz1jdyOexr74Y3Lu3KAnRIYUbMuKIVAZtNtyNxtxogAPheTTh2mUyiIYFEaDXRpWtstdUKESydzoc7PFGtr9PsZeBCX5zky01rpJrBwUHkSNhqlR0w3EI4zxVGwEqUyXLc2MjdFYU23KMrivklLkpgqR9qqyDDPUqmO1TxoBOzhanInB6KBqgDKC/KouqGE6eq07k+TlGosn/+1jE3ADNYP9ehg2OggSf6pT2PThsFyQ65ysEeikZkIeCuklYCVTrSiLlDcrKmsm0/1urjACAoViC0rqsiuuhDx9VwafRD1AJI0TdmiQ1NxDq0yxOiUVRkakJUw0xMnQRgK+gMAWRCgkMlmJpRFZOjbVb9o0b/pTnwKV7nuQKKDcP5Ld3e+0qnPIEp9FsAgASYnMXaRcjknXKAHsvoXul0ZYvIGUA0BONCMmLWFT7g1W1WpdQkWOHLEAw8UcJTOJp7RR0VPs8QmqbRkhLVuTyQJq6ZKWkYo1yOQ80he7rtNVVaUw5MdFctcqus12lMnOp0/y76AgFImhQZXRuFpakxxc4LigEsHFkiiA1WDIukQHAogUKEKqHM25TZWMiwAD/+1jE6wAJTP+T5Jhl8mQgK7WMPDamCSWrEmEZV3AacovUmJSgYJE8gHcjBatBMqwLCX7ADOZWgIRhMkmvoJVKoBXYMuLUEDIhNOM80bT5JrOVIZfhTEFNRTMuOTguNFVVVVVVVVVVVVVVVVVVVVVVVVVVVTMyRIRlRlVABhCF6xQgShHx0l8qwR4dHJycNPmeh0UMCQUl5XGC7h7fyeeGFtCTDv/0FzSYUVAJQ7rpjBrpYPkKBtCQEAcjBDqYeodhUjydLj9SWlh8Wi4qPvgHo0IS4kE4snTRsSjIzA6AkDIDim7rK6u8NERbbbAAsdMknTJcAQYe8ogrV57QlfB3qUjta7ycqkrjbr3s3WBWuv/2VRQVNCqjr/i7YrGD2JX/+1jE/oAMwP19p6UN+y+gq3GcZ8bi9m/gQTW4apmr0D7sWg0mnuLjUdFEKkxBTUUzLjk4srv2/0t1sACMFZjJoU8qKQ6mXwXBQAHT/BFhVF5n8jquhawkqp2NZxTNV9cRsq2BmM3LyUNNWpZpbEkZomcplKvryrq/pB1RTHgZYto9J46/8JDnZ+rNlU3M6m8imT2j5m//3/50wqLRcNQ2vdevJpZSGz5KEkSS20awDyBLlwk9Fnrbto7bIAEoZ6ZQbTRIEIFtaRlbgFSKgRicDcOSUOQbslUUUcFZbFRuSbcIIM60HksXTgLRl48gQias4uRRNDAP5ZlgteehGk65hwRdNavn/6utv5V6jYCWs0puoF2nWXD+//8CnL93NOD/+1jE24AOFP9lxiGRIUYesjz0oL+ut58Iesdob4q+clJXqwseRLuTpSE8Taaq9to3LZAATJv6dhmydLYUzEiWzPTRPVeVM+F58BL9rJXdmXa6Z8Vj5Ylv4b014QMBsi2MSJEL/HZjeQujEk0p8wZ+mFW9YhhnhtIndN//8fhSm9Eem4u3TbF8BKnRv/+ROs4EBooDV2dUihB1doHg2K5T9FQQobwX1Ameh6sAIuShuxOPKCI8PChI+g8a0CMAACZQPelywURKgRcC2DTioYUfJlqzm8ihEZSpjD9EwZpCF48U7i8K6+wUKyEmZOkedc9STjMavnIeAGEAv9kg2QPjWYiQVhql3jDYWuzBOkoBYfUKLfLv/+pp5MnVMAY38SX/+1jE+4AQHP97rD2P8gcfrnWGPXYR37+OPYbO1vL//6y8pzkeJQstfpRcHYpJlG57/tpzXayizlvfvKz4wAIi1xub3YqGOuSWAuNsALNw2ylqa9FDgha6FBLUKcWBDmdASU116z5gOOD9z5eKr/z/pKaO8FwrlIskPqYGD50QU5V7ytQqOD7UEV//ytkQPhnkVbgwJ3Jh/8QtDwaNFyBBzMEH8t4IA//4pHD9AEAAAAVwADnhcogAjKfhYIiBAaBgfOboOCJgAElHjJi2pCPRYFAhERtR1a7up/vWsNHIbXI20hqJkyp2AoGYYutqJmQY99XmlMb/uj44YFdjZhoCHUK8UzKNfAcoldt4HFbR8UvndUgfhD9yDk3+iE4aB63/+1jE/4APUQF1rD0v8qSgKSWs4sJ6eBVoUrz+hWYE8burHO07hszCXMyTJVhGw8M6nAdwOAZauCGQ47GaaPT4dCHU2/UagDUjFLAgFI9tiszl2pMskAAxppXUk4TSYYCcxXWnyvheGPrz2JErLCZk1A2nEcTBsJtiFwSCPyfuKHHgo16mx2a3DP6aL9/6Tn/q5+SPlK7e53PWiZZzp43z3/5Z3Zs3p/AbboAPgVrOYCMBxwsI/oeaioNIKbKeh9njtocZUzJHhJ92RkQvWlYTFFAkAu015qqty6xIDf0Gv20a9MFgOk7TKRg/cQQtgSHRkwIZfplbpPmrYjcmDkgQswlCUsQBDZB9T6bh565Iwx2xMG38ocwqLMjFryKbfgL/+1jE8wAM5P1xrD1rsrcgZ+m9PXiVHqgwysRx4C+Okc2QqdmScxBWJG4XRIUoAjJEvyZB4JiyQQQSpQBUvAAs45UABNQcQoeSGGYSl8UDKr1LjJ2tl7ZOxhd0ywtxZtu0ep7MJZ7HZihkuWnoje5KIx4ZnxgkJctSgqZPFKb4OrPI/AZShd9Rrlmamb7BCs8dgPHFj1pXKgUGiQhzHfaNEyX2fDWrlLr/O+xR2OEztaOTKAMNUl/WzkWUezHtXaRRsWEvOtrsqHHcMTdltIccgAC4cLk5NtJpIh6Whr6edwj2MJpeNaleIY7YY6XYImo2tp7+FP+pJMyG1E0zxcSwG6KVTS2beb+Gfvy6HU+RSv3hrQE+XNVRAZFJNEfOdWP/+1jE7gAKuPOBphUyunOgKumXw1KbqxY2PnSptMjgWcTpSOipH0q+3+HkwhGm6gECAIiAFbwARSXlZKYX82hadbJ2ywsPTHFAiOk/TI008CiIAlyXLSdLdy+OusojR6VSscfFRCMcgBTmJx0wJWnZOQnDVBVyUgMmly3Td4BUVPZDJEo6sUh+39A80WiCFFKXQkIjzqRNGEm9k4ViVB9iZauqGnX57IeulD3ROyDuJBy9tStJAkMPy4PU4hAzISncUSSA9C8IePQf7up3II6amOa2gAYAWRYCgQyuNRVakKl4iMktQ4OHARBRjkDsWayyFD6BInEmgxeXxFplJ9SEcvQfH6RwGJSyB0YB4nnVlGrj7/wGOB5NZOu0gFFQlXr/+1jE+gASVQFNrOXrgb6f7jT1J4Y3hvDNLeWiDrILYrkNLqDUX2sQn4RynnwURLZkJL///5vqqURwQNlsKBgVtEgbFA8iX/xtmjRJIif//YpfTEFNQRljcgLlvADqVbbLHOg6UqEIWvo34kV7XJZoA9BQDBHEsIGVgZZ4WMioRhD+s/GJYXZOMdWkPj2L6me2EMjzoi3zHnrIKiKuTunh3U2KKR7udcRP/IyalbYrC6Zla7YGfEzVO3Nz09Ui+eXW82jU8qm/5pu6eV/SGKyzWEuSwAB4ZdIUSQsK8nQBVQrIboN1a3UgNH1xiwwWeW6+Y9r+GftwsnAz1xgXfEVSKICVRRrKJGoOB8lwoa6ckLEMTbJoO/9H8ZVRv/ch7J7/+1jE/gAUiQFHrWH4Aiaf6Im3pwo88UFFiMhBcoGEpJibRcowch+IP+u7FSEUo3KQk1AAlj8eEir8QPR+lI1qXSCTwOGEqWsyoE6l9gECTy8S9XLagNImR43qwNrc5nQf5BTBVBpMp0rx1J5HIuIh51K4vyXitUrhdXHmsr58xJYdmaK9gQ1MXsXmf/5Yh/H8o2VIoeijYy2w/WNCjMpdTxdJjO5dZirpCoUX9C0Ii8VySKiwm4nKv8AibK1sIbszR4d2MQ/DrlO6ydu8mYhGoU6iQkfKXd3ZeP964tSNmZXstu2nAtPC5GmaStRLwlrxncptNSfy8Yo8dq0kEGpY6GMq7V6pNpCZ11CcjeHT/tvfoWh67XUKLhVIuEZHJX3/+1jE6wAO+P9nrCXtEaYf7rT2JOYBDY8MDxYgBcVm7f52koiMzDYb3gmk+kxBTUUzLjk4LjRVVVVVVVVVVVVVZCbbckkbkAAHliMIsXZDHRBLDwhnQa5bpSMMh+HZZPwqaEEZrDI+26EJzYTVMavhSCw6KRzFJ2U4zYOLK0pROErJoJhNQVo/Jh+mjZwicqVx/Zv6YyBe/zLZWGlYWkKOZUrTlLS1sG4nEsikkskaAlPiNHioQXYy0SGy8EhphNP0fStxxzaS22AAHKIaD4yeIgYOQFRWJBuJyJMdwl0sNiAO0YKtKVcZGqYzZC2ITX6rTzuUMsnql/FQLg8YhbJWWHg/CWrtc5G9rk4rLUjp/Ighk5kMYFVFqvo+uWy0bjn/+1jE/4AQ7P9drDHmsg6gK7GHpf7TpmyZ2IgFAzsDasznj9HphBpLSa2ouiSSUUoUSUoARwSyEK7htO5BMRVLkRZ3kOhfaTuMyYmY4aE+o+vapUNCofd0IKESTMu6gIIbYw1G5Iw6AB4xDtLsDwSxXkiBTqAeR3q9CzvQA9xzhvR6aVxuJg1rtWjj3UhK2dcx+s2AbAH/W8kpJYE9qGTx/F4sCWHaCVYFiJ8HmasI90SGcwwK7vsoytxcYRJgbzkQYmw+RgrtK4//6f/UUgkk3Kp8APNGxSQDFP10HRGai/JU1rGCQ2CbsVhNtPHcQiK7NtSzqAHIaMr2V0rOjWV5MzMDB0An1euwceFEDg5ik+YC16cAHaPJgMCuh4/MfzP/+1jE9YAQPQFjp72BsdMfrfUDsA6c9t1hSR9AhHh4XzVI7NgKopEZIDNDUfKhWKwjlDgGb8AUcPaccr1tlxx2OOOQAERqVlkZ2DSAcmtimaJg7DYwZfhPCn5iYFKOJvyvcnE1ro2kFknvk6pwZlHpj5yrF0xbnpgug5TAKozXsT0YbmWJ/r4yTSlEx6ag0soNVtg2kwUSLRd+WrGuseI5IOSDPDZoKDKpIAKpZQJPplA17JEosP1Hn1VwvN8holaXRvdYIhlJknYSDIUmTSXJ2i7qovkc6SEMwR1Dx9h7UZuGG4hKU+W812VDDuMkGaYqTVzmtHcWw53hiJAvhwL6jHwYUA8JTwoxoZ/XcYnjOvxFqeVwWUibaHk+BjxA2hf/+1jE/4AUHQFLrOHj8ecf63DzMwYg4hmmOOga49Isq6H2+J2fxPG96WjGN+hdi1PMykIdaXGm25G245AAE6/Y2pjUcyRK2dfbXE2CGSROVUC9g2JUJCzvidLgqUQIU2AsM606aCiz0ZIh5UrEBKYvfSjcPTEChETDceSSxssydmMzJhWbI19cqYsniEfXg0vjUpdiUfDV5dHRcRWJRQxEt64/nqzgQWSNAXizIIA7qZLuCpFygQ69kzC84+wFQwUCDGUBFHWIsLWh4OOd6bxVwRdxGQKAHskqoVSH1SYVKiojEMQo8kORLW7QlJBQHNPBzp00lQgxaR6w3mtJl3RhTi3sgVhxp5MFyWFRGFdA4ufUjsFga5zj4PklZIDV53L/+1jE94ANHP1tp7Et8mugKWUsPC4csGSPgbhcxviaF5CNibo257nVZiFrN4T+AtHI0LklI3gwDoOkdhqyqk43LLLJJJAAaIQY0SqbLj2V+iUtkFHpglGRqyE05N21uGk04GqKisjlCajkM7PRPopsCRGgdB/t6Xx1a7HVlrcnBG3xDiwxaqXNtir1XfayElifvUXm4T/rhc+RtKgAkABAJWAOkuNwaG+zBDM1AaEFGjHLKWGAKBFk0yzJASaCshMKMAsq9yFJadgis25IJuLXo80YUA4M+s2HGbwC2NXlOnOirKyEC725jqFcJ0Fx5c0pbzoKZRJQOH/pZxr7iR2u4bLmpwcvSEQLCV4w/GI2/6KjTGIq3vovcvTNXYyzann/+1jE+wAOEP9rp6WLsoqfqKGHvXdCU8kQELKp2KwzlMN1Q8oknG0ljkSddrjvJDUndh+G0nnUd5l7fF8VM4IeW9/6xYm9dDzROmyOMNpMQU1FMy45OC40qqqqqhGU5I5//gECANAcJGNIxR+ME5I4C46QpHm2/gVuJlSh6kmMrTmedK7zUC8aaWXrECJth9HV2K/pF0N2mkZaQvXyRjQdgISCSI6IHJrHGj02SYo8SejC2tJwjTfMHCTcFEeOtDZEmiEYuGi5XHG3G0AIgbDMdB+I0BTEC5yJxcUkYQoSiAnGxMmBx9lHFOBKLlW3oR1l1NJF54eQrEU2ZdaYUajmTkSEo0oiIS9HeWBJcMqSWpjqOti5Rs8LGnStevC0krj/+1jE9oALuP11piVt8vMf52ms4DLuYD6KT0qGKNtIS4kR+x/bVrFsaPHXPgCA4Km3GkwAXZDXgr8LUQgpoHxUjBgSBFJwvhsC8KYoFCiIB7b52uKw4Istt2VGJIu0qIVzJCP45EMSsQ33kM/pcEfMXouCpU6sb1hknYX0NWq2VaX3Juq46o4mgzrqKzyszaqVtUN6yclEkhss0+F94rIy0pCCG6XBeU5O1MrNZgJlyORKG8nSbm5GdhRYCSUjAABW4iXnpOCMwgjLxuAvkvs4Sh6RKYbiJ0tMQWa6HUoUaPw4lSoT8GkPxRKsKs9TmjDCFdSBho1CicNLIdTEqS8ltSSGpJRqAhhiD2ICfBQn+ZxRLZTyvVySAOMsaSdF4kP/+1jE54ANFP1thLEtccif7XTEsb7WLDMaxbTpcSzFQn0IiNZvOBIhckKNE7zETiWn6OM9gOkbQGZJgqTHFNHCZgGJhf3nKxaPYCycrp8jl9VWQFJzdi0vk0mj8v2AAARvbqNUrIgos7OaagTsVrA/wJyw5VFF7lTKc5T8AxAcI6Wh596SVS+VYVC/DV2GKaY5UmWE/3OUV41WYsyhrj9MMjFurle3Y1nFpVcqYa78jr8/D/xlNHDNqQWMqXlLnvLeWXKv2foKW7GJq9qpZlW98//////f63Uz//////y7ayAACRkUaidjtml+/AAAB2FIuSWSrqg3MnC1wjoIDj5oQk0FQyQkwmQ/U4TsubVswFDrm9ZRuTEBGVJPSQk5YWL/+1jE/4ARnP9TrDHk4pCgKGq08ACCujyDkJwjV2m12ypQ0VUXIuReW9zScRipCDnMrwfGpAiGvqBmFSa0OSCxLnOcXlZDniphi3GWGZWR001nUyzqxtf2iMuv///+qSxol7////7VV08KC/hfgF1dVDR7lElB1kAuUmC72LN3Tzjrlw6ShWpwlqFKxVnIvnGcyJOs+gwwdRkj1xSeKkvhqG8QRzG4L9SlGnnqqWE+hiqXJ1sB1syRR7IiNTwP//8f/5//xn/71/8Wg4pH8LHp8f79/X13ilbTQaQkALAMQKApQ44thxh1kCihYmZkhIXWqaGcCIlDAlWuKtRpQwlpDtI2ZILQ2XyhSHeUM7YK+hij6LJANHnQWAI8uqX7a6r/+1jE7IAR0SeDuPwCUk2k7/cY8kIip4QAEnVYxQUWmBApS6PhAJMdAE3ie6pWXvK5C/XYYIJibBukFE3fQV619SXX9Ed5QE4QYB8cIicRTYkuGZJsaZQxWaRlia3KTAAapIKlwAPwhYSrghXANbqQUKYCf4wDblPF4M1xRbYfCqNlWoauMpF0fCObQF48hc1luSyZSmFfANmIrjxfJuMZDOZjmpX0jXK+oMQhC8LKMOhbw9Hf8QHuA4EoqZIqnumWEPohJ4rKRRcZSm4a5/vatqNO1GOqUO4TAyJrAABQtEWvAcSDiMJkR6MYalMxGosTID8LUzwZmoOUt+mQnEok6XD1ucVLgKhSdbh0mKoHRAVBGPQjARFq6E6MvaeMT17/+1jE4QMOWPVWPYeACjifaYmmp0klHZVcCCI+V0JveVy6sc6ZRL//Z5EW4MtMESo207KgwJslIexhRsIItHfh8kUjFEBt58ESk1UgFOySJSSQACSIwYsAxkLLg941tnoG0qNcJx+PbJEPlgjQEJ56iRouWaZhsvHI3G+0K3yst9WwxzH2n4V4ytYbNqlUi1bnc0e68cTcz6/Iw0x72YirmzD5AUgBECrfX+Uwa/iRhzpg4GyDvedo6Tj6oewAIM2AZQT5kdkGHDeYIShzEGhcwGPiKBhqASSLBM4BAKAvqNrluXmRKXjRSpBoZYZLZu75pniRbXWZq9jEpgJnLJqRkYWFFTTCOCbzVeR6aNQsFlVd4adON4cpDENHisFiQ07/+1jE5gAPpQFhR6n6UeQfrHD2Li8j/EKNFx1Z0c8BtAeCwIWXJxtKdSqcaJii5JfDbxlp5mgnuqCPIAwG38jZ2vHWVs8mCMis02lA5By7ULTAgLAGVdCfJJYSJbktt8lskACqR9ITHEWiNXUzPcshSNtVNEjhEPhofkrMm81qW3CgBSRtqj9EARzdRB+cHyAL9TNQjEQcUROYtWN3o5vbEF0djoDlCbgImNyOquALSoDBcSkwmqVroM/EZ7p0Cx9fzLV0qzOzBImNezTG4Q7JFbl2ARaQL9S6s4TZoGdwGEcqD3wai37AWarnER4VTPDHI07hIFaJm3pltVyHIQ/5b0Wzs2hBDn2fhzHWebnH86MQouR3ExSAp4+x4rofJRH/+1jE8AAOQP1vpj02sqOfp1nMvTg9ayyZFAcjKHHdeCxYjeOoT3Noz4k8omYCMF6S8wE6BaIWJ8pRcTPC0hlljTVdTEFNRTMuOTguNFVVVS43bNrZbLABjJIKSj0tLxDxake1a7QqFAIoiSBwPMu9NMgaEhsmEy6aO3aICsvWyXaEAlpo+wo69PZWCzNYqKG7ZNuVUays7old3OK5N6N77LebfPzGTejElq07biVKhK223bW2xUF9QL5GnUTJeEFG0vrhjSMy6YVgvAvmk8FYwtqqM5obrN8Q9lAhpQmshjU5FgePmtTDOP040OclNEIh2CiAHZ2VBAYSpSupI4kGpesVTEfCSH0ZBwQCoex6XnTM9vsEKCQY3SuXVvYNV9n/+1jE6AAJlPt9pJy2Mpgf6nGMPXcirFsYiA20/qeFMvCMfifwVrIV5YXR4gGgAduAAbup8o/vaooo0Kkdt6mBEIHe4MRJV4MTaXHrlVZyQCVjkKQlJLFwcxJHgdJoC4MaPOmDMyCRkPPh0aR6IamkJLCkz8Y1CnUoxl+J4wluP40HBCzrQpAJlRye6kLYnWpSXaGZ6JZGIYaSreIY/EgKBzH/+bK+m2p+hypai2lhU50N5qwzKbVweSrHEfgz1KK6W9ySAPsoF8AYnJNpNMeXBNxZj8DqiJ8uccuZkLlKrw3FIdBbD8ZImyjEQgnZcUkA4CQCg8lgkHDdEQNxDLhMcQrs0sgiergonJ8TuHZmUxLDgUOWkvH5VLcnIEQpIQ7/+1jE7YBL8Pl9pJk6ehygLnT3sXa/bDo+MT4SY4DouLQnMHbehHayVQ5iAeBeNy6nAmWC/Fr52bh4uFJAJZ/FekxBSbkkjbbkbAAoHxWaFIKEmgqLBeaQhUYesGC5OQeEzZAoYAciBiZknaJxRKPEzaA1Ga5xtRzbBJ2i/IE4kAfBQEg0kOXrPezj/P/SBj//IYRvGzuf/+9y1bb1deCGsRmUdOei4eZPNNuXSRyWyAB+G/gFGRCyWLCkgi3lA4qw4dZTtApxCC6oiOhc7Au0mhZbDaUHP9XUPZNnwj1e6LeXMb6kgWhv3uvq2IVLSq1eS58J90uzdKAzTAISQVOJ1U//wTpm+mdPqlks9N4hJilQHC7c4bynpq+VarWVSof/+1jE/4AS/P9GrD3rsh6gKaWHsHwqkT1tToer1tJhyC5H4SM4EOLgyK6oykxBTUUzLjk4LjSqqqqqqqpEw11yJ2tMAKRkiB5De1J1+CqUzGhlzUBKNdE+swRQ/LrQ4VLSUY6JZFztQA82WA9cG1/jESEAbDzAYF9VRoLv9cKxrLmfjer415kYaRBA40QaDpiTysJ4pE+xODUaFY+vBRKpfLnLGtTJcuT5dIUrov8uP//8tShevYifSqrNOZ4I60tadcW53I6vLrttrIAEazbO8c13he1QNUjRDEmcX1pRF6vBF1HXZSkFLComnL3MhutigPtG6cnJLoApjERzEvM03xDHRa9dz5u+aONsGezI3cUcuQ3eL07O5rW46W4j4Ov/+1jE9AAMxP95pK06MjWf7vWHvXeKXnJiOrfyomKTmA1hSiEEkHScJxicvQAiAYqA/dGgmLwGjhbiQaGAYKiASDMzuDRgiTOwgrHBVBA3QylfTXxE9vMzAWAjCh098OMDAX1RHCoO0GFXGaqFU0aaooXA+EFMla9NwSYmkaVNLsbb9zfm3paexKGYlGsPjK21IVnxWGREUJzguKSJqthXtbHMLmVuhX7t/Y49UKonQb19ZK5WbYXdmoRdlff/V330bBG4JaMto2XTBVqRXEKTUFRVjnOYTciSABBCnXMAt1oNtni9pRhFTW5bzQ8a0DvCZMq92slQcysj4fRImkcXCAb6eOtNd8xTJJIEQlyGX12udKShUaYQ6mCoBRSYv+n/+1jE94ARFP9xpmHj8cgf8HT2KxaCafwFhpo3R/rYWOSYJhU2dIUkTDPlv//D3yLIeEx0nFLRwA4l3kZDJYSUW0pHLHAANMS5gODNbAUwdBsWTMC/rloJjjcRDc7VjQuemBbqG0ZC0jgMVpEVgQJifWTTrcsXIdR24/OUGjyGVkagrnxUbIhHmYPCpVMvsJz7HtJfVHg3EsnjwUEIz2Yvea+CKZ86jgCQsNVdM6phQRrzKhfEgAAwMmAYcBSFsOCgPKwfRRgwYHBsuAUAKBjgTBREhussspm+ctGeBJI8xGSCU2Cw5ACa0/ACjrh3JTUhH7rFhgodeC6AqOBcLjdFmwMfkwhY5EMbD9j9hVpgixn8rkyW0TQ6m9jORSpzP5L/+1jE/4AViP88ru8JAcEf7LGHpTYZv8LxqnpbBCx9JgSUb8pZE+EnTiEO0pjwovp2tLIpQluA6RCgN47SFnKOBHsME2wfg8YSTEFNRaqqqlQBKRMKgAWpS0Sh7Z5ZmMYCWxaL2QsZtlmTqXKKGPRxgjwhv5Er/aN+/XtYYXzBDqDYLHPjMSNxBWTz/fN5w9UHZJSLIimYkl0YuTMMzM/dXNIoGFvWUJ7HeLlf9PzPQjAvnjKJEQieALBpPK7zSIPjSvBtt3R3SwADyIf9YFrjQPYwlfgzZuA6ddEh490WP67AmDJxLEPO3He5/MWH8QXv3gYyi/n11x4tl09jj0254kIkrRWK8lcwMyUfKJmr83uhWPl5qmEV3g/LKZAgGa3/+1jE9oAO3P9vrBWAMnsgKaXMPa6wXd0mFC30spSy2UEb8BRWsqjyYTBF1UxBTUUzLjk4LjRVVVVVVVUAAAkCTMADEQCQ2TCMIlVSwuOVQUCPoZxEhMITOlSTQPNJKmASCz3BYHTjGGcshmH03Hcf56mHOv320Vq+KM2UunqBHppUrioyDFhMxLFpvO+zXDAZSItIpj2U5B1iFYbh45imm54ZdIwx3rqnalw3HIsuBjHGnRHywrqYabm4q0oFMPL0X01EkQpcMeJ3iyXY6VArjlAQiTHcZ4P8cKsJCJ+PpbctV4xxzeW2SAALDVYtPNLdJDgZHyYHENDMy8xvNTinE2pRKv0fgs04Hk3dqkfzaGycr0ek0780vf3KN3v7lKr/+1jE7YAOMP9hTD2LsdOf7rWHsXbLKWhih393/FXV/ERU5+Scqtn48rUOWkxBTUUzLjk4LjSqqqqqqqqqqqqvFJubSWNsADVU89qLjx4F0o8NAlFtjScGU2IGwPrAXVQiTgsi6gjxMAv3x3q1ClZV83zQ4A84rpVkEl0ki6IUrsn+ii8GQm07OXoQDY0WUhh7bYEVqGqmS8jxbVuVcYJ6KSEZ8BpWD2PI8UrP3FVITv+8JUPzotmBhEJ2AhjC+He8cHUrs53dD1NgtsTccZjdkjjSQACU2yFKFnLAJ0UklCdCs3Ycht94sKtLkx1CJhkiI2UzpVHkr6QZe42bhGjVu8Aoj0AjD0Bd6QKm6rVn3TTSG2m2nJpSURpGJmlVyBD/+1jE94AUxQNBTmnpwVIf8DS3rF4QIOU/6Zx3Lc4zZ04q2ZLxJ6/4QcoUapQAmRhQDkBaRA6CUeia9gMnj+DMoYKoSkGrQ7CFSo1gcBJ1LMi04c5LS1CSEOKcT8X6HwUkdamUQMJdMbed60xL4d59pWGSdSGObKbZGZgB8MaTkIwgGwOEQkukg/SwFgMxUpqEoU1FRCdbVGiUchxzG8LkzJMyUsuIjvRlBJxISWnsmkWLAuhFWNElEb5fp5RfZu9gHWjIObCaS5CTfTVgCzWO+z9PJ5c07x4tZvM8Djh4H06hxipXEJxLJpwS2FZyhNlF3C+mjPSEfJcTRarAwGRWFCBKPD3ZfJ6JeZoj0rGkzk9CmjOYqIlh20QUS4zHExL/+1jE9gARtQFxrDHuMaef7rT0nj6TolH6xWuhMcQXjp4xcMjlScS2JAlXkuOzMzvWuwDo2mYmkm60m3AAVmU4jhbgDCldkFRFgyt7UxccGeCOnhJVDcJVdKZVSczEKPGAEQo2GdVeWRWwZJoMsrCdEqbXMzW7X2aAokc4GGcLMGkBEJU2sc83hrLE5Xityo7PycYiQOY9leFMoLiCXkhLKi61zc8L0SGtKqx4piKZFcScUf88vA+dn8hciKEcVcml1tklgACwPFsHrF6LmfcZQqchUwGkIFPSFlUCcQU1Uh2JCvXaHw8NQkk/IDJI+wgCsyXLzpcN7AC6HqGIbri91HuMm0QWE5kAv6YqcmeTgOjJdsPnjoPhuIp5NMbuxV//+1jE/4ATfP1TLOHoud6frGWHsReyZmjURcdAk6Dx8JEqIaBIgGwgCSI5xbpDzmXGY242knAAD8M0yGjKxosgOAm5ynWdGwst4WGQZLX7SEhdKqeHmSRqvXsNZfqJDoBYDoPwvtnToL5U0YYaEkRA8LAXCsuwmsYRhmVFSIJ5cLODQemiFjuGAbmvl9p7O1sbOyLlbRDjiKrUcfUFCsHRInEmwlz6ispZsizsLcNR2PZAnIq7HYW0jbDOnnJkLVWXRJaNQpONPuvAFiRtqpd5fAggK/AcxI6Q6xrD6LrpWRFqVjvQtFr8HKrJkmUqV8DqrpjvtIdtmfSBFyP4xN65iGZe4b/QDDabxd1aziT8POo0B2ON3fZvI9a3I4U0B3z/+1jE+wARFQFjrD2N8fGf7jT2JX4tBaq7//98ud3iYnsKpuIuiDJW4ZCQS3TkCDK8vWF06z+cu4R5IstwWsNoOiAaZejPNNBtYXYVkbTfCdUCABCdABE0RKZCYxi77CgZ7Ol+NaJHR5iJJqwsoKglmUNwwhg0171LRJQl8mkEGThknsa+OHEcYGiDhyCSA4PCe0cMxqIpTSh9k/VkMCAoBQYug8roJw08DN0fiajztz8rIIIuOgXwF4M9MyfZv+//7bqkGc5mYgxqOKtsg47eQxxmnpaANwxHqFJEWHgpFAh4+Fo8GszgDRNdSHJivGJuN//4AXCDkKJQGlBNU5lYD4WvQxNYSTTVeTO+kjzxcJe07tefNKzCXs8Hz99Dctj/+1jE/gASjP9drDH2cmEf7HGGP4bK01UHWt2ZcnuTYTqIALDR5z////nhMn+frzDkUjKv4lbVR5SZZUST+iSa4OqLGKRppOOIAESXvvKP1mSxBcEMOCDpQiVjCkebldTl+sX3Viv3GQSe+gLIHNC46Eic8jitlrRrxqMW7x4RG4DL+UaE4yX9xzAe1TJgEnOIR8ALB+2o/nXbA6////6EYgKh9LKqZpn7CeBUBoDRLJ0A8tKoZKQVfCBQdiimAIWFYHCP8/FGyio0k3JIACKsjkKSiYOUefr9JiYzYMJHYuA4+INlmudiD0uBCR+6yxaiHyqa0VLxfCLTi6SYuKVdmUzT8/Yj5MvLxJYUBwXcEdIkxjNlviAuC/uv/Dx8TNz/+1jE7QATmP9I7UX6AXufrzD2Lo6JV75odnqgUN2nkm/RadWzhSihfnVDh7/s4dVH9i5dlWpTyNjfTKMniid0bhbksAATNoRBTJPkvp9yIgsSrWgISHecLpwmqoBwRy4Ql8CLDTfyby2IYxUiOVjlCW98/zdqSA1RI0qUHEaRJ/5jKiWf9N34rU1CriadY2RxUxdQD2i4hIwJLsN9NZgkDC+o4LsEudXHkAAJTmAGj1mhgIOcqRAYfEA0Y0zF05cCCAJXEJlCyisO+3GcWw1WykoTehMAiMDuuu2SLy9NFH6vcViZdIhBMIVEEEa9IFSPRuiTpNpYgWC1Q5R1l/awJwk5nBKBuoUlj7OiJvKlCSJQltM/vWX1OVDX9zddPTj/+1jE9IAQhP1trD2VMgef7bWGPEabi3mChp1EbLqaJus4+QE4BpFIE0RriOBwHyKaPUshGBuK4vhQOIEmJkeDYoQ2VxN/99UCB5oStJD03wGRvLWG524kzlxBGdGEg6GzSWCKYMdmYg8y7GoiwIFjRJptzEyFIVFNGREliDvjYImjeJCqM+Mgj+hr5xaAul0X8CcylI9EeTUsC0ySLkTTpF7E9VhS56A6jLZqPThzFOLyTGR56R/+ZLkRXJkpoqosPp8qp0IvLzMrcjWxRNpZjn5N5+GJsVCSHfj2WNraWursctsAAx3kDmjx7yWA8QgfPsKtNwD0daUjOLDjYiJXJAqhSK7EslbYRzUCqh7yhCnb5zc9kshAjEmM/9rZm/z/+1jE9wANhP9xp7EtcqQgKF28PTq/6RGgniSCDv/5d96olMowS1A/470atJkDyiwcH+jVTEFNRTMuOTguNFVVVVVVVVVVVVVVVVVVVVVVVVWyt6a2RS2wADwOswYbeQRKB/SAwAhJJ0EFNtdiTbtKpKMXlglw8U6Rbi8yFVL828V/a+L3x2KVbpQzTX8G9+jXo1arBxfOBpH1grjlj7LysblZ8wovYb+kT4u5qwW+56ELd3tAiebcqfglRt4bzDY9mVtnPSRToiQ1WSLGQsmiuO+M4Kt2ywqMysix20MXjobi5QSr7E3RcU201tudzrpA1RUf4btVEFK3cN5yzvbq5Vvtt9VH1SiqETzj8gGZzAM+CzftLw///zwWbbSfsVn/+1jE8YASsP8+LeGS0YQe8LTHpY+/POl7c7pHdW8kQp2kbF1GSazIVhR1AiIACCAAFJAAGVHmLngbcBAws5NNTAIEGADoYwG7YsFi4dQZlBRMalqyBo+mqsZnJQDdNMUeWRMEIT2FkEkMiAe/EmCpmp4t2TXd6LIEIo6IBQzlHc2PA+4DN0HsbqrIaPM+TyUnfE2EkJ8B/TzddfI2AingyHX3vIWqRpjnJgfpOg9RRukmYTMFWbqzgsi8E8U7EO4gpXk4ARiYgqx2qg12swCEqweASKxokDAbRhnKwE+FgPBWYZYAUae3+AUv6Unb279ILWquOu0X2euXDz+R3drHE46XKKAQqGRAPr+EmPDeBTNaTReqejCw3zyZ6//341z/+1jE7QBQnP95rDH2cYMfcTzHpL4c8ad8nf0kZR17yVGXgop30h6N7IfAZxURzkdwKjlVTEFNRTMuOTguNFVVVVVVVVVVVVVVVVVVVYm37bZG7YwAEFEhEokgLLhOgwVQh4bZe2DG4BT4g0aOiI/EMmYpjxYKC5krFzMU3+XFYK5+qdWmZVhq0pBwfDx3T3UvU6S/cw6+uDpAoVQD2jFAOLmqTnBxKkkoNLpFJJsTgJCA0STUDJAKgyLMHrJdv99btbAAEPBYlqDgbzDAZDiNBZOh1hpBG8jLV0MsgWPj6tmiWXA8KHWebKhM8mGGYPKCIzhLLACRJEhImL41Hp+YPEaZ5voC5OfcTK2XK/WrEZQgSHGBhs0H0ZaFqKE589D/+1jE/4AW2QFHrWH0QW6gLnDzJqYUOJSUmBcVtnbAcZDwjFxGyOGSZkkFGExBTUUzLjk4LjSqqqqqqqqqqqqqqqpEVUVodnjljYAIsQTMPDsuQGZE9DcKdC8fw0PEsFW6IbCyGmks5ORb09zzuR7TbQwr4+5mzigr28sqC8gj0hlYsn6Y9oc/jajW4LSAbjAk5SC/YOTLvHrMzMnLJ9IfA9aKRNI0A4gAyG2CPGVWZVeHayaRgAWg0FyZuWN8nsuF4ZpwKsIbmokhiFo+mQehQrNBqSjujr0KxIyEwNj1yMTa2mBv3VpfZBFu5SdXraGYilkSU5N2QmaPFxNE5UImSaU5yqdCN7faUKyfrCnW9tYWd9BcGBlYb2Q1xP90+gz/+1jE7wAN4P95pj0i8euf8HTGJX4MJ4uKEqE3T9MlhQ5Vzq1MKJQD6nymK0BCfdlwA3BUjvpGJ5pEJHIiqdvEhmvmVkUFmOo3VdiWsDjS0gGLpLBQ6nigZxqAc55DsI5EmfBnQgd8YhgSUgikJsVAa74tAj55HqlSCoSvOmdqdwi9gnAewdQGMvJehhnIVBuBIh+qJJKwtiTHrXjraTPMwchuq8XMX5xnOiS+QU0QtBYNZjaVw+wlBBFiE8NFHE3aycIRGJAtjxJAN8XEPwdgauPew+pTq2ATRnJK6cgnWlUcih2G43Hn/k0psvVN0TfRS5ZvCJg/FVCF9BnCZoiukcUjsoOSC4ViqeHzEOXJ5quR1PVpxYVDwdF4kuHpOPn/+1jE9IANYP+B5hk8cief7z2GPX6CsjVuFhwmF45N0I4Lp+VUhTTHxfTHLzakzJ5oPhXJ0LXnMEKU4MK4ice9YXBeKcyBfiEK+LsiSNRV9bQAWEPCAL2MZCrnVpAJxaMBlo+UUJ4l4iHzp8upooLTUrnyHNLOqD9Y4CuhuJ0PF2q3LMrdaGmhXC+qNHKxZTK2on5OHooiQYWIvSzSHn3IHD6P3qsq6AuO7FThEdoRoT4T+iPUoljUCApEQv1OAkIjLg+IZkcNAX1mhNheZLablQwB5EDOQawNQQ5KffSgf91p4egXUYsGIkBHw1kslkQiANQQJ0cKARLxKfNTBwHx4SMnq0Tw/KAahD56LIh3UFtUPYpHA4Q272PQvNoUOe3/+1jE/4AU3P9DLOHjwgygKiWGPjj/UPhTPmKKkjuaFwcIrqKOlIJtPk2N9hJiVSdLsxFxTRjnSbiObX70pZV/2P5CzDPseBbq7eIBRYaHmXd4jXWWAAiGbkohMyGPIgE92jPg9WCwHbixKzFTSG77byk0Mhbpu3hqkhkHIrZVu7//t//X/ujfTUYmn1xL4VhzDyJRqLETDyJGAn0hXP8EWZWMgB+ixYP2a7GdSQhKQH4LIK7QiSLBIU5w0Kh7oLrXWquQhTGLvsFLgPDDyGAkMumxBDJW5s11raRAkd+mzpyMGZgvpnlhc4wGHmpKLqbq/YyXzCh1PJePemu3dMN7y7S13dT0BoUsy5TwuLdve9YkGJtTm2Q5Slpb6PA2iHj/+1jE8AAQHP9Xh7E6gi6fqjGGPXnMkt0ERc8vq0RRZtaeDYBUNex3pW/GNtUrMVortiCRUSvWsWkxXLhgC2S1uJwzPECo5HGttgGpBgMIUM81gbEkPIIFjgQ1NRbY8TvhQOb7Ch9tuTo84nKJ6gEcgAAwCZIska79jMRN9iFkycwfJQqcUgT4/DmaprtShyJVNYgaboiaTZRLBYViIuKXI1y6I0U0mJAVgwubo8kPDMeSKvAgDLKVBkBuY6SGgKJHPmDHhQ6u2CQhLl0mLjwXt/DbrMVisBFyZhuKv6FNloSIjjv80qnTOVgMnUACAUooVWcCkDLBMGIDioFG2exAZBc5scsIySg/AbaiL+LemhByBG9H2iD7LmacZvPEScn/+1jE7wAKUOGX56TAer2f6OGcYAKJbilM1KFjN1ybCcE9Xj8RpDESui2tacNpSkkP1OKtDkcdLqViRatVE6KbIaoUSVVsUwTtZ/bedP4G6gAZUABLgAThtCwypTA2FkhQKiib2qByVIXCjT/UyXopI5ppC7Rh5EhueIaoEXJSKQjy2p4DEEcCTI8JETJGK2n/HLCyFav6la65Zv1Jkwmz31yyy0qWYXrUxwWlx8wdX13F2NAXAAEQP/MDV0CRkoZUJsOiuPzRxmdZZ0snsaIDkkjC9KGbgzmldkXoXiUHQ5o47Wg92pjXTCxsRfjBkbj8ZGBthSK6d6iGI8pl+OnlhuJPtt+vKpGpw4oJ5aXGkvaDUAIEIFCsdLO6XVELCM3/+1jE84AN8P9th7Elspsf6EW8vXIBQyERgXNTlG0Ka6S/EAeGwo4Xmm4miZWB1JEJiFhoq0S9AKj34jpMQU1FMy45OC40qqpIx2WRgqSQAJVM0ORViLguiCnROVqGkokBCYYChKSHBP3aLhqSV4cLcqoIXpJkK4CRqBDkz1ZrWrR7zDCd1r9iZDs4GhONZ8qz6sZEukKjCCyeThlOubYQ0RTPIEvE3jlfiuFS/aA+xU04fwnUb5IMayxAiU3JK1/OBS3R0MmiLRikydjlKXNjYEbFWXz9yenIXpUxGPLNIrF0/U8N6dqRwdSTLAQBoN+Opra5bGsU1K5HTiREJLjBoVCmwbIZSP1vTMC0/AuFYTl1qOHmmKJWjRa0Z4XhEBr/+1jE7YBPxP9XTL2J0eGfrXD2JwYvG7TpwZTh08hIOtWHhySlATR2W8SMdolLtrYVLLAAESUUp4uI2gZMMM84BI1eVYWolw1G4iKVzZWjHpUYhgZccwIRKdsljJTbByJAHQUGkYJDFzYC0sHtGsTMlkQaIcZSaJojFYD5qJQoj2YBKJg9CCIohSwsi6OC61YxiOVokqjVwhrTJ1joVHKJrU5HKUqU+bKo4EwRAARkAKloAIoAkDAgwWkGPMnUAmQQIphh5Q0SwxF90UWIvG/qJ8APszBXjjwYzeTPehIpKeBmdqJFsI+8cAkAmsD7xWCChA8diD4Bw1+JqvS2ZtaFgbeb+ThFlMEcENVMcI+kPPQqoxe47Sgvk7UqTIFYHO7/+1jE8YBOXP1xp6WLce+frbD3sXYkOOsbhiTHqfCeUtB5KMyTeYB8uJCyVuhhk8ZS8oAgA4I1t071sFfI2ap/hxEuQkySRJTA2kAC1GkF3AESXFiCfZIN5GwyDUhPIzHh/oxOsRqMqNgE1Uq/UvpzJq0Y8EJiYbXvSS8dKoUSoMASU82WzPXlslkwdJqal1eK0b4DCBUXA4rEROMX1M+lLPB+hqUAqxfFJXxtlbW4nveclNxGRkGwrLAlgkgX+AwWLL2FLIfEkJBGhXpALkoAIuUqiqgEMGaEMSF1l3rael1IEky5JWrlwnozaYyFsrtnQRXAxA6CAE0E4GgThTHxZDy3EGGuYztIFxH0fyHSyv3bcoFJNCVb6iSnWThbicn/+1jE/4AQCPtzp72BcqEf6KmsPTkzckOa9qn4rv4PGtUIMsj3QEVRXIwWAUAQglRESIm4TNwkkw6Kj7imscBiSyhJSKCougaMRgIhvF1AJNRtz/4ArJi0Lw5VCCNipxDLS4eVxiiMViYtFvT1MJ5mPBWD8x89YbQPvRAHy7CYfW73nvklB+tWqafdh5K6eFgdSqVPmZl6Zk9RINLzAjm31lCLZ4JReGfuVG5Zty8tr4Y0aFHPrETC5ssFgEDw/DZSaUAsMJL+ABaoYCGpnoWCKTxGDnqWo8NRScbhRE0kwFF0xkExUMJ9l8PdnPwYh1F7CINY0Ce1MRSHAX45FMQ8Lksg1hdjxVR9neik+/PYRwu4bapMXEKA+RxzNpMhFwX/+1jE8IAQSP1djD2J8jKgKM2XsbjJLCw/+jWrdUozgB4cZPGcnCmU0SkSkeOXAL4TUwhbxaC8qRXIeJsQlOEPJY2rU76Or50UdKOZoIzUJbyn0DlPE1bKTEFNRTMuOTguNKqqqqqqqqqqqqqqqqqqqklbbbK5bbAAiNUUbC5dUlSf+yCJ4kaRyTlzhIsbIYpnn//2LWSSPGt69s8wJgaJrX88gtBIfEey/z+F/kpEQLMofuJXsEkiPT6ImNzjeJsyFfg/9xHTR2/QrCOUZUxKy63bTXVkJqRVI4Nr0Fp4LXNBl6lvxnD6qkyJQ0YUiI8rumsmNiAy22GiJJEQioh44aaYLJdWaqpKBwmB5ok1GKpB6KUw0Ky4fKSxcjRycjv/+1jE7oAOkQFlh7GAMn+gKGWcPKSzLa2y/xjeqSLu1R/5E5H0zcmRg/DXOjE5JLbI45AAPg4CRiqfLZ6oU2K8wFHUWicheIKlvwyYXuUAWOh2wiAarZKawirISSNJwZl82bOF0CfbKmbMPsvxVXPkqSe8ZGGIWIpZf1XAs507TuHTmx1OUx3Hvzp/RBmbnLJyPfvYsMtOiZ69YpFIMzV1DAe6I3XxRRSgBydB2ZnCJkvCjsoulIWbDh0xEAqtwPHZcSkWYMiTMLcM+LoFu1O0dVlCQWvsItNAIUJdu045dFY1qGSrEiepuKMZyl6zh/GHKXuGqq/7AiQcwu+HUkHxWpE5lpyAdkieoOCFRtypkFbys6NsOq6gEvi7DWkAr5L/+1jE3QBLwP95phktcZ8frvT2JC61MHf2UpoFtFhkcLjpM9a8zF+M46XI7l2rLUSXVfJi8glcvLhiIVGtqKJ7SRn4gYEEL7t3rkJTTaM2f/mOW9HoTEFNBKcclijjjADA+eruOmDrYfkuJrDxl233Gl5IQWDzwx71nuaLLJNDsoiYfMGD7pthnK05rIFH040gRF39tMgc7PvYuG36NMrp+r3/1JYGxBqc9+pFEmLiTLJMcWXG7LrpbZYAHpehxl1OoetSmImXMbjvhcKs7jwc37afpWxl+KoXzIc6wfM6SfTR5JlMRs5EPcpqF5ZVpQm5G3gdiYVypc1lsSzxpZHR3izF/Pw18IVFcDw6sU6ACgn++BUGgqQzjrgdaKqHEMP/+1jE/4AO3P9pp72BcvSgKKmc4C4c0pKctR8UjOk1sHAgjNYMU5PjBqJhvQQUVADepk71wA+WZKvCWp8nEGQS4BM3KNE0DCgQI5exJ5StJBBmVNq4isMdazFlbAoBlTVXoVjlSqz0OjBrruVFENDAt4FIss0webU4Qog1VkFofoPvDNN870PvhIWxZJJMGWIDDqBoatYdpPhBE+jpyNStnCtwWKX2sR0ojKIbQUdNpTcXAYy9aAR3Jc41PHqs98ch/T4yyvFGetRu63VgaK0yiTSmtpuLMAwVMXminf//s+gFNRyyuxuQAGLZ8htmi5al4mGB2E2w7mS4vmjbgTonsfLvbJ7+3Oi0wclRmT51MzFU7RXHll7e8WhT81gcd8P/+1jE6YALbPtvpJky+g0frXT0s4Y+/Y/SCiabP//2/C4z95/7V3DH72c7CC6OAokcAgscRUoGNSWyySyQACCgBgHC2GFuxbdGcTicidMgYQqHaRcFVDLWD22QMUIg6lc3noomJ+U8JBLkZBQwCfd/DgsLpd9eVomxzpo8myP3BgUmjv2FoLGrlINBPJaz5yYVTsYbOkJFdb5dMbrEFFuUzX+rVR+12bZT4TDi3aqjdPWKV2pnRQHM7jok0HQABxCqwB0KfoBqQK1oKQSi0dWStxjkhvJDLXUBKBJlvbaXO07MSWBAIaTqQ/46Mg6blduAizzgCv2iu5TQZk/hqJuSU7nIw0I8kr5rYzvC/CNHUnbGYb+t//oQBlLEjla7hIz/+1jE/4AWoQE0becDEX2f7XTHmwZOMr2KdiEGyArl5v8qE/43Ytn83vcnCp3qDNVWZSi5Ok+rhfPVg6FjCP3VBbcet0kjkADI4HGpD/RBvqmKfQ4lFYsJHnepyVWTyyXhOoJwXQBMUPctvIff+Kp4Yz+JwqixKoPyKafCO8aocDxMDdQIdiQhNt1HQTxHEhB+pWH9386ZWkstoG6dl83btCYRSpamZkvYTOxIaQnZM+I9bgohEFAJZeNAaCkFwHj8bktRquVuRj5CLj9MgHroKDqdLpD48BLYSOpHR0eLNOD2TxEOjPz9xlhOwwcD6fJFpnBRFcpqFpVLUZaJLwM3KxlRgJSuXC84UyVGTS9DNJVLYnaDkqSeZTCj5g33ZnH/+1jE+oAQ3P9jpmHjMjUgKOWGPga5Cnbm648bk9WieXm1DELpJOC8RjxOdDdB1S43ZJbJJJAAJBPE4dSkHjRFIWAMNhDL9CMz6s8XIDAnlC1BaTgNpktHYSIubxtIfCwFIhOAEuojYZM3R6BgaEwZFYsbRHrDKsD0QsTS1aEoiZsDVOFyiFBPEyNREsy9G8kUaUeq2IdJg8jMuUlh3ZJjBOBtk6kG3gAEiIkVZwDPCI4JgIAl9LnJAh0Uempl3nUeITCURM+B5QUCuxSDnKGVCW45g/iGEPURUskFFPjrTCiwnwVmhFBhmhVJJY9hxnmdAsAHol7iAsDyLo3NSdTplyspeylfsRdjjYnsqsP87iyLVXsx1nKPdbJ8rG9+oFL/+1jE9YBQPP9np+GSMd6gLTTEsR4cxpEHJC5D1krLEIeLIkh8G8d6XJYSQ4ipaRdgTSILmfeSgLkMJdoxMlbuLn/16ft/SgSWjGqk45AANisCJXhKLpQLRbKvwC6NuRLSvRFNmf0TFwViQVRQe9V7DNnhCHAREMWu1JKCSQsYB4LiYMoVokwKAcXPBcPwEAIHIuKoza0ycXI26GRuW7kiNGxWAsQE0KVIgCXA6lM1453Qx/MyWpQuWL42BOMCGLEawsAADKPAcVXQn4s4smfWADsOGtBTCjhtPTN0Rh8F4DhABmbaQzsGQjhB6xeZu0QWxHJx7OY43Cghne4Nv0y9WOa4niEETTK8mX2tDimkeLtYbFgfhYlxCuhzaTovaGH/+1jE/gAO/P9rpj0wcqsgKLGcPG6QVqDJGdZI0uojwYMIm8FNoE8IUUq12YDI0rrMRobmpUPoMmFOyrmYnqPqnI42TVpMQU1FMy45OC40qqoEoptxt/wB4rsXITdCikB2mqilerDnJUuSnRB/j+ELOMyDTKpDTzOwoz2ULC1sxCDBG/dRtzKr1MQwmY62Ak6sthwwQiGB0yQi0AklEwcReelEhIRihlVILi6pYf589IYN2CvZUejBMdE5o9KQ8Y26ciSUyIFZwUVNUMGyt51lafFrC+pKqI8MkGSa0Kokkk5JInLbAAiSqKH7RYWgfMBDXkBQeqK5LNJiNraVkR5kz5g4d3+oGwugpaDrb5k7+wfoe7Fi1t3/rG/fy56v2Yv/+1jE8gAPdP9hpiWU8jOf6WGGPZ6H70HGQhaTgMiZtx4/U/SdGNxZWBtiKgFAFtzgBiEaEk4ALnQFSZkak+keeLcmSYBNGm/TNlMNsISSzanWeS7Bz6sShyLK2QTbYZKkG0uUPJfKGhrSio4EVACRIgs8ZmzltNN9IHRjcLbAoZAbDlqsNhhVIEGEBgg7/MQsLQWyqPdZp2u+/W2iLt+JAqx5IWnieoeq0s3MZoC4hDxrsRJiFl9SR8UclhdIGRUtQ/kChpvP0ZCiEGLwyhWFwad//1/+lEAtyRpuSwAJVQNEVUSq6ELrMPWmoT5ARpif5aaJaOHVKEhuzGuPzkPGlkxYuRBafBMsVr8dZMKVuB0Ud5gUrEIYaaRPLkr/////+1jE7QARsP9dh72LsV8er3TEmXe9J3TDSb456+f/ESwNhEhJon5l3cLEJGSvUP8CzhweOYfankwkgN2VltyQAGqTyUwg5UMB7Rgc0wOU21eXw8Of4nw7R+QzmYCALYwkY2tuXcpxSH/0FRzkPcgALEm4CwTA03y+h0YrrBPOY/JGEYIQfBgCg2LyQtR6SFE/M76o2MCKqUiwekczMzt8qUQTHMGRRHMgiOtKA99xqQDQyKRSOkQ9k8cBKAQC4hEk/skCm9bS5LYACwPCsuI0hPbCHx6LRwTi2ZGoGrnMRrEucKsKKCA25HNsW6684PwNFY1JFpxZjSJGMKIRC2hwKvDMAuhIZeBGSS378IdFBthcVt5//02xOKxwyyfJkYL/+1jE/4AVUQFI7WHt0bEfbjT2JXfxcuXbHd4Fd5iObHHVrZraqdKt++gzVWkpXbdJbbAADAgcWoDItIJJOzdVEfDcnMrDF7ShX9oUiyT4IzMuu3W6yiTLSUH9DKKzNH5UsbbZEQQQq6qYcziZD9C5F/2e6oJP68iH+ofnG4EBEFSRxE/ckwql0Nl3r7RP7HGxj7Ur25iAACEZKRKSgAfBbrUS8qoIiODIjLybsuVnsiSFVEoupYVCUcNsoX/R2YdoWpOkoy78vlu8WTJarDIUQc0FUijoKM48ucGyhgzRg8Pl7O1LlLsFSP05X+FI0Lk7Ws9z5Rp9lwJPBZJG60NEzGQTowC5kpCHLfPhAx2oUpnOV66CCgNqmNcvRjGcXwv/+1jE+QARLP9lp72Lsc8f7jTEvxZihKVBQk4nWVR/BwlsYVEJ6gCRCwhISTChR/7FUabWskkskABeBawlAtpYIfFJKhHfFcwASnHYKx3My1AxMRf4ZQz0ryssQsPUJaYrD3Vy07OTe1FR+pjJpqro9Ghh6hlUFl5lolBAyij1tRRdbnLzvz/sJL2ZeQrqhPfaTWd+jVEJZzdH23WFrCgyXHPITIoAykkkiACbSfaKBzGX0aQtloFVXcDLtedTQei/atAXKQnW8wAADUcRpUeUtf9p9HBy80ZFIgqR6UF6qlcOCgrUE6FsDDPL7pXAg5J0EWAw8WnSPeqfli+0o0OL3p4Ibw06a+20j79rbW80BIeVQrrCWXM9gxproNbXeiD/+1jE/4ANSP9zpiWYspUf6PWMPT6TTgJSYKJT97KHzYm/CA9U6WaAhFhrDWGDsAbujtCL1M1t3E+HFRPaeg402Pu22NBOhLgh4UV0JbroB1LLH/9f11a1AACPLIBUdABcVYQMbLII7BTu34u7UbiLIo/IYeVatZgMygWjOOJOYrNdbyVyVItKaZeTTkTj8G7ILlEkHp/VbGvbsaGYmlQtmLxmdJzAnoZJLY50fEt0Oo+mUyyXLuLimpKvoDXCcvI9bX79/azjGYbzR3jxjho/UeZya0GcL452xU3AIAMeQLllACdKVhpKmyz2QL4LuM0kjx01JACn11M7wuZFofikLBxSl43Xz2FR1e2wcNn4NyMXz9eJJaOo36Qe862hHa3/+1jE/QAOZP9pp7GAMvmgKOmM4sYwJDpfIj6iouVyXTx8tj2iLXoRSysMAar/T3M7UkO8ovQHKwZPmM//ODNEwq0OqoDQyABQEgslF2TWty2wATRT87eYuVWHlvATEeI56Fa7RLKLY6H6vYUeoRanqHXeM2F8bR8bOrHiY+j3Okouhe9V6DFEABAURNFn+MU6yDXax6NdlyOarNot/W0SIqEYnEhACpK5zv/0A7iJmzoIhFNNBI08AQDWAdsG5RkTmucCuYO1BALHxHIYgmg65mwahPM4Ak92bhg0GwjzjCM71u6nAzEWQvODR5K8GQvEMrT4QRmDTD0j2BLZGoJTARzwCIUPK/LyIBpSqtF4VTSecem215rEkaJAMIWks5//+1jE6YAQaQFTrDHvgesfavWGJfE36g7KUQ++8ohjsMS3j+8f5uD+vw+7/Ml5vv//PrNdvrLSpKslaBZUHs5geQv9E5P24+UpdpxWktguvGqKCG7L9GCMRhU6QCv8l1uABUGucWjPmsJewS0UakH6woYrhpnhYnF2NNSk2niIFfPJ2Gu9XARMNDMWRreMdlKqrBLFhfxn6RnW4CrTOFZCayWvXZLUr0w2EubmBDTqf/OB4WMFYRH/9GM4j0Uy0Jbe41It94YKsmIb+P3iWUQmMpjOE84EADNeAELQE7SgdcRLUDiofMaQYyajEhcmRUelZO0l4FeiAfbv741rDPs3Tnm6qZbY+UBEl0BtxMuVjodiy+xInfRcyrVcZTqUXqz/+1jE8AANmP95p7Ercref6FmN4Cv3VrzRHaCdX7HTF14Su35JI+Mf2O5Gtxkq9Ib///u/bE6uTQIQQ1MEk8BlXFtyL7VK2RlXMhL165jcNs6lHnUgLAAG/8AEbUs4zbSES6HAi8LZ7OkAh45rut04IvHjfJOH9UAmRjlQZwJKoQSb5Po58QyOLujm8kejcmhuTU4M8lpXLDYtJ9VUO+b///+PvGvI6od7c5TOXz/72UB+Ngs66UhJ204zheWjHM8dXaX0ddRl9YZUG2HdZ4qpNqFKy21KW2AA/W5OryY1EEQeDoHYEuFjY2WBcpbG9ivR03Lw50M7ieJMQ7PiCsKrlBeqBUtwDKM73faSvn2r+fQbCeVyAu6///59fj/uW67/+1jE6AAPPQFrR538MiYfqh2mPwGyxPP/+vnmXZO4jTsZjrsQGiu9HTG6lpjrOmw56pdaVsRcNUadSRUdshTskACdNpH9yPpMFbEMdEmkle2ymEbUqmb0VuA57Q6M1wMtFXseFF6dVbCzN5bmQ6XcquxJHfR5WW8HUXxXiNGCnIO/29nzNlr33tqNxUT+FwsLDiiCBceG1k/0kO4phNhxQgNE5QDhQDZH05FIu22wqSIwXqKHU70oICBW1xAhZbpAUCTweneK1JAwSSAmVKXIWs0y2jyPEhyvPlvO4k864wxFjZxpOAfsBKgzS4F9cnx+s4tyuUB/uKygqD8PEiiaCzhyDEKyf9Mqq95Z4SkSRCIqFxTkQh6jbPNQz3dk7Ov/+1jE64APnP9ZTCXswc+f7zT2PX498nSQSpM34xSWU68c4dBVCwBGB2ENTp/qcBwKRTCIBQwygPaTMmIqSIdjlZLscAA3DFKm6RMS43IQnYy0kTxoUqrkM4lyfRjKzlcewdR1En/Hjjg3OhHLAnD+0v4aRIWhydobDmH4uQWYRHHdCIB8wggYhXHMk2M4UrptPuVcopYfwFUnUSyru0aRv+nIeaHKxJoYoW1ms2uMuv1MpUNiQmZXKY8jmYIzAjhHhWnEYb6ZNhu2SFS2wAHIjyDNMEN2hnAUGYrZF0W8WkYJe0kSDGEiRjUych4mCl86FaeA5r7HPIj2sXEy28vEPCWfOobQzKvTAr1E2KcxEkab0lJyOH//+YbfWKidKF7/+1jE+IBOFP93p508MnIf7bT8PC48clJPH6i7UX5besLDFV3XxzmYjTn1HXa6xIu2yVmcWZDm5OqlQJhVpxkj6kxBTUUtimuSpS2QAUc0O0+NPpgCRORTTbGey0W+J6Ngs8nLEBXJgjjtGUgP6G761xhKf3Hp0epp19o71pyJ4rq6FhDCIwLjOTjkzWc9vD6zBI1Ywr//L/vrFzwYAdo1yhejH//+qqnDQOEBCK0ZI0iVZLE7rYAFaQ4Ds4qoKiTwzfGYQ8agl5R/OLoseEKNBJlxkVKEtzCr0eBeSgnpkZVqgmPRSwAkJJjto+jWw+QwhpB0PT5LHIfivVxym0pnB4/KZqP3+7ZfUm1pBKnE8Zj+KaeazvlnUYZpootHMmz/+1jE9wAROP9xp7Hy8hQf7vT2PdYv+3KxxV9Y/+Kq6NAXTmqB0mAwIpC49QDJMADDhNIYICgwWhgAmq3i4Z06sYgAAANOwFkfCEoaOZCYUKI7TwoI9jXkTYpBgYfJxUJfrQAQCEJrRPo0mCWTASoH7KAUtjJKV4kMYJxa+/3/0eIwXrGjUS4nGrmJC1cMIeIaIrh/nAUxcv1yfE7ERSrU6pXEMfSwnFIQRo7ELDHPaqt2TkW0dwVxdmQRpsXrkaUC+fh0ROo0IWD/Q8logZOQkJrgHwaTIqCzAFmR5AVFzwqrmKAIVEA0+z8UDomGDrpNM8KDO8o+RTXKh4s3JeTb2Udm3gZPpSxrRj0JENej+cvfCHJaknsoKxFnyzGgNEj/+1jE8wANVP17p7EvshsfrvT1vBde6Ws/hqHy+9JhSbQ6RQQIYgIimgr5nLv32Vz6KHnKwdFOsRpTz5wzLDBYNEbBo+mj5Ue63EvdcosjUok0SApI0ySRJWyQAamgU8jWmD4jq4kCD0yk9CRhQCigZDkt7/goWaI/XhQ+yTofW/GIj+yBcex3QRHyErWdn/7faNWX3zh7sFCIfExC72QlRRhqjbhNB4mkBWAOpwXxOfQGhtOMNoyqMUgDI8oMaqA1Aszq455QMAKXhUsWsTqMURf9vAQFSsdVgIKIFBRBENDwUHujzseNGj3G7ympNmGCsySrMENCxwUAmSOjjQCBAYLAAUSNxRFVecYcFxq9M3NoqVTPV/qcuy8isLElYXn/+1jE/4MVbP9KbeXrihwfqYmsMXBY8lY3CBcMo6/jiV3+oLG8Z2zLbUG7mnt6/c+9re5v47zAYdgFFGBHWeuMu1qxWtXZbHLUpjeceg2+ptC5iBpOIaWRFSyQALIkxbO5LjmIYVgl6BeAhswKf1K5X0UzSZOXrWirj9zo+LEB6/tWOWswxe1V1VeGC65tASKkVL9Nrv/8XSke7tfSKkQbBhxd1Ld+15v8HHNbAYAU3eAZhiSaioJeQ0c4yVxdEHEm0iYp1aXI9zDhNhImmYMyTZfykXy27zoZJ6RF8HWVoVRJiThPd9NIFDw+p2LCm871hRJ6MGHZ+mRCW9YyXgfhlTUHLUWdJfq1UrXGg5mI4RGhkpdllT3yFZsm1MO5Eu7/+1jE64AKmPmDp5it8tgfqEmeaIg59gxyXAt61UTnTFVMx7PmWG5pUyIDBUkRez3qqjwIfaFg3bbpKysxdtulNNrWhsYGIDQrMRhgKEnP///qTEFNRZJklRLjkADiD5VJS0T0UryzPg7B3icvolPKQFh1re3mdsybZV2P0hvG0cXsuv8nNZYjofRqHGQ0UCjgIwRZOf8f6i3QU/0YAQhAkDZAiEbfTulVzRzD7VHTDHcpqCCU9lKlbgALCbdEkYb0qyk5eAxokEuoTopBJQB0BbWW4CC4xyfGvteJ8hq4OsI9TJPazMQ5nGQTtMOa8B2gvmdXHrskKoamArHzUWwjoTEI6Ub8ZBCVKqfedOHlv+AwygZKjvEAOfi5gC3xmcD/+1jE64ALAPV/pgjcOsQf6V2c4Pp6N+E4QstTxnmnVCrY2ZVOlbFIvn/tykWK9JoVLJAAumANs/T5fuAU4BcDpexVw50oDAlybhp/IxFmXMmfR2mXwIuQUMk07MOTMglkXkkBo9F4JBxOjkqliMUKw5GoQicoENk0jkuKC8AuV79vSyKcv/CJ4jmPZyNijN1N/5RROqZzrl7SiqUgLgNJWmoceYbdhXTwIct2FUwm1U7NA31Eo5NrsnbbAAhJqYFPAvJ6on2NA01ovsJEm48PsnrDoy4CWuOFvjJ9K4uf5KEJ+HePFKeVQjlUCsiDtUDc3J48GNVn4+P6Ql6tbj1NCdZaXW80ORWdZtr/MIV4TwuaLOWIVDMtdcKGMerPfm7/+1jE6wALrP93phU6chGf7XTzv4Y4MpkoQNxPA0gTK6OLDDHZ9KBg+UwfUqr/SHLgvQBGqATkoANMAFuoKOmS4nLBqsJCJkbIYpMECVsBIx+MGtMYa4TE1cNBkssmk+ozOw2kU/sANKabAdNbd6KSNnYGUk/KS4aIsua+OxIsyFv54QFMyn8gh6xzCyiGkmesxL1K+PzWDgJsSk65B+o//JuLyvBzNNaEreKzSKIIzN6cj0NKdsMcfxnI1BAHAP4yIxZbMl8b49olkU/XzSamEXYNUZZttX/FUgAcQ0EEBTlMiownbJpZxANlRUDg7gU9kB8mTBWWGomV4kNHCoDAjplKBuNqe1DNYTohQ1cGhWueln9bWzJKVmhKQ7vbLZ//+1jE/4AREP1rrDHy+iCfrjT8PJ8GpladbjQlPU79qU7zahSqZhOYA1ZJbd/etYp53Uci0EzRi7wAABJODXwBkBB5bcAr0ARSQUCSujaXz6JHrvikcNIsLYcSjQpRpkIGdCqRb8W52hvRaIjqyryEYhiXDlPCY0U8sOy6m6qF5lbVMXdKvojzXqzIbPhvYSVK0elOw2GrUepZGUQUv03P0+y/M6tb//GZUqztbqGys5fRJRcDkXRcFtkP7UAdit1RTbJKxo2DJD2BCQCY8ADXEQ18DAJhmRyUqxzA8B0DFB5VhhQI8KDG3sOGvt5ljvm06ui+7byxFDhaFeyWUr49DZgIaX5DzMVKiQlvbtGu4HDFOuY6WDMXq1LMX9FeoHD/+1jE/IIUnP9DTWHpybQf66TGsEbsUZtU5uKqz1Ya06b5Mn5yzdXMx1t7QoXf6JY6KqBNK5d6nDLRClulkUdV2c1kVBbDlVpUH3iyLR7qTSmt38ltsAAZNPNkS8XajPVUldpblpM2t752uhuKp05Bj9HXCajpqBerbgX6ljxAjmRkG/8P/IUD0iOEg1bod8wg+b/EXm+fGkyOPcfqfBIudZAweUAJLSLKAcyIPAV6EQkwBAa+gcC8gqEn8h4JjRZSdBAL7Qhrz4ufTDumaRuXHwG+nkNFebx1yg+z/LCjX93x877adhN2PWUiOcoj9cXaWMJDk8XdzSEaGWONEgJwTpV4ePlU0maxNYij4lbkhZwB0GwnozUdgtpN2Bk0hnz/+1jE+QISBP9JjOHjIkKf6DWsPLDmTRzUJgO00HfYoqGs0zGcrmyIkIatmErGa9UIImOWpuNoAHCKg0SFYUp1Qer1OfAb2yEeOuCoYjZkIWLWKFimHrBBMSF1bdMZb4qhgWwnIynms2jtQU3we5p1mdvoSuUJ9LTE1Np0xkWjk+Ps5FqI1urn5c+QgIKAPxEnyAy1IuJT+XQpR+QrSFKxAPJmwQQU4cXoRBA6QYQAIc2kkiYAcAwSKsdMVJdYESMqOIsiTELCDYRHUXb1iDQmwSuHk+IHIM0Uy7ioSMpKWGHST4yJDhe0PEIG5tKZgnLQMhqPBB5dgBLjen8d194TGE5G6p7KPy+UKNshWbCYEzcJPBlKrG5yZ8HHjjvu9Wf/+1jE7gAKrPV3pL0JMlcf6KWcPZYN3Eq1KlQl1F1pvqHVWVpeNCtLtU0Zz/3H3ilHSuVabxfxVEiqzK1GWJEg0lEOdr6BCsBoZcGFd90Kb//VtQQCCkY47ZAAZlJzrCopDTQbSX83UuH0CIUxqxUjlDnFqWsGzRluhijTNpOypFKIQpzgKZEHUnFC1K9Ep9LT4bpy5M+EPjxUziMxvzsBVNavkXynN00KYZWRQZqf1kgkXRkqxWtEZj7nhoVWP/mrpMy6XG21PlLG3KdJgnosWlG67SlpCc6AACBrRSksAAcQf2uWfQ+dVvmovjSLdTnTYmG81Ho+y9vI3IaibjXKlrXhIchqSTkBiI7mOgOEa5dWlM8H309DgzN1hYiuDg//+1jE/YAPzPtdp70t8r2f6OmcYBaY9niLKlxkQTsQ4qNG3Tq2SGFReREPozZnj5spnE//0RNH3TFIJkpEfyKIDOsxRhIZcbeRO1VMQU0EFEuOVTwBeRnHW6U8zs8E7d2PdxTBqRUyTMYdSCErbjuDIUDIV1AvHUukvTElSXCu4O4/C6ksQlOrmlQ49lGZIbhTdy1179yuBcD4llsDGLDgmGDnNmCxynLDxYcL9fmbS3Hhg4xAXByOFzxeSh+qA4WDVuJOtAeUUxIJjnJuSS26SSSAACZWfIUSIdwGUIOvLMwKGSAHhEKxcC09t4bHzhqX11c7NRBWEaOwMGP6YKj9uTHsY4lQnhYCSGSRG5m4ohZcPg2gTE9CpkyVaNligoL/+1jE7AAQqP9LrC3gIfQgKXWGJmwKQIGhO3UG5QYg2ycYSXTQoCAk4iIIKlJZb5fdZJAATSwFJQGgnEoWoQRA84Y6YGehqFCcMMRmfK5Os1GN09XarLuXuHGJUgXauYEKYCnOOc/S/gQxaC5w9bKpIZm50Ij7pxqxk1TFR5Ehlkw+kpSuJI1iUOBIP7nx9VmCfmVx34sRlreas1fpmT5sN3iOODAToaGQTM8OBIP7gAFMSiksANoCeJZcIuJWE6X2SYVmIpCEukWpKULYdARhe0pA5+S0ycym7c2Uu2wsApc20pgpnDdOgFhp/Wmuy4CRMmgB3mKqlFHuy/kyhxOwJIlI4j1RI3mobgsQ6ZR9C1JtyckPJiEpaWZ+rYFigTr/+1jE7oAPtP9bh72D8aofLrSTJwYXJAhffQZoqBURD5OuBTcaAJ0OJ8SqPrE41tWpulESSUuAMYFMECCtMQjAEkJsBCAvCHFmXqf/++/f81XVSUclsskksAAYZpCRxNDsw2FBATF0XKkhCTrhmAJqqDTkVXNYUmN94RMeUrLeftVS0tzhtvP1Li1v42c60qxCpTAVIVllLu0SD3UWRVSF/6aFG9Jt01WUdmknJqoMFMCZN4AE3rLIAKot9nIKEXBizOmoUihzTkpGIFQM7yPMGQ4QtuLSKANWAzMXaCuThE+FMEfNE6hhAaynP9bb0qCFpBcJlQLWXtwVcQRVUrZrE/5AwSSHQ0IbXJUq9bnVhuAtj/my5NLxfP2Q7iCIckH/+1jE/4AQZQFzpj2LsrQgKCmcPTryqUqEyKnyvy+F7Upn+V0vEsLAcg1GJuOM0B+nLAJItG9LFXhbFMQg0UNNRnmVjTbkustssABEFq0olekYs5a4LUgILr7a3zBW9gNpxszP2SzJ+uoMxy93YqKO0GRUZaYXeklFYZAyGycheeaVEoWMFgwi84YaKfPj469Odv6VLtMB7P4I5nBCXgwowSLt2SEBNB2CNu3oNAAFoBBwA7pMWXIAMgBHLqCAgWPpwuEkcgKKJHZTYi7yspVtj8KbdTYDaj8asTjDnISc8IyBSk6ZKEPzpHgu10Jyji5sBwmUG+QtYXKrZzhYHzuAYAyFpCtC1pUIyC6QZdwVBYRXmo4TzT8VyJOqT9YBc1z/+1jE7IAMJP9zpJ0wMmif6WWMvZaYZKFCoTsRwwJEe/QKVjkpdXnNpmL1Ba06XBwTaHFtLatDGS5IRNkuxhukJA8AxgDJGnUAP/Y/+1WJuW/XS2ywABGrXV2D+ymD4lo82ircXS4Wa9xUVgvmGroMJHiiHBoRiCzBrcmScYLVmjamB0rRk//M3MVasl+1PF4/3MLbzyyFGO1c9FkGsStAC6mZoAHilYCmwogkQ2N/Sa2bBpKSBGrjhl+phImhAWs/kyWAwAWfV5L1Y6FmP1OMpbkJMRcG7k0EJqEiSZ0NwsgZQTMM80WX9sOd/I0HvUk8jwccsIcg8S6kvGEM8kpfjwSljpM0da7JeTJMI1kQbS2KM6zdTp3FMi1dgchOx6z/+1jE9AANOP91p70j8q4f6GWcvH4oQ+Ew9LePtP8krSvnGrTSU5/mUK+nTRBGAwRuBhjKK0NVZadll0stsABWtEz9bVsNa2suJJReYG3Gy7dhu+HZ9DEJZHJ6L3lPJP68qQKs0fVtGFGKTim6OeSFysi4hQmiwqJ4IkOxrVoPbKkB9xZAixgyJdYkyIZ6mqu1hMswIZE2zrbVY0PrmSOiylAAUpMokpIwAPBUT7AABAlVEZeRGMIRHFgwoob+meTWYigFftQROd8WCypN8aPLmxFiDtLqYqZai/IgJOJsf6LcDfFGT0hWXyGj/L2wnSrYqEv8nEzMQAfGeorpldkULab0ylSJlI+hhkpiFufNqFL0AUAdZ8kBENhl+UuSeSv/+1jE7oAKIPmBpIkUMokf6WWcPDd8Mk7mZRwla0DuTjs4FolqjhqSCX1wMIyUye5ZoxQl+kHEfzR/9f8kQRqVkjcjkAAOhVsSrOhDyzhKkQJhPZLNa3OnC/EqOtXPcHgLV0mumnKciR2FgNFyUtWs82F9eExxC4IRBfktW2Ru8KqGg6lUsT7QtEqajJLnB9zRGt73l2tJE3uUSCiT+WR2kbVrUhV4BazNj+XqGGqdsc138jp08W1G4Q3kVIBBFsABnVBgi4cQUVZFiEOomhHEWE7kXp4odRQR5bA2wJYHqT3egEoqzRFCTRRm+yG6woZzJNJDWwtygCNlZMVKvRZfw0T1TcNhJjEipJaSI3FasvSrLs4PzoYXpCo8ZRppOsz/+1jE+gANVP1xp7ErspkfqTWMPH7OcaZdSLCjjQUrIw5Uz1mUPYWbsa1iRVM8JVynA2mOnn6b6uRZ/n6yLIwT4IMAuJ0uUbcgiMuJtJuQAES8dpZXqyVNNxRtiBAueYwbqFpi5iX7NEzVOTpvvNJZK4elt/qtVHusOLaqDaXfaLjlZ6h+Ycb+ckdiWtpHA40YOmOQL62m7sBY82vOzKSM5uXXDFaUo24O0yKK+S0sSAHHQQgO8qA8aB+rBUlgeELLgJrJRxkMInBCA8jPLuIeLWPQZIn8zO4q2AXAIS9htSgFwLwch0MZkJ8fZl2KI6KMDchghCHpMcZOxxnEfcjArEa7gw46+h5gFGaY6DoWTgU7/eHF23q4YaEsFnkR/d3/+1jE9wAP5P1hp6X8MlsgJ1msvGJBhsR0EILiXcD+QtC21Rzp86zTJ20l8CRkLMuzJElQ/Zzj1mMIaLUCkLeF+TsxFGqpOyS6xy2QAB4dTKY5HBlZVo38JNYaI3YOAOCryYVMAMgAXjYLhimaSEJclQkpK5WK9mkczWhIRPvw//l5iJN0RWGEAoeICBA0j2wuKQnzip5sSoSaMObKrRI8IiGbVJpoXLtWwoa0f7uGuGhSssE3GNlOJGH+X45TeWQANBbJESKAAuhU6gwUKA+5EVS2UYEKYHJkcAsdkSMrQ6d9WmBQDM60BJ+qVQ67KDDXFu0zlINo/uQwx6UN4HrxNSETpaR9lB03HeTxWkEAAAi85ft0lFnqk7REUIiudx7/+1jE8YANzP9fp6WIumQgKNWMPBbv6fCBCyjXGHydRyMSt+39gxwGcO2+zmQW/fIjDtKtlXxbRPh6UGnXa8hgnACBlC4XDVXX0LuNWgeWq3Q/HnhW+6awjFU42TsCZ+BBMFg+wkpMQU1FqtDb7t7ZbJAAGJvi8jyRpKyZtDt/QCfbTJCiKyuWGC4y9afewqsQAZ98g/iA1XHOg97lyM3+Ltw6KB0OgWRu/4spBUWDztAVmC03ZL//gB5UT1DUgq2JRwUsoVI1n4qUKfpInxckdCIg8cedBgtMDKgdDsbiCsWrIB1NGbwmb4ipwOkA+sHQ6JjctYJZKVFaTCBcERbLLDyQ6SlWpYKqUEi46wIpcHq8I1PPI9IYnwkwQh1bLHn/+1jE8wAPUPt5p6Xt+sQf6fWNYFV31R+0V1KiJfGnEVaPS4lA2fMTFeFSKmSnJbNG25AAPHMZIAaSlcVR2Cxg5TpC7cw5M8saRaQhYYD08PpEcYxigoB0CyJEw568e17B6WWFzEr6pL1tWXoOjXJn4WHYV8NiQL0pN6COA+dYc5KwhsqNcTH0vfcnlbF5beETmojNtDupWqzlahr4USAgygAACAAu0SJLoAmEZBgEEoFA4VRjhmiPDFC+QcotC7BIF3B1BxHEXlGnIH0nAHdQpt8RlTdnCW6qjQH6f60zlOZsa5VV1L1aEfh4jxohFm1VDCkBDSHR+SRSLT6RvBgFa2KMwflPBgSJiws/IWhyVrLYoHcldM1EcM7lmna0+yv/+1jE4AAI6PuNphij8hEf7TD0sgYjcm/QBy99ldpFwubnpfKVSv66a72qyhpMDN+ydnMXaQvFd7WAIZPAvQgLMYWKxKIQm2Ef/V/31VE2xmZ2eJySAAICxpwXV4NwiMTAgLnTlpjzMPD0zXsIiQ6JZpjPYok7VnnXvmr3yueU6qeyYDhDOpOYDDjSInnzMYmVfW3LBrGTHGHSe+SF1FmEg9Bub0SiOkJDgNBEv52vCcD6svmZ+vJAIDosKgeIQCB0BmmAALgQgfkBkP88HVnhod3fRyRgAtJtx3m50s9c5csivhU1EU8F1A6c4CKIRxRxAH4wGOheRc6hE6EPeHTNpG2ezFRAw4WTJvh+xe9FL65QpQBrGelwvGDggJEtTg7/+1jE/4AORP9vp5WCMuQgKOmX4PboQT9Z5c8rtisqHhkDBEYJKluAGhaQCWuiRExBTUUzLjk4LjSqqqqqqqqqqqqqqqqqqqqqxSkukiBRMABOhw4q0BgzssOnmBva5r1I/RK4p2rp02XTqwsdHABScDwoVPC4slUNYSFDNCDlK51xCYVy7IcdzSChUKIKkl7bRmQ529fj8ZirN1bHwJAHGJOxEAJyfxSHJYcyKkG8tMU72sVFJIaJYWgEZShttxpLRsMJ+E2LcqToZinT4sJDjtLwLkUJVmgtNqiN5CSUn8AQhGhvmA0TxYZIaHiIey62AAINW0qTgsymSJfkL4uwRt+cqxJvsVnTTtk+t72TQIjVoGECrTPsyYUGdh9BVZz/+1jE7wAQCP9t5jHx4bKf8rzzMi6bAgvT/1YCgYefSvId6uFUscef+GbalcABEABR4AJlBUbvmFABo30HVxZVtDFS8aFS0qhReQeJdaHGjpPhjsNNhLjvmXrziSBjDpuJNDl7wo9ruHFQ1AbLTvRXRATHZzBoNIAQRFSKCBQYtCTBDdYD8KIc4DCO8hzXsnKfSzMhbQwnGO0fh+kgOUuiWUTihqeTZ2qJhJY6onlcSonrc5QeQGgtrAIezKsBIN4vUaNHIw9itqcMhD1klYZ5jQxZQnDKUqOMtKM2cQPUANroAJhb06jM4rgR9EYJZZIygu4hVAnIo9EPSmFyaKZPtOvy+rx25PGpTAafYyAwRjb/8qunZKcCa8I5DtY7LJf/+1jE8QAUAQNdrDHwQTWes7ySjscE4vEpcM7lHHjoGER6etWSiGCIeYfk9AEHlkeDia0i3KO2maTMba0OQOjiUVBepTYUcyhunOlVBI6UebynVkxBTUUzLjk4LjQBWAW7koobgvGKABHz0M0EDZGY6RrKl2u68D1r1YvQN++dLC49g80vW81la6pkt0E4KUmIjhEIHfSODYLgO4V4sSlDNGM/S4zmhRByq6I4q6R+WJsRCK8YTiASRQ+Xiqhmh3zX560jVmTtFMyh/MMGicYDs2RLLlLKqk4ulpJzpfHopB+c9Gapu22NN22ABKQSiV3anmwSfJoQiXDHDpLIptP8m/am1hjlovn7JLMkgeJKyamsqv6xgz2buz2lUy6PPfP/+1jE/4AWCQNNTeXrggce6+mWPuG1Z/KOfmf4RfpKBS7nP/9/upEccDJErQAIQIVu4ASAjCCq9gEMBTAJkHWjQQTDpkJ6xCnIOf8F4Nw3x1zp9oYDATxLC1D/tgL8CVO4SBWi+bSspAQxsJ6eRgizIOdDcqE3WE8WIbzesVLyq8EDMM3jEEbEFkt6pI0nxzrltMtDVmuTpL9r4XaX2pE7Py8i3IaLGOAsTUZJ2WblYz2Khp8BCDulJQh2toQXETRC487KJTjcSlkgAHiNKiUFOM2FgK1YrSQ9LkwomZhVrLptY1y9i2L8O4frKQ1XK10cr28V7fqexpFyVVcZgxeqk8rylb4kjkxH9ClRCFwjBUl/9HiYLC55MAJIhiTEybP/+1jE5wAQ1PdWTD2WWUyfMXT2GJb5VFXe/ppi0yVhMWGecKimkTVB4NEQJEqAVCYCnayLQJJcajbkkAAHly0mTBkUu0lLZf2gnFlQFoC5Zpv/IhyMcWRRMrpRHnt1EhvE0LXRRvU6pIjyR9GcDkOJuu49Hq/U7+GrZRfqzeFiTdtV5WJWE2LVEtx5vqHFFvW6l+8HrCyOlyLpeilCUM8hB6QhKCcyepd0gEgtxtfwBPhynRCwkrVPxNqDS2fWmsuckA03abMoWCgFAc2OQLSWk3dPMiEzR3mtRR/3Si9LYid1EwDILvMoyjMVZcii5M/Em7s+UikNAq7Maau4Nd+VvPWzQtYshsUObYi9L/YXv92SM6Jrn173PuqNXfeh3Hn/+1jE/4AS3P9RTGnkgfCfbXWHpX9SqUZzzp29arY3HFTCNiRkeZ7R1MofkwEqWZBQE9VIXqrPMiAG1Iok46wAIhqOh5mcq3inExLuyJZCj6fnQh6FMCYNf5rVIgZEfh6roRywtaftRPC8hSl/mrrNMxQCyn0ts8f4eVkOk6jhIAcpiKnwUPT6h3DtIXwl73X/77+0BtV7avdOGgjyIgPR0RJUSPU7azQiKCPeiIL44QiockF0Q4zIkouRxNyRgAXRJoFcBl8gYa1GhfqAI5I1hluU8Bs9Zaz+NP3Z3H6iTiMrfSygoLUDZQ3cwtPEssefC6ONuI6lXdZ+MnEB6LUry5OWG08X+5mwA8AsjYUCfOtrcUYktr7hCDFWQZLmr5//+1jE+4AOmP1hp7WcMmef6XGMPf5eS30YqbDpRbupzpyIV6gUKrY8CnITHYyE2TxDPhmE2cRlE2NQlWle3KpMQU1FqkSXHpI3JIwAHQOiqrUu5FmZGHGkHqoWG5SFQXGxCfgXRxCwAMSccDwkHUrbQicZi5DVEg/bck/Qy0LBBGapDVo0Mq0PmiweD8rUiSmkzLNZ2rbhcNiGsYpM5TLmPwW5kfx8cIXF1BxlRQzz6KJmt1hgaW+sI1Nuy3Sp2SwAEEb0+nDMhlGRL4z0JyjTmZ4CcMF8pWEsfbIrw+R3kyISkko/3f0rlzVZY1A3SO8v3s+zmjD1CqdLs7EuzKJAKEpILjCcEOY41/+hkAWNfV7iqlj+TP+E64OcPJymUlT/+1jE+YAP7P9bp7X2MkifqzWMPXaZ9rW4D5ZXTHN4TXDtKpWp+dSoV/1F3UxBTUUzLjk4LjRVVVVVVVVVVVVOOO6uOSSwAGgXu5eyXwTRPBlOo9lyjBlKNxOkvkbYzEJ3WJGSLehhY15hfvJXjyLU7ywFwJEYMRXF+jwnasQQ6HtOpbRwqEI9sdFQ+MRfjBKPPRbMyW3TgSVXBKgTKE/M4Vi4qShgkHgEBY2jUDyTaGEdgQiOB2YkXOCQjb2nHXL7XJLIAFQgjEaD9ueyy9HpTLXGRuYMi6H8c57w5rHCIBA02gD7Gpe2kCJ4EBCn6NOSluSdlTGFQkx4Vh0LJsTBAKigfQrBubEWur45mWYjUwbWbYJACKHn6IRLEiY60d//+1jE84AOqPtnp6WOufWf7bT0v0aDHUfZr2zrwkA0Eg0YZYWA0hBMd3zgWjVVVVh3i262ABSZF0di408a1VDxfx/47ZPDsQBWjME52cKkEfiqJMTU1rNrVKBkmUrvmcSqlo7EiKMs+cmTqS7WlSLjM0JkXL1KRmWd6+VEAPkYoeIQmeE1pEB0sdPNfplzi8P////4xpZM6TBUCzybQRMggtfxVgHECkENlvCk8FhEEi9M1WEySNi7wUA5ryLWYwuZ3kBTIg5gWYf8mKMWMNDhUSW3WPD8qlL9/XfSZCpM3IJ0FtJpS+6lQ0BuAiStCxZiCkmXxlGdX6abH1RwLBzUEZXRqJbFuVqigGbvgmg3rL/hwLgTWiwyB3Fqlp0aUgn/+1jE9gAPxPdtp7E4ueYf7jT0shdE2XU0XiDEIpWYZZchv4Zctc6w6K7E1M3zzgxYRoDjrkSELkOKjaQmSGAjIwjgXAQkp5rUkQNVTEEAAQ6AEAHgh7IECQlN+ooF0EzZQpeiqzq6hPg+cir7o1Qi4EsHicyywsgbQtpbxun3g7I0CeAdQPsGqPSoJVAW0maHnG/jp2Af8xoqRiUyMLkYAMJcBeoYH64i2xNsTs9C9bafDKY+CCuyOTxqEnNhvZC4z7Y1NR+5GqLi+ORaLjyOZH4ch3HI7A0SnCCNAvIAVjUK0jpqqqrOzRdbbAAggRPAypRggBdwhjSU0weKS3AoDZ9csXZH1OsdPh5JGaz5Wmz/PpFq+QRDO7PuVX72j5H/+1jE/4AObP+B5j06MtsgKOWdYkux8s3c9JP2mWW8zPbf7Rzm8s6TtYl2HgAGXYBMDkGJiR4pW5HwQgFlHzpkd0T3dhBdljqJ08nsul8RYZL6D4f29BloHOUhMGjkwos76bq3UwmmtcpwSsu0nYegkSjE+AfYjgj5QhMMSFG2iHkqkfJ4/VUXZ/H2IjLGYa775Pi+jPpLVkP/KplvIg09xFHY6GBp1PLnaPVUxYjfwYU9zVR0LidoLG1b1YU14ZgqFsqbUYKiSulYJ5a0upq6wr+uQpU1Z3//b6nG3JYq7ZJAAPBPo6dTNSYn6uZYUc5588SEVW1/lIg23PndnySCOk7gwUNUoRRstEhMiKsmW31UTZ/V9uv+QFVF5aytrWr/+1jE7oASvP9FLL2PwUwfsPxlmhad6jejCSqUIe4B+kKPYIZtpf3/pIEiN7nVcblls8krkAA6TmJsk0XIpNsZYTeP6UqrVhJ/EI0OOvtgQMlhoOXD0D2H5eCQb1j9AujX7lD4FL6lnw17xUfDwZLxD3cUS//TqCJJ8cTVaQFcPa+SpGPIhwZOnHIyZ4iQCsjQHLXYH6JVyEUEAnMYCEWYjCkgRAAFaWQKIS8SZk8CWUI2qkTQ6KFwYwTKiTAQUKgGFO6SCYiKzajpJF0CiATzsFYWGWQFA36mkkZzCsyRGZFo3CHgS5iT6rdXVb0hxMQaBhKgBwMwr14bezBSg0TfPUn4hIYA0CVjqKQ79/KXUyA0kGIjLgcxjmSaqpilOTH/+1jE/4AV2P9DLL8WcXaf7jT1pb41TeNsA1EgPwA2EXCGncKoWU6AE4GUBCCWhug+mOR+hpiM2w/wJ0H0BiCpHQmv//Rvp+9lNx+SuSywADVPqe77KpaejIi72ojaNBC1+JKrI3fI1wQM4txl/yAcsBcNZNq9fpFipY9tX0kaqxITqQYdWov7pxPPa69purE5ypF/QK7NwywNEx6PtdQ3qhYd9oFkaogBYABgN6TaHQC0JSwovQ/T6HubukJdS8vaNHO1DYVkUDCAzcZQhS5FE+i2W5J8JbLVg7CSTsOgxKEa+mtOWl20O2M/dmGIw99Moc79H9RKtVypR1TS4g6TlNbkVUmZJkkkPU7DvSki/P+8L2CKDsBvakaAHpCHDT7/+1jE/oAN3QFtp7Es8tif6PWcPeaRl6jJohKsZGoaDGzHAvoIdiTU6PVxwlvJ8dycXlSgW889jLEmsVZuJv/5wSLtwVickDIMFlIAEwCQlaAAWUL3hiELkwoATnT1Fm0GEhBMFfCvhGUIlTT5eCQyfT4ZBCer2WEa5fQle9YTpzoSdSgmT8pJSKPkpnBKF1Sz4gm/Lg8EclOh/fFil9ZdYSgQsQhDFmJHlnF42MTsSa4JwWoopnF6PGUz4ikogE8rKmSYoLHDkJ5OQSuPRXQhm+lcDtwi8VYVXMtONyVxyWAAESFu7YFM9T8Z8PleMCMzvtaa22CszX1iiRPQW7XymVzdKfwXRoIoBQPPqZtZ8qrXZcXSAtT20yxCPZaPpx7/+1jE8YAMAPdvp6Ew+raf5xmsPX5sd4g/7JHVUSZhC/+CSbnb0xNAW/8detP9UwQS1zz9ly7qQodqBCX5b+ADuolIJC/7vrpEbYEuI5MzICTrSFj0s20iGFHi77U3lae/EPF9WAl3Zqcgm+8USf3sBxxjCib8gHjWL8FwzWwd/fvIliwpdwVWpg47LG9k18cU5cw6CDk1D9Z03kQZXqHZvkoB3qiHFU4rg24H39DIHmKEtyq6W8MhloH1V/airaKwPdz8H0gpl0blLsa60BtW4zTpQrAEF6iknIAAwWJUkEPVdhtnhCTSIgRSVk3RykMra8dSM32zJ3Is3KTYeYXkfqtYCFMYKpXlymcrXI13qZZT60TFftWL+k47ZRdTQjD/+1jE8AAR3QE9TT2PAamf7PT1pxYiY+/lj2dX/y1Ivf/68f7r/o07hYIv+u4KKCzSTM5pm8tINzjrMYsZ+my5OzFdVQCADE0LfgBHVcI1Fp2YrHKp0oJlg7h0LQVLFkB2iQgsZF45htPKK5RhDS6iyv3Giid0bPGo1kvLkFWtaonqoeZU1KoJRKEDXeslsemHJ8hcQ+mwJOlHK2X9zomoFaW2nJhYQD67z/wrRB3IE7QP49ywOH/z428MrjMG8bi0lesld3mo3Lkj1zMo+IP5shBJRyFOSwABYjVVh4KNyhpqKYBcG/k9DINSOzd4pHd1PFimYXQSaHnEeHXe/iGqGcLVfyTYqoflgOid+BhjxW/X7SbMobtYlnkh1asrX0n/+1jE+IATYP9JLD8aceSf6qj8Psb2kjzth7bEPK1/j/4Uq6aPIW05DmTf/9TuT7/+U5DmOTdf2xBmg9799OoAA5iAk5AAyiLK+TWRzXeXeRMm2Qvc6OaEprrwu2pjOxBwmvSxIWDCBGisUruqXOlDB1uGaH6EFggwfu/ovSbnhNO8CbKj1/yc7SijiPZGmYNoJGuUbiMhb1ic+zbXhegjk3//hDp4vamdInh3lv5b1uH3YbrW7+5YuBSO+/qDFwrrZdXcFiL3c//6f6iGSjY263JAAg5ZlSaKP7sU7y8h5gND1/IWxqncibvvE+WF+7t33+Z/f7qu6UEL4vUMphl1FrNRFpTDBGksld5I5r9zdJlMNqqG/9j/DKhg1UZCuGj/+1jE84ARkP9LjD8N8eOf67T8P0YWUqUggeRBsDwiP8WKnQbcm//3rU4Tf0Pwmicpv9dMZr31RwtVAIKkANPF4BR8x0CTFciBIRTnMEjBLVEAWJIJDC7lLhCNbTpwlPeGGYyRXfHZcR+CDrhHGTbxarJ3VeJaM690en0oVbjLZQjOApTTPa7r1r2pF5IYPAYQg+jrx5tbMkFQrYyqSGTWEJJhGxrNKE11eJhfEyG8R0Pefl/jKV5bCCgCi3z/ZRuH/SBHnQr4v/wT8O6DVPhWqh//R4/R0bgEWk1GUUpAABwDKLeCRIQnxZgm0MBBmGrmcJEeCCjE8njznkikqOtOIQmSc0V0FcO+eWqvlwlHyOLSzW5K6MnkzEljwnArEBH/+1jE9gARmQFJTD8RseGf63WFP05rHp2FBZeqnLZMcsN//h8RMorMwIJw1FPjtWmUDHKSf6z6sNfnSuG4xtbPv/zIF1D6LTW1CKOIWWABxpZ+FkETASgiMxOo6wFBTnE9GIJSxNwwoSPMMsedzYTCfAdUdGlUrcn2Rn7xaXYnolz/2rPITMcZ5vUkX8yC/keZ7521HPEL7H+JHbYOgQ5TmR9zHErnSZTum4qmOLb/4jf/nIXpij7z2zED/9Jmk/i2//hGXrmAV59AAEISCk6AdiGZTgZxievKnoMggKsNWEKocta8qITdTjQDHDjJEpJxKZHAsuiq1WfOUim2dIaH7+oBpDAIuG7UGOnDLJkTzR0iNfcKzcVVcp9pVI4elUD/+1jE+IATuP8ybmHtke8gKnT1P4ZjiF5d/cvlacWkwgICoUw5BIDGVeu1EjNKK4pbfDGhb/////QQZBIy9tOMLhjMia2uXXDChbL/8oWnk/hyofX//0KVAQbNijbbkABNAG06y+OScb1s8D+0zPaCjK5Dgx3j8gJ/31nKZWS6sU+M7C1IU1ty6P5PIYNg8l5igyMq5UtFbVecByCsm+X1aIet3VkOiiN23zHgXEShMbziBN/xv+BAx+XSeegpP1MzyUi35s88VVeH/wkfTG9yo6AQktG203GAC8Hwhb9hjta0onGCuXRdxYl4MA6Vidcs0SHmMwHKfe/5FA+FrevqQcEqEyUfjubE2ImAnoLkkCZX+smHqkTlRGKZ6zXKtNL/+1jE8QAQDP9HLOHicmOf5ymsPXpaLxYewLCAWYjiJYhnbqOtlpsSQbENidUtOgzHZALiUZqjoj8PkK21GB/QiorVTEFNRVVVAKeWRVAAaFOxRoTl0nrZ+5yqrEVpoN1yULI6qdTIn4jS838+Paqtw6HEjF76y7l8mBUakMRcFxWZGRqtbXH0rRihgejNmHydlgGDRb8kRdV5VNTAxG+FdGZX6pU9Wo/ZUOTBC0wOMSRnQhBt7Q2p5OoQnaHQoEOj+VakbcIc2rpXt6GpVmVarPE3UAvEpL4TDSWBamvu0kskAGp5XkjyXbA4KRxwIqZAMBgB5XtN5Ls8fMAFZWYcpgJv+dKAWU3yyD26qs+CeQn/vhbgoZBCG59NpLsDFWD/+1jE6YAPLP9bp6WcMe+f67T1swZMdyGNL256xUM77RECBNkJStccTQ4c1QAAzUkiSSYAbQb+DNZlAx9J4QDfRJybWHR9jTwj8AGpzir92mTwGvqBY4/eKH6yid8bnGVzCGkrE7QkuaqHKeIkQWgYiXXEE5EqyZPdDESjg2zsDVslrZmLAi5sdKpIT0Uk6lfRERltTP0OSB+K1oU1HNPNJ8p2Y/VhSoSeBfXKE4Ma0qJC4E/MhAGU6J6yDvM1bNRnFLL4lj7DeHkORmm/+pPuAQAiisADxJbUEbVNVephA5iyUhFJnRtGV5mWCQaXi+ZDDDhPazWAu2HRbmnRe+S4ZXmPYxK58ywqKN7SQDBUNV6LbQ3Q20Z0KooSljG+Uxb/+1jE8QASSP9JLC34MWwf7nT1jb6V/yfJsDyHpUib2hLXExdEoXheDZG54tZY1/mvfp1ka2hQtq80o8/VTBr3zMdUU7ThenSugwnAwXxYTRf//6LnKxfeAADUTV1cARAmAWk+10izxWNuzgL6hZKl9pWzoivjuTTCr2qCvOKf3/Si9C1FhRVwQAATxXNXzdhOlD57TzoePsXsDX8o0/7StxyudVO9U20gXHUcL/1/9FABLgCk36FDZ0TckLik2DYZJQmsSDqp4iHmgATFXY224wATQT07zWYT5eo3rRt1Zz8BpxylGFWImGFdMMNGotHAwnDbYyuTad7JGjMqyDuB5HmnlmSA3s7uMwdxchej/Zr/tqHz/7qrjicrz/LGxIP/+1jE/4AUgQFHrOHl8kufp92sPXqnHOKQBFS1ZQvJjsLgqDQGo+K3nMJqqZxDWk0aSAJRkdIQ/wiTPrFV6gATVAVcDYIETwjHHw0WipcqBQoiTQ1qu26ys434MmxJ5zqdHcYRqL0ZqThKRF1S5wlazB9hIMaULc/KILsx+nWp1M3Kx+t30dAL8nm//WznDaj9zQDUuhM/yhhqFplfQfhl+TpfXNgn2brFBwxsisRDgvIhXuvbf/siC5o9VJ1nU91Un1R8RjSS///9n1sAAJMTaRSUAA0xixVCmIwdqPJqc5rG8fiOM8aQvYIJFiXBlPTrPvEBnSIrF9QdUNg+QgsB43WV6dD+K5bZ5n0PCzZvlgTjMMuJTV4Q9XamqJc/lgj/+1jE6YAOSP1Xh606cfgf63T0s4YzJj9uaT68GNttPNFFdr26Qpbfs3G6OPax6///9iMg3EspIdvy+o34enKFlqoAA1gCknAA2oZ8GcDpBk1SL/gFLWGGFp2aZShqk62lFnp/m3Ztelsbhi+qF2qGBIvXcils3a1WnT/QDwJCLc9Lq2Ebwm5VteQc9Y7ftLkcsZUw+QQLrd1VYGjaE4dTXyl2A8KudBRDEh1AwqMy0+grwDJCynUMbX//8Mc44yLaST/+78lZY4BhkHD2///r09CCVBVgAVawYl6NekYGEjwFA3yRrCUMGtORuTReIMnfBpMDN+8tNDedE3BiGMoxrWIy+lNQy+lddlIgCfKRxqlsWJ/4cood3DtCuSJPJL7/+1jE9oARyP9DLOHjcgAgKfWIPAbjkTtaHIElkgdqak8PXqlFlLQIPhuL4/X/XaGl2fLG////VtbyoKwvDZaK8XADADAishzGvQACBBSboATYNiDFwNw40WhJk0YAywRAF5GuAYhTRMRFhmDupPNydORGGgNwdE8y6SAOQWBgaFI4QUMpeygRwwDTTaAedPfxlLU3lIHQcjpjN1UJFWJwaCEJJQt4y12yNWLq9rVdPTMOF+nI+/5U+o99riPlw7///3hqONQbOhnUPSS0K4W0YTiry5uQANVpySwAMDSQecMGTipqKs0D5CGFKEg+hIES8ZHi4SHSIIobFk9LDkuoj2KZ6FcIpJUjofzFq8nxtkxaPLIelVY8lEpHAYupE7T/+1jE9IISEP9FTEH8Mgif6SWVP4blVpye5g7YS4So6kRPdd9yCJ3mKKDNa05kUaGJZcXUZSEQ4ZRsNncN8lhxZdUAFKfiDhQT8INJcozLMaknCCHBziTkeAqk+U43JLXu0KEXekU3caG4CssUba1J+d/4Rn/nlgcKIh4tR7IUTRLw8pCMiCGfvgX2nZ0zeQEZw7Qfkw2aQRg5WMYv2OfskEZajR3Of8f9WaWfbX3Lq/833V/N9XRCTCwnFAgD5ESjw4KxQNiEiJRcSCsQB8iJh0fFArGCpEZFhOKBGHiEmMicVkA2WITRgnFAwHyIlPjgrIC5CiZ0QAA0lXIAMLO3F8O8iwjZGcZ7HQxdGqa0ntb73r8pkGAKBOIkjZ/nmCr/+1jE8IARdP9PTGXhkdqf7iiXsNYMSElMl1mFNOb3v/4jhsI+vOF5l6TOIbve7w81ZpBHSS///yGGKUUGXblkgAUEiI7WinxE0uxFgvhUVjIuKC49aq813Ig8BrxZXrNPy5U1dMC2LhMOQXZgZP3NKRwvEhaLfJK4qEE7EhQcqmnD8tOTMzqw7i9CjgaXREN8uRpVYsXrqHFCURmDuKHxUig2CUiZDzX//4ix4EPAAGZJxuAAxQrywFhS4iwuwmYj4iQLcRkLZ2eScIKMNCwL5ijwU6OUI4SfCAPzhNVGsZCkeuy3MSnIKdCEGsBnCUhdlYXlTyC3JMTtUgq05GHWJkdQaIa5agKZtA+nczodgvjxxTW19YZXVDsjvzxPFDT/+1jE9IAWmadabBk00TwfruiRmpaTJ5C1YLcTcfJOIBTk7XUGMUhun1LBgwq0YG4JsyILXf/1ywp0qxXTiUAW/RkkgASpKZjuiKXJ9pNyICjU8rlmibbyLT+lQoK58bDYGZmNxEGNieU5ZsmLIkloc0P7/bpwknIuPjkSomDpWPIgp0pz0ESUKemZyXX18SaOo4j0Wk5ZKRNZ2tCrGyOojE6VqEu/r5OpgLYIUPGV9////BaNgAJUAHTEJy9SYklHGOJs7QYcAhI+cUsnGd5rbIYiMAAfNZkzqhidHGAQNicpBhDhjKLaCZB4EBm4ycDIFXGizSbCUWHAYJN8QKiR6+QxV006gCgYqAi4CioUBlqB5AGljK4VTRlrLD8RGGL/+1jE+AAOaP9xRjEv8mof66j3vXYwlaJK8TerJJBAWumIaFiNP2yJ2tslQpDUb+phZA1c0Ga3TKa0pocNDFtHkILgX5zV3zVchqS+CxGQsMYbsT7qtD8JwYa6UCWVBaVlstrtkAEzyBWJmFVt0p4fM4sTO9nnrC1NSltnacDp7nOESb1GR6wvBkIs9nNXWls0RupCEx1XUfjr8mFUTx+3/gvCd7+6GfrW2X48T4sLqHy6IFk8w9gGk1XItUgOYwN4pQ9buiwn6irZnQm7kGJh5JBufKqR/E6HtkUJgmFLlBi1K3WZYnIoJnqryp41TnJOy3QhWIRDQw5CEIYyow6xhkmMdntmyjYobtWPFILAX0vEGMnHseKSsy4K4QihuGT/+1jE9oAO5P9rR7Hxssyf5k28vXgb6XVisVqjJgPw0EMXm3yv52D2kJLr+AhiQaUZlLMBU4DWZFFoTylDsNUSApXXBIVN0yFSLJWO9lJxAAOgBnAJoAwyqz8wida3FzBEjJDqcErgBlw/TiAHqA2SRRdODksiOFg+uom8QBw1kpatRFacvlDwtKka1JOyxpaN8vTnm2EKwQ81yGOqKN6pN328c6AG8a/JqafeV53biCmbJHvh2cepjbxsakCC7tIiGUK14nGFcJkI7NxAikKA5BCAtQWxC3g7woU3pILAYgWiRDWkW7LTvaXnXUDUGihhmiogkUvqFgAIQgAgCZpCZpY+fEJu6xUzmXce+qqXlcyfvHxNvPNtmACCw4sjbxH/+1jE5oALGP9xp6jYsowgazGH4qYrTPMFtAjdLA/FRNbDoSVsV968qNa6XlyxZ70Mbhcfs7d9OVj58bLFnmyEhoiwcIRSNVwiF8cS8TilCe145dx96t1SVmaIiIhrLpIAFGGKwxb6MO1RJKMX3kxNXhpeDjBYVH8M4OoVOzbzq8OHCpEosAODw8BKD69Vr6uFYqHLdaGV2RgQ7ZsMPwVhbgK4BqwIRFJyUgZIThimZcIG34Z06+CZD9xPOwLd1gBRC1Ggvg2ickyCABxHAS8Qnm+oOuBVjDTHAM0Y/CJghS1FzG4BYDKi3Q88FiUEJiIcnfgQtsu1xF5RtorY7zEy8RQJPp5JTPTUfWtRPlDDJYZS2QlNqyWcS2X9fbqkK6v/+1jE7gAVIQFPLDMHyaqf65D0sHi4ZaSpjH5dy7ZW0hEqbrOkFm2YMsLNVXfaysFPqCuSOgbVoKYr6LmX+4UiS2jMogd91klqVqLXfpmytQC8AoQmBWCVQBHD7HTJGTJbjVlD71U1RAeVhDhooxaEuG8pYElKqCvWFEQpKSCADGMI1WZhcReyoocBoMrR1hCDSkSVFSUAKcwRHZtm0yn2+jSajQZ9acy4rfuxc/swvIWtuPSpstnKfMsTMFUcFZnF2H0qVlmwqLjJi8JS6vJVzcyun6MrZMDYSBwhbTrB6TdAPa4EOsgWDeoDhaygQurxzem6/N6I8gqUxKAbUtaO3kSEFWOtTGFiNCrJiFoiDo4JAjJehoSCU8dXPB+GpHT/+1jE6YAJHP+V4wxWsuYf54m84MHpnFZhyHFKwRpmct/yu6FW4QxOYpMCmFYRzr1hKmp8znzJH//E2G4AzABOjIDodIyiTEFNRTMuOTguNKqqqqpElOSJt7WwAORG+IoAs5mSqA/eW5VFSJuTTV+N58y47/klCZrf/8j2NrYXzsh8kGk2YxZyXJjU9uVL+WmkijdHOOHCQ45Qasb/q+jdR4RQIhKxZEqyaOS3WQALgflgEJSXW6pYkuY1pir4TSac0lCGBUwkB05BLyxaVP9Je13BU4huDudh6DXC1ykbd5VH1AaN/pM/M22V1GTMOflMF+mFGBDEmcz2W3kdyE0tntVqoNK2RX+ubfSe/j52bgZmq7V83wl7NS9RC2FUTur/+1jE7YARyP1ITWWLwcmf69mGNm/b///yvpdHkoa4rxJUiFxWBFSCl+WZKgAHlFpAB5QkmZNKTJQtPNUPUMMuWXOpFeLPILXmPFQxLN0PExbTtuZCIKf9ny5VLBZDcZd3GSwpprX4KcR9U0yiJdGganL7a/F2z8AYNb3GlBi1jDblH9ynSvot9/1ZWagaar6X/lcoMAsCDzxIiTE7PbaG68iiyujiazpLGuRWPf///28y1WOTQ6RYyjIO+HBrZxDEP9okXv9tOOAAXC/LdYq3WDUVWmx6EPUw668TWYars+npmCX6gHWD7NeScGpyHuHXJjI85y4ZdRrTE5oSU6rYZdVjkrZJAOpYl4lAPr60Dgeyz/m+gj9PKnz3Z0tyq/X/+1jE64AKUP99pLz4Mj8f7PWMPb/TSJUa/xr//5o3GkLUjcZ///6ZOfK7L05ts6lUJII67Bui6BVCIs26SKVUrbackAAIgvoSV1IYYoWxqaBPsRVAjnOUzCuO5GGKgtwXDWQ9MrBNl5Ol6PIavb0UiWRDUZmAyHvI/kVkQ+SftMeektzXfPJ/7GTWJn/MQu/PBeEABB7v+pmLwhH/KZMt+v9KJBkIYChGPDP3KHDMY0QFDY0rbPrI5ARzgeszau2F1ESq++UEycv0wGdYfR+rO4SyxKUbrt+3z3XaXiNbeyYZC6qM2S8vGc/yYPUNLWU62FzertC53UMQxjgQXNgViIO08Mz+WwUFBkMCMn5I5ZkEww5G3OZGh8AnbVNY5C7/+1jE/4AS6P9JLWHt8hEgaymGvwYPU+xHWkD9EzTxKA4B2hGztR0Qtg3C2leSg4H9ZVVndohrZrYAA8oh9ZOz96KL0fP/vbMplnY7l7JJA6aNcoqTn2sIjE5tKJIGkDExQFGAHE+r6uOkhEDJsThSZ6JQwGyggwEB3ijOkpnDBAhRvsmFDCq1Yo0+ha4gk8BOMI3CcLAdBxjgRZSp4W861sbhkKlns8nAIAAtFlYVe/CaqH9LAKVMoi7IXj2w6T5XIelr+QfAcquzEplY8KVNhWksROd4CY79jKSsJeZijYZM7C3S6kFBwHqFZSBeA1wYp5qkmoMKemuWwQzEUfUoFRgqKjSCiJZYBABKNQVVUutFFprsbGvSMKaogKlLxub/+1jE9wBOwQFfp52cMiKf7fT0v4blpryPLxOk5MsWSxFHtdKYEFlqVGSITEC9QM+KBXgBCmBJbk4gANDaQsiF2j1ArUqLZADQtzZCXvWFWDSWDgxifUpMQU1FMy45OC40qqqqqqqqqqqqqqqqVERmaHVKuYAMGodj1fGsdS1woO9DAqq7Zl/kdbTVc4kCUhGjQosOaW7+myTYlTJMzaPHe1V9M0pP/kiPd1olirKIqR0RXExkBBYPKaGzvNOzcskAAsfbCgqxczrsfiXTivuEiGejC3jkF4PgUsmlThKSuSGJOMUAkwW5a0OpLItUqhIWCMqVfLaKnysQYHj9CsUB8BkIXUPnkI0PbdKlup0YrUKNNOMyhfNU+rENgxqST1z/+1jE/QAO6P+P5iXv8uSgKRWM4wCIazw66x0IQ/g1HyhWBiQEMIxJc85JqCASk42AU3QAiy/ojWLNd47AF7MpDTWjeFSd40APZgq0FkfZ2ow1TBObKgHFAG8e0BJmDqLWErl2izJN5oqjzt6rYsQ53B4eCkdHUb5zLKwqxkLBbzxr+fiGG64sr2RuhNtWauJ6xmoytn873hXbpHbDlZC5LWU1HLr//zdSvShskGDlJyCpQ9elOwNUaoBAAMCAB4mRMzEzRCLxCDz4ZaDCmQkMhC5aAubZhkIDoOBywDPkXmDMXXc7a5IDcR07brJ9rojd1n7ts7gZmYiBphMMhAIMWkEM/IHQEmiCJsApkzLAEIIil0KzkCaP7KAyRAECGAz/+1jE3wAJZP2HxiCxcfufsDzHsHYJ4WErlAr4Qw4iRDm5f6a68VeRGCKsozVDt61zRrbe4gyUjfvcMV7pJ0cpmSvU+4z//8g7KnYRCR0HMW6NqEKqADa4ALvABisTKDk0ji4Iqn9Xs8c6pQ9nvPFDkRanRa5ngGScyeRrlFWmdTJKHWA4sT1kItyFbHLhHIApU8MfKKj1ZoCba1FbNp0oYZbnEsE1+cJb0IitKPYLCNj0KaaH/1sfOBdAqoYiVRU49Db5mPNIoCYBTHbTFEwB1KACr8AHzAB7E/aUqOCLOmLGghksIZjAbIIefyGlWr0SimIvaJLy3IM/xyKBlikw3u8bRyEqEffk8eHPohaKJElVK+XUFEMaRtJ+6Xjg0k3/+1jE/4ARpP9ZrGHiUpie593MvtFHSncy4Zam5rQ+IVrnT/6///+cSrxBJBxCrFxjT6xb//4SJ2i5niZBcKx0QJojO1DpngACUAFwBo5AJuHApndAZKbGuDhiIEWAeDCIhZ1BrcrAKG0N2kw+3leFSR/HJlGnZj0PTtiMNiuvSzRNEqgmec0IYAL7J3t3W6m2XtCgBwDjwilTL512JJL21FQWk3Y69CNTsJdsjUubk9jIbrOnWdNdNGzhvTT//5EC8AnQnaCX/HwmhbR5BxjhHGeJAeATs9SNyAAABgAEkgcMFBBsnZkvxhgxaou2W4GgMDP5L0BYsyL9PLA8i3LYEmbGXx73lu4xuGZRBbMZSr1AC1CRQI6ErX6oat0ABXL/+1jE6wAPkP9ZTL2t0gEf62mGPUIafVpozeeHjcGVLWgSN0s3Yh6Jurdk0Sa+kS6b/xV1H+l4B/+rVdovQLj38IQRrynby0Er5kjTEQGwq2IziKpMQU1FMy45OC40qqqqqgAAhGgCS3AAUNL1CpA3ZpMVwDiJls4nGdMRi6gfAkqwpT71DU0juJlvhpW93zgp354tkWfxYSJPtTOZ/C5OS1v2Kc4XS1SAwZEswgTlpc+QCqL4USHAcmxMgTuchk9JEVFpPX2TrnVymI5Wckp9TPmeN1OkyGA9fLRgO5CEkeirdE+pmqu0u7W62wAIj3HoYl76SYEmOjYhPhf/mH7fS759aLlLz/71JfU3f/d901WpKDta7w1KyQkbQZlUEoP/+1jE8gISSP1FLeWtwhQfqOmip4BQMAjGJJFGzbsGAOIvoaJp5Az+yvwIdUxBTUWJt666RpJIAAjiRSJZ0nU7YzIxKzUUgjwTAIG4iqEqsDoZplimChObHomnwQXHgbD+3qQ4uq+6RMSA8Xw5N/5ZHhyHOTMOdCT/Z1MPQbo9ZTCEDscXysY9TP9oedc8jg9s3H4+VGPnWNrtXoREtBP9ClKTIdbx9CmgXaUUXyVhBBn/ACRjmPd9RWVXh4iG1kjgALTUBVN6lY3gkRjmEjYIbCEuFCBPDgYDHJC9xcYKw2P0sKcvEUzWuR1gOjJ6bPFwjGJImZm7ETZ/JuHACi7/l5OWgcEcXjB3kS4qrDKpVWCU2xZDPR9dmZmZnNdmYmT/+1jE5IAQRP9NrD2JwUkf8XzEjb63HEfv3uWnyVGaLWCZGuGgcpDUgq58qmhmiJmHfa2yAAPSUG6DSE74P1ZmvTQfBxs7GczxLU/15LTBPB+GoxxTf//58AhUsGBM//5cCVshBURWAI3KCriEULiUmhbGT//RkFFSYlJFd///89/8tU6IsjJJIUBkbaIsFR1kSPFx4ONyPR9SgEJVhbEHLLjoTRGFggkGGRYAyNiBAYeOy9oij7LxJRiexSIsucFlSpVLpW8yR65WSCoVjNer6l8pdyJQS+i22aQ7AbvulO1LDTJKpaLKUii8jmWlFmqawZMvq2KDpInKXMFjVEAzRgwTfSYqp9+EuRQwIzIehxqoXM18e7+OkjEKJWa+RSD/+1jE/YAREQFvp7HtcfagcHz2Pj5cj8VcMmhhEABPBxn4NNHmSPQJiow/UNBknfG1GkxBTUWqqnLN7/tbbJAA4mp6CMzwwyPkMUQ+UJxTA0fpMhZ5hIIHzKA5jdtzSMabho+NN6rvJx42MRJlYdnTNo0WVr4XH/PCfyQUTcRvtsSqbS/67CJDrblcfqpCdcxETAgAy5OzGm5NJJJEkAAWSYAKrWhtLvqvclVCzNJ2067y6SICXQBAKBYQwHAVJIcmACRdy+kkL/MYR5klDcLsqGdWG4WRgF9Pckyi0dqGmquXw+WgyVIRCxHP4lquVYBKPQSt0xn8PYRg3yGoTjcSVCYEKC4sUaqiTirOZOwBXXx0mEo18k9kK8dWprCWhqH/+1jE/4ANEP+P5j0qcqEga7GMPb46jRgogbpyIcc6KNkKgwRYVYJkJMldVQAAASbYkSwAJgjDIKXh8GMEJIFGVKQiL8VEr14HJSQfqCVMkvk8XGcViFu3PQ0W5CLWSxtMWWrxGSViMxlEvgpq67hoN7W6uxDr2P63V/qdpzdpa5Kp2szsdkNA/gFR9MntoBEPUNeIrC9QiLPn1XV7Nl9Cme+dh4TwpHxBBEshCIqlobtE9Y42cDQRkM0HdahHpydHsZSiOpXCwstWSEo1NbLLAAMw2G5qYYsZdnZDaWNofo2LI8nhtjIcrk3v4ZijwZ4/vDUAOQ8/LGhw1AoOkDEVSxBfMCrNdwle//EkB/j1EC4hAGS7NHGHT39WX8kAjJz/+1jE+YAL3P+FpJkv8n0gLHWWPc5da4nxU8tE5gXPjsiYNO/M0xqvJpNcaPi4fLTsyMkqaSLcT1lskACnDp5NAjrP5SW8QER9Wxhj9te5SOs42UPOlMsRXO0+mjDlkzGIvdTXidG6CvOqeVCB9q449EMXmVRzMEU3jaZC4qUT2FPV8q5Y2Po+C6j7Lgbhhw2U3jQWfXX8s39HxtJxPtLrLLLhY9JrBEBjIjv0sLAufiW5dsMGxpoVCgGtRSCcbrktsABqIUlU4dCwPxRjtQNqGydOfks1YWnhshEMJSsS1ocAuDYnXTZs4VcwMEBRj3Q061S/V7a5rtkoT5Vq58dELfevWOv+UkXQkqyIaKQeCEqmIyOf///or63OofRmrPz/+1jE/4ATsQFHrLH6odOfrfT0s05nTZO1OLtENVC3HHEqnlSuFEPsvogRmGkS1Czj+lep5gAIQBTlYAFzCJlPUEEiQadI94dX5rbGouAmtxcJ6WUT8dZ4zVcrsymGJqROm9YNAPLbE4jsxEnJ2qVStyME9QB8DeNY5l9rdNxpIc5F2KcykQtzW+JDAc/7yF7JuEJJyaYSETFC8Dujf//2mHrLG0G+h55wWpwkq7aV0fqKSMLY9KtVsEkiLNJJmmi0iqiiOouyWc+fisdAABqsktxtgA8FEnUA0MTMHenGFFj+Sy0ymmQlOFKwzo6N/Fkb2A8tekJzZ3ed0hPBlqUn81aY9F8wRA4rXFZVXftjpQf/yljQ9BxlldM18GX+BgX/+1jE+4AQ4P9prD01MhQf7TT2PO5ALByBZRNgDBia/M9bU1h4pnqqk2FWTi5iMcySCigA9mIABkAim3gCMAzDAu6ISQx8k7PXTd45wCo1EF5JdOSkUXiaQpMNbMPU/uDuTCsxdxPMQCSsaPTv4j0GSZDFaQcTY0hIxzAnR4lLEXmUx0+hAEiEtISk1EfTPP3aKRNvvDalwiAkoCMlzBMRUMZ2KEWNZ+d0J8Li6HIyqklrI1zJ339MfehtKU7i/9fcV5MneJIimRqR0QqB/BXhEIzc3///ipMiABGRwAA6B7eGPL/JmNYELAxTpuRBMktMpmK8oEQIZisQVDTTkPwYvk+G4dD8k9MdtD6RYz2Jop3TuJCq3jawax4e51687CT/+1jE+wAS7P9FTOHpYdGfq/Tzs4dlvf/ycsxUD+bmdlrLOrIsXyud46eVq8yQE4qK623yb+InwYbGqGi0WP2bMXUCJ8G8c7eMFQQsVSm5ZNbbdbAA5AVmJl0yZoywRU0Y8uC+bNWdrD/DQVsQ4evV6Fj1F1h0OUogHGQdcegjz/8EB6IlY8odMN84wagocbCjRX1c/ZBSho5JE7sZO7pX5eJRUAIppOXdQBGQHbCgRZY0gvqZSOM6SfKCZpDLQtwADnZ5HFYZtXfjQ0e/E4mEIg5kS93cL1EVFoszY6/zlvtJWsvotFMcDSWfaSMWdA6mzG1pCD7BqR1oPdKxXQ+TrXpOf/0AAAnyFVEA22mXcrPuSw1GpkyvpIeLgcgzEEL/+1jE+oIUQQNBTOHl0fygKXWGPlx45K80F6BpThqgkDMQ4l4UyNAYQ5T9G6uB2m4EfV4ZIpR+jacf1MdTkPkH846VACr+mlAC2BUK8XwllKdZrlBcNeElSgCafsooghy2stx1uSoTyHH49NwjTm00jTQd+KR+crW5m8nJYXKEo1lUr8AfgR6j91PXWZKMev/hPCunUnsYeyxYChaXrfVcnUhgDyhB5oXHNA7nzj6woVp9Pmg0DrOVO4RZeU45pnVmX//3RdgCbQNcDkKV4GjCKECQ6OXKADQlG3RR9QNe7JmsNcEQW7qDoxpEPqqeJKAM0oUjy0a93Da+geo4V2T7lEPP1aeGJPEKFkchu2Kambi5CPi2LCIx/U2drMf/9hD/+1jE7wAK0P13pK0MsqcgKXGMPb5TpsYzqFG30U/UVG11CVa8dhZleZJ1k3IKO1Kb///YYshmO2dnokjkJwWwficKef/CTIIDAN17VUiU42nJbYwANVcHCQo20SW0ogL4H4n4to/GpHsLKPQWYuJQC3g3aRms5WkSUdg8qPo5vBAgdWP/mGXRSue/f+IrJNyFDUEr8PZ27BaEaz7dT//UTWCInJ4Qnn/sWouKz5q1J7lybmZMqNSqA/Ur///8Y5zn+wpTTAi0EikJVhhWxTw0Cr1cAJAHsQRlAyZYGmfoJvhMCmgz1tBwKZimgcbEgJIN4DFQ1YVWuNkaxF8laYgy3SUJ9BJASEJg1BzZfS8RqbUvZI6EZnCB6+sMJKwYdAL/+1jE9AAQWP1RJ+H0MkcgKJWcPXb5sQpK7Y1R7jwAMB94BFVGrlq3M2ejxLJm6vlz/ziLMBgxa7Qf5+zBG7XNPh85kbXI3i36lXiCOv///0xk3SeTRWxYYVOsJEmaEmop0rsuqGDoN15F2mk3I85LNJAADEQkM6JaZKq42P8MU0XyOI8EcpBPSkfoZgHRvVxu0pK0d/feV5sImI9iQYXkdYlJS51X4HlUdK38E0bhMHteGfBSv/+15Y9G9Gv//U8pYtFr0Vya1tqCYNbUTJlSySOOSwiTDcDV2UQFKHcZWy6GYZYVy+isaHi0n8h24TGnkyrCsZ0+omZ2lkyLAjtZl05xVw9Vss0rnrngT8ujt/af2VS6JC3hfCIE4BhvQL7/+1jE7wAQvP1lp+H4cosgZgm8vbgTrdAoAmk7kRf/5EKgqEBYvirGwXotD4tZAGjQGhYE2gAgRKCTmAPwlQHaQAAZ8t2LOiyRnr+ggBVM0NdDYmCQGYrJWJXqDBknbm0Uo2UEXQMiT79UaSK5lSA5EA0MDR19GGsuGAIPNIlUONjgPc0OgR2dOWbv3/5cetY9n/+6uSRDVAEp+Pu5/hFqt///lBAnx8hsrU9oLPo30ccf/TiUAljJVoZyb1Z9LFJ4PMmxW71XYCAmkACyVP2w//SW+jpXzYCSalEkqAC8VroqK9RAgNYksIXp4MrEBIsxZptSsKgKBE1obIoz1HE4q0qERyJzLXZyIYpCjRpXP4wcWZeSXESP1iSqRMDVAkb/+1jE4ABMaP9xpj10ccUf7TWHqX6mOxxLgqrfnKq0Jn/+H4KsIMJumvj+iZKpV//5TCMJEsu9ehOevoc8/6YuuxFB1vf//h9Lev3q6FpudDsDbNf+3/bRTAAQWFRcB8wtQhyB2gyaqiwKUjk5FpfR6nGILpilCKkKJ4s5sJqTkrijK4eR/bhJlIQ9xOwYJF/y1Yh11XZU6qUeNDDMsYWg+ZJwDD2EQt/PtrL2dLf/QbYS8Rckypwv768jFU01/9cokbqQt+vOuwliOnX6KSw+xQByEEhf////4lEXF0BBlK5GP/V/Y0orZLpZJIAClc3yy1Zhu4KaV7ksJhovhCEvqFpXyf0za8CJbHAY0f/rOuganuJrVHgBoz7Z9QXD3xT/+1jE+wAURQM/TD8cUi8gKSmH4uaWGon04iH/jQSBwv05L8sMX//mjISDCgCREW5zVAERC+GnDSgobBqd1AoYRAjJgFFc1AVDeGIYGCsnhqp0o1Re02VW9y11v6zxH9OVXABnDR37kzZG4LwblchYJqsRlX3PykoAKQe7Ops78JD2U6Hsf+QfKsQIgjl6fqQSVXQ7b/LIFaB9EXmxvPtIHIlk82ZuJQFgD1CUKr/9Qrg7AKQYYd0tGwAJREbfpgChVHWKjQJc6UiwU+VKCI1d5CPdSot70XtJmNBWmcErEcl1rqUN5z329oTdaQqFJaRnCtGp9QxG0VWISoI3tVuT1YhDjPwqQEZLzK/WTB9+q+6RxehE8N/cmiKDNhYrlhr/+1jE6QARlP9DLOHr8UMfrjT1ns46ioNga5UfFMBs0NAG84cSVH5kZjgX4hQwFlDkjUV/6QZ8R4+hwAhhcZwAEFCkgkkmAC8UnkeR9gADAKP6wxLSZa6jaTGVMmHeuBcIfpQZbQ6Nms7R5OBL78CxigzusbGSL+vVYt8afZfbpyyqznHkTkoigZ1s4kMMRznza8ZIj/G/0JGCNjjZmnySs44BtETOkh0iCgQhKi7HSf9RZP84HtB74gqXiHH//MRXhS5NBnYXcIup3/d+GqgAQiK2kWUoATUIGpbp4gYa6WSa4OkKjC4gOAYOkUs/tcYLMSgmAJSTbAEn1nRp/Q5pxH6TiTaVVjr8lhkzTgCSzWxAD8t+11O0qlN5KWuQ84j/+1jE/4ARpQFNjL428kOgKXGcQX7gVWnUQMFkUiopNn8QZUtyM/jc6CERag+xwAajXk3KA4yTo7B3mpI6jolMKCHdDrh+n/3EdAPMC+GAsweH/0pTSGAR2emaghXFAt/n/lvVAKAAjAAG+GOYZZJHCaxKqhWa55bciuSdXhtGB1r8bLuoGwU0ulhidt4EAKkXLsUzBIIplkhYsee79eq/gNqLPquY7m4tZugLIlWdifxf3J6Mv1EqFWDQJ4QvOF1EbW50S0YMTwYQRlv/oDDkoMcY7/+mcE3BVA6zR001IZK5JHAAUilSKMcrJmOUdi2OTIzwP2pH2X5mPGMrslrA994ul8709r1r5sqxo8sOBuVJnkhUjXaDv1chd8TBKI7/+1jE9gAR+QFHrD46MoCgqPWZY45Yv8ueDPlQWBONjf/4FojEn/+fXFcWHcQMFGQQiTACNUmLAg4diLSlgpApWoq7jyCV6bbXVa2Sy+4mUTVVoJeUtY8D/S5M1nMO3Yi6MqurbL4r5sZVbUqlNI2Bnc04dJctXGCLpQxi/7rd903bDxlV7lwZYDdAshRiDJuhTFIBkEFw+szL4bOJGJyJf50YqucKIo4+RCce2//46pUBWiqEIVPa/8bqnd3MgpEylABNFeAoej4zVBGWbgEUbJmR5Es3pTR5GhQcWmKF+RJxZfTR+WIInthySzMOVbLGQsEitSyubvZSSA13LOsu2/z7S+ol8TFsAya3B+HfjLSV2yPv/tW4EGFZbD1mRmH/+1jE44APIP887L22QWuf7TTzs1Z4+OYM8VyIlxqzpQCxgWQI/K3yyI1PNqTD3QVYN1hKRIt/3N6BKjDAXwFI1U293/+7az3qXQAAWIJTmAJwR8z7BcWbkKRQpMdXos1YaNv8093MKyJhPb33pikXbJIepDQgp/k1J6a0UgYjgnbiTRDI8jKuS4tMtc49C6gBgfkqVFa+8scV4rN//tCYDeMdl7q/K45JFhmj3WNwN2LJHUSH6TaiHk8SQt5MCbzVv+s4McCuAaQlIhQ1/6P9nQAC1MABxi8jDpwEcUwJCpCIT0ESRAehzuPODQS1ocnwcCWdZjM1Crl+uh2f5i8pjL8UVKp2MhFNqB05VPK1cxI6Vur7QtWN5Roa8jFo9kr/+1jE/wCSJQFDTMcaslogqKmYv46iS8HR//0wJqDtCNs7VFYY6kOUepPLO9bemUNIlof5z7///G6TAww/UMvkMR/92IGLLARACTSBF27/L1ZPXFHPMppVBOESnOAHgIYhYkIFYStlAe+pUMIj0bGyTkccbjBG4Md4usqFP6wMhpi+5qz9SnasSnF8qBdyKs1I8XwaymmLIonuDqixftBlNvJYpiUiNEdTqdR0YE3+ShoF0JAOe//k0jBvhzhgSMGT/8rAEwe4kDA//+kNQSkpwAeSXWADKKgXAhklBdAdGJqyy7KPX+1ux6WxguN4kUvcmydxyboNPPJkBXeg407EK2STdYJdJ+4xHVm8O8gwru+T2bfTppEPKvRI8VoAyIv/+1jE8IIQ7P9BTD4xUkOgZ42nztqYiU8+QIdZW+O4ihSGiI2P//JsY8cskyqUz//ZaAXwFiE6hL/0/7v1qgAaKJKKUAIqq0jL1AUJLREpn5h8iMnhYjIGI0uPzLkKU91XznotQrl371x95ZJKH7IWo+OuXzd6TZRtw3HbSpKc4tqSypFtOqAKBjGGOrzHIllLP/4JUYEX1/OJAjtQ5/XC7cf/5UcvFuDvIdZORY/azrm//F1JSLUrgWIRydrNNV////MUE2UoVSXx/+3r9IESDiKwAHkVQNGyBH5nyc6xBUbQkxnEeC7n5vJzhHTWpcYjXBjHIaLKciZfJGVWE0IWUZ3Nl3FnT4YCtoj12iFmVUmINd31G832I6mSdxv/KMr/+1jE6YIOgQFG7L2r0fCfqKmXyiJ6K+9WaP6ZjK7W//lItKLJJG60eM/yrP//tTnctGnvUqsTX//8dSKAOE5AfheplgAUGBJJMAE0MpVRYSji2JA19yRbEFgYAflaUIo/JCYo8mtsLC6dx4ynRDUkyCrmyZU6iHIwsunrWd8hxTM2rUVopgE2QJXLSvUzfCRKEsU7K7/bTpGoJe79vbpjpM+tRKDmDcEndcdT9R1/iIUJ+U2rNTb9QzBFQtwUYVpg3/+RAYEtuAAnA/RdlmCA5uQAAy4uaP4CgnAex3YpLOMyIDNSm5itKoxmsuSy2pIlpP5jMXYPh7Cn527HYdsVtTOE9bUUVIpo4D6tSmqWdsz1TF4oVjWfRIwGxXpGbET/+1jE9oASBQFJTGHt8gOgKWT8PCejVeu/v1KTCpSUj7UCo4etUkdfp/LGH///9y4+kXlk53/z3/17e5HQKqu037iQS/8vagAUAg8QAADfDQkacxiGcgXQQBmYUHwMmsgC+UYqGmKjRBEFbIQIGghUXBiuwMzseL0gZ8UxoxoERvBggZ0DgEIHQ0MZ0hkXAaDrgTVgcwcYYmgaBRVBWIPopCiQwLSEQFD7RXrQJmTqpQrFslrrtXMZE+j0dA6l8YJQSTv5SpgIzgZDDroKCpiI0sOKjY8OGIFoyFFZagLhNR8YdTmLXlm3aZJElhHYREVXXuIUwRkhnYkBRkwkOV4ZsCmOFJjgAYMfKxOVD0zVX0vJN0tKLBxiISNAZbgIL6P/+1jE84IQAP9LTD2t8jcgaSqxgAPn////gI/NxiDnz000WfP/////LtUKHr33gAggp0AF+Za47WGP06Bqn0EBMhqEF/MTeFyAg9YUUmTVBz6RmGDQ/ArH1l1EmRyTQ8VmUbZmT7Hk0kUTqBGk6ARwsog1aK2NyCB9isfMiHF5m6gzgnDc6nWiYl0uou//oooo6kkko/E6EhBiCPlkDFUQMTyLNEJxmQvcQY2qAAhUkFvgAaZL2+g1kmy/kNDrFZ36fGRtBd+/k0tW9auo2y6VTF92WGlMZ2ta58flTFXqXrM0fKh0/1JMTzlEAGZVTRol83G6TJEjFE1FdRJ88cJyiAUYXINKZfWZFUbbf//1CkSiDQYMkLOosFnWNGMyB5j/+1jE8gAeSSk6ea2AAfQgad+xIAIKGWiNS6AjAylE0YFe1gjO7KqsfLBEhkMYmpNwna16bawM/fn3l19qLCKQTWNfAf/Sto7bO15z+FjDcioO3L3/jyJ6xMjof7/7zQCGCvrzulhtsqUWVMdrtrCy8tPV/LBL///6YfY3CIwpEmj1tYDnAXaGlm8ACAQQU+ABbHpdlZboUgsC/QjAQ/YU9REs1ZxqbyAEkBiVLlSa3fjYyQBx4Ggxp2/ksXbx5VjZRuDOVWmQ1jL4pz63u45klNeP8sf1jOLyYTzus4dgRlsJh11pPmA4o2jRBafzMnEv//8qhkQhoJTAmEih7VsW7I0EcYKyoeNCnnSAAApcAD4U0EP2ULpQ8Q8sWhKTM1j/+1jEv4BPLQVNTE8XEb4gKaWHz0IIW9znWdtHXe39mkgH92ZhuY2afiFL+XwVQvg69JNTVvGX5bpMOfMzECwLWPVItY5+rkvVvZi6nO6kkNy+pTzHcgKcT7KW3yVIv///yUIaiJ5DmINkeF+CUlzhUXBGbRnpWq8FWJmgpOAESIDXXA7T4ASng6A5DAjYpxvWh9+CUOS9pBMST61h/CwkupdbFMa2o+hPGxs3RMdKW1eMbrWX7ubwsMPwAVza/9XJGJItNfD9PqWI4Ne6ALwMA3WcV50WMZr///jqJIzF6GZLzV1qDAg5wKgagQN6FBgSLIiAgEEgIFVS+JChAJAEgmQKUNFU3cFkpgTJgTD3N4rCWzpZuRQAkiL3F+tKem//+1jE0IAQGQFHTM88UeEgaN2JY4rcbuIUYsOTcYS3WKrylbws4qQTYbnjtYFUwBDn5dI4oqd6O4/XhMwQgggCG1sWcnabg7ViH5JfxBRl0vlxT+dGS3///qWPoUqvy+IgjAYoAGcADaFsoUucne0ZAgp5VNHduLqtYZXE56MrJanPTcrgC59O+w6gDRqU7XNxCUhFZcuaOSOlvGfLR2OzLBfHUXicAb2QUr3WigOsUwWNjKcI8x+LSWSQJb/NP/+Ogdg5h7OEUKIQlAtAlFf3QSURNBpmI3L1qcAJdSQY7wCMiymzPyWSjy+V6tzTaQBNLYg6vyOnEAFtk12cFgbD8tyt+guAP3J4hD/abi2pcwpzJ6Z7dpl9S2Ykz32/u5v/+1jE2YAOZQFRTD5Wkgcf5sWtttLvFek6bdfv4zKyoJuCufRPk+Rxt7gIhjR+FAomvqQC3okP/8qIJCbTGWsSUJVTesB/BaiWd//9P0UgRKEAXdwBPCli7Ah5ZmgZI4jD0Acw9cYCoWjT9YqEAaSI1ZrbPpdVb1nLxj1rVE3P4u7sEMPJAI4uS7GGd6DPyhuBbHx7B3YxeCZWe9+vTpB+BfB7VsVTAtNkXPghQLKD61fOixC5S1/+moaxIBiUuM4rIgIR4FdBXCOPf+7D6Yp0HSS3L/z4vfPellfO0ipIABmi2KA9xSsLh6un7OpVXFUnpCLhGqp3P+jADJDUPYg5Z4LaiHi+0rD+TwVa5y6W78zOHiKmYDNpWWmOIkxZgvP/+1jE5IAPCQVG7E8XGfmf6SmIN0oqVEAt1tJ5KieG5eS8rCxZv/4+E9SicQKxMViWh5U3hdCQKI6KBAAtgHYLHgpG4iA0qB1CRLEjEDTAoAUuLiLrg9YFRsdECQVm8WbM6UBLhVnppp2VYRco+TzJwIXUlKOBm5XWfwJPbmJC1+G2jynK/7WI2uZnFc7rRSycgPF68lgwYUduYBQLy21RlTzb5QuVSjRZzLjx///7a/YHseBX//yx0UQ6JEblmIwSZPcxMf/4GGfiHlYuAEspQLmAAlUQaCGLFSDljYE0UxosqTDQSElmFeNoO9DgrGJxkq7cloFwAiuTAEIkhth+4VZ3JyI5yOmC6REISFKGZm6kQPGivWcJQlRGp5K5ZIz/+1jE7oARcQNHTEsakauf66j4twbWaRZoc4NVGy//H0LCbDeb8bxTEiGNLrnBnxki0sXZEVNeYEEHwIUEATZGTEFNRaqqACBREFy8A7TMTRYBQEu5ZYksCgGWPLVewfnBpCNs0ZT1aBjch9u072mbsPP7ZUOnYDeJjbNWmoJYXAMj3ds2Kr0tLi9fkzHL1g0upcqPVXyGEQMIFxNGlZMKJ7OwCQGsFPPGrf6z4cpAkcf/9qWiRpcdxyKdVDpNNKZLNY+v/kk5+AHSFzu//vPaW+gJpNqNplOQAHKnF4cBc1Y+cUec2TYZlDVF3YC9JGBmMvTUeGyBSb21XrGZb9ecnk8XzRorU6KRagrupALOup1LcsEeaDT7Vt5NkENzzP//+1jE+IASXP84zWH6GfegaWmHxTr1jrb/lUnXKxFSqcKJflFv8j6KBHGqagI4ZJBTcANB0KtQeFgAhR9FoLvSPbm/4VEeBTd9HltsyQBO1Yss1gKWw5HCqGXgqwWm+/vKFMKFMOf1wa0krUL0y5QxYdVCXfEMoZh2UGPRTVf/kpfFOVkZQ/bpPmpHjz6mL/C5ATxWCQMl/9INUETZ/zgjIWcHSkODVwkw5hFBCSOkcBffj+USHZGCM5f//20AQAAMeAN9vGUAdLAxkmsogJ0DBIRmxkA6St9O1NroVCuqnsEGnDpc5S4NiVMZXSTdYcglbLfUUfZLKqFx4/e/tqOV2TJ1rnvdo68NUUqMZLrR6W1HQkarPQGWI1e1MoWp5u3/+1jE8oARgQFHTDX6UZEgLDT4Lx7MKkFIQ4uku3/xhxk2/gUwOIHWCEGoF4AaAQgT1gS4X0INL2ECBvMbf+laRr0OIZ1b6Wl6EFipoKbgACHVmaexFMzzQchSDpiQRLVBqGKtxiXKlmitTlq7sHADlbIYhhe5m1RIeqFaWxp+WS86MByEs3A1b60H1b/2gKM8xypT2hQdX191ePkMJyl9f////GGA8vf///p3JGRptoG8OB4zXVuVLr497rzKhQASSpAyXgG9SYJCcIwKlCp22j9t7GmeJytDdVnrOUW4ymLF6ec26Nm0+CewlvR0RUEY9HV5VFuJUX0R6VmgHI/YFsKGLfZTJy3JkGsWSTolU+KFF2HYPTJZg/mUMXBicOf/+1jE/4ASLQFJTMMccligJ12nt0Ic/8mg3RsQT/kAEJBmC8CAo6C48pn5ZJN8Ywggf8kHf+U/sf0VAnmpRvANl0406RQ6PjRVaI4vxiqgLBFxSV4VuEW4YXaz2S38obuwJMIIwlKD4IZw71+URpjuo+KBv1V5nKK8hY0y7/1nFasoEDXeWf3aL4uQagLJ5MpFdEtdcjQKooIvl//qGUDfRPAtv+xByaIMI8Dmh0hCk5G6Tkoj2fw/wYTAWiQUAEipQTt4BvTmSqkKIGVhFDXdTaSAjC9WVNXrvwIHEWn0Xi4dWtqTalDqkg4KYksYeeW923ktl8VVstQ7lnG762GXu7vXMK1q6CUd5d/lwQQL4HoZNIt1czRf/1SPsMHE2mf/+1jE8QAOxP9RTDHk0hUf6OmXzoq/8VuIzC5lkv6x8kBJsMGAjRjQJQjeQEgrlEQtz45oY+Wm/9j0ddD4vUoAAPAA7SHN56TAQ8zKrMpShCiiQqFUw2gcMcDUpobGgJE8vgZHUm4AgZfsv2+jpxdAe8z/I7pcBvletcwwFHzsNL5SghmKl33NilPaZTFR0AWlJhGXuu/zQnJeA5Hp7n1hGppDdOdAei4NH9TMphL/3v/7kBBvhfaD/9ZIjmG0h/9RWMACtBMw5AOsl350cp7k8AWC65AAE4ADkHzii2ymScmRNCI+wFgRtCiYUhelf1FNhYMaYJA2XKM0FW7Ar3wtvyUotzEnAEYbi6qwtvKSB2Sz1b5Tli9CaDUO+/k47MP/+1jE+IAQfQFLLGYPci4gKKmXw0LuYcct3VX7sqDYANI3AKR9TF0eH0i6A5xNEjf/rGKJwG4Ob/xnDfGSDpAo4XgeSv9xBAWwU3oAYFCgnMAAlE01WrAwMvEh3qoziUil8uWXB8/NsNYrH15Q/LabBuF+7agImHpsE3YXqOwqm8UT7CZshU+GIKMiXmJdapHADH1/jY3gkw5x5LcSG0/Gv886BUBAhLnv/FCEkMue/p3LpmxSB5iGr5xkF1KDBgoMO0fACBgkFy8ATJOOFhoUBDjkOcbLCqDrFziXj7WW0XUrIZlLlhakQwtaMUJsg0qcNhVQWyGq3yQAmVWzsx4zyrwLoN5s6pkskQFebMjoivkcMaH0usukRN/JwPZC4MP/+1jE9gISpQEwbemtwgWgJ12stXouDkJt/sJuFCCb0zf8bq3sGXCfHNEak5VcZMeORgeoITlZ//0rgCiixdUA2ZiQnbwCYQ3Y2Rl9R5JPd1yQ8CymAXA7VCg5lcRQ1KBY+l++j9XpdA1NLIdIDTkEWVAQgIRox48N/CGkQKlTKLRrrCZK4s7xc3MEQRg+ibNOEUBvUjgrdIh4t5PdQzwJUTuSpOo/9bkYQ8n2bP1f9ljwuwCDBmDxASTx+fLBQn/rxLiHZDv/2/3dAABToAleHIrZjYiYUMhF8AQVXYUMQgneVK8cCEWn5jw4qRethf9ujF7MgQagWVRqcF/YcgQdWEke7ZFA8kfYQCMOlluSTsqddEwtbO230+CpHKSPpzb/+1jE8AAPCQFHTL5U0hef6KmXxTpa8NmVuml7IC8xMLlQ5x6Zs8//iTAlwHEO92+TC2dJcuCOCW/3P5wAExcGR/6lCEFv/9jUKgAIVAAT2AB6w66cBO05R6cpm7RUHiQJVjLkCCebW1OxCpWrSzb+vhVjanbaQ3TEJCQsJb0UCPA787TdjD1s1rZSqTfAMOLs3Yq4V7VgNbWmaf72QwByhGQstKsul9/iQBl0WITkn+bFuWRzxcyhwGvbq0hWAbNCAoxP9dy+H3Co3bP8Xf0op0sUAJDBILu4BXIeZYc+4A9tAdGKlhCyxZG2RmryLDhZbQ6rsMAZr8g5OTMayJnzXrBwLr5VV+jWK32vis7qTCEapeapML2V8MNuvW/UwPn/+1jE9gARbP9HTMX4kicf5s28tboTuZAwy25NnWP/E6jHDrN2S+XUpiMyPZAhOpXQ0ut3SIKCDRDRSpfPof1lkQuCK0v/1bfoTVUAGdUgVP8BLADzi2YwINPTtCOyizUVbE3ZbjKWDsMKB31T4UKJpItPSXGKyxAsISdJwwuWrHrT6xrU0IhICxljY/oJ4uEgTg/VD9/dIWht65zCOCUCFCZgOI3YuE8kz/wq4tw556/+onjCCSjwNu3ZqgxAnAogXYp16DU/d6lpiwFL17a6NcVZYqvuRd9/bq0ABqKiE5eAZwwPWJnyqcJJRjyBse6cdcr+Nmks+VAlC2UVW62PxfS/esqoiRlSA1IqiorTca+n2S6aBN7nu6jpKO2f/tv/+1jE8IARHP8/TWJvUgogKKmcSXrHZwFr/GsQDiDYBlkgcWCrpXxtf4dAUgcuQAtLaiRP6mEaFwdZ5e/dVSAfQbAzg5R7koOzx1hkMSZ3/rfpZ7ndagQl1YngAMQicrUVQK6djFySaT/nOi0C+hBQFUkhxkBjzde1mMwA1dMBGPXwXe8naqNpFQ4sdZ3s00rstAthZ3tWOgjw5EC4CWTPi5yg7ckCBlsppr1Ek/1j5GUJct/1ah1B1BvisCy6sjh2+SpqfCAmpIJy8A4HCLYaKFUguUyh1CAwWuZ25zpqEvg/QwpOxONMDx7S5NrF2ziE4QhvE5Bcdms8EF20rhjCzllgsDFOQFCwYyxlGqVQsm7rIeGkCgRGAF5LSSAz5EH/+1jE8AASDQNFTLc6khQf6OmXxwq6x9iyBQwxx52nBdfMzMRyWhnDTt/MwwSGEBRS8/V6yiJsFH/+2moESuWgXrwDqYNkIWCGUAEI7LaCqgO+LbwO+K/UnFFwakLGLzTzcRU8KlAWDYPVh+uTbxqcLAd6WUK3L77QCEQKIWuwx4RIRsgX64pjVJQJnPxuq+XDIkSvpK1RGbX/l2VB1IqOPx3v3KDvf/sle511D5CTGyON0Fzv67asyZhIWSEQgSRbt1LG6f//6jIF3sWd//0q7HpBBClIFy8A0tAjpGILhA5hRNoCLy3nbZM8d6aetR9LiHGvPYvaAmAF9Ea4FYIjuEGktUdSweJtfi8LpoHQTN7Y4+2EEPcLDBwpBhd/uMn/+1jE6oAN2P9PLD5p8gYf6OmXyopFQUFjLuViWNyT+UnuX6zqXv/96UcW2mAp+3v+rm1rkfo6r5Miaww1Pdn0L73//dSP0UpS3dJuMY+YmZTI+//zCE+GZF//11LZ5VEBAFoH8BFJubcCgBH5rZbxl5gK6iszfLLg6biOLy8b9/HelkScq01mUVJA7mMvfqnoWGtnh543rXrEmpQ4GBnZc/38+NyCtrPTZd9faFSxrLpQHIIP3z8++wVj9TPUf58ugKX61J8MOaa/R3/3jqpqlhF+3nqvG8nf0zJk8ujDvw1EKd+q9Wd//////gSZYA/ff////8eGGgGnte1y3n2kwwp///vcQkpLHYmkmADgYlSzUcqUSKOUDAIksZj9VFD/+1jE94ASyP9FTL82kmKf6KqzgAJQESUZmgYCFeqq31VJgImFNqqrVVV/sZmZm1bZgICY+qXD1U/ZmY+qq//VUBRHGgoL/UxBTUUzLjk4LjRVVVVVVVVVVVVVVVVVVVVVVVVVVVVVVVVVVVVVVVVVVVVVVVVVVVVVVVVVVVVVVVVVVVVVVVVVVVVVVVVVVVVVVVVVVVVVVVVVVVVVVVVVVVVVVVVVVVVVVVVVVVVVVVVVVVVVVVVVVVVVVVVVVVVVVVVVVVVVVVVVVVVVVVVVVVVVVVVVVVVVVVVVVVVVVVVVVVVVVVVVVVVVVVVVVVVVVVVVVVVVVVVVVVVVVVVVVVVVVVVVVVVVVVVVVVVVVVVVVVVVVVVVVVVVVVVVVVX/+1jE5YAUvTlTWYwAETCeaTeMMAdVVVVVVVVVVVVVVVVVVVVVVVVVVVVVVVVVVVVVVVVVVVVVVVVVVVVVVVVVVVVVVVVVVVVVVVVVVVVVVVVVVVVVVVVVVVVVVVVVVVVVVVVVVVVVVVVVVVVVVVVVVVVVVVVVVVVVVVVVVVVVVVVVVVVVVVVVVVVVVVVVVVVVVVVVVVVVVVVVVVVVVVVVVVVVVVVVVVVVVVVVVVVVVVVVVVVVVVVVVVVVVVVVVVVVVVVVVVVVVVVVVVVVVVVVVVVVVVVVVVVVVVVVVVVVVVVVVVVVVVVVVVVVVVVVVVVVVVVVVVVVVVVVVVVVVVVVVVVVVVVVVVVVVVVVVVVVVVVVVVVVVVVVVVVVVVVVVVU=\" type=\"audio/mpeg\" />\n",
              "                    Your browser does not support the audio element.\n",
              "                </audio>\n",
              "              "
            ]
          },
          "metadata": {},
          "execution_count": 22
        }
      ]
    },
    {
      "cell_type": "markdown",
      "source": [
        "#### 10.4 Transcribing the Audio Using Whisper API\n"
      ],
      "metadata": {
        "id": "h2hhI4j2WdoK"
      }
    },
    {
      "cell_type": "code",
      "source": [
        "# Read the audio file into a variable\n",
        "file_name = \"conversation.mp3\"\n",
        "audio_file = open(file_name, \"rb\")\n",
        "\n",
        "# Use OpenAI Whisper API to transcribe the conversation audio\n",
        "result = client.audio.transcriptions.create(\n",
        "  model=\"whisper-1\",  # Specify the model to use for transcription\n",
        "  file=audio_file     # Pass the audio file to be transcribed\n",
        ")\n",
        "\n",
        "# Extract the transcription text\n",
        "conversation_text = result.text\n",
        "conversation_text  # Output the transcribed conversation text\n"
      ],
      "metadata": {
        "colab": {
          "base_uri": "https://localhost:8080/",
          "height": 53
        },
        "id": "ZV1-MqPYWjr0",
        "outputId": "9ff0af8f-42ea-4509-d1d6-bad56f1cce42"
      },
      "execution_count": 23,
      "outputs": [
        {
          "output_type": "execute_result",
          "data": {
            "text/plain": [
              "'What is that? That, my friend, is a magical combination of corn flour, dehydrated cheese solids, BHA, BHT, and good old MSG. A.K.A. the chip. Nacho cheese flavor.'"
            ],
            "application/vnd.google.colaboratory.intrinsic+json": {
              "type": "string"
            }
          },
          "metadata": {},
          "execution_count": 23
        }
      ]
    },
    {
      "cell_type": "markdown",
      "source": [
        "#### 10.5 Load the Diarization Pipeline\n"
      ],
      "metadata": {
        "id": "xbNxirVYWvFO"
      }
    },
    {
      "cell_type": "code",
      "source": [
        "from pyannote.audio import Pipeline\n",
        "\n",
        "# Load Hugging Face token for authentication from Colab Secrets\n",
        "os.environ['HF_TOKEN'] = userdata.get('HF_TOKEN')\n",
        "\n",
        "# Instantiate the Pyannote Speaker Diarization pipeline using the access token\n",
        "diarization_pipeline = Pipeline.from_pretrained(\"pyannote/speaker-diarization@2.1\", use_auth_token=os.environ['HF_TOKEN'])\n"
      ],
      "metadata": {
        "colab": {
          "base_uri": "https://localhost:8080/",
          "height": 454,
          "referenced_widgets": [
            "fc45155abcf34809810888556a741092",
            "a626f0c04fc44496bafccb6eca8ccc1c",
            "575231bbb78649aeada9e86a94a14be7",
            "3e2fa19de10942c6a607a9d2a26d6aa0",
            "21ead8907a5b4326a04d2ca88fc51b19",
            "660f58fef10642f380bd126c207e5366",
            "226e5b83bff64c819c03c321cb52f5a3",
            "9f7708c608f944e5881beca698c6a0db",
            "504cb94606d94034b9309acc6fc08026",
            "9bb38596aab14a59ae7fafd20a51fa99",
            "3418e64fca724b1f91aafd37c1b8cea7",
            "f34292b41b8c4477945809ab667801b1",
            "8d2073d5e3e04db78856b491a4c30ec7",
            "2e0c1c8c0c884cef895577ca6d63d5cf",
            "99fa30dee0344c1ba0038b7d02e23f0b",
            "4704c9bc1cf048359e2ccb7b5014cf0b",
            "e9aa4c62dc8a41ba8c77295c690453ff",
            "853735cea4074893ae32d8248199073b",
            "05983bec7fae407dab9a7dfca7978ef7",
            "37fabf718b30430486fd97be13d51843",
            "7850ea1c13f349a886c4c17039708928",
            "1ec09fd4ed1f4160bbba4788ac36a83e",
            "df1bb423fc96411398138cb9c543a062",
            "5c3d50acd55e4424bce0a118e637fd01",
            "5c54390a9eb84fcfa667401e85188ce2",
            "4fa350f0dfa54c75b3da409714316f18",
            "f87cf3e5908e4ffbb791409db133b2eb",
            "8ecaea8af086401fa174c95279dc571e",
            "5461e9fa306d46b9a27cf70d58a0f141",
            "53da06e4e65641b4b73e0a76331b32eb",
            "c4cf7eb0978d40a597047af77e661d15",
            "90a073ba410343e0a0469b93e0e565c9",
            "cfc393324dea4cffa7082270e076f48e",
            "d8cb75f5e2b94cde8f08682ce1726b91",
            "f1030fe673c44345a1e60e323743a387",
            "0271958eb933402c932202f7310a5a96",
            "fd23bd49582144fb8be7a8dbf971c081",
            "f84a1a3934104763816702c6bc5106bd",
            "cced75ed10d14eeab26abcf4b0878358",
            "19dd0e838653425a91cf19d7adf14498",
            "dee81b67a93341d3a6bcd9f706fd5574",
            "1a390abb43f14050892219c4cc0490e4",
            "1552c296158b48e0946c34139bdd3295",
            "feceb908b5864722acf780cf725575a5",
            "e8780269405f41b5a146b31d7fe748f7",
            "ab3ffdabe2af42dba742fd30b38f636b",
            "e23032abacdd4a068bf417a021f23357",
            "1ac3625463e441a5ba69b3c3a1a81225",
            "64935667899b455bb1475fe046f901eb",
            "f0b296c889b2409b827f0dd3166041c1",
            "3a2983db6a9740d7900fb8e5e99d4bba",
            "2259e773f44740a695b733cbcbd6fa67",
            "f5bd73e129b548a286a650c8e1025bcc",
            "406d720ccafe43d58ba2c1f7b8d65c24",
            "9837a010cb60446ca9cc299a8af42a2f",
            "e03c7cf179954415a5cd19f33a6c5953",
            "a47a17df6a8a403e9e77dae28c00d65f",
            "24e62da5d75f4f7baa6bb6e0e3569cfd",
            "457caa7670df41e4b4887eafe6f09b2d",
            "053ac46720474ceb980414f0296d6ae4",
            "dfcddd22d4e94a168d46d66f31463d4f",
            "f62cdfc6b5de4ad982ff9a7ff4ee14df",
            "94572bd77c7f496b9a00d3145460a875",
            "8c089da9bb0d491d8ec66b8e92c0a1a1",
            "0b9927135596442d9281d6d859503e18",
            "5deecda38b544c4db09db070f50bc6fe",
            "837453d47220492a9a150c1ff906c996",
            "7d7506e3796b4e4d97a9d94f0d463bf2",
            "2caa24c7f3de40cab5b64983da902648",
            "62865e8fd5b944cea7c0ad4e1f3157fa",
            "db3b4fa88f2942faa02ad9c62bb81e9a",
            "fa31f1a486a947a98d4f051535d681dd",
            "b36a4fae5eec4ac7851202eaf953ef52",
            "ef48af326f85403a8a3521049316a981",
            "d6659dffb96c4f63b4e1f49eecb32189",
            "8313b1578aac400487848025e085f966",
            "a4c95a55da274ef5b34baaaba0d1b5e1",
            "c7d57a127ac24c959aeeee8027011f06",
            "e62ec7d906734164a501eedab0a89e6e",
            "7f9b4c14415f4b80ab26c4e5fb5dd7fc",
            "61393e37fa6749a78fe8c3465a84472b",
            "49ab1e6b82334241a0cf4694b33fe918",
            "e6059f65e0d64f6a85ff6fc241ae3004",
            "d75a17fa275b43969828c47903d3d27b",
            "6224c0abc7e04413a4719d1374460d91",
            "bb186227b2474b1c80e5853d0b26bd8f",
            "df23e6e1b6f947b8baf24ba0443593af",
            "c7e3680847ae40ed839d0f3a1d6c2321"
          ]
        },
        "id": "wMjpJTfQWxXJ",
        "outputId": "c945c475-13ca-4854-9f41-7f6aeb656b35"
      },
      "execution_count": 24,
      "outputs": [
        {
          "output_type": "display_data",
          "data": {
            "text/plain": [
              "config.yaml:   0%|          | 0.00/500 [00:00<?, ?B/s]"
            ],
            "application/vnd.jupyter.widget-view+json": {
              "version_major": 2,
              "version_minor": 0,
              "model_id": "fc45155abcf34809810888556a741092"
            }
          },
          "metadata": {}
        },
        {
          "output_type": "display_data",
          "data": {
            "text/plain": [
              "pytorch_model.bin:   0%|          | 0.00/17.7M [00:00<?, ?B/s]"
            ],
            "application/vnd.jupyter.widget-view+json": {
              "version_major": 2,
              "version_minor": 0,
              "model_id": "f34292b41b8c4477945809ab667801b1"
            }
          },
          "metadata": {}
        },
        {
          "output_type": "display_data",
          "data": {
            "text/plain": [
              "config.yaml:   0%|          | 0.00/318 [00:00<?, ?B/s]"
            ],
            "application/vnd.jupyter.widget-view+json": {
              "version_major": 2,
              "version_minor": 0,
              "model_id": "df1bb423fc96411398138cb9c543a062"
            }
          },
          "metadata": {}
        },
        {
          "output_type": "stream",
          "name": "stderr",
          "text": [
            "INFO:pytorch_lightning.utilities.migration.utils:Lightning automatically upgraded your loaded checkpoint from v1.5.4 to v2.4.0. To apply the upgrade to your files permanently, run `python -m pytorch_lightning.utilities.upgrade_checkpoint ../root/.cache/torch/pyannote/models--pyannote--segmentation/snapshots/c4c8ceafcbb3a7a280c2d357aee9fbc9b0be7f9b/pytorch_model.bin`\n"
          ]
        },
        {
          "output_type": "stream",
          "name": "stdout",
          "text": [
            "Model was trained with pyannote.audio 0.0.1, yours is 3.1.0. Bad things might happen unless you revert pyannote.audio to 0.x.\n",
            "Model was trained with torch 1.10.0+cu102, yours is 2.4.1+cu121. Bad things might happen unless you revert torch to 1.x.\n"
          ]
        },
        {
          "output_type": "display_data",
          "data": {
            "text/plain": [
              "hyperparams.yaml:   0%|          | 0.00/1.92k [00:00<?, ?B/s]"
            ],
            "application/vnd.jupyter.widget-view+json": {
              "version_major": 2,
              "version_minor": 0,
              "model_id": "d8cb75f5e2b94cde8f08682ce1726b91"
            }
          },
          "metadata": {}
        },
        {
          "output_type": "stream",
          "name": "stderr",
          "text": [
            "/usr/local/lib/python3.10/dist-packages/speechbrain/utils/autocast.py:68: FutureWarning: `torch.cuda.amp.custom_fwd(args...)` is deprecated. Please use `torch.amp.custom_fwd(args..., device_type='cuda')` instead.\n",
            "  wrapped_fwd = torch.cuda.amp.custom_fwd(fwd, cast_inputs=cast_inputs)\n"
          ]
        },
        {
          "output_type": "display_data",
          "data": {
            "text/plain": [
              "embedding_model.ckpt:   0%|          | 0.00/83.3M [00:00<?, ?B/s]"
            ],
            "application/vnd.jupyter.widget-view+json": {
              "version_major": 2,
              "version_minor": 0,
              "model_id": "e8780269405f41b5a146b31d7fe748f7"
            }
          },
          "metadata": {}
        },
        {
          "output_type": "display_data",
          "data": {
            "text/plain": [
              "mean_var_norm_emb.ckpt:   0%|          | 0.00/1.92k [00:00<?, ?B/s]"
            ],
            "application/vnd.jupyter.widget-view+json": {
              "version_major": 2,
              "version_minor": 0,
              "model_id": "e03c7cf179954415a5cd19f33a6c5953"
            }
          },
          "metadata": {}
        },
        {
          "output_type": "display_data",
          "data": {
            "text/plain": [
              "classifier.ckpt:   0%|          | 0.00/5.53M [00:00<?, ?B/s]"
            ],
            "application/vnd.jupyter.widget-view+json": {
              "version_major": 2,
              "version_minor": 0,
              "model_id": "837453d47220492a9a150c1ff906c996"
            }
          },
          "metadata": {}
        },
        {
          "output_type": "display_data",
          "data": {
            "text/plain": [
              "label_encoder.txt:   0%|          | 0.00/129k [00:00<?, ?B/s]"
            ],
            "application/vnd.jupyter.widget-view+json": {
              "version_major": 2,
              "version_minor": 0,
              "model_id": "c7d57a127ac24c959aeeee8027011f06"
            }
          },
          "metadata": {}
        },
        {
          "output_type": "stream",
          "name": "stderr",
          "text": [
            "/usr/local/lib/python3.10/dist-packages/speechbrain/utils/checkpoints.py:194: FutureWarning: You are using `torch.load` with `weights_only=False` (the current default value), which uses the default pickle module implicitly. It is possible to construct malicious pickle data which will execute arbitrary code during unpickling (See https://github.com/pytorch/pytorch/blob/main/SECURITY.md#untrusted-models for more details). In a future release, the default value for `weights_only` will be flipped to `True`. This limits the functions that could be executed during unpickling. Arbitrary objects will no longer be allowed to be loaded via this mode unless they are explicitly allowlisted by the user via `torch.serialization.add_safe_globals`. We recommend you start setting `weights_only=True` for any use case where you don't have full control of the loaded file. Please open an issue on GitHub for any issues related to this experimental feature.\n",
            "  state_dict = torch.load(path, map_location=device)\n",
            "/usr/local/lib/python3.10/dist-packages/speechbrain/processing/features.py:1311: FutureWarning: You are using `torch.load` with `weights_only=False` (the current default value), which uses the default pickle module implicitly. It is possible to construct malicious pickle data which will execute arbitrary code during unpickling (See https://github.com/pytorch/pytorch/blob/main/SECURITY.md#untrusted-models for more details). In a future release, the default value for `weights_only` will be flipped to `True`. This limits the functions that could be executed during unpickling. Arbitrary objects will no longer be allowed to be loaded via this mode unless they are explicitly allowlisted by the user via `torch.serialization.add_safe_globals`. We recommend you start setting `weights_only=True` for any use case where you don't have full control of the loaded file. Please open an issue on GitHub for any issues related to this experimental feature.\n",
            "  stats = torch.load(path, map_location=device)\n"
          ]
        }
      ]
    },
    {
      "cell_type": "markdown",
      "source": [
        "#### 10.6 Run the Speaker Diarization Pipeline\n"
      ],
      "metadata": {
        "id": "MH_WpQuDXGtS"
      }
    },
    {
      "cell_type": "code",
      "source": [
        "# Run the diarization pipeline on the conversation audio file to separate speakers\n",
        "# Hooks are available to monitor the progress of the pipeline\n",
        "from pyannote.audio.pipelines.utils.hook import ProgressHook\n",
        "\n",
        "# Perform diarization and extract speakers\n",
        "with ProgressHook() as hook:\n",
        "    diarization = diarization_pipeline('conversation.mp3', num_speakers=2, hook=hook)\n"
      ],
      "metadata": {
        "colab": {
          "base_uri": "https://localhost:8080/",
          "height": 83,
          "referenced_widgets": [
            "db669ec011134cfa9cf86ee5a106fde9",
            "15f75fcb0d1f4248a988ec79898f490a"
          ]
        },
        "id": "mrOhKdoaXKPl",
        "outputId": "fc422ffd-2b57-4877-f03f-71a8788ef870"
      },
      "execution_count": 25,
      "outputs": [
        {
          "output_type": "display_data",
          "data": {
            "text/plain": [
              "Output()"
            ],
            "application/vnd.jupyter.widget-view+json": {
              "version_major": 2,
              "version_minor": 0,
              "model_id": "db669ec011134cfa9cf86ee5a106fde9"
            }
          },
          "metadata": {}
        },
        {
          "output_type": "display_data",
          "data": {
            "text/plain": [],
            "text/html": [
              "<pre style=\"white-space:pre;overflow-x:auto;line-height:normal;font-family:Menlo,'DejaVu Sans Mono',consolas,'Courier New',monospace\"></pre>\n"
            ]
          },
          "metadata": {}
        }
      ]
    },
    {
      "cell_type": "markdown",
      "source": [
        "#### 10.7 Visualize the Diarization Result\n"
      ],
      "metadata": {
        "id": "rGn6OfZHXLWW"
      }
    },
    {
      "cell_type": "code",
      "source": [
        "# Display the diarization result\n",
        "diarization"
      ],
      "metadata": {
        "colab": {
          "base_uri": "https://localhost:8080/",
          "height": 167
        },
        "id": "gMUDj12OXO9m",
        "outputId": "b83dd006-d39b-4267-aede-192ba575de96"
      },
      "execution_count": 26,
      "outputs": [
        {
          "output_type": "execute_result",
          "data": {
            "text/plain": [
              "<pyannote.core.annotation.Annotation at 0x79d715000100>"
            ],
            "image/png": "[encoded data removed]"
          },
          "metadata": {},
          "execution_count": 26
        }
      ]
    },
    {
      "cell_type": "markdown",
      "source": [
        "#### 10.8 Get Timeframes for All Speakers\n"
      ],
      "metadata": {
        "id": "U84ZDK2gXQKb"
      }
    },
    {
      "cell_type": "code",
      "source": [
        "# Initialize lists to store speaker labels and their corresponding timeframes\n",
        "speakers = []\n",
        "speakers_start = []\n",
        "speakers_stop = []\n",
        "\n",
        "# Iterate over the diarization result to extract timeframes for each speaker\n",
        "for turn, track, speaker in diarization.itertracks(yield_label=True):\n",
        "    speakers.append(speaker)\n",
        "    speakers_start.append(turn.start)\n",
        "    speakers_stop.append(turn.end)\n",
        "    # Print the speaker's timeframes\n",
        "    print(f\"{speaker} : Start={turn.start:.1f}s Stop={turn.end:.1f}s\")\n"
      ],
      "metadata": {
        "colab": {
          "base_uri": "https://localhost:8080/"
        },
        "id": "56wqdsTvXUUB",
        "outputId": "8063dd18-b809-4258-e18e-2553c1dae63a"
      },
      "execution_count": 27,
      "outputs": [
        {
          "output_type": "stream",
          "name": "stdout",
          "text": [
            "SPEAKER_01 : Start=0.3s Stop=1.5s\n",
            "SPEAKER_00 : Start=2.4s Stop=13.4s\n"
          ]
        }
      ]
    },
    {
      "cell_type": "markdown",
      "source": [
        "#### 10.9 Transcribe Audio for Each Speaker\n"
      ],
      "metadata": {
        "id": "Ka7NMTUAXVGU"
      }
    },
    {
      "cell_type": "code",
      "source": [
        "# Import the 'Audio' class from the 'pyannote.audio' library, which is\n",
        "# used for audio processing tasks such as loading, cropping, and manipulating audio files.\n",
        "from pyannote.audio import Audio\n",
        "\n",
        "# Initialize an empty list to store the transcription of each speaker's segment\n",
        "speakers_text = []\n",
        "\n",
        "# Load the audio data for processing using pyannote\n",
        "py_audio = Audio(mono=\"downmix\")\n",
        "\n",
        "# Loop through each speaker's segment and transcribe the audio for that speaker\n",
        "for i in range(len(speakers)):\n",
        "    # Define the segment (timeframe) for the current speaker\n",
        "    segment = Segment(speakers_start[i], speakers_stop[i])\n",
        "\n",
        "    # Extract the audio for this segment (speaker)\n",
        "    waveform, sr = py_audio.crop(\"conversation.mp3\", segment)\n",
        "\n",
        "    # Save the speaker's audio as a separate file\n",
        "    torchaudio.save(\"speaker\"+str(i)+\".mp3\", waveform, sr)\n",
        "\n",
        "    # Open the saved audio file for transcription\n",
        "    audio_file = open(\"speaker\"+str(i)+\".mp3\", \"rb\")\n",
        "\n",
        "    # Use Whisper API to transcribe the audio for this speaker\n",
        "    speaker_test = client.audio.translations.create(\n",
        "        model=\"whisper-1\",  # Specify the model for transcription\n",
        "        file=audio_file     # Provide the speaker's audio file\n",
        "    )\n",
        "\n",
        "    # Append the transcription text to the list\n",
        "    speakers_text.append(speaker_test.text)\n"
      ],
      "metadata": {
        "id": "ex3fSnnkXYeR"
      },
      "execution_count": 29,
      "outputs": []
    },
    {
      "cell_type": "markdown",
      "source": [
        "#### 10.11 Display Speaker Labels, Timeframes, and Transcribed Text\n"
      ],
      "metadata": {
        "id": "Io8F0DwZXbhP"
      }
    },
    {
      "cell_type": "code",
      "source": [
        "# Print a formatted table displaying the speakers, their start/stop times, and the transcribed text\n",
        "print(f\"{'Speaker':<12} {'Start(sec)':<12} {'Stop(sec)':<12} {'Text'}\")\n",
        "print('='*60)\n",
        "\n",
        "# Iterate through the speakers and their respective data\n",
        "for i in range(len(speakers)):\n",
        "    # Print speaker details along with their transcribed text\n",
        "    print(f\"{speakers[i]:<12} {round(speakers_start[i],2):<12} {round(speakers_stop[i],2):<12} {speakers_text[i]}\")\n"
      ],
      "metadata": {
        "colab": {
          "base_uri": "https://localhost:8080/"
        },
        "id": "GJbAEgMzXfbp",
        "outputId": "c1ccd4e2-cd0c-40ec-a3e2-9905f5a469a0"
      },
      "execution_count": 30,
      "outputs": [
        {
          "output_type": "stream",
          "name": "stdout",
          "text": [
            "Speaker      Start(sec)   Stop(sec)    Text\n",
            "============================================================\n",
            "SPEAKER_01   0.28         1.49         What is that?\n",
            "SPEAKER_00   2.4          13.4         That, my friend, is a magical combination of cornflour, dehydrated cheese solids, BHA, BHT, and good old MSG. A.K.A. the chips. Nacho cheese flavor.\n"
          ]
        }
      ]
    },
    {
      "cell_type": "markdown",
      "source": [
        "### 11. Gradio Interface for Transcription and Translation\n",
        "This section sets up a simple Gradio interface for users to upload audio files and select a language for translation."
      ],
      "metadata": {
        "id": "DrJPCdcw92Ed"
      }
    },
    {
      "cell_type": "code",
      "source": [
        "import gradio as gr\n",
        "\n",
        "# Input elements\n",
        "audio_input = gr.Audio(type=\"filepath\", label=\"Record or Upload Audio for Transcription\")\n",
        "target_lang = gr.Dropdown(choices=[\"English\", \"Spanish\", \"French\", \"German\", \"Italian\", \"Japanese\"], label=\"Target Language\")\n",
        "\n",
        "# Output elements\n",
        "transcription_output = gr.Textbox(label=\"Transcription Output\")\n",
        "audio_output = gr.Audio(label=\"Translated Speech Output\")\n",
        "\n",
        "# Interface\n",
        "demo = gr.Interface(\n",
        "    fn=transcribe,\n",
        "    inputs=[audio_input, target_lang],\n",
        "    outputs=[transcription_output, audio_output],\n",
        "    title=\"Whisper Audio Transcription and Translation\",\n",
        "    description=\"Created by Shantanu Deshmukh\",\n",
        "    allow_flagging='never',\n",
        ")\n",
        "\n",
        "# Launch Gradio app\n",
        "demo.launch(debug=False, share=True)\n"
      ],
      "metadata": {
        "id": "QkPzww4Y94Pc",
        "colab": {
          "base_uri": "https://localhost:8080/",
          "height": 612
        },
        "outputId": "4337ab2c-fd58-422b-dd28-ac5628d0702e"
      },
      "execution_count": 32,
      "outputs": [
        {
          "output_type": "stream",
          "name": "stdout",
          "text": [
            "Colab notebook detected. To show errors in colab notebook, set debug=True in launch()\n",
            "Running on public URL: https://7ac5bdc79cc39e4990.gradio.live\n",
            "\n",
            "This share link expires in 72 hours. For free permanent hosting and GPU upgrades, run `gradio deploy` from Terminal to deploy to Spaces (https://huggingface.co/spaces)\n"
          ]
        },
        {
          "output_type": "display_data",
          "data": {
            "text/plain": [
              "<IPython.core.display.HTML object>"
            ],
            "text/html": [
              "<div><iframe src=\"https://7ac5bdc79cc39e4990.gradio.live\" width=\"100%\" height=\"500\" allow=\"autoplay; camera; microphone; clipboard-read; clipboard-write;\" frameborder=\"0\" allowfullscreen></iframe></div>"
            ]
          },
          "metadata": {}
        },
        {
          "output_type": "execute_result",
          "data": {
            "text/plain": []
          },
          "metadata": {},
          "execution_count": 32
        }
      ]
    }
  ]
}